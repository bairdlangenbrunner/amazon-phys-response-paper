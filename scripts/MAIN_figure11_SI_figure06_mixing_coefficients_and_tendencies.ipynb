{
 "cells": [
  {
   "cell_type": "markdown",
   "metadata": {},
   "source": [
    "# import libraries"
   ]
  },
  {
   "cell_type": "code",
   "execution_count": 1,
   "metadata": {
    "ExecuteTime": {
     "end_time": "2018-08-20T23:26:27.792023Z",
     "start_time": "2018-08-20T23:26:18.306429Z"
    }
   },
   "outputs": [],
   "source": [
    "import numpy\n",
    "import xarray\n",
    "import matplotlib\n",
    "import matplotlib.pyplot as mp\n",
    "import datetime\n",
    "import matplotlib.colors\n",
    "import scipy.stats\n",
    "import itertools\n",
    "import string\n",
    "import matplotlib.patches\n",
    "import glob\n",
    "import matplotlib.gridspec\n",
    "import scipy.ndimage\n",
    "\n",
    "import wrf\n",
    "import netCDF4\n",
    "import cmocean\n",
    "\n",
    "import pandas\n",
    "\n",
    "import matplotlib.ticker\n",
    "import cartopy.mpl.gridliner #import LONGITUDE_FORMATTER, LATITUDE_FORMATTER\n",
    "\n",
    "import mpl_toolkits\n",
    "import cartopy\n",
    "import cartopy.io.shapereader\n",
    "\n",
    "DEGREE_SIGN = u'\\u00B0'\n",
    "mp.rcParams.update({'mathtext.default': 'regular'})\n",
    "\n",
    "% matplotlib inline"
   ]
  },
  {
   "cell_type": "code",
   "execution_count": 2,
   "metadata": {
    "ExecuteTime": {
     "end_time": "2018-08-20T23:26:27.810618Z",
     "start_time": "2018-08-20T23:26:27.803454Z"
    }
   },
   "outputs": [],
   "source": [
    "run_info = 'FMAASO'\n",
    "skip_time=0"
   ]
  },
  {
   "cell_type": "markdown",
   "metadata": {},
   "source": [
    "# opening mean fields"
   ]
  },
  {
   "cell_type": "markdown",
   "metadata": {},
   "source": [
    "## control data"
   ]
  },
  {
   "cell_type": "code",
   "execution_count": 3,
   "metadata": {
    "ExecuteTime": {
     "end_time": "2018-08-20T23:26:28.094186Z",
     "start_time": "2018-08-20T23:26:27.821118Z"
    }
   },
   "outputs": [
    {
     "name": "stdout",
     "output_type": "stream",
     "text": [
      "001\t\t\t001_MYNN25_scheme\t  001_UW_scheme\r\n",
      "001_ACM2_scheme\t\t001_MYNN30_scheme\t  001_UW_scheme_10days\r\n",
      "001_ACM2_scheme_10days\t001_MYNN30_scheme_10days  001_with_extras\r\n",
      "001_MYJ_scheme\t\t001_TEMF_scheme\t\t  001_with_xkzs\r\n",
      "001_MYJ_scheme_10days\t001_TEMF_scheme_10days\t  001_with_xkzs_and_fxpbls\r\n"
     ]
    }
   ],
   "source": [
    "!ls /beegfs/DATA/pritchard/blangenb/WRF_ARCHIVE/CHEYENNE/FMAASO/400_sensitivity/"
   ]
  },
  {
   "cell_type": "code",
   "execution_count": 4,
   "metadata": {
    "ExecuteTime": {
     "end_time": "2018-08-20T23:26:28.552997Z",
     "start_time": "2018-08-20T23:26:28.100776Z"
    }
   },
   "outputs": [],
   "source": [
    "root_dir = '/beegfs/DATA/pritchard/blangenb/WRF_ARCHIVE/CHEYENNE/FMAASO/400_sensitivity/001_with_extras'\n",
    "file_list = sorted(glob.glob(root_dir+'/'+'wrfout*'))\n",
    "ds_list = [netCDF4.Dataset(file) for file in file_list]"
   ]
  },
  {
   "cell_type": "code",
   "execution_count": 5,
   "metadata": {
    "ExecuteTime": {
     "end_time": "2018-08-20T23:28:08.414400Z",
     "start_time": "2018-08-20T23:26:28.563905Z"
    }
   },
   "outputs": [],
   "source": [
    "ptot_400 = wrf.getvar(ds_list, 'p', timeidx=wrf.ALL_TIMES).values\n",
    "numpy.save('DATA_ptot_400_sensitivity.npy', ptot_400)\n",
    "\n",
    "geopot_400 = wrf.getvar(ds_list, 'geopotential', timeidx=wrf.ALL_TIMES).values\n",
    "numpy.save('DATA_geopot_400_sensitivity.npy', geopot_400)\n",
    "\n",
    "tk_400 = wrf.getvar(ds_list, 'tk', timeidx=wrf.ALL_TIMES).values\n",
    "numpy.save('DATA_tk_400_sensitivity.npy', tk_400)\n",
    "\n",
    "ua_400 = wrf.getvar(ds_list, 'ua', timeidx=wrf.ALL_TIMES).values\n",
    "numpy.save('DATA_ua_400_sensitivity.npy', ua_400)\n",
    "\n",
    "va_400 = wrf.getvar(ds_list, 'va', timeidx=wrf.ALL_TIMES).values\n",
    "numpy.save('DATA_va_400_sensitivity.npy', va_400)"
   ]
  },
  {
   "cell_type": "code",
   "execution_count": 6,
   "metadata": {
    "ExecuteTime": {
     "end_time": "2018-08-20T23:28:10.246786Z",
     "start_time": "2018-08-20T23:28:08.425367Z"
    }
   },
   "outputs": [],
   "source": [
    "ptot_400 = numpy.load('DATA_ptot_400_sensitivity.npy')\n",
    "geopot_400 = numpy.load('DATA_geopot_400_sensitivity.npy')\n",
    "tk_400 = numpy.load('DATA_tk_400_sensitivity.npy')\n",
    "ua_400 = numpy.load('DATA_ua_400_sensitivity.npy')\n",
    "va_400 = numpy.load('DATA_va_400_sensitivity.npy')"
   ]
  },
  {
   "cell_type": "code",
   "execution_count": 7,
   "metadata": {
    "ExecuteTime": {
     "end_time": "2018-08-20T23:28:11.614017Z",
     "start_time": "2018-08-20T23:28:10.257776Z"
    }
   },
   "outputs": [],
   "source": [
    "cont_mfds = xarray.open_mfdataset(root_dir + '/' + 'wrfout*')"
   ]
  },
  {
   "cell_type": "code",
   "execution_count": 8,
   "metadata": {
    "ExecuteTime": {
     "end_time": "2018-08-20T23:28:14.809565Z",
     "start_time": "2018-08-20T23:28:11.625059Z"
    }
   },
   "outputs": [],
   "source": [
    "time = cont_mfds['Times'].values\n",
    "xlat = cont_mfds['XLAT'].values[0,:,:]\n",
    "xlong = cont_mfds['XLONG'].values[0,:,:]\n",
    "landmask = cont_mfds['LANDMASK'].values[0,:,:]\n",
    "landmask_midpoints = landmask[1:,1:]"
   ]
  },
  {
   "cell_type": "code",
   "execution_count": 9,
   "metadata": {
    "ExecuteTime": {
     "end_time": "2018-08-20T23:28:57.334264Z",
     "start_time": "2018-08-20T23:28:14.820890Z"
    }
   },
   "outputs": [],
   "source": [
    "qvapor_400 = cont_mfds['QVAPOR'].values\n",
    "u_400 = cont_mfds['U'].values\n",
    "v_400 = cont_mfds['V'].values\n",
    "w_400 = cont_mfds['W'].values\n",
    "t_400 = cont_mfds['T'].values"
   ]
  },
  {
   "cell_type": "code",
   "execution_count": 10,
   "metadata": {
    "ExecuteTime": {
     "end_time": "2018-08-20T23:28:59.480908Z",
     "start_time": "2018-08-20T23:28:57.345205Z"
    }
   },
   "outputs": [],
   "source": [
    "pblh_400 = cont_mfds['PBLH'].values"
   ]
  },
  {
   "cell_type": "code",
   "execution_count": 11,
   "metadata": {
    "ExecuteTime": {
     "end_time": "2018-08-20T23:28:59.501583Z",
     "start_time": "2018-08-20T23:28:59.492504Z"
    }
   },
   "outputs": [],
   "source": [
    "rainc_400 = cont_mfds['RAINC']\n",
    "rainnc_400 = cont_mfds['RAINNC']"
   ]
  },
  {
   "cell_type": "code",
   "execution_count": 12,
   "metadata": {
    "ExecuteTime": {
     "end_time": "2018-08-20T23:30:51.969408Z",
     "start_time": "2018-08-20T23:28:59.512673Z"
    }
   },
   "outputs": [],
   "source": [
    "rqvcuten_400 = cont_mfds['RQVCUTEN'].values\n",
    "rucuten_400 = cont_mfds['RUCUTEN'].values\n",
    "rvcuten_400 = cont_mfds['RVCUTEN'].values\n",
    "rthcuten_400 = cont_mfds['RTHCUTEN'].values\n",
    "\n",
    "rqvblten_400 = cont_mfds['RQVBLTEN'].values\n",
    "rublten_400 = cont_mfds['RUBLTEN'].values\n",
    "rvblten_400 = cont_mfds['RVBLTEN'].values\n",
    "rthblten_400 = cont_mfds['RTHBLTEN'].values"
   ]
  },
  {
   "cell_type": "code",
   "execution_count": 13,
   "metadata": {
    "ExecuteTime": {
     "end_time": "2018-08-20T23:31:49.991379Z",
     "start_time": "2018-08-20T23:30:51.980578Z"
    }
   },
   "outputs": [],
   "source": [
    "xkzq3d_400 = cont_mfds['XKZQ3D'].values\n",
    "xkzh3d_400 = cont_mfds['XKZH3D'].values\n",
    "xkzm3d_400 = cont_mfds['XKZM3D'].values"
   ]
  },
  {
   "cell_type": "code",
   "execution_count": 14,
   "metadata": {
    "ExecuteTime": {
     "end_time": "2018-08-20T23:31:54.395299Z",
     "start_time": "2018-08-20T23:31:50.002893Z"
    }
   },
   "outputs": [],
   "source": [
    "hfxpbl2d_400 = cont_mfds['HFXPBL2D'].values\n",
    "qfxpbl2d_400 = cont_mfds['QFXPBL2D'].values\n",
    "ufxpbl2d_400 = cont_mfds['UFXPBL2D'].values\n",
    "vfxpbl2d_400 = cont_mfds['VFXPBL2D'].values\n",
    "bfxpbl2d_400 = cont_mfds['BFXPBL2D'].values\n",
    "we2d_400 = cont_mfds['WE2D'].values"
   ]
  },
  {
   "cell_type": "code",
   "execution_count": 15,
   "metadata": {
    "ExecuteTime": {
     "end_time": "2018-08-20T23:31:56.280293Z",
     "start_time": "2018-08-20T23:31:54.406808Z"
    }
   },
   "outputs": [],
   "source": [
    "deltaysu_400 = cont_mfds['DELTA_YSU'].values"
   ]
  },
  {
   "cell_type": "code",
   "execution_count": 16,
   "metadata": {
    "ExecuteTime": {
     "end_time": "2018-08-20T23:31:58.150670Z",
     "start_time": "2018-08-20T23:31:56.291299Z"
    }
   },
   "outputs": [],
   "source": [
    "qfx_400 = cont_mfds['QFX'].values\n",
    "hfx_400 = cont_mfds['HFX'].values"
   ]
  },
  {
   "cell_type": "code",
   "execution_count": 17,
   "metadata": {
    "ExecuteTime": {
     "end_time": "2018-08-20T23:31:59.571823Z",
     "start_time": "2018-08-20T23:31:58.161363Z"
    }
   },
   "outputs": [],
   "source": [
    "hgamq2d_400 = cont_mfds['HGAMQ2D'].values\n",
    "hgamt2d_400 = cont_mfds['HGAMT2D'].values"
   ]
  },
  {
   "cell_type": "code",
   "execution_count": 18,
   "metadata": {
    "ExecuteTime": {
     "end_time": "2018-08-20T23:32:15.722999Z",
     "start_time": "2018-08-20T23:31:59.582817Z"
    }
   },
   "outputs": [],
   "source": [
    "ri3d_400 = cont_mfds['RI3D'].values"
   ]
  },
  {
   "cell_type": "markdown",
   "metadata": {},
   "source": [
    "## phys data"
   ]
  },
  {
   "cell_type": "code",
   "execution_count": 19,
   "metadata": {
    "ExecuteTime": {
     "end_time": "2018-08-20T23:32:15.977779Z",
     "start_time": "2018-08-20T23:32:15.734092Z"
    }
   },
   "outputs": [],
   "source": [
    "root_dir = '/beegfs/DATA/pritchard/blangenb/WRF_ARCHIVE/CHEYENNE/FMAASO/1000_sensitivity/001_with_extras'\n",
    "file_list = sorted(glob.glob(root_dir+'/'+'wrfout*'))\n",
    "ds_list = [netCDF4.Dataset(file) for file in file_list]"
   ]
  },
  {
   "cell_type": "code",
   "execution_count": 20,
   "metadata": {
    "ExecuteTime": {
     "end_time": "2018-08-20T23:33:42.425353Z",
     "start_time": "2018-08-20T23:32:15.988840Z"
    }
   },
   "outputs": [],
   "source": [
    "ptot_1000 = wrf.getvar(ds_list, 'p', timeidx=wrf.ALL_TIMES).values\n",
    "numpy.save('DATA_ptot_1000_sensitivity.npy', ptot_1000)\n",
    "\n",
    "geopot_1000 = wrf.getvar(ds_list, 'geopotential', timeidx=wrf.ALL_TIMES).values\n",
    "numpy.save('DATA_geopot_1000_sensitivity.npy', geopot_1000)\n",
    "\n",
    "tk_1000 = wrf.getvar(ds_list, 'tk', timeidx=wrf.ALL_TIMES).values\n",
    "numpy.save('DATA_tk_1000_sensitivity.npy', tk_1000)\n",
    "\n",
    "ua_1000 = wrf.getvar(ds_list, 'ua', timeidx=wrf.ALL_TIMES).values\n",
    "numpy.save('DATA_ua_1000_sensitivity.npy', ua_1000)\n",
    "\n",
    "va_1000 = wrf.getvar(ds_list, 'va', timeidx=wrf.ALL_TIMES).values\n",
    "numpy.save('DATA_va_1000_sensitivity.npy', va_1000)"
   ]
  },
  {
   "cell_type": "code",
   "execution_count": 21,
   "metadata": {
    "ExecuteTime": {
     "end_time": "2018-08-20T23:33:44.488714Z",
     "start_time": "2018-08-20T23:33:42.436547Z"
    }
   },
   "outputs": [],
   "source": [
    "ptot_1000 = numpy.load('DATA_ptot_1000_sensitivity.npy')\n",
    "geopot_1000 = numpy.load('DATA_geopot_1000_sensitivity.npy')\n",
    "tk_1000 = numpy.load('DATA_tk_1000_sensitivity.npy')\n",
    "ua_1000 = numpy.load('DATA_ua_1000_sensitivity.npy')\n",
    "va_1000 = numpy.load('DATA_va_1000_sensitivity.npy')"
   ]
  },
  {
   "cell_type": "code",
   "execution_count": 22,
   "metadata": {
    "ExecuteTime": {
     "end_time": "2018-08-20T23:33:45.899812Z",
     "start_time": "2018-08-20T23:33:44.500590Z"
    }
   },
   "outputs": [],
   "source": [
    "phys_mfds = xarray.open_mfdataset(root_dir + '/' + 'wrfout*')"
   ]
  },
  {
   "cell_type": "code",
   "execution_count": 23,
   "metadata": {
    "ExecuteTime": {
     "end_time": "2018-08-20T23:34:24.031439Z",
     "start_time": "2018-08-20T23:33:45.910958Z"
    }
   },
   "outputs": [],
   "source": [
    "qvapor_1000 = phys_mfds['QVAPOR'].values\n",
    "u_1000 = phys_mfds['U'].values\n",
    "v_1000 = phys_mfds['V'].values\n",
    "w_1000 = phys_mfds['W'].values\n",
    "t_1000 = phys_mfds['T'].values"
   ]
  },
  {
   "cell_type": "code",
   "execution_count": 24,
   "metadata": {
    "ExecuteTime": {
     "end_time": "2018-08-20T23:34:25.578912Z",
     "start_time": "2018-08-20T23:34:24.042513Z"
    }
   },
   "outputs": [],
   "source": [
    "pblh_1000 = phys_mfds['PBLH'].values"
   ]
  },
  {
   "cell_type": "code",
   "execution_count": 25,
   "metadata": {
    "ExecuteTime": {
     "end_time": "2018-08-20T23:34:25.598127Z",
     "start_time": "2018-08-20T23:34:25.589895Z"
    }
   },
   "outputs": [],
   "source": [
    "rainc_1000 = phys_mfds['RAINC']\n",
    "rainnc_1000 = phys_mfds['RAINNC']"
   ]
  },
  {
   "cell_type": "code",
   "execution_count": 26,
   "metadata": {
    "ExecuteTime": {
     "end_time": "2018-08-20T23:36:00.750609Z",
     "start_time": "2018-08-20T23:34:25.609473Z"
    }
   },
   "outputs": [],
   "source": [
    "rqvcuten_1000 = phys_mfds['RQVCUTEN'].values\n",
    "rucuten_1000 = phys_mfds['RUCUTEN'].values\n",
    "rvcuten_1000 = phys_mfds['RVCUTEN'].values\n",
    "rthcuten_1000 = phys_mfds['RTHCUTEN'].values\n",
    "\n",
    "rqvblten_1000 = phys_mfds['RQVBLTEN'].values\n",
    "rublten_1000 = phys_mfds['RUBLTEN'].values\n",
    "rvblten_1000 = phys_mfds['RVBLTEN'].values\n",
    "rthblten_1000 = phys_mfds['RTHBLTEN'].values"
   ]
  },
  {
   "cell_type": "code",
   "execution_count": 27,
   "metadata": {
    "ExecuteTime": {
     "end_time": "2018-08-20T23:36:48.193038Z",
     "start_time": "2018-08-20T23:36:00.762217Z"
    }
   },
   "outputs": [],
   "source": [
    "xkzq3d_1000 = phys_mfds['XKZQ3D'].values\n",
    "xkzh3d_1000 = phys_mfds['XKZH3D'].values\n",
    "xkzm3d_1000 = phys_mfds['XKZM3D'].values"
   ]
  },
  {
   "cell_type": "code",
   "execution_count": 28,
   "metadata": {
    "ExecuteTime": {
     "end_time": "2018-08-20T23:36:52.514787Z",
     "start_time": "2018-08-20T23:36:48.203943Z"
    }
   },
   "outputs": [],
   "source": [
    "hfxpbl2d_1000 = phys_mfds['HFXPBL2D'].values\n",
    "qfxpbl2d_1000 = phys_mfds['QFXPBL2D'].values\n",
    "ufxpbl2d_1000 = phys_mfds['UFXPBL2D'].values\n",
    "vfxpbl2d_1000 = phys_mfds['VFXPBL2D'].values\n",
    "bfxpbl2d_1000 = phys_mfds['BFXPBL2D'].values\n",
    "we2d_1000 = phys_mfds['WE2D'].values"
   ]
  },
  {
   "cell_type": "code",
   "execution_count": 29,
   "metadata": {
    "ExecuteTime": {
     "end_time": "2018-08-20T23:36:53.775282Z",
     "start_time": "2018-08-20T23:36:52.525613Z"
    }
   },
   "outputs": [],
   "source": [
    "deltaysu_1000 = phys_mfds['DELTA_YSU'].values"
   ]
  },
  {
   "cell_type": "code",
   "execution_count": 30,
   "metadata": {
    "ExecuteTime": {
     "end_time": "2018-08-20T23:36:55.697643Z",
     "start_time": "2018-08-20T23:36:53.786207Z"
    }
   },
   "outputs": [],
   "source": [
    "qfx_1000 = phys_mfds['QFX'].values\n",
    "hfx_1000 = phys_mfds['HFX'].values"
   ]
  },
  {
   "cell_type": "code",
   "execution_count": 31,
   "metadata": {
    "ExecuteTime": {
     "end_time": "2018-08-20T23:36:56.841473Z",
     "start_time": "2018-08-20T23:36:55.708780Z"
    }
   },
   "outputs": [],
   "source": [
    "hgamq2d_1000 = phys_mfds['HGAMQ2D'].values\n",
    "hgamt2d_1000 = phys_mfds['HGAMT2D'].values"
   ]
  },
  {
   "cell_type": "code",
   "execution_count": 32,
   "metadata": {
    "ExecuteTime": {
     "end_time": "2018-08-20T23:37:15.710105Z",
     "start_time": "2018-08-20T23:36:56.852592Z"
    }
   },
   "outputs": [],
   "source": [
    "ri3d_1000 = phys_mfds['RI3D'].values"
   ]
  },
  {
   "cell_type": "markdown",
   "metadata": {},
   "source": [
    "## define dx, dy"
   ]
  },
  {
   "cell_type": "code",
   "execution_count": 33,
   "metadata": {
    "ExecuteTime": {
     "end_time": "2018-08-20T23:37:15.728686Z",
     "start_time": "2018-08-20T23:37:15.721746Z"
    }
   },
   "outputs": [],
   "source": [
    "dx = 50000. # 50,000 m or 50 km\n",
    "dy = 50000."
   ]
  },
  {
   "cell_type": "markdown",
   "metadata": {},
   "source": [
    "# constants"
   ]
  },
  {
   "cell_type": "code",
   "execution_count": 34,
   "metadata": {
    "ExecuteTime": {
     "end_time": "2018-08-20T23:37:16.084460Z",
     "start_time": "2018-08-20T23:37:15.739753Z"
    }
   },
   "outputs": [],
   "source": [
    "L_v = 2264705.0 # J/kg\n",
    "c_p = 1005.7 # J/kgK\n",
    "g = 9.80665 # m/s2"
   ]
  },
  {
   "cell_type": "markdown",
   "metadata": {},
   "source": [
    "## get landmask"
   ]
  },
  {
   "cell_type": "code",
   "execution_count": 35,
   "metadata": {
    "ExecuteTime": {
     "end_time": "2018-08-20T23:37:16.345471Z",
     "start_time": "2018-08-20T23:37:16.089479Z"
    }
   },
   "outputs": [],
   "source": [
    "landmask = cont_mfds['LANDMASK'].sel(Time=0).values"
   ]
  },
  {
   "cell_type": "code",
   "execution_count": 36,
   "metadata": {
    "ExecuteTime": {
     "end_time": "2018-08-20T23:37:16.930140Z",
     "start_time": "2018-08-20T23:37:16.357315Z"
    }
   },
   "outputs": [
    {
     "data": {
      "text/plain": [
       "<matplotlib.colorbar.Colorbar at 0x2abaa6c37e48>"
      ]
     },
     "execution_count": 36,
     "metadata": {},
     "output_type": "execute_result"
    },
    {
     "data": {
      "image/png": "[encoded data removed]",
      "text/plain": [
       "<Figure size 432x288 with 2 Axes>"
      ]
     },
     "metadata": {},
     "output_type": "display_data"
    }
   ],
   "source": [
    "mp.contourf(landmask);mp.colorbar()"
   ]
  },
  {
   "cell_type": "markdown",
   "metadata": {},
   "source": [
    "# calculate MSE"
   ]
  },
  {
   "cell_type": "code",
   "execution_count": 37,
   "metadata": {
    "ExecuteTime": {
     "end_time": "2018-08-20T23:37:19.461256Z",
     "start_time": "2018-08-20T23:37:16.941275Z"
    }
   },
   "outputs": [],
   "source": [
    "mse_400 = geopot_400 + L_v*qvapor_400 + c_p*tk_400\n",
    "mse_1000 = geopot_1000 + L_v*qvapor_1000 + c_p*tk_1000\n",
    "\n",
    "numpy.save('DATA_mse_400_sensitivity.npy', mse_400)\n",
    "numpy.save('DATA_mse_1000_sensitivity.npy', mse_1000)"
   ]
  },
  {
   "cell_type": "code",
   "execution_count": 38,
   "metadata": {
    "ExecuteTime": {
     "end_time": "2018-08-20T23:37:20.296764Z",
     "start_time": "2018-08-20T23:37:19.472240Z"
    }
   },
   "outputs": [],
   "source": [
    "mse_400 = numpy.load('DATA_mse_400_sensitivity.npy')\n",
    "mse_1000 = numpy.load('DATA_mse_1000_sensitivity.npy')"
   ]
  },
  {
   "cell_type": "markdown",
   "metadata": {},
   "source": [
    "set up time/lev numbers"
   ]
  },
  {
   "cell_type": "code",
   "execution_count": 39,
   "metadata": {
    "ExecuteTime": {
     "end_time": "2018-08-20T23:37:20.319132Z",
     "start_time": "2018-08-20T23:37:20.311922Z"
    }
   },
   "outputs": [],
   "source": [
    "ntime = 25\n",
    "nlev = 29"
   ]
  },
  {
   "cell_type": "markdown",
   "metadata": {},
   "source": [
    "# calculate dtheta/dt for full, cu, and pbl schemes"
   ]
  },
  {
   "cell_type": "code",
   "execution_count": 40,
   "metadata": {
    "ExecuteTime": {
     "end_time": "2018-08-20T23:37:21.063636Z",
     "start_time": "2018-08-20T23:37:20.329424Z"
    }
   },
   "outputs": [],
   "source": [
    "dthetadt_400 = numpy.zeros(t_400.shape)*numpy.nan\n",
    "dthetadt_1000 = numpy.zeros(t_1000.shape)*numpy.nan"
   ]
  },
  {
   "cell_type": "code",
   "execution_count": 41,
   "metadata": {
    "ExecuteTime": {
     "end_time": "2018-08-20T23:37:22.406267Z",
     "start_time": "2018-08-20T23:37:21.074551Z"
    }
   },
   "outputs": [],
   "source": [
    "for t in range(1,ntime-1):\n",
    "    dthetadt_400[t,:,:,:] = (t_400[t+1,:,:,:]-t_400[t-1,:,:,:])/7200.\n",
    "for t in range(1,ntime-1):\n",
    "    dthetadt_1000[t,:,:,:] = (t_1000[t+1,:,:,:]-t_1000[t-1,:,:,:])/7200."
   ]
  },
  {
   "cell_type": "markdown",
   "metadata": {},
   "source": [
    "# dqvapor/dt for full, cu, and pbl schemes"
   ]
  },
  {
   "cell_type": "code",
   "execution_count": 42,
   "metadata": {
    "ExecuteTime": {
     "end_time": "2018-08-20T23:37:22.916734Z",
     "start_time": "2018-08-20T23:37:22.417053Z"
    }
   },
   "outputs": [],
   "source": [
    "dqdt_400 = numpy.zeros(qvapor_400.shape)*numpy.nan\n",
    "dqdt_1000 = numpy.zeros(qvapor_1000.shape)*numpy.nan"
   ]
  },
  {
   "cell_type": "code",
   "execution_count": 43,
   "metadata": {
    "ExecuteTime": {
     "end_time": "2018-08-20T23:37:24.263836Z",
     "start_time": "2018-08-20T23:37:22.927672Z"
    }
   },
   "outputs": [],
   "source": [
    "for t in range(1,ntime-1):\n",
    "    dqdt_400[t,:,:,:] = (qvapor_400[t+1,:,:,:]-qvapor_400[t-1,:,:,:])/7200.\n",
    "for t in range(1,ntime-1):\n",
    "    dqdt_1000[t,:,:,:] = (qvapor_1000[t+1,:,:,:]-qvapor_1000[t-1,:,:,:])/7200."
   ]
  },
  {
   "cell_type": "markdown",
   "metadata": {},
   "source": [
    "# duadt"
   ]
  },
  {
   "cell_type": "code",
   "execution_count": 44,
   "metadata": {
    "ExecuteTime": {
     "end_time": "2018-08-20T23:37:24.780407Z",
     "start_time": "2018-08-20T23:37:24.274769Z"
    }
   },
   "outputs": [],
   "source": [
    "duadt_400 = numpy.zeros(ua_400.shape)*numpy.nan\n",
    "duadt_1000 = numpy.zeros(ua_1000.shape)*numpy.nan"
   ]
  },
  {
   "cell_type": "code",
   "execution_count": 45,
   "metadata": {
    "ExecuteTime": {
     "end_time": "2018-08-20T23:37:26.141010Z",
     "start_time": "2018-08-20T23:37:24.791530Z"
    }
   },
   "outputs": [],
   "source": [
    "for t in range(1,ntime-1):\n",
    "    duadt_400[t,:,:,:] = (ua_400[t+1,:,:,:]-ua_400[t-1,:,:,:])/7200.\n",
    "for t in range(1,ntime-1):\n",
    "    duadt_1000[t,:,:,:] = (ua_1000[t+1,:,:,:]-ua_1000[t-1,:,:,:])/7200."
   ]
  },
  {
   "cell_type": "markdown",
   "metadata": {},
   "source": [
    "# dvadt"
   ]
  },
  {
   "cell_type": "code",
   "execution_count": 46,
   "metadata": {
    "ExecuteTime": {
     "end_time": "2018-08-20T23:37:26.648398Z",
     "start_time": "2018-08-20T23:37:26.151454Z"
    }
   },
   "outputs": [],
   "source": [
    "dvadt_400 = numpy.zeros(va_400.shape)*numpy.nan\n",
    "dvadt_1000 = numpy.zeros(va_1000.shape)*numpy.nan"
   ]
  },
  {
   "cell_type": "code",
   "execution_count": 47,
   "metadata": {
    "ExecuteTime": {
     "end_time": "2018-08-20T23:37:27.991543Z",
     "start_time": "2018-08-20T23:37:26.659064Z"
    }
   },
   "outputs": [],
   "source": [
    "for t in range(1,ntime-1):\n",
    "    dvadt_400[t,:,:,:] = (va_400[t+1,:,:,:]-va_400[t-1,:,:,:])/7200.\n",
    "for t in range(1,ntime-1):\n",
    "    dvadt_1000[t,:,:,:] = (va_1000[t+1,:,:,:]-va_1000[t-1,:,:,:])/7200."
   ]
  },
  {
   "cell_type": "markdown",
   "metadata": {},
   "source": [
    "# dmse/dt"
   ]
  },
  {
   "cell_type": "code",
   "execution_count": 48,
   "metadata": {
    "ExecuteTime": {
     "end_time": "2018-08-20T23:37:28.505405Z",
     "start_time": "2018-08-20T23:37:28.003130Z"
    }
   },
   "outputs": [],
   "source": [
    "dmsedt_400 = numpy.zeros((ntime,nlev,xlat.shape[0],xlat.shape[1]))*numpy.nan\n",
    "dmsedt_1000 = numpy.zeros((ntime,nlev,xlat.shape[0],xlat.shape[1]))*numpy.nan"
   ]
  },
  {
   "cell_type": "code",
   "execution_count": 49,
   "metadata": {
    "ExecuteTime": {
     "end_time": "2018-08-20T23:37:29.884898Z",
     "start_time": "2018-08-20T23:37:28.516431Z"
    }
   },
   "outputs": [],
   "source": [
    "for t in range(1,ntime-1):\n",
    "    dmsedt_400[t,:,:,:] = (mse_400[t+1,:,:,:]-mse_400[t-1,:,:,:])/7200.\n",
    "for t in range(1,ntime-1):\n",
    "    dmsedt_1000[t,:,:,:] = (mse_1000[t+1,:,:,:]-mse_1000[t-1,:,:,:])/7200."
   ]
  },
  {
   "cell_type": "markdown",
   "metadata": {},
   "source": [
    "calculate lat lon stuff"
   ]
  },
  {
   "cell_type": "code",
   "execution_count": 50,
   "metadata": {
    "ExecuteTime": {
     "end_time": "2018-08-20T23:37:29.904843Z",
     "start_time": "2018-08-20T23:37:29.895961Z"
    }
   },
   "outputs": [],
   "source": [
    "dry_lon_lo, dry_lon_hi, dry_lat_lo, dry_lat_hi = -60,-50,-10,10\n",
    "wet_lon_lo, wet_lon_hi, wet_lat_lo, wet_lat_hi = -80,-75,-10,10\n",
    "\n",
    "dry_lon_lo_degE = 360+dry_lon_lo\n",
    "dry_lon_hi_degE = 360+dry_lon_hi\n",
    "\n",
    "wet_lon_lo_degE = 360+wet_lon_lo\n",
    "wet_lon_hi_degE = 360+wet_lon_hi"
   ]
  },
  {
   "cell_type": "code",
   "execution_count": 51,
   "metadata": {
    "ExecuteTime": {
     "end_time": "2018-08-20T23:37:30.378444Z",
     "start_time": "2018-08-20T23:37:29.916462Z"
    }
   },
   "outputs": [],
   "source": [
    "lon_lo = dry_lon_lo\n",
    "lon_hi = dry_lon_hi\n",
    "lat_lo = dry_lat_lo\n",
    "lat_hi = dry_lat_hi\n",
    "\n",
    "# lon_lo = wet_lon_lo\n",
    "# lon_hi = wet_lon_hi\n",
    "# lat_lo = wet_lat_lo\n",
    "# lat_hi = wet_lat_hi"
   ]
  },
  {
   "cell_type": "code",
   "execution_count": 52,
   "metadata": {
    "ExecuteTime": {
     "end_time": "2018-08-20T23:37:30.776618Z",
     "start_time": "2018-08-20T23:37:30.389151Z"
    }
   },
   "outputs": [],
   "source": [
    "landmask_indices = numpy.copy(landmask)\n",
    "landmask_indices[landmask==1]=1\n",
    "landmask_indices[landmask!=1]=0\n",
    "landmask_indices = numpy.array(landmask_indices, dtype=bool)"
   ]
  },
  {
   "cell_type": "code",
   "execution_count": 53,
   "metadata": {
    "ExecuteTime": {
     "end_time": "2018-08-20T23:37:31.020759Z",
     "start_time": "2018-08-20T23:37:30.782288Z"
    }
   },
   "outputs": [],
   "source": [
    "lon_indices = (xlong>=lon_lo)&(xlong<=lon_hi)\n",
    "lat_indices = (xlat>=lat_lo)&(xlat<=lat_hi)\n",
    "latlon_indices = (lon_indices)&(lat_indices)&(landmask_indices)"
   ]
  },
  {
   "cell_type": "markdown",
   "metadata": {},
   "source": [
    "# take latlon means"
   ]
  },
  {
   "cell_type": "code",
   "execution_count": 54,
   "metadata": {
    "ExecuteTime": {
     "end_time": "2018-08-20T23:37:31.489020Z",
     "start_time": "2018-08-20T23:37:31.024285Z"
    }
   },
   "outputs": [
    {
     "name": "stderr",
     "output_type": "stream",
     "text": [
      "/export/home/blangenb/miniconda3/lib/python3.6/site-packages/ipykernel_launcher.py:1: RuntimeWarning: Mean of empty slice\n",
      "  \"\"\"Entry point for launching an IPython kernel.\n",
      "/export/home/blangenb/miniconda3/lib/python3.6/site-packages/ipykernel_launcher.py:2: RuntimeWarning: Mean of empty slice\n",
      "  \n"
     ]
    }
   ],
   "source": [
    "duadt_400_latlon_mean = numpy.nanmean(duadt_400[:,:,latlon_indices], axis=2)\n",
    "duadt_1000_latlon_mean = numpy.nanmean(duadt_1000[:,:,latlon_indices], axis=2)"
   ]
  },
  {
   "cell_type": "code",
   "execution_count": 55,
   "metadata": {
    "ExecuteTime": {
     "end_time": "2018-08-20T23:37:31.830673Z",
     "start_time": "2018-08-20T23:37:31.499928Z"
    }
   },
   "outputs": [
    {
     "name": "stderr",
     "output_type": "stream",
     "text": [
      "/export/home/blangenb/miniconda3/lib/python3.6/site-packages/ipykernel_launcher.py:1: RuntimeWarning: Mean of empty slice\n",
      "  \"\"\"Entry point for launching an IPython kernel.\n",
      "/export/home/blangenb/miniconda3/lib/python3.6/site-packages/ipykernel_launcher.py:2: RuntimeWarning: Mean of empty slice\n",
      "  \n"
     ]
    }
   ],
   "source": [
    "dvadt_400_latlon_mean = numpy.nanmean(dvadt_400[:,:,latlon_indices], axis=2)\n",
    "dvadt_1000_latlon_mean = numpy.nanmean(dvadt_1000[:,:,latlon_indices], axis=2)"
   ]
  },
  {
   "cell_type": "code",
   "execution_count": 56,
   "metadata": {
    "ExecuteTime": {
     "end_time": "2018-08-20T23:37:32.142453Z",
     "start_time": "2018-08-20T23:37:31.841724Z"
    }
   },
   "outputs": [
    {
     "name": "stderr",
     "output_type": "stream",
     "text": [
      "/export/home/blangenb/miniconda3/lib/python3.6/site-packages/ipykernel_launcher.py:1: RuntimeWarning: Mean of empty slice\n",
      "  \"\"\"Entry point for launching an IPython kernel.\n",
      "/export/home/blangenb/miniconda3/lib/python3.6/site-packages/ipykernel_launcher.py:2: RuntimeWarning: Mean of empty slice\n",
      "  \n",
      "/export/home/blangenb/miniconda3/lib/python3.6/site-packages/ipykernel_launcher.py:4: RuntimeWarning: Mean of empty slice\n",
      "  after removing the cwd from sys.path.\n",
      "/export/home/blangenb/miniconda3/lib/python3.6/site-packages/ipykernel_launcher.py:5: RuntimeWarning: Mean of empty slice\n",
      "  \"\"\"\n",
      "/export/home/blangenb/miniconda3/lib/python3.6/site-packages/ipykernel_launcher.py:7: RuntimeWarning: Mean of empty slice\n",
      "  import sys\n",
      "/export/home/blangenb/miniconda3/lib/python3.6/site-packages/ipykernel_launcher.py:8: RuntimeWarning: Mean of empty slice\n",
      "  \n"
     ]
    }
   ],
   "source": [
    "dthetadt_400_latlon_mean = numpy.nanmean(dthetadt_400[:,:,latlon_indices], axis=2)\n",
    "dthetadt_1000_latlon_mean = numpy.nanmean(dthetadt_1000[:,:,latlon_indices], axis=2)\n",
    "\n",
    "dqdt_400_latlon_mean = numpy.nanmean(dqdt_400[:,:,latlon_indices], axis=2)\n",
    "dqdt_1000_latlon_mean = numpy.nanmean(dqdt_1000[:,:,latlon_indices], axis=2)\n",
    "\n",
    "dmsedt_400_latlon_mean = numpy.nanmean(dmsedt_400[:,:,latlon_indices], axis=2)\n",
    "dmsedt_1000_latlon_mean = numpy.nanmean(dmsedt_1000[:,:,latlon_indices], axis=2)"
   ]
  },
  {
   "cell_type": "markdown",
   "metadata": {},
   "source": [
    "pblh, deltaysu"
   ]
  },
  {
   "cell_type": "code",
   "execution_count": 57,
   "metadata": {
    "ExecuteTime": {
     "end_time": "2018-08-20T23:37:32.282280Z",
     "start_time": "2018-08-20T23:37:32.152799Z"
    }
   },
   "outputs": [],
   "source": [
    "pblh_400_latlon_mean = numpy.nanmean(pblh_400[:,latlon_indices], axis=1)\n",
    "pblh_1000_latlon_mean = numpy.nanmean(pblh_1000[:,latlon_indices], axis=1)"
   ]
  },
  {
   "cell_type": "code",
   "execution_count": 58,
   "metadata": {
    "ExecuteTime": {
     "end_time": "2018-08-20T23:37:32.526020Z",
     "start_time": "2018-08-20T23:37:32.293311Z"
    }
   },
   "outputs": [],
   "source": [
    "deltaysu_400_latlon_mean = numpy.nanmean(deltaysu_400[:,latlon_indices], axis=1)\n",
    "deltaysu_1000_latlon_mean = numpy.nanmean(deltaysu_1000[:,latlon_indices], axis=1)"
   ]
  },
  {
   "cell_type": "markdown",
   "metadata": {},
   "source": [
    "tendencies"
   ]
  },
  {
   "cell_type": "code",
   "execution_count": 59,
   "metadata": {
    "ExecuteTime": {
     "end_time": "2018-08-20T23:37:32.781556Z",
     "start_time": "2018-08-20T23:37:32.537538Z"
    }
   },
   "outputs": [],
   "source": [
    "rthcuten_400_latlon_mean = numpy.nanmean(rthcuten_400[:,:,latlon_indices], axis=2)\n",
    "rthcuten_1000_latlon_mean = numpy.nanmean(rthcuten_1000[:,:,latlon_indices], axis=2)\n",
    "\n",
    "rqvcuten_400_latlon_mean = numpy.nanmean(rqvcuten_400[:,:,latlon_indices], axis=2)\n",
    "rqvcuten_1000_latlon_mean = numpy.nanmean(rqvcuten_1000[:,:,latlon_indices], axis=2)"
   ]
  },
  {
   "cell_type": "code",
   "execution_count": 60,
   "metadata": {
    "ExecuteTime": {
     "end_time": "2018-08-20T23:37:33.026250Z",
     "start_time": "2018-08-20T23:37:32.792302Z"
    }
   },
   "outputs": [],
   "source": [
    "rthblten_400_latlon_mean = numpy.nanmean(rthblten_400[:,:,latlon_indices], axis=2)\n",
    "rthblten_1000_latlon_mean = numpy.nanmean(rthblten_1000[:,:,latlon_indices], axis=2)\n",
    "\n",
    "rqvblten_400_latlon_mean = numpy.nanmean(rqvblten_400[:,:,latlon_indices], axis=2)\n",
    "rqvblten_1000_latlon_mean = numpy.nanmean(rqvblten_1000[:,:,latlon_indices], axis=2)"
   ]
  },
  {
   "cell_type": "code",
   "execution_count": 61,
   "metadata": {
    "ExecuteTime": {
     "end_time": "2018-08-20T23:37:33.200610Z",
     "start_time": "2018-08-20T23:37:33.036545Z"
    }
   },
   "outputs": [],
   "source": [
    "rublten_400_latlon_mean = numpy.nanmean(rublten_400[:,:,latlon_indices], axis=2)\n",
    "rublten_1000_latlon_mean = numpy.nanmean(rublten_1000[:,:,latlon_indices], axis=2)\n",
    "\n",
    "rvblten_400_latlon_mean = numpy.nanmean(rvblten_400[:,:,latlon_indices], axis=2)\n",
    "rvblten_1000_latlon_mean = numpy.nanmean(rvblten_1000[:,:,latlon_indices], axis=2)"
   ]
  },
  {
   "cell_type": "code",
   "execution_count": 62,
   "metadata": {
    "ExecuteTime": {
     "end_time": "2018-08-20T23:37:33.358048Z",
     "start_time": "2018-08-20T23:37:33.211628Z"
    }
   },
   "outputs": [],
   "source": [
    "rucuten_400_latlon_mean = numpy.nanmean(rucuten_400[:,:,latlon_indices], axis=2)\n",
    "rucuten_1000_latlon_mean = numpy.nanmean(rucuten_1000[:,:,latlon_indices], axis=2)\n",
    "\n",
    "rvcuten_400_latlon_mean = numpy.nanmean(rvcuten_400[:,:,latlon_indices], axis=2)\n",
    "rvcuten_1000_latlon_mean = numpy.nanmean(rvcuten_1000[:,:,latlon_indices], axis=2)"
   ]
  },
  {
   "cell_type": "markdown",
   "metadata": {},
   "source": [
    "adding in xkz terms"
   ]
  },
  {
   "cell_type": "code",
   "execution_count": 63,
   "metadata": {
    "ExecuteTime": {
     "end_time": "2018-08-20T23:37:33.777964Z",
     "start_time": "2018-08-20T23:37:33.368661Z"
    }
   },
   "outputs": [],
   "source": [
    "xkzq3d_400_latlon_mean = numpy.nanmean(xkzq3d_400[:,:,latlon_indices], axis=2)\n",
    "xkzq3d_1000_latlon_mean = numpy.nanmean(xkzq3d_1000[:,:,latlon_indices], axis=2)"
   ]
  },
  {
   "cell_type": "code",
   "execution_count": 64,
   "metadata": {
    "ExecuteTime": {
     "end_time": "2018-08-20T23:37:34.024534Z",
     "start_time": "2018-08-20T23:37:33.789168Z"
    }
   },
   "outputs": [],
   "source": [
    "xkzh3d_400_latlon_mean = numpy.nanmean(xkzh3d_400[:,:,latlon_indices], axis=2)\n",
    "xkzh3d_1000_latlon_mean = numpy.nanmean(xkzh3d_1000[:,:,latlon_indices], axis=2)"
   ]
  },
  {
   "cell_type": "code",
   "execution_count": 65,
   "metadata": {
    "ExecuteTime": {
     "end_time": "2018-08-20T23:37:34.426163Z",
     "start_time": "2018-08-20T23:37:34.034080Z"
    }
   },
   "outputs": [],
   "source": [
    "xkzm3d_400_latlon_mean = numpy.nanmean(xkzm3d_400[:,:,latlon_indices], axis=2)\n",
    "xkzm3d_1000_latlon_mean = numpy.nanmean(xkzm3d_1000[:,:,latlon_indices], axis=2)"
   ]
  },
  {
   "cell_type": "markdown",
   "metadata": {},
   "source": [
    "t (theta) for dtheta/dz info"
   ]
  },
  {
   "cell_type": "code",
   "execution_count": 66,
   "metadata": {
    "ExecuteTime": {
     "end_time": "2018-08-20T23:37:34.684776Z",
     "start_time": "2018-08-20T23:37:34.437354Z"
    }
   },
   "outputs": [],
   "source": [
    "t_400_latlon_mean = numpy.nanmean(t_400[:,:,latlon_indices], axis=2)\n",
    "t_1000_latlon_mean = numpy.nanmean(t_1000[:,:,latlon_indices], axis=2)"
   ]
  },
  {
   "cell_type": "markdown",
   "metadata": {},
   "source": [
    "ri3d"
   ]
  },
  {
   "cell_type": "code",
   "execution_count": 67,
   "metadata": {
    "ExecuteTime": {
     "end_time": "2018-08-20T23:37:35.335342Z",
     "start_time": "2018-08-20T23:37:34.695759Z"
    }
   },
   "outputs": [
    {
     "name": "stderr",
     "output_type": "stream",
     "text": [
      "/export/home/blangenb/miniconda3/lib/python3.6/site-packages/ipykernel_launcher.py:4: RuntimeWarning: Mean of empty slice\n",
      "  after removing the cwd from sys.path.\n",
      "/export/home/blangenb/miniconda3/lib/python3.6/site-packages/ipykernel_launcher.py:5: RuntimeWarning: Mean of empty slice\n",
      "  \"\"\"\n"
     ]
    }
   ],
   "source": [
    "ri3d_400[ri3d_400==999] = numpy.nan\n",
    "ri3d_1000[ri3d_1000==999] = numpy.nan\n",
    "\n",
    "ri3d_400_latlon_mean = numpy.nanmean(ri3d_400[:,:,latlon_indices], axis=2)\n",
    "ri3d_1000_latlon_mean = numpy.nanmean(ri3d_1000[:,:,latlon_indices], axis=2)"
   ]
  },
  {
   "cell_type": "markdown",
   "metadata": {},
   "source": [
    "adding in fxpbl2d terms"
   ]
  },
  {
   "cell_type": "code",
   "execution_count": 68,
   "metadata": {
    "ExecuteTime": {
     "end_time": "2018-08-20T23:37:35.356676Z",
     "start_time": "2018-08-20T23:37:35.345852Z"
    }
   },
   "outputs": [],
   "source": [
    "hfxpbl2d_400_latlon_mean = numpy.nanmean(hfxpbl2d_400[:,latlon_indices], axis=1)\n",
    "hfxpbl2d_1000_latlon_mean = numpy.nanmean(hfxpbl2d_1000[:,latlon_indices], axis=1)"
   ]
  },
  {
   "cell_type": "code",
   "execution_count": 69,
   "metadata": {
    "ExecuteTime": {
     "end_time": "2018-08-20T23:37:35.638158Z",
     "start_time": "2018-08-20T23:37:35.367843Z"
    }
   },
   "outputs": [],
   "source": [
    "qfxpbl2d_400_latlon_mean = numpy.nanmean(qfxpbl2d_400[:,latlon_indices], axis=1)\n",
    "qfxpbl2d_1000_latlon_mean = numpy.nanmean(qfxpbl2d_1000[:,latlon_indices], axis=1)"
   ]
  },
  {
   "cell_type": "code",
   "execution_count": 70,
   "metadata": {
    "ExecuteTime": {
     "end_time": "2018-08-20T23:37:35.881926Z",
     "start_time": "2018-08-20T23:37:35.648788Z"
    }
   },
   "outputs": [],
   "source": [
    "ufxpbl2d_400_latlon_mean = numpy.nanmean(ufxpbl2d_400[:,latlon_indices], axis=1)\n",
    "ufxpbl2d_1000_latlon_mean = numpy.nanmean(ufxpbl2d_1000[:,latlon_indices], axis=1)"
   ]
  },
  {
   "cell_type": "code",
   "execution_count": 71,
   "metadata": {
    "ExecuteTime": {
     "end_time": "2018-08-20T23:37:36.183410Z",
     "start_time": "2018-08-20T23:37:35.892802Z"
    }
   },
   "outputs": [],
   "source": [
    "vfxpbl2d_400_latlon_mean = numpy.nanmean(vfxpbl2d_400[:,latlon_indices], axis=1)\n",
    "vfxpbl2d_1000_latlon_mean = numpy.nanmean(vfxpbl2d_1000[:,latlon_indices], axis=1)"
   ]
  },
  {
   "cell_type": "code",
   "execution_count": 72,
   "metadata": {
    "ExecuteTime": {
     "end_time": "2018-08-20T23:37:36.354236Z",
     "start_time": "2018-08-20T23:37:36.194410Z"
    }
   },
   "outputs": [],
   "source": [
    "bfxpbl2d_400_latlon_mean = numpy.nanmean(bfxpbl2d_400[:,latlon_indices], axis=1)\n",
    "bfxpbl2d_1000_latlon_mean = numpy.nanmean(bfxpbl2d_1000[:,latlon_indices], axis=1)"
   ]
  },
  {
   "cell_type": "code",
   "execution_count": 73,
   "metadata": {
    "ExecuteTime": {
     "end_time": "2018-08-20T23:37:36.737151Z",
     "start_time": "2018-08-20T23:37:36.365737Z"
    }
   },
   "outputs": [],
   "source": [
    "we2d_400_latlon_mean = numpy.nanmean(we2d_400[:,latlon_indices], axis=1)\n",
    "we2d_1000_latlon_mean = numpy.nanmean(we2d_1000[:,latlon_indices], axis=1)"
   ]
  },
  {
   "cell_type": "markdown",
   "metadata": {},
   "source": [
    "hgam and qfx terms"
   ]
  },
  {
   "cell_type": "code",
   "execution_count": 74,
   "metadata": {
    "ExecuteTime": {
     "end_time": "2018-08-20T23:37:37.168367Z",
     "start_time": "2018-08-20T23:37:36.748087Z"
    }
   },
   "outputs": [],
   "source": [
    "hgamq2d_400_latlon_mean = numpy.nanmean(hgamq2d_400[:,latlon_indices], axis=1)\n",
    "hgamq2d_1000_latlon_mean = numpy.nanmean(hgamq2d_1000[:,latlon_indices], axis=1)"
   ]
  },
  {
   "cell_type": "code",
   "execution_count": 75,
   "metadata": {
    "ExecuteTime": {
     "end_time": "2018-08-20T23:37:37.614443Z",
     "start_time": "2018-08-20T23:37:37.179339Z"
    }
   },
   "outputs": [],
   "source": [
    "hgamt2d_400_latlon_mean = numpy.nanmean(hgamt2d_400[:,latlon_indices], axis=1)\n",
    "hgamt2d_1000_latlon_mean = numpy.nanmean(hgamt2d_1000[:,latlon_indices], axis=1)"
   ]
  },
  {
   "cell_type": "code",
   "execution_count": 76,
   "metadata": {
    "ExecuteTime": {
     "end_time": "2018-08-20T23:37:37.913530Z",
     "start_time": "2018-08-20T23:37:37.625030Z"
    }
   },
   "outputs": [],
   "source": [
    "qfx_400_latlon_mean = numpy.nanmean(qfx_400[:,latlon_indices], axis=1)\n",
    "qfx_1000_latlon_mean = numpy.nanmean(qfx_1000[:,latlon_indices], axis=1)"
   ]
  },
  {
   "cell_type": "code",
   "execution_count": 77,
   "metadata": {
    "ExecuteTime": {
     "end_time": "2018-08-20T23:37:38.213503Z",
     "start_time": "2018-08-20T23:37:37.922773Z"
    }
   },
   "outputs": [],
   "source": [
    "hfx_400_latlon_mean = numpy.nanmean(hfx_400[:,latlon_indices], axis=1)\n",
    "hfx_1000_latlon_mean = numpy.nanmean(hfx_1000[:,latlon_indices], axis=1)"
   ]
  },
  {
   "cell_type": "markdown",
   "metadata": {},
   "source": [
    "# calculate diffs"
   ]
  },
  {
   "cell_type": "code",
   "execution_count": 78,
   "metadata": {
    "ExecuteTime": {
     "end_time": "2018-08-20T23:37:38.362618Z",
     "start_time": "2018-08-20T23:37:38.223470Z"
    }
   },
   "outputs": [],
   "source": [
    "dqdt_diffs_latlon_mean = dqdt_1000_latlon_mean-dqdt_400_latlon_mean\n",
    "dthetadt_diffs_latlon_mean = dthetadt_1000_latlon_mean-dthetadt_400_latlon_mean\n",
    "dmsedt_diffs_latlon_mean = dmsedt_1000_latlon_mean-dmsedt_400_latlon_mean\n",
    "duadt_diffs_latlon_mean = duadt_1000_latlon_mean-duadt_400_latlon_mean\n",
    "\n",
    "rthblten_diffs_latlon_mean = rthblten_1000_latlon_mean-rthblten_400_latlon_mean\n",
    "rqvblten_diffs_latlon_mean = rqvblten_1000_latlon_mean-rqvblten_400_latlon_mean\n",
    "\n",
    "rthcuten_diffs_latlon_mean = rthcuten_1000_latlon_mean-rthcuten_400_latlon_mean\n",
    "rqvcuten_diffs_latlon_mean = rqvcuten_1000_latlon_mean-rqvcuten_400_latlon_mean"
   ]
  },
  {
   "cell_type": "code",
   "execution_count": 79,
   "metadata": {
    "ExecuteTime": {
     "end_time": "2018-08-20T23:37:38.825575Z",
     "start_time": "2018-08-20T23:37:38.369420Z"
    }
   },
   "outputs": [],
   "source": [
    "rucuten_diffs_latlon_mean = rucuten_1000_latlon_mean-rucuten_400_latlon_mean\n",
    "rvcuten_diffs_latlon_mean = rvcuten_1000_latlon_mean-rvcuten_400_latlon_mean"
   ]
  },
  {
   "cell_type": "code",
   "execution_count": 80,
   "metadata": {
    "ExecuteTime": {
     "end_time": "2018-08-20T23:37:39.192725Z",
     "start_time": "2018-08-20T23:37:38.828931Z"
    }
   },
   "outputs": [],
   "source": [
    "rublten_diffs_latlon_mean = rublten_1000_latlon_mean-rublten_400_latlon_mean\n",
    "rvblten_diffs_latlon_mean = rvblten_1000_latlon_mean-rvblten_400_latlon_mean"
   ]
  },
  {
   "cell_type": "code",
   "execution_count": 81,
   "metadata": {
    "ExecuteTime": {
     "end_time": "2018-08-20T23:37:39.548675Z",
     "start_time": "2018-08-20T23:37:39.196609Z"
    }
   },
   "outputs": [],
   "source": [
    "xkzq3d_diffs_latlon_mean = xkzq3d_1000_latlon_mean - xkzq3d_400_latlon_mean\n",
    "xkzh3d_diffs_latlon_mean = xkzh3d_1000_latlon_mean - xkzh3d_400_latlon_mean\n",
    "xkzm3d_diffs_latlon_mean = xkzm3d_1000_latlon_mean - xkzm3d_400_latlon_mean"
   ]
  },
  {
   "cell_type": "code",
   "execution_count": 82,
   "metadata": {
    "ExecuteTime": {
     "end_time": "2018-08-20T23:37:39.816380Z",
     "start_time": "2018-08-20T23:37:39.551816Z"
    }
   },
   "outputs": [],
   "source": [
    "bfxpbl2d_diffs_latlon_mean = bfxpbl2d_1000_latlon_mean - bfxpbl2d_400_latlon_mean\n",
    "hfxpbl2d_diffs_latlon_mean = hfxpbl2d_1000_latlon_mean - hfxpbl2d_400_latlon_mean\n",
    "qfxpbl2d_diffs_latlon_mean = qfxpbl2d_1000_latlon_mean - qfxpbl2d_400_latlon_mean\n",
    "ufxpbl2d_diffs_latlon_mean = ufxpbl2d_1000_latlon_mean - ufxpbl2d_400_latlon_mean\n",
    "vfxpbl2d_diffs_latlon_mean = vfxpbl2d_1000_latlon_mean - vfxpbl2d_400_latlon_mean\n",
    "we2d_diffs_latlon_mean = we2d_1000_latlon_mean - we2d_400_latlon_mean"
   ]
  },
  {
   "cell_type": "code",
   "execution_count": 83,
   "metadata": {
    "ExecuteTime": {
     "end_time": "2018-08-20T23:37:40.220826Z",
     "start_time": "2018-08-20T23:37:39.819184Z"
    }
   },
   "outputs": [],
   "source": [
    "hgamq2d_diffs_latlon_mean = hgamq2d_1000_latlon_mean - hgamq2d_400_latlon_mean\n",
    "hgamt2d_diffs_latlon_mean = hgamt2d_1000_latlon_mean - hgamt2d_400_latlon_mean\n",
    "\n",
    "qfx_diffs_latlon_mean = qfx_1000_latlon_mean - qfx_400_latlon_mean\n",
    "hfx_diffs_latlon_mean = hfx_1000_latlon_mean - hfx_400_latlon_mean"
   ]
  },
  {
   "cell_type": "code",
   "execution_count": 84,
   "metadata": {
    "ExecuteTime": {
     "end_time": "2018-08-20T23:37:40.521332Z",
     "start_time": "2018-08-20T23:37:40.223714Z"
    }
   },
   "outputs": [],
   "source": [
    "t_diffs_latlon_mean = t_1000_latlon_mean - t_400_latlon_mean"
   ]
  },
  {
   "cell_type": "code",
   "execution_count": 85,
   "metadata": {
    "ExecuteTime": {
     "end_time": "2018-08-20T23:37:40.708064Z",
     "start_time": "2018-08-20T23:37:40.524232Z"
    }
   },
   "outputs": [],
   "source": [
    "ri3d_diffs_latlon_mean = ri3d_1000_latlon_mean - ri3d_400_latlon_mean"
   ]
  },
  {
   "cell_type": "markdown",
   "metadata": {},
   "source": [
    "# plots"
   ]
  },
  {
   "cell_type": "code",
   "execution_count": 89,
   "metadata": {
    "ExecuteTime": {
     "end_time": "2018-08-20T23:37:47.686451Z",
     "start_time": "2018-08-20T23:37:47.646445Z"
    }
   },
   "outputs": [],
   "source": [
    "ptot_400_latlon_time_mean = numpy.nanmean(ptot_400[:,:,latlon_indices], axis=(0,2))\n",
    "geopot_400_latlon_time_mean = numpy.nanmean(geopot_400[:,:,latlon_indices], axis=(0,2))"
   ]
  },
  {
   "cell_type": "code",
   "execution_count": 90,
   "metadata": {
    "ExecuteTime": {
     "end_time": "2018-08-20T23:37:47.797674Z",
     "start_time": "2018-08-20T23:37:47.697519Z"
    }
   },
   "outputs": [],
   "source": [
    "xx, pp = numpy.meshgrid(numpy.arange(ntime), ptot_400_latlon_time_mean)"
   ]
  },
  {
   "cell_type": "code",
   "execution_count": 91,
   "metadata": {
    "ExecuteTime": {
     "end_time": "2018-08-20T23:37:47.994125Z",
     "start_time": "2018-08-20T23:37:47.808597Z"
    }
   },
   "outputs": [],
   "source": [
    "xx_geopot, gg = numpy.meshgrid(numpy.arange(ntime), geopot_400_latlon_time_mean)"
   ]
  },
  {
   "cell_type": "markdown",
   "metadata": {},
   "source": [
    "both"
   ]
  },
  {
   "cell_type": "code",
   "execution_count": 95,
   "metadata": {
    "ExecuteTime": {
     "end_time": "2018-08-21T01:30:13.303085Z",
     "start_time": "2018-08-21T01:30:08.701294Z"
    }
   },
   "outputs": [
    {
     "data": {
      "image/png": "[encoded data removed]",
      "text/plain": [
       "<Figure size 612x288 with 6 Axes>"
      ]
     },
     "metadata": {},
     "output_type": "display_data"
    }
   ],
   "source": [
    "fontsize = 12\n",
    "\n",
    "fig = mp.figure(figsize=(8.5,4))\n",
    "\n",
    "levels = numpy.arange(x0,401,25)\n",
    "ax1 = fig.add_subplot(221)\n",
    "ax1.tick_params(labelsize=fontsize)\n",
    "levels = numpy.arange(-0.25,0.251,0.05)\n",
    "contour_plot1 = ax1.contourf(xx_geopot-4, gg/9.81/1000., \\\n",
    "                             dqdt_400_latlon_mean.T*1000.*3600., \\\n",
    "                             cmap=cmocean.cm.balance_r, extend='both', levels=levels)\n",
    "ax1.set_ylim(0,3.25)\n",
    "ax1.set_xlim(6,18)\n",
    "ax1.set_xticks([i for i in range(6,19,2)])\n",
    "ax1.set_ylabel('km', fontsize=fontsize)\n",
    "\n",
    "ax3 = fig.add_subplot(223)\n",
    "ax3.tick_params(labelsize=fontsize)\n",
    "contour_plot3 = ax3.contourf(xx_geopot-4, gg/9.81/1000., \\\n",
    "                             rqvblten_400_latlon_mean.T*1000.*3600., \\\n",
    "                             cmap=cmocean.cm.balance_r, extend='both', levels=levels)\n",
    "ax3.set_ylim(0,3.25)\n",
    "ax3.set_xlim(6,18)\n",
    "ax3.set_ylabel('km', fontsize=fontsize)\n",
    "ax3.set_xticks([i for i in range(6,19,2)])\n",
    "\n",
    "ax1.text(s='(a) dq/dt (full)', x=0, y=1.02, ha='left', va='bottom', fontsize=fontsize, transform=ax1.transAxes)\n",
    "ax3.text(s='(b) dq/dt (YSU tendencies)', x=0, y=1.02, ha='left', va='bottom', fontsize=fontsize, transform=ax3.transAxes)\n",
    "\n",
    "\n",
    "levels = numpy.arange(-0.15,0.151,0.025)\n",
    "ax2 = fig.add_subplot(222)\n",
    "ax2.tick_params(labelsize=fontsize)\n",
    "contour_plot2 = ax2.contourf(xx_geopot-4, gg/9.81/1000., \\\n",
    "                             rqvblten_diffs_latlon_mean.T*1000.*3600., \\\n",
    "                             cmap=cmocean.cm.balance_r, extend='both', levels=levels)\n",
    "ax2.set_ylim(0,3.25)\n",
    "ax2.set_xlim(6,18)\n",
    "ax2.set_xticks([i for i in range(6,19,2)])\n",
    "\n",
    "ax2.plot(xx_geopot[0,:]-4, pblh_400_latlon_mean/1000., c='0.5')\n",
    "ax2.plot(xx_geopot[0,:]-4, pblh_1000_latlon_mean/1000., c='0.5', ls='--')\n",
    "\n",
    "\n",
    "ax4 = fig.add_subplot(224)\n",
    "ax4.tick_params(labelsize=fontsize)\n",
    "contour_plot4 = ax4.contourf(xx_geopot-4, gg/9.81/1000., \\\n",
    "                             rqvblten_diffs_latlon_mean.T*1000.*3600., \\\n",
    "                             cmap=cmocean.cm.balance_r, extend='both', levels=levels)\n",
    "ax4.set_ylim(0,3.25)\n",
    "ax4.set_xlim(6,18)\n",
    "ax4.set_xticks([i for i in range(6,19,2)])\n",
    "\n",
    "ax4.plot(xx_geopot[0,:]-4, pblh_400_latlon_mean/1000., c='0.5')\n",
    "ax4.plot(xx_geopot[0,:]-4, pblh_1000_latlon_mean/1000., c='0.5', ls='--')\n",
    "\n",
    "ax2.text(s='(a) $\\Delta$ dq/dt (full)', x=0, y=1.02, ha='left', va='bottom', fontsize=fontsize, transform=ax2.transAxes)\n",
    "ax4.text(s='(b) $\\Delta$ dq/dt (YSU tendencies)', x=0, y=1.02, ha='left', va='bottom', fontsize=fontsize, transform=ax4.transAxes)\n",
    "\n",
    "fig.tight_layout(h_pad=2, w_pad=8)\n",
    "\n",
    "\n",
    "ax1pos = ax1.get_position()\n",
    "ax3pos = ax3.get_position()\n",
    "cbar_ax3 = fig.add_axes([ax3pos.x1+0.025, ax3pos.y0, 0.0175, ax1pos.y1-ax3pos.y0])\n",
    "cbar3 = fig.colorbar(contour_plot3, cax=cbar_ax3)\n",
    "cbar_ax3.tick_params(labelsize=fontsize)\n",
    "cbar3.set_label('g kg$^{\\,-1}$ h$^{\\,-1}$', fontsize=fontsize)\n",
    "\n",
    "\n",
    "ax2pos = ax2.get_position()\n",
    "ax4pos = ax4.get_position()\n",
    "cbar_ax4 = fig.add_axes([ax4pos.x1+0.025, ax4pos.y0, 0.0175, ax2pos.y1-ax4pos.y0])\n",
    "cbar4 = fig.colorbar(contour_plot4, cax=cbar_ax4)\n",
    "cbar_ax4.tick_params(labelsize=fontsize)\n",
    "cbar4.set_label('g kg$^{\\,-1}$ h$^{\\,-1}$', fontsize=fontsize)\n",
    "#cbar4.set_ticks([i for i in range(0,501,100)])\n",
    "\n",
    "fig.savefig('figures/sensitivity_analysis_tendency_terms_background_and_percent_change_zcoords.png', dpi=600, bbox_inches='tight', transparent=True)\n",
    "\n",
    "\n"
   ]
  },
  {
   "cell_type": "markdown",
   "metadata": {},
   "source": [
    "# figure 11 in manuscript"
   ]
  },
  {
   "cell_type": "code",
   "execution_count": 100,
   "metadata": {
    "ExecuteTime": {
     "end_time": "2018-08-21T01:32:58.213956Z",
     "start_time": "2018-08-21T01:32:54.035871Z"
    }
   },
   "outputs": [
    {
     "name": "stderr",
     "output_type": "stream",
     "text": [
      "/export/home/blangenb/miniconda3/lib/python3.6/site-packages/ipykernel_launcher.py:20: RuntimeWarning: invalid value encountered in true_divide\n"
     ]
    },
    {
     "data": {
      "image/png": "[encoded data removed]",
      "text/plain": [
       "<Figure size 306x432 with 6 Axes>"
      ]
     },
     "metadata": {},
     "output_type": "display_data"
    }
   ],
   "source": [
    "fontsize = 12\n",
    "\n",
    "fig = mp.figure(figsize=(4.25,6))\n",
    "\n",
    "levels = numpy.arange(0,401,25)\n",
    "ax1 = fig.add_subplot(311)\n",
    "ax1.tick_params(labelsize=fontsize)\n",
    "contour_plot1 = ax1.contourf(xx_geopot-4, gg/9.81/1000., \\\n",
    "                             xkzh3d_400_latlon_mean.T, \\\n",
    "                             cmap=cmocean.cm.amp, \\\n",
    "                             levels=levels, \\\n",
    "                             extend='max')\n",
    "contour_lines1 = ax1.contour(xx_geopot-4, gg/9.81/1000., \\\n",
    "                             xkzh3d_400_latlon_mean.T, \\\n",
    "                             colors='0.1', linewidths=[0.5], \\\n",
    "                             levels=[1,5])\n",
    "clabel1 = ax1.clabel(contour_lines1, inline=1, inline_spacing=1, fontsize=fontsize, fmt='%1.0f')\n",
    "ax1.set_ylim(0,3.25)\n",
    "ax1.set_xlim(6,18)\n",
    "ax1.set_ylabel('km', fontsize=fontsize)\n",
    "ax1.set_xticks([i for i in range(6,19,2)])\n",
    "ax1.set_yticks([0,1,2,3])\n",
    "\n",
    "levels = numpy.arange(0,501,20)\n",
    "ax2 = fig.add_subplot(312)\n",
    "ax2.tick_params(labelsize=fontsize)\n",
    "contour_plot2 = ax2.contourf(xx_geopot-4, gg/9.81/1000., \\\n",
    "                             (xkzh3d_diffs_latlon_mean.T/xkzh3d_400_latlon_mean.T)*100., \\\n",
    "                             cmap=cmocean.cm.amp, \\\n",
    "                             levels=levels, \\\n",
    "                             extend='max')\n",
    "ax2.set_ylim(0,3.25)\n",
    "ax2.set_xlim(6,18)\n",
    "ax2.set_xticks([i for i in range(6,19,2)])\n",
    "ax2.set_yticks([0,1,2,3])\n",
    "ax2.set_ylabel('km', fontsize=fontsize)\n",
    "ax2.plot(xx_geopot[0,:]-4, pblh_400_latlon_mean/1000., c='0.5', label='PBLH cont.')\n",
    "ax2.plot(xx_geopot[0,:]-4, pblh_1000_latlon_mean/1000., c='0.5', ls='--', label='PBLH phys.')\n",
    "\n",
    "ax3 = fig.add_subplot(313)\n",
    "ax3.tick_params(labelsize=fontsize)\n",
    "levels = numpy.arange(-.75,.751,0.05)\n",
    "contour_plot3 = ax3.contourf(xx_geopot-4, gg/9.81/1000., \\\n",
    "                             t_diffs_latlon_mean.T, \\\n",
    "                             cmap=cmocean.cm.balance, \\\n",
    "                             levels=levels, \\\n",
    "                             extend='both')\n",
    "ax3.set_ylim(0,3.25)\n",
    "ax3.set_xlim(6,18)\n",
    "ax3.set_ylabel('km', fontsize=fontsize)\n",
    "ax3.set_xticks([i for i in range(6,19,2)])\n",
    "ax3.set_yticks([0,1,2,3])\n",
    "ax3.plot(xx_geopot[0,:]-4, pblh_400_latlon_mean/1000., c='0.5')\n",
    "ax3.plot(xx_geopot[0,:]-4, pblh_1000_latlon_mean/1000., c='0.5', ls='--')\n",
    "\n",
    "ax1.text(s=r'(a) control K$_{\\,t}$', x=0, y=1.02, ha='left', va='bottom', fontsize=fontsize, transform=ax1.transAxes)\n",
    "ax2.text(s=r'(b) $\\Delta$ K$_{\\,t}$', x=0, y=1.02, ha='left', va='bottom', fontsize=fontsize, transform=ax2.transAxes)\n",
    "ax3.text(s=r'(c) $\\Delta \\theta$', x=0, y=1.02, ha='left', va='bottom', fontsize=fontsize, transform=ax3.transAxes)\n",
    "\n",
    "fig.tight_layout(h_pad=1.5)\n",
    "\n",
    "ax1pos = ax1.get_position()\n",
    "cbar_ax1 = fig.add_axes([ax1pos.x1+0.04, ax1pos.y0, 0.035, ax1pos.height])\n",
    "cbar1 = fig.colorbar(contour_plot1, cax=cbar_ax1)\n",
    "cbar_ax1.tick_params(labelsize=fontsize)\n",
    "cbar1.set_label('m$^{\\,2}$s$^{\\,-1}$', fontsize=fontsize, labelpad=7)\n",
    "cbar1.set_ticks([i for i in range(0,401,100)])\n",
    "\n",
    "ax2pos = ax2.get_position()\n",
    "cbar_ax2 = fig.add_axes([ax2pos.x1+0.04, ax2pos.y0, 0.035, ax2pos.height])\n",
    "cbar2 = fig.colorbar(contour_plot2, cax=cbar_ax2)\n",
    "cbar_ax2.tick_params(labelsize=fontsize)\n",
    "cbar2.set_label('% change', fontsize=fontsize, labelpad=7)\n",
    "cbar2.set_ticks([i for i in range(0,501,100)])\n",
    "\n",
    "ax3pos = ax3.get_position()\n",
    "cbar_ax3 = fig.add_axes([ax3pos.x1+0.04, ax3pos.y0, 0.035, ax3pos.height])\n",
    "cbar3 = fig.colorbar(contour_plot3, cax=cbar_ax3)\n",
    "cbar_ax3.tick_params(labelsize=fontsize)\n",
    "cbar3.set_label('$\\degree$C', fontsize=fontsize, labelpad=7)\n",
    "cbar3.set_ticks([i for i in numpy.arange(-0.75,0.751,0.25)])\n",
    "\n",
    "handles, labels = ax2.get_legend_handles_labels()\n",
    "legend = ax2.legend(handles, labels, fontsize=fontsize, ncol=1, bbox_to_anchor=(0.05,0.9), \\\n",
    "                   edgecolor='None', facecolor='None', fancybox=False, bbox_transform=ax2.transAxes, \\\n",
    "                   loc='upper left', labelspacing=0, \\\n",
    "                   borderaxespad=0, borderpad=0, handlelength=1.75, \\\n",
    "                   handletextpad=0.5)\n",
    "\n",
    "fig.savefig('figures/sensitivity_analysis_xkzh_terms_background_and_percent_change_AND_theta_zcoords.png', dpi=600, bbox_inches='tight', transparent=True)\n",
    "\n",
    "\n"
   ]
  },
  {
   "cell_type": "code",
   "execution_count": 101,
   "metadata": {
    "ExecuteTime": {
     "end_time": "2018-08-21T01:33:03.413154Z",
     "start_time": "2018-08-21T01:32:58.224902Z"
    }
   },
   "outputs": [
    {
     "name": "stderr",
     "output_type": "stream",
     "text": [
      "/export/home/blangenb/miniconda3/lib/python3.6/site-packages/ipykernel_launcher.py:37: RuntimeWarning: invalid value encountered in true_divide\n",
      "/export/home/blangenb/miniconda3/lib/python3.6/site-packages/ipykernel_launcher.py:45: RuntimeWarning: invalid value encountered in true_divide\n"
     ]
    },
    {
     "data": {
      "image/png": "[encoded data removed]",
      "text/plain": [
       "<Figure size 612x288 with 6 Axes>"
      ]
     },
     "metadata": {},
     "output_type": "display_data"
    }
   ],
   "source": [
    "fontsize = 12\n",
    "\n",
    "fig = mp.figure(figsize=(8.5,4))\n",
    "\n",
    "levels = numpy.arange(0,401,25)\n",
    "ax1 = fig.add_subplot(221)\n",
    "ax1.tick_params(labelsize=fontsizxe)\n",
    "contour_plot1 = ax1.contourf(xx-4, pp/100., \\\n",
    "                             xkzh3d_400_latlon_mean.T, \\\n",
    "                             cmap=cmocean.cm.amp, \\\n",
    "                             levels=levels, \\\n",
    "                             extend='max')\n",
    "contour_lines1 = ax1.contour(xx-4, pp/100., \\\n",
    "                             xkzh3d_400_latlon_mean.T, \\\n",
    "                             colors='0.1', linewidths=[0.5], \\\n",
    "                             levels=[1,5])\n",
    "ax1.clabel(contour_lines1, inline=1, inline_spacing=1, fontsize=fontsize, fmt='%1.0f')\n",
    "ax1.set_ylim(1013.25,700)\n",
    "#ax.set_xlim(0,240)\n",
    "ax1.set_xlim(6,18)\n",
    "ax1.set_ylabel('hPa', fontsize=fontsize)\n",
    "ax1.set_xticks([i for i in range(6,19,2)])\n",
    "ax1.set_yticks([700,800,900,1000])\n",
    "\n",
    "ax3 = fig.add_subplot(223)\n",
    "ax3.tick_params(labelsize=fontsize)\n",
    "contour_plot3 = ax3.contourf(xx-4, pp/100., \\\n",
    "                             xkzm3d_400_latlon_mean.T, \\\n",
    "                             cmap=cmocean.cm.amp, \\\n",
    "                             levels=levels, \\\n",
    "                             extend='max')\n",
    "contour_lines3 = ax3.contour(xx-4, pp/100., \\\n",
    "                             xkzm3d_400_latlon_mean.T, \\\n",
    "                             colors='0.1', linewidths=[0.5], \\\n",
    "                             levels=[1,5])\n",
    "ax3.clabel(contour_lines3, inline=1, inline_spacing=1, fontsize=fontsize, fmt='%1.0f')\n",
    "ax3.set_ylim(1013.25,700)\n",
    "ax3.set_xlim(6,18)\n",
    "ax3.set_xlabel('hour', fontsize=fontsize)\n",
    "ax3.set_ylabel('hPa', fontsize=fontsize)\n",
    "ax3.set_xticks([i for i in range(6,19,2)])\n",
    "ax3.set_yticks([700,800,900,1000])\n",
    "ax1.text(s='(a) control K$_{\\,t}$', x=0, y=1.02, ha='left', va='bottom', fontsize=fontsize, transform=ax1.transAxes)\n",
    "ax3.text(s='(c) control K$_{\\,m}$', x=0, y=1.02, ha='left', va='bottom', fontsize=fontsize, transform=ax3.transAxes)\n",
    "\n",
    "\n",
    "\n",
    "levels = numpy.arange(0,501,20)\n",
    "ax2 = fig.add_subplot(222)\n",
    "ax2.tick_params(labelsize=fontsize)\n",
    "contour_plot2 = ax2.contourf(xx-4, pp/100., \\\n",
    "                             (xkzh3d_diffs_latlon_mean.T/xkzh3d_400_latlon_mean.T)*100., \\\n",
    "                             cmap=cmocean.cm.amp, \\\n",
    "                             levels=levels, \\\n",
    "                             extend='max')\n",
    "ax2.set_ylim(1013.25,700)\n",
    "ax2.set_xlim(6,18)\n",
    "ax2.set_xticks([i for i in range(6,19,2)])\n",
    "ax2.set_yticks([700,800,900,1000])\n",
    "\n",
    "ax4 = fig.add_subplot(224)\n",
    "ax4.tick_params(labelsize=fontsize)\n",
    "contour_plot4 = ax4.contourf(xx-4, pp/100., \\\n",
    "                             (xkzm3d_diffs_latlon_mean.T/xkzm3d_400_latlon_mean.T)*100., \\\n",
    "                             cmap=cmocean.cm.amp, \\\n",
    "                             levels=levels, \\\n",
    "                             extend='max')\n",
    "ax4.set_ylim(1013.25,700)\n",
    "ax4.set_xlim(6,18)\n",
    "ax4.set_xlabel('hour', fontsize=fontsize)\n",
    "ax4.set_xticks([i for i in range(6,19,2)])\n",
    "ax4.set_yticks([700,800,900,1000])\n",
    "ax2.text(s='(b) $\\Delta$ K$_{\\,t}$', x=0, y=1.02, ha='left', va='bottom', fontsize=fontsize, transform=ax2.transAxes)\n",
    "ax4.text(s='(d) $\\Delta$ K$_{\\,m}$', x=0, y=1.02, ha='left', va='bottom', fontsize=fontsize, transform=ax4.transAxes)\n",
    "\n",
    "fig.tight_layout(h_pad=2, w_pad=8)\n",
    "\n",
    "\n",
    "ax1pos = ax1.get_position()\n",
    "ax3pos = ax3.get_position()\n",
    "cbar_ax3 = fig.add_axes([ax3pos.x1+0.025, ax3pos.y0, 0.0175, ax1pos.y1-ax3pos.y0])\n",
    "cbar3 = fig.colorbar(contour_plot3, cax=cbar_ax3)\n",
    "cbar_ax3.tick_params(labelsize=fontsize)\n",
    "cbar3.set_label('m$^{\\,2}$s$^{\\,-1}$', fontsize=fontsize, labelpad=7)\n",
    "\n",
    "\n",
    "ax2pos = ax2.get_position()\n",
    "ax4pos = ax4.get_position()\n",
    "cbar_ax4 = fig.add_axes([ax4pos.x1+0.025, ax4pos.y0, 0.0175, ax2pos.y1-ax4pos.y0])\n",
    "cbar4 = fig.colorbar(contour_plot4, cax=cbar_ax4)\n",
    "cbar_ax4.tick_params(labelsize=fontsize)\n",
    "cbar4.set_label('% change', fontsize=fontsize, labelpad=7)\n",
    "cbar4.set_ticks([i for i in range(0,501,100)])\n",
    "\n",
    "fig.savefig('figures/sensitivity_analysis_xkzm_xkzh_terms_background_and_percent_change.png', dpi=600, bbox_inches='tight', transparent=True)\n",
    "\n",
    "\n"
   ]
  },
  {
   "cell_type": "code",
   "execution_count": 121,
   "metadata": {
    "ExecuteTime": {
     "end_time": "2018-08-21T04:19:15.916175Z",
     "start_time": "2018-08-21T04:19:08.340212Z"
    }
   },
   "outputs": [
    {
     "data": {
      "text/plain": [
       "<Figure size 306x432 with 0 Axes>"
      ]
     },
     "metadata": {},
     "output_type": "display_data"
    },
    {
     "data": {
      "image/png": "[encoded data removed]",
      "text/plain": [
       "<Figure size 612x432 with 8 Axes>"
      ]
     },
     "metadata": {},
     "output_type": "display_data"
    }
   ],
   "source": [
    "fontsize = 12\n",
    "\n",
    "fig = mp.figure(figsize=(4.25,6))\n",
    "\n",
    "\n",
    "\n",
    "fontsize = 12\n",
    "\n",
    "fig = mp.figure(figsize=(8.5,6))\n",
    "\n",
    "\n",
    "ax1 = fig.add_subplot(321)\n",
    "ax1.tick_params(labelsize=fontsize)\n",
    "levels = numpy.arange(-0.15,0.151,0.025)\n",
    "contour_plot1 = ax1.contourf(xx-4, pp/100., \\\n",
    "                             dqdt_diffs_latlon_mean.T*1000.*3600., \\\n",
    "                             cmap=cmocean.cm.balance_r, extend='both', levels=levels)\n",
    "ax1.set_ylim(1013.25,700)\n",
    "ax1.set_xlim(6,18)\n",
    "ax1.set_xticks([i for i in range(6,19,2)])\n",
    "ax1.set_yticks([700,800,900,1000])\n",
    "ax1.set_ylabel('hPa', fontsize=fontsize)\n",
    "\n",
    "ax2 = fig.add_subplot(323)\n",
    "ax2.tick_params(labelsize=fontsize)\n",
    "contour_plot2 = ax2.contourf(xx-4, pp/100., \\\n",
    "                             rqvblten_diffs_latlon_mean.T*1000.*3600., \\\n",
    "                             cmap=cmocean.cm.balance_r, extend='both', levels=levels)\n",
    "ax2.set_ylim(1013.25,700)\n",
    "#ax.set_xlim(0,240)\n",
    "ax2.set_xlim(6,18)\n",
    "ax2.set_ylabel('hPa', fontsize=fontsize)\n",
    "ax2.set_xticks([i for i in range(6,19,2)])\n",
    "ax2.set_yticks([700,800,900,1000])\n",
    "\n",
    "ax3 = fig.add_subplot(325)\n",
    "ax3.tick_params(labelsize=fontsize)\n",
    "\n",
    "contour_plot3 = ax3.contourf(xx-4, pp/100., \\\n",
    "                             rqvcuten_diffs_latlon_mean.T*1000.*86400., \\\n",
    "                             cmap=cmocean.cm.balance_r, levels=levels, extend='both')\n",
    "ax3.set_ylim(1013.25,700)\n",
    "ax3.set_xlim(6,18)\n",
    "ax3.set_xlabel('hour', fontsize=fontsize)\n",
    "ax3.set_ylabel('hPa', fontsize=fontsize)\n",
    "ax3.set_xticks([i for i in range(6,19,2)])\n",
    "ax3.set_yticks([700,800,900,1000])\n",
    "ax1.text(s='(a) $\\Delta$ dq/dt (full)', x=0, y=1.02, ha='left', va='bottom', fontsize=fontsize, transform=ax1.transAxes)\n",
    "ax2.text(s='(b) $\\Delta$ dq/dt (YSU tendencies)', x=0, y=1.02, ha='left', va='bottom', fontsize=fontsize, transform=ax2.transAxes)\n",
    "ax3.text(s='(c) $\\Delta$ dq/dt (Tiedtke tendencies)', x=0, y=1.02, ha='left', va='bottom', fontsize=fontsize, transform=ax3.transAxes)\n",
    "\n",
    "\n",
    "ax12 = fig.add_subplot(322)\n",
    "ax12.tick_params(labelsize=fontsize)\n",
    "levels = numpy.arange(-0.4,0.41,0.01)\n",
    "contour_plot12 = ax12.contourf(xx-4, pp/100., \\\n",
    "                             dthetadt_diffs_latlon_mean.T*3600., \\\n",
    "                             cmap='PuOr_r', extend='both', levels=levels)\n",
    "ax12.set_ylim(1013.25,700)\n",
    "ax12.set_xlim(6,18)\n",
    "ax12.set_xticks([i for i in range(6,19,2)])\n",
    "ax12.set_yticks([700,800,900,1000])\n",
    "\n",
    "\n",
    "ax22 = fig.add_subplot(324)\n",
    "ax22.tick_params(labelsize=fontsize)\n",
    "\n",
    "contour_plot22 = ax22.contourf(xx-4, pp/100., \\\n",
    "                             rthblten_diffs_latlon_mean.T*3600., \\\n",
    "                             cmap='PuOr_r', extend='both', levels=levels)\n",
    "ax22.set_ylim(1013.25,700)\n",
    "ax22.set_xlim(6,18)\n",
    "\n",
    "ax22.set_xticks([i for i in range(6,19,2)])\n",
    "ax22.set_yticks([700,800,900,1000])\n",
    "\n",
    "\n",
    "ax32 = fig.add_subplot(326)\n",
    "ax32.tick_params(labelsize=fontsize)\n",
    "\n",
    "contour_plot32 = ax32.contourf(xx-4, pp/100., \\\n",
    "                             rthcuten_diffs_latlon_mean.T*861000., \\\n",
    "                             cmap='PuOr_r', levels=levels, extend='both')\n",
    "ax32.set_ylim(1013.25,700)\n",
    "ax32.set_xlim(6,18)\n",
    "ax32.set_xlabel('hour', fontsize=fontsize)\n",
    "\n",
    "ax32.set_xticks([i for i in range(6,19,2)])\n",
    "ax32.set_yticks([700,800,900,1000])\n",
    "ax12.text(s=r'(d) $\\Delta$ d$\\theta$/dt (full)', x=0, y=1.02, ha='left', va='bottom', fontsize=fontsize, transform=ax12.transAxes)\n",
    "ax22.text(s=r'(e) $\\Delta$ d$\\theta$/dt (YSU tendencies)', x=0, y=1.02, ha='left', va='bottom', fontsize=fontsize, transform=ax22.transAxes)\n",
    "ax32.text(s=r'(f) $\\Delta$ d$\\theta$/dt (Tiedtke tendencies)', x=0, y=1.02, ha='left', va='bottom', fontsize=fontsize, transform=ax32.transAxes)\n",
    "\n",
    "fig.tight_layout(w_pad=10, h_pad=2)\n",
    "\n",
    "ax3pos = ax3.get_position()\n",
    "cbar_ax3 = fig.add_axes([ax3pos.x1+0.025, ax3pos.y0, 0.02, ax1pos.y1-ax3pos.y0])\n",
    "cbar3 = fig.colorbar(contour_plot3, cax=cbar_ax3)\n",
    "cbar_ax3.tick_params(labelsize=fontsize)\n",
    "#cbar3.add_lines(contour_line3)\n",
    "cbar3.set_label('g kg$^{\\,-1}$ hour$^{\\,-1}$', fontsize=fontsize)\n",
    "#cbar3.set_ticks([-.01,0,.01])\n",
    "\n",
    "ax12pos = ax12.get_position()\n",
    "ax32pos = ax32.get_position()\n",
    "cbar_ax32 = fig.add_axes([ax32pos.x1+0.025, ax32pos.y0, 0.02, ax12pos.y1-ax32pos.y0])\n",
    "cbar32 = fig.colorbar(contour_plot32, cax=cbar_ax32)\n",
    "cbar_ax32.tick_params(labelsize=fontsize)\n",
    "#cbar3.add_lines(contour_line3)\n",
    "cbar32.set_label('$\\degree$C hour$^{\\,-1}$', fontsize=fontsize)\n",
    "cbar32.set_ticks([-.5,-.4,-.3,-.2,-.1,0,.1,.2,.3,.4,.5])\n",
    "\n",
    "fig.savefig('figures/sensitivity_analysis_dqdt_and_dthetadt_response_day1.png', dpi=600, bbox_inches='tight', transparent=True)"
   ]
  },
  {
   "cell_type": "code",
   "execution_count": null,
   "metadata": {},
   "outputs": [],
   "source": []
  }
 ],
 "metadata": {
  "kernelspec": {
   "display_name": "Python 3",
   "language": "python",
   "name": "python3"
  },
  "language_info": {
   "codemirror_mode": {
    "name": "ipython",
    "version": 3
   },
   "file_extension": ".py",
   "mimetype": "text/x-python",
   "name": "python",
   "nbconvert_exporter": "python",
   "pygments_lexer": "ipython3",
   "version": "3.6.6"
  },
  "varInspector": {
   "cols": {
    "lenName": 16,
    "lenType": 16,
    "lenVar": 40
   },
   "kernels_config": {
    "python": {
     "delete_cmd_postfix": "",
     "delete_cmd_prefix": "del ",
     "library": "var_list.py",
     "varRefreshCmd": "print(var_dic_list())"
    },
    "r": {
     "delete_cmd_postfix": ") ",
     "delete_cmd_prefix": "rm(",
     "library": "var_list.r",
     "varRefreshCmd": "cat(var_dic_list()) "
    }
   },
   "types_to_exclude": [
    "module",
    "function",
    "builtin_function_or_method",
    "instance",
    "_Feature"
   ],
   "window_display": false
  }
 },
 "nbformat": 4,
 "nbformat_minor": 2
}
