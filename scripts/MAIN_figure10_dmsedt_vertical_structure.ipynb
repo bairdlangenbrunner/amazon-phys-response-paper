{
 "cells": [
  {
   "cell_type": "markdown",
   "metadata": {},
   "source": [
    "# import libraries"
   ]
  },
  {
   "cell_type": "code",
   "execution_count": 2,
   "metadata": {
    "ExecuteTime": {
     "end_time": "2018-08-24T02:43:23.538848Z",
     "start_time": "2018-08-24T02:43:11.593720Z"
    }
   },
   "outputs": [],
   "source": [
    "import numpy\n",
    "import xarray\n",
    "import matplotlib\n",
    "import matplotlib.pyplot as mp\n",
    "import datetime\n",
    "import matplotlib.colors\n",
    "import scipy.stats\n",
    "import itertools\n",
    "import string\n",
    "import matplotlib.patches\n",
    "import glob\n",
    "import matplotlib.gridspec\n",
    "import scipy.ndimage\n",
    "\n",
    "import wrf\n",
    "import netCDF4\n",
    "import cmocean\n",
    "\n",
    "import pandas\n",
    "\n",
    "import matplotlib.ticker\n",
    "import cartopy.mpl.gridliner #import LONGITUDE_FORMATTER, LATITUDE_FORMATTER\n",
    "\n",
    "import mpl_toolkits\n",
    "import cartopy\n",
    "import cartopy.io.shapereader\n",
    "\n",
    "DEGREE_SIGN = u'\\u00B0'\n",
    "mp.rcParams.update({'mathtext.default': 'regular'})\n",
    "\n",
    "% matplotlib inline"
   ]
  },
  {
   "cell_type": "code",
   "execution_count": 3,
   "metadata": {
    "ExecuteTime": {
     "end_time": "2018-08-24T02:43:23.553195Z",
     "start_time": "2018-08-24T02:43:23.547696Z"
    }
   },
   "outputs": [],
   "source": [
    "run_info = 'FMAASO'\n",
    "skip_time=0"
   ]
  },
  {
   "cell_type": "markdown",
   "metadata": {},
   "source": [
    "# opening mean fields"
   ]
  },
  {
   "cell_type": "markdown",
   "metadata": {},
   "source": [
    "## control data"
   ]
  },
  {
   "cell_type": "code",
   "execution_count": 4,
   "metadata": {
    "ExecuteTime": {
     "end_time": "2018-08-24T02:43:23.832365Z",
     "start_time": "2018-08-24T02:43:23.561109Z"
    }
   },
   "outputs": [],
   "source": [
    "root_dir = '/beegfs/DATA/pritchard/blangenb/WRF_ARCHIVE/CHEYENNE/FMAASO/400/ens_mean_wrfout_files'\n",
    "file_list = sorted(glob.glob(root_dir+'/'+'wrfout*.nc'))\n",
    "ds_list = [netCDF4.Dataset(file) for file in file_list]"
   ]
  },
  {
   "cell_type": "raw",
   "metadata": {
    "ExecuteTime": {
     "end_time": "2018-05-29T22:57:04.205195Z",
     "start_time": "2018-05-29T22:53:48.268834Z"
    }
   },
   "source": [
    "geopot_stag_400 = wrf.getvar(ds_list, 'geopt_stag', timeidx=wrf.ALL_TIMES).values\n",
    "numpy.save('DATA_geopot_stag_400.npy', geopot_stag_400)"
   ]
  },
  {
   "cell_type": "raw",
   "metadata": {
    "ExecuteTime": {
     "end_time": "2018-04-20T20:37:06.170072Z",
     "start_time": "2018-04-20T20:36:46.200664Z"
    }
   },
   "source": [
    "ptot_400 = wrf.getvar(ds_list, 'p', timeidx=wrf.ALL_TIMES).values\n",
    "wa_400 = wrf.getvar(ds_list, 'wa', timeidx=wrf.ALL_TIMES).values\n",
    "ua_400 = wrf.getvar(ds_list, 'ua', timeidx=wrf.ALL_TIMES).values\n",
    "va_400 = wrf.getvar(ds_list, 'va', timeidx=wrf.ALL_TIMES).values\n",
    "tk_400 = wrf.getvar(ds_list, 'tk', timeidx=wrf.ALL_TIMES).values\n",
    "prw_400 = wrf.getvar(ds_list, 'prw', timeidx=wrf.ALL_TIMES).values\n",
    "\n",
    "geopot_400 = wrf.getvar(ds_list, 'geopotential', timeidx=wrf.ALL_TIMES).values\n",
    "\n",
    "numpy.save('DATA_ptot_400.npy', ptot_400)\n",
    "numpy.save('DATA_wa_400.npy', wa_400)\n",
    "numpy.save('DATA_ua_400.npy', ua_400)\n",
    "numpy.save('DATA_va_400.npy', va_400)\n",
    "numpy.save('DATA_tk_400.npy', tk_400)\n",
    "numpy.save('DATA_prw_400.npy', prw_400)\n"
   ]
  },
  {
   "cell_type": "code",
   "execution_count": 5,
   "metadata": {
    "ExecuteTime": {
     "end_time": "2018-08-24T02:44:12.422732Z",
     "start_time": "2018-08-24T02:43:23.840768Z"
    }
   },
   "outputs": [],
   "source": [
    "ptot_400 = numpy.load('DATA_ptot_400.npy')\n",
    "wa_400 = numpy.load('DATA_wa_400.npy')\n",
    "#ua_400 = numpy.load('DATA_ua_400.npy')\n",
    "#va_400 = numpy.load('DATA_va_400.npy')\n",
    "#tk_400 = numpy.load('DATA_tk_400.npy')\n",
    "#prw_400 = numpy.load('DATA_prw_400.npy')\n",
    "\n",
    "geopot_400 = numpy.load('DATA_geopot_400.npy')\n",
    "geopot_stag_400 = numpy.load('DATA_geopot_stag_400.npy')\n",
    "tk_400 = numpy.load('DATA_tk_400.npy')"
   ]
  },
  {
   "cell_type": "code",
   "execution_count": 6,
   "metadata": {
    "ExecuteTime": {
     "end_time": "2018-08-24T02:44:53.495947Z",
     "start_time": "2018-08-24T02:44:12.430954Z"
    }
   },
   "outputs": [
    {
     "name": "stdout",
     "output_type": "stream",
     "text": [
      "The history saving thread hit an unexpected error (OperationalError('database is locked',)).History will not be written to the database.\n"
     ]
    }
   ],
   "source": [
    "cont_mfds = xarray.open_mfdataset(root_dir + '/' + 'wrfout*.nc')"
   ]
  },
  {
   "cell_type": "code",
   "execution_count": 7,
   "metadata": {
    "ExecuteTime": {
     "end_time": "2018-08-24T02:44:55.628656Z",
     "start_time": "2018-08-24T02:44:53.506500Z"
    }
   },
   "outputs": [],
   "source": [
    "time = cont_mfds['Times'].values\n",
    "xlat = cont_mfds['XLAT'].values[0,:,:]\n",
    "xlong = cont_mfds['XLONG'].values[0,:,:]\n",
    "landmask = cont_mfds['LANDMASK'].values[0,:,:]\n",
    "landmask_midpoints = landmask[1:,1:]"
   ]
  },
  {
   "cell_type": "code",
   "execution_count": 8,
   "metadata": {
    "ExecuteTime": {
     "end_time": "2018-08-24T02:44:55.645275Z",
     "start_time": "2018-08-24T02:44:55.637106Z"
    }
   },
   "outputs": [],
   "source": [
    "qvapor_400 = cont_mfds['QVAPOR']\n",
    "u_400 = cont_mfds['U']\n",
    "v_400 = cont_mfds['V']\n",
    "w_400 = cont_mfds['W']"
   ]
  },
  {
   "cell_type": "code",
   "execution_count": 9,
   "metadata": {
    "ExecuteTime": {
     "end_time": "2018-08-24T02:44:55.659279Z",
     "start_time": "2018-08-24T02:44:55.653064Z"
    }
   },
   "outputs": [],
   "source": [
    "rainc_400 = cont_mfds['RAINC']\n",
    "rainnc_400 = cont_mfds['RAINNC']"
   ]
  },
  {
   "cell_type": "markdown",
   "metadata": {},
   "source": [
    "## phys data"
   ]
  },
  {
   "cell_type": "code",
   "execution_count": 10,
   "metadata": {
    "ExecuteTime": {
     "end_time": "2018-08-24T02:44:55.808101Z",
     "start_time": "2018-08-24T02:44:55.669144Z"
    }
   },
   "outputs": [],
   "source": [
    "root_dir = '/beegfs/DATA/pritchard/blangenb/WRF_ARCHIVE/CHEYENNE/FMAASO/1000/ens_mean_wrfout_files'\n",
    "file_list = sorted(glob.glob(root_dir+'/'+'wrfout*.nc'))\n",
    "ds_list = [netCDF4.Dataset(file) for file in file_list]"
   ]
  },
  {
   "cell_type": "raw",
   "metadata": {
    "ExecuteTime": {
     "end_time": "2018-05-29T23:00:32.501004Z",
     "start_time": "2018-05-29T22:57:19.578559Z"
    }
   },
   "source": [
    "geopot_stag_1000 = wrf.getvar(ds_list, 'geopt_stag', timeidx=wrf.ALL_TIMES).values\n",
    "numpy.save('DATA_geopot_stag_1000.npy', geopot_stag_400)\n",
    "\n",
    "geopot_1000 = wrf.getvar(ds_list, 'geopotential', timeidx=wrf.ALL_TIMES).values\n",
    "numpy.save('DATA_geopot_1000.npy', geopot_1000)\n",
    "\n",
    "ptot_1000 = wrf.getvar(ds_list, 'p', timeidx=wrf.ALL_TIMES).values\n",
    "wa_1000 = wrf.getvar(ds_list, 'wa', timeidx=wrf.ALL_TIMES).values\n",
    "ua_1000 = wrf.getvar(ds_list, 'ua', timeidx=wrf.ALL_TIMES).values\n",
    "va_1000 = wrf.getvar(ds_list, 'va', timeidx=wrf.ALL_TIMES).values\n",
    "tk_1000 = wrf.getvar(ds_list, 'tk', timeidx=wrf.ALL_TIMES).values\n",
    "prw_1000 = wrf.getvar(ds_list, 'prw', timeidx=wrf.ALL_TIMES).values\n",
    "geopot_1000 = wrf.getvar(ds_list, 'geopotential', timeidx=wrf.ALL_TIMES).values\n",
    "\n",
    "numpy.save('DATA_ptot_1000.npy', ptot_1000)\n",
    "numpy.save('DATA_wa_1000.npy', wa_1000)\n",
    "numpy.save('DATA_ua_1000.npy', ua_1000)\n",
    "numpy.save('DATA_va_1000.npy', va_1000)\n",
    "numpy.save('DATA_tk_1000.npy', tk_1000)\n",
    "numpy.save('DATA_prw_1000.npy', prw_1000)\n",
    "numpy.save('DATA_geopot_1000.npy', geopot_1000)"
   ]
  },
  {
   "cell_type": "code",
   "execution_count": 11,
   "metadata": {
    "ExecuteTime": {
     "end_time": "2018-08-24T02:45:45.239467Z",
     "start_time": "2018-08-24T02:44:55.816496Z"
    }
   },
   "outputs": [],
   "source": [
    "ptot_1000 = numpy.load('DATA_ptot_1000.npy')\n",
    "wa_1000 = numpy.load('DATA_wa_1000.npy')\n",
    "#ua_1000 = numpy.load('DATA_ua_1000.npy')\n",
    "#va_1000 = numpy.load('DATA_va_1000.npy')\n",
    "#tk_1000 = numpy.load('DATA_tk_1000.npy')\n",
    "#prw_1000 = numpy.load('DATA_prw_1000.npy')\n",
    "\n",
    "geopot_1000 = numpy.load('DATA_geopot_1000.npy')\n",
    "geopot_stag_1000 = numpy.load('DATA_geopot_stag_1000.npy')\n",
    "tk_1000 = numpy.load('DATA_tk_1000.npy')"
   ]
  },
  {
   "cell_type": "code",
   "execution_count": 12,
   "metadata": {
    "ExecuteTime": {
     "end_time": "2018-08-24T02:45:49.989481Z",
     "start_time": "2018-08-24T02:45:45.248671Z"
    }
   },
   "outputs": [],
   "source": [
    "phys_mfds = xarray.open_mfdataset(root_dir + '/' + 'wrfout*.nc')"
   ]
  },
  {
   "cell_type": "code",
   "execution_count": 13,
   "metadata": {
    "ExecuteTime": {
     "end_time": "2018-08-24T02:45:50.029526Z",
     "start_time": "2018-08-24T02:45:50.020550Z"
    }
   },
   "outputs": [],
   "source": [
    "qvapor_1000 = phys_mfds['QVAPOR']\n",
    "u_1000 = phys_mfds['U']\n",
    "v_1000 = phys_mfds['V']\n",
    "w_1000 = phys_mfds['W']"
   ]
  },
  {
   "cell_type": "code",
   "execution_count": 14,
   "metadata": {
    "ExecuteTime": {
     "end_time": "2018-08-24T02:45:50.054658Z",
     "start_time": "2018-08-24T02:45:50.037741Z"
    }
   },
   "outputs": [],
   "source": [
    "rainc_1000 = phys_mfds['RAINC']\n",
    "rainnc_1000 = phys_mfds['RAINNC']"
   ]
  },
  {
   "cell_type": "markdown",
   "metadata": {},
   "source": [
    "## define dx, dy"
   ]
  },
  {
   "cell_type": "code",
   "execution_count": 15,
   "metadata": {
    "ExecuteTime": {
     "end_time": "2018-08-24T02:45:50.069369Z",
     "start_time": "2018-08-24T02:45:50.057151Z"
    }
   },
   "outputs": [],
   "source": [
    "dx = 50000. # 50,000 m or 50 km\n",
    "dy = 50000."
   ]
  },
  {
   "cell_type": "markdown",
   "metadata": {},
   "source": [
    "# constants"
   ]
  },
  {
   "cell_type": "code",
   "execution_count": 16,
   "metadata": {
    "ExecuteTime": {
     "end_time": "2018-08-24T02:45:50.084625Z",
     "start_time": "2018-08-24T02:45:50.072208Z"
    }
   },
   "outputs": [],
   "source": [
    "L_v = 2264705.0 # J/kg\n",
    "c_p = 1005.7 # J/kgK\n",
    "g = 9.80665 # m/s2"
   ]
  },
  {
   "cell_type": "markdown",
   "metadata": {},
   "source": [
    "## get landmask"
   ]
  },
  {
   "cell_type": "code",
   "execution_count": 17,
   "metadata": {
    "ExecuteTime": {
     "end_time": "2018-08-24T02:45:50.145095Z",
     "start_time": "2018-08-24T02:45:50.087648Z"
    }
   },
   "outputs": [],
   "source": [
    "landmask = cont_mfds['LANDMASK'].sel(Time=0).values"
   ]
  },
  {
   "cell_type": "code",
   "execution_count": 18,
   "metadata": {
    "ExecuteTime": {
     "end_time": "2018-08-24T02:45:50.160169Z",
     "start_time": "2018-08-24T02:45:50.147609Z"
    }
   },
   "outputs": [],
   "source": [
    "lat_indices = ((xlat<=10)&(xlat>=-5))"
   ]
  },
  {
   "cell_type": "markdown",
   "metadata": {},
   "source": [
    "# calculate raintot and rain diffs"
   ]
  },
  {
   "cell_type": "code",
   "execution_count": 19,
   "metadata": {
    "ExecuteTime": {
     "end_time": "2018-08-24T02:45:56.085749Z",
     "start_time": "2018-08-24T02:45:50.162562Z"
    }
   },
   "outputs": [],
   "source": [
    "raintot_accum_1000 = rainnc_1000+rainc_1000\n",
    "\n",
    "raintot_accum_400 = rainnc_400+rainc_400\n",
    "\n",
    "raintot_1000 = numpy.diff(raintot_accum_1000, axis=0)\n",
    "raintot_400 = numpy.diff(raintot_accum_400, axis=0)"
   ]
  },
  {
   "cell_type": "code",
   "execution_count": 20,
   "metadata": {
    "ExecuteTime": {
     "end_time": "2018-08-24T02:45:56.293956Z",
     "start_time": "2018-08-24T02:45:56.094320Z"
    }
   },
   "outputs": [
    {
     "name": "stderr",
     "output_type": "stream",
     "text": [
      "/export/home/blangenb/miniconda3/lib/python3.6/site-packages/ipykernel_launcher.py:6: RuntimeWarning: Mean of empty slice\n",
      "  \n"
     ]
    }
   ],
   "source": [
    "raintot_diffs = raintot_1000-raintot_400\n",
    "\n",
    "raintot_diffs_landmask = numpy.copy(raintot_diffs)\n",
    "raintot_diffs_landmask[:,landmask==0]=numpy.nan\n",
    "raintot_diffs_lat_subset = raintot_diffs_landmask[:,lat_indices[:,0],:]\n",
    "raintot_diffs_latmean = numpy.nanmean(raintot_diffs_lat_subset, axis=1)"
   ]
  },
  {
   "cell_type": "code",
   "execution_count": 21,
   "metadata": {
    "ExecuteTime": {
     "end_time": "2018-08-24T02:45:56.312125Z",
     "start_time": "2018-08-24T02:45:56.302307Z"
    }
   },
   "outputs": [
    {
     "name": "stderr",
     "output_type": "stream",
     "text": [
      "/export/home/blangenb/miniconda3/lib/python3.6/site-packages/ipykernel_launcher.py:1: RuntimeWarning: Mean of empty slice\n",
      "  \"\"\"Entry point for launching an IPython kernel.\n",
      "/export/home/blangenb/miniconda3/lib/python3.6/site-packages/ipykernel_launcher.py:2: RuntimeWarning: Mean of empty slice\n",
      "  \n"
     ]
    }
   ],
   "source": [
    "raintot_diffs_latmean_day1 = numpy.nanmean(raintot_diffs_latmean[:24,:], axis=0)\n",
    "raintot_diffs_latmean_day2_10 = numpy.nanmean(raintot_diffs_latmean[24:,:], axis=0)"
   ]
  },
  {
   "cell_type": "markdown",
   "metadata": {},
   "source": [
    "# calculate w diffs for height-longitude plot"
   ]
  },
  {
   "cell_type": "code",
   "execution_count": 22,
   "metadata": {
    "ExecuteTime": {
     "end_time": "2018-08-24T02:46:00.055378Z",
     "start_time": "2018-08-24T02:45:56.321784Z"
    }
   },
   "outputs": [],
   "source": [
    "wa_diffs = wa_1000-wa_400\n",
    "\n",
    "wa_diffs_landmask = numpy.copy(wa_diffs)\n",
    "wa_diffs_landmask[:,:,landmask==0]=numpy.nan"
   ]
  },
  {
   "cell_type": "code",
   "execution_count": 23,
   "metadata": {
    "ExecuteTime": {
     "end_time": "2018-08-24T02:46:00.278566Z",
     "start_time": "2018-08-24T02:46:00.064491Z"
    }
   },
   "outputs": [
    {
     "data": {
      "image/png": "[encoded data removed]",
      "text/plain": [
       "<Figure size 432x288 with 1 Axes>"
      ]
     },
     "metadata": {},
     "output_type": "display_data"
    }
   ],
   "source": [
    "fig, ax = mp.subplots(1,1,subplot_kw={'projection':cartopy.crs.PlateCarree()})\n",
    "ax.set_extent([270,330,-30,20])\n",
    "ax.coastlines()\n",
    "fig.tight_layout()"
   ]
  },
  {
   "cell_type": "markdown",
   "metadata": {},
   "source": [
    "# calculate MSE"
   ]
  },
  {
   "cell_type": "raw",
   "metadata": {
    "ExecuteTime": {
     "end_time": "2018-05-30T21:19:37.736845Z",
     "start_time": "2018-05-30T21:19:08.895863Z"
    }
   },
   "source": [
    "mse_400 = geopot_400 + L_v*qvapor_400 + c_p*tk_400\n",
    "mse_1000 = geopot_1000 + L_v*qvapor_1000 + c_p*tk_1000\n",
    "\n",
    "numpy.save('DATA_mse_400.npy', mse_400)\n",
    "numpy.save('DATA_mse_1000.npy', mse_1000)"
   ]
  },
  {
   "cell_type": "code",
   "execution_count": 24,
   "metadata": {
    "ExecuteTime": {
     "end_time": "2018-08-24T02:47:28.954582Z",
     "start_time": "2018-08-24T02:46:00.286728Z"
    }
   },
   "outputs": [],
   "source": [
    "mse_400 = numpy.load('DATA_mse_400.npy')\n",
    "mse_1000 = numpy.load('DATA_mse_1000.npy')"
   ]
  },
  {
   "cell_type": "markdown",
   "metadata": {},
   "source": [
    "# calculate midpoints so that fields are 28x178x288"
   ]
  },
  {
   "cell_type": "code",
   "execution_count": 25,
   "metadata": {
    "ExecuteTime": {
     "end_time": "2018-08-24T02:49:13.210948Z",
     "start_time": "2018-08-24T02:47:28.962882Z"
    }
   },
   "outputs": [],
   "source": [
    "u_400_midpoints = 0.5*(u_400[:,:,:,1:]+u_400[:,:,:,:-1])\n",
    "u_400_midpoints = 0.5*(u_400_midpoints[:,1:,1:,1:]+u_400_midpoints[:,:-1,:-1,:-1]).values"
   ]
  },
  {
   "cell_type": "code",
   "execution_count": 26,
   "metadata": {
    "ExecuteTime": {
     "end_time": "2018-08-24T02:51:01.412051Z",
     "start_time": "2018-08-24T02:49:13.219216Z"
    }
   },
   "outputs": [],
   "source": [
    "u_1000_midpoints = 0.5*(u_1000[:,:,:,1:]+u_1000[:,:,:,:-1])\n",
    "u_1000_midpoints = 0.5*(u_1000_midpoints[:,1:,1:,1:]+u_1000_midpoints[:,:-1,:-1,:-1]).values"
   ]
  },
  {
   "cell_type": "code",
   "execution_count": 27,
   "metadata": {
    "ExecuteTime": {
     "end_time": "2018-08-24T02:51:59.580554Z",
     "start_time": "2018-08-24T02:51:01.420433Z"
    }
   },
   "outputs": [],
   "source": [
    "v_400_midpoints = 0.5*(v_400[:,:,1:,:]+v_400[:,:,:-1,:])\n",
    "v_400_midpoints = 0.5*(v_400_midpoints[:,1:,1:,1:]+v_400_midpoints[:,:-1,:-1,:-1]).values"
   ]
  },
  {
   "cell_type": "code",
   "execution_count": 28,
   "metadata": {
    "ExecuteTime": {
     "end_time": "2018-08-24T02:53:48.606732Z",
     "start_time": "2018-08-24T02:51:59.588851Z"
    }
   },
   "outputs": [],
   "source": [
    "v_1000_midpoints = 0.5*(v_1000[:,:,1:,:]+v_1000[:,:,:-1,:])\n",
    "v_1000_midpoints = 0.5*(v_1000_midpoints[:,1:,1:,1:]+v_1000_midpoints[:,:-1,:-1,:-1]).values"
   ]
  },
  {
   "cell_type": "raw",
   "metadata": {
    "ExecuteTime": {
     "end_time": "2018-05-29T19:22:56.540160Z",
     "start_time": "2018-05-29T19:22:56.513713Z"
    }
   },
   "source": [
    "omega_400_midpoints = (0.5*(omega_400[:,1:,1:,1:]+omega_400[:,:-1,:-1,:-1]))\n",
    "omega_1000_midpoints = (0.5*(omega_1000[:,1:,1:,1:]+omega_1000[:,:-1,:-1,:-1]))"
   ]
  },
  {
   "cell_type": "code",
   "execution_count": 29,
   "metadata": {
    "ExecuteTime": {
     "end_time": "2018-08-24T02:53:52.471388Z",
     "start_time": "2018-08-24T02:53:48.615004Z"
    }
   },
   "outputs": [],
   "source": [
    "wa_400_midpoints = (0.5*(wa_400[:,1:,1:,1:]+wa_400[:,:-1,:-1,:-1]))\n",
    "wa_1000_midpoints = (0.5*(wa_1000[:,1:,1:,1:]+wa_1000[:,:-1,:-1,:-1]))"
   ]
  },
  {
   "cell_type": "code",
   "execution_count": 30,
   "metadata": {
    "ExecuteTime": {
     "end_time": "2018-08-24T02:53:57.549637Z",
     "start_time": "2018-08-24T02:53:52.479766Z"
    }
   },
   "outputs": [],
   "source": [
    "ptot_400_midpoints = 0.5*(ptot_400[:,1:,1:,1:]+ptot_400[:,:-1,:-1,:-1])\n",
    "ptot_1000_midpoints = 0.5*(ptot_1000[:,1:,1:,1:]+ptot_1000[:,:-1,:-1,:-1])"
   ]
  },
  {
   "cell_type": "code",
   "execution_count": 31,
   "metadata": {
    "ExecuteTime": {
     "end_time": "2018-08-24T02:54:01.883819Z",
     "start_time": "2018-08-24T02:53:57.552069Z"
    }
   },
   "outputs": [],
   "source": [
    "geopot_400_midpoints = 0.5*(geopot_400[:,1:,1:,1:]+geopot_400[:,:-1,:-1,:-1])\n",
    "geopot_1000_midpoints = 0.5*(geopot_1000[:,1:,1:,1:]+geopot_1000[:,:-1,:-1,:-1])"
   ]
  },
  {
   "cell_type": "raw",
   "metadata": {
    "ExecuteTime": {
     "end_time": "2018-05-14T18:54:06.624284Z",
     "start_time": "2018-05-14T18:54:05.364040Z"
    }
   },
   "source": [
    "geopot_400_midpoints = 0.5*(geopot_400[:,1:,1:,1:]+geopot_400[:,:-1,:-1,:-1])\n",
    "geopot_1000_midpoints = 0.5*(geopot_1000[:,1:,1:,1:]+geopot_1000[:,:-1,:-1,:-1])"
   ]
  },
  {
   "cell_type": "code",
   "execution_count": 32,
   "metadata": {
    "ExecuteTime": {
     "end_time": "2018-08-24T02:54:06.302930Z",
     "start_time": "2018-08-24T02:54:01.892239Z"
    }
   },
   "outputs": [],
   "source": [
    "mse_400_midpoints = 0.5*(mse_400[:,1:,1:,1:]+mse_400[:,:-1,:-1,:-1])\n",
    "mse_1000_midpoints = 0.5*(mse_1000[:,1:,1:,1:]+mse_1000[:,:-1,:-1,:-1])"
   ]
  },
  {
   "cell_type": "code",
   "execution_count": 33,
   "metadata": {
    "ExecuteTime": {
     "end_time": "2018-08-24T02:54:10.475176Z",
     "start_time": "2018-08-24T02:54:06.311358Z"
    }
   },
   "outputs": [],
   "source": [
    "ptot_1000_midpoints = 0.5*(ptot_1000[:,1:,1:,1:]+ptot_1000[:,:-1,:-1,:-1])\n",
    "ptot_400_midpoints = 0.5*(ptot_400[:,1:,1:,1:]+ptot_400[:,:-1,:-1,:-1])"
   ]
  },
  {
   "cell_type": "markdown",
   "metadata": {},
   "source": [
    "# calculate dmsedt terms"
   ]
  },
  {
   "cell_type": "code",
   "execution_count": 34,
   "metadata": {
    "ExecuteTime": {
     "end_time": "2018-08-24T02:54:10.488576Z",
     "start_time": "2018-08-24T02:54:10.483672Z"
    }
   },
   "outputs": [],
   "source": [
    "ntime = 241\n",
    "nlev = 28"
   ]
  },
  {
   "cell_type": "markdown",
   "metadata": {},
   "source": [
    "dmsedt will be automatically placed on midpoints"
   ]
  },
  {
   "cell_type": "code",
   "execution_count": 35,
   "metadata": {
    "ExecuteTime": {
     "end_time": "2018-08-24T02:54:13.336262Z",
     "start_time": "2018-08-24T02:54:10.497028Z"
    }
   },
   "outputs": [],
   "source": [
    "dmsedt_400 = numpy.zeros((ntime,nlev,xlat.shape[0]-1,xlat.shape[1]-1))*numpy.nan\n",
    "dmsedt_1000 = numpy.zeros((ntime,nlev,xlat.shape[0]-1,xlat.shape[1]-1))*numpy.nan"
   ]
  },
  {
   "cell_type": "code",
   "execution_count": 36,
   "metadata": {
    "ExecuteTime": {
     "end_time": "2018-08-24T02:54:22.270218Z",
     "start_time": "2018-08-24T02:54:13.345292Z"
    }
   },
   "outputs": [],
   "source": [
    "for t in range(1,ntime-1):\n",
    "    dmsedt_400[t,:,:,:] = (mse_400_midpoints[t+1,:,:,:]-mse_400_midpoints[t-1,:,:,:])/7200.\n",
    "for t in range(1,ntime-1):\n",
    "    dmsedt_1000[t,:,:,:] = (mse_1000_midpoints[t+1,:,:,:]-mse_1000_midpoints[t-1,:,:,:])/7200."
   ]
  },
  {
   "cell_type": "markdown",
   "metadata": {},
   "source": [
    "# calculate convergence terms"
   ]
  },
  {
   "cell_type": "code",
   "execution_count": 37,
   "metadata": {
    "ExecuteTime": {
     "end_time": "2018-08-24T02:54:37.561800Z",
     "start_time": "2018-08-24T02:54:22.275024Z"
    }
   },
   "outputs": [],
   "source": [
    "dudx_400 = numpy.diff(u_400.values, axis=3)/dx\n",
    "dudx_400 = 0.5*(dudx_400[:,1:,1:,1:]+dudx_400[:,:-1,:-1,:-1])"
   ]
  },
  {
   "cell_type": "code",
   "execution_count": 38,
   "metadata": {
    "ExecuteTime": {
     "end_time": "2018-08-24T02:55:01.088155Z",
     "start_time": "2018-08-24T02:54:37.570173Z"
    }
   },
   "outputs": [],
   "source": [
    "dudx_1000 = numpy.diff(u_1000.values, axis=3)/dx\n",
    "dudx_1000 = 0.5*(dudx_1000[:,1:,1:,1:]+dudx_1000[:,:-1,:-1,:-1])"
   ]
  },
  {
   "cell_type": "code",
   "execution_count": 39,
   "metadata": {
    "ExecuteTime": {
     "end_time": "2018-08-24T02:55:12.567871Z",
     "start_time": "2018-08-24T02:55:01.096594Z"
    }
   },
   "outputs": [],
   "source": [
    "dvdy_400 = numpy.diff(v_400.values, axis=2)/dy\n",
    "dvdy_400 = 0.5*(dvdy_400[:,1:,1:,1:]+dvdy_400[:,:-1,:-1,:-1])"
   ]
  },
  {
   "cell_type": "code",
   "execution_count": 40,
   "metadata": {
    "ExecuteTime": {
     "end_time": "2018-08-24T02:55:42.301981Z",
     "start_time": "2018-08-24T02:55:12.576923Z"
    }
   },
   "outputs": [],
   "source": [
    "dvdy_1000 = numpy.diff(v_1000.values, axis=2)/dy\n",
    "dvdy_1000 = 0.5*(dvdy_1000[:,1:,1:,1:]+dvdy_1000[:,:-1,:-1,:-1])"
   ]
  },
  {
   "cell_type": "code",
   "execution_count": 41,
   "metadata": {
    "ExecuteTime": {
     "end_time": "2018-08-24T02:55:45.132584Z",
     "start_time": "2018-08-24T02:55:42.321459Z"
    }
   },
   "outputs": [],
   "source": [
    "ptot_400_diff = numpy.diff(ptot_400, axis=1)\n",
    "ptot_1000_diff = numpy.diff(ptot_1000, axis=1)"
   ]
  },
  {
   "cell_type": "code",
   "execution_count": 42,
   "metadata": {
    "ExecuteTime": {
     "end_time": "2018-08-24T02:55:47.872262Z",
     "start_time": "2018-08-24T02:55:45.142768Z"
    }
   },
   "outputs": [],
   "source": [
    "geopot_400_diff = numpy.diff(geopot_400, axis=1) # needed for convergence calculation\n",
    "geopot_1000_diff = numpy.diff(geopot_1000, axis=1)"
   ]
  },
  {
   "cell_type": "code",
   "execution_count": 43,
   "metadata": {
    "ExecuteTime": {
     "end_time": "2018-08-24T02:55:49.921242Z",
     "start_time": "2018-08-24T02:55:47.880640Z"
    }
   },
   "outputs": [],
   "source": [
    "geopot_stag_400_diff = numpy.diff(geopot_stag_400, axis=1) # needed for advection calculation\n",
    "geopot_stag_1000_diff = numpy.diff(geopot_stag_1000, axis=1)"
   ]
  },
  {
   "cell_type": "code",
   "execution_count": 44,
   "metadata": {
    "ExecuteTime": {
     "end_time": "2018-08-24T02:58:30.852595Z",
     "start_time": "2018-08-24T02:55:49.930056Z"
    }
   },
   "outputs": [],
   "source": [
    "dwdz_400 = numpy.diff(w_400, axis=1)/(geopot_stag_400_diff/g)\n",
    "dwdz_400 = 0.5*(dwdz_400[:,1:,1:,1:]+dwdz_400[:,:-1,:-1,:-1])\n",
    "\n",
    "dwdz_1000 = numpy.diff(w_1000, axis=1)/(geopot_stag_1000_diff/g)\n",
    "dwdz_1000 = 0.5*(dwdz_1000[:,1:,1:,1:]+dwdz_1000[:,:-1,:-1,:-1])"
   ]
  },
  {
   "cell_type": "markdown",
   "metadata": {},
   "source": [
    "pressure coords"
   ]
  },
  {
   "cell_type": "raw",
   "metadata": {
    "ExecuteTime": {
     "end_time": "2018-05-11T17:03:52.126315Z",
     "start_time": "2018-05-11T17:01:32.598242Z"
    }
   },
   "source": [
    "cont_domegadp = numpy.diff(omega_400, axis=1)/ptot_400_diff\n",
    "cont_domegadp = 0.5*(cont_domegadp[:,:,1:,1:]+cont_domegadp[:,:,:-1,:-1])\n",
    "\n",
    "phys_domegadp = numpy.diff(omega_1000, axis=1)/ptot_1000_diff\n",
    "phys_domegadp = 0.5*(phys_domegadp[:,:,1:,1:]+phys_domegadp[:,:,:-1,:-1])\n",
    "\n",
    "convergence_400 = -qvapor_400_midpoints*(dudx_400 + dvdy_400 + cont_domegadp)\n",
    "convergence_1000 = -qvapor_1000_midpoints*(dudx_1000 + dvdy_1000 + phys_domegadp)"
   ]
  },
  {
   "cell_type": "code",
   "execution_count": 45,
   "metadata": {
    "ExecuteTime": {
     "end_time": "2018-08-24T02:58:40.436776Z",
     "start_time": "2018-08-24T02:58:30.860927Z"
    }
   },
   "outputs": [],
   "source": [
    "convergence_400 = -mse_400_midpoints*(dudx_400 + dvdy_400 + dwdz_400)\n",
    "convergence_1000 = -mse_1000_midpoints*(dudx_1000 + dvdy_1000 + dwdz_1000)"
   ]
  },
  {
   "cell_type": "markdown",
   "metadata": {},
   "source": [
    "calculate vertical and horizontal terms separately"
   ]
  },
  {
   "cell_type": "code",
   "execution_count": 46,
   "metadata": {
    "ExecuteTime": {
     "end_time": "2018-08-24T02:59:01.426565Z",
     "start_time": "2018-08-24T02:58:40.445189Z"
    }
   },
   "outputs": [],
   "source": [
    "convergence_400_vert = -mse_400_midpoints*dwdz_400 #cont_domegadp\n",
    "convergence_400_horiz = -mse_400_midpoints*(dudx_400 + dvdy_400)\n",
    "\n",
    "convergence_1000_vert = -mse_1000_midpoints*dwdz_1000 #phys_domegadp\n",
    "convergence_1000_horiz = -mse_1000_midpoints*(dudx_1000 + dvdy_1000)"
   ]
  },
  {
   "cell_type": "markdown",
   "metadata": {},
   "source": [
    "# calculate advection terms"
   ]
  },
  {
   "cell_type": "code",
   "execution_count": 47,
   "metadata": {
    "ExecuteTime": {
     "end_time": "2018-08-24T02:59:07.354847Z",
     "start_time": "2018-08-24T02:59:01.434833Z"
    }
   },
   "outputs": [],
   "source": [
    "cont_dmsedx = numpy.diff(mse_400, axis=3)/dx # diff in y, then take mean \n",
    "cont_dmsedx = 0.5*(cont_dmsedx[:,1:,1:,:]+cont_dmsedx[:,:-1,:-1,:])"
   ]
  },
  {
   "cell_type": "code",
   "execution_count": 48,
   "metadata": {
    "ExecuteTime": {
     "end_time": "2018-08-24T02:59:12.773933Z",
     "start_time": "2018-08-24T02:59:07.363330Z"
    }
   },
   "outputs": [],
   "source": [
    "phys_dmsedx = numpy.diff(mse_1000, axis=3)/dx # diff in y, then take mean \n",
    "phys_dmsedx = 0.5*(phys_dmsedx[:,1:,1:,:]+phys_dmsedx[:,:-1,:-1,:])"
   ]
  },
  {
   "cell_type": "code",
   "execution_count": 49,
   "metadata": {
    "ExecuteTime": {
     "end_time": "2018-08-24T02:59:18.195376Z",
     "start_time": "2018-08-24T02:59:12.782976Z"
    }
   },
   "outputs": [],
   "source": [
    "cont_dmsedy = numpy.diff(mse_400, axis=2)/dy # diff in y, then take mean \n",
    "cont_dmsedy = 0.5*(cont_dmsedy[:,1:,:,1:]+cont_dmsedy[:,:-1,:,:-1])"
   ]
  },
  {
   "cell_type": "code",
   "execution_count": 50,
   "metadata": {
    "ExecuteTime": {
     "end_time": "2018-08-24T02:59:24.798508Z",
     "start_time": "2018-08-24T02:59:18.203794Z"
    }
   },
   "outputs": [],
   "source": [
    "phys_dmsedy = numpy.diff(mse_1000, axis=2)/dy # diff in y, then take mean \n",
    "phys_dmsedy = 0.5*(phys_dmsedy[:,1:,:,1:]+phys_dmsedy[:,:-1,:,:-1])"
   ]
  },
  {
   "cell_type": "code",
   "execution_count": 51,
   "metadata": {
    "ExecuteTime": {
     "end_time": "2018-08-24T02:59:32.366654Z",
     "start_time": "2018-08-24T02:59:24.818674Z"
    }
   },
   "outputs": [],
   "source": [
    "cont_dmsedz = numpy.diff(mse_400, axis=1)/(geopot_400_diff/g)\n",
    "cont_dmsedz = 0.5*(cont_dmsedz[:,:,1:,1:]+cont_dmsedz[:,:,:-1,:-1])"
   ]
  },
  {
   "cell_type": "code",
   "execution_count": 52,
   "metadata": {
    "ExecuteTime": {
     "end_time": "2018-08-24T02:59:39.823150Z",
     "start_time": "2018-08-24T02:59:32.375523Z"
    }
   },
   "outputs": [],
   "source": [
    "phys_dmsedz = numpy.diff(mse_1000, axis=1)/(geopot_1000_diff/g)\n",
    "phys_dmsedz = 0.5*(phys_dmsedz[:,:,1:,1:]+phys_dmsedz[:,:,:-1,:-1])"
   ]
  },
  {
   "cell_type": "code",
   "execution_count": 53,
   "metadata": {
    "ExecuteTime": {
     "end_time": "2018-08-24T02:59:56.526595Z",
     "start_time": "2018-08-24T02:59:39.831543Z"
    }
   },
   "outputs": [],
   "source": [
    "advection_400 = -(u_400_midpoints*cont_dmsedx + v_400_midpoints*cont_dmsedy + wa_400_midpoints*cont_dmsedz)\n",
    "advection_1000 = -(u_1000_midpoints*phys_dmsedx + v_1000_midpoints*phys_dmsedy + wa_1000_midpoints*phys_dmsedz)"
   ]
  },
  {
   "cell_type": "markdown",
   "metadata": {},
   "source": [
    "for pressure terms"
   ]
  },
  {
   "cell_type": "raw",
   "metadata": {
    "ExecuteTime": {
     "end_time": "2018-05-11T17:19:30.735177Z",
     "start_time": "2018-05-11T17:18:16.668679Z"
    }
   },
   "source": [
    "advection_400 = -(u_400_midpoints*cont_dqdx + v_400_midpoints*cont_dqdy + omega_400_midpoints*cont_dqdp)\n",
    "advection_1000 = -(u_1000_midpoints*phys_dqdx + v_1000_midpoints*phys_dqdy + omega_1000_midpoints*phys_dqdp)"
   ]
  },
  {
   "cell_type": "markdown",
   "metadata": {},
   "source": [
    "calculate vertical and horizontal terms separately"
   ]
  },
  {
   "cell_type": "raw",
   "metadata": {
    "ExecuteTime": {
     "end_time": "2018-05-11T17:21:45.917603Z",
     "start_time": "2018-05-11T17:19:30.743351Z"
    }
   },
   "source": [
    "advection_400_vert = -w_400_midpoints*cont_dqdp\n",
    "advection_400_horiz = -(u_400_midpoints*cont_dqdx + v_400_midpoints*cont_dqdy)\n",
    "\n",
    "advection_1000_vert = -omega_1000_midpoints*phys_dqdp\n",
    "advection_1000_horiz = -(u_1000_midpoints*phys_dqdx + v_1000_midpoints*phys_dqdy)"
   ]
  },
  {
   "cell_type": "code",
   "execution_count": 54,
   "metadata": {
    "ExecuteTime": {
     "end_time": "2018-08-24T03:00:12.742790Z",
     "start_time": "2018-08-24T02:59:56.535485Z"
    }
   },
   "outputs": [],
   "source": [
    "advection_400_vert = -wa_400_midpoints*cont_dmsedz\n",
    "advection_400_horiz = -(u_400_midpoints*cont_dmsedx + v_400_midpoints*cont_dmsedy)\n",
    "\n",
    "advection_1000_vert = -wa_1000_midpoints*phys_dmsedz\n",
    "advection_1000_horiz = -(u_1000_midpoints*phys_dmsedx + v_1000_midpoints*phys_dmsedy)"
   ]
  },
  {
   "cell_type": "markdown",
   "metadata": {},
   "source": [
    "# calculate time means"
   ]
  },
  {
   "cell_type": "markdown",
   "metadata": {},
   "source": [
    "Only time mean for qcloud, qrain, ptot\n",
    "\n",
    "Rest have day1 mean as well"
   ]
  },
  {
   "cell_type": "code",
   "execution_count": 55,
   "metadata": {
    "ExecuteTime": {
     "end_time": "2018-08-24T03:00:29.908288Z",
     "start_time": "2018-08-24T03:00:12.752442Z"
    }
   },
   "outputs": [],
   "source": [
    "ptot_400_tm = numpy.nanmean(ptot_400[24:,:,:,:], axis=0)\n",
    "ptot_1000_tm = numpy.nanmean(ptot_1000[24:,:,:,:], axis=0)"
   ]
  },
  {
   "cell_type": "code",
   "execution_count": null,
   "metadata": {
    "ExecuteTime": {
     "start_time": "2018-08-24T02:43:12.513Z"
    }
   },
   "outputs": [],
   "source": [
    "dmsedt_400_tm = numpy.nanmean(dmsedt_400[24:,:,:,:], axis=0)\n",
    "dmsedt_1000_tm = numpy.nanmean(dmsedt_1000[24:,:,:,:], axis=0)\n",
    "\n",
    "dmsedt_400_tm_day1 = numpy.nanmean(dmsedt_400[:24,:,:,:], axis=0)\n",
    "dmsedt_1000_tm_day1 = numpy.nanmean(dmsedt_1000[:24,:,:,:], axis=0)"
   ]
  },
  {
   "cell_type": "code",
   "execution_count": null,
   "metadata": {
    "ExecuteTime": {
     "start_time": "2018-08-24T02:43:12.516Z"
    }
   },
   "outputs": [],
   "source": [
    "advection_400_tm = numpy.nanmean(advection_400[24:,:,:,:], axis=0)\n",
    "advection_1000_tm = numpy.nanmean(advection_1000[24:,:,:,:], axis=0)\n",
    "\n",
    "advection_400_tm_day1 = numpy.nanmean(advection_400[:24,:,:,:], axis=0)\n",
    "advection_1000_tm_day1 = numpy.nanmean(advection_1000[:24,:,:,:], axis=0)"
   ]
  },
  {
   "cell_type": "code",
   "execution_count": null,
   "metadata": {
    "ExecuteTime": {
     "start_time": "2018-08-24T02:43:12.519Z"
    }
   },
   "outputs": [],
   "source": [
    "convergence_400_tm = numpy.nanmean(convergence_400[24:,:,:,:], axis=0)\n",
    "convergence_1000_tm = numpy.nanmean(convergence_1000[24:,:,:,:], axis=0)\n",
    "\n",
    "convergence_400_tm_day1 = numpy.nanmean(convergence_400[:24,:,:,:], axis=0)\n",
    "convergence_1000_tm_day1 = numpy.nanmean(convergence_1000[:24,:,:,:], axis=0)"
   ]
  },
  {
   "cell_type": "code",
   "execution_count": null,
   "metadata": {
    "ExecuteTime": {
     "start_time": "2018-08-24T02:43:12.526Z"
    }
   },
   "outputs": [],
   "source": [
    "convergence_400_tm = numpy.nanmean(convergence_400[24:,:,:,:], axis=0)\n",
    "convergence_1000_tm = numpy.nanmean(convergence_1000[24:,:,:,:], axis=0)\n",
    "\n",
    "convergence_400_tm_day1 = numpy.nanmean(convergence_400[:24,:,:,:], axis=0)\n",
    "convergence_1000_tm_day1 = numpy.nanmean(convergence_1000[:24,:,:,:], axis=0)"
   ]
  },
  {
   "cell_type": "markdown",
   "metadata": {},
   "source": [
    "calculate vertical and horizontal advection terms"
   ]
  },
  {
   "cell_type": "code",
   "execution_count": null,
   "metadata": {
    "ExecuteTime": {
     "start_time": "2018-08-24T02:43:12.530Z"
    }
   },
   "outputs": [],
   "source": [
    "advection_400_vert_tm = numpy.nanmean(advection_400_vert[24:,:,:,:], axis=0)\n",
    "advection_1000_vert_tm = numpy.nanmean(advection_1000_vert[24:,:,:,:], axis=0)\n",
    "advection_400_vert_tm_day1 = numpy.nanmean(advection_400_vert[:24,:,:,:], axis=0)\n",
    "advection_1000_vert_tm_day1 = numpy.nanmean(advection_1000_vert[:24,:,:,:], axis=0)\n",
    "\n",
    "advection_400_horiz_tm = numpy.nanmean(advection_400_horiz[24:,:,:,:], axis=0)\n",
    "advection_1000_horiz_tm = numpy.nanmean(advection_1000_horiz[24:,:,:,:], axis=0)\n",
    "advection_400_horiz_tm_day1 = numpy.nanmean(advection_400_horiz[:24,:,:,:], axis=0)\n",
    "advection_1000_horiz_tm_day1 = numpy.nanmean(advection_1000_horiz[:24,:,:,:], axis=0)"
   ]
  },
  {
   "cell_type": "code",
   "execution_count": null,
   "metadata": {
    "ExecuteTime": {
     "start_time": "2018-08-24T02:43:12.533Z"
    }
   },
   "outputs": [],
   "source": [
    "convergence_400_vert_tm = numpy.nanmean(convergence_400_vert[24:,:,:,:], axis=0)\n",
    "convergence_1000_vert_tm = numpy.nanmean(convergence_1000_vert[24:,:,:,:], axis=0)\n",
    "convergence_400_vert_tm_day1 = numpy.nanmean(convergence_400_vert[:24,:,:,:], axis=0)\n",
    "convergence_1000_vert_tm_day1 = numpy.nanmean(convergence_1000_vert[:24,:,:,:], axis=0)\n",
    "\n",
    "convergence_400_horiz_tm = numpy.nanmean(convergence_400_horiz[24:,:,:,:], axis=0)\n",
    "convergence_1000_horiz_tm = numpy.nanmean(convergence_1000_horiz[24:,:,:,:], axis=0)\n",
    "convergence_400_horiz_tm_day1 = numpy.nanmean(convergence_400_horiz[:24,:,:,:], axis=0)\n",
    "convergence_1000_horiz_tm_day1 = numpy.nanmean(convergence_1000_horiz[:24,:,:,:], axis=0)"
   ]
  },
  {
   "cell_type": "code",
   "execution_count": null,
   "metadata": {
    "ExecuteTime": {
     "start_time": "2018-08-24T02:43:12.538Z"
    }
   },
   "outputs": [],
   "source": [
    "#dry_lon_lo, dry_lon_hi, dry_lat_lo, dry_lat_hi = -60,-50,-10,10\n",
    "#wet_lon_lo, wet_lon_hi, wet_lat_lo, wet_lat_hi = -80,-75,-10,10\n",
    "\n",
    "dry_lon_lo, dry_lon_hi, dry_lat_lo, dry_lat_hi = -60,-50,-5,10\n",
    "wet_lon_lo, wet_lon_hi, wet_lat_lo, wet_lat_hi = -80,-70,-5,10\n",
    "\n",
    "#dry_lon_lo, dry_lon_hi, dry_lat_lo, dry_lat_hi = -65,-50,-10,10\n",
    "#wet_lon_lo, wet_lon_hi, wet_lat_lo, wet_lat_hi = -80,-75,-10,10\n",
    "\n",
    "dry_lon_lo_degE = 360+dry_lon_lo\n",
    "dry_lon_hi_degE = 360+dry_lon_hi\n",
    "\n",
    "wet_lon_lo_degE = 360+wet_lon_lo\n",
    "wet_lon_hi_degE = 360+wet_lon_hi"
   ]
  },
  {
   "cell_type": "code",
   "execution_count": null,
   "metadata": {
    "ExecuteTime": {
     "start_time": "2018-08-24T02:43:12.541Z"
    }
   },
   "outputs": [],
   "source": [
    "xlat_midpoints = 0.5*(xlat[1:,1:]+xlat[:-1,:-1])\n",
    "xlong_midpoints = 0.5*(xlong[1:,1:]+xlong[:-1,:-1])"
   ]
  },
  {
   "cell_type": "code",
   "execution_count": null,
   "metadata": {
    "ExecuteTime": {
     "start_time": "2018-08-24T02:43:12.544Z"
    }
   },
   "outputs": [],
   "source": [
    "wet_latlon_subset_midpoints = ((xlat_midpoints<=wet_lat_hi) & (xlat_midpoints>=wet_lat_lo) \\\n",
    "                               & (xlong_midpoints<=wet_lon_hi) & (xlong_midpoints>=wet_lon_lo))\n",
    "\n",
    "dry_latlon_subset_midpoints = ((xlat_midpoints<=dry_lat_hi) & (xlat_midpoints>=dry_lat_lo) \\\n",
    "                               & (xlong_midpoints<=dry_lon_hi) & (xlong_midpoints>=dry_lon_lo))\n",
    "\n",
    "lat_indices_midpoints = ((xlat_midpoints<=10)&(xlat_midpoints>=-10))"
   ]
  },
  {
   "cell_type": "code",
   "execution_count": null,
   "metadata": {
    "ExecuteTime": {
     "start_time": "2018-08-24T02:43:12.549Z"
    }
   },
   "outputs": [],
   "source": [
    "wet_latlon_subset = ((xlat<=wet_lat_hi) & (xlat>=wet_lat_lo) \\\n",
    "                               & (xlong<=wet_lon_hi) & (xlong>=wet_lon_lo))\n",
    "\n",
    "dry_latlon_subset = ((xlat<=dry_lat_hi) & (xlat>=dry_lat_lo) \\\n",
    "                               & (xlong<=dry_lon_hi) & (xlong>=dry_lon_lo))\n",
    "\n",
    "lat_indices = ((xlat<=10)&(xlat>=-10))"
   ]
  },
  {
   "cell_type": "markdown",
   "metadata": {},
   "source": [
    "# pulling out wet and dry regions"
   ]
  },
  {
   "cell_type": "code",
   "execution_count": null,
   "metadata": {
    "ExecuteTime": {
     "start_time": "2018-08-24T02:43:12.552Z"
    }
   },
   "outputs": [],
   "source": [
    "dmsedt_400_wet_region = numpy.nanmean(dmsedt_400_tm[:,wet_latlon_subset_midpoints], axis=1)\n",
    "dmsedt_400_dry_region = numpy.nanmean(dmsedt_400_tm[:,dry_latlon_subset_midpoints], axis=1)\n",
    "\n",
    "dmsedt_1000_wet_region = numpy.nanmean(dmsedt_1000_tm[:,wet_latlon_subset_midpoints], axis=1)\n",
    "dmsedt_1000_dry_region = numpy.nanmean(dmsedt_1000_tm[:,dry_latlon_subset_midpoints], axis=1)\n",
    "\n",
    "dmsedt_400_wet_region_day1 = numpy.nanmean(dmsedt_400_tm_day1[:,wet_latlon_subset_midpoints], axis=1)\n",
    "dmsedt_400_dry_region_day1 = numpy.nanmean(dmsedt_400_tm_day1[:,dry_latlon_subset_midpoints], axis=1)\n",
    "\n",
    "dmsedt_1000_wet_region_day1 = numpy.nanmean(dmsedt_1000_tm_day1[:,wet_latlon_subset_midpoints], axis=1)\n",
    "dmsedt_1000_dry_region_day1 = numpy.nanmean(dmsedt_1000_tm_day1[:,dry_latlon_subset_midpoints], axis=1)"
   ]
  },
  {
   "cell_type": "code",
   "execution_count": null,
   "metadata": {
    "ExecuteTime": {
     "start_time": "2018-08-24T02:43:12.559Z"
    }
   },
   "outputs": [],
   "source": [
    "convergence_400_wet_region = numpy.nanmean(convergence_400_tm[:,wet_latlon_subset_midpoints], axis=1)\n",
    "convergence_400_dry_region = numpy.nanmean(convergence_400_tm[:,dry_latlon_subset_midpoints], axis=1)\n",
    "\n",
    "convergence_1000_wet_region = numpy.nanmean(convergence_1000_tm[:,wet_latlon_subset_midpoints], axis=1)\n",
    "convergence_1000_dry_region = numpy.nanmean(convergence_1000_tm[:,dry_latlon_subset_midpoints], axis=1)\n",
    "\n",
    "convergence_400_wet_region_day1 = numpy.nanmean(convergence_400_tm_day1[:,wet_latlon_subset_midpoints], axis=1)\n",
    "convergence_400_dry_region_day1 = numpy.nanmean(convergence_400_tm_day1[:,dry_latlon_subset_midpoints], axis=1)\n",
    "\n",
    "convergence_1000_wet_region_day1 = numpy.nanmean(convergence_1000_tm_day1[:,wet_latlon_subset_midpoints], axis=1)\n",
    "convergence_1000_dry_region_day1 = numpy.nanmean(convergence_1000_tm_day1[:,dry_latlon_subset_midpoints], axis=1)"
   ]
  },
  {
   "cell_type": "code",
   "execution_count": null,
   "metadata": {},
   "outputs": [],
   "source": []
  },
  {
   "cell_type": "code",
   "execution_count": null,
   "metadata": {
    "ExecuteTime": {
     "start_time": "2018-08-24T02:43:12.576Z"
    }
   },
   "outputs": [],
   "source": [
    "convergence_400.shape"
   ]
  },
  {
   "cell_type": "code",
   "execution_count": null,
   "metadata": {
    "ExecuteTime": {
     "start_time": "2018-08-24T02:43:12.580Z"
    }
   },
   "outputs": [],
   "source": [
    "advection_400_wet_region = numpy.nanmean(advection_400_tm[:,wet_latlon_subset_midpoints], axis=1)\n",
    "advection_400_dry_region = numpy.nanmean(advection_400_tm[:,dry_latlon_subset_midpoints], axis=1)\n",
    "\n",
    "advection_1000_wet_region = numpy.nanmean(advection_1000_tm[:,wet_latlon_subset_midpoints], axis=1)\n",
    "advection_1000_dry_region = numpy.nanmean(advection_1000_tm[:,dry_latlon_subset_midpoints], axis=1)\n",
    "\n",
    "advection_400_wet_region_day1 = numpy.nanmean(advection_400_tm_day1[:,wet_latlon_subset_midpoints], axis=1)\n",
    "advection_400_dry_region_day1 = numpy.nanmean(advection_400_tm_day1[:,dry_latlon_subset_midpoints], axis=1)\n",
    "\n",
    "advection_1000_wet_region_day1 = numpy.nanmean(advection_1000_tm_day1[:,wet_latlon_subset_midpoints], axis=1)\n",
    "advection_1000_dry_region_day1 = numpy.nanmean(advection_1000_tm_day1[:,dry_latlon_subset_midpoints], axis=1)"
   ]
  },
  {
   "cell_type": "code",
   "execution_count": null,
   "metadata": {
    "ExecuteTime": {
     "start_time": "2018-08-24T02:43:12.585Z"
    }
   },
   "outputs": [],
   "source": [
    "wa_400_tm = numpy.nanmean(wa_400[24:,:,:,:], axis=0)\n",
    "wa_1000_tm = numpy.nanmean(wa_1000[24:,:,:,:], axis=0)\n",
    "\n",
    "wa_400_tm_day1 = numpy.nanmean(wa_400[:24,:,:,:], axis=0)\n",
    "wa_1000_tm_day1 = numpy.nanmean(wa_1000[:24,:,:,:], axis=0)"
   ]
  },
  {
   "cell_type": "code",
   "execution_count": null,
   "metadata": {
    "ExecuteTime": {
     "start_time": "2018-08-24T02:43:12.591Z"
    }
   },
   "outputs": [],
   "source": [
    "wa_400_wet = numpy.nanmean(wa_400_tm[:,wet_latlon_subset],axis=1)\n",
    "wa_400_dry = numpy.nanmean(wa_400_tm[:,dry_latlon_subset],axis=1)\n",
    "\n",
    "wa_1000_wet = numpy.nanmean(wa_1000_tm[:,wet_latlon_subset],axis=1)\n",
    "wa_1000_dry = numpy.nanmean(wa_1000_tm[:,dry_latlon_subset],axis=1)\n",
    "\n",
    "wa_400_wet_day1 = numpy.nanmean(wa_400_tm_day1[:,wet_latlon_subset],axis=1)\n",
    "wa_400_dry_day1 = numpy.nanmean(wa_400_tm_day1[:,dry_latlon_subset],axis=1)\n",
    "\n",
    "wa_1000_wet_day1 = numpy.nanmean(wa_1000_tm_day1[:,wet_latlon_subset],axis=1)\n",
    "wa_1000_dry_day1 = numpy.nanmean(wa_1000_tm_day1[:,dry_latlon_subset],axis=1)"
   ]
  },
  {
   "cell_type": "code",
   "execution_count": null,
   "metadata": {
    "ExecuteTime": {
     "start_time": "2018-08-24T02:43:12.597Z"
    }
   },
   "outputs": [],
   "source": [
    "convergence_400_vert_wet_region = numpy.nanmean(convergence_400_vert_tm[:,wet_latlon_subset_midpoints], axis=1)\n",
    "convergence_400_vert_dry_region = numpy.nanmean(convergence_400_vert_tm[:,dry_latlon_subset_midpoints], axis=1)\n",
    "\n",
    "convergence_1000_vert_wet_region = numpy.nanmean(convergence_1000_vert_tm[:,wet_latlon_subset_midpoints], axis=1)\n",
    "convergence_1000_vert_dry_region = numpy.nanmean(convergence_1000_vert_tm[:,dry_latlon_subset_midpoints], axis=1)\n",
    "\n",
    "convergence_400_vert_wet_region_day1 = numpy.nanmean(convergence_400_vert_tm_day1[:,wet_latlon_subset_midpoints], axis=1)\n",
    "convergence_400_vert_dry_region_day1 = numpy.nanmean(convergence_400_vert_tm_day1[:,dry_latlon_subset_midpoints], axis=1)\n",
    "\n",
    "convergence_1000_vert_wet_region_day1 = numpy.nanmean(convergence_1000_vert_tm_day1[:,wet_latlon_subset_midpoints], axis=1)\n",
    "convergence_1000_vert_dry_region_day1 = numpy.nanmean(convergence_1000_vert_tm_day1[:,dry_latlon_subset_midpoints], axis=1)\n",
    "\n"
   ]
  },
  {
   "cell_type": "code",
   "execution_count": null,
   "metadata": {
    "ExecuteTime": {
     "start_time": "2018-08-24T02:43:12.600Z"
    }
   },
   "outputs": [],
   "source": [
    "convergence_400_horiz_wet_region = numpy.nanmean(convergence_400_horiz_tm[:,wet_latlon_subset_midpoints], axis=1)\n",
    "convergence_400_horiz_dry_region = numpy.nanmean(convergence_400_horiz_tm[:,dry_latlon_subset_midpoints], axis=1)\n",
    "\n",
    "convergence_1000_horiz_wet_region = numpy.nanmean(convergence_1000_horiz_tm[:,wet_latlon_subset_midpoints], axis=1)\n",
    "convergence_1000_horiz_dry_region = numpy.nanmean(convergence_1000_horiz_tm[:,dry_latlon_subset_midpoints], axis=1)\n",
    "\n",
    "convergence_400_horiz_wet_region_day1 = numpy.nanmean(convergence_400_horiz_tm_day1[:,wet_latlon_subset_midpoints], axis=1)\n",
    "convergence_400_horiz_dry_region_day1 = numpy.nanmean(convergence_400_horiz_tm_day1[:,dry_latlon_subset_midpoints], axis=1)\n",
    "\n",
    "convergence_1000_horiz_wet_region_day1 = numpy.nanmean(convergence_1000_horiz_tm_day1[:,wet_latlon_subset_midpoints], axis=1)\n",
    "convergence_1000_horiz_dry_region_day1 = numpy.nanmean(convergence_1000_horiz_tm_day1[:,dry_latlon_subset_midpoints], axis=1)\n",
    "\n"
   ]
  },
  {
   "cell_type": "code",
   "execution_count": null,
   "metadata": {
    "ExecuteTime": {
     "start_time": "2018-08-24T02:43:12.606Z"
    }
   },
   "outputs": [],
   "source": [
    "advection_400_vert_wet_region = numpy.nanmean(advection_400_vert_tm[:,wet_latlon_subset_midpoints], axis=1)\n",
    "advection_400_vert_dry_region = numpy.nanmean(advection_400_vert_tm[:,dry_latlon_subset_midpoints], axis=1)\n",
    "\n",
    "advection_1000_vert_wet_region = numpy.nanmean(advection_1000_vert_tm[:,wet_latlon_subset_midpoints], axis=1)\n",
    "advection_1000_vert_dry_region = numpy.nanmean(advection_1000_vert_tm[:,dry_latlon_subset_midpoints], axis=1)\n",
    "\n",
    "advection_400_vert_wet_region_day1 = numpy.nanmean(advection_400_vert_tm_day1[:,wet_latlon_subset_midpoints], axis=1)\n",
    "advection_400_vert_dry_region_day1 = numpy.nanmean(advection_400_vert_tm_day1[:,dry_latlon_subset_midpoints], axis=1)\n",
    "\n",
    "advection_1000_vert_wet_region_day1 = numpy.nanmean(advection_1000_vert_tm_day1[:,wet_latlon_subset_midpoints], axis=1)\n",
    "advection_1000_vert_dry_region_day1 = numpy.nanmean(advection_1000_vert_tm_day1[:,dry_latlon_subset_midpoints], axis=1)"
   ]
  },
  {
   "cell_type": "code",
   "execution_count": null,
   "metadata": {
    "ExecuteTime": {
     "start_time": "2018-08-24T02:43:12.611Z"
    }
   },
   "outputs": [],
   "source": [
    "advection_400_horiz_wet_region = numpy.nanmean(advection_400_horiz_tm[:,wet_latlon_subset_midpoints], axis=1)\n",
    "advection_400_horiz_dry_region = numpy.nanmean(advection_400_horiz_tm[:,dry_latlon_subset_midpoints], axis=1)\n",
    "\n",
    "advection_1000_horiz_wet_region = numpy.nanmean(advection_1000_horiz_tm[:,wet_latlon_subset_midpoints], axis=1)\n",
    "advection_1000_horiz_dry_region = numpy.nanmean(advection_1000_horiz_tm[:,dry_latlon_subset_midpoints], axis=1)\n",
    "\n",
    "advection_400_horiz_wet_region_day1 = numpy.nanmean(advection_400_horiz_tm_day1[:,wet_latlon_subset_midpoints], axis=1)\n",
    "advection_400_horiz_dry_region_day1 = numpy.nanmean(advection_400_horiz_tm_day1[:,dry_latlon_subset_midpoints], axis=1)\n",
    "\n",
    "advection_1000_horiz_wet_region_day1 = numpy.nanmean(advection_1000_horiz_tm_day1[:,wet_latlon_subset_midpoints], axis=1)\n",
    "advection_1000_horiz_dry_region_day1 = numpy.nanmean(advection_1000_horiz_tm_day1[:,dry_latlon_subset_midpoints], axis=1)"
   ]
  },
  {
   "cell_type": "markdown",
   "metadata": {},
   "source": [
    "# plot vertical changes using ptot change"
   ]
  },
  {
   "cell_type": "code",
   "execution_count": null,
   "metadata": {
    "ExecuteTime": {
     "start_time": "2018-08-24T02:43:12.615Z"
    }
   },
   "outputs": [],
   "source": [
    "ptot_400_dry_region_midpoints = numpy.nanmean(ptot_400_midpoints[:,:,dry_latlon_subset_midpoints], axis=(0,2))\n",
    "ptot_400_wet_region_midpoints = numpy.nanmean(ptot_400_midpoints[:,:,wet_latlon_subset_midpoints], axis=(0,2))"
   ]
  },
  {
   "cell_type": "code",
   "execution_count": null,
   "metadata": {
    "ExecuteTime": {
     "start_time": "2018-08-24T02:43:12.619Z"
    }
   },
   "outputs": [],
   "source": [
    "ptot_400_dry_region = numpy.nanmean(ptot_400[:,:,dry_latlon_subset], axis=(0,2))\n",
    "ptot_400_wet_region = numpy.nanmean(ptot_400[:,:,wet_latlon_subset], axis=(0,2))"
   ]
  },
  {
   "cell_type": "code",
   "execution_count": null,
   "metadata": {
    "ExecuteTime": {
     "start_time": "2018-08-24T02:43:12.624Z"
    }
   },
   "outputs": [],
   "source": [
    "diff_wet_region_dmsedt = dmsedt_1000_wet_region-dmsedt_400_wet_region\n",
    "diff_dry_region_dmsedt = dmsedt_1000_dry_region-dmsedt_400_dry_region\n",
    "\n",
    "diff_wet_region_dmsedt_day1 = dmsedt_1000_wet_region_day1-dmsedt_400_wet_region_day1\n",
    "diff_dry_region_dmsedt_day1 = dmsedt_1000_dry_region_day1-dmsedt_400_dry_region_day1"
   ]
  },
  {
   "cell_type": "code",
   "execution_count": null,
   "metadata": {
    "ExecuteTime": {
     "start_time": "2018-08-24T02:43:12.629Z"
    }
   },
   "outputs": [],
   "source": [
    "diff_wet_region_conv = convergence_1000_wet_region-convergence_400_wet_region\n",
    "diff_dry_region_conv = convergence_1000_dry_region-convergence_400_dry_region\n",
    "\n",
    "diff_wet_region_conv_day1 = convergence_1000_wet_region_day1-convergence_400_wet_region_day1\n",
    "diff_dry_region_conv_day1 = convergence_1000_dry_region_day1-convergence_400_dry_region_day1"
   ]
  },
  {
   "cell_type": "code",
   "execution_count": null,
   "metadata": {
    "ExecuteTime": {
     "start_time": "2018-08-24T02:43:12.633Z"
    }
   },
   "outputs": [],
   "source": [
    "diff_wet_region_adv = advection_1000_wet_region-advection_400_wet_region\n",
    "diff_dry_region_adv = advection_1000_dry_region-advection_400_dry_region\n",
    "\n",
    "diff_wet_region_adv_day1 = advection_1000_wet_region_day1-advection_400_wet_region_day1\n",
    "diff_dry_region_adv_day1 = advection_1000_dry_region_day1-advection_400_dry_region_day1"
   ]
  },
  {
   "cell_type": "code",
   "execution_count": null,
   "metadata": {
    "ExecuteTime": {
     "start_time": "2018-08-24T02:43:12.637Z"
    }
   },
   "outputs": [],
   "source": [
    "wa_diff_wet_region = wa_1000_wet-wa_400_wet\n",
    "wa_diff_dry_region = wa_1000_dry-wa_400_dry\n",
    "\n",
    "wa_diff_wet_region_day1 = wa_1000_wet_day1-wa_400_wet_day1\n",
    "wa_diff_dry_region_day1 = wa_1000_dry_day1-wa_400_dry_day1"
   ]
  },
  {
   "cell_type": "markdown",
   "metadata": {},
   "source": [
    "same but for vert and horiz split up"
   ]
  },
  {
   "cell_type": "code",
   "execution_count": null,
   "metadata": {
    "ExecuteTime": {
     "start_time": "2018-08-24T02:43:12.641Z"
    }
   },
   "outputs": [],
   "source": [
    "diff_wet_region_vert_conv = convergence_1000_vert_wet_region-convergence_400_vert_wet_region\n",
    "diff_dry_region_vert_conv = convergence_1000_vert_dry_region-convergence_400_vert_dry_region\n",
    "\n",
    "diff_wet_region_vert_conv_day1 = convergence_1000_vert_wet_region_day1-convergence_400_vert_wet_region_day1\n",
    "diff_dry_region_vert_conv_day1 = convergence_1000_vert_dry_region_day1-convergence_400_vert_dry_region_day1\n",
    "\n",
    "diff_wet_region_vert_adv = advection_1000_vert_wet_region-advection_400_vert_wet_region\n",
    "diff_dry_region_vert_adv = advection_1000_vert_dry_region-advection_400_vert_dry_region\n",
    "\n",
    "diff_wet_region_vert_adv_day1 = advection_1000_vert_wet_region_day1-advection_400_vert_wet_region_day1\n",
    "diff_dry_region_vert_adv_day1 = advection_1000_vert_dry_region_day1-advection_400_vert_dry_region_day1"
   ]
  },
  {
   "cell_type": "code",
   "execution_count": null,
   "metadata": {
    "ExecuteTime": {
     "start_time": "2018-08-24T02:43:12.645Z"
    }
   },
   "outputs": [],
   "source": [
    "diff_wet_region_horiz_conv = convergence_1000_horiz_wet_region-convergence_400_horiz_wet_region\n",
    "diff_dry_region_horiz_conv = convergence_1000_horiz_dry_region-convergence_400_horiz_dry_region\n",
    "\n",
    "diff_wet_region_horiz_conv_day1 = convergence_1000_horiz_wet_region_day1-convergence_400_horiz_wet_region_day1\n",
    "diff_dry_region_horiz_conv_day1 = convergence_1000_horiz_dry_region_day1-convergence_400_horiz_dry_region_day1\n",
    "\n",
    "diff_wet_region_horiz_adv = advection_1000_horiz_wet_region-advection_400_horiz_wet_region\n",
    "diff_dry_region_horiz_adv = advection_1000_horiz_dry_region-advection_400_horiz_dry_region\n",
    "\n",
    "diff_wet_region_horiz_adv_day1 = advection_1000_horiz_wet_region_day1-advection_400_horiz_wet_region_day1\n",
    "diff_dry_region_horiz_adv_day1 = advection_1000_horiz_dry_region_day1-advection_400_horiz_dry_region_day1"
   ]
  },
  {
   "cell_type": "markdown",
   "metadata": {},
   "source": [
    "# dmsedt time series"
   ]
  },
  {
   "cell_type": "code",
   "execution_count": null,
   "metadata": {
    "ExecuteTime": {
     "start_time": "2018-08-24T02:43:12.649Z"
    }
   },
   "outputs": [],
   "source": [
    "ptot_400_dry_latlon = ptot_400_midpoints[:,:,dry_latlon_subset_midpoints]\n",
    "\n",
    "dmsedt_400_dry_latlon = dmsedt_400[:,:,dry_latlon_subset_midpoints]\n",
    "dmsedt_1000_dry_latlon = dmsedt_1000[:,:,dry_latlon_subset_midpoints]\n",
    "dmsedt_diff_dry_latlon = dmsedt_1000_dry_latlon-dmsedt_400_dry_latlon\n",
    "\n",
    "dmsedt_400_dry_latlon_areamean = numpy.nanmean(dmsedt_400_dry_latlon, axis=2)\n",
    "dmsedt_diff_dry_latlon_areamean = numpy.nanmean(dmsedt_diff_dry_latlon, axis=2)\n",
    "ptot_400_dry_latlon_areamean = numpy.nanmean(ptot_400_dry_latlon, axis=2)"
   ]
  },
  {
   "cell_type": "code",
   "execution_count": null,
   "metadata": {
    "ExecuteTime": {
     "start_time": "2018-08-24T02:43:12.653Z"
    }
   },
   "outputs": [],
   "source": [
    "convergence_400_dry_latlon = convergence_400[:,:,dry_latlon_subset_midpoints]\n",
    "convergence_1000_dry_latlon = convergence_1000[:,:,dry_latlon_subset_midpoints]\n",
    "\n",
    "advection_400_dry_latlon = advection_400[:,:,dry_latlon_subset_midpoints]\n",
    "advection_1000_dry_latlon = advection_1000[:,:,dry_latlon_subset_midpoints]\n",
    "\n",
    "advection_diff_dry_latlon = advection_1000_dry_latlon-advection_400_dry_latlon\n",
    "convergence_diff_dry_latlon = convergence_1000_dry_latlon-convergence_400_dry_latlon\n",
    "\n",
    "advection_400_dry_latlon_areamean = numpy.nanmean(advection_400_dry_latlon, axis=2)\n",
    "convergence_400_dry_latlon_areamean = numpy.nanmean(convergence_400_dry_latlon, axis=2)\n",
    "advection_diff_dry_latlon_areamean = numpy.nanmean(advection_diff_dry_latlon, axis=2)\n",
    "convergence_diff_dry_latlon_areamean = numpy.nanmean(convergence_diff_dry_latlon, axis=2)"
   ]
  },
  {
   "cell_type": "code",
   "execution_count": null,
   "metadata": {
    "ExecuteTime": {
     "start_time": "2018-08-24T02:43:12.658Z"
    }
   },
   "outputs": [],
   "source": [
    "xx_dmsedt, pp_dmsedt = numpy.meshgrid(numpy.arange(241), ptot_400_dry_latlon_areamean[0,:])"
   ]
  },
  {
   "cell_type": "code",
   "execution_count": null,
   "metadata": {
    "ExecuteTime": {
     "start_time": "2018-08-24T02:43:12.662Z"
    }
   },
   "outputs": [],
   "source": [
    "fontsize = 12\n",
    "\n",
    "fig = mp.figure(figsize=(6.5,2))\n",
    "\n",
    "ax = fig.add_subplot(111)\n",
    "ax.tick_params(labelsize=fontsize)\n",
    "contour_plot = ax.pcolormesh(xx_dmsedt, ptot_400_dry_latlon_areamean.T/100., \\\n",
    "                             dmsedt_diff_dry_latlon_areamean.T, \\\n",
    "                             cmap=cmocean.cm.balance_r, vmin=-.05, vmax=.05)\n",
    "\n",
    "ax.set_ylim(1000,300)\n",
    "#ax.set_xlim(0,240)\n",
    "ax.set_xlim(0,84)\n",
    "\n",
    "ax.set_xlabel('hour', fontsize=fontsize)\n",
    "ax.set_ylabel('hPa', fontsize=fontsize)\n",
    "\n",
    "fig.colorbar(contour_plot)"
   ]
  },
  {
   "cell_type": "code",
   "execution_count": null,
   "metadata": {
    "ExecuteTime": {
     "start_time": "2018-08-24T02:43:12.665Z"
    }
   },
   "outputs": [],
   "source": [
    "fontsize = 12\n",
    "\n",
    "fig = mp.figure(figsize=(6.5,2))\n",
    "\n",
    "ax = fig.add_subplot(111)\n",
    "ax.tick_params(labelsize=fontsize)\n",
    "contour_plot = ax.pcolormesh(xx_dmsedt, ptot_400_dry_latlon_areamean.T/100., \\\n",
    "                             dmsedt_400_dry_latlon_areamean.T, \\\n",
    "                             cmap=cmocean.cm.balance_r, vmin=-.25, vmax=.25)\n",
    "\n",
    "contour_line = ax.contour(xx_dmsedt, ptot_400_dry_latlon_areamean.T/100., \\\n",
    "                          dmsedt_400_dry_latlon_areamean.T, \\\n",
    "                          levels=[0], linewidths=[1], colors='0.1')\n",
    "ax.set_ylim(1000,300)\n",
    "ax.set_xlim(0,84)\n",
    "\n",
    "ax.set_xlabel('hour', fontsize=fontsize)\n",
    "ax.set_ylabel('hPa', fontsize=fontsize)\n",
    "\n",
    "fig.colorbar(contour_plot)\n",
    "\n"
   ]
  },
  {
   "cell_type": "code",
   "execution_count": null,
   "metadata": {
    "ExecuteTime": {
     "start_time": "2018-08-24T02:43:12.670Z"
    }
   },
   "outputs": [],
   "source": [
    "fontsize = 12\n",
    "\n",
    "fig = mp.figure(figsize=(4.25,6))\n",
    "\n",
    "\n",
    "ax1 = fig.add_subplot(311)\n",
    "ax1.tick_params(labelsize=fontsize)\n",
    "# contour_plot1 = ax1.pcolormesh(xx_dmsedt-4, ptot_400_dry_latlon_areamean.T/100., \\\n",
    "#                              dmsedt_400_dry_latlon_areamean.T, \\\n",
    "#                              cmap=cmocean.cm.balance_r, vmin=-.2, vmax=.2)\n",
    "\n",
    "levels = numpy.arange(-.15,.151,0.0125)\n",
    "contour_plot1 = ax1.contourf(xx_dmsedt-4, ptot_400_dry_latlon_areamean.T/100., \\\n",
    "                             dmsedt_400_dry_latlon_areamean.T, \\\n",
    "                             cmap=cmocean.cm.balance_r, extend='both', levels=levels)\n",
    "\n",
    "contour_line1 = ax1.contour(xx_dmsedt-4, ptot_400_dry_latlon_areamean.T/100., \\\n",
    "                          dmsedt_400_dry_latlon_areamean.T, \\\n",
    "                          levels=[0], linewidths=[1], colors='0.1')\n",
    "ax1.set_ylim(1000,300)\n",
    "ax1.set_xlim(0,24)\n",
    "ax1.set_xticks([i for i in range(0,25,6)])\n",
    "ax1.set_yticks([400,600,800,1000])\n",
    "#ax1.set_xlabel('hour', fontsize=fontsize)\n",
    "ax1.set_ylabel('hPa', fontsize=fontsize)\n",
    "\n",
    "\n",
    "\n",
    "ax2 = fig.add_subplot(312)\n",
    "ax2.tick_params(labelsize=fontsize)\n",
    "# contour_plot2 = ax2.pcolormesh(xx_dmsedt-4, ptot_400_dry_latlon_areamean.T/100., \\\n",
    "#                              dmsedt_diff_dry_latlon_areamean.T, \\\n",
    "#                              cmap=cmocean.cm.balance_r, vmin=-.05, vmax=.05)\n",
    "\n",
    "levels = numpy.arange(-0.05,0.051,0.01)\n",
    "\n",
    "contour_plot2 = ax2.contourf(xx_dmsedt-4, ptot_400_dry_latlon_areamean.T/100., \\\n",
    "                             dmsedt_diff_dry_latlon_areamean.T, \\\n",
    "                             cmap=cmocean.cm.balance_r, extend='both', levels=levels)\n",
    "\n",
    "contour_line2 = ax2.contour(xx_dmsedt-4, ptot_400_dry_latlon_areamean.T/100., \\\n",
    "                          dmsedt_400_dry_latlon_areamean.T, \\\n",
    "                          levels=[0], linewidths=[1], colors='0.1')\n",
    "ax2.set_ylim(1000,300)\n",
    "#ax.set_xlim(0,240)\n",
    "ax2.set_xlim(0,24)\n",
    "#ax2.set_xlabel('hour', fontsize=fontsize)\n",
    "ax2.set_ylabel('hPa', fontsize=fontsize)\n",
    "ax2.set_xticks([i for i in range(0,25,6)])\n",
    "ax2.set_yticks([400,600,800,1000])\n",
    "\n",
    "ax2.add_patch(matplotlib.patches.Rectangle((12,700),8,-400, \\\n",
    "                                           fill=False, \\\n",
    "                                           edgecolor='0.1', lw=2, clip_on=False))\n",
    "\n",
    "\n",
    "\n",
    "ax3 = fig.add_subplot(313)\n",
    "ax3.tick_params(labelsize=fontsize)\n",
    "\n",
    "levels = numpy.arange(-0.015,0.0151,0.0025)\n",
    "contour_plot3 = ax3.contourf(xx_dmsedt-4, ptot_400_dry_latlon_areamean.T/100., \\\n",
    "                             dmsedt_diff_dry_latlon_areamean.T, \\\n",
    "                             cmap=cmocean.cm.balance_r, levels=levels, extend='both')\n",
    "contour_line3 = ax3.contour(xx_dmsedt-4, ptot_400_dry_latlon_areamean.T/100., \\\n",
    "                          dmsedt_400_dry_latlon_areamean.T, \\\n",
    "                          levels=[0], linewidths=[1], colors='0.1')\n",
    "ax3.set_ylim(700,300)\n",
    "#ax.set_xlim(0,240)\n",
    "ax3.set_xlim(12,20)\n",
    "ax3.set_xlabel('hour', fontsize=fontsize)\n",
    "ax3.set_ylabel('hPa', fontsize=fontsize)\n",
    "ax3.set_xticks([i for i in range(12,21,2)])\n",
    "ax3.set_yticks([300,400,500,600,700])\n",
    "\n",
    "for c in contour_plot1.collections:\n",
    "    c.set_edgecolor('face')\n",
    "    c.set_rasterized(True)\n",
    "for c in contour_plot2.collections:\n",
    "    c.set_edgecolor('face')\n",
    "    c.set_rasterized(True)\n",
    "for c in contour_plot3.collections:\n",
    "    c.set_edgecolor('face')\n",
    "    c.set_rasterized(True)\n",
    "\n",
    "ax1.text(s='(a) control dMSE/dt', x=0, y=1.02, ha='left', va='bottom', fontsize=fontsize, transform=ax1.transAxes)\n",
    "ax2.text(s='(b) $\\Delta$ dMSE/dt', x=0, y=1.02, ha='left', va='bottom', fontsize=fontsize, transform=ax2.transAxes)\n",
    "ax3.text(s='(c) $\\Delta$ dMSE/dt zoom', x=0, y=1.02, ha='left', va='bottom', fontsize=fontsize, transform=ax3.transAxes)\n",
    "\n",
    "fig.tight_layout(h_pad=2)\n",
    "\n",
    "ax1pos = ax1.get_position()\n",
    "cbar_ax1 = fig.add_axes([ax1pos.x1+0.05, ax1pos.y0, 0.03, ax1pos.height])\n",
    "cbar1 = fig.colorbar(contour_plot1, cax=cbar_ax1)\n",
    "cbar_ax1.tick_params(labelsize=fontsize)\n",
    "cbar1.add_lines(contour_line1)\n",
    "cbar1.set_label('J kg$^{\\,-1}$s$^{\\,-1}$', fontsize=fontsize)\n",
    "cbar1.set_ticks([-.1,0,.1])\n",
    "\n",
    "for c in cbar_ax1.collections:\n",
    "    c.set_edgecolor('face')\n",
    "\n",
    "ax2pos = ax2.get_position()\n",
    "cbar_ax2 = fig.add_axes([ax2pos.x1+0.05, ax2pos.y0, 0.03, ax2pos.height])\n",
    "cbar2 = fig.colorbar(contour_plot2, cax=cbar_ax2)\n",
    "cbar_ax2.tick_params(labelsize=fontsize)\n",
    "cbar2.set_label('J kg$^{\\,-1}$s$^{\\,-1}$', fontsize=fontsize)\n",
    "cbar2.add_lines(contour_line2)\n",
    "\n",
    "for c in cbar_ax2.collections:\n",
    "    c.set_edgecolor('face')\n",
    "\n",
    "ax3pos = ax3.get_position()\n",
    "cbar_ax3 = fig.add_axes([ax3pos.x1+0.05, ax3pos.y0, 0.03, ax3pos.height])\n",
    "cbar3 = fig.colorbar(contour_plot3, cax=cbar_ax3)\n",
    "cbar_ax3.tick_params(labelsize=fontsize)\n",
    "cbar3.add_lines(contour_line3)\n",
    "cbar3.set_label('J kg$^{\\,-1}$s$^{\\,-1}$', fontsize=fontsize)\n",
    "cbar3.set_ticks([-.01,0,.01])\n",
    "\n",
    "for c in cbar_ax3.collections:\n",
    "    c.set_edgecolor('face')\n",
    "\n",
    "conpatch = matplotlib.patches.ConnectionPatch(xyA=(12,300), \\\n",
    "                                              xyB=(12,700), \\\n",
    "                                              coordsA='data', \\\n",
    "                                              coordsB='data', \\\n",
    "                                              axesA=ax3, \\\n",
    "                                              axesB=ax2, \\\n",
    "                                              color='0.1')\n",
    "ax3.add_artist(conpatch)\n",
    "\n",
    "conpatch = matplotlib.patches.ConnectionPatch(xyA=(20,300), \\\n",
    "                                              xyB=(20,700), \\\n",
    "                                              coordsA='data', \\\n",
    "                                              coordsB='data', \\\n",
    "                                              axesA=ax3, \\\n",
    "                                              axesB=ax2, \\\n",
    "                                              color='0.1')\n",
    "\n",
    "ax3.add_artist(conpatch)\n",
    "\n",
    "fig.savefig('../figures/MAIN_fig10.pdf', dpi=300, bbox_inches='tight', transparent=True)"
   ]
  },
  {
   "cell_type": "code",
   "execution_count": null,
   "metadata": {},
   "outputs": [],
   "source": []
  }
 ],
 "metadata": {
  "kernelspec": {
   "display_name": "Python 3",
   "language": "python",
   "name": "python3"
  },
  "language_info": {
   "codemirror_mode": {
    "name": "ipython",
    "version": 3
   },
   "file_extension": ".py",
   "mimetype": "text/x-python",
   "name": "python",
   "nbconvert_exporter": "python",
   "pygments_lexer": "ipython3",
   "version": "3.6.5"
  },
  "varInspector": {
   "cols": {
    "lenName": 16,
    "lenType": 16,
    "lenVar": 40
   },
   "kernels_config": {
    "python": {
     "delete_cmd_postfix": "",
     "delete_cmd_prefix": "del ",
     "library": "var_list.py",
     "varRefreshCmd": "print(var_dic_list())"
    },
    "r": {
     "delete_cmd_postfix": ") ",
     "delete_cmd_prefix": "rm(",
     "library": "var_list.r",
     "varRefreshCmd": "cat(var_dic_list()) "
    }
   },
   "types_to_exclude": [
    "module",
    "function",
    "builtin_function_or_method",
    "instance",
    "_Feature"
   ],
   "window_display": false
  }
 },
 "nbformat": 4,
 "nbformat_minor": 2
}
