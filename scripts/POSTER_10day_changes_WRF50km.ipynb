{
 "cells": [
  {
   "cell_type": "code",
   "execution_count": 1,
   "metadata": {
    "ExecuteTime": {
     "end_time": "2018-08-28T03:13:35.736495Z",
     "start_time": "2018-08-28T03:12:57.776620Z"
    }
   },
   "outputs": [],
   "source": [
    "import numpy\n",
    "import xarray\n",
    "import matplotlib\n",
    "import matplotlib.pyplot as mp\n",
    "import datetime\n",
    "import matplotlib.colors\n",
    "import pandas\n",
    "import matplotlib.patches\n",
    "import netCDF4\n",
    "import glob\n",
    "import cmocean\n",
    "import astropy.convolution\n",
    "\n",
    "import mpl_toolkits\n",
    "import cartopy\n",
    "\n",
    "DEGREE_SIGN = u'\\u00B0'\n",
    "mp.rcParams.update({'mathtext.default': 'regular'})"
   ]
  },
  {
   "cell_type": "code",
   "execution_count": 2,
   "metadata": {
    "ExecuteTime": {
     "end_time": "2018-08-28T03:13:35.740786Z",
     "start_time": "2018-08-28T03:13:35.738272Z"
    }
   },
   "outputs": [],
   "source": [
    "run_info = 'FMAASO'\n",
    "skip_time = 24"
   ]
  },
  {
   "cell_type": "markdown",
   "metadata": {},
   "source": [
    "# import FMAASO 400 data"
   ]
  },
  {
   "cell_type": "code",
   "execution_count": 3,
   "metadata": {
    "ExecuteTime": {
     "end_time": "2018-08-28T03:13:37.019283Z",
     "start_time": "2018-08-28T03:13:35.742505Z"
    }
   },
   "outputs": [],
   "source": [
    "root_dir = '/beegfs/DATA/pritchard/blangenb/WRF_ARCHIVE/CHEYENNE/FMAASO/400/ens_mean_wrfout_files'\n",
    "file_list = glob.glob(root_dir+'/'+'wrfout*.nc')\n",
    "ds_list = [netCDF4.Dataset(file) for file in file_list]"
   ]
  },
  {
   "cell_type": "code",
   "execution_count": 4,
   "metadata": {
    "ExecuteTime": {
     "end_time": "2018-08-28T03:13:44.302905Z",
     "start_time": "2018-08-28T03:13:37.021534Z"
    }
   },
   "outputs": [],
   "source": [
    "cont_mfds = xarray.open_mfdataset(root_dir + '/' + 'wrfout*.nc')"
   ]
  },
  {
   "cell_type": "code",
   "execution_count": 5,
   "metadata": {
    "ExecuteTime": {
     "end_time": "2018-08-28T03:16:33.812770Z",
     "start_time": "2018-08-28T03:13:44.304941Z"
    }
   },
   "outputs": [],
   "source": [
    "rainc_400 = cont_mfds['RAINC'].values\n",
    "rainnc_400 = cont_mfds['RAINNC'].values\n",
    "qvapor_400 = cont_mfds['QVAPOR'].values\n",
    "lh_400 = cont_mfds['LH'].values\n",
    "\n",
    "pblh_400 = cont_mfds['PBLH'].values\n",
    "t2_400 = cont_mfds['T2'].values"
   ]
  },
  {
   "cell_type": "code",
   "execution_count": 6,
   "metadata": {
    "ExecuteTime": {
     "end_time": "2018-08-28T03:17:01.830985Z",
     "start_time": "2018-08-28T03:16:33.814805Z"
    }
   },
   "outputs": [],
   "source": [
    "ecan_400 = cont_mfds['ECAN'].values*86400. # mm/day\n",
    "edir_400 = cont_mfds['EDIR'].values*86400.\n",
    "etran_400 = cont_mfds['ETRAN'].values*86400."
   ]
  },
  {
   "cell_type": "code",
   "execution_count": 7,
   "metadata": {
    "ExecuteTime": {
     "end_time": "2018-08-28T03:17:32.795345Z",
     "start_time": "2018-08-28T03:17:01.833028Z"
    }
   },
   "outputs": [],
   "source": [
    "time = cont_mfds['Times'].values\n",
    "xlat = cont_mfds['XLAT'].values[0,:,:]\n",
    "xlong = cont_mfds['XLONG'].values[0,:,:]\n",
    "landmask = cont_mfds['LANDMASK'].values[0,:,:]\n",
    "landmask_midpoints = landmask[1:,1:]"
   ]
  },
  {
   "cell_type": "code",
   "execution_count": 8,
   "metadata": {
    "ExecuteTime": {
     "end_time": "2018-08-28T03:17:33.838598Z",
     "start_time": "2018-08-28T03:17:32.797373Z"
    }
   },
   "outputs": [],
   "source": [
    "prw_400 = numpy.load('DATA_prw_400.npy')"
   ]
  },
  {
   "cell_type": "markdown",
   "metadata": {},
   "source": [
    "# import FMAASO 1000 data"
   ]
  },
  {
   "cell_type": "code",
   "execution_count": 9,
   "metadata": {
    "ExecuteTime": {
     "end_time": "2018-08-28T03:17:36.903873Z",
     "start_time": "2018-08-28T03:17:33.840655Z"
    }
   },
   "outputs": [],
   "source": [
    "root_dir = '/beegfs/DATA/pritchard/blangenb/WRF_ARCHIVE/CHEYENNE/FMAASO/1000/ens_mean_wrfout_files'\n",
    "file_list = glob.glob(root_dir+'/'+'wrfout*.nc')\n",
    "ds_list = [netCDF4.Dataset(file) for file in file_list]"
   ]
  },
  {
   "cell_type": "code",
   "execution_count": 10,
   "metadata": {
    "ExecuteTime": {
     "end_time": "2018-08-28T03:17:43.406240Z",
     "start_time": "2018-08-28T03:17:36.906079Z"
    }
   },
   "outputs": [],
   "source": [
    "phys_mfds = xarray.open_mfdataset(root_dir + '/' + 'wrfout*.nc')"
   ]
  },
  {
   "cell_type": "code",
   "execution_count": 11,
   "metadata": {
    "ExecuteTime": {
     "end_time": "2018-08-28T03:20:22.401394Z",
     "start_time": "2018-08-28T03:17:43.408351Z"
    }
   },
   "outputs": [],
   "source": [
    "rainc_1000 = phys_mfds['RAINC'].values\n",
    "rainnc_1000 = phys_mfds['RAINNC'].values\n",
    "qvapor_1000 = phys_mfds['QVAPOR'].values\n",
    "lh_1000 = phys_mfds['LH'].values\n",
    "\n",
    "pblh_1000 = phys_mfds['PBLH'].values\n",
    "t2_1000 = phys_mfds['T2'].values"
   ]
  },
  {
   "cell_type": "code",
   "execution_count": 12,
   "metadata": {
    "ExecuteTime": {
     "end_time": "2018-08-28T03:20:49.543344Z",
     "start_time": "2018-08-28T03:20:22.403629Z"
    }
   },
   "outputs": [],
   "source": [
    "ecan_1000 = phys_mfds['ECAN'].values*86400. # mm/day\n",
    "edir_1000 = phys_mfds['EDIR'].values*86400.\n",
    "etran_1000 = phys_mfds['ETRAN'].values*86400."
   ]
  },
  {
   "cell_type": "code",
   "execution_count": 13,
   "metadata": {
    "ExecuteTime": {
     "end_time": "2018-08-28T03:20:51.039939Z",
     "start_time": "2018-08-28T03:20:49.545545Z"
    }
   },
   "outputs": [],
   "source": [
    "prw_1000 = numpy.load('DATA_prw_1000.npy')"
   ]
  },
  {
   "cell_type": "markdown",
   "metadata": {},
   "source": [
    "# get time stamps"
   ]
  },
  {
   "cell_type": "code",
   "execution_count": 14,
   "metadata": {
    "ExecuteTime": {
     "end_time": "2018-08-28T03:20:51.049408Z",
     "start_time": "2018-08-28T03:20:51.041867Z"
    }
   },
   "outputs": [],
   "source": [
    "time_datetimes = pandas.to_datetime([i.decode('utf-8') for i in time], format = '%Y-%m-%d_%H:%M:%S')"
   ]
  },
  {
   "cell_type": "code",
   "execution_count": 15,
   "metadata": {
    "ExecuteTime": {
     "end_time": "2018-08-28T03:20:51.140829Z",
     "start_time": "2018-08-28T03:20:51.051288Z"
    }
   },
   "outputs": [],
   "source": [
    "skip_time = 24\n",
    "n_intervals = 8\n",
    "hour_strings = ['00','03','06','09','12','15','18','21']\n",
    "\n",
    "times_00 = [t.hour in [23,0,1] for t in time_datetimes[skip_time:]]\n",
    "times_03 = [t.hour in [2,3,4] for t in time_datetimes[skip_time:]]\n",
    "times_06 = [t.hour in [5,6,7] for t in time_datetimes[skip_time:]]\n",
    "times_09 = [t.hour in [8,9,10] for t in time_datetimes[skip_time:]]\n",
    "times_12 = [t.hour in [11,12,13] for t in time_datetimes[skip_time:]]\n",
    "times_15 = [t.hour in [14,15,16] for t in time_datetimes[skip_time:]]\n",
    "times_18 = [t.hour in [17,18,19] for t in time_datetimes[skip_time:]]\n",
    "times_21 = [t.hour in [20,21,22] for t in time_datetimes[skip_time:]]"
   ]
  },
  {
   "cell_type": "markdown",
   "metadata": {},
   "source": [
    "# PRW differences"
   ]
  },
  {
   "cell_type": "code",
   "execution_count": 16,
   "metadata": {
    "ExecuteTime": {
     "end_time": "2018-08-28T03:25:06.044005Z",
     "start_time": "2018-08-28T03:25:06.004489Z"
    }
   },
   "outputs": [],
   "source": [
    "prw_diffs = prw_1000-prw_400\n",
    "prw_diffs_time_mean = numpy.mean(prw_diffs[skip_time:,:,:], axis=0)\n",
    "prw_400_time_mean = numpy.mean(prw_400[skip_time:,:,:], axis=0)\n",
    "\n",
    "prw_diffs_time_mean_landmask = numpy.copy(prw_diffs_time_mean)\n",
    "prw_diffs_time_mean_landmask[landmask==0] = numpy.nan\n",
    "\n",
    "prw_400_time_mean_landmask = numpy.copy(prw_400_time_mean)\n",
    "prw_400_time_mean_landmask[landmask==0] = numpy.nan"
   ]
  },
  {
   "cell_type": "markdown",
   "metadata": {},
   "source": [
    "# PBLH differences"
   ]
  },
  {
   "cell_type": "code",
   "execution_count": 17,
   "metadata": {
    "ExecuteTime": {
     "end_time": "2018-08-28T03:20:51.677765Z",
     "start_time": "2018-08-28T03:20:51.293957Z"
    }
   },
   "outputs": [
    {
     "name": "stderr",
     "output_type": "stream",
     "text": [
      "/export/home/blangenb/miniconda3/lib/python3.7/site-packages/ipykernel_launcher.py:11: RuntimeWarning: Mean of empty slice\n",
      "  # This is added back by InteractiveShellApp.init_path()\n",
      "/export/home/blangenb/miniconda3/lib/python3.7/site-packages/ipykernel_launcher.py:12: RuntimeWarning: Mean of empty slice\n",
      "  if sys.path[0] == '':\n"
     ]
    }
   ],
   "source": [
    "pblh_diffs = pblh_1000-pblh_400\n",
    "pblh_diffs_time_mean = numpy.mean(pblh_diffs[skip_time:,:,:], axis=0)\n",
    "pblh_400_time_mean = numpy.mean(pblh_400[skip_time:,:,:], axis=0)\n",
    "\n",
    "pblh_diffs_landmask = numpy.copy(pblh_diffs)\n",
    "pblh_diffs_landmask[:,landmask==0] = numpy.nan\n",
    "\n",
    "pblh_400_landmask = numpy.copy(pblh_400)\n",
    "pblh_400_landmask[:,landmask==0] = numpy.nan\n",
    "\n",
    "pblh_diffs_time_mean_landmask = numpy.nanmean(pblh_diffs_landmask[skip_time:,:,:], axis=0)\n",
    "pblh_400_time_mean_landmask = numpy.nanmean(pblh_400_landmask[skip_time:,:,:], axis=0)"
   ]
  },
  {
   "cell_type": "markdown",
   "metadata": {},
   "source": [
    "# LH differences"
   ]
  },
  {
   "cell_type": "code",
   "execution_count": 18,
   "metadata": {
    "ExecuteTime": {
     "end_time": "2018-08-28T03:20:51.720466Z",
     "start_time": "2018-08-28T03:20:51.680588Z"
    }
   },
   "outputs": [],
   "source": [
    "# monthly mean\n",
    "lh_diffs_time_mean = numpy.mean(lh_1000[skip_time:,:,:] - lh_400[skip_time:,:,:], axis=0)\n",
    "lh_diffs_time_mean_landmask = numpy.copy(lh_diffs_time_mean)\n",
    "lh_diffs_time_mean_landmask[landmask==0] = numpy.nan\n",
    "\n",
    "lh_400_time_mean = numpy.mean(lh_400[skip_time:,:,:], axis=0)\n",
    "lh_400_time_mean_landmask = numpy.copy(lh_400_time_mean)\n",
    "lh_400_time_mean_landmask[landmask==0] = numpy.nan\n"
   ]
  },
  {
   "cell_type": "markdown",
   "metadata": {},
   "source": [
    "# RAINTOT differences"
   ]
  },
  {
   "cell_type": "code",
   "execution_count": 19,
   "metadata": {
    "ExecuteTime": {
     "end_time": "2018-08-28T03:20:52.058919Z",
     "start_time": "2018-08-28T03:20:51.723113Z"
    }
   },
   "outputs": [],
   "source": [
    "raintot_400 = rainc_400+rainnc_400\n",
    "raintot_1000 = rainc_1000+rainnc_1000\n",
    "\n",
    "raintot_400_diff = numpy.zeros((raintot_400.shape))*numpy.nan\n",
    "raintot_400_diff[:-1,:,:] = numpy.diff(raintot_400, axis=0)#*(24./3) # convert to mm/day\n",
    "\n",
    "raintot_1000_diff = numpy.zeros((raintot_1000.shape))*numpy.nan\n",
    "raintot_1000_diff[:-1,:,:] = numpy.diff(raintot_1000, axis=0)#*(24./3) # convert to mm/day\n",
    "\n",
    "# monthly mean\n",
    "raintot_diffs_time_mean = numpy.nanmean(raintot_1000_diff[skip_time:,:,:] - raintot_400_diff[skip_time:,:,:], axis=0)\n",
    "raintot_diffs_time_mean_landmask = numpy.copy(raintot_diffs_time_mean)\n",
    "raintot_diffs_time_mean_landmask[landmask==0] = numpy.nan\n",
    "\n",
    "raintot_400_time_mean = numpy.nanmean(raintot_400_diff[skip_time:,:,:], axis=0)\n",
    "raintot_400_time_mean_landmask = numpy.copy(raintot_400_time_mean)\n",
    "raintot_400_time_mean_landmask[landmask==0] = numpy.nan\n"
   ]
  },
  {
   "cell_type": "markdown",
   "metadata": {},
   "source": [
    "# T2 differences"
   ]
  },
  {
   "cell_type": "code",
   "execution_count": 20,
   "metadata": {
    "ExecuteTime": {
     "end_time": "2018-08-28T03:20:52.101396Z",
     "start_time": "2018-08-28T03:20:52.061147Z"
    }
   },
   "outputs": [],
   "source": [
    "# monthly mean\n",
    "t2_diffs_time_mean = numpy.mean(t2_1000[skip_time:,:,:] - t2_400[skip_time:,:,:], axis=0)\n",
    "t2_diffs_time_mean_landmask = numpy.copy(t2_diffs_time_mean)\n",
    "t2_diffs_time_mean_landmask[landmask==0] = numpy.nan\n",
    "\n",
    "t2_400_time_mean = numpy.mean(t2_400[skip_time:,:,:], axis=0)\n",
    "t2_400_time_mean_landmask = numpy.copy(t2_400_time_mean)\n",
    "t2_400_time_mean_landmask[landmask==0] = numpy.nan\n"
   ]
  },
  {
   "cell_type": "markdown",
   "metadata": {},
   "source": [
    "# ECAN differences"
   ]
  },
  {
   "cell_type": "code",
   "execution_count": 21,
   "metadata": {
    "ExecuteTime": {
     "end_time": "2018-08-28T03:20:52.180791Z",
     "start_time": "2018-08-28T03:20:52.104057Z"
    }
   },
   "outputs": [],
   "source": [
    "ecan_diffs_time_mean = numpy.mean(ecan_1000[skip_time:,:,:] - ecan_400[skip_time:,:,:], axis=0)\n",
    "ecan_diffs_time_mean_landmask = numpy.copy(ecan_diffs_time_mean)\n",
    "ecan_diffs_time_mean_landmask[landmask==0] = numpy.nan\n",
    "\n",
    "ecan_400_time_mean = numpy.mean(ecan_400[skip_time:,:,:], axis=0)\n",
    "ecan_400_time_mean_landmask = numpy.copy(ecan_400_time_mean)\n",
    "ecan_400_time_mean_landmask[landmask==0] = numpy.nan\n"
   ]
  },
  {
   "cell_type": "markdown",
   "metadata": {},
   "source": [
    "# ETRAN differences"
   ]
  },
  {
   "cell_type": "code",
   "execution_count": 22,
   "metadata": {
    "ExecuteTime": {
     "end_time": "2018-08-28T03:20:52.466080Z",
     "start_time": "2018-08-28T03:20:52.183451Z"
    }
   },
   "outputs": [],
   "source": [
    "etran_diffs_time_mean = numpy.mean(etran_1000[skip_time:,:,:] - etran_400[skip_time:,:,:], axis=0)\n",
    "etran_diffs_time_mean_landmask = numpy.copy(etran_diffs_time_mean)\n",
    "etran_diffs_time_mean_landmask[landmask==0] = numpy.nan\n",
    "\n",
    "etran_400_time_mean = numpy.mean(etran_400[skip_time:,:,:], axis=0)\n",
    "etran_400_time_mean_landmask = numpy.copy(etran_400_time_mean)\n",
    "etran_400_time_mean_landmask[landmask==0] = numpy.nan\n"
   ]
  },
  {
   "cell_type": "markdown",
   "metadata": {},
   "source": [
    "# EDIR differences"
   ]
  },
  {
   "cell_type": "code",
   "execution_count": 23,
   "metadata": {
    "ExecuteTime": {
     "end_time": "2018-08-28T03:20:52.546525Z",
     "start_time": "2018-08-28T03:20:52.468221Z"
    }
   },
   "outputs": [],
   "source": [
    "edir_diffs_time_mean = numpy.mean(edir_1000[skip_time:,:,:] - edir_400[skip_time:,:,:], axis=0)\n",
    "edir_diffs_time_mean_landmask = numpy.copy(edir_diffs_time_mean)\n",
    "edir_diffs_time_mean_landmask[landmask==0] = numpy.nan\n",
    "\n",
    "edir_400_time_mean = numpy.mean(edir_400[skip_time:,:,:], axis=0)\n",
    "edir_400_time_mean_landmask = numpy.copy(edir_400_time_mean)\n",
    "edir_400_time_mean_landmask[landmask==0] = numpy.nan\n"
   ]
  },
  {
   "cell_type": "code",
   "execution_count": null,
   "metadata": {},
   "outputs": [],
   "source": []
  },
  {
   "cell_type": "code",
   "execution_count": null,
   "metadata": {},
   "outputs": [],
   "source": []
  },
  {
   "cell_type": "markdown",
   "metadata": {},
   "source": [
    "precip smoothing"
   ]
  },
  {
   "cell_type": "code",
   "execution_count": 24,
   "metadata": {
    "ExecuteTime": {
     "end_time": "2018-08-28T03:20:52.775494Z",
     "start_time": "2018-08-28T03:20:52.548717Z"
    }
   },
   "outputs": [],
   "source": [
    "field = raintot_400_time_mean_landmask\n",
    "kernel = astropy.convolution.Gaussian2DKernel(x_stddev=2)\n",
    "field_convolved = astropy.convolution.convolve(field, kernel)\n",
    "field_convolved[landmask==0]=numpy.nan"
   ]
  },
  {
   "cell_type": "code",
   "execution_count": 25,
   "metadata": {
    "ExecuteTime": {
     "end_time": "2018-08-28T03:20:52.780643Z",
     "start_time": "2018-08-28T03:20:52.777872Z"
    }
   },
   "outputs": [],
   "source": [
    "outline_color='firebrick'"
   ]
  },
  {
   "cell_type": "code",
   "execution_count": 51,
   "metadata": {
    "ExecuteTime": {
     "end_time": "2018-08-28T03:21:00.014397Z",
     "start_time": "2018-08-28T03:20:52.782752Z"
    }
   },
   "outputs": [
    {
     "data": {
      "image/png": "[encoded data removed]",
      "text/plain": [
       "<Figure size 864x720 with 12 Axes>"
      ]
     },
     "metadata": {
      "needs_background": "light"
     },
     "output_type": "display_data"
    }
   ],
   "source": [
    "# MONTHLY MEAN PLOTS\n",
    "\n",
    "fig = mp.figure(figsize=(12,10))\n",
    "fontsize = 24\n",
    "lon_offset=25.\n",
    "xlong_max_offset=5.\n",
    "\n",
    "# RAINTOT\n",
    "\n",
    "levels = numpy.arange(-1.25,1.251,0.25)\n",
    "ax1 = fig.add_subplot(231, projection=cartopy.crs.PlateCarree())\n",
    "ax1.gridlines(ylocs=[0], color='0.25')\n",
    "ax1.coastlines(resolution='110m')\n",
    "contour_plot1 = ax1.contourf(xlong, xlat, raintot_diffs_time_mean_landmask*24., \\\n",
    "                             levels=levels, \\\n",
    "                             cmap='BrBG', extend='both', transform=cartopy.crs.PlateCarree())\n",
    "\n",
    "ax1.contour(xlong,xlat,field_convolved*24.,\\\n",
    "            levels=[4], colors=outline_color, linewidths=[2], linestyles=['-'])\n",
    "\n",
    "ax1.add_patch(matplotlib.patches.Rectangle(xy=[-80, -10], width=5, height=20,\n",
    "                                facecolor='none',\n",
    "                                edgecolor='0.1',\\\n",
    "                                linewidth=2,\\\n",
    "                                transform=cartopy.crs.PlateCarree(), zorder=2) )\n",
    "\n",
    "ax1.add_patch(matplotlib.patches.Rectangle(xy=[-60, -10], width=10, height=20,\n",
    "                                facecolor='none',\n",
    "                                edgecolor='0.1',\\\n",
    "                                linewidth=2,\\\n",
    "                                transform=cartopy.crs.PlateCarree(), zorder=2) )\n",
    "\n",
    "# DELTA TRANSPIRATION\n",
    "\n",
    "levels = numpy.arange(-1,1.1,0.2)\n",
    "ax2 = fig.add_subplot(232, projection=cartopy.crs.PlateCarree())\n",
    "ax2.gridlines(ylocs=[0], color='0.25')\n",
    "ax2.coastlines(resolution='110m')\n",
    "contour_plot2 = ax2.contourf(xlong, xlat, etran_diffs_time_mean_landmask, levels=levels, \\\n",
    "                             cmap='RdBu', extend='both', transform=cartopy.crs.PlateCarree())\n",
    "\n",
    "# LH\n",
    "\n",
    "levels = numpy.arange(-20,21,5)\n",
    "ax3 = fig.add_subplot(233, projection=cartopy.crs.PlateCarree())\n",
    "ax3.gridlines(ylocs=[0], color='0.25')\n",
    "ax3.coastlines(resolution='110m')\n",
    "contour_plot3 = ax3.contourf(xlong, xlat, lh_diffs_time_mean_landmask, levels=levels, \\\n",
    "                             cmap='RdBu', extend='both', transform=cartopy.crs.PlateCarree())\n",
    "\n",
    "# T2\n",
    "\n",
    "levels = numpy.arange(-1,1.1,0.2)\n",
    "ax4 = fig.add_subplot(234, projection=cartopy.crs.PlateCarree())\n",
    "ax4.gridlines(ylocs=[0], color='0.25')\n",
    "ax4.coastlines(resolution='110m')\n",
    "contour_plot4 = ax4.contourf(xlong, xlat, t2_diffs_time_mean_landmask, levels=levels, \\\n",
    "                             cmap='PuOr_r', extend='both', transform=cartopy.crs.PlateCarree())\n",
    "\n",
    "# PBLH\n",
    "\n",
    "levels = numpy.arange(-100,101,20)\n",
    "ax5 = fig.add_subplot(235, projection=cartopy.crs.PlateCarree())\n",
    "ax5.gridlines(ylocs=[0], color='0.25')\n",
    "ax5.coastlines(resolution='110m')\n",
    "contour_plot5 = ax5.contourf(xlong, xlat, pblh_diffs_time_mean_landmask, \\\n",
    "                             levels=levels, \\\n",
    "                             cmap='RdGy_r', extend='both', transform=cartopy.crs.PlateCarree())\n",
    "\n",
    "# PRW\n",
    "\n",
    "levels = numpy.arange(-.75,.76,0.25)\n",
    "ax6 = fig.add_subplot(236, projection=cartopy.crs.PlateCarree())\n",
    "ax6.gridlines(ylocs=[0], color='0.25')\n",
    "ax6.coastlines(resolution='110m')\n",
    "contour_plot6 = ax6.contourf(xlong, xlat, prw_diffs_time_mean_landmask, \\\n",
    "                             levels=levels, \\\n",
    "                             cmap='RdBu', extend='both', transform=cartopy.crs.PlateCarree())\n",
    "\n",
    "# ax1.set_extent([273,329,-30,15], crs=cartopy.crs.PlateCarree())\n",
    "# ax2.set_extent([273,329,-30,15], crs=cartopy.crs.PlateCarree())\n",
    "# ax3.set_extent([273,329,-30,15], crs=cartopy.crs.PlateCarree())\n",
    "# ax4.set_extent([273,329,-30,15], crs=cartopy.crs.PlateCarree())\n",
    "# ax5.set_extent([273,329,-30,15], crs=cartopy.crs.PlateCarree())\n",
    "# ax6.set_extent([273,329,-30,15], crs=cartopy.crs.PlateCarree())\n",
    "\n",
    "offset = 3\n",
    "ax1.set_extent([273-offset,329+offset,-30-offset,15+offset], crs=cartopy.crs.PlateCarree())\n",
    "ax2.set_extent([273-offset,329+offset,-30-offset,15+offset], crs=cartopy.crs.PlateCarree())\n",
    "ax3.set_extent([273-offset,329+offset,-30-offset,15+offset], crs=cartopy.crs.PlateCarree())\n",
    "ax4.set_extent([273-offset,329+offset,-30-offset,15+offset], crs=cartopy.crs.PlateCarree())\n",
    "ax5.set_extent([273-offset,329+offset,-30-offset,15+offset], crs=cartopy.crs.PlateCarree())\n",
    "ax6.set_extent([273-offset,329+offset,-30-offset,15+offset], crs=cartopy.crs.PlateCarree())\n",
    "\n",
    "ax1.set_xticks([-360+280,-360+300,-360+320])\n",
    "ax1.set_yticks([-20,-10,0,10])\n",
    "ax1.tick_params(labelsize=fontsize)\n",
    "ax1.set_xticklabels(['$280$'+DEGREE_SIGN,'$300$'+DEGREE_SIGN,'$320$'+DEGREE_SIGN])\n",
    "ax1.set_yticklabels(['$-20$'+DEGREE_SIGN,'$-10$'+DEGREE_SIGN,'$0$'+DEGREE_SIGN,'$10$'+DEGREE_SIGN])\n",
    "\n",
    "ax2.set_xticks([-360+280,-360+300,-360+320])\n",
    "ax2.set_yticks([])#-20,-10,0,10])\n",
    "ax2.tick_params(labelsize=fontsize)\n",
    "ax2.set_xticklabels(['$280$'+DEGREE_SIGN,'$300$'+DEGREE_SIGN,'$320$'+DEGREE_SIGN])\n",
    "ax2.set_yticklabels(['$-20$'+DEGREE_SIGN,'$-10$'+DEGREE_SIGN,'$0$'+DEGREE_SIGN,'$10$'+DEGREE_SIGN])\n",
    "\n",
    "ax3.set_xticks([-360+280,-360+300,-360+320])\n",
    "ax3.set_yticks([])#-20,-10,0,10])\n",
    "ax3.tick_params(labelsize=fontsize)\n",
    "ax3.set_xticklabels(['$280$'+DEGREE_SIGN,'$300$'+DEGREE_SIGN,'$320$'+DEGREE_SIGN])\n",
    "ax3.set_yticklabels(['$-20$'+DEGREE_SIGN,'$-10$'+DEGREE_SIGN,'$0$'+DEGREE_SIGN,'$10$'+DEGREE_SIGN])\n",
    "\n",
    "ax4.set_xticks([-360+280,-360+300,-360+320])\n",
    "ax4.set_yticks([-20,-10,0,10])\n",
    "ax4.tick_params(labelsize=fontsize)\n",
    "ax4.set_xticklabels(['$280$'+DEGREE_SIGN,'$300$'+DEGREE_SIGN,'$320$'+DEGREE_SIGN])\n",
    "ax4.set_yticklabels(['$-20$'+DEGREE_SIGN,'$-10$'+DEGREE_SIGN,'$0$'+DEGREE_SIGN,'$10$'+DEGREE_SIGN])\n",
    "\n",
    "ax5.set_xticks([-360+280,-360+300,-360+320])\n",
    "ax5.set_yticks([])#-20,-10,0,10])\n",
    "ax5.tick_params(labelsize=fontsize)\n",
    "ax5.set_xticklabels(['$280$'+DEGREE_SIGN,'$300$'+DEGREE_SIGN,'$320$'+DEGREE_SIGN])\n",
    "ax5.set_yticklabels(['$-20$'+DEGREE_SIGN,'$-10$'+DEGREE_SIGN,'$0$'+DEGREE_SIGN,'$10$'+DEGREE_SIGN])\n",
    "\n",
    "ax6.set_xticks([-360+280,-360+300,-360+320])\n",
    "ax6.set_yticks([])#-20,-10,0,10])\n",
    "ax6.tick_params(labelsize=fontsize)\n",
    "ax6.set_xticklabels(['$280$'+DEGREE_SIGN,'$300$'+DEGREE_SIGN,'$320$'+DEGREE_SIGN])\n",
    "ax6.set_yticklabels(['$-20$'+DEGREE_SIGN,'$-10$'+DEGREE_SIGN,'$0$'+DEGREE_SIGN,'$10$'+DEGREE_SIGN])\n",
    "\n",
    "fig.tight_layout(h_pad=5)#h_pad=0.5,w_pad=0.5)\n",
    "fig.canvas.draw_idle()\n",
    "\n",
    "title = ax1.text(s='(a) $\\Delta$ precipitation', x=0, y=1.02, ha='left', va='bottom', fontsize=fontsize, transform=ax1.transAxes)\n",
    "title = ax2.text(s='(b) $\\Delta$ transpiration', x=0, y=1.02, ha='left', va='bottom', fontsize=fontsize, transform=ax2.transAxes)\n",
    "title = ax3.text(s='(c) $\\Delta$ latent heat flx', x=0, y=1.02, ha='left', va='bottom', fontsize=fontsize, transform=ax3.transAxes)\n",
    "title = ax4.text(s='(d) $\\Delta$ 2m air temp', x=0, y=1.02, ha='left', va='bottom', fontsize=fontsize, transform=ax4.transAxes)\n",
    "title = ax5.text(s='(e) $\\Delta$ boundary lyr ht', x=0, y=1.02, ha='left', va='bottom', fontsize=fontsize, transform=ax5.transAxes)\n",
    "title = ax6.text(s='(f) $\\Delta$ col H$_2$O vapor', x=0, y=1.02, ha='left', va='bottom', fontsize=fontsize, transform=ax6.transAxes)\n",
    "\n",
    "ax1.text(s='mm d$^{-1}$', x=0.95, y=0.95, \\\n",
    "        ha='right', va='top', \\\n",
    "        fontsize=fontsize, \\\n",
    "        transform=ax1.transAxes)\n",
    "ax2.text(s='mm d$^{-1}$', x=0.95, y=0.95, \\\n",
    "        ha='right', va='top', \\\n",
    "        fontsize=fontsize, \\\n",
    "        transform=ax2.transAxes)\n",
    "ax3.text(s='W m$^{\\,-2}$', x=0.95, y=0.95, \\\n",
    "        ha='right', va='top', \\\n",
    "        fontsize=fontsize, \\\n",
    "        transform=ax3.transAxes)\n",
    "ax4.text(s=DEGREE_SIGN+'C', x=0.03, y=0.03, \\\n",
    "        ha='left', va='bottom', \\\n",
    "        fontsize=fontsize, \\\n",
    "        transform=ax4.transAxes)\n",
    "ax5.text(s='m', x=0.03, y=0.03, \\\n",
    "        ha='left', va='bottom', \\\n",
    "        fontsize=fontsize, \\\n",
    "        transform=ax5.transAxes)\n",
    "ax6.text(s='mm', x=0.03, y=0.03, \\\n",
    "        ha='left', va='bottom', \\\n",
    "        fontsize=fontsize, \\\n",
    "        transform=ax6.transAxes)\n",
    "\n",
    "for c in contour_plot1.collections:\n",
    "    c.set_edgecolor('face')\n",
    "    #c.set_rasterized(True)\n",
    "for c in contour_plot2.collections:\n",
    "    c.set_edgecolor('face')\n",
    "    #c.set_rasterized(True)\n",
    "for c in contour_plot3.collections:\n",
    "    c.set_edgecolor('face')\n",
    "    #c.set_rasterized(True)\n",
    "for c in contour_plot4.collections:\n",
    "    c.set_edgecolor('face')\n",
    "    #c.set_rasterized(True)\n",
    "for c in contour_plot5.collections:\n",
    "    c.set_edgecolor('face')\n",
    "    #c.set_rasterized(True)\n",
    "for c in contour_plot6.collections:\n",
    "    c.set_edgecolor('face')\n",
    "    #c.set_rasterized(True)\n",
    "\n",
    "cbar_thickness=0.03\n",
    "cbar_yshift=-0.09\n",
    "\n",
    "bbox_position = ax1.get_position()\n",
    "cbar_axes = fig.add_axes([bbox_position.x0, bbox_position.y0+cbar_yshift, bbox_position.width, cbar_thickness])\n",
    "cbar = mp.colorbar(contour_plot1, orientation='horizontal', cax=cbar_axes)\n",
    "#cbar.set_label(label='mm day$^{-1}$', fontsize=fontsize)\n",
    "cbar_axes.tick_params(labelsize=fontsize)\n",
    "cbar.set_ticks([numpy.arange(-1,1.1,1)])\n",
    "for c in cbar_axes.collections:\n",
    "    c.set_edgecolor('face')\n",
    "#     c.set_rasterized(True)\n",
    "\n",
    "bbox_position = ax2.get_position()\n",
    "cbar_axes = fig.add_axes([bbox_position.x0, bbox_position.y0+cbar_yshift, bbox_position.width, cbar_thickness])\n",
    "cbar = mp.colorbar(contour_plot2, orientation='horizontal', cax=cbar_axes)\n",
    "cbar.set_ticks([numpy.arange(-1,1.1,1)])\n",
    "cbar_axes.tick_params(labelsize=fontsize)\n",
    "for c in cbar_axes.collections:\n",
    "    c.set_edgecolor('face')\n",
    "#     c.set_rasterized(True)\n",
    "\n",
    "bbox_position = ax3.get_position()\n",
    "cbar_axes = fig.add_axes([bbox_position.x0, bbox_position.y0+cbar_yshift, bbox_position.width, cbar_thickness])\n",
    "cbar = mp.colorbar(contour_plot3, orientation='horizontal', cax=cbar_axes)\n",
    "#cbar.set_label(label='W m$^{-2}$', fontsize=fontsize)\n",
    "cbar_axes.tick_params(labelsize=fontsize)\n",
    "cbar.set_ticks(numpy.arange(-20,21,10))\n",
    "for c in cbar_axes.collections:\n",
    "    c.set_edgecolor('face')\n",
    "#     c.set_rasterized(True)\n",
    "\n",
    "bbox_position = ax4.get_position()\n",
    "cbar_axes = fig.add_axes([bbox_position.x0, bbox_position.y0+cbar_yshift, bbox_position.width, cbar_thickness])\n",
    "cbar = mp.colorbar(contour_plot4, orientation='horizontal', cax=cbar_axes)\n",
    "cbar.set_ticks([numpy.arange(-1,1.1,1)])\n",
    "cbar_axes.tick_params(labelsize=fontsize)\n",
    "for c in cbar_axes.collections:\n",
    "    c.set_edgecolor('face')\n",
    "#     c.set_rasterized(True)\n",
    "\n",
    "bbox_position = ax5.get_position()\n",
    "cbar_axes = fig.add_axes([bbox_position.x0, bbox_position.y0+cbar_yshift, bbox_position.width, cbar_thickness])\n",
    "cbar = mp.colorbar(contour_plot5, orientation='horizontal', cax=cbar_axes)\n",
    "cbar.set_ticks([-80,0,80])\n",
    "cbar_axes.tick_params(labelsize=fontsize)\n",
    "for c in cbar_axes.collections:\n",
    "    c.set_edgecolor('face')\n",
    "#     c.set_rasterized(True)\n",
    "\n",
    "bbox_position = ax6.get_position()\n",
    "cbar_axes = fig.add_axes([bbox_position.x0, bbox_position.y0+cbar_yshift, bbox_position.width, cbar_thickness])\n",
    "cbar = mp.colorbar(contour_plot6, orientation='horizontal', cax=cbar_axes)\n",
    "#cbar.set_label(label=degree_sign+'C', fontsize=fontsize)\n",
    "cbar_axes.tick_params(labelsize=fontsize)\n",
    "cbar.set_ticks([-.5,0,.5])\n",
    "\n",
    "for c in cbar_axes.collections:\n",
    "    c.set_edgecolor('face')\n",
    "#     c.set_rasterized(True)\n",
    "\n",
    "fig.savefig('../figures/POSTER_10d_map_changes.pdf', transparent=True, bbox_inches='tight')"
   ]
  },
  {
   "cell_type": "markdown",
   "metadata": {},
   "source": [
    "# plot climatology of these variables"
   ]
  },
  {
   "cell_type": "code",
   "execution_count": null,
   "metadata": {
    "ExecuteTime": {
     "end_time": "2018-08-28T03:26:10.554615Z",
     "start_time": "2018-08-28T03:26:04.110637Z"
    }
   },
   "outputs": [],
   "source": [
    "# MONTHLY MEAN PLOTS\n",
    "\n",
    "fig = mp.figure(figsize=(8,6))\n",
    "fontsize = 12\n",
    "lon_offset = 25.\n",
    "\n",
    "# RAINTOT\n",
    "\n",
    "levels = numpy.arange(0,10.1,1.)\n",
    "ax1 = fig.add_subplot(231, projection=cartopy.crs.PlateCarree())\n",
    "ax1.gridlines(ylocs=[0], color='0.25')\n",
    "ax1.coastlines(resolution='110m')\n",
    "ax1.set_extent([xlong.min(), xlong.max(), xlat.min(), xlat.max()], crs=cartopy.crs.PlateCarree())\n",
    "contour_plot1 = ax1.contourf(xlong, xlat, raintot_400_time_mean_landmask*24., \\\n",
    "                             levels=levels, \\\n",
    "                             cmap='gist_earth_r', extend='max', transform=cartopy.crs.PlateCarree(), rasterized=True)\n",
    "\n",
    "ax1.contour(xlong,xlat,field_convolved*24.,\\\n",
    "            levels=[4], colors=outline_color, linewidths=[2], linestyles=['-'])\n",
    "\n",
    "# DELTA TRANSPIRATION\n",
    "\n",
    "levels = numpy.arange(0,3.51,0.25)\n",
    "ax2 = fig.add_subplot(232, projection=cartopy.crs.PlateCarree())\n",
    "ax2.gridlines(ylocs=[0], color='0.25')\n",
    "ax2.coastlines(resolution='110m')\n",
    "ax2.set_extent([xlong.min(), xlong.max(), xlat.min(), xlat.max()], crs=cartopy.crs.PlateCarree())\n",
    "contour_plot2 = ax2.contourf(xlong, xlat, etran_400_time_mean_landmask, \\\n",
    "                             levels=levels, \\\n",
    "                             cmap='GnBu', extend='max', transform=cartopy.crs.PlateCarree(), rasterized=True)\n",
    "\n",
    "# LH\n",
    "\n",
    "levels = numpy.arange(0,151,25)\n",
    "ax3 = fig.add_subplot(233, projection=cartopy.crs.PlateCarree())\n",
    "ax3.gridlines(ylocs=[0], color='0.25')\n",
    "ax3.coastlines(resolution='110m')\n",
    "ax3.set_extent([xlong.min(), xlong.max(), xlat.min(), xlat.max()], crs=cartopy.crs.PlateCarree())\n",
    "contour_plot3 = ax3.contourf(xlong, xlat, lh_400_time_mean_landmask, \\\n",
    "                             levels=levels, \\\n",
    "                             cmap='GnBu', extend='max', transform=cartopy.crs.PlateCarree(), rasterized=True)\n",
    "\n",
    "# T2\n",
    "\n",
    "levels = numpy.arange(0,31,5)\n",
    "ax4 = fig.add_subplot(234, projection=cartopy.crs.PlateCarree())\n",
    "ax4.gridlines(ylocs=[0], color='0.25')\n",
    "ax4.coastlines(resolution='110m')\n",
    "ax4.set_extent([xlong.min(), xlong.max(), xlat.min(), xlat.max()], crs=cartopy.crs.PlateCarree())\n",
    "contour_plot4 = ax4.contourf(xlong, xlat, t2_400_time_mean_landmask-273.15, \\\n",
    "                             levels=levels, \\\n",
    "                             cmap='Spectral_r', extend='both', transform=cartopy.crs.PlateCarree(), rasterized=True)\n",
    "\n",
    "# PBLH\n",
    "\n",
    "levels = numpy.arange(0,801,100)\n",
    "ax5 = fig.add_subplot(235, projection=cartopy.crs.PlateCarree())\n",
    "ax5.gridlines(ylocs=[0], color='0.25')\n",
    "ax5.coastlines(resolution='110m')\n",
    "ax5.set_extent([xlong.min(), xlong.max(), xlat.min(), xlat.max()], crs=cartopy.crs.PlateCarree())\n",
    "contour_plot5 = ax5.contourf(xlong, xlat, pblh_400_time_mean_landmask, \\\n",
    "                             levels=levels, \\\n",
    "                             cmap='magma', extend='max', transform=cartopy.crs.PlateCarree(), rasterized=True)\n",
    "\n",
    "# prw\n",
    "\n",
    "levels = numpy.arange(0,61,5)\n",
    "ax6 = fig.add_subplot(236, projection=cartopy.crs.PlateCarree())\n",
    "ax6.gridlines(ylocs=[0], color='0.25')\n",
    "ax6.coastlines(resolution='110m')\n",
    "ax6.set_extent([xlong.min(), xlong.max(), xlat.min(), xlat.max()], crs=cartopy.crs.PlateCarree())\n",
    "contour_plot6 = ax6.contourf(xlong, xlat, prw_400_time_mean_landmask, \\\n",
    "                             levels=levels, \\\n",
    "                             cmap='YlGnBu', extend='max', transform=cartopy.crs.PlateCarree(), rasterized=True)\n",
    "\n",
    "ax1.set_extent([273,329,-30,15], crs=cartopy.crs.PlateCarree())\n",
    "ax2.set_extent([273,329,-30,15], crs=cartopy.crs.PlateCarree())\n",
    "ax3.set_extent([273,329,-30,15], crs=cartopy.crs.PlateCarree())\n",
    "ax4.set_extent([273,329,-30,15], crs=cartopy.crs.PlateCarree())\n",
    "ax5.set_extent([273,329,-30,15], crs=cartopy.crs.PlateCarree())\n",
    "ax6.set_extent([273,329,-30,15], crs=cartopy.crs.PlateCarree())\n",
    "\n",
    "ax1.set_xticks([-360+280,-360+300,-360+320])\n",
    "ax1.set_yticks([-20,-10,0,10])\n",
    "ax1.tick_params(labelsize=fontsize)\n",
    "ax1.set_xticklabels(['$280$'+DEGREE_SIGN,'$300$'+DEGREE_SIGN,'$320$'+DEGREE_SIGN])\n",
    "ax1.set_yticklabels(['$-20$'+DEGREE_SIGN,'$-10$'+DEGREE_SIGN,'$0$'+DEGREE_SIGN,'$10$'+DEGREE_SIGN])\n",
    "\n",
    "ax2.set_xticks([-360+280,-360+300,-360+320])\n",
    "ax2.set_yticks([-20,-10,0,10])\n",
    "ax2.tick_params(labelsize=fontsize)\n",
    "ax2.set_xticklabels(['$280$'+DEGREE_SIGN,'$300$'+DEGREE_SIGN,'$320$'+DEGREE_SIGN])\n",
    "ax2.set_yticklabels(['$-20$'+DEGREE_SIGN,'$-10$'+DEGREE_SIGN,'$0$'+DEGREE_SIGN,'$10$'+DEGREE_SIGN])\n",
    "\n",
    "ax3.set_xticks([-360+280,-360+300,-360+320])\n",
    "ax3.set_yticks([-20,-10,0,10])\n",
    "ax3.tick_params(labelsize=fontsize)\n",
    "ax3.set_xticklabels(['$280$'+DEGREE_SIGN,'$300$'+DEGREE_SIGN,'$320$'+DEGREE_SIGN])\n",
    "ax3.set_yticklabels(['$-20$'+DEGREE_SIGN,'$-10$'+DEGREE_SIGN,'$0$'+DEGREE_SIGN,'$10$'+DEGREE_SIGN])\n",
    "\n",
    "ax4.set_xticks([-360+280,-360+300,-360+320])\n",
    "ax4.set_yticks([-20,-10,0,10])\n",
    "ax4.tick_params(labelsize=fontsize)\n",
    "ax4.set_xticklabels(['$280$'+DEGREE_SIGN,'$300$'+DEGREE_SIGN,'$320$'+DEGREE_SIGN])\n",
    "ax4.set_yticklabels(['$-20$'+DEGREE_SIGN,'$-10$'+DEGREE_SIGN,'$0$'+DEGREE_SIGN,'$10$'+DEGREE_SIGN])\n",
    "\n",
    "ax5.set_xticks([-360+280,-360+300,-360+320])\n",
    "ax5.set_yticks([-20,-10,0,10])\n",
    "ax5.tick_params(labelsize=fontsize)\n",
    "ax5.set_xticklabels(['$280$'+DEGREE_SIGN,'$300$'+DEGREE_SIGN,'$320$'+DEGREE_SIGN])\n",
    "ax5.set_yticklabels(['$-20$'+DEGREE_SIGN,'$-10$'+DEGREE_SIGN,'$0$'+DEGREE_SIGN,'$10$'+DEGREE_SIGN])\n",
    "\n",
    "ax6.set_xticks([-360+280,-360+300,-360+320])\n",
    "ax6.set_yticks([-20,-10,0,10])\n",
    "ax6.tick_params(labelsize=fontsize)\n",
    "ax6.set_xticklabels(['$280$'+DEGREE_SIGN,'$300$'+DEGREE_SIGN,'$320$'+DEGREE_SIGN])\n",
    "ax6.set_yticklabels(['$-20$'+DEGREE_SIGN,'$-10$'+DEGREE_SIGN,'$0$'+DEGREE_SIGN,'$10$'+DEGREE_SIGN])\n",
    "\n",
    "fig.tight_layout(h_pad=0.5,w_pad=0.5)\n",
    "fig.canvas.draw_idle()\n",
    "\n",
    "title = ax1.text(s='(a) precipitation', x=0, y=1.02, ha='left', va='bottom', fontsize=fontsize, transform=ax1.transAxes)\n",
    "title = ax2.text(s='(b) transpiration', x=0, y=1.02, ha='left', va='bottom', fontsize=fontsize, transform=ax2.transAxes)\n",
    "title = ax3.text(s='(c) latent cooling', x=0, y=1.02, ha='left', va='bottom', fontsize=fontsize, transform=ax3.transAxes)\n",
    "title = ax4.text(s='(d) 2m air temperature', x=0, y=1.02, ha='left', va='bottom', fontsize=fontsize, transform=ax4.transAxes)\n",
    "title = ax5.text(s='(e) boundary layer ht.', x=0, y=1.02, ha='left', va='bottom', fontsize=fontsize, transform=ax5.transAxes)\n",
    "title = ax6.text(s='(f) column water vapor', x=0, y=1.02, ha='left', va='bottom', fontsize=fontsize, transform=ax6.transAxes)\n",
    "\n",
    "ax1.text(s='mm day$^{\\,-1}$', x=0.95, y=0.95, \\\n",
    "        ha='right', va='top', \\\n",
    "        fontsize=fontsize, \\\n",
    "        transform=ax1.transAxes)\n",
    "ax2.text(s='mm day$^{\\,-1}$', x=0.95, y=0.95, \\\n",
    "        ha='right', va='top', \\\n",
    "        fontsize=fontsize, \\\n",
    "        transform=ax2.transAxes)\n",
    "ax3.text(s='W m$^{\\,-2}$', x=0.95, y=0.95, \\\n",
    "        ha='right', va='top', \\\n",
    "        fontsize=fontsize, \\\n",
    "        transform=ax3.transAxes)\n",
    "ax4.text(s=DEGREE_SIGN+'C', x=0.05, y=0.03, \\\n",
    "        ha='left', va='bottom', \\\n",
    "        fontsize=fontsize, \\\n",
    "        transform=ax4.transAxes)\n",
    "ax5.text(s='m', x=0.05, y=0.03, \\\n",
    "        ha='left', va='bottom', \\\n",
    "        fontsize=fontsize, \\\n",
    "        transform=ax5.transAxes)\n",
    "ax6.text(s='mm', x=0.05, y=0.03, \\\n",
    "        ha='left', va='bottom', \\\n",
    "        fontsize=fontsize, \\\n",
    "        transform=ax6.transAxes)\n",
    "\n",
    "for c in contour_plot1.collections:\n",
    "    c.set_edgecolor('face')\n",
    "    c.set_rasterized(True)\n",
    "for c in contour_plot2.collections:\n",
    "    c.set_edgecolor('face')\n",
    "    c.set_rasterized(True)\n",
    "for c in contour_plot3.collections:\n",
    "    c.set_edgecolor('face')\n",
    "    c.set_rasterized(True)\n",
    "for c in contour_plot4.collections:\n",
    "    c.set_edgecolor('face')\n",
    "    c.set_rasterized(True)\n",
    "for c in contour_plot5.collections:\n",
    "    c.set_edgecolor('face')\n",
    "    c.set_rasterized(True)\n",
    "for c in contour_plot6.collections:\n",
    "    c.set_edgecolor('face')\n",
    "    c.set_rasterized(True)\n",
    "\n",
    "\n",
    "cbar_thickness=0.025\n",
    "cbar_yshift=-0.08\n",
    "\n",
    "bbox_position = ax1.get_position()\n",
    "cbar_axes = fig.add_axes([bbox_position.x0, bbox_position.y0+cbar_yshift, bbox_position.width, cbar_thickness], rasterized=True)\n",
    "cbar = mp.colorbar(contour_plot1, orientation='horizontal', cax=cbar_axes)\n",
    "cbar_axes.tick_params(labelsize=fontsize)\n",
    "#cbar.set_ticks([numpy.arange(-1,1.1,0.5)])\n",
    "for c in cbar_axes.collections:\n",
    "    c.set_edgecolor('face')\n",
    "\n",
    "bbox_position = ax2.get_position()\n",
    "cbar_axes = fig.add_axes([bbox_position.x0, bbox_position.y0+cbar_yshift, bbox_position.width, cbar_thickness], rasterized=True)\n",
    "cbar = mp.colorbar(contour_plot2, orientation='horizontal', cax=cbar_axes)\n",
    "cbar_axes.tick_params(labelsize=fontsize)\n",
    "cbar.set_ticks([0,1,2,3])\n",
    "for c in cbar_axes.collections:\n",
    "    c.set_edgecolor('face')\n",
    "\n",
    "bbox_position = ax3.get_position()\n",
    "cbar_axes = fig.add_axes([bbox_position.x0, bbox_position.y0+cbar_yshift, bbox_position.width, cbar_thickness], rasterized=True)\n",
    "cbar = mp.colorbar(contour_plot3, orientation='horizontal', cax=cbar_axes)\n",
    "cbar_axes.tick_params(labelsize=fontsize)\n",
    "#cbar.set_ticks(numpy.arange(-20,21,10))\n",
    "for c in cbar_axes.collections:\n",
    "    c.set_edgecolor('face')\n",
    "\n",
    "bbox_position = ax4.get_position()\n",
    "cbar_axes = fig.add_axes([bbox_position.x0, bbox_position.y0+cbar_yshift, bbox_position.width, cbar_thickness], rasterized=True)\n",
    "cbar = mp.colorbar(contour_plot4, orientation='horizontal', cax=cbar_axes)\n",
    "cbar_axes.tick_params(labelsize=fontsize)\n",
    "#cbar.set_ticks(numpy.arange(280,301,5))\n",
    "for c in cbar_axes.collections:\n",
    "    c.set_edgecolor('face')\n",
    "\n",
    "bbox_position = ax5.get_position()\n",
    "cbar_axes = fig.add_axes([bbox_position.x0, bbox_position.y0+cbar_yshift, bbox_position.width, cbar_thickness], rasterized=True)\n",
    "cbar = mp.colorbar(contour_plot5, orientation='horizontal', cax=cbar_axes)\n",
    "cbar_axes.tick_params(labelsize=fontsize)\n",
    "cbar.set_ticks([0,200,400,600,800])\n",
    "for c in cbar_axes.collections:\n",
    "    c.set_edgecolor('face')\n",
    "\n",
    "bbox_position = ax6.get_position()\n",
    "cbar_axes = fig.add_axes([bbox_position.x0, bbox_position.y0+cbar_yshift, bbox_position.width, cbar_thickness], rasterized=True)\n",
    "cbar = mp.colorbar(contour_plot6, orientation='horizontal', cax=cbar_axes)\n",
    "cbar_axes.tick_params(labelsize=fontsize)\n",
    "#cbar.set_ticks(numpy.arange(-0.2,0.21,0.1))\n",
    "for c in cbar_axes.collections:\n",
    "    c.set_edgecolor('face')\n",
    "\n",
    "#fig.savefig(run_info+'_figure2.pdf', transparent=True, bbox_inches='tight')\n",
    "#fig.savefig('../figures/SI_fig03.pdf', dpi=300, transparent=True, bbox_inches='tight')"
   ]
  },
  {
   "cell_type": "markdown",
   "metadata": {},
   "source": [
    "# as a percent"
   ]
  },
  {
   "cell_type": "code",
   "execution_count": null,
   "metadata": {
    "ExecuteTime": {
     "end_time": "2018-08-28T03:25:23.871389Z",
     "start_time": "2018-08-28T03:25:14.547549Z"
    }
   },
   "outputs": [],
   "source": [
    "# MONTHLY MEAN PLOTS\n",
    "\n",
    "fig = mp.figure(figsize=(8,6))\n",
    "fontsize = 12\n",
    "lon_offset = 25.\n",
    "\n",
    "# RAINTOT\n",
    "\n",
    "perc_diff = (raintot_diffs_time_mean_landmask/raintot_400_time_mean_landmask)*100.\n",
    "levels = numpy.arange(-25,26,5)\n",
    "ax1 = fig.add_subplot(231, projection=cartopy.crs.PlateCarree())\n",
    "ax1.gridlines(ylocs=[0], color='0.25')\n",
    "ax1.coastlines(resolution='110m')\n",
    "contour_plot1 = ax1.contourf(xlong, xlat, perc_diff, \\\n",
    "                             levels=levels, \\\n",
    "                             cmap='BrBG', extend='both', transform=cartopy.crs.PlateCarree(), rasterized=True)\n",
    "\n",
    "\n",
    "ax1.add_patch(matplotlib.patches.Rectangle(xy=[-80, -10], width=5, height=20,\n",
    "                                facecolor='none',\n",
    "                                edgecolor='0.1',\\\n",
    "                                linewidth=2,\\\n",
    "                                transform=cartopy.crs.PlateCarree(), zorder=2) )\n",
    "\n",
    "ax1.add_patch(matplotlib.patches.Rectangle(xy=[-60, -10], width=10, height=20,\n",
    "                                facecolor='none',\n",
    "                                edgecolor='0.1',\\\n",
    "                                linewidth=2,\\\n",
    "                                transform=cartopy.crs.PlateCarree(), zorder=2) )\n",
    "\n",
    "ax1.contour(xlong,xlat,field_convolved*24.,\\\n",
    "            levels=[4], colors=outline_color, linewidths=[2], linestyles=['-'])\n",
    "\n",
    "# DELTA TRANSPIRATION\n",
    "\n",
    "perc_diff = (etran_diffs_time_mean_landmask/etran_400_time_mean_landmask)*100.\n",
    "levels = numpy.arange(-40,41,10)\n",
    "ax2 = fig.add_subplot(232, projection=cartopy.crs.PlateCarree())\n",
    "ax2.gridlines(ylocs=[0], color='0.25')\n",
    "ax2.coastlines(resolution='110m')\n",
    "contour_plot2 = ax2.contourf(xlong, xlat, perc_diff, \\\n",
    "                             levels=levels, \\\n",
    "                             cmap='RdBu', extend='both', transform=cartopy.crs.PlateCarree(), rasterized=True)\n",
    "\n",
    "# LH\n",
    "\n",
    "perc_diff = (lh_diffs_time_mean_landmask/lh_400_time_mean_landmask)*100.\n",
    "levels = numpy.arange(-15,16,2.5)\n",
    "ax3 = fig.add_subplot(233, projection=cartopy.crs.PlateCarree())\n",
    "ax3.gridlines(ylocs=[0], color='0.25')\n",
    "ax3.coastlines(resolution='110m')\n",
    "contour_plot3 = ax3.contourf(xlong, xlat, perc_diff, \\\n",
    "                             levels=levels, \\\n",
    "                             cmap='RdBu', extend='both', transform=cartopy.crs.PlateCarree(), rasterized=True)\n",
    "\n",
    "# T2\n",
    "\n",
    "perc_diff = (t2_diffs_time_mean_landmask/(t2_400_time_mean_landmask-273.15))*100.\n",
    "levels = numpy.arange(-3,3.1,0.25)\n",
    "ax4 = fig.add_subplot(234, projection=cartopy.crs.PlateCarree())\n",
    "ax4.gridlines(ylocs=[0], color='0.25')\n",
    "ax4.coastlines(resolution='110m')\n",
    "contour_plot4 = ax4.contourf(xlong, xlat, perc_diff, \\\n",
    "                             levels=levels, \\\n",
    "                             cmap='PuOr_r', extend='both', transform=cartopy.crs.PlateCarree(), rasterized=True)\n",
    "\n",
    "# PBLH\n",
    "\n",
    "perc_diff = (pblh_diffs_time_mean_landmask/pblh_400_time_mean_landmask)*100.\n",
    "levels = numpy.arange(-20,21,5)\n",
    "ax5 = fig.add_subplot(235, projection=cartopy.crs.PlateCarree())\n",
    "ax5.gridlines(ylocs=[0], color='0.25')\n",
    "ax5.coastlines(resolution='110m')\n",
    "contour_plot5 = ax5.contourf(xlong, xlat, perc_diff, \\\n",
    "                             levels=levels, \\\n",
    "                             cmap='RdGy_r', extend='both', transform=cartopy.crs.PlateCarree(), rasterized=True)\n",
    "\n",
    "# PRW\n",
    "\n",
    "perc_diff = (prw_diffs_time_mean_landmask/prw_400_time_mean_landmask)*100.\n",
    "levels = numpy.arange(-2,2.1,0.25)\n",
    "ax6 = fig.add_subplot(236, projection=cartopy.crs.PlateCarree())\n",
    "ax6.gridlines(ylocs=[0], color='0.25')\n",
    "ax6.coastlines(resolution='110m')\n",
    "contour_plot6 = ax6.contourf(xlong, xlat, perc_diff, \\\n",
    "                             levels=levels, \\\n",
    "                             cmap='RdBu', extend='both', transform=cartopy.crs.PlateCarree(), rasterized=True)\n",
    "\n",
    "for c in contour_plot1.collections:\n",
    "    c.set_edgecolor('face')\n",
    "    c.set_rasterized(True)\n",
    "for c in contour_plot2.collections:\n",
    "    c.set_edgecolor('face')\n",
    "    c.set_rasterized(True)\n",
    "for c in contour_plot3.collections:\n",
    "    c.set_edgecolor('face')\n",
    "    c.set_rasterized(True)\n",
    "for c in contour_plot4.collections:\n",
    "    c.set_edgecolor('face')\n",
    "    c.set_rasterized(True)\n",
    "for c in contour_plot5.collections:\n",
    "    c.set_edgecolor('face')\n",
    "    c.set_rasterized(True)\n",
    "for c in contour_plot6.collections:\n",
    "    c.set_edgecolor('face')\n",
    "    c.set_rasterized(True)\n",
    "\n",
    "ax1.set_extent([273,329,-30,15], crs=cartopy.crs.PlateCarree())\n",
    "ax2.set_extent([273,329,-30,15], crs=cartopy.crs.PlateCarree())\n",
    "ax3.set_extent([273,329,-30,15], crs=cartopy.crs.PlateCarree())\n",
    "ax4.set_extent([273,329,-30,15], crs=cartopy.crs.PlateCarree())\n",
    "ax5.set_extent([273,329,-30,15], crs=cartopy.crs.PlateCarree())\n",
    "ax6.set_extent([273,329,-30,15], crs=cartopy.crs.PlateCarree())\n",
    "\n",
    "ax1.set_xticks([-360+280,-360+300,-360+320])\n",
    "ax1.set_yticks([-20,-10,0,10])\n",
    "ax1.tick_params(labelsize=fontsize)\n",
    "ax1.set_xticklabels(['$280$'+DEGREE_SIGN,'$300$'+DEGREE_SIGN,'$320$'+DEGREE_SIGN])\n",
    "ax1.set_yticklabels(['$-20$'+DEGREE_SIGN,'$-10$'+DEGREE_SIGN,'$0$'+DEGREE_SIGN,'$10$'+DEGREE_SIGN])\n",
    "\n",
    "ax2.set_xticks([-360+280,-360+300,-360+320])\n",
    "ax2.set_yticks([-20,-10,0,10])\n",
    "ax2.tick_params(labelsize=fontsize)\n",
    "ax2.set_xticklabels(['$280$'+DEGREE_SIGN,'$300$'+DEGREE_SIGN,'$320$'+DEGREE_SIGN])\n",
    "ax2.set_yticklabels(['$-20$'+DEGREE_SIGN,'$-10$'+DEGREE_SIGN,'$0$'+DEGREE_SIGN,'$10$'+DEGREE_SIGN])\n",
    "\n",
    "ax3.set_xticks([-360+280,-360+300,-360+320])\n",
    "ax3.set_yticks([-20,-10,0,10])\n",
    "ax3.tick_params(labelsize=fontsize)\n",
    "ax3.set_xticklabels(['$280$'+DEGREE_SIGN,'$300$'+DEGREE_SIGN,'$320$'+DEGREE_SIGN])\n",
    "ax3.set_yticklabels(['$-20$'+DEGREE_SIGN,'$-10$'+DEGREE_SIGN,'$0$'+DEGREE_SIGN,'$10$'+DEGREE_SIGN])\n",
    "\n",
    "ax4.set_xticks([-360+280,-360+300,-360+320])\n",
    "ax4.set_yticks([-20,-10,0,10])\n",
    "ax4.tick_params(labelsize=fontsize)\n",
    "ax4.set_xticklabels(['$280$'+DEGREE_SIGN,'$300$'+DEGREE_SIGN,'$320$'+DEGREE_SIGN])\n",
    "ax4.set_yticklabels(['$-20$'+DEGREE_SIGN,'$-10$'+DEGREE_SIGN,'$0$'+DEGREE_SIGN,'$10$'+DEGREE_SIGN])\n",
    "\n",
    "ax5.set_xticks([-360+280,-360+300,-360+320])\n",
    "ax5.set_yticks([-20,-10,0,10])\n",
    "ax5.tick_params(labelsize=fontsize)\n",
    "ax5.set_xticklabels(['$280$'+DEGREE_SIGN,'$300$'+DEGREE_SIGN,'$320$'+DEGREE_SIGN])\n",
    "ax5.set_yticklabels(['$-20$'+DEGREE_SIGN,'$-10$'+DEGREE_SIGN,'$0$'+DEGREE_SIGN,'$10$'+DEGREE_SIGN])\n",
    "\n",
    "ax6.set_xticks([-360+280,-360+300,-360+320])\n",
    "ax6.set_yticks([-20,-10,0,10])\n",
    "ax6.tick_params(labelsize=fontsize)\n",
    "ax6.set_xticklabels(['$280$'+DEGREE_SIGN,'$300$'+DEGREE_SIGN,'$320$'+DEGREE_SIGN])\n",
    "ax6.set_yticklabels(['$-20$'+DEGREE_SIGN,'$-10$'+DEGREE_SIGN,'$0$'+DEGREE_SIGN,'$10$'+DEGREE_SIGN])\n",
    "\n",
    "fig.tight_layout(h_pad=0.5,w_pad=0.5)#h_pad=7, w_pad=3)\n",
    "fig.canvas.draw_idle()\n",
    "\n",
    "title = ax1.text(s='(a) $\\Delta$ precipitation', x=0, y=1.02, ha='left', va='bottom', fontsize=fontsize, transform=ax1.transAxes)\n",
    "title = ax2.text(s='(b) $\\Delta$ transpiration', x=0, y=1.02, ha='left', va='bottom', fontsize=fontsize, transform=ax2.transAxes)\n",
    "title = ax3.text(s='(c) $\\Delta$ latent cooling', x=0, y=1.02, ha='left', va='bottom', fontsize=fontsize, transform=ax3.transAxes)\n",
    "title = ax4.text(s='(d) $\\Delta$ 2m air temperature', x=0, y=1.02, ha='left', va='bottom', fontsize=fontsize, transform=ax4.transAxes)\n",
    "title = ax5.text(s='(e) $\\Delta$ boundary layer ht.', x=0, y=1.02, ha='left', va='bottom', fontsize=fontsize, transform=ax5.transAxes)\n",
    "title = ax6.text(s='(f) $\\Delta$ column water vapor', x=0, y=1.02, ha='left', va='bottom', fontsize=fontsize, transform=ax6.transAxes)\n",
    "\n",
    "ax1.text(s='%', x=0.05, y=0.03, \\\n",
    "        ha='left', va='bottom', \\\n",
    "        fontsize=fontsize, \\\n",
    "        transform=ax1.transAxes)\n",
    "ax2.text(s='%', x=0.05, y=0.03, \\\n",
    "        ha='left', va='bottom', \\\n",
    "        fontsize=fontsize, \\\n",
    "        transform=ax2.transAxes)\n",
    "ax3.text(s='%', x=0.05, y=0.03, \\\n",
    "        ha='left', va='bottom', \\\n",
    "        fontsize=fontsize, \\\n",
    "        transform=ax3.transAxes)\n",
    "ax4.text(s='%', x=0.05, y=0.03, \\\n",
    "        ha='left', va='bottom', \\\n",
    "        fontsize=fontsize, \\\n",
    "        transform=ax4.transAxes)\n",
    "ax5.text(s='%', x=0.05, y=0.03, \\\n",
    "        ha='left', va='bottom', \\\n",
    "        fontsize=fontsize, \\\n",
    "        transform=ax5.transAxes)\n",
    "ax6.text(s='%', x=0.05, y=0.03, \\\n",
    "        ha='left', va='bottom', \\\n",
    "        fontsize=fontsize, \\\n",
    "        transform=ax6.transAxes)\n",
    "\n",
    "\n",
    "cbar_thickness=0.025\n",
    "cbar_yshift=-0.08\n",
    "\n",
    "bbox_position = ax1.get_position()\n",
    "cbar_axes = fig.add_axes([bbox_position.x0, bbox_position.y0+cbar_yshift, bbox_position.width, cbar_thickness], rasterized=True)\n",
    "cbar = mp.colorbar(contour_plot1, orientation='horizontal', cax=cbar_axes)\n",
    "cbar_axes.tick_params(labelsize=fontsize)\n",
    "cbar.set_ticks([-20,-10,0,10,20])\n",
    "for c in cbar_axes.collections:\n",
    "    c.set_edgecolor('face')\n",
    "\n",
    "bbox_position = ax2.get_position()\n",
    "cbar_axes = fig.add_axes([bbox_position.x0, bbox_position.y0+cbar_yshift, bbox_position.width, cbar_thickness], rasterized=True)\n",
    "cbar = mp.colorbar(contour_plot2, orientation='horizontal', cax=cbar_axes)\n",
    "cbar_axes.tick_params(labelsize=fontsize)\n",
    "cbar.set_ticks([-40,-20,0,20,40])\n",
    "for c in cbar_axes.collections:\n",
    "    c.set_edgecolor('face')\n",
    "\n",
    "bbox_position = ax3.get_position()\n",
    "cbar_axes = fig.add_axes([bbox_position.x0, bbox_position.y0+cbar_yshift, bbox_position.width, cbar_thickness], rasterized=True)\n",
    "cbar = mp.colorbar(contour_plot3, orientation='horizontal', cax=cbar_axes)\n",
    "cbar_axes.tick_params(labelsize=fontsize)\n",
    "#cbar.set_ticks(numpy.arange(-20,21,10))\n",
    "for c in cbar_axes.collections:\n",
    "    c.set_edgecolor('face')\n",
    "\n",
    "bbox_position = ax4.get_position()\n",
    "cbar_axes = fig.add_axes([bbox_position.x0, bbox_position.y0+cbar_yshift, bbox_position.width, cbar_thickness], rasterized=True)\n",
    "cbar = mp.colorbar(contour_plot4, orientation='horizontal', cax=cbar_axes)\n",
    "cbar_axes.tick_params(labelsize=fontsize)\n",
    "cbar.set_ticks([-3,-2,-1,0,1,2,3])\n",
    "for c in cbar_axes.collections:\n",
    "    c.set_edgecolor('face')\n",
    "\n",
    "bbox_position = ax5.get_position()\n",
    "cbar_axes = fig.add_axes([bbox_position.x0, bbox_position.y0+cbar_yshift, bbox_position.width, cbar_thickness], rasterized=True)\n",
    "cbar = mp.colorbar(contour_plot5, orientation='horizontal', cax=cbar_axes)\n",
    "cbar_axes.tick_params(labelsize=fontsize)\n",
    "cbar.set_ticks([-20,-10,0,10,20])\n",
    "for c in cbar_axes.collections:\n",
    "    c.set_edgecolor('face')\n",
    "\n",
    "bbox_position = ax6.get_position()\n",
    "cbar_axes = fig.add_axes([bbox_position.x0, bbox_position.y0+cbar_yshift, bbox_position.width, cbar_thickness], rasterized=True)\n",
    "cbar = mp.colorbar(contour_plot6, orientation='horizontal', cax=cbar_axes)\n",
    "cbar_axes.tick_params(labelsize=fontsize)\n",
    "cbar.set_ticks([-2,-1,0,1,2])\n",
    "for c in cbar_axes.collections:\n",
    "    c.set_edgecolor('face')\n",
    "\n",
    "#fig.savefig('../figures/MAIN_fig02.pdf', dpi=300, transparent=True, bbox_inches='tight')\n"
   ]
  },
  {
   "cell_type": "code",
   "execution_count": null,
   "metadata": {},
   "outputs": [],
   "source": []
  }
 ],
 "metadata": {
  "kernelspec": {
   "display_name": "Python 3",
   "language": "python",
   "name": "python3"
  },
  "language_info": {
   "codemirror_mode": {
    "name": "ipython",
    "version": 3
   },
   "file_extension": ".py",
   "mimetype": "text/x-python",
   "name": "python",
   "nbconvert_exporter": "python",
   "pygments_lexer": "ipython3",
   "version": "3.7.0"
  },
  "varInspector": {
   "cols": {
    "lenName": 16,
    "lenType": 16,
    "lenVar": 40
   },
   "kernels_config": {
    "python": {
     "delete_cmd_postfix": "",
     "delete_cmd_prefix": "del ",
     "library": "var_list.py",
     "varRefreshCmd": "print(var_dic_list())"
    },
    "r": {
     "delete_cmd_postfix": ") ",
     "delete_cmd_prefix": "rm(",
     "library": "var_list.r",
     "varRefreshCmd": "cat(var_dic_list()) "
    }
   },
   "types_to_exclude": [
    "module",
    "function",
    "builtin_function_or_method",
    "instance",
    "_Feature"
   ],
   "window_display": false
  }
 },
 "nbformat": 4,
 "nbformat_minor": 2
}
