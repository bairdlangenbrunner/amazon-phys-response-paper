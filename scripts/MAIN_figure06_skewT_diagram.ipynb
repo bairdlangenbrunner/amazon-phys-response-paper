{
 "cells": [
  {
   "cell_type": "markdown",
   "metadata": {},
   "source": [
    "# import stuff"
   ]
  },
  {
   "cell_type": "code",
   "execution_count": 1,
   "metadata": {
    "ExecuteTime": {
     "end_time": "2018-11-20T06:09:14.061484Z",
     "start_time": "2018-11-20T06:09:07.225840Z"
    }
   },
   "outputs": [],
   "source": [
    "import numpy\n",
    "import xarray\n",
    "import matplotlib\n",
    "import matplotlib.pyplot as mp\n",
    "import datetime\n",
    "import glob\n",
    "import netCDF4\n",
    "import pandas\n",
    "import wrf\n",
    "import string\n",
    "import seaborn\n",
    "import matplotlib.colors\n",
    "import cmocean\n",
    "import matplotlib.cm\n",
    "\n",
    "import metpy\n",
    "import metpy.plots\n",
    "import metpy.calc\n",
    "import metpy.units\n",
    "\n",
    "import cartopy\n",
    "\n",
    "DEGREE_SIGN = u'\\u00B0'\n",
    "mp.rcParams.update({'mathtext.default': 'regular'})\n",
    "\n",
    "% matplotlib inline"
   ]
  },
  {
   "cell_type": "markdown",
   "metadata": {},
   "source": [
    "# set up wet and dry regions"
   ]
  },
  {
   "cell_type": "code",
   "execution_count": 2,
   "metadata": {
    "ExecuteTime": {
     "end_time": "2018-11-20T06:09:14.073894Z",
     "start_time": "2018-11-20T06:09:14.066647Z"
    }
   },
   "outputs": [],
   "source": [
    "dry_lon_lo, dry_lon_hi, dry_lat_lo, dry_lat_hi = -60,-50,-10,10\n",
    "wet_lon_lo, wet_lon_hi, wet_lat_lo, wet_lat_hi = -80,-75,-10,10\n",
    "\n",
    "dry_lon_lo_degE = 360+dry_lon_lo\n",
    "dry_lon_hi_degE = 360+dry_lon_hi\n",
    "\n",
    "wet_lon_lo_degE = 360+wet_lon_lo\n",
    "wet_lon_hi_degE = 360+wet_lon_hi"
   ]
  },
  {
   "cell_type": "code",
   "execution_count": 3,
   "metadata": {
    "ExecuteTime": {
     "end_time": "2018-11-20T06:09:14.300600Z",
     "start_time": "2018-11-20T06:09:14.078904Z"
    }
   },
   "outputs": [],
   "source": [
    "lon_lo = dry_lon_lo\n",
    "lon_hi = dry_lon_hi\n",
    "lat_lo = dry_lat_lo\n",
    "lat_hi = dry_lat_hi\n",
    "\n",
    "# lon_lo = wet_lon_lo\n",
    "# lon_hi = wet_lon_hi\n",
    "# lat_lo = wet_lat_lo\n",
    "# lat_hi = wet_lat_hi"
   ]
  },
  {
   "cell_type": "markdown",
   "metadata": {},
   "source": [
    "# open control data"
   ]
  },
  {
   "cell_type": "code",
   "execution_count": 4,
   "metadata": {
    "ExecuteTime": {
     "end_time": "2018-11-20T06:09:22.036733Z",
     "start_time": "2018-11-20T06:09:14.305638Z"
    }
   },
   "outputs": [],
   "source": [
    "root_dir = '/beegfs/DATA/pritchard/blangenb/WRF_ARCHIVE/CHEYENNE/FMAASO/400/ens_mean_wrfout_files'\n",
    "file_list = sorted(glob.glob(root_dir+'/'+'wrfout*.nc'))\n",
    "ds_list = [netCDF4.Dataset(file) for file in file_list]"
   ]
  },
  {
   "cell_type": "raw",
   "metadata": {
    "ExecuteTime": {
     "end_time": "2018-06-27T20:25:50.798686Z",
     "start_time": "2018-06-27T20:16:43.318449Z"
    }
   },
   "source": [
    "td_400 = wrf.getvar(ds_list, 'td', units='K', timeidx=wrf.ALL_TIMES).values\n",
    "numpy.save('DATA_td_400.npy', td_400)\n",
    "\n",
    "cape3d_400 = wrf.getvar(ds_list, 'cape_3d', timeidx=wrf.ALL_TIMES).values\n",
    "numpy.save('DATA_cape3d_400.npy', cape3d_400)\n",
    "\n",
    "cape2d_400 = wrf.getvar(ds_list, 'cape_2d', timeidx=wrf.ALL_TIMES).values\n",
    "numpy.save('DATA_cape2d_400.npy', cape2d_400)"
   ]
  },
  {
   "cell_type": "code",
   "execution_count": 5,
   "metadata": {
    "ExecuteTime": {
     "end_time": "2018-11-20T06:09:38.931204Z",
     "start_time": "2018-11-20T06:09:22.041812Z"
    }
   },
   "outputs": [],
   "source": [
    "cont_mfds = xarray.open_mfdataset(root_dir + '/' + 'wrfout*.nc')"
   ]
  },
  {
   "cell_type": "code",
   "execution_count": 6,
   "metadata": {
    "ExecuteTime": {
     "end_time": "2018-11-20T06:10:33.710412Z",
     "start_time": "2018-11-20T06:09:38.933148Z"
    }
   },
   "outputs": [],
   "source": [
    "ptot_400 = numpy.load('DATA_ptot_400.npy')\n",
    "geopot_400 = numpy.load('DATA_geopot_400.npy')\n",
    "#cape3d_400 = numpy.load('DATA_cape3d_400.npy')\n",
    "#cape2d_400 = numpy.load('DATA_cape2d_400.npy')\n",
    "td_400 = numpy.load('DATA_td_400.npy')\n",
    "tk_400 = numpy.load('DATA_tk_400.npy')"
   ]
  },
  {
   "cell_type": "raw",
   "metadata": {
    "ExecuteTime": {
     "end_time": "2018-06-29T23:47:44.809283Z",
     "start_time": "2018-06-29T23:47:44.784593Z"
    }
   },
   "source": [
    "cldfra_400 = cont_mfds['CLDFRA']\n",
    "\n",
    "fira_400 = cont_mfds['FIRA']\n",
    "fsa_400 = cont_mfds['FSA']\n",
    "glw_400 = cont_mfds['GLW']\n",
    "swdown_400 = cont_mfds['SWDOWN']\n",
    "\n",
    "alwdnb_400 = cont_mfds['ACLWDNB']\n",
    "aswdnb_400 = cont_mfds['ACSWDNB']\n",
    "alwupb_400 = cont_mfds['ACLWUPB']\n",
    "aswupb_400 = cont_mfds['ACSWUPB']\n",
    "\n",
    "alwdnbc_400 = cont_mfds['ACLWDNBC']\n",
    "aswdnbc_400 = cont_mfds['ACSWDNBC']\n",
    "alwupbc_400 = cont_mfds['ACLWUPBC']\n",
    "aswupbc_400 = cont_mfds['ACSWUPBC']\n",
    "\n",
    "alwdnt_400 = cont_mfds['ACLWDNT']\n",
    "aswdnt_400 = cont_mfds['ACSWDNT']\n",
    "alwupt_400 = cont_mfds['ACLWUPT']\n",
    "aswupt_400 = cont_mfds['ACSWUPT']\n",
    "\n",
    "alwdntc_400 = cont_mfds['ACLWDNTC']\n",
    "aswdntc_400 = cont_mfds['ACSWDNTC']\n",
    "alwuptc_400 = cont_mfds['ACLWUPTC']\n",
    "aswuptc_400 = cont_mfds['ACSWUPTC']"
   ]
  },
  {
   "cell_type": "raw",
   "metadata": {
    "ExecuteTime": {
     "end_time": "2018-06-29T23:47:45.139322Z",
     "start_time": "2018-06-29T23:47:44.817437Z"
    }
   },
   "source": [
    "qvapor_400 = cont_mfds['QVAPOR']"
   ]
  },
  {
   "cell_type": "raw",
   "metadata": {
    "ExecuteTime": {
     "end_time": "2018-06-29T23:47:53.150529Z",
     "start_time": "2018-06-29T23:47:45.147773Z"
    }
   },
   "source": [
    "net_atm_400_sw = (aswupb_400-aswupt_400)+(aswdnt_400-aswdnb_400)\n",
    "net_atm_400_lw = (alwupb_400-alwupt_400)+(alwdnt_400-alwdnb_400)"
   ]
  },
  {
   "cell_type": "raw",
   "metadata": {
    "ExecuteTime": {
     "end_time": "2018-06-29T23:48:02.910898Z",
     "start_time": "2018-06-29T23:47:55.383388Z"
    }
   },
   "source": [
    "net_atm_400_swc = (aswupbc_400-aswuptc_400)+(aswdntc_400-aswdnbc_400)\n",
    "net_atm_400_lwc = (alwupbc_400-alwuptc_400)+(alwdntc_400-alwdnbc_400)"
   ]
  },
  {
   "cell_type": "code",
   "execution_count": 7,
   "metadata": {
    "ExecuteTime": {
     "end_time": "2018-11-20T06:10:33.934018Z",
     "start_time": "2018-11-20T06:10:33.715494Z"
    }
   },
   "outputs": [],
   "source": [
    "hgt = cont_mfds['HGT'].sel(Time=0).values"
   ]
  },
  {
   "cell_type": "code",
   "execution_count": 8,
   "metadata": {
    "ExecuteTime": {
     "end_time": "2018-11-20T06:12:53.455549Z",
     "start_time": "2018-11-20T06:10:33.938754Z"
    }
   },
   "outputs": [],
   "source": [
    "time = cont_mfds['Times'].values\n",
    "xlat = cont_mfds['XLAT'].values[0,:,:]\n",
    "xlong = cont_mfds['XLONG'].values[0,:,:]\n",
    "landmask = cont_mfds['LANDMASK'].values[0,:,:]\n",
    "landmask_midpoints = landmask[1:,1:]"
   ]
  },
  {
   "cell_type": "code",
   "execution_count": 9,
   "metadata": {
    "ExecuteTime": {
     "end_time": "2018-11-20T06:12:53.467586Z",
     "start_time": "2018-11-20T06:12:53.460510Z"
    }
   },
   "outputs": [],
   "source": [
    "landmask_indices = numpy.copy(landmask)\n",
    "landmask_indices[landmask==1]=1\n",
    "landmask_indices[landmask!=1]=0\n",
    "landmask_indices = numpy.array(landmask_indices, dtype=bool)"
   ]
  },
  {
   "cell_type": "code",
   "execution_count": 10,
   "metadata": {
    "ExecuteTime": {
     "end_time": "2018-11-20T06:12:53.589831Z",
     "start_time": "2018-11-20T06:12:53.472042Z"
    }
   },
   "outputs": [],
   "source": [
    "lon_indices = (xlong>=lon_lo)&(xlong<=lon_hi)\n",
    "lat_indices = (xlat>=lat_lo)&(xlat<=lat_hi)\n",
    "latlon_indices = (lon_indices)&(lat_indices)&(landmask_indices)\n",
    "latlon_indices_high_andes = (lon_indices)&(lat_indices)&(landmask_indices)&(hgt>1500.)"
   ]
  },
  {
   "cell_type": "code",
   "execution_count": 11,
   "metadata": {
    "ExecuteTime": {
     "end_time": "2018-11-20T06:12:54.237760Z",
     "start_time": "2018-11-20T06:12:53.594551Z"
    }
   },
   "outputs": [
    {
     "data": {
      "text/plain": [
       "<matplotlib.colorbar.Colorbar at 0x2ac19fde9b70>"
      ]
     },
     "execution_count": 11,
     "metadata": {},
     "output_type": "execute_result"
    },
    {
     "data": {
      "image/png": "[encoded data removed]",
      "text/plain": [
       "<Figure size 432x288 with 2 Axes>"
      ]
     },
     "metadata": {},
     "output_type": "display_data"
    }
   ],
   "source": [
    "mp.contourf(latlon_indices);mp.colorbar()"
   ]
  },
  {
   "cell_type": "markdown",
   "metadata": {},
   "source": [
    "# open phys data"
   ]
  },
  {
   "cell_type": "code",
   "execution_count": 12,
   "metadata": {
    "ExecuteTime": {
     "end_time": "2018-11-20T06:13:01.818405Z",
     "start_time": "2018-11-20T06:12:54.242310Z"
    }
   },
   "outputs": [],
   "source": [
    "root_dir = '/beegfs/DATA/pritchard/blangenb/WRF_ARCHIVE/CHEYENNE/FMAASO/1000/ens_mean_wrfout_files'\n",
    "file_list = sorted(glob.glob(root_dir+'/'+'wrfout*.nc'))\n",
    "ds_list = [netCDF4.Dataset(file) for file in file_list]"
   ]
  },
  {
   "cell_type": "raw",
   "metadata": {
    "ExecuteTime": {
     "end_time": "2018-06-27T20:36:34.057718Z",
     "start_time": "2018-06-27T20:25:57.865123Z"
    }
   },
   "source": [
    "td_1000 = wrf.getvar(ds_list, 'td', units='K', timeidx=wrf.ALL_TIMES).values\n",
    "numpy.save('DATA_td_1000.npy', td_1000)\n",
    "\n",
    "cape3d_1000 = wrf.getvar(ds_list, 'cape_3d', timeidx=wrf.ALL_TIMES).values\n",
    "numpy.save('DATA_cape3d_1000.npy', cape3d_1000)\n",
    "\n",
    "cape2d_1000 = wrf.getvar(ds_list, 'cape_2d', timeidx=wrf.ALL_TIMES).values\n",
    "numpy.save('DATA_cape2d_1000.npy', cape2d_1000)"
   ]
  },
  {
   "cell_type": "code",
   "execution_count": 13,
   "metadata": {
    "ExecuteTime": {
     "end_time": "2018-11-20T06:13:20.923177Z",
     "start_time": "2018-11-20T06:13:01.823296Z"
    }
   },
   "outputs": [],
   "source": [
    "phys_mfds = xarray.open_mfdataset(root_dir + '/' + 'wrfout*.nc')"
   ]
  },
  {
   "cell_type": "code",
   "execution_count": 14,
   "metadata": {
    "ExecuteTime": {
     "end_time": "2018-11-20T06:13:57.811946Z",
     "start_time": "2018-11-20T06:13:20.925082Z"
    }
   },
   "outputs": [],
   "source": [
    "ptot_1000 = numpy.load('DATA_ptot_1000.npy')\n",
    "#cape3d_1000 = numpy.load('DATA_cape3d_1000.npy')\n",
    "#cape2d_1000 = numpy.load('DATA_cape2d_1000.npy')\n",
    "td_1000 = numpy.load('DATA_td_1000.npy')"
   ]
  },
  {
   "cell_type": "code",
   "execution_count": 15,
   "metadata": {
    "ExecuteTime": {
     "end_time": "2018-11-20T06:14:33.699128Z",
     "start_time": "2018-11-20T06:13:57.814480Z"
    }
   },
   "outputs": [],
   "source": [
    "tk_1000 = numpy.load('DATA_tk_1000.npy')"
   ]
  },
  {
   "cell_type": "raw",
   "metadata": {
    "ExecuteTime": {
     "end_time": "2018-07-01T05:59:48.565539Z",
     "start_time": "2018-07-01T05:59:48.541320Z"
    }
   },
   "source": [
    "cldfra_1000 = phys_mfds['CLDFRA']\n",
    "\n",
    "fira_1000 = phys_mfds['FIRA']\n",
    "fsa_1000 = phys_mfds['FSA']\n",
    "glw_1000 = phys_mfds['GLW']\n",
    "swdown_1000 = phys_mfds['SWDOWN']\n",
    "\n",
    "alwdnb_1000 = phys_mfds['ACLWDNB']\n",
    "aswdnb_1000 = phys_mfds['ACSWDNB']\n",
    "alwupb_1000 = phys_mfds['ACLWUPB']\n",
    "aswupb_1000 = phys_mfds['ACSWUPB']\n",
    "\n",
    "alwdnbc_1000 = phys_mfds['ACLWDNBC']\n",
    "aswdnbc_1000 = phys_mfds['ACSWDNBC']\n",
    "alwupbc_1000 = phys_mfds['ACLWUPBC']\n",
    "aswupbc_1000 = phys_mfds['ACSWUPBC']\n",
    "\n",
    "alwdnt_1000 = phys_mfds['ACLWDNT']\n",
    "aswdnt_1000 = phys_mfds['ACSWDNT']\n",
    "alwupt_1000 = phys_mfds['ACLWUPT']\n",
    "aswupt_1000 = phys_mfds['ACSWUPT']\n",
    "\n",
    "alwdntc_1000 = phys_mfds['ACLWDNTC']\n",
    "aswdntc_1000 = phys_mfds['ACSWDNTC']\n",
    "alwuptc_1000 = phys_mfds['ACLWUPTC']\n",
    "aswuptc_1000 = phys_mfds['ACSWUPTC']"
   ]
  },
  {
   "cell_type": "raw",
   "metadata": {
    "ExecuteTime": {
     "end_time": "2018-07-01T05:59:50.581848Z",
     "start_time": "2018-07-01T05:59:50.575783Z"
    }
   },
   "source": [
    "qvapor_1000 = phys_mfds['QVAPOR']"
   ]
  },
  {
   "cell_type": "markdown",
   "metadata": {},
   "source": [
    "## calculate from perspective of atmosphere"
   ]
  },
  {
   "cell_type": "raw",
   "metadata": {
    "ExecuteTime": {
     "end_time": "2018-06-27T02:03:21.743237Z",
     "start_time": "2018-06-27T02:03:03.566249Z"
    }
   },
   "source": [
    "net_atm_1000_sw = (aswupb_1000-aswupt_1000)+(aswdnt_1000-aswdnb_1000)\n",
    "net_atm_1000_lw = (alwupb_1000-alwupt_1000)+(alwdnt_1000-alwdnb_1000)"
   ]
  },
  {
   "cell_type": "raw",
   "metadata": {
    "ExecuteTime": {
     "end_time": "2018-06-27T02:03:30.849201Z",
     "start_time": "2018-06-27T02:03:21.748664Z"
    }
   },
   "source": [
    "net_atm_1000_swc = (aswupbc_1000-aswuptc_1000)+(aswdntc_1000-aswdnbc_1000)\n",
    "net_atm_1000_lwc = (alwupbc_1000-alwuptc_1000)+(alwdntc_1000-alwdnbc_1000)"
   ]
  },
  {
   "cell_type": "markdown",
   "metadata": {},
   "source": [
    "# calculate area mean net bottom and top diffs"
   ]
  },
  {
   "cell_type": "raw",
   "metadata": {
    "ExecuteTime": {
     "end_time": "2018-06-27T02:07:54.965118Z",
     "start_time": "2018-06-27T02:03:37.800079Z"
    }
   },
   "source": [
    "net_atm_diffs_1000_sw = numpy.zeros((net_atm_1000_sw.shape))*numpy.nan\n",
    "net_atm_diffs_1000_sw[:-1,:,:] = numpy.diff(net_atm_1000_sw, axis=0)\n",
    "\n",
    "net_atm_diffs_1000_lw = numpy.zeros((net_atm_1000_lw.shape))*numpy.nan\n",
    "net_atm_diffs_1000_lw[:-1,:,:] = numpy.diff(net_atm_1000_lw, axis=0)\n",
    "\n",
    "net_atm_diffs_400_sw = numpy.zeros((net_atm_400_sw.shape))*numpy.nan\n",
    "net_atm_diffs_400_sw[:-1,:,:] = numpy.diff(net_atm_400_sw, axis=0)\n",
    "\n",
    "net_atm_diffs_400_lw = numpy.zeros((net_atm_400_lw.shape))*numpy.nan\n",
    "net_atm_diffs_400_lw[:-1,:,:] = numpy.diff(net_atm_400_lw, axis=0)"
   ]
  },
  {
   "cell_type": "raw",
   "metadata": {
    "ExecuteTime": {
     "end_time": "2018-06-27T02:09:42.990640Z",
     "start_time": "2018-06-27T02:07:56.717945Z"
    }
   },
   "source": [
    "net_atm_diffs_1000_swc = numpy.zeros((net_atm_1000_swc.shape))*numpy.nan\n",
    "net_atm_diffs_1000_swc[:-1,:,:] = numpy.diff(net_atm_1000_swc, axis=0)\n",
    "\n",
    "net_atm_diffs_1000_lwc = numpy.zeros((net_atm_1000_lwc.shape))*numpy.nan\n",
    "net_atm_diffs_1000_lwc[:-1,:,:] = numpy.diff(net_atm_1000_lwc, axis=0)\n",
    "\n",
    "net_atm_diffs_400_swc = numpy.zeros((net_atm_400_swc.shape))*numpy.nan\n",
    "net_atm_diffs_400_swc[:-1,:,:] = numpy.diff(net_atm_400_swc, axis=0)\n",
    "\n",
    "net_atm_diffs_400_lwc = numpy.zeros((net_atm_400_lwc.shape))*numpy.nan\n",
    "net_atm_diffs_400_lwc[:-1,:,:] = numpy.diff(net_atm_400_lwc, axis=0)"
   ]
  },
  {
   "cell_type": "markdown",
   "metadata": {},
   "source": [
    "# pressure averages"
   ]
  },
  {
   "cell_type": "code",
   "execution_count": 16,
   "metadata": {
    "ExecuteTime": {
     "end_time": "2018-11-20T06:14:33.746899Z",
     "start_time": "2018-11-20T06:14:33.701706Z"
    }
   },
   "outputs": [],
   "source": [
    "ptot_latlon_subset_timemean = numpy.mean(ptot_400[:,:,latlon_indices], axis=2).mean(axis=0)"
   ]
  },
  {
   "cell_type": "markdown",
   "metadata": {},
   "source": [
    "# td diffs"
   ]
  },
  {
   "cell_type": "raw",
   "metadata": {
    "ExecuteTime": {
     "end_time": "2018-06-29T06:14:29.036936Z",
     "start_time": "2018-06-29T06:12:25.002153Z"
    }
   },
   "source": [
    "td_400_latlon_subset = td_400[:,:,latlon_indices]\n",
    "td_1000_latlon_subset = td_1000[:,:,latlon_indices]\n",
    "\n",
    "td_400_latlon_mean = numpy.nanmean(td_400_latlon_subset, axis=2)\n",
    "td_1000_latlon_mean = numpy.nanmean(td_1000_latlon_subset, axis=2)"
   ]
  },
  {
   "cell_type": "code",
   "execution_count": 17,
   "metadata": {
    "ExecuteTime": {
     "end_time": "2018-11-20T06:14:33.946345Z",
     "start_time": "2018-11-20T06:14:33.749275Z"
    }
   },
   "outputs": [],
   "source": [
    "td_400_latlon_subset = td_400[:,:,latlon_indices]\n",
    "td_1000_latlon_subset = td_1000[:,:,latlon_indices]\n",
    "\n",
    "td_400_latlon_mean = numpy.nanmean(td_400_latlon_subset, axis=2)\n",
    "td_1000_latlon_mean = numpy.nanmean(td_1000_latlon_subset, axis=2)"
   ]
  },
  {
   "cell_type": "code",
   "execution_count": 18,
   "metadata": {
    "ExecuteTime": {
     "end_time": "2018-11-20T06:14:34.209150Z",
     "start_time": "2018-11-20T06:14:33.949015Z"
    }
   },
   "outputs": [],
   "source": [
    "td_400_latlon_alltime = numpy.nanmean(td_400_latlon_subset, axis=(0,2))\n",
    "td_1000_latlon_alltime = numpy.nanmean(td_400_latlon_subset, axis=(0,2))"
   ]
  },
  {
   "cell_type": "markdown",
   "metadata": {},
   "source": [
    "# tk diffs"
   ]
  },
  {
   "cell_type": "raw",
   "metadata": {
    "ExecuteTime": {
     "end_time": "2018-06-29T06:15:57.941316Z",
     "start_time": "2018-06-29T06:14:41.695003Z"
    }
   },
   "source": [
    "tk_400_latlon_subset = tk_400[:,:,latlon_indices]\n",
    "tk_1000_latlon_subset = tk_1000[:,:,latlon_indices]\n",
    "\n",
    "tk_400_latlon_mean = numpy.nanmean(tk_400_latlon_subset, axis=2)\n",
    "tk_1000_latlon_mean = numpy.nanmean(tk_1000_latlon_subset, axis=2)"
   ]
  },
  {
   "cell_type": "code",
   "execution_count": 19,
   "metadata": {
    "ExecuteTime": {
     "end_time": "2018-11-20T06:14:36.550536Z",
     "start_time": "2018-11-20T06:14:34.211762Z"
    }
   },
   "outputs": [],
   "source": [
    "tk_400_latlon_subset = tk_400[:,:,latlon_indices]\n",
    "tk_1000_latlon_subset = tk_1000[:,:,latlon_indices]\n",
    "\n",
    "tk_400_latlon_mean = numpy.nanmean(tk_400_latlon_subset, axis=2)\n",
    "tk_1000_latlon_mean = numpy.nanmean(tk_1000_latlon_subset, axis=2)"
   ]
  },
  {
   "cell_type": "code",
   "execution_count": 20,
   "metadata": {
    "ExecuteTime": {
     "end_time": "2018-11-20T06:14:36.610219Z",
     "start_time": "2018-11-20T06:14:36.553278Z"
    }
   },
   "outputs": [],
   "source": [
    "tk_400_latlon_alltime = numpy.nanmean(tk_400_latlon_subset, axis=(0,2))\n",
    "tk_1000_latlon_alltime = numpy.nanmean(tk_1000_latlon_subset, axis=(0,2))"
   ]
  },
  {
   "cell_type": "markdown",
   "metadata": {},
   "source": [
    "# qvapor diffs"
   ]
  },
  {
   "cell_type": "raw",
   "metadata": {
    "ExecuteTime": {
     "end_time": "2018-06-29T06:19:58.070992Z",
     "start_time": "2018-06-29T06:16:10.604997Z"
    }
   },
   "source": [
    "qvapor_400_latlon_subset = qvapor_400.values[:,:,latlon_indices]\n",
    "qvapor_1000_latlon_subset = qvapor_1000.values[:,:,latlon_indices]\n",
    "\n",
    "qvapor_400_latlon_mean = numpy.nanmean(qvapor_400_latlon_subset, axis=(2))\n",
    "qvapor_1000_latlon_mean = numpy.nanmean(qvapor_1000_latlon_subset, axis=(2))\n",
    "\n",
    "qvapor_diffs_latlon_mean = qvapor_1000_latlon_mean-qvapor_400_latlon_mean"
   ]
  },
  {
   "cell_type": "raw",
   "metadata": {
    "ExecuteTime": {
     "end_time": "2018-07-01T06:01:54.808524Z",
     "start_time": "2018-07-01T06:01:24.443012Z"
    }
   },
   "source": [
    "qvapor_400_latlon_subset = qvapor_400.values[:,:,latlon_indices_high_andes]\n",
    "qvapor_1000_latlon_subset = qvapor_1000.values[:,:,latlon_indices_high_andes]\n",
    "\n",
    "qvapor_400_latlon_mean = numpy.nanmean(qvapor_400_latlon_subset, axis=(2))\n",
    "qvapor_1000_latlon_mean = numpy.nanmean(qvapor_1000_latlon_subset, axis=(2))\n",
    "\n",
    "qvapor_diffs_latlon_mean = qvapor_1000_latlon_mean-qvapor_400_latlon_mean"
   ]
  },
  {
   "cell_type": "markdown",
   "metadata": {},
   "source": [
    "# cape diffs"
   ]
  },
  {
   "cell_type": "raw",
   "metadata": {
    "ExecuteTime": {
     "end_time": "2018-07-01T06:05:18.824065Z",
     "start_time": "2018-07-01T06:05:18.743317Z"
    }
   },
   "source": [
    "cape3d_cape_400_latlon_subset = cape3d_400[0,:,:,:,:][:,:,latlon_indices_high_andes]\n",
    "cape3d_cape_1000_latlon_subset = cape3d_1000[0,:,:,:,:][:,:,latlon_indices_high_andes]\n",
    "\n",
    "cape3d_cape_diffs_latlon_mean = numpy.nanmean((cape3d_cape_1000_latlon_subset-cape3d_cape_400_latlon_subset), axis=2)"
   ]
  },
  {
   "cell_type": "raw",
   "metadata": {
    "ExecuteTime": {
     "end_time": "2018-06-28T01:51:35.833827Z",
     "start_time": "2018-06-28T01:51:35.639060Z"
    }
   },
   "source": [
    "cape2d_diffs = cape2d_1000-cape2d_400\n",
    "\n",
    "cape2d_mcape_diffs = cape2d_diffs[0,:,:,:]\n",
    "cape2d_mcin_diffs = cape2d_diffs[1,:,:,:]\n",
    "cape2d_lcl_diffs = cape2d_diffs[2,:,:,:]\n",
    "cape2d_lfc_diffs = cape2d_diffs[3,:,:,:]"
   ]
  },
  {
   "cell_type": "markdown",
   "metadata": {},
   "source": [
    "# plot skew T"
   ]
  },
  {
   "cell_type": "code",
   "execution_count": 21,
   "metadata": {
    "ExecuteTime": {
     "end_time": "2018-11-20T06:14:36.852244Z",
     "start_time": "2018-11-20T06:14:36.612529Z"
    }
   },
   "outputs": [
    {
     "data": {
      "text/plain": [
       "(<Quantity(1309.189707336896, 'joule / kilogram')>,\n",
       " <Quantity(-32.064096602061085, 'joule / kilogram')>)"
      ]
     },
     "execution_count": 21,
     "metadata": {},
     "output_type": "execute_result"
    }
   ],
   "source": [
    "metpy.calc.surface_based_cape_cin(ptot_latlon_subset_timemean/100.*metpy.units.units.hPa, \\\n",
    "                                  (tk_400_latlon_alltime[:]-273.15)*metpy.units.units.degC, \\\n",
    "                                  (td_400_latlon_alltime[:]-273.15)*metpy.units.units.degC)"
   ]
  },
  {
   "cell_type": "markdown",
   "metadata": {},
   "source": [
    "# cape calculations"
   ]
  },
  {
   "cell_type": "code",
   "execution_count": 22,
   "metadata": {
    "ExecuteTime": {
     "end_time": "2018-11-20T06:14:37.195719Z",
     "start_time": "2018-11-20T06:14:36.854598Z"
    }
   },
   "outputs": [
    {
     "name": "stdout",
     "output_type": "stream",
     "text": [
      "(<Quantity(1868.337738514075, 'joule / kilogram')>, <Quantity(-9.686478570210037, 'joule / kilogram')>)\n",
      "(<Quantity(1474.6045808203353, 'joule / kilogram')>, <Quantity(-4.586800208100992, 'joule / kilogram')>)\n"
     ]
    }
   ],
   "source": [
    "ptot_lo = 100\n",
    "ptot_hi = 1013.25\n",
    "hour = 19\n",
    "\n",
    "ptot_indices = (ptot_latlon_subset_timemean/100.<=ptot_hi)&(ptot_latlon_subset_timemean/100.>=ptot_lo)\n",
    "\n",
    "cape_400 = metpy.calc.surface_based_cape_cin(ptot_latlon_subset_timemean[ptot_indices]/100.*metpy.units.units.hPa, \\\n",
    "                                  (tk_400_latlon_mean[hour,ptot_indices]-273.15)*metpy.units.units.degC, \\\n",
    "                                  (td_400_latlon_mean[hour,ptot_indices]-273.15)*metpy.units.units.degC)\n",
    "\n",
    "cape_1000 = metpy.calc.surface_based_cape_cin(ptot_latlon_subset_timemean[ptot_indices]/100.*metpy.units.units.hPa, \\\n",
    "                                  (tk_1000_latlon_mean[hour,ptot_indices]-273.15)*metpy.units.units.degC, \\\n",
    "                                  (td_1000_latlon_mean[hour,ptot_indices]-273.15)*metpy.units.units.degC)\n",
    "\n",
    "print(cape_400)\n",
    "print(cape_1000)"
   ]
  },
  {
   "cell_type": "markdown",
   "metadata": {},
   "source": [
    "3-hour afternoon mean"
   ]
  },
  {
   "cell_type": "raw",
   "metadata": {
    "ExecuteTime": {
     "end_time": "2018-06-28T22:48:05.917221Z",
     "start_time": "2018-06-28T22:48:05.471278Z"
    }
   },
   "source": [
    "ptot_lo = 300\n",
    "ptot_hi = 1013.25\n",
    "hour = 19\n",
    "\n",
    "tk_400_afternoon = numpy.nanmean(tk_400_latlon_mean[(hour-1):(hour+2),:], axis=0)\n",
    "td_400_afternoon = numpy.nanmean(td_400_latlon_mean[(hour-1):(hour+2),:], axis=0)\n",
    "\n",
    "ptot_indices = (ptot_latlon_subset_timemean/100.<=ptot_hi)&(ptot_latlon_subset_timemean/100.>=ptot_lo)\n",
    "\n",
    "cape_400 = metpy.calc.surface_based_cape_cin(ptot_latlon_subset_timemean[ptot_indices]/100.*metpy.units.units.hPa, \\\n",
    "                                  (tk_400_afternoon[ptot_indices]-273.15)*metpy.units.units.degC, \\\n",
    "                                  (td_400_afternoon[ptot_indices]-273.15)*metpy.units.units.degC)\n",
    "\n",
    "cape_1000 = metpy.calc.surface_based_cape_cin(ptot_latlon_subset_timemean[ptot_indices]/100.*metpy.units.units.hPa, \\\n",
    "                                  (tk_1000_latlon_mean[hour,ptot_indices]-273.15)*metpy.units.units.degC, \\\n",
    "                                  (td_1000_latlon_mean[hour,ptot_indices]-273.15)*metpy.units.units.degC)\n",
    "\n",
    "print(cape_400)\n",
    "print(cape_1000)"
   ]
  },
  {
   "cell_type": "raw",
   "metadata": {
    "ExecuteTime": {
     "end_time": "2018-06-28T03:25:25.377744Z",
     "start_time": "2018-06-28T03:25:23.942102Z"
    }
   },
   "source": [
    "ptot_lo = 300\n",
    "ptot_hi = 1013.25\n",
    "\n",
    "ptot_indices = (ptot_latlon_subset_timemean/100.<=ptot_hi)&(ptot_latlon_subset_timemean/100.>=ptot_lo)\n",
    "\n",
    "cape_400 = metpy.calc.surface_based_cape_cin(ptot_latlon_subset_timemean[ptot_indices]/100.*metpy.units.units.hPa, \\\n",
    "                                  (tk_400_latlon_alltime[ptot_indices]-273.15)*metpy.units.units.degC, \\\n",
    "                                  (td_400_latlon_alltime[ptot_indices]-273.15)*metpy.units.units.degC)\n",
    "\n",
    "cape_1000 = metpy.calc.surface_based_cape_cin(ptot_latlon_subset_timemean[ptot_indices]/100.*metpy.units.units.hPa, \\\n",
    "                                  (tk_1000_latlon_alltime[ptot_indices]-273.15)*metpy.units.units.degC, \\\n",
    "                                  (td_1000_latlon_alltime[ptot_indices]-273.15)*metpy.units.units.degC)\n",
    "\n",
    "print(cape_400)\n",
    "print(cape_1000)"
   ]
  },
  {
   "cell_type": "code",
   "execution_count": 23,
   "metadata": {
    "ExecuteTime": {
     "end_time": "2018-11-20T06:14:37.201282Z",
     "start_time": "2018-11-20T06:14:37.197696Z"
    }
   },
   "outputs": [],
   "source": [
    "color_list = [\\\n",
    "matplotlib.cm.tab20c(4/20), \\\n",
    "matplotlib.cm.tab20c(5.5/20), \\\n",
    "matplotlib.cm.tab20c(0/20), \\\n",
    "matplotlib.cm.tab20c(1.5/20) ]"
   ]
  },
  {
   "cell_type": "markdown",
   "metadata": {},
   "source": [
    "# for first day"
   ]
  },
  {
   "cell_type": "code",
   "execution_count": 24,
   "metadata": {
    "ExecuteTime": {
     "end_time": "2018-11-20T06:32:16.158582Z",
     "start_time": "2018-11-20T06:32:13.957948Z"
    }
   },
   "outputs": [
    {
     "data": {
      "text/plain": [
       "Text(0.02,0.02,'CAPE$_{\\\\,cont}$ = 1276 J kg$^{\\\\,-1}$\\nCAPE$_{\\\\,phys}$ = 1073 J kg$^{\\\\,-1}$\\nCIN$_{\\\\,cont}$ = -10 J kg$^{\\\\,-1}$\\nCIN$_{\\\\,phys}$ = -5 J kg$^{\\\\,-1}$')"
      ]
     },
     "execution_count": 24,
     "metadata": {},
     "output_type": "execute_result"
    },
    {
     "data": {
      "image/png": "[encoded data removed]",
      "text/plain": [
       "<Figure size 320.4x306 with 1 Axes>"
      ]
     },
     "metadata": {},
     "output_type": "display_data"
    }
   ],
   "source": [
    "fontsize=12\n",
    "hour = 19\n",
    "\n",
    "skewt_plot = metpy.plots.SkewT()\n",
    "\n",
    "skewt_plot.plot(ptot_latlon_subset_timemean/100., tk_1000_latlon_mean[hour,:]-273.15, lw=3, label='phys. T$_{env}$', c=color_list[0])\n",
    "skewt_plot.plot(ptot_latlon_subset_timemean/100., tk_400_latlon_mean[hour,:]-273.15, lw=3, label='cont. T$_{env}$', ls='--', c=color_list[1])\n",
    "skewt_plot.plot(ptot_latlon_subset_timemean/100., td_1000_latlon_mean[hour,:]-273.15, lw=3, label='phys. T$_d$', c=color_list[2])\n",
    "skewt_plot.plot(ptot_latlon_subset_timemean/100., td_400_latlon_mean[hour,:]-273.15, lw=3, label='cont. T$_d$', ls='--', c=color_list[3])\n",
    "\n",
    "pprofile_400 = metpy.calc.parcel_profile(ptot_latlon_subset_timemean/100.*metpy.units.units.hPa, \\\n",
    "                                         (tk_400_latlon_mean[hour,:][0]-273.15)*metpy.units.units.degC, \\\n",
    "                                         (td_400_latlon_mean[hour,:][0]-273.15)*metpy.units.units.degC).to('degC')\n",
    "pprofile_1000 = metpy.calc.parcel_profile(ptot_latlon_subset_timemean/100.*metpy.units.units.hPa, \\\n",
    "                                         (tk_1000_latlon_mean[hour,:][0]-273.15)*metpy.units.units.degC, \\\n",
    "                                         (td_1000_latlon_mean[hour,:][0]-273.15)*metpy.units.units.degC).to('degC')\n",
    "\n",
    "skewt_plot.plot(ptot_latlon_subset_timemean/100., pprofile_1000, label='phys. profile', c='0.1', lw=3, ls='-')\n",
    "skewt_plot.plot(ptot_latlon_subset_timemean/100., pprofile_400, label='cont. profile', c='0.5', lw=3, ls='--')\n",
    "\n",
    "\n",
    "# fill in control and phys CAPE\n",
    "skewt_plot.shade_cape(ptot_latlon_subset_timemean/100.,\\\n",
    "                      tk_1000_latlon_mean[hour,:]-273.15,\\\n",
    "                      numpy.array(pprofile_1000),\\\n",
    "                      edgecolor='None',facecolor=matplotlib.cm.tab20c(8/20),alpha=0.666,\\\n",
    "                      label='phys. CAPE')\n",
    "\n",
    "skewt_plot.shade_cape(ptot_latlon_subset_timemean/100.,\\\n",
    "                      tk_400_latlon_mean[hour,:]-273.15,\\\n",
    "                      numpy.array(pprofile_400),\\\n",
    "                      edgecolor='None',facecolor=matplotlib.cm.tab20c(8/20),alpha=0.333,\\\n",
    "                      label='cont. CAPE')\n",
    "\n",
    "skewt_plot.ax.set_ylim(1013.25,600)\n",
    "skewt_plot.ax.set_xlim(10,30)\n",
    "\n",
    "fig = mp.gcf()\n",
    "fig.set_size_inches(4.45,4.25)\n",
    "fig.tight_layout()\n",
    "\n",
    "skewt_plot.ax.tick_params(labelsize=fontsize)\n",
    "skewt_plot.ax.set_ylabel('hPa', fontsize=fontsize)\n",
    "skewt_plot.ax.set_xlabel('$\\degree$C', fontsize=fontsize)\n",
    "\n",
    "skewt_plot.plot_dry_adiabats(color='0.5',linewidth=1,linestyle='-')\n",
    "skewt_plot.plot_moist_adiabats(color='0.5',linestyle=':')\n",
    "skewt_plot.plot_mixing_lines(color='0.5',linestyle='--',lw=1)\n",
    "\n",
    "handles, labels = skewt_plot.ax.get_legend_handles_labels()\n",
    "skewt_plot.ax.legend(handles, labels, fontsize=fontsize, scatterpoints=1, \\\n",
    "                     bbox_to_anchor=(0.6,1.0), \\\n",
    "                     bbox_transform=skewt_plot.ax.transAxes, loc='upper left', \\\n",
    "                     borderaxespad=0, labelspacing=0.25, fancybox=False, \\\n",
    "                     edgecolor='0', framealpha=0, borderpad=0.25, \\\n",
    "                     columnspacing=0.5, handletextpad=0.5, markerscale=1)\n",
    "\n",
    "skewt_plot.ax.text(s='skew-T diagram at 15:00 on day 1',\\\n",
    "                  x=0,y=1.02,\\\n",
    "                  transform=skewt_plot.ax.transAxes,\\\n",
    "                  ha='left',va='bottom', fontsize=fontsize)\n",
    "\n",
    "skewt_plot.ax.annotate(\"\",xy=(11.6,700), \\\n",
    "                       xycoords='data',\\\n",
    "                       xytext=(13.6, 700), \\\n",
    "                       textcoords='data',\\\n",
    "                       arrowprops=dict(facecolor='0.1',ec='None',width=2,headwidth=6,headlength=10))\n",
    "\n",
    "skewt_plot.ax.annotate(\"\",xy=(10.9,700), \\\n",
    "                       xycoords='data',\\\n",
    "                       xytext=(8.9, 700), \\\n",
    "                       textcoords='data',\\\n",
    "                       arrowprops=dict(facecolor='0.1',ec='None',width=2,headwidth=6,headlength=10))\n",
    "\n",
    "ptot_lo = 300\n",
    "ptot_hi = 1013.25\n",
    "\n",
    "ptot_indices = (ptot_latlon_subset_timemean/100.<=ptot_hi)&(ptot_latlon_subset_timemean/100.>=ptot_lo)\n",
    "\n",
    "cape_400 = metpy.calc.surface_based_cape_cin(ptot_latlon_subset_timemean[ptot_indices]/100.*metpy.units.units.hPa, \\\n",
    "                                  (tk_400_latlon_mean[hour,ptot_indices]-273.15)*metpy.units.units.degC, \\\n",
    "                                  (td_400_latlon_mean[hour,ptot_indices]-273.15)*metpy.units.units.degC)\n",
    "\n",
    "cape_1000 = metpy.calc.surface_based_cape_cin(ptot_latlon_subset_timemean[ptot_indices]/100.*metpy.units.units.hPa, \\\n",
    "                                  (tk_1000_latlon_mean[hour,ptot_indices]-273.15)*metpy.units.units.degC, \\\n",
    "                                  (td_1000_latlon_mean[hour,ptot_indices]-273.15)*metpy.units.units.degC)\n",
    "\n",
    "CAPE_CIN_text = 'CAPE$_{\\,cont}$ = '+'{:.0f}'.format(numpy.array(cape_400[0]))+' J kg$^{\\,-1}$\\n'\\\n",
    "                'CAPE$_{\\,phys}$ = '+'{:.0f}'.format(numpy.array(cape_1000[0]))+' J kg$^{\\,-1}$\\n'\\\n",
    "                'CIN$_{\\,cont}$ = '+'{:.0f}'.format(numpy.array(cape_400[1]))+' J kg$^{\\,-1}$\\n'\\\n",
    "                'CIN$_{\\,phys}$ = '+'{:.0f}'.format(numpy.array(cape_1000[1]))+' J kg$^{\\,-1}$'\n",
    "skewt_plot.ax.text(s=CAPE_CIN_text,x=.02,y=0.02,ha='left',va='bottom',\\\n",
    "                   transform=skewt_plot.ax.transAxes,fontsize=fontsize,linespacing=1)\n",
    "\n",
    "#fig.savefig('../figures/MAIN_fig06.pdf', bbox_inches='tight', transparent=True)"
   ]
  },
  {
   "cell_type": "markdown",
   "metadata": {},
   "source": [
    "# do for all days (2-10 mean)"
   ]
  },
  {
   "cell_type": "code",
   "execution_count": 25,
   "metadata": {
    "ExecuteTime": {
     "end_time": "2018-11-20T06:32:22.599557Z",
     "start_time": "2018-11-20T06:32:22.558488Z"
    }
   },
   "outputs": [],
   "source": [
    "time_datetimes = pandas.to_datetime([i.decode('utf-8') for i in time], format = '%Y-%m-%d_%H:%M:%S')\n",
    "time_datetimes_andes = time_datetimes+datetime.timedelta(hours=-5)\n",
    "time_datetimes_amazon = time_datetimes+datetime.timedelta(hours=-4)"
   ]
  },
  {
   "cell_type": "code",
   "execution_count": 26,
   "metadata": {
    "ExecuteTime": {
     "end_time": "2018-11-20T06:32:24.142153Z",
     "start_time": "2018-11-20T06:32:24.131588Z"
    }
   },
   "outputs": [],
   "source": [
    "hour_indices = [t.hour in [15] and t.day in range(2,11) for t in time_datetimes_amazon]"
   ]
  },
  {
   "cell_type": "code",
   "execution_count": 27,
   "metadata": {
    "ExecuteTime": {
     "end_time": "2018-11-20T06:32:25.778738Z",
     "start_time": "2018-11-20T06:32:24.902576Z"
    }
   },
   "outputs": [
    {
     "name": "stdout",
     "output_type": "stream",
     "text": [
      "(<Quantity(1952.832754099332, 'joule / kilogram')>, <Quantity(-9.152163586034494, 'joule / kilogram')>)\n",
      "(<Quantity(1609.3138224378679, 'joule / kilogram')>, <Quantity(-9.535432253950521, 'joule / kilogram')>)\n"
     ]
    }
   ],
   "source": [
    "ptot_lo = 100\n",
    "ptot_hi = 1013.25\n",
    "\n",
    "tk_400_latlon_afternoon = numpy.nanmean(tk_400_latlon_mean[hour_indices,:], axis=0)\n",
    "td_400_latlon_afternoon = numpy.nanmean(td_400_latlon_mean[hour_indices,:], axis=0)\n",
    "\n",
    "tk_1000_latlon_afternoon = numpy.nanmean(tk_1000_latlon_mean[hour_indices,:], axis=0)\n",
    "td_1000_latlon_afternoon = numpy.nanmean(td_1000_latlon_mean[hour_indices,:], axis=0)\n",
    "\n",
    "ptot_indices = (ptot_latlon_subset_timemean/100.<=ptot_hi)&(ptot_latlon_subset_timemean/100.>=ptot_lo)\n",
    "\n",
    "cape_400 = metpy.calc.surface_based_cape_cin(ptot_latlon_subset_timemean[ptot_indices]/100.*metpy.units.units.hPa, \\\n",
    "                                  (tk_400_latlon_afternoon[ptot_indices]-273.15)*metpy.units.units.degC, \\\n",
    "                                  (td_400_latlon_afternoon[ptot_indices]-273.15)*metpy.units.units.degC)\n",
    "\n",
    "cape_1000 = metpy.calc.surface_based_cape_cin(ptot_latlon_subset_timemean[ptot_indices]/100.*metpy.units.units.hPa, \\\n",
    "                                  (tk_1000_latlon_afternoon[ptot_indices]-273.15)*metpy.units.units.degC, \\\n",
    "                                  (td_1000_latlon_afternoon[ptot_indices]-273.15)*metpy.units.units.degC)\n",
    "\n",
    "print(cape_400)\n",
    "print(cape_1000)"
   ]
  },
  {
   "cell_type": "code",
   "execution_count": 28,
   "metadata": {
    "ExecuteTime": {
     "end_time": "2018-11-20T06:32:38.999061Z",
     "start_time": "2018-11-20T06:32:25.783855Z"
    }
   },
   "outputs": [
    {
     "data": {
      "image/png": "[encoded data removed]",
      "text/plain": [
       "<Figure size 320.4x306 with 1 Axes>"
      ]
     },
     "metadata": {},
     "output_type": "display_data"
    }
   ],
   "source": [
    "fontsize=12\n",
    "hour = 19\n",
    "\n",
    "skewt_plot = metpy.plots.SkewT()\n",
    "\n",
    "\n",
    "skewt_plot.plot(ptot_latlon_subset_timemean/100., tk_400_latlon_afternoon-273.15, lw=2, label='cont. T$_{env}$', ls='-', c=color_list[1])\n",
    "skewt_plot.plot(ptot_latlon_subset_timemean/100., tk_1000_latlon_afternoon-273.15, lw=2, label='phys. T$_{env}$', ls='--', c=color_list[0])\n",
    "skewt_plot.plot(ptot_latlon_subset_timemean/100., td_400_latlon_afternoon-273.15, lw=2, label='cont. T$_d$', ls='-', c=color_list[3])\n",
    "skewt_plot.plot(ptot_latlon_subset_timemean/100., td_1000_latlon_afternoon-273.15, lw=2, label='phys. T$_d$', ls='--', c=color_list[2])\n",
    "\n",
    "pprofile_400 = metpy.calc.parcel_profile(ptot_latlon_subset_timemean/100.*metpy.units.units.hPa, \\\n",
    "                                         (tk_400_latlon_afternoon[0]-273.15)*metpy.units.units.degC, \\\n",
    "                                         (td_400_latlon_afternoon[0]-273.15)*metpy.units.units.degC).to('degC')\n",
    "pprofile_1000 = metpy.calc.parcel_profile(ptot_latlon_subset_timemean/100.*metpy.units.units.hPa, \\\n",
    "                                         (tk_1000_latlon_afternoon[0]-273.15)*metpy.units.units.degC, \\\n",
    "                                         (td_1000_latlon_afternoon[0]-273.15)*metpy.units.units.degC).to('degC')\n",
    "\n",
    "skewt_plot.plot(ptot_latlon_subset_timemean/100., pprofile_400, label='cont. profile', c='0.45', lw=2, ls='-')\n",
    "skewt_plot.plot(ptot_latlon_subset_timemean/100., pprofile_1000, label='phys. profile', c='0.1', lw=2, ls='--')\n",
    "\n",
    "\n",
    "\n",
    "# fill in control and phys CAPE\n",
    "skewt_plot.shade_cape(ptot_latlon_subset_timemean/100.,\\\n",
    "                      tk_400_latlon_afternoon-273.15,\\\n",
    "                      numpy.array(pprofile_400),\\\n",
    "                      edgecolor='None',facecolor=matplotlib.cm.tab20c(8/20),alpha=0.333,\\\n",
    "                      label='cont. CAPE')\n",
    "skewt_plot.shade_cape(ptot_latlon_subset_timemean/100.,\\\n",
    "                      tk_1000_latlon_afternoon-273.15,\\\n",
    "                      numpy.array(pprofile_1000),\\\n",
    "                      edgecolor='None',facecolor=matplotlib.cm.tab20c(8/20),alpha=0.666,\\\n",
    "                      label='phys. CAPE')\n",
    "\n",
    "skewt_plot.ax.set_ylim(1013.25,600)\n",
    "skewt_plot.ax.set_xlim(10,30)\n",
    "\n",
    "fig = mp.gcf()\n",
    "fig.set_size_inches(4.45,4.25)\n",
    "fig.tight_layout()\n",
    "\n",
    "skewt_plot.ax.tick_params(labelsize=fontsize)\n",
    "skewt_plot.ax.set_ylabel('hPa', fontsize=fontsize)\n",
    "skewt_plot.ax.set_xlabel('$\\degree$C', fontsize=fontsize)\n",
    "\n",
    "skewt_plot.plot_dry_adiabats(color='0.5',linewidth=1,linestyle='-')\n",
    "skewt_plot.plot_moist_adiabats(color='0.5',linestyle=':')\n",
    "skewt_plot.plot_mixing_lines(color='0.5',linestyle='--',lw=1)\n",
    "\n",
    "handles, labels = skewt_plot.ax.get_legend_handles_labels()\n",
    "skewt_plot.ax.legend(handles, labels, fontsize=fontsize, scatterpoints=1, \\\n",
    "                     bbox_to_anchor=(0.625,0.99), \\\n",
    "                     bbox_transform=skewt_plot.ax.transAxes, loc='upper left', \\\n",
    "                     borderaxespad=0, labelspacing=0.2, fancybox=False, \\\n",
    "                     edgecolor='0', framealpha=0, borderpad=0.25, \\\n",
    "                     columnspacing=0.5, handletextpad=0.5, markerscale=1, handlelength=1.5)\n",
    "\n",
    "skewt_plot.ax.text(s='skew-T diagram at 15:00 on days 2–10',\\\n",
    "                  x=0,y=1.02,\\\n",
    "                  transform=skewt_plot.ax.transAxes,\\\n",
    "                  ha='left',va='bottom', fontsize=fontsize)\n",
    "\n",
    "skewt_plot.ax.annotate(\"\",xy=(11.8,700), \\\n",
    "                       xycoords='data',\\\n",
    "                       xytext=(13.8, 700), \\\n",
    "                       textcoords='data',\\\n",
    "                       arrowprops=dict(facecolor='0.1',ec='None',width=2,headwidth=6,headlength=9))\n",
    "\n",
    "skewt_plot.ax.annotate(\"\",xy=(11.1,700), \\\n",
    "                       xycoords='data',\\\n",
    "                       xytext=(9.1, 700), \\\n",
    "                       textcoords='data',\\\n",
    "                       arrowprops=dict(facecolor='0.1',ec='None',width=2,headwidth=6,headlength=9))\n",
    "\n",
    "CAPE_CIN_text = 'CAPE$_{\\,cont}$ = '+'{:.0f}'.format(numpy.array(cape_400[0]))+' J kg$^{\\,-1}$\\n'\\\n",
    "                'CAPE$_{\\,phys}$ = '+'{:.0f}'.format(numpy.array(cape_1000[0]))+' J kg$^{\\,-1}$\\n'\\\n",
    "                'CIN$_{\\,cont}$ = '+'{:.0f}'.format(numpy.array(cape_400[1]))+' J kg$^{\\,-1}$\\n'\\\n",
    "                'CIN$_{\\,phys}$ = '+'{:.0f}'.format(numpy.array(cape_1000[1]))+' J kg$^{\\,-1}$'\n",
    "skewt_plot.ax.text(s=CAPE_CIN_text,x=0.02,y=0.02,ha='left',va='bottom',\\\n",
    "                   transform=skewt_plot.ax.transAxes,fontsize=fontsize,linespacing=0.9)\n",
    "\n",
    "fig.savefig('../figures/MAIN_fig06.pdf', bbox_inches='tight', transparent=True)"
   ]
  },
  {
   "cell_type": "code",
   "execution_count": null,
   "metadata": {},
   "outputs": [],
   "source": []
  }
 ],
 "metadata": {
  "kernelspec": {
   "display_name": "Python 3",
   "language": "python",
   "name": "python3"
  },
  "language_info": {
   "codemirror_mode": {
    "name": "ipython",
    "version": 3
   },
   "file_extension": ".py",
   "mimetype": "text/x-python",
   "name": "python",
   "nbconvert_exporter": "python",
   "pygments_lexer": "ipython3",
   "version": "3.7.0"
  },
  "varInspector": {
   "cols": {
    "lenName": 16,
    "lenType": 16,
    "lenVar": 40
   },
   "kernels_config": {
    "python": {
     "delete_cmd_postfix": "",
     "delete_cmd_prefix": "del ",
     "library": "var_list.py",
     "varRefreshCmd": "print(var_dic_list())"
    },
    "r": {
     "delete_cmd_postfix": ") ",
     "delete_cmd_prefix": "rm(",
     "library": "var_list.r",
     "varRefreshCmd": "cat(var_dic_list()) "
    }
   },
   "types_to_exclude": [
    "module",
    "function",
    "builtin_function_or_method",
    "instance",
    "_Feature"
   ],
   "window_display": false
  }
 },
 "nbformat": 4,
 "nbformat_minor": 2
}
