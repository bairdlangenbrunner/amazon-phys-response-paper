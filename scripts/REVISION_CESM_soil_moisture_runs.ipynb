{
 "cells": [
  {
   "cell_type": "code",
   "execution_count": 60,
   "metadata": {
    "ExecuteTime": {
     "end_time": "2018-11-01T14:50:35.959711Z",
     "start_time": "2018-11-01T14:50:35.405798Z"
    }
   },
   "outputs": [],
   "source": [
    "import numpy\n",
    "import xarray\n",
    "import matplotlib\n",
    "import matplotlib.pyplot as mp\n",
    "import datetime\n",
    "import matplotlib.colors\n",
    "import scipy.stats\n",
    "import itertools\n",
    "import string\n",
    "import matplotlib.patches\n",
    "import netCDF4\n",
    "import cftime\n",
    "import seaborn\n",
    "import cmocean\n",
    "import matplotlib.gridspec\n",
    "import scipy.interpolate\n",
    "\n",
    "import glob\n",
    "import pandas\n",
    "\n",
    "import mpl_toolkits\n",
    "import cartopy\n",
    "\n",
    "DEGREE_SIGN = u'\\u00B0'\n",
    "mp.rcParams.update({'mathtext.default': 'regular'})\n",
    "\n",
    "% matplotlib inline"
   ]
  },
  {
   "cell_type": "code",
   "execution_count": 163,
   "metadata": {
    "ExecuteTime": {
     "end_time": "2018-11-05T22:06:29.900118Z",
     "start_time": "2018-11-05T22:06:29.894661Z"
    }
   },
   "outputs": [],
   "source": [
    "dry_lon_lo, dry_lon_hi, dry_lat_lo, dry_lat_hi = -60,-50,-7.5,10\n",
    "wet_lon_lo, wet_lon_hi, wet_lat_lo, wet_lat_hi = -80,-75,-7.5,10\n",
    "\n",
    "dry_lon_lo_degE = 360+dry_lon_lo\n",
    "dry_lon_hi_degE = 360+dry_lon_hi\n",
    "\n",
    "wet_lon_lo_degE = 360+wet_lon_lo\n",
    "wet_lon_hi_degE = 360+wet_lon_hi"
   ]
  },
  {
   "cell_type": "markdown",
   "metadata": {},
   "source": [
    "calculate latitude information"
   ]
  },
  {
   "cell_type": "code",
   "execution_count": 3,
   "metadata": {
    "ExecuteTime": {
     "end_time": "2018-10-25T21:18:26.095030Z",
     "start_time": "2018-10-25T21:18:26.091043Z"
    }
   },
   "outputs": [],
   "source": [
    "lat_lo_open = -35.\n",
    "lat_hi_open = 35.\n",
    "lat_lo = -10.\n",
    "lat_hi = 10.\n",
    "lon_lo = 270.\n",
    "lon_hi = 330."
   ]
  },
  {
   "cell_type": "markdown",
   "metadata": {},
   "source": [
    "# 10year simulations"
   ]
  },
  {
   "cell_type": "markdown",
   "metadata": {},
   "source": [
    "400 clm runs"
   ]
  },
  {
   "cell_type": "code",
   "execution_count": 61,
   "metadata": {
    "ExecuteTime": {
     "end_time": "2018-11-01T14:54:26.402254Z",
     "start_time": "2018-11-01T14:51:29.265660Z"
    }
   },
   "outputs": [],
   "source": [
    "data_dir = '/beegfs/DATA/pritchard/blangenb/CESM_ARCHIVE/B_1850_CAM5.10years.cam0400.clm0400/'\n",
    "cont_cam_mfds = xarray.open_mfdataset(data_dir + 'atm/hist/*.nc', decode_times=False, decode_cf=False, concat_dim='time')"
   ]
  },
  {
   "cell_type": "code",
   "execution_count": 95,
   "metadata": {
    "ExecuteTime": {
     "end_time": "2018-11-05T20:35:23.572619Z",
     "start_time": "2018-11-05T20:33:20.183012Z"
    }
   },
   "outputs": [],
   "source": [
    "root_dir = '/beegfs/DATA/pritchard/blangenb/CESM_ARCHIVE/B_1850_CAM5.10years.cam0400.clm0400/'\n",
    "file_list = sorted(glob.glob(root_dir+'lnd/hist/*.nc'))\n",
    "cont_clm_ds_list = [xarray.open_dataset(file, decode_times=False) for file in file_list]"
   ]
  },
  {
   "cell_type": "code",
   "execution_count": 139,
   "metadata": {
    "ExecuteTime": {
     "end_time": "2018-11-05T21:52:20.535307Z",
     "start_time": "2018-11-05T21:48:51.267059Z"
    }
   },
   "outputs": [],
   "source": [
    "SOILLIQ_400_list = [f['SOILLIQ'].values for f in cont_clm_ds_list]\n",
    "SOILWATER_400_list = [f['SOILWATER_10CM'].values for f in cont_clm_ds_list]"
   ]
  },
  {
   "cell_type": "markdown",
   "metadata": {},
   "source": [
    "get lat/lon info"
   ]
  },
  {
   "cell_type": "code",
   "execution_count": 152,
   "metadata": {
    "ExecuteTime": {
     "end_time": "2018-11-05T22:02:13.620341Z",
     "start_time": "2018-11-05T22:02:13.604472Z"
    }
   },
   "outputs": [],
   "source": [
    "lat = cont_clm_ds_list[0]['lat'].sel(lat=slice(lat_lo_open,lat_hi_open)).values\n",
    "lon = cont_clm_ds_list[0]['lon'].sel(lon=slice(lon_lo,lon_hi)).values\n",
    "\n",
    "lon_total = cont_clm_ds_list[0]['lon'].values\n",
    "lat_total = cont_clm_ds_list[0]['lat'].values\n",
    "\n",
    "lat_indices = (lat>=lat_lo)&(lat<=lat_hi)\n",
    "lat_indices_open = (lat>=lat_lo_open)&(lat<=lat_hi_open)\n",
    "lon_indices = (lon>=lon_lo)&(lon<=lon_hi)\n",
    "\n",
    "lat_subset = lat[lat_indices]\n",
    "lon_subset = lon[lon_indices]\n",
    "\n",
    "lat_subset_open = lat[lat_indices_open]"
   ]
  },
  {
   "cell_type": "markdown",
   "metadata": {},
   "source": [
    "get time info"
   ]
  },
  {
   "cell_type": "code",
   "execution_count": 65,
   "metadata": {
    "ExecuteTime": {
     "end_time": "2018-11-04T03:46:02.374776Z",
     "start_time": "2018-11-04T03:46:02.116263Z"
    }
   },
   "outputs": [],
   "source": [
    "time_400_list = [netCDF4.num2date(ds['time'].values, \\\n",
    "                                  ds['time'].units, \\\n",
    "                                  ds['time'].calendar) \\\n",
    "                 for ds in cont_clm_ds_list]"
   ]
  },
  {
   "cell_type": "code",
   "execution_count": 66,
   "metadata": {
    "ExecuteTime": {
     "end_time": "2018-11-04T03:46:04.250639Z",
     "start_time": "2018-11-04T03:46:04.233200Z"
    }
   },
   "outputs": [],
   "source": [
    "time_400_array = numpy.array([ t for sublist in time_400_list for t in sublist ])"
   ]
  },
  {
   "cell_type": "code",
   "execution_count": 78,
   "metadata": {
    "ExecuteTime": {
     "end_time": "2018-11-04T04:04:17.689712Z",
     "start_time": "2018-11-04T04:04:17.620917Z"
    }
   },
   "outputs": [],
   "source": [
    "time_400 = cont_cam_mfds['time']\n",
    "time_converted = netCDF4.num2date(time_400.values, time_400.units, time_400.calendar)\n",
    "\n",
    "time_manual = []\n",
    "for t_idx in range(time_converted.size):\n",
    "    year=time_converted[t_idx].year\n",
    "    month=time_converted[t_idx].month\n",
    "    day=time_converted[t_idx].day\n",
    "    hour=time_converted[t_idx].hour\n",
    "    minute=time_converted[t_idx].minute\n",
    "    hour_round = round(hour+minute/60)\n",
    "    time_manual.append(cftime.DatetimeNoLeap(year,month,day,hour_round))"
   ]
  },
  {
   "cell_type": "code",
   "execution_count": 79,
   "metadata": {
    "ExecuteTime": {
     "end_time": "2018-11-04T04:06:37.634944Z",
     "start_time": "2018-11-04T04:04:19.707544Z"
    }
   },
   "outputs": [],
   "source": [
    "LANDFRAC = cont_cam_mfds['LANDFRAC'].sel(lat=slice(lat_lo_open,lat_hi_open),lon=slice(lon_lo,lon_hi)).values[0,:,:]"
   ]
  },
  {
   "cell_type": "code",
   "execution_count": 80,
   "metadata": {
    "ExecuteTime": {
     "end_time": "2018-11-04T04:06:40.191997Z",
     "start_time": "2018-11-04T04:06:37.643679Z"
    }
   },
   "outputs": [],
   "source": [
    "PRECC_400_10y = cont_cam_mfds['PRECC'].sel(lat=slice(lat_lo_open,lat_hi_open),lon=slice(lon_lo,lon_hi)).values\n",
    "PRECL_400_10y = cont_cam_mfds['PRECL'].sel(lat=slice(lat_lo_open,lat_hi_open),lon=slice(lon_lo,lon_hi)).values\n",
    "PRECT_400_10y = PRECC_400_10y+PRECL_400_10y"
   ]
  },
  {
   "cell_type": "markdown",
   "metadata": {},
   "source": [
    "1000 clm runs"
   ]
  },
  {
   "cell_type": "code",
   "execution_count": 81,
   "metadata": {
    "ExecuteTime": {
     "end_time": "2018-11-04T04:07:20.421286Z",
     "start_time": "2018-11-04T04:06:40.200542Z"
    }
   },
   "outputs": [],
   "source": [
    "data_dir = '/beegfs/DATA/pritchard/blangenb/CESM_ARCHIVE/B_1850_CAM5.10years.cam0400.clm1000/'\n",
    "phys_cam_mfds = xarray.open_mfdataset(data_dir + 'atm/hist/*.nc', decode_times=False, parallel=True)"
   ]
  },
  {
   "cell_type": "code",
   "execution_count": 112,
   "metadata": {
    "ExecuteTime": {
     "end_time": "2018-11-05T20:53:50.834368Z",
     "start_time": "2018-11-05T20:51:45.574051Z"
    }
   },
   "outputs": [],
   "source": [
    "root_dir = '/beegfs/DATA/pritchard/blangenb/CESM_ARCHIVE/B_1850_CAM5.10years.cam0400.clm1000/'\n",
    "file_list = sorted(glob.glob(root_dir+'lnd/hist/*.nc'))\n",
    "phys_clm_ds_list = [xarray.open_dataset(file, decode_times=False) for file in file_list]"
   ]
  },
  {
   "cell_type": "code",
   "execution_count": 218,
   "metadata": {
    "ExecuteTime": {
     "end_time": "2018-11-05T22:27:07.319200Z",
     "start_time": "2018-11-05T22:27:07.310896Z"
    }
   },
   "outputs": [],
   "source": [
    "soil_levels = phys_clm_ds_list[0]['levgrnd'].values # units: meters"
   ]
  },
  {
   "cell_type": "code",
   "execution_count": 140,
   "metadata": {
    "ExecuteTime": {
     "end_time": "2018-11-05T21:55:47.695099Z",
     "start_time": "2018-11-05T21:52:20.543650Z"
    }
   },
   "outputs": [],
   "source": [
    "SOILLIQ_1000_list = [f['SOILLIQ'].values for f in phys_clm_ds_list]\n",
    "SOILWATER_1000_list = [f['SOILWATER_10CM'].values for f in phys_clm_ds_list]"
   ]
  },
  {
   "cell_type": "code",
   "execution_count": 83,
   "metadata": {
    "ExecuteTime": {
     "end_time": "2018-11-04T04:11:10.381448Z",
     "start_time": "2018-11-04T04:08:17.122301Z"
    }
   },
   "outputs": [],
   "source": [
    "PRECC_1000_10y = phys_cam_mfds['PRECC'].sel(lat=slice(lat_lo_open,lat_hi_open),lon=slice(lon_lo,lon_hi)).values\n",
    "PRECL_1000_10y = phys_cam_mfds['PRECL'].sel(lat=slice(lat_lo_open,lat_hi_open),lon=slice(lon_lo,lon_hi)).values\n",
    "PRECT_1000_10y = PRECC_1000_10y+PRECL_1000_10y"
   ]
  },
  {
   "cell_type": "markdown",
   "metadata": {},
   "source": [
    "take time averages"
   ]
  },
  {
   "cell_type": "code",
   "execution_count": 84,
   "metadata": {
    "ExecuteTime": {
     "end_time": "2018-11-04T04:11:10.408175Z",
     "start_time": "2018-11-04T04:11:10.389770Z"
    }
   },
   "outputs": [],
   "source": [
    "PRECT_400_timemean_10year = numpy.mean(PRECT_400_10y, axis=0)\n",
    "PRECT_1000_timemean_10year = numpy.mean(PRECT_1000_10y, axis=0)"
   ]
  },
  {
   "cell_type": "code",
   "execution_count": 85,
   "metadata": {
    "ExecuteTime": {
     "end_time": "2018-11-04T04:11:10.723960Z",
     "start_time": "2018-11-04T04:11:10.416354Z"
    }
   },
   "outputs": [],
   "source": [
    "PRECT_400_timemean_10year_landmask = numpy.copy(PRECT_400_timemean_10year)\n",
    "PRECT_1000_timemean_10year_landmask = numpy.copy(PRECT_1000_timemean_10year)\n",
    "\n",
    "PRECT_400_timemean_10year_landmask[LANDFRAC==0] = numpy.nan\n",
    "PRECT_1000_timemean_10year_landmask[LANDFRAC==0] = numpy.nan"
   ]
  },
  {
   "cell_type": "markdown",
   "metadata": {},
   "source": [
    "# calculate all differences"
   ]
  },
  {
   "cell_type": "markdown",
   "metadata": {},
   "source": [
    "precip"
   ]
  },
  {
   "cell_type": "code",
   "execution_count": 86,
   "metadata": {
    "ExecuteTime": {
     "end_time": "2018-11-05T20:27:01.163865Z",
     "start_time": "2018-11-05T20:27:01.155538Z"
    }
   },
   "outputs": [],
   "source": [
    "PRECT_diffs_10year = PRECT_1000_timemean_10year_landmask-PRECT_400_timemean_10year_landmask"
   ]
  },
  {
   "cell_type": "markdown",
   "metadata": {},
   "source": [
    "soil moisture"
   ]
  },
  {
   "cell_type": "code",
   "execution_count": 142,
   "metadata": {
    "ExecuteTime": {
     "end_time": "2018-11-05T21:58:46.084841Z",
     "start_time": "2018-11-05T21:58:45.824767Z"
    }
   },
   "outputs": [],
   "source": [
    "SOILWATER_400 = numpy.concatenate(SOILWATER_400_list, axis=0)\n",
    "SOILWATER_1000 = numpy.concatenate(SOILWATER_1000_list, axis=0)"
   ]
  },
  {
   "cell_type": "code",
   "execution_count": 212,
   "metadata": {
    "ExecuteTime": {
     "end_time": "2018-11-05T22:26:05.378172Z",
     "start_time": "2018-11-05T22:26:01.002811Z"
    }
   },
   "outputs": [],
   "source": [
    "SOILLIQ_400 = numpy.concatenate(SOILLIQ_400_list, axis=0)\n",
    "SOILLIQ_1000 = numpy.concatenate(SOILLIQ_1000_list, axis=0)"
   ]
  },
  {
   "cell_type": "code",
   "execution_count": 143,
   "metadata": {
    "ExecuteTime": {
     "end_time": "2018-11-05T21:58:48.486767Z",
     "start_time": "2018-11-05T21:58:47.167288Z"
    }
   },
   "outputs": [
    {
     "name": "stderr",
     "output_type": "stream",
     "text": [
      "/export/home/blangenb/miniconda3/lib/python3.6/site-packages/ipykernel_launcher.py:1: RuntimeWarning: Mean of empty slice\n",
      "  \"\"\"Entry point for launching an IPython kernel.\n",
      "/export/home/blangenb/miniconda3/lib/python3.6/site-packages/ipykernel_launcher.py:2: RuntimeWarning: Mean of empty slice\n",
      "  \n"
     ]
    }
   ],
   "source": [
    "SOILWATER_400_timemean = numpy.nanmean(SOILWATER_400, axis=0)\n",
    "SOILWATER_1000_timemean = numpy.nanmean(SOILWATER_1000, axis=0)\n",
    "SOILWATER_diffs_10year = SOILWATER_1000_timemean-SOILWATER_400_timemean"
   ]
  },
  {
   "cell_type": "code",
   "execution_count": 219,
   "metadata": {
    "ExecuteTime": {
     "end_time": "2018-11-05T22:28:01.763701Z",
     "start_time": "2018-11-05T22:27:40.431338Z"
    }
   },
   "outputs": [
    {
     "name": "stderr",
     "output_type": "stream",
     "text": [
      "/export/home/blangenb/miniconda3/lib/python3.6/site-packages/ipykernel_launcher.py:1: RuntimeWarning: Mean of empty slice\n",
      "  \"\"\"Entry point for launching an IPython kernel.\n",
      "/export/home/blangenb/miniconda3/lib/python3.6/site-packages/ipykernel_launcher.py:2: RuntimeWarning: Mean of empty slice\n",
      "  \n"
     ]
    }
   ],
   "source": [
    "SOILLIQ_400_timemean = numpy.nanmean(SOILLIQ_400, axis=0)\n",
    "SOILLIQ_1000_timemean = numpy.nanmean(SOILLIQ_1000, axis=0)\n",
    "SOILLIQ_diffs_10year = SOILLIQ_1000_timemean-SOILLIQ_400_timemean"
   ]
  },
  {
   "cell_type": "markdown",
   "metadata": {},
   "source": [
    "# plot 10-year mean changes"
   ]
  },
  {
   "cell_type": "code",
   "execution_count": 220,
   "metadata": {
    "ExecuteTime": {
     "end_time": "2018-11-05T22:28:03.367304Z",
     "start_time": "2018-11-05T22:28:01.772065Z"
    }
   },
   "outputs": [
    {
     "data": {
      "image/png": "[encoded data removed]",
      "text/plain": [
       "<Figure size 192.024x432 with 4 Axes>"
      ]
     },
     "metadata": {},
     "output_type": "display_data"
    }
   ],
   "source": [
    "# MONTHLY MEAN PLOTS\n",
    "\n",
    "fig = mp.figure(figsize=(2.667,6))\n",
    "fontsize = 12\n",
    "lon_offset=25.\n",
    "\n",
    "# PRECIP DIFFS\n",
    "\n",
    "levels = numpy.arange(-1.25,1.251,0.25)\n",
    "ax1 = fig.add_subplot(211, projection=cartopy.crs.PlateCarree())\n",
    "ax1.gridlines(ylocs=[0], color='0.25')\n",
    "ax1.coastlines(resolution='110m')\n",
    "contour_plot1 = ax1.contourf(lon, lat, PRECT_diffs_10year*86400.*1000., \\\n",
    "                             levels=levels, \\\n",
    "                             cmap='BrBG', extend='both', transform=cartopy.crs.PlateCarree())\n",
    "\n",
    "# ax1.contour(lon,lat,field_convolved*24.,\\\n",
    "#             levels=[4], colors=outline_color, linewidths=[2], linestyles=['-'])\n",
    "\n",
    "# left patch\n",
    "ax1.add_patch(matplotlib.patches.Rectangle(xy=[wet_lon_lo, wet_lat_lo], width=(wet_lon_hi-wet_lon_lo), \\\n",
    "                                           height=(wet_lat_hi-wet_lat_lo),\n",
    "                                facecolor='none',\n",
    "                                edgecolor='0.1',\\\n",
    "                                linewidth=2,\\\n",
    "                                transform=cartopy.crs.PlateCarree(), zorder=2) )\n",
    "\n",
    "ax1.add_patch(matplotlib.patches.Rectangle(xy=[dry_lon_lo, dry_lat_lo], width=(dry_lon_hi-dry_lon_lo), \\\n",
    "                                           height=(dry_lat_hi-dry_lat_lo),\n",
    "                                facecolor='none',\n",
    "                                edgecolor='0.1',\\\n",
    "                                linewidth=2,\\\n",
    "                                transform=cartopy.crs.PlateCarree(), zorder=2) )\n",
    "\n",
    "# CHANGE IN SOIL MOISTURE\n",
    "\n",
    "levels = numpy.arange(-1,1.1,0.2)\n",
    "ax2 = fig.add_subplot(212, projection=cartopy.crs.PlateCarree())\n",
    "ax2.gridlines(ylocs=[0], color='0.25')\n",
    "ax2.coastlines(resolution='110m')\n",
    "contour_plot2 = ax2.contourf(lon_total, lat_total, SOILWATER_diffs_10year, levels=levels, \\\n",
    "                             cmap='RdBu', extend='both', transform=cartopy.crs.PlateCarree())\n",
    "\n",
    "ax1.set_extent([273,329,-30,15], crs=cartopy.crs.PlateCarree())\n",
    "ax2.set_extent([273,329,-30,15], crs=cartopy.crs.PlateCarree())\n",
    "\n",
    "ax1.set_xticks([-360+280,-360+300,-360+320])\n",
    "ax1.set_yticks([-20,-10,0,10])\n",
    "ax1.tick_params(labelsize=fontsize)\n",
    "ax1.set_xticklabels(['$280$'+DEGREE_SIGN,'$300$'+DEGREE_SIGN,'$320$'+DEGREE_SIGN])\n",
    "ax1.set_yticklabels(['$-20$'+DEGREE_SIGN,'$-10$'+DEGREE_SIGN,'$0$'+DEGREE_SIGN,'$10$'+DEGREE_SIGN])\n",
    "\n",
    "ax2.set_xticks([-360+280,-360+300,-360+320])\n",
    "ax2.set_yticks([-20,-10,0,10])\n",
    "ax2.tick_params(labelsize=fontsize)\n",
    "ax2.set_xticklabels(['$280$'+DEGREE_SIGN,'$300$'+DEGREE_SIGN,'$320$'+DEGREE_SIGN])\n",
    "ax2.set_yticklabels(['$-20$'+DEGREE_SIGN,'$-10$'+DEGREE_SIGN,'$0$'+DEGREE_SIGN,'$10$'+DEGREE_SIGN])\n",
    "\n",
    "fig.tight_layout(h_pad=0.5,w_pad=0.5)\n",
    "fig.canvas.draw_idle()\n",
    "\n",
    "title = ax1.text(s='(a) $\\Delta$ precipitation', x=0, y=1.02, ha='left', va='bottom', fontsize=fontsize, transform=ax1.transAxes)\n",
    "title = ax2.text(s='(b) $\\Delta$ soil moist. (above 10 cm)', x=0, y=1.02, ha='left', va='bottom', fontsize=fontsize, transform=ax2.transAxes)\n",
    "\n",
    "ax1.text(s='mm day$^{\\,-1}$', x=0.95, y=0.95, \\\n",
    "        ha='right', va='top', \\\n",
    "        fontsize=fontsize, \\\n",
    "        transform=ax1.transAxes)\n",
    "ax2.text(s='mm day$^{\\,-1}$', x=0.95, y=0.95, \\\n",
    "        ha='right', va='top', \\\n",
    "        fontsize=fontsize, \\\n",
    "        transform=ax2.transAxes)\n",
    "\n",
    "for c in contour_plot1.collections:\n",
    "    c.set_edgecolor('face')\n",
    "    c.set_rasterized(True)\n",
    "for c in contour_plot2.collections:\n",
    "    c.set_edgecolor('face')\n",
    "    c.set_rasterized(True)\n",
    "\n",
    "cbar_thickness=0.025\n",
    "cbar_yshift=-0.08\n",
    "\n",
    "#fig.tight_layout()\n",
    "\n",
    "bbox_position = ax1.get_position()\n",
    "cbar_axes = fig.add_axes([bbox_position.x0, bbox_position.y0+cbar_yshift, bbox_position.width, cbar_thickness])\n",
    "cbar = mp.colorbar(contour_plot1, orientation='horizontal', cax=cbar_axes)\n",
    "cbar_axes.tick_params(labelsize=fontsize)\n",
    "cbar.set_ticks([numpy.arange(-1,1.1,0.5)])\n",
    "for c in cbar_axes.collections:\n",
    "    c.set_edgecolor('face')\n",
    "#     c.set_rasterized(True)\n",
    "\n",
    "bbox_position = ax2.get_position()\n",
    "cbar_axes = fig.add_axes([bbox_position.x0, bbox_position.y0+cbar_yshift, bbox_position.width, cbar_thickness])\n",
    "cbar = mp.colorbar(contour_plot2, orientation='horizontal', cax=cbar_axes)\n",
    "cbar_axes.tick_params(labelsize=fontsize)\n",
    "for c in cbar_axes.collections:\n",
    "    c.set_edgecolor('face')\n",
    "#     c.set_rasterized(True)\n",
    "\n",
    "#fig.savefig('../figures/REVISION_fig02.pdf', dpi=300, transparent=True, bbox_inches='tight')"
   ]
  },
  {
   "cell_type": "code",
   "execution_count": 222,
   "metadata": {
    "ExecuteTime": {
     "end_time": "2018-11-05T22:46:09.450198Z",
     "start_time": "2018-11-05T22:46:09.440444Z"
    }
   },
   "outputs": [
    {
     "data": {
      "text/plain": [
       "(15, 96, 144)"
      ]
     },
     "execution_count": 222,
     "metadata": {},
     "output_type": "execute_result"
    }
   ],
   "source": [
    "SOILLIQ_diffs_10year.shape"
   ]
  },
  {
   "cell_type": "code",
   "execution_count": null,
   "metadata": {},
   "outputs": [],
   "source": [
    "# MONTHLY MEAN PLOTS\n",
    "\n",
    "fig = mp.figure(figsize=(2.667,6))\n",
    "fontsize = 12\n",
    "lon_offset=25.\n",
    "\n",
    "# PRECIP DIFFS\n",
    "\n",
    "levels = numpy.arange(-1.25,1.251,0.25)\n",
    "ax1 = fig.add_subplot(211, projection=cartopy.crs.PlateCarree())\n",
    "ax1.gridlines(ylocs=[0], color='0.25')\n",
    "ax1.coastlines(resolution='110m')\n",
    "contour_plot1 = ax1.contourf(lon, lat, PRECT_diffs_10year*86400.*1000., \\\n",
    "                             levels=levels, \\\n",
    "                             cmap='BrBG', extend='both', transform=cartopy.crs.PlateCarree())\n",
    "\n",
    "# ax1.contour(lon,lat,field_convolved*24.,\\\n",
    "#             levels=[4], colors=outline_color, linewidths=[2], linestyles=['-'])\n",
    "\n",
    "# left patch\n",
    "ax1.add_patch(matplotlib.patches.Rectangle(xy=[wet_lon_lo, wet_lat_lo], width=(wet_lon_hi-wet_lon_lo), \\\n",
    "                                           height=(wet_lat_hi-wet_lat_lo),\n",
    "                                facecolor='none',\n",
    "                                edgecolor='0.1',\\\n",
    "                                linewidth=2,\\\n",
    "                                transform=cartopy.crs.PlateCarree(), zorder=2) )\n",
    "\n",
    "ax1.add_patch(matplotlib.patches.Rectangle(xy=[dry_lon_lo, dry_lat_lo], width=(dry_lon_hi-dry_lon_lo), \\\n",
    "                                           height=(dry_lat_hi-dry_lat_lo),\n",
    "                                facecolor='none',\n",
    "                                edgecolor='0.1',\\\n",
    "                                linewidth=2,\\\n",
    "                                transform=cartopy.crs.PlateCarree(), zorder=2) )\n",
    "\n",
    "# CHANGE IN SOIL MOISTURE\n",
    "\n",
    "levels = numpy.arange(-1,1.1,0.2)\n",
    "ax2 = fig.add_subplot(212, projection=cartopy.crs.PlateCarree())\n",
    "ax2.gridlines(ylocs=[0], color='0.25')\n",
    "ax2.coastlines(resolution='110m')\n",
    "contour_plot2 = ax2.contourf(lon_total, lat_total, SOILLIQ_diffs_10year, levels=levels, \\\n",
    "                             cmap='RdBu', extend='both', transform=cartopy.crs.PlateCarree())\n",
    "\n",
    "ax1.set_extent([273,329,-30,15], crs=cartopy.crs.PlateCarree())\n",
    "ax2.set_extent([273,329,-30,15], crs=cartopy.crs.PlateCarree())\n",
    "\n",
    "ax1.set_xticks([-360+280,-360+300,-360+320])\n",
    "ax1.set_yticks([-20,-10,0,10])\n",
    "ax1.tick_params(labelsize=fontsize)\n",
    "ax1.set_xticklabels(['$280$'+DEGREE_SIGN,'$300$'+DEGREE_SIGN,'$320$'+DEGREE_SIGN])\n",
    "ax1.set_yticklabels(['$-20$'+DEGREE_SIGN,'$-10$'+DEGREE_SIGN,'$0$'+DEGREE_SIGN,'$10$'+DEGREE_SIGN])\n",
    "\n",
    "ax2.set_xticks([-360+280,-360+300,-360+320])\n",
    "ax2.set_yticks([-20,-10,0,10])\n",
    "ax2.tick_params(labelsize=fontsize)\n",
    "ax2.set_xticklabels(['$280$'+DEGREE_SIGN,'$300$'+DEGREE_SIGN,'$320$'+DEGREE_SIGN])\n",
    "ax2.set_yticklabels(['$-20$'+DEGREE_SIGN,'$-10$'+DEGREE_SIGN,'$0$'+DEGREE_SIGN,'$10$'+DEGREE_SIGN])\n",
    "\n",
    "fig.tight_layout(h_pad=0.5,w_pad=0.5)\n",
    "fig.canvas.draw_idle()\n",
    "\n",
    "title = ax1.text(s='(a) $\\Delta$ precipitation', x=0, y=1.02, ha='left', va='bottom', fontsize=fontsize, transform=ax1.transAxes)\n",
    "title = ax2.text(s='(b) $\\Delta$ soil moist. (above 10 cm)', x=0, y=1.02, ha='left', va='bottom', fontsize=fontsize, transform=ax2.transAxes)\n",
    "\n",
    "ax1.text(s='mm day$^{\\,-1}$', x=0.95, y=0.95, \\\n",
    "        ha='right', va='top', \\\n",
    "        fontsize=fontsize, \\\n",
    "        transform=ax1.transAxes)\n",
    "ax2.text(s='mm day$^{\\,-1}$', x=0.95, y=0.95, \\\n",
    "        ha='right', va='top', \\\n",
    "        fontsize=fontsize, \\\n",
    "        transform=ax2.transAxes)\n",
    "\n",
    "for c in contour_plot1.collections:\n",
    "    c.set_edgecolor('face')\n",
    "    c.set_rasterized(True)\n",
    "for c in contour_plot2.collections:\n",
    "    c.set_edgecolor('face')\n",
    "    c.set_rasterized(True)\n",
    "\n",
    "cbar_thickness=0.025\n",
    "cbar_yshift=-0.08\n",
    "\n",
    "#fig.tight_layout()\n",
    "\n",
    "bbox_position = ax1.get_position()\n",
    "cbar_axes = fig.add_axes([bbox_position.x0, bbox_position.y0+cbar_yshift, bbox_position.width, cbar_thickness])\n",
    "cbar = mp.colorbar(contour_plot1, orientation='horizontal', cax=cbar_axes)\n",
    "cbar_axes.tick_params(labelsize=fontsize)\n",
    "cbar.set_ticks([numpy.arange(-1,1.1,0.5)])\n",
    "for c in cbar_axes.collections:\n",
    "    c.set_edgecolor('face')\n",
    "#     c.set_rasterized(True)\n",
    "\n",
    "bbox_position = ax2.get_position()\n",
    "cbar_axes = fig.add_axes([bbox_position.x0, bbox_position.y0+cbar_yshift, bbox_position.width, cbar_thickness])\n",
    "cbar = mp.colorbar(contour_plot2, orientation='horizontal', cax=cbar_axes)\n",
    "cbar_axes.tick_params(labelsize=fontsize)\n",
    "for c in cbar_axes.collections:\n",
    "    c.set_edgecolor('face')\n",
    "#     c.set_rasterized(True)\n",
    "\n",
    "#fig.savefig('../figures/REVISION_fig02.pdf', dpi=300, transparent=True, bbox_inches='tight')"
   ]
  },
  {
   "cell_type": "code",
   "execution_count": 185,
   "metadata": {
    "ExecuteTime": {
     "end_time": "2018-11-05T22:14:55.841188Z",
     "start_time": "2018-11-05T22:14:55.831901Z"
    }
   },
   "outputs": [],
   "source": [
    "lat_subset_indices_dry = (lat>=dry_lat_lo)&(lat<=dry_lat_hi)\n",
    "lon_subset_indices_dry = (lon>=dry_lon_lo_degE)&(lon<=dry_lon_hi_degE)\n",
    "\n",
    "lat_total_indices_dry = (lat_total>=dry_lat_lo)&(lat_total<=dry_lat_hi)\n",
    "lon_total_indices_dry = (lon_total>=dry_lon_lo_degE)&(lon_total<=dry_lon_hi_degE)"
   ]
  },
  {
   "cell_type": "code",
   "execution_count": 190,
   "metadata": {
    "ExecuteTime": {
     "end_time": "2018-11-05T22:15:36.574062Z",
     "start_time": "2018-11-05T22:15:36.564586Z"
    }
   },
   "outputs": [],
   "source": [
    "lat_subset_indices_wet = (lat>=wet_lat_lo)&(lat<=wet_lat_hi)\n",
    "lon_subset_indices_wet = (lon>=wet_lon_lo_degE)&(lon<=wet_lon_hi_degE)\n",
    "\n",
    "lat_total_indices_wet = (lat_total>=wet_lat_lo)&(lat_total<=wet_lat_hi)\n",
    "lon_total_indices_wet = (lon_total>=wet_lon_lo_degE)&(lon_total<=wet_lon_hi_degE)"
   ]
  },
  {
   "cell_type": "code",
   "execution_count": 191,
   "metadata": {
    "ExecuteTime": {
     "end_time": "2018-11-05T22:15:38.167788Z",
     "start_time": "2018-11-05T22:15:37.299641Z"
    }
   },
   "outputs": [],
   "source": [
    "PRECT_1000_dry = PRECT_1000_10y[:,lat_subset_indices_dry,:][:,:,lon_subset_indices_dry]\n",
    "PRECT_400_dry = PRECT_400_10y[:,lat_subset_indices_dry,:][:,:,lon_subset_indices_dry]\n",
    "\n",
    "PRECT_1000_wet = PRECT_1000_10y[:,lat_subset_indices_wet,:][:,:,lon_subset_indices_wet]\n",
    "PRECT_400_wet = PRECT_400_10y[:,lat_subset_indices_wet,:][:,:,lon_subset_indices_wet]"
   ]
  },
  {
   "cell_type": "code",
   "execution_count": 195,
   "metadata": {
    "ExecuteTime": {
     "end_time": "2018-11-05T22:16:43.343911Z",
     "start_time": "2018-11-05T22:16:43.305162Z"
    }
   },
   "outputs": [],
   "source": [
    "SOILWATER_1000_dry = SOILWATER_1000[:,lat_total_indices_dry,:][:,:,lon_total_indices_dry]\n",
    "SOILWATER_400_dry = SOILWATER_400[:,lat_total_indices_dry,:][:,:,lon_total_indices_dry]\n",
    "\n",
    "SOILWATER_1000_wet = SOILWATER_1000[:,lat_total_indices_wet,:][:,:,lon_total_indices_wet]\n",
    "SOILWATER_400_wet = SOILWATER_400[:,lat_total_indices_wet,:][:,:,lon_total_indices_wet]"
   ]
  },
  {
   "cell_type": "code",
   "execution_count": 223,
   "metadata": {
    "ExecuteTime": {
     "end_time": "2018-11-05T22:46:54.080072Z",
     "start_time": "2018-11-05T22:46:52.637806Z"
    }
   },
   "outputs": [],
   "source": [
    "SOILLIQ_1000_dry = SOILLIQ_1000[:,:,lat_total_indices_dry,:][:,:,:,lon_total_indices_dry]\n",
    "SOILLIQ_400_dry = SOILLIQ_400[:,:,lat_total_indices_dry,:][:,:,:,lon_total_indices_dry]\n",
    "\n",
    "SOILLIQ_1000_wet = SOILLIQ_1000[:,:,lat_total_indices_wet,:][:,:,:,lon_total_indices_wet]\n",
    "SOILLIQ_400_wet = SOILLIQ_400[:,:,lat_total_indices_wet,:][:,:,:,lon_total_indices_wet]"
   ]
  },
  {
   "cell_type": "code",
   "execution_count": 208,
   "metadata": {
    "ExecuteTime": {
     "end_time": "2018-11-05T22:24:19.022962Z",
     "start_time": "2018-11-05T22:24:19.011473Z"
    }
   },
   "outputs": [],
   "source": [
    "PRECT_1000_dry_areamean = numpy.nanmean(PRECT_1000_dry, axis=(1,2))\n",
    "PRECT_400_dry_areamean = numpy.nanmean(PRECT_400_dry, axis=(1,2))"
   ]
  },
  {
   "cell_type": "code",
   "execution_count": 200,
   "metadata": {
    "ExecuteTime": {
     "end_time": "2018-11-05T22:20:08.054734Z",
     "start_time": "2018-11-05T22:20:08.043451Z"
    }
   },
   "outputs": [],
   "source": [
    "SOILWATER_1000_dry_areamean = numpy.nanmean(SOILWATER_1000_dry, axis=(1,2))\n",
    "SOILWATER_400_dry_areamean = numpy.nanmean(SOILWATER_400_dry, axis=(1,2))"
   ]
  },
  {
   "cell_type": "code",
   "execution_count": 224,
   "metadata": {
    "ExecuteTime": {
     "end_time": "2018-11-05T22:47:13.173215Z",
     "start_time": "2018-11-05T22:47:13.113695Z"
    }
   },
   "outputs": [],
   "source": [
    "SOILLIQ_1000_dry_areamean = numpy.nanmean(SOILLIQ_1000_dry, axis=(2,3))\n",
    "SOILLIQ_400_dry_areamean = numpy.nanmean(SOILLIQ_400_dry, axis=(2,3))"
   ]
  },
  {
   "cell_type": "code",
   "execution_count": 225,
   "metadata": {
    "ExecuteTime": {
     "end_time": "2018-11-05T22:47:19.788390Z",
     "start_time": "2018-11-05T22:47:17.985026Z"
    }
   },
   "outputs": [],
   "source": [
    "SOILWATER_dry_diffs = SOILWATER_1000_dry_areamean-SOILWATER_400_dry_areamean\n",
    "\n",
    "PRECT_dry_diffs = PRECT_1000_dry_areamean-PRECT_400_dry_areamean\n",
    "\n",
    "SOILLIQ_dry_diffs = SOILLIQ_1000_dry_areamean - SOILLIQ_400_dry_areamean"
   ]
  },
  {
   "cell_type": "code",
   "execution_count": 206,
   "metadata": {
    "ExecuteTime": {
     "end_time": "2018-11-05T22:23:31.794964Z",
     "start_time": "2018-11-05T22:23:31.785241Z"
    }
   },
   "outputs": [],
   "source": [
    "SOILWATER_dry_diffs_rollingmean = pandas.Series(SOILWATER_dry_diffs).rolling(window=365, center=True, min_periods=1).mean()\n",
    "PRECT_dry_diffs_rollingmean = pandas.Series(PRECT_dry_diffs).rolling(window=365, center=True, min_periods=1).mean()"
   ]
  },
  {
   "cell_type": "code",
   "execution_count": 279,
   "metadata": {
    "ExecuteTime": {
     "end_time": "2018-11-06T01:17:03.923054Z",
     "start_time": "2018-11-06T01:17:03.912999Z"
    }
   },
   "outputs": [
    {
     "data": {
      "text/plain": [
       "array([7.10063521e-03, 2.79249996e-02, 6.22585751e-02, 1.18865065e-01,\n",
       "       2.12193400e-01, 3.66065800e-01, 6.19758487e-01, 1.03802705e+00,\n",
       "       1.72763526e+00, 2.86460710e+00, 4.73915672e+00, 7.82976627e+00,\n",
       "       1.29253206e+01, 2.13264694e+01, 3.51776199e+01], dtype=float32)"
      ]
     },
     "execution_count": 279,
     "metadata": {},
     "output_type": "execute_result"
    }
   ],
   "source": [
    "soil_levels"
   ]
  },
  {
   "cell_type": "code",
   "execution_count": 310,
   "metadata": {
    "ExecuteTime": {
     "end_time": "2018-11-06T01:50:00.219425Z",
     "start_time": "2018-11-06T01:50:00.209202Z"
    }
   },
   "outputs": [],
   "source": [
    "which_level = 7\n",
    "SOILLIQ_dry_diffs_rollingmean = pandas.Series(SOILLIQ_dry_diffs[:,which_level]).rolling(window=365, center=True, min_periods=1).mean()"
   ]
  },
  {
   "cell_type": "code",
   "execution_count": 329,
   "metadata": {
    "ExecuteTime": {
     "end_time": "2018-11-06T01:55:44.457671Z",
     "start_time": "2018-11-06T01:55:44.446475Z"
    }
   },
   "outputs": [
    {
     "data": {
      "text/plain": [
       "(3651, 15)"
      ]
     },
     "execution_count": 329,
     "metadata": {},
     "output_type": "execute_result"
    }
   ],
   "source": [
    "SOILLIQ_dry_diffs.shape"
   ]
  },
  {
   "cell_type": "code",
   "execution_count": 332,
   "metadata": {
    "ExecuteTime": {
     "end_time": "2018-11-06T01:56:21.515069Z",
     "start_time": "2018-11-06T01:56:21.502552Z"
    }
   },
   "outputs": [
    {
     "data": {
      "text/plain": [
       "array([0.        , 0.07142857, 0.14285714, 0.21428571, 0.28571429,\n",
       "       0.35714286, 0.42857143, 0.5       , 0.57142857, 0.64285714,\n",
       "       0.71428571, 0.78571429, 0.85714286, 0.92857143, 1.        ])"
      ]
     },
     "execution_count": 332,
     "metadata": {},
     "output_type": "execute_result"
    }
   ],
   "source": [
    "numpy.linspace(0,1,15)"
   ]
  },
  {
   "cell_type": "code",
   "execution_count": 333,
   "metadata": {
    "ExecuteTime": {
     "end_time": "2018-11-06T01:56:31.864962Z",
     "start_time": "2018-11-06T01:56:31.854003Z"
    }
   },
   "outputs": [
    {
     "data": {
      "text/plain": [
       "(3651, 15)"
      ]
     },
     "execution_count": 333,
     "metadata": {},
     "output_type": "execute_result"
    }
   ],
   "source": [
    "SOILLIQ_dry_diffs.shape"
   ]
  },
  {
   "cell_type": "code",
   "execution_count": 357,
   "metadata": {
    "ExecuteTime": {
     "end_time": "2018-11-06T19:29:46.385100Z",
     "start_time": "2018-11-06T19:29:45.973381Z"
    }
   },
   "outputs": [
    {
     "data": {
      "text/plain": [
       "<matplotlib.lines.Line2D at 0x2b0ebc5f6400>"
      ]
     },
     "execution_count": 357,
     "metadata": {},
     "output_type": "execute_result"
    },
    {
     "data": {
      "text/plain": [
       "<matplotlib.lines.Line2D at 0x2b0ebc5f6400>"
      ]
     },
     "execution_count": 357,
     "metadata": {},
     "output_type": "execute_result"
    },
    {
     "data": {
      "image/png": "[encoded data removed]",
      "text/plain": [
       "<Figure size 432x288 with 1 Axes>"
      ]
     },
     "metadata": {},
     "output_type": "display_data"
    },
    {
     "data": {
      "image/png": "[encoded data removed]",
      "text/plain": [
       "<Figure size 432x288 with 1 Axes>"
      ]
     },
     "metadata": {},
     "output_type": "display_data"
    }
   ],
   "source": [
    "color_list = [matplotlib.cm.magma(i) for i in numpy.linspace(0,1,SOILLIQ_dry_diffs.shape[1])]\n",
    "for i in range(SOILLIQ_dry_diffs.shape[1])[:4]:\n",
    "    mp.plot(SOILLIQ_dry_diffs[:,i], color=color_list[i]) #SOILLIQ_dry_diffs[:,1])#\n",
    "mp.xlim(0,10)\n",
    "mp.ylim(-.8,.2)\n",
    "mp.axhline(0)"
   ]
  },
  {
   "cell_type": "markdown",
   "metadata": {},
   "source": [
    "taking weighted average to group soil levels of CESM into same thresholds as Noah-MP"
   ]
  },
  {
   "cell_type": "code",
   "execution_count": 349,
   "metadata": {
    "ExecuteTime": {
     "end_time": "2018-11-06T19:21:55.013433Z",
     "start_time": "2018-11-06T19:21:55.003410Z"
    }
   },
   "outputs": [
    {
     "data": {
      "text/plain": [
       "0.06"
      ]
     },
     "execution_count": 349,
     "metadata": {},
     "output_type": "execute_result"
    },
    {
     "data": {
      "text/plain": [
       "0.06"
      ]
     },
     "execution_count": 349,
     "metadata": {},
     "output_type": "execute_result"
    }
   ],
   "source": [
    "60e-3"
   ]
  },
  {
   "cell_type": "code",
   "execution_count": 355,
   "metadata": {
    "ExecuteTime": {
     "end_time": "2018-11-06T19:28:03.420662Z",
     "start_time": "2018-11-06T19:28:03.410075Z"
    }
   },
   "outputs": [
    {
     "data": {
      "text/plain": [
       "(15,)"
      ]
     },
     "execution_count": 355,
     "metadata": {},
     "output_type": "execute_result"
    },
    {
     "data": {
      "text/plain": [
       "(15,)"
      ]
     },
     "execution_count": 355,
     "metadata": {},
     "output_type": "execute_result"
    }
   ],
   "source": [
    "soil_levels.shape"
   ]
  },
  {
   "cell_type": "code",
   "execution_count": 354,
   "metadata": {
    "ExecuteTime": {
     "end_time": "2018-11-06T19:27:51.373799Z",
     "start_time": "2018-11-06T19:27:51.357765Z"
    }
   },
   "outputs": [
    {
     "name": "stdout",
     "output_type": "stream",
     "text": [
      "1\n",
      "1\n",
      "0\n",
      "1\n",
      "1\n",
      "1\n",
      "0\n",
      "1\n"
     ]
    }
   ],
   "source": [
    "thresholds = [0,10e-3,30e-3,60e-3,100e-3]\n",
    "for i in range(4):\n",
    "    soil_levels_indices = (soil_levels>thresholds[i])&(soil_levels<=thresholds[i+1])\n",
    "    print(sum(soil_levels_indices))"
   ]
  },
  {
   "cell_type": "code",
   "execution_count": null,
   "metadata": {},
   "outputs": [],
   "source": []
  },
  {
   "cell_type": "code",
   "execution_count": null,
   "metadata": {},
   "outputs": [],
   "source": []
  },
  {
   "cell_type": "code",
   "execution_count": null,
   "metadata": {},
   "outputs": [],
   "source": []
  },
  {
   "cell_type": "code",
   "execution_count": null,
   "metadata": {},
   "outputs": [],
   "source": []
  },
  {
   "cell_type": "code",
   "execution_count": 317,
   "metadata": {
    "ExecuteTime": {
     "end_time": "2018-11-06T01:52:07.710828Z",
     "start_time": "2018-11-06T01:52:07.368938Z"
    }
   },
   "outputs": [
    {
     "data": {
      "text/plain": [
       "[(0.001462, 0.000466, 0.013866, 1.0),\n",
       " (0.002258, 0.001295, 0.018331, 1.0),\n",
       " (0.003279, 0.002305, 0.023708, 1.0),\n",
       " (0.004512, 0.00349, 0.029965, 1.0),\n",
       " (0.00595, 0.004843, 0.03713, 1.0),\n",
       " (0.007588, 0.006356, 0.044973, 1.0),\n",
       " (0.009426, 0.008022, 0.052844, 1.0),\n",
       " (0.011465, 0.009828, 0.06075, 1.0),\n",
       " (0.013708, 0.011771, 0.068667, 1.0),\n",
       " (0.016156, 0.01384, 0.076603, 1.0),\n",
       " (0.018815, 0.016026, 0.084584, 1.0),\n",
       " (0.021692, 0.01832, 0.09261, 1.0),\n",
       " (0.024792, 0.020715, 0.100676, 1.0),\n",
       " (0.028123, 0.023201, 0.108787, 1.0),\n",
       " (0.031696, 0.025765, 0.116965, 1.0),\n",
       " (0.03552, 0.028397, 0.125209, 1.0),\n",
       " (0.039608, 0.03109, 0.133515, 1.0),\n",
       " (0.04383, 0.03383, 0.141886, 1.0),\n",
       " (0.048062, 0.036607, 0.150327, 1.0),\n",
       " (0.05232, 0.039407, 0.158841, 1.0),\n",
       " (0.056615, 0.04216, 0.167446, 1.0),\n",
       " (0.060949, 0.044794, 0.176129, 1.0),\n",
       " (0.06533, 0.047318, 0.184892, 1.0),\n",
       " (0.069764, 0.049726, 0.193735, 1.0),\n",
       " (0.074257, 0.052017, 0.20266, 1.0),\n",
       " (0.078815, 0.054184, 0.211667, 1.0),\n",
       " (0.083446, 0.056225, 0.220755, 1.0),\n",
       " (0.088155, 0.058133, 0.229922, 1.0),\n",
       " (0.092949, 0.059904, 0.239164, 1.0),\n",
       " (0.097833, 0.061531, 0.248477, 1.0),\n",
       " (0.102815, 0.06301, 0.257854, 1.0),\n",
       " (0.107899, 0.064335, 0.267289, 1.0),\n",
       " (0.113094, 0.065492, 0.276784, 1.0),\n",
       " (0.118405, 0.066479, 0.286321, 1.0),\n",
       " (0.123833, 0.067295, 0.295879, 1.0),\n",
       " (0.12938, 0.067935, 0.305443, 1.0),\n",
       " (0.135053, 0.068391, 0.315, 1.0),\n",
       " (0.140858, 0.068654, 0.324538, 1.0),\n",
       " (0.146785, 0.068738, 0.334011, 1.0),\n",
       " (0.152839, 0.068637, 0.343404, 1.0),\n",
       " (0.159018, 0.068354, 0.352688, 1.0),\n",
       " (0.165308, 0.067911, 0.361816, 1.0),\n",
       " (0.171713, 0.067305, 0.370771, 1.0),\n",
       " (0.178212, 0.066576, 0.379497, 1.0),\n",
       " (0.184801, 0.065732, 0.387973, 1.0),\n",
       " (0.19146, 0.064818, 0.396152, 1.0),\n",
       " (0.198177, 0.063862, 0.404009, 1.0),\n",
       " (0.204935, 0.062907, 0.411514, 1.0),\n",
       " (0.211718, 0.061992, 0.418647, 1.0),\n",
       " (0.218512, 0.061158, 0.425392, 1.0),\n",
       " (0.225302, 0.060445, 0.431742, 1.0),\n",
       " (0.232077, 0.059889, 0.437695, 1.0),\n",
       " (0.238826, 0.059517, 0.443256, 1.0),\n",
       " (0.245543, 0.059352, 0.448436, 1.0),\n",
       " (0.25222, 0.059415, 0.453248, 1.0),\n",
       " (0.258857, 0.059706, 0.45771, 1.0),\n",
       " (0.265447, 0.060237, 0.46184, 1.0),\n",
       " (0.271994, 0.060994, 0.46566, 1.0),\n",
       " (0.278493, 0.061978, 0.46919, 1.0),\n",
       " (0.284951, 0.063168, 0.472451, 1.0),\n",
       " (0.291366, 0.064553, 0.475462, 1.0),\n",
       " (0.29774, 0.066117, 0.478243, 1.0),\n",
       " (0.304081, 0.067835, 0.480812, 1.0),\n",
       " (0.310382, 0.069702, 0.483186, 1.0),\n",
       " (0.316654, 0.07169, 0.48538, 1.0),\n",
       " (0.322899, 0.073782, 0.487408, 1.0),\n",
       " (0.329114, 0.075972, 0.489287, 1.0),\n",
       " (0.335308, 0.078236, 0.491024, 1.0),\n",
       " (0.341482, 0.080564, 0.492631, 1.0),\n",
       " (0.347636, 0.082946, 0.494121, 1.0),\n",
       " (0.353773, 0.085373, 0.495501, 1.0),\n",
       " (0.359898, 0.087831, 0.496778, 1.0),\n",
       " (0.366012, 0.090314, 0.49796, 1.0),\n",
       " (0.372116, 0.092816, 0.499053, 1.0),\n",
       " (0.378211, 0.095332, 0.500067, 1.0),\n",
       " (0.384299, 0.097855, 0.501002, 1.0),\n",
       " (0.390384, 0.100379, 0.501864, 1.0),\n",
       " (0.396467, 0.102902, 0.502658, 1.0),\n",
       " (0.402548, 0.10542, 0.503386, 1.0),\n",
       " (0.408629, 0.10793, 0.504052, 1.0),\n",
       " (0.414709, 0.110431, 0.504662, 1.0),\n",
       " (0.420791, 0.11292, 0.505215, 1.0),\n",
       " (0.426877, 0.115395, 0.505714, 1.0),\n",
       " (0.432967, 0.117855, 0.50616, 1.0),\n",
       " (0.439062, 0.120298, 0.506555, 1.0),\n",
       " (0.445163, 0.122724, 0.506901, 1.0),\n",
       " (0.451271, 0.125132, 0.507198, 1.0),\n",
       " (0.457386, 0.127522, 0.507448, 1.0),\n",
       " (0.463508, 0.129893, 0.507652, 1.0),\n",
       " (0.46964, 0.132245, 0.507809, 1.0),\n",
       " (0.47578, 0.134577, 0.507921, 1.0),\n",
       " (0.481929, 0.136891, 0.507989, 1.0),\n",
       " (0.488088, 0.139186, 0.508011, 1.0),\n",
       " (0.494258, 0.141462, 0.507988, 1.0),\n",
       " (0.500438, 0.143719, 0.50792, 1.0),\n",
       " (0.506629, 0.145958, 0.507806, 1.0),\n",
       " (0.512831, 0.148179, 0.507648, 1.0),\n",
       " (0.519045, 0.150383, 0.507443, 1.0),\n",
       " (0.52527, 0.152569, 0.507192, 1.0),\n",
       " (0.531507, 0.154739, 0.506895, 1.0),\n",
       " (0.537755, 0.156894, 0.506551, 1.0),\n",
       " (0.544015, 0.159033, 0.506159, 1.0),\n",
       " (0.550287, 0.161158, 0.505719, 1.0),\n",
       " (0.556571, 0.163269, 0.50523, 1.0),\n",
       " (0.562866, 0.165368, 0.504692, 1.0),\n",
       " (0.569172, 0.167454, 0.504105, 1.0),\n",
       " (0.57549, 0.16953, 0.503466, 1.0),\n",
       " (0.581819, 0.171596, 0.502777, 1.0),\n",
       " (0.588158, 0.173652, 0.502035, 1.0),\n",
       " (0.594508, 0.175701, 0.501241, 1.0),\n",
       " (0.600868, 0.177743, 0.500394, 1.0),\n",
       " (0.607238, 0.179779, 0.499492, 1.0),\n",
       " (0.613617, 0.181811, 0.498536, 1.0),\n",
       " (0.620005, 0.18384, 0.497524, 1.0),\n",
       " (0.626401, 0.185867, 0.496456, 1.0),\n",
       " (0.632805, 0.187893, 0.495332, 1.0),\n",
       " (0.639216, 0.189921, 0.49415, 1.0),\n",
       " (0.645633, 0.191952, 0.49291, 1.0),\n",
       " (0.652056, 0.193986, 0.491611, 1.0),\n",
       " (0.658483, 0.196027, 0.490253, 1.0),\n",
       " (0.664915, 0.198075, 0.488836, 1.0),\n",
       " (0.671349, 0.200133, 0.487358, 1.0),\n",
       " (0.677786, 0.202203, 0.485819, 1.0),\n",
       " (0.684224, 0.204286, 0.484219, 1.0),\n",
       " (0.690661, 0.206384, 0.482558, 1.0),\n",
       " (0.697098, 0.208501, 0.480835, 1.0),\n",
       " (0.703532, 0.210638, 0.479049, 1.0),\n",
       " (0.709962, 0.212797, 0.477201, 1.0),\n",
       " (0.716387, 0.214982, 0.47529, 1.0),\n",
       " (0.722805, 0.217194, 0.473316, 1.0),\n",
       " (0.729216, 0.219437, 0.471279, 1.0),\n",
       " (0.735616, 0.221713, 0.46918, 1.0),\n",
       " (0.742004, 0.224025, 0.467018, 1.0),\n",
       " (0.748378, 0.226377, 0.464794, 1.0),\n",
       " (0.754737, 0.228772, 0.462509, 1.0),\n",
       " (0.761077, 0.231214, 0.460162, 1.0),\n",
       " (0.767398, 0.233705, 0.457755, 1.0),\n",
       " (0.773695, 0.236249, 0.455289, 1.0),\n",
       " (0.779968, 0.238851, 0.452765, 1.0),\n",
       " (0.786212, 0.241514, 0.450184, 1.0),\n",
       " (0.792427, 0.244242, 0.447543, 1.0),\n",
       " (0.798608, 0.24704, 0.444848, 1.0),\n",
       " (0.804752, 0.249911, 0.442102, 1.0),\n",
       " (0.810855, 0.252861, 0.439305, 1.0),\n",
       " (0.816914, 0.255895, 0.436461, 1.0),\n",
       " (0.822926, 0.259016, 0.433573, 1.0),\n",
       " (0.828886, 0.262229, 0.430644, 1.0),\n",
       " (0.834791, 0.26554, 0.427671, 1.0),\n",
       " (0.840636, 0.268953, 0.424666, 1.0),\n",
       " (0.846416, 0.272473, 0.421631, 1.0),\n",
       " (0.852126, 0.276106, 0.418573, 1.0),\n",
       " (0.857763, 0.279857, 0.415496, 1.0),\n",
       " (0.86332, 0.283729, 0.412403, 1.0),\n",
       " (0.868793, 0.287728, 0.409303, 1.0),\n",
       " (0.874176, 0.291859, 0.406205, 1.0),\n",
       " (0.879464, 0.296125, 0.403118, 1.0),\n",
       " (0.884651, 0.30053, 0.400047, 1.0),\n",
       " (0.889731, 0.305079, 0.397002, 1.0),\n",
       " (0.8947, 0.309773, 0.393995, 1.0),\n",
       " (0.899552, 0.314616, 0.391037, 1.0),\n",
       " (0.904281, 0.31961, 0.388137, 1.0),\n",
       " (0.908884, 0.324755, 0.385308, 1.0),\n",
       " (0.913354, 0.330052, 0.382563, 1.0),\n",
       " (0.917689, 0.3355, 0.379915, 1.0),\n",
       " (0.921884, 0.341098, 0.377376, 1.0),\n",
       " (0.925937, 0.346844, 0.374959, 1.0),\n",
       " (0.929845, 0.352734, 0.372677, 1.0),\n",
       " (0.933606, 0.358764, 0.370541, 1.0),\n",
       " (0.937221, 0.364929, 0.368567, 1.0),\n",
       " (0.940687, 0.371224, 0.366762, 1.0),\n",
       " (0.944006, 0.377643, 0.365136, 1.0),\n",
       " (0.94718, 0.384178, 0.363701, 1.0),\n",
       " (0.95021, 0.39082, 0.362468, 1.0),\n",
       " (0.953099, 0.397563, 0.361438, 1.0),\n",
       " (0.955849, 0.4044, 0.360619, 1.0),\n",
       " (0.958464, 0.411324, 0.360014, 1.0),\n",
       " (0.960949, 0.418323, 0.35963, 1.0),\n",
       " (0.96331, 0.42539, 0.359469, 1.0),\n",
       " (0.965549, 0.432519, 0.359529, 1.0),\n",
       " (0.967671, 0.439703, 0.35981, 1.0),\n",
       " (0.96968, 0.446936, 0.360311, 1.0),\n",
       " (0.971582, 0.45421, 0.36103, 1.0),\n",
       " (0.973381, 0.46152, 0.361965, 1.0),\n",
       " (0.975082, 0.468861, 0.363111, 1.0),\n",
       " (0.97669, 0.476226, 0.364466, 1.0),\n",
       " (0.97821, 0.483612, 0.366025, 1.0),\n",
       " (0.979645, 0.491014, 0.367783, 1.0),\n",
       " (0.981, 0.498428, 0.369734, 1.0),\n",
       " (0.982279, 0.505851, 0.371874, 1.0),\n",
       " (0.983485, 0.51328, 0.374198, 1.0),\n",
       " (0.984622, 0.520713, 0.376698, 1.0),\n",
       " (0.985693, 0.528148, 0.379371, 1.0),\n",
       " (0.9867, 0.535582, 0.38221, 1.0),\n",
       " (0.987646, 0.543015, 0.38521, 1.0),\n",
       " (0.988533, 0.550446, 0.388365, 1.0),\n",
       " (0.989363, 0.557873, 0.391671, 1.0),\n",
       " (0.990138, 0.565296, 0.395122, 1.0),\n",
       " (0.990871, 0.572706, 0.398714, 1.0),\n",
       " (0.991558, 0.580107, 0.402441, 1.0),\n",
       " (0.992196, 0.587502, 0.406299, 1.0),\n",
       " (0.992785, 0.594891, 0.410283, 1.0),\n",
       " (0.993326, 0.602275, 0.41439, 1.0),\n",
       " (0.993834, 0.609644, 0.418613, 1.0),\n",
       " (0.994309, 0.616999, 0.42295, 1.0),\n",
       " (0.994738, 0.62435, 0.427397, 1.0),\n",
       " (0.995122, 0.631696, 0.431951, 1.0),\n",
       " (0.99548, 0.639027, 0.436607, 1.0),\n",
       " (0.99581, 0.646344, 0.441361, 1.0),\n",
       " (0.996096, 0.653659, 0.446213, 1.0),\n",
       " (0.996341, 0.660969, 0.45116, 1.0),\n",
       " (0.99658, 0.668256, 0.456192, 1.0),\n",
       " (0.996775, 0.675541, 0.461314, 1.0),\n",
       " (0.996925, 0.682828, 0.466526, 1.0),\n",
       " (0.997077, 0.690088, 0.471811, 1.0),\n",
       " (0.997186, 0.697349, 0.477182, 1.0),\n",
       " (0.997254, 0.704611, 0.482635, 1.0),\n",
       " (0.997325, 0.711848, 0.488154, 1.0),\n",
       " (0.997351, 0.719089, 0.493755, 1.0),\n",
       " (0.997351, 0.726324, 0.499428, 1.0),\n",
       " (0.997341, 0.733545, 0.505167, 1.0),\n",
       " (0.997285, 0.740772, 0.510983, 1.0),\n",
       " (0.997228, 0.747981, 0.516859, 1.0),\n",
       " (0.997138, 0.75519, 0.522806, 1.0),\n",
       " (0.997019, 0.762398, 0.528821, 1.0),\n",
       " (0.996898, 0.769591, 0.534892, 1.0),\n",
       " (0.996727, 0.776795, 0.541039, 1.0),\n",
       " (0.996571, 0.783977, 0.547233, 1.0),\n",
       " (0.996369, 0.791167, 0.553499, 1.0),\n",
       " (0.996162, 0.798348, 0.55982, 1.0),\n",
       " (0.995932, 0.805527, 0.566202, 1.0),\n",
       " (0.99568, 0.812706, 0.572645, 1.0),\n",
       " (0.995424, 0.819875, 0.57914, 1.0),\n",
       " (0.995131, 0.827052, 0.585701, 1.0),\n",
       " (0.994851, 0.834213, 0.592307, 1.0),\n",
       " (0.994524, 0.841387, 0.598983, 1.0),\n",
       " (0.994222, 0.84854, 0.605696, 1.0),\n",
       " (0.993866, 0.855711, 0.612482, 1.0),\n",
       " (0.993545, 0.862859, 0.619299, 1.0),\n",
       " (0.99317, 0.870024, 0.626189, 1.0),\n",
       " (0.992831, 0.877168, 0.633109, 1.0),\n",
       " (0.99244, 0.88433, 0.640099, 1.0),\n",
       " (0.992089, 0.89147, 0.647116, 1.0),\n",
       " (0.991688, 0.898627, 0.654202, 1.0),\n",
       " (0.991332, 0.905763, 0.661309, 1.0),\n",
       " (0.99093, 0.912915, 0.668481, 1.0),\n",
       " (0.99057, 0.920049, 0.675675, 1.0),\n",
       " (0.990175, 0.927196, 0.682926, 1.0),\n",
       " (0.989815, 0.934329, 0.690198, 1.0),\n",
       " (0.989434, 0.94147, 0.697519, 1.0),\n",
       " (0.989077, 0.948604, 0.704863, 1.0),\n",
       " (0.988717, 0.955742, 0.712242, 1.0),\n",
       " (0.988367, 0.962878, 0.719649, 1.0),\n",
       " (0.988033, 0.970012, 0.727077, 1.0),\n",
       " (0.987691, 0.977154, 0.734536, 1.0),\n",
       " (0.987387, 0.984288, 0.742002, 1.0),\n",
       " (0.987053, 0.991438, 0.749504, 1.0),\n",
       " (0.987053, 0.991438, 0.749504, 1.0),\n",
       " (0.987053, 0.991438, 0.749504, 1.0),\n",
       " (0.987053, 0.991438, 0.749504, 1.0),\n",
       " (0.987053, 0.991438, 0.749504, 1.0),\n",
       " (0.987053, 0.991438, 0.749504, 1.0),\n",
       " (0.987053, 0.991438, 0.749504, 1.0),\n",
       " (0.987053, 0.991438, 0.749504, 1.0),\n",
       " (0.987053, 0.991438, 0.749504, 1.0),\n",
       " (0.987053, 0.991438, 0.749504, 1.0),\n",
       " (0.987053, 0.991438, 0.749504, 1.0),\n",
       " (0.987053, 0.991438, 0.749504, 1.0),\n",
       " (0.987053, 0.991438, 0.749504, 1.0),\n",
       " (0.987053, 0.991438, 0.749504, 1.0),\n",
       " (0.987053, 0.991438, 0.749504, 1.0),\n",
       " (0.987053, 0.991438, 0.749504, 1.0),\n",
       " (0.987053, 0.991438, 0.749504, 1.0),\n",
       " (0.987053, 0.991438, 0.749504, 1.0),\n",
       " (0.987053, 0.991438, 0.749504, 1.0),\n",
       " (0.987053, 0.991438, 0.749504, 1.0),\n",
       " (0.987053, 0.991438, 0.749504, 1.0),\n",
       " (0.987053, 0.991438, 0.749504, 1.0),\n",
       " (0.987053, 0.991438, 0.749504, 1.0),\n",
       " (0.987053, 0.991438, 0.749504, 1.0),\n",
       " (0.987053, 0.991438, 0.749504, 1.0),\n",
       " (0.987053, 0.991438, 0.749504, 1.0),\n",
       " (0.987053, 0.991438, 0.749504, 1.0),\n",
       " (0.987053, 0.991438, 0.749504, 1.0),\n",
       " (0.987053, 0.991438, 0.749504, 1.0),\n",
       " (0.987053, 0.991438, 0.749504, 1.0),\n",
       " (0.987053, 0.991438, 0.749504, 1.0),\n",
       " (0.987053, 0.991438, 0.749504, 1.0),\n",
       " (0.987053, 0.991438, 0.749504, 1.0),\n",
       " (0.987053, 0.991438, 0.749504, 1.0),\n",
       " (0.987053, 0.991438, 0.749504, 1.0),\n",
       " (0.987053, 0.991438, 0.749504, 1.0),\n",
       " (0.987053, 0.991438, 0.749504, 1.0),\n",
       " (0.987053, 0.991438, 0.749504, 1.0),\n",
       " (0.987053, 0.991438, 0.749504, 1.0),\n",
       " (0.987053, 0.991438, 0.749504, 1.0),\n",
       " (0.987053, 0.991438, 0.749504, 1.0),\n",
       " (0.987053, 0.991438, 0.749504, 1.0),\n",
       " (0.987053, 0.991438, 0.749504, 1.0),\n",
       " (0.987053, 0.991438, 0.749504, 1.0),\n",
       " (0.987053, 0.991438, 0.749504, 1.0),\n",
       " (0.987053, 0.991438, 0.749504, 1.0),\n",
       " (0.987053, 0.991438, 0.749504, 1.0),\n",
       " (0.987053, 0.991438, 0.749504, 1.0),\n",
       " (0.987053, 0.991438, 0.749504, 1.0),\n",
       " (0.987053, 0.991438, 0.749504, 1.0),\n",
       " (0.987053, 0.991438, 0.749504, 1.0),\n",
       " (0.987053, 0.991438, 0.749504, 1.0),\n",
       " (0.987053, 0.991438, 0.749504, 1.0),\n",
       " (0.987053, 0.991438, 0.749504, 1.0),\n",
       " (0.987053, 0.991438, 0.749504, 1.0),\n",
       " (0.987053, 0.991438, 0.749504, 1.0),\n",
       " (0.987053, 0.991438, 0.749504, 1.0),\n",
       " (0.987053, 0.991438, 0.749504, 1.0),\n",
       " (0.987053, 0.991438, 0.749504, 1.0),\n",
       " (0.987053, 0.991438, 0.749504, 1.0),\n",
       " (0.987053, 0.991438, 0.749504, 1.0),\n",
       " (0.987053, 0.991438, 0.749504, 1.0),\n",
       " (0.987053, 0.991438, 0.749504, 1.0),\n",
       " (0.987053, 0.991438, 0.749504, 1.0),\n",
       " (0.987053, 0.991438, 0.749504, 1.0),\n",
       " (0.987053, 0.991438, 0.749504, 1.0),\n",
       " (0.987053, 0.991438, 0.749504, 1.0),\n",
       " (0.987053, 0.991438, 0.749504, 1.0),\n",
       " (0.987053, 0.991438, 0.749504, 1.0),\n",
       " (0.987053, 0.991438, 0.749504, 1.0),\n",
       " (0.987053, 0.991438, 0.749504, 1.0),\n",
       " (0.987053, 0.991438, 0.749504, 1.0),\n",
       " (0.987053, 0.991438, 0.749504, 1.0),\n",
       " (0.987053, 0.991438, 0.749504, 1.0),\n",
       " (0.987053, 0.991438, 0.749504, 1.0),\n",
       " (0.987053, 0.991438, 0.749504, 1.0),\n",
       " (0.987053, 0.991438, 0.749504, 1.0),\n",
       " (0.987053, 0.991438, 0.749504, 1.0),\n",
       " (0.987053, 0.991438, 0.749504, 1.0),\n",
       " (0.987053, 0.991438, 0.749504, 1.0),\n",
       " (0.987053, 0.991438, 0.749504, 1.0),\n",
       " (0.987053, 0.991438, 0.749504, 1.0),\n",
       " (0.987053, 0.991438, 0.749504, 1.0),\n",
       " (0.987053, 0.991438, 0.749504, 1.0),\n",
       " (0.987053, 0.991438, 0.749504, 1.0),\n",
       " (0.987053, 0.991438, 0.749504, 1.0),\n",
       " (0.987053, 0.991438, 0.749504, 1.0),\n",
       " (0.987053, 0.991438, 0.749504, 1.0),\n",
       " (0.987053, 0.991438, 0.749504, 1.0),\n",
       " (0.987053, 0.991438, 0.749504, 1.0),\n",
       " (0.987053, 0.991438, 0.749504, 1.0),\n",
       " (0.987053, 0.991438, 0.749504, 1.0),\n",
       " (0.987053, 0.991438, 0.749504, 1.0),\n",
       " (0.987053, 0.991438, 0.749504, 1.0),\n",
       " (0.987053, 0.991438, 0.749504, 1.0),\n",
       " (0.987053, 0.991438, 0.749504, 1.0),\n",
       " (0.987053, 0.991438, 0.749504, 1.0),\n",
       " (0.987053, 0.991438, 0.749504, 1.0),\n",
       " (0.987053, 0.991438, 0.749504, 1.0),\n",
       " (0.987053, 0.991438, 0.749504, 1.0),\n",
       " (0.987053, 0.991438, 0.749504, 1.0),\n",
       " (0.987053, 0.991438, 0.749504, 1.0),\n",
       " (0.987053, 0.991438, 0.749504, 1.0),\n",
       " (0.987053, 0.991438, 0.749504, 1.0),\n",
       " (0.987053, 0.991438, 0.749504, 1.0),\n",
       " (0.987053, 0.991438, 0.749504, 1.0),\n",
       " (0.987053, 0.991438, 0.749504, 1.0),\n",
       " (0.987053, 0.991438, 0.749504, 1.0),\n",
       " (0.987053, 0.991438, 0.749504, 1.0),\n",
       " (0.987053, 0.991438, 0.749504, 1.0),\n",
       " (0.987053, 0.991438, 0.749504, 1.0),\n",
       " (0.987053, 0.991438, 0.749504, 1.0),\n",
       " (0.987053, 0.991438, 0.749504, 1.0),\n",
       " (0.987053, 0.991438, 0.749504, 1.0),\n",
       " (0.987053, 0.991438, 0.749504, 1.0),\n",
       " (0.987053, 0.991438, 0.749504, 1.0),\n",
       " (0.987053, 0.991438, 0.749504, 1.0),\n",
       " (0.987053, 0.991438, 0.749504, 1.0),\n",
       " (0.987053, 0.991438, 0.749504, 1.0),\n",
       " (0.987053, 0.991438, 0.749504, 1.0),\n",
       " (0.987053, 0.991438, 0.749504, 1.0),\n",
       " (0.987053, 0.991438, 0.749504, 1.0),\n",
       " (0.987053, 0.991438, 0.749504, 1.0),\n",
       " (0.987053, 0.991438, 0.749504, 1.0),\n",
       " (0.987053, 0.991438, 0.749504, 1.0),\n",
       " (0.987053, 0.991438, 0.749504, 1.0),\n",
       " (0.987053, 0.991438, 0.749504, 1.0),\n",
       " (0.987053, 0.991438, 0.749504, 1.0),\n",
       " (0.987053, 0.991438, 0.749504, 1.0),\n",
       " (0.987053, 0.991438, 0.749504, 1.0),\n",
       " (0.987053, 0.991438, 0.749504, 1.0),\n",
       " (0.987053, 0.991438, 0.749504, 1.0),\n",
       " (0.987053, 0.991438, 0.749504, 1.0),\n",
       " (0.987053, 0.991438, 0.749504, 1.0),\n",
       " (0.987053, 0.991438, 0.749504, 1.0),\n",
       " (0.987053, 0.991438, 0.749504, 1.0),\n",
       " (0.987053, 0.991438, 0.749504, 1.0),\n",
       " (0.987053, 0.991438, 0.749504, 1.0),\n",
       " (0.987053, 0.991438, 0.749504, 1.0),\n",
       " (0.987053, 0.991438, 0.749504, 1.0),\n",
       " (0.987053, 0.991438, 0.749504, 1.0),\n",
       " (0.987053, 0.991438, 0.749504, 1.0),\n",
       " (0.987053, 0.991438, 0.749504, 1.0),\n",
       " (0.987053, 0.991438, 0.749504, 1.0),\n",
       " (0.987053, 0.991438, 0.749504, 1.0),\n",
       " (0.987053, 0.991438, 0.749504, 1.0),\n",
       " (0.987053, 0.991438, 0.749504, 1.0),\n",
       " (0.987053, 0.991438, 0.749504, 1.0),\n",
       " (0.987053, 0.991438, 0.749504, 1.0),\n",
       " (0.987053, 0.991438, 0.749504, 1.0),\n",
       " (0.987053, 0.991438, 0.749504, 1.0),\n",
       " (0.987053, 0.991438, 0.749504, 1.0),\n",
       " (0.987053, 0.991438, 0.749504, 1.0),\n",
       " (0.987053, 0.991438, 0.749504, 1.0),\n",
       " (0.987053, 0.991438, 0.749504, 1.0),\n",
       " (0.987053, 0.991438, 0.749504, 1.0),\n",
       " (0.987053, 0.991438, 0.749504, 1.0),\n",
       " (0.987053, 0.991438, 0.749504, 1.0),\n",
       " (0.987053, 0.991438, 0.749504, 1.0),\n",
       " (0.987053, 0.991438, 0.749504, 1.0),\n",
       " (0.987053, 0.991438, 0.749504, 1.0),\n",
       " (0.987053, 0.991438, 0.749504, 1.0),\n",
       " (0.987053, 0.991438, 0.749504, 1.0),\n",
       " (0.987053, 0.991438, 0.749504, 1.0),\n",
       " (0.987053, 0.991438, 0.749504, 1.0),\n",
       " (0.987053, 0.991438, 0.749504, 1.0),\n",
       " (0.987053, 0.991438, 0.749504, 1.0),\n",
       " (0.987053, 0.991438, 0.749504, 1.0),\n",
       " (0.987053, 0.991438, 0.749504, 1.0),\n",
       " (0.987053, 0.991438, 0.749504, 1.0),\n",
       " (0.987053, 0.991438, 0.749504, 1.0),\n",
       " (0.987053, 0.991438, 0.749504, 1.0),\n",
       " (0.987053, 0.991438, 0.749504, 1.0),\n",
       " (0.987053, 0.991438, 0.749504, 1.0),\n",
       " (0.987053, 0.991438, 0.749504, 1.0),\n",
       " (0.987053, 0.991438, 0.749504, 1.0),\n",
       " (0.987053, 0.991438, 0.749504, 1.0),\n",
       " (0.987053, 0.991438, 0.749504, 1.0),\n",
       " (0.987053, 0.991438, 0.749504, 1.0),\n",
       " (0.987053, 0.991438, 0.749504, 1.0),\n",
       " (0.987053, 0.991438, 0.749504, 1.0),\n",
       " (0.987053, 0.991438, 0.749504, 1.0),\n",
       " (0.987053, 0.991438, 0.749504, 1.0),\n",
       " (0.987053, 0.991438, 0.749504, 1.0),\n",
       " (0.987053, 0.991438, 0.749504, 1.0),\n",
       " (0.987053, 0.991438, 0.749504, 1.0),\n",
       " (0.987053, 0.991438, 0.749504, 1.0),\n",
       " (0.987053, 0.991438, 0.749504, 1.0),\n",
       " (0.987053, 0.991438, 0.749504, 1.0),\n",
       " (0.987053, 0.991438, 0.749504, 1.0),\n",
       " (0.987053, 0.991438, 0.749504, 1.0),\n",
       " (0.987053, 0.991438, 0.749504, 1.0),\n",
       " (0.987053, 0.991438, 0.749504, 1.0),\n",
       " (0.987053, 0.991438, 0.749504, 1.0),\n",
       " (0.987053, 0.991438, 0.749504, 1.0),\n",
       " (0.987053, 0.991438, 0.749504, 1.0),\n",
       " (0.987053, 0.991438, 0.749504, 1.0),\n",
       " (0.987053, 0.991438, 0.749504, 1.0),\n",
       " (0.987053, 0.991438, 0.749504, 1.0),\n",
       " (0.987053, 0.991438, 0.749504, 1.0),\n",
       " (0.987053, 0.991438, 0.749504, 1.0),\n",
       " (0.987053, 0.991438, 0.749504, 1.0),\n",
       " (0.987053, 0.991438, 0.749504, 1.0),\n",
       " (0.987053, 0.991438, 0.749504, 1.0),\n",
       " (0.987053, 0.991438, 0.749504, 1.0),\n",
       " (0.987053, 0.991438, 0.749504, 1.0),\n",
       " (0.987053, 0.991438, 0.749504, 1.0),\n",
       " (0.987053, 0.991438, 0.749504, 1.0),\n",
       " (0.987053, 0.991438, 0.749504, 1.0),\n",
       " (0.987053, 0.991438, 0.749504, 1.0),\n",
       " (0.987053, 0.991438, 0.749504, 1.0),\n",
       " (0.987053, 0.991438, 0.749504, 1.0),\n",
       " (0.987053, 0.991438, 0.749504, 1.0),\n",
       " (0.987053, 0.991438, 0.749504, 1.0),\n",
       " (0.987053, 0.991438, 0.749504, 1.0),\n",
       " (0.987053, 0.991438, 0.749504, 1.0),\n",
       " (0.987053, 0.991438, 0.749504, 1.0),\n",
       " (0.987053, 0.991438, 0.749504, 1.0),\n",
       " (0.987053, 0.991438, 0.749504, 1.0),\n",
       " (0.987053, 0.991438, 0.749504, 1.0),\n",
       " (0.987053, 0.991438, 0.749504, 1.0),\n",
       " (0.987053, 0.991438, 0.749504, 1.0),\n",
       " (0.987053, 0.991438, 0.749504, 1.0),\n",
       " (0.987053, 0.991438, 0.749504, 1.0),\n",
       " (0.987053, 0.991438, 0.749504, 1.0),\n",
       " (0.987053, 0.991438, 0.749504, 1.0),\n",
       " (0.987053, 0.991438, 0.749504, 1.0),\n",
       " (0.987053, 0.991438, 0.749504, 1.0),\n",
       " (0.987053, 0.991438, 0.749504, 1.0),\n",
       " (0.987053, 0.991438, 0.749504, 1.0),\n",
       " (0.987053, 0.991438, 0.749504, 1.0),\n",
       " (0.987053, 0.991438, 0.749504, 1.0),\n",
       " (0.987053, 0.991438, 0.749504, 1.0),\n",
       " (0.987053, 0.991438, 0.749504, 1.0),\n",
       " (0.987053, 0.991438, 0.749504, 1.0),\n",
       " (0.987053, 0.991438, 0.749504, 1.0),\n",
       " (0.987053, 0.991438, 0.749504, 1.0),\n",
       " (0.987053, 0.991438, 0.749504, 1.0),\n",
       " (0.987053, 0.991438, 0.749504, 1.0),\n",
       " (0.987053, 0.991438, 0.749504, 1.0),\n",
       " (0.987053, 0.991438, 0.749504, 1.0),\n",
       " (0.987053, 0.991438, 0.749504, 1.0),\n",
       " (0.987053, 0.991438, 0.749504, 1.0),\n",
       " (0.987053, 0.991438, 0.749504, 1.0),\n",
       " (0.987053, 0.991438, 0.749504, 1.0),\n",
       " (0.987053, 0.991438, 0.749504, 1.0),\n",
       " (0.987053, 0.991438, 0.749504, 1.0),\n",
       " (0.987053, 0.991438, 0.749504, 1.0),\n",
       " (0.987053, 0.991438, 0.749504, 1.0),\n",
       " (0.987053, 0.991438, 0.749504, 1.0),\n",
       " (0.987053, 0.991438, 0.749504, 1.0),\n",
       " (0.987053, 0.991438, 0.749504, 1.0),\n",
       " (0.987053, 0.991438, 0.749504, 1.0),\n",
       " (0.987053, 0.991438, 0.749504, 1.0),\n",
       " (0.987053, 0.991438, 0.749504, 1.0),\n",
       " (0.987053, 0.991438, 0.749504, 1.0),\n",
       " (0.987053, 0.991438, 0.749504, 1.0),\n",
       " (0.987053, 0.991438, 0.749504, 1.0),\n",
       " (0.987053, 0.991438, 0.749504, 1.0),\n",
       " (0.987053, 0.991438, 0.749504, 1.0),\n",
       " (0.987053, 0.991438, 0.749504, 1.0),\n",
       " (0.987053, 0.991438, 0.749504, 1.0),\n",
       " (0.987053, 0.991438, 0.749504, 1.0),\n",
       " (0.987053, 0.991438, 0.749504, 1.0),\n",
       " (0.987053, 0.991438, 0.749504, 1.0),\n",
       " (0.987053, 0.991438, 0.749504, 1.0),\n",
       " (0.987053, 0.991438, 0.749504, 1.0),\n",
       " (0.987053, 0.991438, 0.749504, 1.0),\n",
       " (0.987053, 0.991438, 0.749504, 1.0),\n",
       " (0.987053, 0.991438, 0.749504, 1.0),\n",
       " (0.987053, 0.991438, 0.749504, 1.0),\n",
       " (0.987053, 0.991438, 0.749504, 1.0),\n",
       " (0.987053, 0.991438, 0.749504, 1.0),\n",
       " (0.987053, 0.991438, 0.749504, 1.0),\n",
       " (0.987053, 0.991438, 0.749504, 1.0),\n",
       " (0.987053, 0.991438, 0.749504, 1.0),\n",
       " (0.987053, 0.991438, 0.749504, 1.0),\n",
       " (0.987053, 0.991438, 0.749504, 1.0),\n",
       " (0.987053, 0.991438, 0.749504, 1.0),\n",
       " (0.987053, 0.991438, 0.749504, 1.0),\n",
       " (0.987053, 0.991438, 0.749504, 1.0),\n",
       " (0.987053, 0.991438, 0.749504, 1.0),\n",
       " (0.987053, 0.991438, 0.749504, 1.0),\n",
       " (0.987053, 0.991438, 0.749504, 1.0),\n",
       " (0.987053, 0.991438, 0.749504, 1.0),\n",
       " (0.987053, 0.991438, 0.749504, 1.0),\n",
       " (0.987053, 0.991438, 0.749504, 1.0),\n",
       " (0.987053, 0.991438, 0.749504, 1.0),\n",
       " (0.987053, 0.991438, 0.749504, 1.0),\n",
       " (0.987053, 0.991438, 0.749504, 1.0),\n",
       " (0.987053, 0.991438, 0.749504, 1.0),\n",
       " (0.987053, 0.991438, 0.749504, 1.0),\n",
       " (0.987053, 0.991438, 0.749504, 1.0),\n",
       " (0.987053, 0.991438, 0.749504, 1.0),\n",
       " (0.987053, 0.991438, 0.749504, 1.0),\n",
       " (0.987053, 0.991438, 0.749504, 1.0),\n",
       " (0.987053, 0.991438, 0.749504, 1.0),\n",
       " (0.987053, 0.991438, 0.749504, 1.0),\n",
       " (0.987053, 0.991438, 0.749504, 1.0),\n",
       " (0.987053, 0.991438, 0.749504, 1.0),\n",
       " (0.987053, 0.991438, 0.749504, 1.0),\n",
       " (0.987053, 0.991438, 0.749504, 1.0),\n",
       " (0.987053, 0.991438, 0.749504, 1.0),\n",
       " (0.987053, 0.991438, 0.749504, 1.0),\n",
       " (0.987053, 0.991438, 0.749504, 1.0),\n",
       " (0.987053, 0.991438, 0.749504, 1.0),\n",
       " (0.987053, 0.991438, 0.749504, 1.0),\n",
       " (0.987053, 0.991438, 0.749504, 1.0),\n",
       " (0.987053, 0.991438, 0.749504, 1.0),\n",
       " (0.987053, 0.991438, 0.749504, 1.0),\n",
       " (0.987053, 0.991438, 0.749504, 1.0),\n",
       " (0.987053, 0.991438, 0.749504, 1.0),\n",
       " (0.987053, 0.991438, 0.749504, 1.0),\n",
       " (0.987053, 0.991438, 0.749504, 1.0),\n",
       " (0.987053, 0.991438, 0.749504, 1.0),\n",
       " (0.987053, 0.991438, 0.749504, 1.0),\n",
       " (0.987053, 0.991438, 0.749504, 1.0),\n",
       " (0.987053, 0.991438, 0.749504, 1.0),\n",
       " (0.987053, 0.991438, 0.749504, 1.0),\n",
       " (0.987053, 0.991438, 0.749504, 1.0),\n",
       " (0.987053, 0.991438, 0.749504, 1.0),\n",
       " (0.987053, 0.991438, 0.749504, 1.0),\n",
       " (0.987053, 0.991438, 0.749504, 1.0),\n",
       " (0.987053, 0.991438, 0.749504, 1.0),\n",
       " (0.987053, 0.991438, 0.749504, 1.0),\n",
       " (0.987053, 0.991438, 0.749504, 1.0),\n",
       " (0.987053, 0.991438, 0.749504, 1.0),\n",
       " (0.987053, 0.991438, 0.749504, 1.0),\n",
       " (0.987053, 0.991438, 0.749504, 1.0),\n",
       " (0.987053, 0.991438, 0.749504, 1.0),\n",
       " (0.987053, 0.991438, 0.749504, 1.0),\n",
       " (0.987053, 0.991438, 0.749504, 1.0),\n",
       " (0.987053, 0.991438, 0.749504, 1.0),\n",
       " (0.987053, 0.991438, 0.749504, 1.0),\n",
       " (0.987053, 0.991438, 0.749504, 1.0),\n",
       " (0.987053, 0.991438, 0.749504, 1.0),\n",
       " (0.987053, 0.991438, 0.749504, 1.0),\n",
       " (0.987053, 0.991438, 0.749504, 1.0),\n",
       " (0.987053, 0.991438, 0.749504, 1.0),\n",
       " (0.987053, 0.991438, 0.749504, 1.0),\n",
       " (0.987053, 0.991438, 0.749504, 1.0),\n",
       " (0.987053, 0.991438, 0.749504, 1.0),\n",
       " (0.987053, 0.991438, 0.749504, 1.0),\n",
       " (0.987053, 0.991438, 0.749504, 1.0),\n",
       " (0.987053, 0.991438, 0.749504, 1.0),\n",
       " (0.987053, 0.991438, 0.749504, 1.0),\n",
       " (0.987053, 0.991438, 0.749504, 1.0),\n",
       " (0.987053, 0.991438, 0.749504, 1.0),\n",
       " (0.987053, 0.991438, 0.749504, 1.0),\n",
       " (0.987053, 0.991438, 0.749504, 1.0),\n",
       " (0.987053, 0.991438, 0.749504, 1.0),\n",
       " (0.987053, 0.991438, 0.749504, 1.0),\n",
       " (0.987053, 0.991438, 0.749504, 1.0),\n",
       " (0.987053, 0.991438, 0.749504, 1.0),\n",
       " (0.987053, 0.991438, 0.749504, 1.0),\n",
       " (0.987053, 0.991438, 0.749504, 1.0),\n",
       " (0.987053, 0.991438, 0.749504, 1.0),\n",
       " (0.987053, 0.991438, 0.749504, 1.0),\n",
       " (0.987053, 0.991438, 0.749504, 1.0),\n",
       " (0.987053, 0.991438, 0.749504, 1.0),\n",
       " (0.987053, 0.991438, 0.749504, 1.0),\n",
       " (0.987053, 0.991438, 0.749504, 1.0),\n",
       " (0.987053, 0.991438, 0.749504, 1.0),\n",
       " (0.987053, 0.991438, 0.749504, 1.0),\n",
       " (0.987053, 0.991438, 0.749504, 1.0),\n",
       " (0.987053, 0.991438, 0.749504, 1.0),\n",
       " (0.987053, 0.991438, 0.749504, 1.0),\n",
       " (0.987053, 0.991438, 0.749504, 1.0),\n",
       " (0.987053, 0.991438, 0.749504, 1.0),\n",
       " (0.987053, 0.991438, 0.749504, 1.0),\n",
       " (0.987053, 0.991438, 0.749504, 1.0),\n",
       " (0.987053, 0.991438, 0.749504, 1.0),\n",
       " (0.987053, 0.991438, 0.749504, 1.0),\n",
       " (0.987053, 0.991438, 0.749504, 1.0),\n",
       " (0.987053, 0.991438, 0.749504, 1.0),\n",
       " (0.987053, 0.991438, 0.749504, 1.0),\n",
       " (0.987053, 0.991438, 0.749504, 1.0),\n",
       " (0.987053, 0.991438, 0.749504, 1.0),\n",
       " (0.987053, 0.991438, 0.749504, 1.0),\n",
       " (0.987053, 0.991438, 0.749504, 1.0),\n",
       " (0.987053, 0.991438, 0.749504, 1.0),\n",
       " (0.987053, 0.991438, 0.749504, 1.0),\n",
       " (0.987053, 0.991438, 0.749504, 1.0),\n",
       " (0.987053, 0.991438, 0.749504, 1.0),\n",
       " (0.987053, 0.991438, 0.749504, 1.0),\n",
       " (0.987053, 0.991438, 0.749504, 1.0),\n",
       " (0.987053, 0.991438, 0.749504, 1.0),\n",
       " (0.987053, 0.991438, 0.749504, 1.0),\n",
       " (0.987053, 0.991438, 0.749504, 1.0),\n",
       " (0.987053, 0.991438, 0.749504, 1.0),\n",
       " (0.987053, 0.991438, 0.749504, 1.0),\n",
       " (0.987053, 0.991438, 0.749504, 1.0),\n",
       " (0.987053, 0.991438, 0.749504, 1.0),\n",
       " (0.987053, 0.991438, 0.749504, 1.0),\n",
       " (0.987053, 0.991438, 0.749504, 1.0),\n",
       " (0.987053, 0.991438, 0.749504, 1.0),\n",
       " (0.987053, 0.991438, 0.749504, 1.0),\n",
       " (0.987053, 0.991438, 0.749504, 1.0),\n",
       " (0.987053, 0.991438, 0.749504, 1.0),\n",
       " (0.987053, 0.991438, 0.749504, 1.0),\n",
       " (0.987053, 0.991438, 0.749504, 1.0),\n",
       " (0.987053, 0.991438, 0.749504, 1.0),\n",
       " (0.987053, 0.991438, 0.749504, 1.0),\n",
       " (0.987053, 0.991438, 0.749504, 1.0),\n",
       " (0.987053, 0.991438, 0.749504, 1.0),\n",
       " (0.987053, 0.991438, 0.749504, 1.0),\n",
       " (0.987053, 0.991438, 0.749504, 1.0),\n",
       " (0.987053, 0.991438, 0.749504, 1.0),\n",
       " (0.987053, 0.991438, 0.749504, 1.0),\n",
       " (0.987053, 0.991438, 0.749504, 1.0),\n",
       " (0.987053, 0.991438, 0.749504, 1.0),\n",
       " (0.987053, 0.991438, 0.749504, 1.0),\n",
       " (0.987053, 0.991438, 0.749504, 1.0),\n",
       " (0.987053, 0.991438, 0.749504, 1.0),\n",
       " (0.987053, 0.991438, 0.749504, 1.0),\n",
       " (0.987053, 0.991438, 0.749504, 1.0),\n",
       " (0.987053, 0.991438, 0.749504, 1.0),\n",
       " (0.987053, 0.991438, 0.749504, 1.0),\n",
       " (0.987053, 0.991438, 0.749504, 1.0),\n",
       " (0.987053, 0.991438, 0.749504, 1.0),\n",
       " (0.987053, 0.991438, 0.749504, 1.0),\n",
       " (0.987053, 0.991438, 0.749504, 1.0),\n",
       " (0.987053, 0.991438, 0.749504, 1.0),\n",
       " (0.987053, 0.991438, 0.749504, 1.0),\n",
       " (0.987053, 0.991438, 0.749504, 1.0),\n",
       " (0.987053, 0.991438, 0.749504, 1.0),\n",
       " (0.987053, 0.991438, 0.749504, 1.0),\n",
       " (0.987053, 0.991438, 0.749504, 1.0),\n",
       " (0.987053, 0.991438, 0.749504, 1.0),\n",
       " (0.987053, 0.991438, 0.749504, 1.0),\n",
       " (0.987053, 0.991438, 0.749504, 1.0),\n",
       " (0.987053, 0.991438, 0.749504, 1.0),\n",
       " (0.987053, 0.991438, 0.749504, 1.0),\n",
       " (0.987053, 0.991438, 0.749504, 1.0),\n",
       " (0.987053, 0.991438, 0.749504, 1.0),\n",
       " (0.987053, 0.991438, 0.749504, 1.0),\n",
       " (0.987053, 0.991438, 0.749504, 1.0),\n",
       " (0.987053, 0.991438, 0.749504, 1.0),\n",
       " (0.987053, 0.991438, 0.749504, 1.0),\n",
       " (0.987053, 0.991438, 0.749504, 1.0),\n",
       " (0.987053, 0.991438, 0.749504, 1.0),\n",
       " (0.987053, 0.991438, 0.749504, 1.0),\n",
       " (0.987053, 0.991438, 0.749504, 1.0),\n",
       " (0.987053, 0.991438, 0.749504, 1.0),\n",
       " (0.987053, 0.991438, 0.749504, 1.0),\n",
       " (0.987053, 0.991438, 0.749504, 1.0),\n",
       " (0.987053, 0.991438, 0.749504, 1.0),\n",
       " (0.987053, 0.991438, 0.749504, 1.0),\n",
       " (0.987053, 0.991438, 0.749504, 1.0),\n",
       " (0.987053, 0.991438, 0.749504, 1.0),\n",
       " (0.987053, 0.991438, 0.749504, 1.0),\n",
       " (0.987053, 0.991438, 0.749504, 1.0),\n",
       " (0.987053, 0.991438, 0.749504, 1.0),\n",
       " (0.987053, 0.991438, 0.749504, 1.0),\n",
       " (0.987053, 0.991438, 0.749504, 1.0),\n",
       " (0.987053, 0.991438, 0.749504, 1.0),\n",
       " (0.987053, 0.991438, 0.749504, 1.0),\n",
       " (0.987053, 0.991438, 0.749504, 1.0),\n",
       " (0.987053, 0.991438, 0.749504, 1.0),\n",
       " (0.987053, 0.991438, 0.749504, 1.0),\n",
       " (0.987053, 0.991438, 0.749504, 1.0),\n",
       " (0.987053, 0.991438, 0.749504, 1.0),\n",
       " (0.987053, 0.991438, 0.749504, 1.0),\n",
       " (0.987053, 0.991438, 0.749504, 1.0),\n",
       " (0.987053, 0.991438, 0.749504, 1.0),\n",
       " (0.987053, 0.991438, 0.749504, 1.0),\n",
       " (0.987053, 0.991438, 0.749504, 1.0),\n",
       " (0.987053, 0.991438, 0.749504, 1.0),\n",
       " (0.987053, 0.991438, 0.749504, 1.0),\n",
       " (0.987053, 0.991438, 0.749504, 1.0),\n",
       " (0.987053, 0.991438, 0.749504, 1.0),\n",
       " (0.987053, 0.991438, 0.749504, 1.0),\n",
       " (0.987053, 0.991438, 0.749504, 1.0),\n",
       " (0.987053, 0.991438, 0.749504, 1.0),\n",
       " (0.987053, 0.991438, 0.749504, 1.0),\n",
       " (0.987053, 0.991438, 0.749504, 1.0),\n",
       " (0.987053, 0.991438, 0.749504, 1.0),\n",
       " (0.987053, 0.991438, 0.749504, 1.0),\n",
       " (0.987053, 0.991438, 0.749504, 1.0),\n",
       " (0.987053, 0.991438, 0.749504, 1.0),\n",
       " (0.987053, 0.991438, 0.749504, 1.0),\n",
       " (0.987053, 0.991438, 0.749504, 1.0),\n",
       " (0.987053, 0.991438, 0.749504, 1.0),\n",
       " (0.987053, 0.991438, 0.749504, 1.0),\n",
       " (0.987053, 0.991438, 0.749504, 1.0),\n",
       " (0.987053, 0.991438, 0.749504, 1.0),\n",
       " (0.987053, 0.991438, 0.749504, 1.0),\n",
       " (0.987053, 0.991438, 0.749504, 1.0),\n",
       " (0.987053, 0.991438, 0.749504, 1.0),\n",
       " (0.987053, 0.991438, 0.749504, 1.0),\n",
       " (0.987053, 0.991438, 0.749504, 1.0),\n",
       " (0.987053, 0.991438, 0.749504, 1.0),\n",
       " (0.987053, 0.991438, 0.749504, 1.0),\n",
       " (0.987053, 0.991438, 0.749504, 1.0),\n",
       " (0.987053, 0.991438, 0.749504, 1.0),\n",
       " (0.987053, 0.991438, 0.749504, 1.0),\n",
       " (0.987053, 0.991438, 0.749504, 1.0),\n",
       " (0.987053, 0.991438, 0.749504, 1.0),\n",
       " (0.987053, 0.991438, 0.749504, 1.0),\n",
       " (0.987053, 0.991438, 0.749504, 1.0),\n",
       " (0.987053, 0.991438, 0.749504, 1.0),\n",
       " (0.987053, 0.991438, 0.749504, 1.0),\n",
       " (0.987053, 0.991438, 0.749504, 1.0),\n",
       " (0.987053, 0.991438, 0.749504, 1.0),\n",
       " (0.987053, 0.991438, 0.749504, 1.0),\n",
       " (0.987053, 0.991438, 0.749504, 1.0),\n",
       " (0.987053, 0.991438, 0.749504, 1.0),\n",
       " (0.987053, 0.991438, 0.749504, 1.0),\n",
       " (0.987053, 0.991438, 0.749504, 1.0),\n",
       " (0.987053, 0.991438, 0.749504, 1.0),\n",
       " (0.987053, 0.991438, 0.749504, 1.0),\n",
       " (0.987053, 0.991438, 0.749504, 1.0),\n",
       " (0.987053, 0.991438, 0.749504, 1.0),\n",
       " (0.987053, 0.991438, 0.749504, 1.0),\n",
       " (0.987053, 0.991438, 0.749504, 1.0),\n",
       " (0.987053, 0.991438, 0.749504, 1.0),\n",
       " (0.987053, 0.991438, 0.749504, 1.0),\n",
       " (0.987053, 0.991438, 0.749504, 1.0),\n",
       " (0.987053, 0.991438, 0.749504, 1.0),\n",
       " (0.987053, 0.991438, 0.749504, 1.0),\n",
       " (0.987053, 0.991438, 0.749504, 1.0),\n",
       " (0.987053, 0.991438, 0.749504, 1.0),\n",
       " (0.987053, 0.991438, 0.749504, 1.0),\n",
       " (0.987053, 0.991438, 0.749504, 1.0),\n",
       " (0.987053, 0.991438, 0.749504, 1.0),\n",
       " (0.987053, 0.991438, 0.749504, 1.0),\n",
       " (0.987053, 0.991438, 0.749504, 1.0),\n",
       " (0.987053, 0.991438, 0.749504, 1.0),\n",
       " (0.987053, 0.991438, 0.749504, 1.0),\n",
       " (0.987053, 0.991438, 0.749504, 1.0),\n",
       " (0.987053, 0.991438, 0.749504, 1.0),\n",
       " (0.987053, 0.991438, 0.749504, 1.0),\n",
       " (0.987053, 0.991438, 0.749504, 1.0),\n",
       " (0.987053, 0.991438, 0.749504, 1.0),\n",
       " (0.987053, 0.991438, 0.749504, 1.0),\n",
       " (0.987053, 0.991438, 0.749504, 1.0),\n",
       " (0.987053, 0.991438, 0.749504, 1.0),\n",
       " (0.987053, 0.991438, 0.749504, 1.0),\n",
       " (0.987053, 0.991438, 0.749504, 1.0),\n",
       " (0.987053, 0.991438, 0.749504, 1.0),\n",
       " (0.987053, 0.991438, 0.749504, 1.0),\n",
       " (0.987053, 0.991438, 0.749504, 1.0),\n",
       " (0.987053, 0.991438, 0.749504, 1.0),\n",
       " (0.987053, 0.991438, 0.749504, 1.0),\n",
       " (0.987053, 0.991438, 0.749504, 1.0),\n",
       " (0.987053, 0.991438, 0.749504, 1.0),\n",
       " (0.987053, 0.991438, 0.749504, 1.0),\n",
       " (0.987053, 0.991438, 0.749504, 1.0),\n",
       " (0.987053, 0.991438, 0.749504, 1.0),\n",
       " (0.987053, 0.991438, 0.749504, 1.0),\n",
       " (0.987053, 0.991438, 0.749504, 1.0),\n",
       " (0.987053, 0.991438, 0.749504, 1.0),\n",
       " (0.987053, 0.991438, 0.749504, 1.0),\n",
       " (0.987053, 0.991438, 0.749504, 1.0),\n",
       " (0.987053, 0.991438, 0.749504, 1.0),\n",
       " (0.987053, 0.991438, 0.749504, 1.0),\n",
       " (0.987053, 0.991438, 0.749504, 1.0),\n",
       " (0.987053, 0.991438, 0.749504, 1.0),\n",
       " (0.987053, 0.991438, 0.749504, 1.0),\n",
       " (0.987053, 0.991438, 0.749504, 1.0),\n",
       " (0.987053, 0.991438, 0.749504, 1.0),\n",
       " (0.987053, 0.991438, 0.749504, 1.0),\n",
       " (0.987053, 0.991438, 0.749504, 1.0),\n",
       " (0.987053, 0.991438, 0.749504, 1.0),\n",
       " (0.987053, 0.991438, 0.749504, 1.0),\n",
       " (0.987053, 0.991438, 0.749504, 1.0),\n",
       " (0.987053, 0.991438, 0.749504, 1.0),\n",
       " (0.987053, 0.991438, 0.749504, 1.0),\n",
       " (0.987053, 0.991438, 0.749504, 1.0),\n",
       " (0.987053, 0.991438, 0.749504, 1.0),\n",
       " (0.987053, 0.991438, 0.749504, 1.0),\n",
       " (0.987053, 0.991438, 0.749504, 1.0),\n",
       " (0.987053, 0.991438, 0.749504, 1.0),\n",
       " (0.987053, 0.991438, 0.749504, 1.0),\n",
       " (0.987053, 0.991438, 0.749504, 1.0),\n",
       " (0.987053, 0.991438, 0.749504, 1.0),\n",
       " (0.987053, 0.991438, 0.749504, 1.0),\n",
       " (0.987053, 0.991438, 0.749504, 1.0),\n",
       " (0.987053, 0.991438, 0.749504, 1.0),\n",
       " (0.987053, 0.991438, 0.749504, 1.0),\n",
       " (0.987053, 0.991438, 0.749504, 1.0),\n",
       " (0.987053, 0.991438, 0.749504, 1.0),\n",
       " (0.987053, 0.991438, 0.749504, 1.0),\n",
       " (0.987053, 0.991438, 0.749504, 1.0),\n",
       " (0.987053, 0.991438, 0.749504, 1.0),\n",
       " (0.987053, 0.991438, 0.749504, 1.0),\n",
       " (0.987053, 0.991438, 0.749504, 1.0),\n",
       " (0.987053, 0.991438, 0.749504, 1.0),\n",
       " (0.987053, 0.991438, 0.749504, 1.0),\n",
       " (0.987053, 0.991438, 0.749504, 1.0),\n",
       " (0.987053, 0.991438, 0.749504, 1.0),\n",
       " (0.987053, 0.991438, 0.749504, 1.0),\n",
       " (0.987053, 0.991438, 0.749504, 1.0),\n",
       " (0.987053, 0.991438, 0.749504, 1.0),\n",
       " (0.987053, 0.991438, 0.749504, 1.0),\n",
       " (0.987053, 0.991438, 0.749504, 1.0),\n",
       " (0.987053, 0.991438, 0.749504, 1.0),\n",
       " (0.987053, 0.991438, 0.749504, 1.0),\n",
       " (0.987053, 0.991438, 0.749504, 1.0),\n",
       " (0.987053, 0.991438, 0.749504, 1.0),\n",
       " (0.987053, 0.991438, 0.749504, 1.0),\n",
       " (0.987053, 0.991438, 0.749504, 1.0),\n",
       " (0.987053, 0.991438, 0.749504, 1.0),\n",
       " (0.987053, 0.991438, 0.749504, 1.0),\n",
       " (0.987053, 0.991438, 0.749504, 1.0),\n",
       " (0.987053, 0.991438, 0.749504, 1.0),\n",
       " (0.987053, 0.991438, 0.749504, 1.0),\n",
       " (0.987053, 0.991438, 0.749504, 1.0),\n",
       " (0.987053, 0.991438, 0.749504, 1.0),\n",
       " (0.987053, 0.991438, 0.749504, 1.0),\n",
       " (0.987053, 0.991438, 0.749504, 1.0),\n",
       " (0.987053, 0.991438, 0.749504, 1.0),\n",
       " (0.987053, 0.991438, 0.749504, 1.0),\n",
       " (0.987053, 0.991438, 0.749504, 1.0),\n",
       " (0.987053, 0.991438, 0.749504, 1.0),\n",
       " (0.987053, 0.991438, 0.749504, 1.0),\n",
       " (0.987053, 0.991438, 0.749504, 1.0),\n",
       " (0.987053, 0.991438, 0.749504, 1.0),\n",
       " (0.987053, 0.991438, 0.749504, 1.0),\n",
       " (0.987053, 0.991438, 0.749504, 1.0),\n",
       " (0.987053, 0.991438, 0.749504, 1.0),\n",
       " (0.987053, 0.991438, 0.749504, 1.0),\n",
       " (0.987053, 0.991438, 0.749504, 1.0),\n",
       " (0.987053, 0.991438, 0.749504, 1.0),\n",
       " (0.987053, 0.991438, 0.749504, 1.0),\n",
       " (0.987053, 0.991438, 0.749504, 1.0),\n",
       " (0.987053, 0.991438, 0.749504, 1.0),\n",
       " (0.987053, 0.991438, 0.749504, 1.0),\n",
       " (0.987053, 0.991438, 0.749504, 1.0),\n",
       " (0.987053, 0.991438, 0.749504, 1.0),\n",
       " (0.987053, 0.991438, 0.749504, 1.0),\n",
       " (0.987053, 0.991438, 0.749504, 1.0),\n",
       " (0.987053, 0.991438, 0.749504, 1.0),\n",
       " (0.987053, 0.991438, 0.749504, 1.0),\n",
       " (0.987053, 0.991438, 0.749504, 1.0),\n",
       " (0.987053, 0.991438, 0.749504, 1.0),\n",
       " (0.987053, 0.991438, 0.749504, 1.0),\n",
       " (0.987053, 0.991438, 0.749504, 1.0),\n",
       " (0.987053, 0.991438, 0.749504, 1.0),\n",
       " (0.987053, 0.991438, 0.749504, 1.0),\n",
       " (0.987053, 0.991438, 0.749504, 1.0),\n",
       " (0.987053, 0.991438, 0.749504, 1.0),\n",
       " (0.987053, 0.991438, 0.749504, 1.0),\n",
       " (0.987053, 0.991438, 0.749504, 1.0),\n",
       " (0.987053, 0.991438, 0.749504, 1.0),\n",
       " (0.987053, 0.991438, 0.749504, 1.0),\n",
       " (0.987053, 0.991438, 0.749504, 1.0),\n",
       " (0.987053, 0.991438, 0.749504, 1.0),\n",
       " (0.987053, 0.991438, 0.749504, 1.0),\n",
       " (0.987053, 0.991438, 0.749504, 1.0),\n",
       " (0.987053, 0.991438, 0.749504, 1.0),\n",
       " (0.987053, 0.991438, 0.749504, 1.0),\n",
       " (0.987053, 0.991438, 0.749504, 1.0),\n",
       " (0.987053, 0.991438, 0.749504, 1.0),\n",
       " (0.987053, 0.991438, 0.749504, 1.0),\n",
       " (0.987053, 0.991438, 0.749504, 1.0),\n",
       " (0.987053, 0.991438, 0.749504, 1.0),\n",
       " (0.987053, 0.991438, 0.749504, 1.0),\n",
       " (0.987053, 0.991438, 0.749504, 1.0),\n",
       " (0.987053, 0.991438, 0.749504, 1.0),\n",
       " (0.987053, 0.991438, 0.749504, 1.0),\n",
       " (0.987053, 0.991438, 0.749504, 1.0),\n",
       " (0.987053, 0.991438, 0.749504, 1.0),\n",
       " (0.987053, 0.991438, 0.749504, 1.0),\n",
       " (0.987053, 0.991438, 0.749504, 1.0),\n",
       " (0.987053, 0.991438, 0.749504, 1.0),\n",
       " (0.987053, 0.991438, 0.749504, 1.0),\n",
       " (0.987053, 0.991438, 0.749504, 1.0),\n",
       " (0.987053, 0.991438, 0.749504, 1.0),\n",
       " (0.987053, 0.991438, 0.749504, 1.0),\n",
       " (0.987053, 0.991438, 0.749504, 1.0),\n",
       " (0.987053, 0.991438, 0.749504, 1.0),\n",
       " (0.987053, 0.991438, 0.749504, 1.0),\n",
       " (0.987053, 0.991438, 0.749504, 1.0),\n",
       " (0.987053, 0.991438, 0.749504, 1.0),\n",
       " (0.987053, 0.991438, 0.749504, 1.0),\n",
       " (0.987053, 0.991438, 0.749504, 1.0),\n",
       " (0.987053, 0.991438, 0.749504, 1.0),\n",
       " (0.987053, 0.991438, 0.749504, 1.0),\n",
       " (0.987053, 0.991438, 0.749504, 1.0),\n",
       " (0.987053, 0.991438, 0.749504, 1.0),\n",
       " (0.987053, 0.991438, 0.749504, 1.0),\n",
       " (0.987053, 0.991438, 0.749504, 1.0),\n",
       " (0.987053, 0.991438, 0.749504, 1.0),\n",
       " (0.987053, 0.991438, 0.749504, 1.0),\n",
       " (0.987053, 0.991438, 0.749504, 1.0),\n",
       " (0.987053, 0.991438, 0.749504, 1.0),\n",
       " (0.987053, 0.991438, 0.749504, 1.0),\n",
       " (0.987053, 0.991438, 0.749504, 1.0),\n",
       " (0.987053, 0.991438, 0.749504, 1.0),\n",
       " (0.987053, 0.991438, 0.749504, 1.0),\n",
       " (0.987053, 0.991438, 0.749504, 1.0),\n",
       " (0.987053, 0.991438, 0.749504, 1.0),\n",
       " (0.987053, 0.991438, 0.749504, 1.0),\n",
       " (0.987053, 0.991438, 0.749504, 1.0),\n",
       " (0.987053, 0.991438, 0.749504, 1.0),\n",
       " (0.987053, 0.991438, 0.749504, 1.0),\n",
       " (0.987053, 0.991438, 0.749504, 1.0),\n",
       " (0.987053, 0.991438, 0.749504, 1.0),\n",
       " (0.987053, 0.991438, 0.749504, 1.0),\n",
       " (0.987053, 0.991438, 0.749504, 1.0),\n",
       " (0.987053, 0.991438, 0.749504, 1.0),\n",
       " (0.987053, 0.991438, 0.749504, 1.0),\n",
       " (0.987053, 0.991438, 0.749504, 1.0),\n",
       " (0.987053, 0.991438, 0.749504, 1.0),\n",
       " (0.987053, 0.991438, 0.749504, 1.0),\n",
       " (0.987053, 0.991438, 0.749504, 1.0),\n",
       " (0.987053, 0.991438, 0.749504, 1.0),\n",
       " (0.987053, 0.991438, 0.749504, 1.0),\n",
       " (0.987053, 0.991438, 0.749504, 1.0),\n",
       " (0.987053, 0.991438, 0.749504, 1.0),\n",
       " (0.987053, 0.991438, 0.749504, 1.0),\n",
       " (0.987053, 0.991438, 0.749504, 1.0),\n",
       " (0.987053, 0.991438, 0.749504, 1.0),\n",
       " (0.987053, 0.991438, 0.749504, 1.0),\n",
       " (0.987053, 0.991438, 0.749504, 1.0),\n",
       " (0.987053, 0.991438, 0.749504, 1.0),\n",
       " (0.987053, 0.991438, 0.749504, 1.0),\n",
       " (0.987053, 0.991438, 0.749504, 1.0),\n",
       " (0.987053, 0.991438, 0.749504, 1.0),\n",
       " (0.987053, 0.991438, 0.749504, 1.0),\n",
       " (0.987053, 0.991438, 0.749504, 1.0),\n",
       " (0.987053, 0.991438, 0.749504, 1.0),\n",
       " (0.987053, 0.991438, 0.749504, 1.0),\n",
       " (0.987053, 0.991438, 0.749504, 1.0),\n",
       " (0.987053, 0.991438, 0.749504, 1.0),\n",
       " (0.987053, 0.991438, 0.749504, 1.0),\n",
       " (0.987053, 0.991438, 0.749504, 1.0),\n",
       " (0.987053, 0.991438, 0.749504, 1.0),\n",
       " (0.987053, 0.991438, 0.749504, 1.0),\n",
       " (0.987053, 0.991438, 0.749504, 1.0),\n",
       " (0.987053, 0.991438, 0.749504, 1.0),\n",
       " (0.987053, 0.991438, 0.749504, 1.0),\n",
       " (0.987053, 0.991438, 0.749504, 1.0),\n",
       " (0.987053, 0.991438, 0.749504, 1.0),\n",
       " (0.987053, 0.991438, 0.749504, 1.0),\n",
       " (0.987053, 0.991438, 0.749504, 1.0),\n",
       " (0.987053, 0.991438, 0.749504, 1.0),\n",
       " (0.987053, 0.991438, 0.749504, 1.0),\n",
       " (0.987053, 0.991438, 0.749504, 1.0),\n",
       " (0.987053, 0.991438, 0.749504, 1.0),\n",
       " (0.987053, 0.991438, 0.749504, 1.0),\n",
       " (0.987053, 0.991438, 0.749504, 1.0),\n",
       " (0.987053, 0.991438, 0.749504, 1.0),\n",
       " (0.987053, 0.991438, 0.749504, 1.0),\n",
       " ...]"
      ]
     },
     "execution_count": 317,
     "metadata": {},
     "output_type": "execute_result"
    }
   ],
   "source": [
    "[matplotlib.cm.magma(i) for i in range(SOILLIQ_dry_diffs.shape[0])]"
   ]
  },
  {
   "cell_type": "code",
   "execution_count": 273,
   "metadata": {
    "ExecuteTime": {
     "end_time": "2018-11-06T01:15:42.224621Z",
     "start_time": "2018-11-06T01:15:42.207856Z"
    }
   },
   "outputs": [
    {
     "data": {
      "text/plain": [
       "0       0.0\n",
       "1       0.0\n",
       "2       0.0\n",
       "3       0.0\n",
       "4       0.0\n",
       "5       0.0\n",
       "6       0.0\n",
       "7       0.0\n",
       "8       0.0\n",
       "9       0.0\n",
       "10      0.0\n",
       "11      0.0\n",
       "12      0.0\n",
       "13      0.0\n",
       "14      0.0\n",
       "15      0.0\n",
       "16      0.0\n",
       "17      0.0\n",
       "18      0.0\n",
       "19      0.0\n",
       "20      0.0\n",
       "21      0.0\n",
       "22      0.0\n",
       "23      0.0\n",
       "24      0.0\n",
       "25      0.0\n",
       "26      0.0\n",
       "27      0.0\n",
       "28      0.0\n",
       "29      0.0\n",
       "       ... \n",
       "3621    0.0\n",
       "3622    0.0\n",
       "3623    0.0\n",
       "3624    0.0\n",
       "3625    0.0\n",
       "3626    0.0\n",
       "3627    0.0\n",
       "3628    0.0\n",
       "3629    0.0\n",
       "3630    0.0\n",
       "3631    0.0\n",
       "3632    0.0\n",
       "3633    0.0\n",
       "3634    0.0\n",
       "3635    0.0\n",
       "3636    0.0\n",
       "3637    0.0\n",
       "3638    0.0\n",
       "3639    0.0\n",
       "3640    0.0\n",
       "3641    0.0\n",
       "3642    0.0\n",
       "3643    0.0\n",
       "3644    0.0\n",
       "3645    0.0\n",
       "3646    0.0\n",
       "3647    0.0\n",
       "3648    0.0\n",
       "3649    0.0\n",
       "3650    0.0\n",
       "Length: 3651, dtype: float64"
      ]
     },
     "execution_count": 273,
     "metadata": {},
     "output_type": "execute_result"
    }
   ],
   "source": [
    "SOILLIQ_dry_diffs_rollingmean"
   ]
  },
  {
   "cell_type": "code",
   "execution_count": 207,
   "metadata": {
    "ExecuteTime": {
     "end_time": "2018-11-05T22:23:34.202490Z",
     "start_time": "2018-11-05T22:23:34.000341Z"
    }
   },
   "outputs": [
    {
     "data": {
      "text/plain": [
       "[<matplotlib.lines.Line2D at 0x2b0ec0f6d780>]"
      ]
     },
     "execution_count": 207,
     "metadata": {},
     "output_type": "execute_result"
    },
    {
     "data": {
      "image/png": "[encoded data removed]",
      "text/plain": [
       "<Figure size 432x288 with 1 Axes>"
      ]
     },
     "metadata": {},
     "output_type": "display_data"
    }
   ],
   "source": [
    "mp.plot(SOILWATER_dry_diffs_rollingmean)"
   ]
  },
  {
   "cell_type": "code",
   "execution_count": 282,
   "metadata": {
    "ExecuteTime": {
     "end_time": "2018-11-06T01:18:49.688388Z",
     "start_time": "2018-11-06T01:18:49.470280Z"
    }
   },
   "outputs": [
    {
     "data": {
      "text/plain": [
       "([<matplotlib.axis.XTick at 0x2b105b855fd0>,\n",
       "  <matplotlib.axis.XTick at 0x2b105b855908>,\n",
       "  <matplotlib.axis.XTick at 0x2b105b855da0>,\n",
       "  <matplotlib.axis.XTick at 0x2b105a53eba8>,\n",
       "  <matplotlib.axis.XTick at 0x2b105a53e320>,\n",
       "  <matplotlib.axis.XTick at 0x2b106057a550>,\n",
       "  <matplotlib.axis.XTick at 0x2b106057add8>,\n",
       "  <matplotlib.axis.XTick at 0x2b106057ab00>,\n",
       "  <matplotlib.axis.XTick at 0x2b0ebd675f98>,\n",
       "  <matplotlib.axis.XTick at 0x2b0ebd6759e8>,\n",
       "  <matplotlib.axis.XTick at 0x2b1060bf0860>],\n",
       " <a list of 11 Text xticklabel objects>)"
      ]
     },
     "execution_count": 282,
     "metadata": {},
     "output_type": "execute_result"
    },
    {
     "data": {
      "image/png": "[encoded data removed]",
      "text/plain": [
       "<Figure size 432x288 with 1 Axes>"
      ]
     },
     "metadata": {},
     "output_type": "display_data"
    }
   ],
   "source": [
    "mp.plot(PRECT_dry_diffs_rollingmean)\n",
    "mp.xticks([i for i in range(0,365*11,365)])"
   ]
  },
  {
   "cell_type": "code",
   "execution_count": null,
   "metadata": {},
   "outputs": [],
   "source": []
  },
  {
   "cell_type": "code",
   "execution_count": null,
   "metadata": {},
   "outputs": [],
   "source": []
  },
  {
   "cell_type": "code",
   "execution_count": null,
   "metadata": {},
   "outputs": [],
   "source": []
  },
  {
   "cell_type": "code",
   "execution_count": null,
   "metadata": {},
   "outputs": [],
   "source": []
  },
  {
   "cell_type": "markdown",
   "metadata": {},
   "source": [
    "# wrf 50km runs"
   ]
  },
  {
   "cell_type": "markdown",
   "metadata": {},
   "source": [
    "## 400 data"
   ]
  },
  {
   "cell_type": "code",
   "execution_count": null,
   "metadata": {
    "ExecuteTime": {
     "end_time": "2018-08-27T21:53:34.127522Z",
     "start_time": "2018-08-27T21:53:29.643724Z"
    }
   },
   "outputs": [],
   "source": [
    "root_dir = '/beegfs/DATA/pritchard/blangenb/WRF_ARCHIVE/CHEYENNE/FMAASO/400/ens_mean_wrfout_files'\n",
    "file_list = glob.glob(root_dir+'/'+'wrfout*.nc')\n",
    "ds_list = [netCDF4.Dataset(file) for file in file_list]"
   ]
  },
  {
   "cell_type": "code",
   "execution_count": null,
   "metadata": {
    "ExecuteTime": {
     "end_time": "2018-08-27T21:55:49.828068Z",
     "start_time": "2018-08-27T21:53:34.220651Z"
    }
   },
   "outputs": [],
   "source": [
    "cont_mfds = xarray.open_mfdataset(root_dir + '/' + 'wrfout*.nc')"
   ]
  },
  {
   "cell_type": "code",
   "execution_count": null,
   "metadata": {
    "ExecuteTime": {
     "end_time": "2018-08-27T21:55:51.119459Z",
     "start_time": "2018-08-27T21:55:49.830535Z"
    }
   },
   "outputs": [],
   "source": [
    "rainc_400 = cont_mfds['RAINC'].values\n",
    "rainnc_400 = cont_mfds['RAINNC'].values"
   ]
  },
  {
   "cell_type": "code",
   "execution_count": null,
   "metadata": {
    "ExecuteTime": {
     "end_time": "2018-08-27T21:55:52.684620Z",
     "start_time": "2018-08-27T21:55:51.121980Z"
    }
   },
   "outputs": [],
   "source": [
    "xlat = cont_mfds['XLAT'].values[0,:,:]\n",
    "xlong = cont_mfds['XLONG'].values[0,:,:]\n",
    "landmask = cont_mfds['LANDMASK'].values[0,:,:]\n",
    "landmask_midpoints = landmask[1:,1:]"
   ]
  },
  {
   "cell_type": "code",
   "execution_count": null,
   "metadata": {
    "ExecuteTime": {
     "end_time": "2018-08-27T21:55:52.727129Z",
     "start_time": "2018-08-27T21:55:52.686402Z"
    }
   },
   "outputs": [],
   "source": [
    "xlat_indices = (xlat>=-10)&(xlat<=10.)"
   ]
  },
  {
   "cell_type": "code",
   "execution_count": null,
   "metadata": {
    "ExecuteTime": {
     "end_time": "2018-08-27T21:55:53.263110Z",
     "start_time": "2018-08-27T21:55:52.729430Z"
    }
   },
   "outputs": [],
   "source": [
    "hgt_50km = cont_mfds['HGT'].sel(Time=0).values"
   ]
  },
  {
   "cell_type": "code",
   "execution_count": null,
   "metadata": {
    "ExecuteTime": {
     "end_time": "2018-08-27T21:55:53.357194Z",
     "start_time": "2018-08-27T21:55:53.265170Z"
    }
   },
   "outputs": [],
   "source": [
    "hgt_50km_landmask = numpy.copy(hgt_50km)\n",
    "hgt_50km_landmask[landmask==0] = numpy.nan\n",
    "\n",
    "hgt_50km_landmask_lat_subset = hgt_50km_landmask[xlat_indices[:,0],:]\n",
    "hgt_50km_latmean = numpy.nanmean(hgt_50km_landmask_lat_subset, axis=0)"
   ]
  },
  {
   "cell_type": "markdown",
   "metadata": {},
   "source": [
    "## 1000 data"
   ]
  },
  {
   "cell_type": "code",
   "execution_count": null,
   "metadata": {
    "ExecuteTime": {
     "end_time": "2018-08-27T21:55:53.558318Z",
     "start_time": "2018-08-27T21:55:53.380154Z"
    }
   },
   "outputs": [],
   "source": [
    "root_dir = '/beegfs/DATA/pritchard/blangenb/WRF_ARCHIVE/CHEYENNE/FMAASO/1000/ens_mean_wrfout_files'\n",
    "file_list = glob.glob(root_dir+'/'+'wrfout*.nc')\n",
    "ds_list = [netCDF4.Dataset(file) for file in file_list]"
   ]
  },
  {
   "cell_type": "code",
   "execution_count": null,
   "metadata": {
    "ExecuteTime": {
     "end_time": "2018-08-27T21:55:56.226042Z",
     "start_time": "2018-08-27T21:55:53.560533Z"
    }
   },
   "outputs": [],
   "source": [
    "phys_mfds = xarray.open_mfdataset(root_dir + '/' + 'wrfout*.nc')"
   ]
  },
  {
   "cell_type": "code",
   "execution_count": null,
   "metadata": {
    "ExecuteTime": {
     "end_time": "2018-08-27T21:55:57.269364Z",
     "start_time": "2018-08-27T21:55:56.228150Z"
    }
   },
   "outputs": [],
   "source": [
    "rainc_1000 = phys_mfds['RAINC'].values\n",
    "rainnc_1000 = phys_mfds['RAINNC'].values"
   ]
  },
  {
   "cell_type": "markdown",
   "metadata": {},
   "source": [
    "## calculate WRF differences"
   ]
  },
  {
   "cell_type": "code",
   "execution_count": null,
   "metadata": {
    "ExecuteTime": {
     "end_time": "2018-08-27T21:55:57.880251Z",
     "start_time": "2018-08-27T21:55:57.282286Z"
    }
   },
   "outputs": [],
   "source": [
    "raintot_400 = rainc_400+rainnc_400\n",
    "raintot_1000 = rainc_1000+rainnc_1000\n",
    "\n",
    "raintot_400_diff = numpy.zeros((raintot_400.shape))*numpy.nan\n",
    "raintot_400_diff[:-1,:,:] = numpy.diff(raintot_400, axis=0)#*(24./3) # convert to mm/day\n",
    "\n",
    "raintot_1000_diff = numpy.zeros((raintot_1000.shape))*numpy.nan\n",
    "raintot_1000_diff[:-1,:,:] = numpy.diff(raintot_1000, axis=0)#*(24./3) # convert to mm/day\n",
    "\n",
    "# monthly mean\n",
    "raintot_diffs_time_mean = numpy.nanmean(raintot_1000_diff[skip_time:,:,:] - raintot_400_diff[skip_time:,:,:], axis=0)\n",
    "raintot_diffs_time_mean_landmask = numpy.copy(raintot_diffs_time_mean)\n",
    "raintot_diffs_time_mean_landmask[landmask==0] = numpy.nan\n",
    "\n",
    "raintot_400_time_mean = numpy.nanmean(raintot_400_diff[skip_time:,:,:], axis=0)\n",
    "raintot_400_time_mean_landmask = numpy.copy(raintot_400_time_mean)\n",
    "raintot_400_time_mean_landmask[landmask==0] = numpy.nan\n"
   ]
  },
  {
   "cell_type": "code",
   "execution_count": null,
   "metadata": {
    "ExecuteTime": {
     "end_time": "2018-08-27T21:55:57.913900Z",
     "start_time": "2018-08-27T21:55:57.891885Z"
    }
   },
   "outputs": [],
   "source": [
    "day1_start_hour = 10 #6am = 10:00 because of the time offset\n",
    "day1_end_hour = 24 #8pm = 24:00 because of time offset\n",
    "raintot_diffs_time_mean_day1 = numpy.nanmean(raintot_1000_diff[day1_start_hour:day1_end_hour+1,:,:] - raintot_400_diff[day1_start_hour:day1_end_hour+1,:,:], axis=0)\n",
    "raintot_diffs_time_mean_day1_landmask = numpy.copy(raintot_diffs_time_mean_day1)\n",
    "raintot_diffs_time_mean_day1_landmask[landmask==0] = numpy.nan"
   ]
  },
  {
   "cell_type": "markdown",
   "metadata": {},
   "source": [
    "# import WRF 2km days 2-10"
   ]
  },
  {
   "cell_type": "code",
   "execution_count": null,
   "metadata": {
    "ExecuteTime": {
     "end_time": "2018-08-27T21:56:08.709962Z",
     "start_time": "2018-08-27T21:55:57.916172Z"
    }
   },
   "outputs": [],
   "source": [
    "data_dir = '/beegfs/DATA/pritchard/blangenb/WRF_ARCHIVE/CHEYENNE/nested_FMAASO_10days/400/001/'\n",
    "cont_mfds_2km = xarray.open_mfdataset(data_dir + 'wrfout_d03_1979-01-0[2,3,4,5,6,7,8,9]*')"
   ]
  },
  {
   "cell_type": "code",
   "execution_count": null,
   "metadata": {
    "ExecuteTime": {
     "end_time": "2018-08-27T21:56:18.786839Z",
     "start_time": "2018-08-27T21:56:08.730999Z"
    }
   },
   "outputs": [],
   "source": [
    "data_dir = '/beegfs/DATA/pritchard/blangenb/WRF_ARCHIVE/CHEYENNE/nested_FMAASO_10days/1000/001/'\n",
    "phys_mfds_2km = xarray.open_mfdataset(data_dir + 'wrfout_d03_1979-01-0[2,3,4,5,6,7,8,9]*')"
   ]
  },
  {
   "cell_type": "code",
   "execution_count": null,
   "metadata": {
    "ExecuteTime": {
     "end_time": "2018-08-27T21:56:18.792718Z",
     "start_time": "2018-08-27T21:56:18.788920Z"
    }
   },
   "outputs": [],
   "source": [
    "raintot_400_2km = cont_mfds_2km['RAINNC']\n",
    "raintot_1000_2km = phys_mfds_2km['RAINNC']"
   ]
  },
  {
   "cell_type": "code",
   "execution_count": null,
   "metadata": {
    "ExecuteTime": {
     "end_time": "2018-08-27T21:59:03.848327Z",
     "start_time": "2018-08-27T21:56:18.794366Z"
    }
   },
   "outputs": [],
   "source": [
    "raintot_400_2km_diffs = raintot_400_2km.diff(dim='Time').values\n",
    "raintot_1000_2km_diffs = raintot_1000_2km.diff(dim='Time').values"
   ]
  },
  {
   "cell_type": "code",
   "execution_count": null,
   "metadata": {
    "ExecuteTime": {
     "end_time": "2018-08-27T21:59:12.015854Z",
     "start_time": "2018-08-27T21:59:03.898752Z"
    }
   },
   "outputs": [],
   "source": [
    "raintot_400_2km_time_mean = numpy.nanmean(raintot_400_2km_diffs[skip_time:,:,:], axis=0)\n",
    "raintot_1000_2km_time_mean = numpy.nanmean(raintot_1000_2km_diffs[skip_time:,:,:], axis=0)\n",
    "\n",
    "raintot_diffs_2km_time_mean = raintot_1000_2km_time_mean-raintot_400_2km_time_mean"
   ]
  },
  {
   "cell_type": "code",
   "execution_count": null,
   "metadata": {
    "ExecuteTime": {
     "end_time": "2018-08-27T22:00:29.388763Z",
     "start_time": "2018-08-27T21:59:12.036085Z"
    }
   },
   "outputs": [],
   "source": [
    "landmask_2km = cont_mfds_2km['LANDMASK'].values[0,:,:]"
   ]
  },
  {
   "cell_type": "code",
   "execution_count": null,
   "metadata": {
    "ExecuteTime": {
     "end_time": "2018-08-27T22:00:29.529308Z",
     "start_time": "2018-08-27T22:00:29.474800Z"
    }
   },
   "outputs": [],
   "source": [
    "raintot_diffs_2km_time_mean_landmask = numpy.copy(raintot_diffs_2km_time_mean)\n",
    "raintot_diffs_2km_time_mean_landmask[landmask_2km==0] = numpy.nan"
   ]
  },
  {
   "cell_type": "code",
   "execution_count": null,
   "metadata": {
    "ExecuteTime": {
     "end_time": "2018-08-27T22:00:29.808641Z",
     "start_time": "2018-08-27T22:00:29.531648Z"
    }
   },
   "outputs": [],
   "source": [
    "landmask_2km.shape"
   ]
  },
  {
   "cell_type": "code",
   "execution_count": null,
   "metadata": {
    "ExecuteTime": {
     "end_time": "2018-08-28T02:37:04.661846Z",
     "start_time": "2018-08-28T02:37:03.796872Z"
    }
   },
   "outputs": [],
   "source": [
    "xlat_2km = cont_mfds_2km['XLAT'].isel(Time=0).values[:,:]\n",
    "xlong_2km = cont_mfds_2km['XLONG'].isel(Time=0).values[:,:]"
   ]
  },
  {
   "cell_type": "code",
   "execution_count": null,
   "metadata": {
    "ExecuteTime": {
     "end_time": "2018-08-28T02:37:06.354237Z",
     "start_time": "2018-08-28T02:37:05.759400Z"
    }
   },
   "outputs": [],
   "source": [
    "hgt_2km = cont_mfds_2km['HGT'].sel(Time=0).values"
   ]
  },
  {
   "cell_type": "code",
   "execution_count": null,
   "metadata": {
    "ExecuteTime": {
     "end_time": "2018-08-28T02:37:07.155603Z",
     "start_time": "2018-08-28T02:37:07.092097Z"
    }
   },
   "outputs": [],
   "source": [
    "hgt_2km_landmask = numpy.copy(hgt_2km)\n",
    "hgt_2km_landmask[landmask_2km==0] = numpy.nan\n",
    "hgt_2km_latmean = numpy.nanmean(hgt_2km_landmask, axis=0)"
   ]
  },
  {
   "cell_type": "markdown",
   "metadata": {},
   "source": [
    "# import WRF 2km day 1"
   ]
  },
  {
   "cell_type": "raw",
   "metadata": {
    "ExecuteTime": {
     "end_time": "2018-06-12T17:13:30.990430Z",
     "start_time": "2018-06-12T17:13:23.169426Z"
    }
   },
   "source": [
    "data_dir = '/beegfs/DATA/pritchard/blangenb/WRF_ARCHIVE/CHEYENNE/nested_FMAASO_10days/400/001/'\n",
    "cont_mfds_2km_day1 = xarray.open_mfdataset(data_dir + 'wrfout_d03_1979-01-01*')"
   ]
  },
  {
   "cell_type": "raw",
   "metadata": {
    "ExecuteTime": {
     "end_time": "2018-06-12T17:14:01.431700Z",
     "start_time": "2018-06-12T17:13:53.705612Z"
    }
   },
   "source": [
    "data_dir = '/beegfs/DATA/pritchard/blangenb/WRF_ARCHIVE/CHEYENNE/nested_FMAASO_10days/1000/001/'\n",
    "phys_mfds_2km_day1 = xarray.open_mfdataset(data_dir + 'wrfout_d03_1979-01-01*')"
   ]
  },
  {
   "cell_type": "raw",
   "metadata": {
    "ExecuteTime": {
     "end_time": "2018-06-12T17:14:26.476781Z",
     "start_time": "2018-06-12T17:14:26.434436Z"
    }
   },
   "source": [
    "raintot_400_2km_day1 = cont_mfds_2km_day1['RAINNC']\n",
    "raintot_1000_2km_day1 = phys_mfds_2km_day1['RAINNC']"
   ]
  },
  {
   "cell_type": "raw",
   "metadata": {
    "ExecuteTime": {
     "end_time": "2018-06-12T17:14:52.558781Z",
     "start_time": "2018-06-12T17:14:52.439418Z"
    }
   },
   "source": [
    "raintot_400_2km_day1_diffs = raintot_400_2km_day1.diff(dim='Time')#.values\n",
    "raintot_1000_2km_day1_diffs = raintot_400_2km_day1.diff(dim='Time')#.values"
   ]
  },
  {
   "cell_type": "raw",
   "metadata": {
    "ExecuteTime": {
     "end_time": "2018-06-12T17:20:51.926434Z",
     "start_time": "2018-06-12T17:20:51.868990Z"
    }
   },
   "source": [
    "raintot_400_2km_day1_diffs_time_mean = raintot_400_2km_day1_diffs.mean(dim='Time')\n",
    "raintot_1000_2km_day1_diffs_time_mean = raintot_400_2km_day1_diffs.mean(dim='Time')"
   ]
  },
  {
   "cell_type": "markdown",
   "metadata": {},
   "source": [
    "# create plots"
   ]
  },
  {
   "cell_type": "markdown",
   "metadata": {},
   "source": [
    "# calculate lat means"
   ]
  },
  {
   "cell_type": "code",
   "execution_count": null,
   "metadata": {
    "ExecuteTime": {
     "end_time": "2018-08-28T02:37:11.200747Z",
     "start_time": "2018-08-28T02:37:11.186030Z"
    }
   },
   "outputs": [],
   "source": [
    "raintot_diffs_2km_latmean = numpy.nanmean(raintot_diffs_2km_time_mean, axis=0)"
   ]
  },
  {
   "cell_type": "code",
   "execution_count": null,
   "metadata": {
    "ExecuteTime": {
     "end_time": "2018-08-28T02:37:11.489769Z",
     "start_time": "2018-08-28T02:37:11.474943Z"
    }
   },
   "outputs": [],
   "source": [
    "raintot_diffs_time_mean_landmask.shape"
   ]
  },
  {
   "cell_type": "code",
   "execution_count": null,
   "metadata": {
    "ExecuteTime": {
     "end_time": "2018-08-28T02:37:11.894015Z",
     "start_time": "2018-08-28T02:37:11.757487Z"
    }
   },
   "outputs": [],
   "source": [
    "raintot_diffs_latmean = numpy.nanmean(raintot_diffs_time_mean_landmask[(xlat[:,0]>=-10)&(xlat[:,0]<=10),:], axis=0)\n",
    "raintot_diffs_latmean_day1 = numpy.nanmean(raintot_diffs_time_mean_day1_landmask[(xlat[:,0]>=-10)&(xlat[:,0]<=10),:], axis=0)\n",
    "raintot_diffs_2km_latmean = numpy.nanmean(raintot_diffs_2km_time_mean, axis=0)\n",
    "PRECT_diffs_10day_latmean = numpy.nanmean(PRECT_diffs_10day[lat_indices,:], axis=0)\n",
    "PRECT_diffs_30day_latmean = numpy.nanmean(PRECT_diffs_30day[lat_indices,:], axis=0)\n",
    "PRECT_diffs_10year_latmean = numpy.nanmean(PRECT_diffs_10year[lat_indices,:], axis=0)"
   ]
  },
  {
   "cell_type": "markdown",
   "metadata": {},
   "source": [
    "calculate stdevs"
   ]
  },
  {
   "cell_type": "code",
   "execution_count": null,
   "metadata": {
    "ExecuteTime": {
     "end_time": "2018-08-28T02:37:12.779088Z",
     "start_time": "2018-08-28T02:37:12.627233Z"
    }
   },
   "outputs": [],
   "source": [
    "raintot_diffs_latstd = numpy.nanstd(raintot_diffs_time_mean_landmask[(xlat[:,0]>=-10)&(xlat[:,0]<=10),:], axis=0, ddof=1)\n",
    "raintot_diffs_day1_latstd = numpy.nanstd(raintot_diffs_time_mean_day1_landmask[(xlat[:,0]>=-10)&(xlat[:,0]<=10),:], axis=0, ddof=1)\n",
    "raintot_diffs_2km_latstd = numpy.nanstd(raintot_diffs_2km_time_mean, axis=0, ddof=1)\n",
    "PRECT_diffs_10day_latstd = numpy.nanstd(PRECT_diffs_10day[lat_indices,:], axis=0, ddof=1)\n",
    "PRECT_diffs_30day_latstd = numpy.nanstd(PRECT_diffs_30day[lat_indices,:], axis=0, ddof=1)\n",
    "PRECT_diffs_10year_latstd = numpy.nanstd(PRECT_diffs_10year[lat_indices,:], axis=0, ddof=1)\n",
    "\n"
   ]
  },
  {
   "cell_type": "markdown",
   "metadata": {},
   "source": [
    "calculate stderr"
   ]
  },
  {
   "cell_type": "code",
   "execution_count": null,
   "metadata": {
    "ExecuteTime": {
     "end_time": "2018-08-28T02:37:13.439358Z",
     "start_time": "2018-08-28T02:37:13.408191Z"
    }
   },
   "outputs": [],
   "source": [
    "raintot_diffs_latstderr = raintot_diffs_latstd/numpy.sqrt(xlat[:,0].size)\n",
    "raintot_diffs_day1_latstderr = raintot_diffs_day1_latstd/numpy.sqrt(xlat[:,0].size)\n",
    "raintot_diffs_2km_latstderr = raintot_diffs_2km_latstd/numpy.sqrt(xlat_2km[:,0].size)\n",
    "PRECT_diffs_10day_latstderr = PRECT_diffs_10day_latstd/numpy.sqrt(lat_subset.size)\n",
    "PRECT_diffs_30day_latstderr = PRECT_diffs_30day_latstd/numpy.sqrt(lat_subset.size)\n",
    "PRECT_diffs_10year_latstderr = PRECT_diffs_10year_latstd/numpy.sqrt(lat_subset.size)\n",
    "\n"
   ]
  },
  {
   "cell_type": "code",
   "execution_count": null,
   "metadata": {
    "ExecuteTime": {
     "end_time": "2018-08-28T02:37:16.659379Z",
     "start_time": "2018-08-28T02:37:13.737053Z"
    }
   },
   "outputs": [],
   "source": [
    "raintot_diffs_latmean_smooth = pandas.Series(raintot_diffs_latmean).rolling(window=3, center=True, min_periods=0).mean()\n",
    "raintot_diffs_latmean_smooth_day1 = pandas.Series(raintot_diffs_latmean_day1).rolling(window=3, center=True, min_periods=0).mean()\n",
    "\n",
    "raintot_diffs_2km_latmean_smooth = pandas.Series(raintot_diffs_2km_latmean).rolling(window=75, center=True, min_periods=0).mean()\n",
    "PRECT_diffs_10day_latmean_smooth = pandas.Series(PRECT_diffs_10day_latmean).rolling(window=3, center=True, min_periods=0).mean()\n",
    "\n"
   ]
  },
  {
   "cell_type": "code",
   "execution_count": null,
   "metadata": {
    "ExecuteTime": {
     "end_time": "2018-08-28T02:37:16.666468Z",
     "start_time": "2018-08-28T02:37:16.661496Z"
    }
   },
   "outputs": [],
   "source": [
    "raintot_diffs_latstd_smooth = pandas.Series(raintot_diffs_latstd).rolling(window=3, center=True, min_periods=0).std(ddof=1)\n",
    "raintot_diffs_2km_latstd_smooth = pandas.Series(raintot_diffs_2km_latstd).rolling(window=75, center=True, min_periods=0).std(ddof=1)\n",
    "\n"
   ]
  },
  {
   "cell_type": "markdown",
   "metadata": {},
   "source": [
    "## yes error bars"
   ]
  },
  {
   "cell_type": "code",
   "execution_count": null,
   "metadata": {
    "ExecuteTime": {
     "end_time": "2018-08-28T02:37:25.606241Z",
     "start_time": "2018-08-28T02:37:19.859418Z"
    }
   },
   "outputs": [],
   "source": [
    "colors = [cmocean.cm.thermal(0.3),\\\n",
    "          cmocean.cm.thermal(0.4),\\\n",
    "          cmocean.cm.thermal(0.5),\\\n",
    "          cmocean.cm.thermal(0.6),\\\n",
    "          cmocean.cm.thermal(0.7)]\n",
    "\n",
    "fontsize = 12\n",
    "\n",
    "fig = mp.figure(figsize=(4.25,5.5))\n",
    "\n",
    "ymax = 1920.6472595214843\n",
    "##################################################\n",
    "ax1 = fig.add_subplot(511)\n",
    "ax1.plot(xlong[0,:]+360.,\\\n",
    "         raintot_diffs_latmean_smooth*24., \\\n",
    "         color=colors[0],\\\n",
    "         label='days 2-10')\n",
    "\n",
    "ax1.plot(xlong[0,:]+360.,\\\n",
    "         raintot_diffs_latmean_smooth_day1*24., \\\n",
    "         color=colors[0],\\\n",
    "         label='day 1', ls='--')\n",
    "\n",
    "ax1topo = ax1.twinx()\n",
    "ax1topo.fill_between(xlong[0,:]+360., \\\n",
    "                     numpy.zeros(hgt_50km_latmean.size), \\\n",
    "                     hgt_50km_latmean, \\\n",
    "                     facecolor='0', alpha=0.25)\n",
    "y0,y1 = ax1topo.get_ylim()\n",
    "ax1topo.set_ylim(0,ymax)\n",
    "ax1topo.axis('off')\n",
    "\n",
    "ax1.fill_between(xlong[0,:]+360., \\\n",
    "                (raintot_diffs_latmean_smooth-1.96*raintot_diffs_latstderr)*24.,\\\n",
    "                (raintot_diffs_latmean_smooth+1.96*raintot_diffs_latstderr)*24.,\\\n",
    "                facecolor=colors[0], alpha=0.333)\n",
    "\n",
    "\n",
    "ax1.fill_between(xlong[0,:]+360., \\\n",
    "                (raintot_diffs_latmean_smooth_day1-1.96*raintot_diffs_day1_latstderr)*24.,\\\n",
    "                (raintot_diffs_latmean_smooth_day1+1.96*raintot_diffs_day1_latstderr)*24.,\\\n",
    "                facecolor=colors[0], alpha=0.333)\n",
    "\n",
    "##################################################\n",
    "xvals = xlong_2km[0,:]+360.\n",
    "yvals = raintot_diffs_2km_latmean_smooth*24.\n",
    "f = scipy.interpolate.interp1d(xvals, yvals, kind='cubic')\n",
    "xvals_interp = numpy.linspace(xvals.min(), xvals.max(), 1000)\n",
    "yvals_interp = f(xvals_interp)\n",
    "ax2 = fig.add_subplot(512)\n",
    "ax2.plot(xvals_interp,\\\n",
    "        yvals_interp, \\\n",
    "        color=colors[1],\\\n",
    "        label='WRF 2-km 10d')\n",
    "\n",
    "ax2topo = ax2.twinx()\n",
    "ax2topo.fill_between(xlong_2km[0,:]+360., \\\n",
    "                     numpy.zeros(hgt_2km_latmean.size), \\\n",
    "                     hgt_2km_latmean, \\\n",
    "                     facecolor='0', alpha=0.25)\n",
    "ax2topo.set_ylim(0,ymax)\n",
    "ax2topo.axis('off')\n",
    "\n",
    "yvals = raintot_diffs_2km_latstderr*24.\n",
    "f = scipy.interpolate.interp1d(xvals, yvals, kind='cubic')\n",
    "yvals_interp_error = f(xvals_interp)\n",
    "ax2.fill_between(xvals_interp, \\\n",
    "                (yvals_interp-1.96*yvals_interp_error),\\\n",
    "                (yvals_interp+1.96*yvals_interp_error),\\\n",
    "                facecolor=colors[1], alpha=0.333)\n",
    "\n",
    "##################################################\n",
    "xvals = lon_subset\n",
    "yvals = PRECT_diffs_10day_latmean*86400.*1000.\n",
    "f = scipy.interpolate.interp1d(xvals, pandas.Series(yvals).interpolate().values, kind='cubic')\n",
    "xvals_interp = numpy.linspace(277.5, 325., 100)\n",
    "yvals_interp = f(xvals_interp)\n",
    "ax3 = fig.add_subplot(513)\n",
    "ax3.plot(xvals_interp,\\\n",
    "        yvals_interp, \\\n",
    "        color=colors[2],\\\n",
    "        label='CESM 2$\\degree$ 10d')\n",
    "\n",
    "yvals = PRECT_diffs_10day_latstderr*86400.*1000.\n",
    "f = scipy.interpolate.interp1d(xvals, pandas.Series(yvals).interpolate(limit_direction='both').values, kind='cubic')\n",
    "yvals_interp_error = f(xvals_interp)\n",
    "ax3.fill_between(xvals_interp, \\\n",
    "                (yvals_interp-1.96*yvals_interp_error),\\\n",
    "                (yvals_interp+1.96*yvals_interp_error),\\\n",
    "                facecolor=colors[2], alpha=0.333)\n",
    "\n",
    "ax3topo = ax3.twinx()\n",
    "yvals = topo_data_latmean\n",
    "f = scipy.interpolate.interp1d(xvals, pandas.Series(yvals).interpolate().values, kind='cubic')\n",
    "yvals_interp = f(xvals_interp)\n",
    "ax3topo.fill_between(xvals_interp, \\\n",
    "                     numpy.zeros(yvals_interp.size), \\\n",
    "                     yvals_interp, \\\n",
    "                     facecolor='0', alpha=0.25)\n",
    "ax3topo.set_ylim(0,ymax)\n",
    "ax3topo.axis('off')\n",
    "\n",
    "##################################################\n",
    "xvals = lon_subset\n",
    "yvals = PRECT_diffs_30day_latmean*86400.*1000.\n",
    "f = scipy.interpolate.interp1d(xvals, pandas.Series(yvals).interpolate().values, kind='cubic')\n",
    "xvals_interp = numpy.linspace(277.5, 325., 100)\n",
    "yvals_interp = f(xvals_interp)\n",
    "ax4 = fig.add_subplot(514)\n",
    "ax4.plot(xvals_interp,\\\n",
    "        yvals_interp, \\\n",
    "        color=colors[3],\\\n",
    "        label='CESM 2$\\degree$ 30d')\n",
    "\n",
    "yvals = PRECT_diffs_30day_latstderr*86400.*1000.\n",
    "f = scipy.interpolate.interp1d(xvals, pandas.Series(yvals).interpolate(limit_direction='both').values, kind='cubic')\n",
    "yvals_interp_error = f(xvals_interp)\n",
    "ax4.fill_between(xvals_interp, \\\n",
    "                (yvals_interp-1.96*yvals_interp_error),\\\n",
    "                (yvals_interp+1.96*yvals_interp_error),\\\n",
    "                facecolor=colors[3], alpha=0.333)\n",
    "\n",
    "ax4topo = ax4.twinx()\n",
    "yvals = topo_data_latmean\n",
    "f = scipy.interpolate.interp1d(xvals, pandas.Series(yvals).interpolate().values, kind='cubic')\n",
    "yvals_interp = f(xvals_interp)\n",
    "ax4topo.fill_between(xvals_interp, \\\n",
    "                     numpy.zeros(yvals_interp.size), \\\n",
    "                     yvals_interp, \\\n",
    "                     facecolor='0', alpha=0.25)\n",
    "ax4topo.set_ylim(0,ymax)\n",
    "ax4topo.axis('off')\n",
    "\n",
    "##################################################\n",
    "xvals = lon_subset\n",
    "yvals = PRECT_diffs_10year_latmean*86400.*1000.\n",
    "f = scipy.interpolate.interp1d(xvals, pandas.Series(yvals).interpolate().values, kind='cubic')\n",
    "xvals_interp = numpy.linspace(277.5, 325., 100)\n",
    "yvals_interp = f(xvals_interp)\n",
    "ax5 = fig.add_subplot(515)\n",
    "ax5.plot(xvals_interp,\\\n",
    "       yvals_interp, \\\n",
    "       color=colors[4],\\\n",
    "       label='CESM 2$\\degree$ 10yr')\n",
    "\n",
    "yvals = PRECT_diffs_30day_latstderr*86400.*1000.\n",
    "f = scipy.interpolate.interp1d(xvals, pandas.Series(yvals).interpolate(limit_direction='both').values, kind='cubic')\n",
    "yvals_interp_error = f(xvals_interp)\n",
    "ax5.fill_between(xvals_interp, \\\n",
    "                (yvals_interp-1.96*yvals_interp_error),\\\n",
    "                (yvals_interp+1.96*yvals_interp_error),\\\n",
    "                facecolor=colors[4], alpha=0.333)\n",
    "\n",
    "ax5topo = ax5.twinx()\n",
    "yvals = topo_data_latmean\n",
    "f = scipy.interpolate.interp1d(xvals, pandas.Series(yvals).interpolate().values, kind='cubic')\n",
    "yvals_interp = f(xvals_interp)\n",
    "ax5topo.fill_between(xvals_interp, \\\n",
    "                     numpy.zeros(yvals_interp.size), \\\n",
    "                     yvals_interp, \\\n",
    "                     facecolor='0', alpha=0.25)\n",
    "ax5topo.set_ylim(0,ymax)\n",
    "ax5topo.axis('off')\n",
    "\n",
    "##################################################\n",
    "\n",
    "ax_list = [ax1,ax2,ax3,ax4,ax5]\n",
    "label_list = ['(a) WRF 50-km',\\\n",
    "              '(b) WRF 2-km 10d', \\\n",
    "              '(c) CESM 2$\\degree$ 10d', \\\n",
    "              '(d) CESM 2$\\degree$ 30d', \\\n",
    "              '(e) CESM 2$\\degree$ 10y']\n",
    "\n",
    "fig.tight_layout()#h_pad=0)\n",
    "fig.subplots_adjust(wspace=0, hspace=0)\n",
    "\n",
    "map_lat_lo = -10.\n",
    "map_lat_hi = 10.\n",
    "map_lon_lo = 278\n",
    "map_lon_hi = 325.5\n",
    "\n",
    "ax1.zorder=1\n",
    "ax2.zorder=1\n",
    "ax3.zorder=1\n",
    "ax4.zorder=1\n",
    "ax5.zorder=1\n",
    "\n",
    "ax1.set_facecolor('None')\n",
    "ax2.set_facecolor('None')\n",
    "ax3.set_facecolor('None')\n",
    "ax4.set_facecolor('None')\n",
    "ax5.set_facecolor('None')\n",
    "\n",
    "[ax.tick_params(labelsize=fontsize) for ax in ax_list]\n",
    "[ax.set_xticklabels(['','','']) for ax in ax_list]\n",
    "[ax.axhline(0, lw=1, ls='--', c='0.1') for ax in ax_list]\n",
    "#[ax.set_ylim(-1.8,1.8) for ax in ax_list]\n",
    "[ax.set_yticks([-1.,0,1.]) for ax in ax_list]\n",
    "[ax_list[i].yaxis.tick_right() for i in [1,3]]\n",
    "[ax.set_xlim(map_lon_lo, map_lon_hi) for ax in ax_list]\n",
    "[ax.xaxis.grid() for ax in ax_list]\n",
    "[ax.set_xticks([280,290,300.,310,320.]) for ax in ax_list]\n",
    "\n",
    "[ax_list[i].text(s=label_list[i], x=0.98, y=0.87,\\\n",
    "                 ha='right', va='top', \\\n",
    "                 fontsize=fontsize, \\\n",
    "                 color=colors[i], \\\n",
    "                 transform=ax_list[i].transAxes) for i in range(5)]\n",
    "\n",
    "ax1pos = ax1.get_position()\n",
    "ax4pos = ax4.get_position()\n",
    "ax5pos = ax5.get_position()\n",
    "fig.text(s='mm day$^{\\,-1}$', \\\n",
    "         x=0.05, y=ax5pos.y0+0.5*(ax1pos.y1-ax5pos.y0), \\\n",
    "         rotation=90, \\\n",
    "         transform=fig.transFigure, \\\n",
    "         va='center', \\\n",
    "         ha='right', \\\n",
    "         fontsize=fontsize)\n",
    "\n",
    "handles, labels = ax1.get_legend_handles_labels()\n",
    "ax1.legend(handles, labels, fontsize=fontsize, bbox_to_anchor=(0.275,0.98), \\\n",
    "          bbox_transform=ax1.transAxes, loc='upper left', borderaxespad=0, ncol=1, labelspacing=0.19, \\\n",
    "          fancybox=False, edgecolor='0', framealpha=0, borderpad=0.25, \\\n",
    "          handletextpad=0.5, handlelength=1.2)\n",
    "\n",
    "ax5.set_xlabel('longitude', fontsize=fontsize)\n",
    "ax5.set_xticklabels(['280$\\degree$E','','300$\\degree$E','','320$\\degree$E'])\n",
    "\n",
    "fig.savefig('../figures/MAIN_fig03.pdf', bbox_inches='tight', transparent=True)"
   ]
  },
  {
   "cell_type": "code",
   "execution_count": null,
   "metadata": {
    "ExecuteTime": {
     "end_time": "2018-08-28T03:09:59.740401Z",
     "start_time": "2018-08-28T03:09:58.620178Z"
    }
   },
   "outputs": [],
   "source": [
    "colors = [cmocean.cm.thermal(0.3),\\\n",
    "          cmocean.cm.thermal(0.4),\\\n",
    "          cmocean.cm.thermal(0.5),\\\n",
    "          cmocean.cm.thermal(0.6),\\\n",
    "          cmocean.cm.thermal(0.7)]\n",
    "\n",
    "fontsize = 12\n",
    "\n",
    "topo_color = '0.5'\n",
    "\n",
    "fig = mp.figure(figsize=(4.25,5.5))\n",
    "\n",
    "ymax = 3250.#1920.6472595214843\n",
    "##################################################\n",
    "ax1 = fig.add_subplot(511)\n",
    "ax1.plot(xlong[0,:]+360.,\\\n",
    "         raintot_diffs_latmean_smooth*24., \\\n",
    "         color=colors[0],\\\n",
    "         label='days 2-10')\n",
    "\n",
    "ax1.plot(xlong[0,:]+360.,\\\n",
    "         raintot_diffs_latmean_smooth_day1*24., \\\n",
    "         color=colors[0],\\\n",
    "         label='day 1', ls='--')\n",
    "\n",
    "ax1topo = ax1.twinx()\n",
    "ax1topo.fill_between(xlong[0,:]+360., \\\n",
    "                     numpy.zeros(hgt_50km_latmean.size), \\\n",
    "                     hgt_50km_latmean, \\\n",
    "                     facecolor='0', alpha=topo_color)\n",
    "y0,y1 = ax1topo.get_ylim()\n",
    "ax1topo.set_ylim(0,ymax)\n",
    "ax1topo.axis('off')\n",
    "\n",
    "ax1.fill_between(xlong[0,:]+360., \\\n",
    "                (raintot_diffs_latmean_smooth-1.96*raintot_diffs_latstderr)*24.,\\\n",
    "                (raintot_diffs_latmean_smooth+1.96*raintot_diffs_latstderr)*24.,\\\n",
    "                facecolor=colors[0], alpha=0.333)\n",
    "\n",
    "\n",
    "ax1.fill_between(xlong[0,:]+360., \\\n",
    "                (raintot_diffs_latmean_smooth_day1-1.96*raintot_diffs_day1_latstderr)*24.,\\\n",
    "                (raintot_diffs_latmean_smooth_day1+1.96*raintot_diffs_day1_latstderr)*24.,\\\n",
    "                facecolor=colors[0], alpha=0.333)\n",
    "\n",
    "##################################################\n",
    "xvals = xlong_2km[0,:]+360.\n",
    "yvals = raintot_diffs_2km_latmean_smooth*24.\n",
    "f = scipy.interpolate.interp1d(xvals, yvals, kind='cubic')\n",
    "xvals_interp = numpy.linspace(xvals.min(), xvals.max(), 1000)\n",
    "yvals_interp = f(xvals_interp)\n",
    "ax2 = fig.add_subplot(512)\n",
    "ax2.plot(xvals_interp,\\\n",
    "        yvals_interp, \\\n",
    "        color=colors[1],\\\n",
    "        label='WRF 2-km 10d')\n",
    "\n",
    "ax2topo = ax2.twinx()\n",
    "ax2topo.fill_between(xlong_2km[0,:]+360., \\\n",
    "                     numpy.zeros(hgt_2km_latmean.size), \\\n",
    "                     hgt_2km_latmean, \\\n",
    "                     facecolor='0', alpha=topo_color)\n",
    "ax2topo.set_ylim(0,ymax)\n",
    "ax2topo.axis('off')\n",
    "\n",
    "yvals = raintot_diffs_2km_latstderr*24.\n",
    "f = scipy.interpolate.interp1d(xvals, yvals, kind='cubic')\n",
    "yvals_interp_error = f(xvals_interp)\n",
    "ax2.fill_between(xvals_interp, \\\n",
    "                (yvals_interp-1.96*yvals_interp_error),\\\n",
    "                (yvals_interp+1.96*yvals_interp_error),\\\n",
    "                facecolor=colors[1], alpha=0.333)\n",
    "\n",
    "##################################################\n",
    "xvals = lon_subset\n",
    "yvals = PRECT_diffs_10day_latmean*86400.*1000.\n",
    "f = scipy.interpolate.interp1d(xvals, pandas.Series(yvals).interpolate().values, kind='cubic')\n",
    "xvals_interp = numpy.linspace(277.5, 325., 100)\n",
    "yvals_interp = f(xvals_interp)\n",
    "ax3 = fig.add_subplot(513)\n",
    "ax3.plot(xvals_interp,\\\n",
    "        yvals_interp, \\\n",
    "        color=colors[2],\\\n",
    "        label='CESM 2$\\degree$ 10d')\n",
    "\n",
    "yvals = PRECT_diffs_10day_latstderr*86400.*1000.\n",
    "f = scipy.interpolate.interp1d(xvals, pandas.Series(yvals).interpolate(limit_direction='both').values, kind='cubic')\n",
    "yvals_interp_error = f(xvals_interp)\n",
    "ax3.fill_between(xvals_interp, \\\n",
    "                (yvals_interp-1.96*yvals_interp_error),\\\n",
    "                (yvals_interp+1.96*yvals_interp_error),\\\n",
    "                facecolor=colors[2], alpha=0.333)\n",
    "\n",
    "ax3topo = ax3.twinx()\n",
    "yvals = topo_data_latmean\n",
    "f = scipy.interpolate.interp1d(xvals, pandas.Series(yvals).interpolate().values, kind='cubic')\n",
    "yvals_interp = f(xvals_interp)\n",
    "ax3topo.fill_between(xvals_interp, \\\n",
    "                     numpy.zeros(yvals_interp.size), \\\n",
    "                     yvals_interp, \\\n",
    "                     facecolor='0', alpha=topo_color)\n",
    "ax3topo.set_ylim(0,ymax)\n",
    "ax3topo.axis('off')\n",
    "\n",
    "##################################################\n",
    "xvals = lon_subset\n",
    "yvals = PRECT_diffs_30day_latmean*86400.*1000.\n",
    "f = scipy.interpolate.interp1d(xvals, pandas.Series(yvals).interpolate().values, kind='cubic')\n",
    "xvals_interp = numpy.linspace(277.5, 325., 100)\n",
    "yvals_interp = f(xvals_interp)\n",
    "ax4 = fig.add_subplot(514)\n",
    "ax4.plot(xvals_interp,\\\n",
    "        yvals_interp, \\\n",
    "        color=colors[3],\\\n",
    "        label='CESM 2$\\degree$ 30d')\n",
    "\n",
    "yvals = PRECT_diffs_30day_latstderr*86400.*1000.\n",
    "f = scipy.interpolate.interp1d(xvals, pandas.Series(yvals).interpolate(limit_direction='both').values, kind='cubic')\n",
    "yvals_interp_error = f(xvals_interp)\n",
    "ax4.fill_between(xvals_interp, \\\n",
    "                (yvals_interp-1.96*yvals_interp_error),\\\n",
    "                (yvals_interp+1.96*yvals_interp_error),\\\n",
    "                facecolor=colors[3], alpha=0.333)\n",
    "\n",
    "ax4topo = ax4.twinx()\n",
    "yvals = topo_data_latmean\n",
    "f = scipy.interpolate.interp1d(xvals, pandas.Series(yvals).interpolate().values, kind='cubic')\n",
    "yvals_interp = f(xvals_interp)\n",
    "ax4topo.fill_between(xvals_interp, \\\n",
    "                     numpy.zeros(yvals_interp.size), \\\n",
    "                     yvals_interp, \\\n",
    "                     facecolor='0', alpha=topo_color)\n",
    "ax4topo.set_ylim(0,ymax)\n",
    "ax4topo.axis('off')\n",
    "\n",
    "##################################################\n",
    "xvals = lon_subset\n",
    "yvals = PRECT_diffs_10year_latmean*86400.*1000.\n",
    "f = scipy.interpolate.interp1d(xvals, pandas.Series(yvals).interpolate().values, kind='cubic')\n",
    "xvals_interp = numpy.linspace(277.5, 325., 100)\n",
    "yvals_interp = f(xvals_interp)\n",
    "ax5 = fig.add_subplot(515)\n",
    "ax5.plot(xvals_interp,\\\n",
    "       yvals_interp, \\\n",
    "       color=colors[4],\\\n",
    "       label='CESM 2$\\degree$ 10yr')\n",
    "\n",
    "yvals = PRECT_diffs_30day_latstderr*86400.*1000.\n",
    "f = scipy.interpolate.interp1d(xvals, pandas.Series(yvals).interpolate(limit_direction='both').values, kind='cubic')\n",
    "yvals_interp_error = f(xvals_interp)\n",
    "ax5.fill_between(xvals_interp, \\\n",
    "                (yvals_interp-1.96*yvals_interp_error),\\\n",
    "                (yvals_interp+1.96*yvals_interp_error),\\\n",
    "                facecolor=colors[4], alpha=0.333)\n",
    "\n",
    "ax5topo = ax5.twinx()\n",
    "yvals = topo_data_latmean\n",
    "f = scipy.interpolate.interp1d(xvals, pandas.Series(yvals).interpolate().values, kind='cubic')\n",
    "yvals_interp = f(xvals_interp)\n",
    "ax5topo.fill_between(xvals_interp, \\\n",
    "                     numpy.zeros(yvals_interp.size), \\\n",
    "                     yvals_interp, \\\n",
    "                     facecolor='0', alpha=topo_color)\n",
    "ax5topo.set_ylim(0,ymax)\n",
    "ax5topo.axis('off')\n",
    "\n",
    "##################################################\n",
    "\n",
    "ax_list = [ax1,ax2,ax3,ax4,ax5]\n",
    "label_list = ['(a) WRF 50-km',\\\n",
    "              '(b) WRF 2-km 10d', \\\n",
    "              '(c) CESM 2$\\degree$ 10d', \\\n",
    "              '(d) CESM 2$\\degree$ 30d', \\\n",
    "              '(e) CESM 2$\\degree$ 10y']\n",
    "\n",
    "fig.tight_layout()#h_pad=0)\n",
    "fig.subplots_adjust(wspace=0, hspace=0)\n",
    "\n",
    "map_lat_lo = -10.\n",
    "map_lat_hi = 10.\n",
    "map_lon_lo = 278\n",
    "map_lon_hi = 325.5\n",
    "\n",
    "ax1.zorder=1\n",
    "ax2.zorder=1\n",
    "ax3.zorder=1\n",
    "ax4.zorder=1\n",
    "ax5.zorder=1\n",
    "\n",
    "ax1.set_facecolor('None')\n",
    "ax2.set_facecolor('None')\n",
    "ax3.set_facecolor('None')\n",
    "ax4.set_facecolor('None')\n",
    "ax5.set_facecolor('None')\n",
    "\n",
    "[ax.tick_params(labelsize=fontsize) for ax in ax_list]\n",
    "[ax.set_xticklabels(['','','']) for ax in ax_list]\n",
    "[ax.axhline(0, lw=1, ls='--', c='0.1') for ax in ax_list]\n",
    "#[ax.set_ylim(-1.8,1.8) for ax in ax_list]\n",
    "[ax.set_yticks([-1.,0,1.]) for ax in ax_list[:2]]\n",
    "[ax.set_yticks([-2.,0,2.]) for ax in ax_list[2:]]\n",
    "[ax_list[i].yaxis.tick_right() for i in [1,3]]\n",
    "[ax.set_xlim(map_lon_lo, map_lon_hi) for ax in ax_list]\n",
    "#[ax.set_xlim(274.5, 325.5) for ax in ax_list]\n",
    "#[ax.set_xlim(map_lon_lo, 322) for ax in ax_list]\n",
    "[ax.xaxis.grid() for ax in ax_list]\n",
    "[ax.set_xticks([280,290,300.,310,320.]) for ax in ax_list]\n",
    "\n",
    "[ax_list[i].text(s=label_list[i], x=0.98, y=0.87,\\\n",
    "                 ha='right', va='top', \\\n",
    "                 fontsize=fontsize, \\\n",
    "                 color=colors[i], \\\n",
    "                 transform=ax_list[i].transAxes) for i in range(5)]\n",
    "\n",
    "ax1pos = ax1.get_position()\n",
    "ax4pos = ax4.get_position()\n",
    "ax5pos = ax5.get_position()\n",
    "fig.text(s='mm day$^{\\,-1}$', \\\n",
    "         x=0.05, y=ax5pos.y0+0.5*(ax1pos.y1-ax5pos.y0), \\\n",
    "         rotation=90, \\\n",
    "         transform=fig.transFigure, \\\n",
    "         va='center', \\\n",
    "         ha='right', \\\n",
    "         fontsize=fontsize)\n",
    "\n",
    "handles, labels = ax1.get_legend_handles_labels()\n",
    "ax1.legend(handles, labels, fontsize=fontsize, bbox_to_anchor=(0.275,0.999), \\\n",
    "          bbox_transform=ax1.transAxes, loc='upper left', borderaxespad=0, ncol=1, labelspacing=0.05, \\\n",
    "          fancybox=False, edgecolor='0', framealpha=0, borderpad=0.25, \\\n",
    "          handletextpad=0.5, handlelength=1.2)\n",
    "\n",
    "ax5.set_xlabel('longitude', fontsize=fontsize)\n",
    "ax5.set_xticklabels(['280$\\degree$E','','300$\\degree$E','','320$\\degree$E'])\n",
    "\n",
    "ax1.set_ylim(-2.5,1.8)\n",
    "ax2.set_ylim(-2.5,1.8)\n",
    "ax3.set_ylim(-2.9,2.75)\n",
    "ax4.set_ylim(-2.9,2.75)\n",
    "ax5.set_ylim(-2.9,2.75)\n",
    "\n",
    "ax1.text(s='meridional mean precipitation change', x=0.5, y=1.075, \\\n",
    "         ha='center', va='bottom', \\\n",
    "         transform=ax1.transAxes, fontsize=fontsize)\n",
    "fig.savefig('../figures/MAIN_fig03.pdf', bbox_inches='tight', transparent=True)"
   ]
  }
 ],
 "metadata": {
  "kernelspec": {
   "display_name": "Python 3",
   "language": "python",
   "name": "python3"
  },
  "language_info": {
   "codemirror_mode": {
    "name": "ipython",
    "version": 3
   },
   "file_extension": ".py",
   "mimetype": "text/x-python",
   "name": "python",
   "nbconvert_exporter": "python",
   "pygments_lexer": "ipython3",
   "version": "3.6.5"
  },
  "varInspector": {
   "cols": {
    "lenName": 16,
    "lenType": 16,
    "lenVar": 40
   },
   "kernels_config": {
    "python": {
     "delete_cmd_postfix": "",
     "delete_cmd_prefix": "del ",
     "library": "var_list.py",
     "varRefreshCmd": "print(var_dic_list())"
    },
    "r": {
     "delete_cmd_postfix": ") ",
     "delete_cmd_prefix": "rm(",
     "library": "var_list.r",
     "varRefreshCmd": "cat(var_dic_list()) "
    }
   },
   "types_to_exclude": [
    "module",
    "function",
    "builtin_function_or_method",
    "instance",
    "_Feature"
   ],
   "window_display": false
  }
 },
 "nbformat": 4,
 "nbformat_minor": 2
}
