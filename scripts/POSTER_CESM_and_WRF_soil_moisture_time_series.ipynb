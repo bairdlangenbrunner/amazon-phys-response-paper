{
 "cells": [
  {
   "cell_type": "code",
   "execution_count": 1,
   "metadata": {
    "ExecuteTime": {
     "end_time": "2018-11-26T19:52:36.953764Z",
     "start_time": "2018-11-26T19:52:20.273319Z"
    }
   },
   "outputs": [],
   "source": [
    "import numpy\n",
    "import xarray\n",
    "import matplotlib\n",
    "import matplotlib.pyplot as mp\n",
    "import datetime\n",
    "import matplotlib.colors\n",
    "import scipy.stats\n",
    "import itertools\n",
    "import string\n",
    "import matplotlib.patches\n",
    "import netCDF4\n",
    "import cftime\n",
    "import seaborn\n",
    "import cmocean\n",
    "import matplotlib.gridspec\n",
    "import scipy.interpolate\n",
    "\n",
    "import glob\n",
    "import pandas\n",
    "\n",
    "import mpl_toolkits\n",
    "import cartopy\n",
    "\n",
    "DEGREE_SIGN = u'\\u00B0'\n",
    "mp.rcParams.update({'mathtext.default': 'regular'})"
   ]
  },
  {
   "cell_type": "code",
   "execution_count": 2,
   "metadata": {
    "ExecuteTime": {
     "end_time": "2018-11-26T19:52:36.966009Z",
     "start_time": "2018-11-26T19:52:36.959006Z"
    }
   },
   "outputs": [],
   "source": [
    "dry_lon_lo, dry_lon_hi, dry_lat_lo, dry_lat_hi = -60,-50,-7.5,10\n",
    "wet_lon_lo, wet_lon_hi, wet_lat_lo, wet_lat_hi = -80,-75,-7.5,10\n",
    "\n",
    "dry_lon_lo_degE = 360+dry_lon_lo\n",
    "dry_lon_hi_degE = 360+dry_lon_hi\n",
    "\n",
    "wet_lon_lo_degE = 360+wet_lon_lo\n",
    "wet_lon_hi_degE = 360+wet_lon_hi"
   ]
  },
  {
   "cell_type": "markdown",
   "metadata": {},
   "source": [
    "calculate latitude information"
   ]
  },
  {
   "cell_type": "code",
   "execution_count": 3,
   "metadata": {
    "ExecuteTime": {
     "end_time": "2018-11-26T19:52:37.039949Z",
     "start_time": "2018-11-26T19:52:36.970383Z"
    }
   },
   "outputs": [],
   "source": [
    "lat_lo_open = -35.\n",
    "lat_hi_open = 35.\n",
    "lat_lo = -10.\n",
    "lat_hi = 10.\n",
    "lon_lo = 270.\n",
    "lon_hi = 330."
   ]
  },
  {
   "cell_type": "markdown",
   "metadata": {},
   "source": [
    "# 10year simulations"
   ]
  },
  {
   "cell_type": "markdown",
   "metadata": {},
   "source": [
    "400 clm runs"
   ]
  },
  {
   "cell_type": "code",
   "execution_count": 4,
   "metadata": {
    "ExecuteTime": {
     "end_time": "2018-11-26T20:00:38.017931Z",
     "start_time": "2018-11-26T19:52:37.044530Z"
    }
   },
   "outputs": [],
   "source": [
    "data_dir = '/beegfs/DATA/pritchard/blangenb/CESM_ARCHIVE/B_1850_CAM5.10years.cam0400.clm0400/'\n",
    "cont_cam_mfds = xarray.open_mfdataset(data_dir + 'atm/hist/*.nc', decode_times=False, decode_cf=False, concat_dim='time')"
   ]
  },
  {
   "cell_type": "code",
   "execution_count": 5,
   "metadata": {
    "ExecuteTime": {
     "end_time": "2018-11-26T20:07:45.747011Z",
     "start_time": "2018-11-26T20:00:38.020924Z"
    }
   },
   "outputs": [],
   "source": [
    "root_dir = '/beegfs/DATA/pritchard/blangenb/CESM_ARCHIVE/B_1850_CAM5.10years.cam0400.clm0400/'\n",
    "file_list = sorted(glob.glob(root_dir+'lnd/hist/*.nc'))\n",
    "cont_clm_ds_list = [xarray.open_dataset(file, decode_times=False) for file in file_list]"
   ]
  },
  {
   "cell_type": "code",
   "execution_count": 6,
   "metadata": {
    "ExecuteTime": {
     "end_time": "2018-11-26T20:18:29.594558Z",
     "start_time": "2018-11-26T20:07:45.751815Z"
    }
   },
   "outputs": [],
   "source": [
    "SOILLIQ_400_list = [f['SOILLIQ'].values for f in cont_clm_ds_list]\n",
    "SOILWATER_400_list = [f['SOILWATER_10CM'].values for f in cont_clm_ds_list]"
   ]
  },
  {
   "cell_type": "markdown",
   "metadata": {},
   "source": [
    "get lat/lon info"
   ]
  },
  {
   "cell_type": "code",
   "execution_count": 7,
   "metadata": {
    "ExecuteTime": {
     "end_time": "2018-11-26T20:18:29.613117Z",
     "start_time": "2018-11-26T20:18:29.599245Z"
    }
   },
   "outputs": [],
   "source": [
    "lat = cont_clm_ds_list[0]['lat'].sel(lat=slice(lat_lo_open,lat_hi_open)).values\n",
    "lon = cont_clm_ds_list[0]['lon'].sel(lon=slice(lon_lo,lon_hi)).values\n",
    "\n",
    "lon_total = cont_clm_ds_list[0]['lon'].values\n",
    "lat_total = cont_clm_ds_list[0]['lat'].values\n",
    "\n",
    "lat_indices = (lat>=lat_lo)&(lat<=lat_hi)\n",
    "lat_indices_open = (lat>=lat_lo_open)&(lat<=lat_hi_open)\n",
    "lon_indices = (lon>=lon_lo)&(lon<=lon_hi)\n",
    "\n",
    "lat_subset = lat[lat_indices]\n",
    "lon_subset = lon[lon_indices]\n",
    "\n",
    "lat_subset_open = lat[lat_indices_open]"
   ]
  },
  {
   "cell_type": "markdown",
   "metadata": {},
   "source": [
    "get time info"
   ]
  },
  {
   "cell_type": "code",
   "execution_count": 8,
   "metadata": {
    "ExecuteTime": {
     "end_time": "2018-11-26T20:18:30.121659Z",
     "start_time": "2018-11-26T20:18:29.617255Z"
    }
   },
   "outputs": [],
   "source": [
    "time_400_list = [netCDF4.num2date(ds['time'].values, \\\n",
    "                                  ds['time'].units, \\\n",
    "                                  ds['time'].calendar) \\\n",
    "                 for ds in cont_clm_ds_list]"
   ]
  },
  {
   "cell_type": "code",
   "execution_count": 9,
   "metadata": {
    "ExecuteTime": {
     "end_time": "2018-11-26T20:18:30.282375Z",
     "start_time": "2018-11-26T20:18:30.126238Z"
    }
   },
   "outputs": [],
   "source": [
    "time_400_array = numpy.array([ t for sublist in time_400_list for t in sublist ])"
   ]
  },
  {
   "cell_type": "code",
   "execution_count": 10,
   "metadata": {
    "ExecuteTime": {
     "end_time": "2018-11-26T20:18:30.452555Z",
     "start_time": "2018-11-26T20:18:30.286992Z"
    }
   },
   "outputs": [],
   "source": [
    "time_400 = cont_cam_mfds['time']\n",
    "time_converted = netCDF4.num2date(time_400.values, time_400.units, time_400.calendar)\n",
    "\n",
    "time_manual = []\n",
    "for t_idx in range(time_converted.size):\n",
    "    year=time_converted[t_idx].year\n",
    "    month=time_converted[t_idx].month\n",
    "    day=time_converted[t_idx].day\n",
    "    hour=time_converted[t_idx].hour\n",
    "    minute=time_converted[t_idx].minute\n",
    "    hour_round = round(hour+minute/60)\n",
    "    time_manual.append(cftime.DatetimeNoLeap(year,month,day,hour_round))"
   ]
  },
  {
   "cell_type": "code",
   "execution_count": 11,
   "metadata": {
    "ExecuteTime": {
     "end_time": "2018-11-26T20:31:10.253586Z",
     "start_time": "2018-11-26T20:18:30.458505Z"
    }
   },
   "outputs": [],
   "source": [
    "LANDFRAC = cont_cam_mfds['LANDFRAC'].sel(lat=slice(lat_lo_open,lat_hi_open),lon=slice(lon_lo,lon_hi)).values[0,:,:]"
   ]
  },
  {
   "cell_type": "code",
   "execution_count": 12,
   "metadata": {
    "ExecuteTime": {
     "end_time": "2018-11-26T20:43:59.105371Z",
     "start_time": "2018-11-26T20:31:10.258600Z"
    }
   },
   "outputs": [],
   "source": [
    "PRECC_400_10y = cont_cam_mfds['PRECC'].sel(lat=slice(lat_lo_open,lat_hi_open),lon=slice(lon_lo,lon_hi)).values\n",
    "PRECL_400_10y = cont_cam_mfds['PRECL'].sel(lat=slice(lat_lo_open,lat_hi_open),lon=slice(lon_lo,lon_hi)).values\n",
    "PRECT_400_10y = PRECC_400_10y+PRECL_400_10y"
   ]
  },
  {
   "cell_type": "markdown",
   "metadata": {},
   "source": [
    "1000 clm runs"
   ]
  },
  {
   "cell_type": "code",
   "execution_count": 13,
   "metadata": {
    "ExecuteTime": {
     "end_time": "2018-11-26T20:46:01.221350Z",
     "start_time": "2018-11-26T20:43:59.110159Z"
    }
   },
   "outputs": [],
   "source": [
    "data_dir = '/beegfs/DATA/pritchard/blangenb/CESM_ARCHIVE/B_1850_CAM5.10years.cam0400.clm1000/'\n",
    "phys_cam_mfds = xarray.open_mfdataset(data_dir + 'atm/hist/*.nc', decode_times=False, parallel=True)"
   ]
  },
  {
   "cell_type": "code",
   "execution_count": 14,
   "metadata": {
    "ExecuteTime": {
     "end_time": "2018-11-26T20:50:23.759644Z",
     "start_time": "2018-11-26T20:46:01.223228Z"
    }
   },
   "outputs": [],
   "source": [
    "root_dir = '/beegfs/DATA/pritchard/blangenb/CESM_ARCHIVE/B_1850_CAM5.10years.cam0400.clm1000/'\n",
    "file_list = sorted(glob.glob(root_dir+'lnd/hist/*.nc'))\n",
    "phys_clm_ds_list = [xarray.open_dataset(file, decode_times=False) for file in file_list]"
   ]
  },
  {
   "cell_type": "code",
   "execution_count": 15,
   "metadata": {
    "ExecuteTime": {
     "end_time": "2018-11-26T20:50:23.770443Z",
     "start_time": "2018-11-26T20:50:23.764504Z"
    }
   },
   "outputs": [],
   "source": [
    "cesm_soil_levels = phys_clm_ds_list[0]['levgrnd'].values*100. # units: meters, change to centimeters"
   ]
  },
  {
   "cell_type": "code",
   "execution_count": 16,
   "metadata": {
    "ExecuteTime": {
     "end_time": "2018-11-26T20:58:06.100756Z",
     "start_time": "2018-11-26T20:50:23.775241Z"
    }
   },
   "outputs": [],
   "source": [
    "SOILLIQ_1000_list = [f['SOILLIQ'].values for f in phys_clm_ds_list]\n",
    "SOILWATER_1000_list = [f['SOILWATER_10CM'].values for f in phys_clm_ds_list]"
   ]
  },
  {
   "cell_type": "code",
   "execution_count": 17,
   "metadata": {
    "ExecuteTime": {
     "end_time": "2018-11-26T21:05:03.343538Z",
     "start_time": "2018-11-26T20:58:06.106150Z"
    }
   },
   "outputs": [],
   "source": [
    "PRECC_1000_10y = phys_cam_mfds['PRECC'].sel(lat=slice(lat_lo_open,lat_hi_open),lon=slice(lon_lo,lon_hi)).values\n",
    "PRECL_1000_10y = phys_cam_mfds['PRECL'].sel(lat=slice(lat_lo_open,lat_hi_open),lon=slice(lon_lo,lon_hi)).values\n",
    "PRECT_1000_10y = PRECC_1000_10y+PRECL_1000_10y"
   ]
  },
  {
   "cell_type": "raw",
   "metadata": {
    "ExecuteTime": {
     "end_time": "2018-11-20T07:07:57.521288Z",
     "start_time": "2018-11-20T07:07:57.380804Z"
    }
   },
   "source": [
    "phys_clm_ds_list[0]['ZSOI'].values"
   ]
  },
  {
   "cell_type": "raw",
   "metadata": {
    "ExecuteTime": {
     "end_time": "2018-11-20T07:07:57.537502Z",
     "start_time": "2018-11-20T07:07:57.523346Z"
    }
   },
   "source": [
    "phys_clm_ds_list[0]['SOILLIQ']"
   ]
  },
  {
   "cell_type": "markdown",
   "metadata": {},
   "source": [
    "take time averages"
   ]
  },
  {
   "cell_type": "code",
   "execution_count": 18,
   "metadata": {
    "ExecuteTime": {
     "end_time": "2018-11-26T21:05:03.346018Z",
     "start_time": "2018-11-26T19:52:20.478Z"
    }
   },
   "outputs": [],
   "source": [
    "PRECT_400_timemean_10year = numpy.mean(PRECT_400_10y, axis=0)\n",
    "PRECT_1000_timemean_10year = numpy.mean(PRECT_1000_10y, axis=0)"
   ]
  },
  {
   "cell_type": "code",
   "execution_count": 19,
   "metadata": {
    "ExecuteTime": {
     "end_time": "2018-11-26T21:05:03.348364Z",
     "start_time": "2018-11-26T19:52:20.482Z"
    }
   },
   "outputs": [],
   "source": [
    "PRECT_400_timemean_10year_landmask = numpy.copy(PRECT_400_timemean_10year)\n",
    "PRECT_1000_timemean_10year_landmask = numpy.copy(PRECT_1000_timemean_10year)\n",
    "\n",
    "PRECT_400_timemean_10year_landmask[LANDFRAC==0] = numpy.nan\n",
    "PRECT_1000_timemean_10year_landmask[LANDFRAC==0] = numpy.nan"
   ]
  },
  {
   "cell_type": "markdown",
   "metadata": {},
   "source": [
    "# calculate all cesm differences"
   ]
  },
  {
   "cell_type": "markdown",
   "metadata": {},
   "source": [
    "precip"
   ]
  },
  {
   "cell_type": "code",
   "execution_count": 20,
   "metadata": {
    "ExecuteTime": {
     "end_time": "2018-11-26T21:05:03.351162Z",
     "start_time": "2018-11-26T19:52:20.487Z"
    }
   },
   "outputs": [],
   "source": [
    "PRECT_diffs_10year = PRECT_1000_timemean_10year_landmask-PRECT_400_timemean_10year_landmask"
   ]
  },
  {
   "cell_type": "markdown",
   "metadata": {},
   "source": [
    "soil moisture"
   ]
  },
  {
   "cell_type": "code",
   "execution_count": 21,
   "metadata": {
    "ExecuteTime": {
     "end_time": "2018-11-26T21:05:03.354351Z",
     "start_time": "2018-11-26T19:52:20.491Z"
    }
   },
   "outputs": [],
   "source": [
    "SOILWATER_400 = numpy.concatenate(SOILWATER_400_list, axis=0)\n",
    "SOILWATER_1000 = numpy.concatenate(SOILWATER_1000_list, axis=0)"
   ]
  },
  {
   "cell_type": "code",
   "execution_count": 22,
   "metadata": {
    "ExecuteTime": {
     "end_time": "2018-11-26T21:05:03.357101Z",
     "start_time": "2018-11-26T19:52:20.495Z"
    }
   },
   "outputs": [],
   "source": [
    "SOILLIQ_400 = numpy.concatenate(SOILLIQ_400_list, axis=0)\n",
    "SOILLIQ_1000 = numpy.concatenate(SOILLIQ_1000_list, axis=0)"
   ]
  },
  {
   "cell_type": "code",
   "execution_count": 23,
   "metadata": {
    "ExecuteTime": {
     "end_time": "2018-11-26T21:05:03.359934Z",
     "start_time": "2018-11-26T19:52:20.499Z"
    }
   },
   "outputs": [
    {
     "name": "stderr",
     "output_type": "stream",
     "text": [
      "/export/home/blangenb/miniconda3/lib/python3.7/site-packages/ipykernel_launcher.py:1: RuntimeWarning: Mean of empty slice\n",
      "  \"\"\"Entry point for launching an IPython kernel.\n",
      "/export/home/blangenb/miniconda3/lib/python3.7/site-packages/ipykernel_launcher.py:2: RuntimeWarning: Mean of empty slice\n",
      "  \n"
     ]
    }
   ],
   "source": [
    "SOILWATER_400_timemean = numpy.nanmean(SOILWATER_400, axis=0)\n",
    "SOILWATER_1000_timemean = numpy.nanmean(SOILWATER_1000, axis=0)\n",
    "SOILWATER_diffs_10year = SOILWATER_1000_timemean-SOILWATER_400_timemean"
   ]
  },
  {
   "cell_type": "code",
   "execution_count": 24,
   "metadata": {
    "ExecuteTime": {
     "end_time": "2018-11-26T21:05:03.363363Z",
     "start_time": "2018-11-26T19:52:20.502Z"
    }
   },
   "outputs": [
    {
     "name": "stderr",
     "output_type": "stream",
     "text": [
      "/export/home/blangenb/miniconda3/lib/python3.7/site-packages/ipykernel_launcher.py:1: RuntimeWarning: Mean of empty slice\n",
      "  \"\"\"Entry point for launching an IPython kernel.\n",
      "/export/home/blangenb/miniconda3/lib/python3.7/site-packages/ipykernel_launcher.py:2: RuntimeWarning: Mean of empty slice\n",
      "  \n"
     ]
    }
   ],
   "source": [
    "SOILLIQ_400_timemean = numpy.nanmean(SOILLIQ_400, axis=0)\n",
    "SOILLIQ_1000_timemean = numpy.nanmean(SOILLIQ_1000, axis=0)\n",
    "SOILLIQ_diffs_10year = SOILLIQ_1000_timemean-SOILLIQ_400_timemean"
   ]
  },
  {
   "cell_type": "markdown",
   "metadata": {},
   "source": [
    "# now also open WRF"
   ]
  },
  {
   "cell_type": "markdown",
   "metadata": {},
   "source": [
    "400 ppm"
   ]
  },
  {
   "cell_type": "code",
   "execution_count": 25,
   "metadata": {
    "ExecuteTime": {
     "end_time": "2018-11-26T21:05:03.366057Z",
     "start_time": "2018-11-26T19:52:20.507Z"
    }
   },
   "outputs": [],
   "source": [
    "root_dir = '/beegfs/DATA/pritchard/blangenb/WRF_ARCHIVE/CHEYENNE/FMAASO/400/ens_mean_wrfout_files'\n",
    "file_list = glob.glob(root_dir+'/'+'wrfout*.nc')\n",
    "ds_list = [netCDF4.Dataset(file) for file in file_list]"
   ]
  },
  {
   "cell_type": "code",
   "execution_count": 26,
   "metadata": {
    "ExecuteTime": {
     "end_time": "2018-11-26T21:05:03.368836Z",
     "start_time": "2018-11-26T19:52:20.511Z"
    }
   },
   "outputs": [],
   "source": [
    "cont_mfds = xarray.open_mfdataset(root_dir + '/' + 'wrfout*.nc')"
   ]
  },
  {
   "cell_type": "code",
   "execution_count": 27,
   "metadata": {
    "ExecuteTime": {
     "end_time": "2018-11-26T21:05:03.371376Z",
     "start_time": "2018-11-26T19:52:20.514Z"
    }
   },
   "outputs": [],
   "source": [
    "time = cont_mfds['Times'].values\n",
    "xlat = cont_mfds['XLAT'].values[0,:,:]\n",
    "xlong = cont_mfds['XLONG'].values[0,:,:]\n",
    "landmask = cont_mfds['LANDMASK'].values[0,:,:]\n",
    "landmask_midpoints = landmask[1:,1:]"
   ]
  },
  {
   "cell_type": "code",
   "execution_count": 28,
   "metadata": {
    "ExecuteTime": {
     "end_time": "2018-11-26T21:05:03.374378Z",
     "start_time": "2018-11-26T19:52:20.517Z"
    }
   },
   "outputs": [],
   "source": [
    "landmask_indices = numpy.copy(landmask)\n",
    "landmask_indices[landmask==1]=1\n",
    "landmask_indices[landmask!=1]=0\n",
    "landmask_indices = numpy.array(landmask_indices, dtype=bool)"
   ]
  },
  {
   "cell_type": "code",
   "execution_count": 29,
   "metadata": {
    "ExecuteTime": {
     "end_time": "2018-11-26T21:05:03.376966Z",
     "start_time": "2018-11-26T19:52:20.521Z"
    }
   },
   "outputs": [],
   "source": [
    "rainc_400 = cont_mfds['RAINC'].values\n",
    "rainnc_400 = cont_mfds['RAINNC'].values\n",
    "soilh2o_400 = cont_mfds['SH2O'].values"
   ]
  },
  {
   "cell_type": "code",
   "execution_count": 30,
   "metadata": {
    "ExecuteTime": {
     "end_time": "2018-11-26T21:05:03.379833Z",
     "start_time": "2018-11-26T19:52:20.524Z"
    }
   },
   "outputs": [],
   "source": [
    "raintot_400 = rainc_400+rainnc_400"
   ]
  },
  {
   "cell_type": "code",
   "execution_count": 31,
   "metadata": {
    "ExecuteTime": {
     "end_time": "2018-11-26T21:05:03.382500Z",
     "start_time": "2018-11-26T19:52:20.528Z"
    }
   },
   "outputs": [
    {
     "data": {
      "text/plain": [
       "<xarray.DataArray 'ZS' (Time: 241, soil_layers_stag: 4)>\n",
       "dask.array<shape=(241, 4), dtype=float32, chunksize=(24, 4)>\n",
       "Coordinates:\n",
       "    XTIME    (Time) datetime64[ns] dask.array<shape=(241,), chunksize=(24,)>\n",
       "Dimensions without coordinates: Time, soil_layers_stag\n",
       "Attributes:\n",
       "    FieldType:    104\n",
       "    MemoryOrder:  Z  \n",
       "    description:  DEPTHS OF CENTERS OF SOIL LAYERS\n",
       "    units:        m\n",
       "    stagger:      Z"
      ]
     },
     "execution_count": 31,
     "metadata": {},
     "output_type": "execute_result"
    }
   ],
   "source": [
    "cont_mfds['ZS']"
   ]
  },
  {
   "cell_type": "code",
   "execution_count": 32,
   "metadata": {
    "ExecuteTime": {
     "end_time": "2018-11-26T21:05:03.385353Z",
     "start_time": "2018-11-26T19:52:20.533Z"
    }
   },
   "outputs": [],
   "source": [
    "wrf_soil_layers_ctr = cont_mfds['ZS'].isel(Time=0).values"
   ]
  },
  {
   "cell_type": "code",
   "execution_count": 33,
   "metadata": {
    "ExecuteTime": {
     "end_time": "2018-11-26T21:05:03.388136Z",
     "start_time": "2018-11-26T19:52:20.536Z"
    }
   },
   "outputs": [
    {
     "data": {
      "text/plain": [
       "array([  5.     ,  25.     ,  70.00001, 150.     ], dtype=float32)"
      ]
     },
     "execution_count": 33,
     "metadata": {},
     "output_type": "execute_result"
    }
   ],
   "source": [
    "wrf_soil_layers_ctr*100"
   ]
  },
  {
   "cell_type": "code",
   "execution_count": 34,
   "metadata": {
    "ExecuteTime": {
     "end_time": "2018-11-26T21:05:03.390941Z",
     "start_time": "2018-11-26T19:52:20.540Z"
    }
   },
   "outputs": [
    {
     "data": {
      "text/plain": [
       "<xarray.DataArray 'SH2O' (Time: 241, soil_layers_stag: 4, south_north: 179, west_east: 289)>\n",
       "dask.array<shape=(241, 4, 179, 289), dtype=float32, chunksize=(24, 4, 179, 289)>\n",
       "Coordinates:\n",
       "    XLAT     (Time, south_north, west_east) float32 dask.array<shape=(241, 179, 289), chunksize=(24, 179, 289)>\n",
       "    XLONG    (Time, south_north, west_east) float32 dask.array<shape=(241, 179, 289), chunksize=(24, 179, 289)>\n",
       "    XTIME    (Time) datetime64[ns] dask.array<shape=(241,), chunksize=(24,)>\n",
       "Dimensions without coordinates: Time, soil_layers_stag, south_north, west_east\n",
       "Attributes:\n",
       "    FieldType:    104\n",
       "    MemoryOrder:  XYZ\n",
       "    description:  SOIL LIQUID WATER\n",
       "    units:        m3 m-3\n",
       "    stagger:      Z"
      ]
     },
     "execution_count": 34,
     "metadata": {},
     "output_type": "execute_result"
    }
   ],
   "source": [
    "cont_mfds['SH2O']"
   ]
  },
  {
   "cell_type": "markdown",
   "metadata": {},
   "source": [
    "1000 ppm"
   ]
  },
  {
   "cell_type": "code",
   "execution_count": 35,
   "metadata": {
    "ExecuteTime": {
     "end_time": "2018-11-26T21:05:03.393760Z",
     "start_time": "2018-11-26T19:52:20.544Z"
    }
   },
   "outputs": [],
   "source": [
    "root_dir = '/beegfs/DATA/pritchard/blangenb/WRF_ARCHIVE/CHEYENNE/FMAASO/1000/ens_mean_wrfout_files'\n",
    "file_list = glob.glob(root_dir+'/'+'wrfout*.nc')\n",
    "ds_list = [netCDF4.Dataset(file) for file in file_list]"
   ]
  },
  {
   "cell_type": "code",
   "execution_count": 36,
   "metadata": {
    "ExecuteTime": {
     "end_time": "2018-11-26T21:05:03.396610Z",
     "start_time": "2018-11-26T19:52:20.547Z"
    }
   },
   "outputs": [],
   "source": [
    "phys_mfds = xarray.open_mfdataset(root_dir + '/' + 'wrfout*.nc')"
   ]
  },
  {
   "cell_type": "code",
   "execution_count": 37,
   "metadata": {
    "ExecuteTime": {
     "end_time": "2018-11-26T21:05:03.399458Z",
     "start_time": "2018-11-26T19:52:20.550Z"
    }
   },
   "outputs": [],
   "source": [
    "rainc_1000 = phys_mfds['RAINC'].values\n",
    "rainnc_1000 = phys_mfds['RAINNC'].values\n",
    "soilh2o_1000 = phys_mfds['SH2O'].values"
   ]
  },
  {
   "cell_type": "code",
   "execution_count": 38,
   "metadata": {
    "ExecuteTime": {
     "end_time": "2018-11-26T21:05:03.402197Z",
     "start_time": "2018-11-26T19:52:20.554Z"
    }
   },
   "outputs": [],
   "source": [
    "raintot_1000 = rainc_1000+rainnc_1000"
   ]
  },
  {
   "cell_type": "markdown",
   "metadata": {},
   "source": [
    "wrf time stamp info"
   ]
  },
  {
   "cell_type": "code",
   "execution_count": 39,
   "metadata": {
    "ExecuteTime": {
     "end_time": "2018-11-26T21:05:03.405070Z",
     "start_time": "2018-11-26T19:52:20.559Z"
    }
   },
   "outputs": [],
   "source": [
    "time_datetimes = pandas.to_datetime([i.decode('utf-8') for i in time], format = '%Y-%m-%d_%H:%M:%S')"
   ]
  },
  {
   "cell_type": "code",
   "execution_count": 40,
   "metadata": {
    "ExecuteTime": {
     "end_time": "2018-11-26T21:05:03.407846Z",
     "start_time": "2018-11-26T19:52:20.562Z"
    }
   },
   "outputs": [],
   "source": [
    "rainc_diffs = rainc_1000-rainc_400\n",
    "rainnc_diffs = rainnc_1000-rainnc_400\n",
    "soilh2o_diffs = soilh2o_1000-soilh2o_400\n",
    "raintot_diffs = raintot_1000-raintot_400"
   ]
  },
  {
   "cell_type": "markdown",
   "metadata": {},
   "source": [
    "# plot 10-year mean changes"
   ]
  },
  {
   "cell_type": "code",
   "execution_count": 41,
   "metadata": {
    "ExecuteTime": {
     "end_time": "2018-11-26T21:05:03.410662Z",
     "start_time": "2018-11-26T19:52:20.566Z"
    }
   },
   "outputs": [
    {
     "data": {
      "image/png": "[encoded data removed]",
      "text/plain": [
       "<Figure size 192.024x432 with 4 Axes>"
      ]
     },
     "metadata": {
      "needs_background": "light"
     },
     "output_type": "display_data"
    }
   ],
   "source": [
    "# MONTHLY MEAN PLOTS\n",
    "\n",
    "fig = mp.figure(figsize=(2.667,6))\n",
    "fontsize = 12\n",
    "lon_offset=25.\n",
    "\n",
    "# PRECIP DIFFS\n",
    "\n",
    "levels = numpy.arange(-1.25,1.251,0.25)\n",
    "ax1 = fig.add_subplot(211, projection=cartopy.crs.PlateCarree())\n",
    "ax1.gridlines(ylocs=[0], color='0.25')\n",
    "ax1.coastlines(resolution='110m')\n",
    "contour_plot1 = ax1.contourf(lon, lat, PRECT_diffs_10year*86400.*1000., \\\n",
    "                             levels=levels, \\\n",
    "                             cmap='BrBG', extend='both', transform=cartopy.crs.PlateCarree())\n",
    "\n",
    "# ax1.contour(lon,lat,field_convolved*24.,\\\n",
    "#             levels=[4], colors=outline_color, linewidths=[2], linestyles=['-'])\n",
    "\n",
    "# left patch\n",
    "ax1.add_patch(matplotlib.patches.Rectangle(xy=[wet_lon_lo, wet_lat_lo], width=(wet_lon_hi-wet_lon_lo), \\\n",
    "                                           height=(wet_lat_hi-wet_lat_lo),\n",
    "                                facecolor='none',\n",
    "                                edgecolor='0.1',\\\n",
    "                                linewidth=2,\\\n",
    "                                transform=cartopy.crs.PlateCarree(), zorder=2) )\n",
    "\n",
    "ax1.add_patch(matplotlib.patches.Rectangle(xy=[dry_lon_lo, dry_lat_lo], width=(dry_lon_hi-dry_lon_lo), \\\n",
    "                                           height=(dry_lat_hi-dry_lat_lo),\n",
    "                                facecolor='none',\n",
    "                                edgecolor='0.1',\\\n",
    "                                linewidth=2,\\\n",
    "                                transform=cartopy.crs.PlateCarree(), zorder=2) )\n",
    "\n",
    "# CHANGE IN SOIL MOISTURE\n",
    "\n",
    "levels = numpy.arange(-1,1.1,0.2)\n",
    "ax2 = fig.add_subplot(212, projection=cartopy.crs.PlateCarree())\n",
    "ax2.gridlines(ylocs=[0], color='0.25')\n",
    "ax2.coastlines(resolution='110m')\n",
    "contour_plot2 = ax2.contourf(lon_total, lat_total, SOILWATER_diffs_10year, levels=levels, \\\n",
    "                             cmap='RdBu', extend='both', transform=cartopy.crs.PlateCarree())\n",
    "\n",
    "ax1.set_extent([273,329,-30,15], crs=cartopy.crs.PlateCarree())\n",
    "ax2.set_extent([273,329,-30,15], crs=cartopy.crs.PlateCarree())\n",
    "\n",
    "ax1.set_xticks([-360+280,-360+300,-360+320])\n",
    "ax1.set_yticks([-20,-10,0,10])\n",
    "ax1.tick_params(labelsize=fontsize)\n",
    "ax1.set_xticklabels(['$280$'+DEGREE_SIGN,'$300$'+DEGREE_SIGN,'$320$'+DEGREE_SIGN])\n",
    "ax1.set_yticklabels(['$-20$'+DEGREE_SIGN,'$-10$'+DEGREE_SIGN,'$0$'+DEGREE_SIGN,'$10$'+DEGREE_SIGN])\n",
    "\n",
    "ax2.set_xticks([-360+280,-360+300,-360+320])\n",
    "ax2.set_yticks([-20,-10,0,10])\n",
    "ax2.tick_params(labelsize=fontsize)\n",
    "ax2.set_xticklabels(['$280$'+DEGREE_SIGN,'$300$'+DEGREE_SIGN,'$320$'+DEGREE_SIGN])\n",
    "ax2.set_yticklabels(['$-20$'+DEGREE_SIGN,'$-10$'+DEGREE_SIGN,'$0$'+DEGREE_SIGN,'$10$'+DEGREE_SIGN])\n",
    "\n",
    "fig.tight_layout(h_pad=0.5,w_pad=0.5)\n",
    "fig.canvas.draw_idle()\n",
    "\n",
    "title = ax1.text(s='(a) $\\Delta$ precipitation', x=0, y=1.02, ha='left', va='bottom', fontsize=fontsize, transform=ax1.transAxes)\n",
    "title = ax2.text(s='(b) $\\Delta$ soil moist. (above 10 cm)', x=0, y=1.02, ha='left', va='bottom', fontsize=fontsize, transform=ax2.transAxes)\n",
    "\n",
    "ax1.text(s='mm day$^{\\,-1}$', x=0.95, y=0.95, \\\n",
    "        ha='right', va='top', \\\n",
    "        fontsize=fontsize, \\\n",
    "        transform=ax1.transAxes)\n",
    "ax2.text(s='mm day$^{\\,-1}$', x=0.95, y=0.95, \\\n",
    "        ha='right', va='top', \\\n",
    "        fontsize=fontsize, \\\n",
    "        transform=ax2.transAxes)\n",
    "\n",
    "for c in contour_plot1.collections:\n",
    "    c.set_edgecolor('face')\n",
    "    c.set_rasterized(True)\n",
    "for c in contour_plot2.collections:\n",
    "    c.set_edgecolor('face')\n",
    "    c.set_rasterized(True)\n",
    "\n",
    "cbar_thickness=0.025\n",
    "cbar_yshift=-0.08\n",
    "\n",
    "#fig.tight_layout()\n",
    "\n",
    "bbox_position = ax1.get_position()\n",
    "cbar_axes = fig.add_axes([bbox_position.x0, bbox_position.y0+cbar_yshift, bbox_position.width, cbar_thickness])\n",
    "cbar = mp.colorbar(contour_plot1, orientation='horizontal', cax=cbar_axes)\n",
    "cbar_axes.tick_params(labelsize=fontsize)\n",
    "cbar.set_ticks([numpy.arange(-1,1.1,0.5)])\n",
    "for c in cbar_axes.collections:\n",
    "    c.set_edgecolor('face')\n",
    "#     c.set_rasterized(True)\n",
    "\n",
    "bbox_position = ax2.get_position()\n",
    "cbar_axes = fig.add_axes([bbox_position.x0, bbox_position.y0+cbar_yshift, bbox_position.width, cbar_thickness])\n",
    "cbar = mp.colorbar(contour_plot2, orientation='horizontal', cax=cbar_axes)\n",
    "cbar_axes.tick_params(labelsize=fontsize)\n",
    "for c in cbar_axes.collections:\n",
    "    c.set_edgecolor('face')\n",
    "#     c.set_rasterized(True)\n",
    "\n",
    "#fig.savefig('../figures/REVISION_fig02.pdf', dpi=300, transparent=True, bbox_inches='tight')"
   ]
  },
  {
   "cell_type": "code",
   "execution_count": 42,
   "metadata": {
    "ExecuteTime": {
     "end_time": "2018-11-26T21:05:03.413621Z",
     "start_time": "2018-11-26T19:52:20.570Z"
    }
   },
   "outputs": [
    {
     "data": {
      "text/plain": [
       "(15, 96, 144)"
      ]
     },
     "execution_count": 42,
     "metadata": {},
     "output_type": "execute_result"
    }
   ],
   "source": [
    "SOILLIQ_diffs_10year.shape"
   ]
  },
  {
   "cell_type": "raw",
   "metadata": {
    "ExecuteTime": {
     "end_time": "2018-11-13T22:11:22.287243Z",
     "start_time": "2018-11-13T22:11:21.125366Z"
    }
   },
   "source": [
    "# MONTHLY MEAN PLOTS\n",
    "\n",
    "fig = mp.figure(figsize=(2.667,6))\n",
    "fontsize = 12\n",
    "lon_offset=25.\n",
    "\n",
    "# PRECIP DIFFS\n",
    "\n",
    "levels = numpy.arange(-1.25,1.251,0.25)\n",
    "ax1 = fig.add_subplot(211, projection=cartopy.crs.PlateCarree())\n",
    "ax1.gridlines(ylocs=[0], color='0.25')\n",
    "ax1.coastlines(resolution='110m')\n",
    "contour_plot1 = ax1.contourf(lon, lat, PRECT_diffs_10year*86400.*1000., \\\n",
    "                             levels=levels, \\\n",
    "                             cmap='BrBG', extend='both', transform=cartopy.crs.PlateCarree())\n",
    "\n",
    "# ax1.contour(lon,lat,field_convolved*24.,\\\n",
    "#             levels=[4], colors=outline_color, linewidths=[2], linestyles=['-'])\n",
    "\n",
    "# left patch\n",
    "ax1.add_patch(matplotlib.patches.Rectangle(xy=[wet_lon_lo, wet_lat_lo], width=(wet_lon_hi-wet_lon_lo), \\\n",
    "                                           height=(wet_lat_hi-wet_lat_lo),\n",
    "                                facecolor='none',\n",
    "                                edgecolor='0.1',\\\n",
    "                                linewidth=2,\\\n",
    "                                transform=cartopy.crs.PlateCarree(), zorder=2) )\n",
    "\n",
    "ax1.add_patch(matplotlib.patches.Rectangle(xy=[dry_lon_lo, dry_lat_lo], width=(dry_lon_hi-dry_lon_lo), \\\n",
    "                                           height=(dry_lat_hi-dry_lat_lo),\n",
    "                                facecolor='none',\n",
    "                                edgecolor='0.1',\\\n",
    "                                linewidth=2,\\\n",
    "                                transform=cartopy.crs.PlateCarree(), zorder=2) )\n",
    "\n",
    "# CHANGE IN SOIL MOISTURE\n",
    "\n",
    "levels = numpy.arange(-1,1.1,0.2)\n",
    "ax2 = fig.add_subplot(212, projection=cartopy.crs.PlateCarree())\n",
    "ax2.gridlines(ylocs=[0], color='0.25')\n",
    "ax2.coastlines(resolution='110m')\n",
    "contour_plot2 = ax2.contourf(lon_total, lat_total, SOILLIQ_diffs_10year, levels=levels, \\\n",
    "                             cmap='RdBu', extend='both', transform=cartopy.crs.PlateCarree())\n",
    "\n",
    "ax1.set_extent([273,329,-30,15], crs=cartopy.crs.PlateCarree())\n",
    "ax2.set_extent([273,329,-30,15], crs=cartopy.crs.PlateCarree())\n",
    "\n",
    "ax1.set_xticks([-360+280,-360+300,-360+320])\n",
    "ax1.set_yticks([-20,-10,0,10])\n",
    "ax1.tick_params(labelsize=fontsize)\n",
    "ax1.set_xticklabels(['$280$'+DEGREE_SIGN,'$300$'+DEGREE_SIGN,'$320$'+DEGREE_SIGN])\n",
    "ax1.set_yticklabels(['$-20$'+DEGREE_SIGN,'$-10$'+DEGREE_SIGN,'$0$'+DEGREE_SIGN,'$10$'+DEGREE_SIGN])\n",
    "\n",
    "ax2.set_xticks([-360+280,-360+300,-360+320])\n",
    "ax2.set_yticks([-20,-10,0,10])\n",
    "ax2.tick_params(labelsize=fontsize)\n",
    "ax2.set_xticklabels(['$280$'+DEGREE_SIGN,'$300$'+DEGREE_SIGN,'$320$'+DEGREE_SIGN])\n",
    "ax2.set_yticklabels(['$-20$'+DEGREE_SIGN,'$-10$'+DEGREE_SIGN,'$0$'+DEGREE_SIGN,'$10$'+DEGREE_SIGN])\n",
    "\n",
    "fig.tight_layout(h_pad=0.5,w_pad=0.5)\n",
    "fig.canvas.draw_idle()\n",
    "\n",
    "title = ax1.text(s='(a) $\\Delta$ precipitation', x=0, y=1.02, ha='left', va='bottom', fontsize=fontsize, transform=ax1.transAxes)\n",
    "title = ax2.text(s='(b) $\\Delta$ soil moist. (above 10 cm)', x=0, y=1.02, ha='left', va='bottom', fontsize=fontsize, transform=ax2.transAxes)\n",
    "\n",
    "ax1.text(s='mm day$^{\\,-1}$', x=0.95, y=0.95, \\\n",
    "        ha='right', va='top', \\\n",
    "        fontsize=fontsize, \\\n",
    "        transform=ax1.transAxes)\n",
    "ax2.text(s='mm day$^{\\,-1}$', x=0.95, y=0.95, \\\n",
    "        ha='right', va='top', \\\n",
    "        fontsize=fontsize, \\\n",
    "        transform=ax2.transAxes)\n",
    "\n",
    "for c in contour_plot1.collections:\n",
    "    c.set_edgecolor('face')\n",
    "    c.set_rasterized(True)\n",
    "for c in contour_plot2.collections:\n",
    "    c.set_edgecolor('face')\n",
    "    c.set_rasterized(True)\n",
    "\n",
    "cbar_thickness=0.025\n",
    "cbar_yshift=-0.08\n",
    "\n",
    "#fig.tight_layout()\n",
    "\n",
    "bbox_position = ax1.get_position()\n",
    "cbar_axes = fig.add_axes([bbox_position.x0, bbox_position.y0+cbar_yshift, bbox_position.width, cbar_thickness])\n",
    "cbar = mp.colorbar(contour_plot1, orientation='horizontal', cax=cbar_axes)\n",
    "cbar_axes.tick_params(labelsize=fontsize)\n",
    "cbar.set_ticks([numpy.arange(-1,1.1,0.5)])\n",
    "for c in cbar_axes.collections:\n",
    "    c.set_edgecolor('face')\n",
    "#     c.set_rasterized(True)\n",
    "\n",
    "bbox_position = ax2.get_position()\n",
    "cbar_axes = fig.add_axes([bbox_position.x0, bbox_position.y0+cbar_yshift, bbox_position.width, cbar_thickness])\n",
    "cbar = mp.colorbar(contour_plot2, orientation='horizontal', cax=cbar_axes)\n",
    "cbar_axes.tick_params(labelsize=fontsize)\n",
    "for c in cbar_axes.collections:\n",
    "    c.set_edgecolor('face')\n",
    "#     c.set_rasterized(True)\n",
    "\n",
    "#fig.savefig('../figures/REVISION_fig02.pdf', dpi=300, transparent=True, bbox_inches='tight')"
   ]
  },
  {
   "cell_type": "markdown",
   "metadata": {},
   "source": [
    "subset wrf"
   ]
  },
  {
   "cell_type": "code",
   "execution_count": 43,
   "metadata": {
    "ExecuteTime": {
     "end_time": "2018-11-26T21:05:03.416495Z",
     "start_time": "2018-11-26T19:52:20.752Z"
    }
   },
   "outputs": [],
   "source": [
    "xlat_subset_indices_dry = (xlat>=dry_lat_lo)&(xlat<=dry_lat_hi)\n",
    "xlong_subset_indices_dry = (xlong>=dry_lon_lo)&(xlong<=dry_lon_hi)\n",
    "\n",
    "xlat_xlong_indices_dry = (xlat_subset_indices_dry)&(xlong_subset_indices_dry)&(landmask==1)"
   ]
  },
  {
   "cell_type": "code",
   "execution_count": 44,
   "metadata": {
    "ExecuteTime": {
     "end_time": "2018-11-26T21:05:03.419000Z",
     "start_time": "2018-11-26T19:52:20.755Z"
    }
   },
   "outputs": [],
   "source": [
    "xlat_subset_indices_wet = (xlat>=wet_lat_lo)&(xlat<=wet_lat_hi)\n",
    "xlong_subset_indices_wet = (xlong>=wet_lon_lo)&(xlong<=wet_lon_hi)\n",
    "\n",
    "xlat_xlong_indices_wet = (xlat_subset_indices_wet)&(xlong_subset_indices_wet)&(landmask==1)"
   ]
  },
  {
   "cell_type": "code",
   "execution_count": 45,
   "metadata": {
    "ExecuteTime": {
     "end_time": "2018-11-26T21:05:03.422360Z",
     "start_time": "2018-11-26T19:52:20.760Z"
    }
   },
   "outputs": [],
   "source": [
    "soilh2o_1000_dry = soilh2o_1000[:,:,xlat_xlong_indices_dry]\n",
    "soilh2o_400_dry = soilh2o_400[:,:,xlat_xlong_indices_dry]\n",
    "\n",
    "soilh2o_1000_wet = soilh2o_1000[:,:,xlat_xlong_indices_wet]\n",
    "soilh2o_400_wet = soilh2o_400[:,:,xlat_xlong_indices_wet]"
   ]
  },
  {
   "cell_type": "code",
   "execution_count": 46,
   "metadata": {
    "ExecuteTime": {
     "end_time": "2018-11-26T21:05:03.424923Z",
     "start_time": "2018-11-26T19:52:20.764Z"
    }
   },
   "outputs": [],
   "source": [
    "soilh2o_1000_dry_areamean = numpy.nanmean(soilh2o_1000_dry, axis=(2))\n",
    "soilh2o_400_dry_areamean = numpy.nanmean(soilh2o_400_dry, axis=(2))"
   ]
  },
  {
   "cell_type": "code",
   "execution_count": 47,
   "metadata": {
    "ExecuteTime": {
     "end_time": "2018-11-26T21:05:03.427752Z",
     "start_time": "2018-11-26T19:52:20.768Z"
    }
   },
   "outputs": [],
   "source": [
    "soilh2o_1000_wet_areamean = numpy.nanmean(soilh2o_1000_wet, axis=(2))\n",
    "soilh2o_400_wet_areamean = numpy.nanmean(soilh2o_400_wet, axis=(2))"
   ]
  },
  {
   "cell_type": "code",
   "execution_count": 48,
   "metadata": {
    "ExecuteTime": {
     "end_time": "2018-11-26T21:05:03.430523Z",
     "start_time": "2018-11-26T19:52:20.772Z"
    }
   },
   "outputs": [],
   "source": [
    "soilh2o_wet_diffs = soilh2o_1000_wet_areamean-soilh2o_400_wet_areamean\n",
    "soilh2o_dry_diffs = soilh2o_1000_dry_areamean-soilh2o_400_dry_areamean"
   ]
  },
  {
   "cell_type": "markdown",
   "metadata": {},
   "source": [
    "subset cesm"
   ]
  },
  {
   "cell_type": "code",
   "execution_count": 49,
   "metadata": {
    "ExecuteTime": {
     "end_time": "2018-11-26T21:05:03.433470Z",
     "start_time": "2018-11-26T19:52:20.776Z"
    }
   },
   "outputs": [],
   "source": [
    "lat_subset_indices_dry = (lat>=dry_lat_lo)&(lat<=dry_lat_hi)\n",
    "lon_subset_indices_dry = (lon>=dry_lon_lo_degE)&(lon<=dry_lon_hi_degE)\n",
    "\n",
    "lat_total_indices_dry = (lat_total>=dry_lat_lo)&(lat_total<=dry_lat_hi)\n",
    "lon_total_indices_dry = (lon_total>=dry_lon_lo_degE)&(lon_total<=dry_lon_hi_degE)"
   ]
  },
  {
   "cell_type": "code",
   "execution_count": 50,
   "metadata": {
    "ExecuteTime": {
     "end_time": "2018-11-26T21:05:03.436225Z",
     "start_time": "2018-11-26T19:52:20.779Z"
    }
   },
   "outputs": [],
   "source": [
    "lat_subset_indices_wet = (lat>=wet_lat_lo)&(lat<=wet_lat_hi)\n",
    "lon_subset_indices_wet = (lon>=wet_lon_lo_degE)&(lon<=wet_lon_hi_degE)\n",
    "\n",
    "lat_total_indices_wet = (lat_total>=wet_lat_lo)&(lat_total<=wet_lat_hi)\n",
    "lon_total_indices_wet = (lon_total>=wet_lon_lo_degE)&(lon_total<=wet_lon_hi_degE)"
   ]
  },
  {
   "cell_type": "code",
   "execution_count": 51,
   "metadata": {
    "ExecuteTime": {
     "end_time": "2018-11-26T21:05:03.439337Z",
     "start_time": "2018-11-26T19:52:20.783Z"
    }
   },
   "outputs": [],
   "source": [
    "PRECT_1000_dry = PRECT_1000_10y[:,lat_subset_indices_dry,:][:,:,lon_subset_indices_dry]\n",
    "PRECT_400_dry = PRECT_400_10y[:,lat_subset_indices_dry,:][:,:,lon_subset_indices_dry]\n",
    "\n",
    "PRECT_1000_wet = PRECT_1000_10y[:,lat_subset_indices_wet,:][:,:,lon_subset_indices_wet]\n",
    "PRECT_400_wet = PRECT_400_10y[:,lat_subset_indices_wet,:][:,:,lon_subset_indices_wet]"
   ]
  },
  {
   "cell_type": "code",
   "execution_count": 52,
   "metadata": {
    "ExecuteTime": {
     "end_time": "2018-11-26T21:05:03.442152Z",
     "start_time": "2018-11-26T19:52:20.788Z"
    }
   },
   "outputs": [],
   "source": [
    "SOILWATER_1000_dry = SOILWATER_1000[:,lat_total_indices_dry,:][:,:,lon_total_indices_dry]\n",
    "SOILWATER_400_dry = SOILWATER_400[:,lat_total_indices_dry,:][:,:,lon_total_indices_dry]\n",
    "\n",
    "SOILWATER_1000_wet = SOILWATER_1000[:,lat_total_indices_wet,:][:,:,lon_total_indices_wet]\n",
    "SOILWATER_400_wet = SOILWATER_400[:,lat_total_indices_wet,:][:,:,lon_total_indices_wet]"
   ]
  },
  {
   "cell_type": "code",
   "execution_count": 53,
   "metadata": {
    "ExecuteTime": {
     "end_time": "2018-11-26T21:05:03.445064Z",
     "start_time": "2018-11-26T19:52:20.792Z"
    }
   },
   "outputs": [],
   "source": [
    "SOILLIQ_1000_dry = SOILLIQ_1000[:,:,lat_total_indices_dry,:][:,:,:,lon_total_indices_dry]\n",
    "SOILLIQ_400_dry = SOILLIQ_400[:,:,lat_total_indices_dry,:][:,:,:,lon_total_indices_dry]\n",
    "\n",
    "SOILLIQ_1000_wet = SOILLIQ_1000[:,:,lat_total_indices_wet,:][:,:,:,lon_total_indices_wet]\n",
    "SOILLIQ_400_wet = SOILLIQ_400[:,:,lat_total_indices_wet,:][:,:,:,lon_total_indices_wet]"
   ]
  },
  {
   "cell_type": "code",
   "execution_count": 54,
   "metadata": {
    "ExecuteTime": {
     "end_time": "2018-11-26T21:05:03.447964Z",
     "start_time": "2018-11-26T19:52:20.794Z"
    }
   },
   "outputs": [],
   "source": [
    "PRECT_1000_dry_areamean = numpy.nanmean(PRECT_1000_dry, axis=(1,2))\n",
    "PRECT_400_dry_areamean = numpy.nanmean(PRECT_400_dry, axis=(1,2))"
   ]
  },
  {
   "cell_type": "code",
   "execution_count": 55,
   "metadata": {
    "ExecuteTime": {
     "end_time": "2018-11-26T21:05:03.450720Z",
     "start_time": "2018-11-26T19:52:20.799Z"
    }
   },
   "outputs": [],
   "source": [
    "SOILWATER_1000_dry_areamean = numpy.nanmean(SOILWATER_1000_dry, axis=(1,2))\n",
    "SOILWATER_400_dry_areamean = numpy.nanmean(SOILWATER_400_dry, axis=(1,2))"
   ]
  },
  {
   "cell_type": "code",
   "execution_count": 56,
   "metadata": {
    "ExecuteTime": {
     "end_time": "2018-11-26T21:05:03.453336Z",
     "start_time": "2018-11-26T19:52:20.803Z"
    }
   },
   "outputs": [],
   "source": [
    "SOILLIQ_1000_dry_areamean = numpy.nanmean(SOILLIQ_1000_dry, axis=(2,3))\n",
    "SOILLIQ_400_dry_areamean = numpy.nanmean(SOILLIQ_400_dry, axis=(2,3))"
   ]
  },
  {
   "cell_type": "code",
   "execution_count": 57,
   "metadata": {
    "ExecuteTime": {
     "end_time": "2018-11-26T21:05:03.456002Z",
     "start_time": "2018-11-26T19:52:20.805Z"
    }
   },
   "outputs": [],
   "source": [
    "SOILWATER_dry_diffs = SOILWATER_1000_dry_areamean-SOILWATER_400_dry_areamean\n",
    "PRECT_dry_diffs = PRECT_1000_dry_areamean-PRECT_400_dry_areamean\n",
    "SOILLIQ_dry_diffs = SOILLIQ_1000_dry_areamean - SOILLIQ_400_dry_areamean"
   ]
  },
  {
   "cell_type": "code",
   "execution_count": 58,
   "metadata": {
    "ExecuteTime": {
     "end_time": "2018-11-26T21:05:03.458640Z",
     "start_time": "2018-11-26T19:52:20.809Z"
    }
   },
   "outputs": [],
   "source": [
    "SOILWATER_dry_diffs_rollingmean = pandas.Series(SOILWATER_dry_diffs).rolling(window=365, center=True, min_periods=1).mean()\n",
    "PRECT_dry_diffs_rollingmean = pandas.Series(PRECT_dry_diffs).rolling(window=365, center=True, min_periods=1).mean()"
   ]
  },
  {
   "cell_type": "code",
   "execution_count": 59,
   "metadata": {
    "ExecuteTime": {
     "end_time": "2018-11-26T21:05:03.461279Z",
     "start_time": "2018-11-26T19:52:20.812Z"
    }
   },
   "outputs": [],
   "source": [
    "which_level = 7\n",
    "SOILLIQ_dry_diffs_rollingmean = pandas.Series(SOILLIQ_dry_diffs[:,which_level]).rolling(window=365, center=True, min_periods=1).mean()"
   ]
  },
  {
   "cell_type": "markdown",
   "metadata": {},
   "source": [
    "# wrf analysis"
   ]
  },
  {
   "cell_type": "code",
   "execution_count": 60,
   "metadata": {
    "ExecuteTime": {
     "end_time": "2018-11-26T21:05:03.463906Z",
     "start_time": "2018-11-26T19:52:20.817Z"
    }
   },
   "outputs": [
    {
     "data": {
      "text/plain": [
       "(241, 4, 179, 289)"
      ]
     },
     "execution_count": 60,
     "metadata": {},
     "output_type": "execute_result"
    }
   ],
   "source": [
    "soilh2o_diffs.shape"
   ]
  },
  {
   "cell_type": "code",
   "execution_count": 61,
   "metadata": {
    "ExecuteTime": {
     "end_time": "2018-11-26T21:05:03.466501Z",
     "start_time": "2018-11-26T19:52:20.820Z"
    }
   },
   "outputs": [
    {
     "data": {
      "text/plain": [
       "<matplotlib.contour.QuadContourSet at 0x7f9fca3624a8>"
      ]
     },
     "execution_count": 61,
     "metadata": {},
     "output_type": "execute_result"
    },
    {
     "data": {
      "image/png": "[encoded data removed]",
      "text/plain": [
       "<Figure size 432x288 with 1 Axes>"
      ]
     },
     "metadata": {
      "needs_background": "light"
     },
     "output_type": "display_data"
    }
   ],
   "source": [
    "mp.contourf(soilh2o_dry_diffs)"
   ]
  },
  {
   "cell_type": "code",
   "execution_count": 62,
   "metadata": {
    "ExecuteTime": {
     "end_time": "2018-11-26T21:05:03.469138Z",
     "start_time": "2018-11-26T19:52:20.824Z"
    }
   },
   "outputs": [
    {
     "data": {
      "text/plain": [
       "(241, 4)"
      ]
     },
     "execution_count": 62,
     "metadata": {},
     "output_type": "execute_result"
    }
   ],
   "source": [
    "soilh2o_dry_diffs.shape"
   ]
  },
  {
   "cell_type": "code",
   "execution_count": 63,
   "metadata": {
    "ExecuteTime": {
     "end_time": "2018-11-26T21:05:03.471940Z",
     "start_time": "2018-11-26T19:52:20.827Z"
    }
   },
   "outputs": [
    {
     "data": {
      "text/plain": [
       "[<matplotlib.lines.Line2D at 0x7f9fca52bfd0>]"
      ]
     },
     "execution_count": 63,
     "metadata": {},
     "output_type": "execute_result"
    },
    {
     "data": {
      "image/png": "[encoded data removed]",
      "text/plain": [
       "<Figure size 432x288 with 1 Axes>"
      ]
     },
     "metadata": {
      "needs_background": "light"
     },
     "output_type": "display_data"
    }
   ],
   "source": [
    "mp.plot(soilh2o_dry_diffs[:,0])"
   ]
  },
  {
   "cell_type": "code",
   "execution_count": 64,
   "metadata": {
    "ExecuteTime": {
     "end_time": "2018-11-26T21:05:03.474728Z",
     "start_time": "2018-11-26T19:52:20.831Z"
    }
   },
   "outputs": [],
   "source": [
    "wrf_soil_levels = [10,40,100,200]"
   ]
  },
  {
   "cell_type": "code",
   "execution_count": 65,
   "metadata": {
    "ExecuteTime": {
     "end_time": "2018-11-26T21:05:03.477516Z",
     "start_time": "2018-11-26T19:52:20.837Z"
    }
   },
   "outputs": [
    {
     "data": {
      "text/plain": [
       "array([7.10063517e-01, 2.79250002e+00, 6.22585773e+00, 1.18865061e+01,\n",
       "       2.12193394e+01, 3.66065788e+01, 6.19758492e+01, 1.03802704e+02,\n",
       "       1.72763519e+02, 2.86460724e+02, 4.73915680e+02, 7.82976624e+02,\n",
       "       1.29253210e+03, 2.13264697e+03, 3.51776196e+03], dtype=float32)"
      ]
     },
     "execution_count": 65,
     "metadata": {},
     "output_type": "execute_result"
    }
   ],
   "source": [
    "cesm_soil_levels"
   ]
  },
  {
   "cell_type": "code",
   "execution_count": 66,
   "metadata": {
    "ExecuteTime": {
     "end_time": "2018-11-26T21:05:03.480085Z",
     "start_time": "2018-11-26T19:52:20.840Z"
    }
   },
   "outputs": [
    {
     "data": {
      "text/plain": [
       "<matplotlib.legend.Legend at 0x7f9fca5bc438>"
      ]
     },
     "execution_count": 66,
     "metadata": {},
     "output_type": "execute_result"
    },
    {
     "data": {
      "image/png": "[encoded data removed]",
      "text/plain": [
       "<Figure size 432x288 with 1 Axes>"
      ]
     },
     "metadata": {
      "needs_background": "light"
     },
     "output_type": "display_data"
    }
   ],
   "source": [
    "mp.scatter(numpy.arange(cesm_soil_levels.size), cesm_soil_levels, label='cesm soil levels')\n",
    "mp.scatter(numpy.arange(wrf_soil_levels.__len__()), wrf_soil_levels, label='wrf soil levels')\n",
    "for lev in wrf_soil_levels:\n",
    "    mp.axhline(lev, lw=0.5, c='0.1')\n",
    "#mp.ylim(0,300)\n",
    "mp.legend()"
   ]
  },
  {
   "cell_type": "markdown",
   "metadata": {},
   "source": [
    "    WRF         CESM\n",
    "    layer 0     layers 3,4 (ind 2,3)\n",
    "    layer 1     layers 6 (ind 5)\n",
    "    layer 3     layer 8 (ind 7)\n",
    "    layer 4     layer 9,10 (ind 8,9)"
   ]
  },
  {
   "cell_type": "code",
   "execution_count": 67,
   "metadata": {
    "ExecuteTime": {
     "end_time": "2018-11-26T21:05:03.483069Z",
     "start_time": "2018-11-26T19:52:20.844Z"
    }
   },
   "outputs": [],
   "source": [
    "cesm_soil_levels_diffs = numpy.diff(numpy.hstack((numpy.array(0.0), cesm_soil_levels)))\n",
    "layer1_thickness = numpy.mean(cesm_soil_levels_diffs[2:4])/100.\n",
    "layer2_thickness = numpy.mean(cesm_soil_levels_diffs[5])/100.\n",
    "layer3_thickness = numpy.mean(cesm_soil_levels_diffs[7])/100.\n",
    "layer4_thickness = numpy.mean(cesm_soil_levels_diffs[8:10])/100.\n",
    "layer_thickness_cesm = numpy.array([layer1_thickness, layer2_thickness, layer3_thickness, layer4_thickness])"
   ]
  },
  {
   "cell_type": "code",
   "execution_count": 68,
   "metadata": {
    "ExecuteTime": {
     "end_time": "2018-11-26T21:05:03.485911Z",
     "start_time": "2018-11-26T19:52:20.847Z"
    }
   },
   "outputs": [],
   "source": [
    "layer1_depth = numpy.mean(cesm_soil_levels[2:4])/100.\n",
    "layer2_depth = numpy.mean(cesm_soil_levels[5])/100.\n",
    "layer3_depth = numpy.mean(cesm_soil_levels[7])/100.\n",
    "layer4_depth = numpy.mean(cesm_soil_levels[8:10])/100.\n",
    "layer_depth_cesm = numpy.array([layer1_depth, layer2_depth, layer3_depth, layer4_depth])"
   ]
  },
  {
   "cell_type": "code",
   "execution_count": 69,
   "metadata": {
    "ExecuteTime": {
     "end_time": "2018-11-26T21:05:03.489030Z",
     "start_time": "2018-11-26T19:52:20.851Z"
    }
   },
   "outputs": [],
   "source": [
    "cesm_equiv_1 = numpy.average(SOILLIQ_dry_diffs[:,[2,3]], axis=1, weights=cesm_soil_levels[1:3])\n",
    "cesm_equiv_2 = numpy.average(SOILLIQ_dry_diffs[:,[4,5]], axis=1, weights=cesm_soil_levels[7:9])\n",
    "cesm_equiv_3 = SOILLIQ_dry_diffs[:,6]\n",
    "cesm_equiv_4 = SOILLIQ_dry_diffs[:,7]\n",
    "\n",
    "cesm_equiv_soilh2o = numpy.array([cesm_equiv_1, cesm_equiv_2, cesm_equiv_3, cesm_equiv_4])\n",
    "cesm_equiv_soilh2o = (cesm_equiv_soilh2o.T/(1000*layer_thickness_cesm)).T"
   ]
  },
  {
   "cell_type": "code",
   "execution_count": 70,
   "metadata": {
    "ExecuteTime": {
     "end_time": "2018-11-26T21:05:03.491642Z",
     "start_time": "2018-11-26T19:52:20.855Z"
    }
   },
   "outputs": [
    {
     "data": {
      "text/plain": [
       "[10, 40, 100, 200]"
      ]
     },
     "execution_count": 70,
     "metadata": {},
     "output_type": "execute_result"
    }
   ],
   "source": [
    "wrf_soil_levels"
   ]
  },
  {
   "cell_type": "code",
   "execution_count": 71,
   "metadata": {
    "ExecuteTime": {
     "end_time": "2018-11-26T21:05:03.494308Z",
     "start_time": "2018-11-26T19:52:20.858Z"
    }
   },
   "outputs": [
    {
     "name": "stderr",
     "output_type": "stream",
     "text": [
      "/export/home/blangenb/miniconda3/lib/python3.7/site-packages/matplotlib/cbook/deprecation.py:107: MatplotlibDeprecationWarning: Adding an axes using the same arguments as a previous axes currently reuses the earlier instance.  In a future version, a new instance will always be created and returned.  Meanwhile, this warning can be suppressed, and the future behavior ensured, by passing a unique label to each axes instance.\n",
      "  warnings.warn(message, mplDeprecation, stacklevel=1)\n"
     ]
    },
    {
     "data": {
      "text/plain": [
       "Text(0.5,1,'WRF soil moisture changes')"
      ]
     },
     "execution_count": 71,
     "metadata": {},
     "output_type": "execute_result"
    },
    {
     "data": {
      "image/png": "[encoded data removed]",
      "text/plain": [
       "<Figure size 432x288 with 1 Axes>"
      ]
     },
     "metadata": {
      "needs_background": "light"
     },
     "output_type": "display_data"
    }
   ],
   "source": [
    "color_list = [matplotlib.cm.magma(i) for i in numpy.linspace(0,1,SOILLIQ_dry_diffs.shape[1])]\n",
    "for i in range(soilh2o_dry_diffs.shape[1]):\n",
    "    plot_this = pandas.Series(soilh2o_dry_diffs[:,i]).rolling(window=24, min_periods=12).mean()\n",
    "    mp.plot(plot_this, color=color_list[i], label='{:.0f} cm'.format(wrf_soil_levels[i])) #SOILLIQ_dry_diffs[:,1])#\n",
    "mp.xlim(0,240)\n",
    "mp.xticks([i for i in range(0,241,24)])\n",
    "mp.axes().set_xticklabels([i for i in range(0,11,1)])\n",
    "#mp.ylim(-.8,.2)\n",
    "mp.axhline(0)\n",
    "mp.legend()\n",
    "mp.title('WRF soil moisture changes')"
   ]
  },
  {
   "cell_type": "code",
   "execution_count": 72,
   "metadata": {
    "ExecuteTime": {
     "end_time": "2018-11-26T21:05:03.496549Z",
     "start_time": "2018-11-26T19:52:20.862Z"
    }
   },
   "outputs": [
    {
     "data": {
      "text/plain": [
       "(4, 3651)"
      ]
     },
     "execution_count": 72,
     "metadata": {},
     "output_type": "execute_result"
    }
   ],
   "source": [
    "cesm_equiv_soilh2o.shape"
   ]
  },
  {
   "cell_type": "code",
   "execution_count": 73,
   "metadata": {
    "ExecuteTime": {
     "end_time": "2018-11-26T21:05:03.499547Z",
     "start_time": "2018-11-26T19:52:20.867Z"
    }
   },
   "outputs": [
    {
     "data": {
      "text/plain": [
       "Text(0.5,1,'CESM soil moisture changes')"
      ]
     },
     "execution_count": 73,
     "metadata": {},
     "output_type": "execute_result"
    },
    {
     "data": {
      "image/png": "[encoded data removed]",
      "text/plain": [
       "<Figure size 432x288 with 1 Axes>"
      ]
     },
     "metadata": {
      "needs_background": "light"
     },
     "output_type": "display_data"
    }
   ],
   "source": [
    "color_list = [matplotlib.cm.magma(i) for i in numpy.linspace(0,1,SOILLIQ_dry_diffs.shape[1])]\n",
    "for i in range(4):\n",
    "    mp.plot(cesm_equiv_soilh2o[i,:], color=color_list[i], label='{:.1f} cm'.format(layer_depth_cesm[i]*100.)) #SOILLIQ_dry_diffs[:,1])#\n",
    "mp.xlim(0,10)\n",
    "mp.ylim(-.007,.002)\n",
    "mp.axhline(0)\n",
    "mp.legend(loc=4)\n",
    "mp.title('CESM soil moisture changes')"
   ]
  },
  {
   "cell_type": "code",
   "execution_count": 74,
   "metadata": {
    "ExecuteTime": {
     "end_time": "2018-11-26T21:05:03.502781Z",
     "start_time": "2018-11-26T19:52:20.870Z"
    }
   },
   "outputs": [
    {
     "data": {
      "text/plain": [
       "(3651, 15)"
      ]
     },
     "execution_count": 74,
     "metadata": {},
     "output_type": "execute_result"
    }
   ],
   "source": [
    "SOILLIQ_dry_diffs.shape"
   ]
  },
  {
   "cell_type": "code",
   "execution_count": 75,
   "metadata": {
    "ExecuteTime": {
     "end_time": "2018-11-26T21:05:03.505920Z",
     "start_time": "2018-11-26T19:52:20.875Z"
    }
   },
   "outputs": [
    {
     "data": {
      "image/png": "[encoded data removed]",
      "text/plain": [
       "<Figure size 324x360 with 2 Axes>"
      ]
     },
     "metadata": {
      "needs_background": "light"
     },
     "output_type": "display_data"
    }
   ],
   "source": [
    "fig = mp.figure(figsize=(4.5,5))\n",
    "color_list = [matplotlib.cm.magma(i) for i in numpy.linspace(0.25,0.75,4)][::-1]\n",
    "\n",
    "ax = fig.add_subplot(211)\n",
    "\n",
    "for i in range(soilh2o_dry_diffs.shape[1]):\n",
    "    plot_this = pandas.Series(soilh2o_dry_diffs[:,i]).rolling(window=24, min_periods=12).mean()\n",
    "    ax.plot(plot_this, color=color_list[i], label='{:.0f} cm'.format(wrf_soil_levels[i])) #SOILLIQ_dry_diffs[:,1])#\n",
    "ax.set_xlim(0,240)\n",
    "ax.set_xticks([i for i in range(0,241,48)])\n",
    "ax.set_xticklabels([i for i in range(0,11,2)])\n",
    "ax.set_yticks(numpy.arange(0,-.011,-0.005))\n",
    "ax.set_ylabel('m$^3$ m$^{\\,-3}$', fontsize=fontsize)\n",
    "ax.tick_params(labelsize=fontsize)\n",
    "ax.axhline(0, ls='--', c='0.1')\n",
    "ax.legend()\n",
    "\n",
    "ax.text(s='(a) WRF soil moist. changes', x=0, y=1.02, \\\n",
    "        ha='left', va='bottom', transform=ax.transAxes, fontsize=fontsize)\n",
    "\n",
    "handles, labels = ax.get_legend_handles_labels()\n",
    "legend = ax.legend(handles, labels, fontsize=fontsize, ncol=1, \\\n",
    "                   bbox_to_anchor=(1.02,1.0), edgecolor='None', facecolor='None', \\\n",
    "                   fancybox=False, bbox_transform=ax.transAxes, loc='upper left', \\\n",
    "                   borderaxespad=0, borderpad=0.25, handlelength=1.0, \\\n",
    "                   handletextpad=0.5)\n",
    "\n",
    "ax = fig.add_subplot(212)\n",
    "\n",
    "for i in range(4):\n",
    "    ax.plot(cesm_equiv_soilh2o[i,:], color=color_list[i], label='{:.1f} cm'.format(layer_depth_cesm[i]*100.)) #SOILLIQ_dry_diffs[:,1])#\n",
    "ax.set_xlim(0,10)\n",
    "ax.set_ylim(-.007,.002)\n",
    "ax.axhline(0, ls='--', c='0.1')\n",
    "ax.set_ylabel('m$^3$ m$^{\\,-3}$', fontsize=fontsize)\n",
    "ax.set_xlabel('days', fontsize=fontsize)\n",
    "ax.set_xticks([i for i in range(0,11,2)])\n",
    "ax.tick_params(labelsize=fontsize)\n",
    "ax.legend(loc=4)\n",
    "\n",
    "ax.text(s='(b) CESM soil moist. changes', x=0, y=1.02, \\\n",
    "        ha='left', va='bottom', transform=ax.transAxes, fontsize=fontsize)\n",
    "\n",
    "handles, labels = ax.get_legend_handles_labels()\n",
    "legend = ax.legend(handles, labels, fontsize=fontsize, ncol=1, \\\n",
    "                   bbox_to_anchor=(1.02,1.0), edgecolor='None', facecolor='None', \\\n",
    "                   fancybox=False, bbox_transform=ax.transAxes, loc='upper left', \\\n",
    "                   borderaxespad=0, borderpad=0.25, handlelength=1.0, \\\n",
    "                   handletextpad=0.5)\n",
    "\n",
    "fig.tight_layout(h_pad=2)\n",
    "#ax.title('CESM soil moisture changes')\n",
    "\n",
    "fig.savefig('../figures/REVISION_fig??_soil_moisture_timeseries_10days.pdf', bbox_inches='tight',\\\n",
    "           transparent=True)"
   ]
  },
  {
   "cell_type": "code",
   "execution_count": 107,
   "metadata": {
    "ExecuteTime": {
     "end_time": "2018-11-26T21:05:03.508979Z",
     "start_time": "2018-11-26T19:52:20.879Z"
    }
   },
   "outputs": [
    {
     "data": {
      "image/png": "[encoded data removed]",
      "text/plain": [
       "<Figure size 864x216 with 2 Axes>"
      ]
     },
     "metadata": {
      "needs_background": "light"
     },
     "output_type": "display_data"
    }
   ],
   "source": [
    "fontsize = 24\n",
    "\n",
    "color_list = [matplotlib.cm.magma(i) for i in numpy.linspace(0.25,0.75,4)][::-1]\n",
    "\n",
    "fig = mp.figure(figsize=(12,3))\n",
    "\n",
    "ax = fig.add_subplot(111)\n",
    "for i in range(4):\n",
    "    plot_this = pandas.Series(cesm_equiv_soilh2o[i,:]).rolling(window=30, min_periods=1).mean()\n",
    "    ax.plot(plot_this, color=color_list[i], label='{:.1f} cm'.format(layer_depth_cesm[i]*100.)) #SOILLIQ_dry_diffs[:,1])#\n",
    "ax.set_xlim(0,730)\n",
    "ax.set_ylim(-.05,0.03)\n",
    "ax.axhline(0, ls='--', c='0.1')\n",
    "ax.legend(loc=4)\n",
    "ax.text(s='CESM soil moist. and precip. changes (over dry Amazon)', x=0, y=1.02,\\\n",
    "        ha='left', va='bottom', transform=ax.transAxes, fontsize=fontsize)\n",
    "ax.set_xlabel('days', fontsize=fontsize)\n",
    "ax.set_ylabel('m m$^{\\,-3}$', fontsize=fontsize, labelpad=-20)\n",
    "ax.tick_params(labelsize=fontsize)\n",
    "ax.set_yticks([-.05,-.025,0,.025])\n",
    "ax.set_yticklabels(['-0.05','','0',''])\n",
    "ax.spines['right'].set_color(None)\n",
    "ax.zorder=1\n",
    "ax.set_facecolor('None')\n",
    "ymin, ymax = ax.get_ylim()\n",
    "\n",
    "handles, labels = ax.get_legend_handles_labels()\n",
    "\n",
    "precip_color='darkcyan'\n",
    "ax2 = ax.twinx()\n",
    "plot_this = pandas.Series(PRECT_dry_diffs*86400.*1000.).rolling(window=30, min_periods=1).mean()\n",
    "ax2.plot(plot_this, color=precip_color, lw='2', label='precip.')\n",
    "ax2.set_ylabel('mm day$^{\\,-1}$', color=precip_color, fontsize=fontsize)\n",
    "ax2.set_yticks([-4,-2,0,2])\n",
    "ax2.set_facecolor('None')\n",
    "ax2.zorder=0\n",
    "ax2.tick_params(labelsize=fontsize)\n",
    "ax2.tick_params(axis='y', color=precip_color)\n",
    "ax2.spines['right'].set_color(precip_color)\n",
    "[t.set_color(precip_color) for t in ax2.yaxis.get_ticklabels()]\n",
    "\n",
    "handles2, labels2 = ax2.get_legend_handles_labels()\n",
    "\n",
    "handles = handles+handles2\n",
    "labels = labels+labels2\n",
    "legend = ax.legend(handles, labels, fontsize=fontsize, ncol=5, \\\n",
    "                   bbox_to_anchor=(.5,.97), edgecolor='None', facecolor='None', \\\n",
    "                   fancybox=False, bbox_transform=ax.transAxes, loc='upper center', \\\n",
    "                   borderaxespad=0, borderpad=0., handlelength=1., \\\n",
    "                   handletextpad=0.25, columnspacing=0.75)\n",
    "\n",
    "# make the zeros line up\n",
    "zero_to_ymax_ratio = (ymax-0)/(ymax-ymin)\n",
    "ymax2 = 2.5\n",
    "ymin2 = ymax2-(ymax2/zero_to_ymax_ratio)\n",
    "ax2.set_ylim(ymin2,ymax2)\n",
    "\n",
    "fig.savefig('../figures/POSTER_soil_moisture_time_series.pdf', bbox_inches='tight',\\\n",
    "           transparent=True)"
   ]
  },
  {
   "cell_type": "raw",
   "metadata": {
    "ExecuteTime": {
     "end_time": "2018-11-26T21:05:03.515006Z",
     "start_time": "2018-11-26T19:52:20.887Z"
    }
   },
   "source": [
    "fig = mp.figure(figsize=(6.5,3))\n",
    "\n",
    "ax = fig.add_subplot(111)\n",
    "color_list = [matplotlib.cm.magma(i) for i in numpy.linspace(0,1,SOILLIQ_dry_diffs.shape[1])]\n",
    "for i in range(4):\n",
    "    plot_this = pandas.Series(cesm_equiv_soilh2o[i,:]).rolling(window=365, min_periods=10).mean()\n",
    "    ax.plot(plot_this, color=color_list[i], label='{:.1f} cm'.format(layer_depth_cesm[i]*100.)) #SOILLIQ_dry_diffs[:,1])#\n",
    "#ax.set_xlim(0,1000)\n",
    "#mp.ylim(-.007,.002)\n",
    "ax.axhline(0, ls='--', lw=0.5, c='0.1')\n",
    "ax.legend(loc=4)\n",
    "ax.text(s='CESM soil moisture changes (over dry Amazon)', x=0, y=1.02,\\\n",
    "        ha='left', va='bottom', transform=ax.transAxes, fontsize=fontsize)\n",
    "ax.set_xlabel('days', fontsize=fontsize)\n",
    "ax.set_ylabel('m m$^{\\,-3}$', fontsize=fontsize)\n",
    "\n",
    "ax2 = ax.twinx()\n",
    "plot_this = pandas.Series(PRECT_dry_diffs*86400.*1000.).rolling(window=365, min_periods=10).mean()\n",
    "ax2.plot(plot_this, color='firebrick')\n",
    "\n",
    "ax2.spines['right'].set_color('firebrick')\n",
    "ax2.tick_params(axis='y', color='firebrick')\n",
    "#ax2.yaxis.label.set_color('firebrick')\n",
    "[t.set_color('firebrick') for t in ax2.yaxis.get_ticklabels()]\n",
    "\n",
    "ax2.set_ylabel('mm day$^{\\,-1}$', color='firebrick')"
   ]
  },
  {
   "cell_type": "raw",
   "metadata": {
    "ExecuteTime": {
     "end_time": "2018-11-26T21:05:03.517869Z",
     "start_time": "2018-11-26T19:52:20.892Z"
    }
   },
   "source": [
    "color_list = [matplotlib.cm.magma(i) for i in numpy.linspace(0,1,SOILLIQ_dry_diffs.shape[1])]\n",
    "for i in range(SOILLIQ_dry_diffs.shape[1]):\n",
    "    mp.plot(SOILLIQ_dry_diffs[:,i], color=color_list[i], label='{:.1f} cm'.format(cesm_soil_levels[i]*100.)) #SOILLIQ_dry_diffs[:,1])#\n",
    "mp.xlim(0,10)\n",
    "mp.ylim(-.2,.2)\n",
    "mp.axhline(0)\n",
    "mp.legend(loc=4)"
   ]
  }
 ],
 "metadata": {
  "kernelspec": {
   "display_name": "Python 3",
   "language": "python",
   "name": "python3"
  },
  "language_info": {
   "codemirror_mode": {
    "name": "ipython",
    "version": 3
   },
   "file_extension": ".py",
   "mimetype": "text/x-python",
   "name": "python",
   "nbconvert_exporter": "python",
   "pygments_lexer": "ipython3",
   "version": "3.7.0"
  },
  "varInspector": {
   "cols": {
    "lenName": 16,
    "lenType": 16,
    "lenVar": 40
   },
   "kernels_config": {
    "python": {
     "delete_cmd_postfix": "",
     "delete_cmd_prefix": "del ",
     "library": "var_list.py",
     "varRefreshCmd": "print(var_dic_list())"
    },
    "r": {
     "delete_cmd_postfix": ") ",
     "delete_cmd_prefix": "rm(",
     "library": "var_list.r",
     "varRefreshCmd": "cat(var_dic_list()) "
    }
   },
   "types_to_exclude": [
    "module",
    "function",
    "builtin_function_or_method",
    "instance",
    "_Feature"
   ],
   "window_display": false
  }
 },
 "nbformat": 4,
 "nbformat_minor": 2
}
