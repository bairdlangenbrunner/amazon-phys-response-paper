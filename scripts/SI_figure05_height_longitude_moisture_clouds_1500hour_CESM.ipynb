{
 "cells": [
  {
   "cell_type": "markdown",
   "metadata": {},
   "source": [
    "# import stuff"
   ]
  },
  {
   "cell_type": "code",
   "execution_count": 7,
   "metadata": {
    "ExecuteTime": {
     "end_time": "2018-07-02T19:19:28.394164Z",
     "start_time": "2018-07-02T19:19:28.157794Z"
    }
   },
   "outputs": [],
   "source": [
    "import numpy\n",
    "import xarray\n",
    "import matplotlib\n",
    "import matplotlib.pyplot as mp\n",
    "import datetime\n",
    "import glob\n",
    "import netCDF4\n",
    "import pandas\n",
    "#import wrf\n",
    "import string\n",
    "import seaborn\n",
    "import matplotlib.colors\n",
    "import cmocean\n",
    "import cftime\n",
    "import scipy.ndimage\n",
    "\n",
    "import cartopy\n",
    "\n",
    "DEGREE_SIGN = u'\\u00B0'\n",
    "mp.rcParams.update({'mathtext.default': 'regular'})"
   ]
  },
  {
   "cell_type": "markdown",
   "metadata": {},
   "source": [
    "# open control data (cesm 30 day runs)"
   ]
  },
  {
   "cell_type": "code",
   "execution_count": 8,
   "metadata": {
    "ExecuteTime": {
     "end_time": "2018-07-02T05:47:41.732340Z",
     "start_time": "2018-07-02T05:47:23.111717Z"
    }
   },
   "outputs": [],
   "source": [
    "cont_fileroot = '/beegfs/DATA/pritchard/blangenb/CESM_ARCHIVE/B_1850_CAM5.30days.cam0400.clm0400.ens_10members/ens_mean_cesm_files/'\n",
    "cont_filename = 'B_1850_CAM5.30days.cam0400.clm0400.ens.cam.h0.0011-03-20-0000_0011-04-20-0000_ens_mean.nc'\n",
    "cont_cam_ds = xarray.open_dataset(cont_fileroot+cont_filename, decode_times=False)"
   ]
  },
  {
   "cell_type": "code",
   "execution_count": 9,
   "metadata": {
    "ExecuteTime": {
     "end_time": "2018-07-02T06:18:40.154717Z",
     "start_time": "2018-07-02T06:17:51.275670Z"
    }
   },
   "outputs": [],
   "source": [
    "rainc_400 = cont_cam_ds['PRECC'].sel(lat=slice(-30,30),lon=slice(270,330)).values\n",
    "rainnc_400 = cont_cam_ds['PRECL'].sel(lat=slice(-30,30),lon=slice(270,330)).values\n",
    "qvapor_400 = cont_cam_ds['Q'].sel(lat=slice(-30,30),lon=slice(270,330)).values\n",
    "pblh_400 = cont_cam_ds['PBLH'].sel(lat=slice(-30,30),lon=slice(270,330)).values\n",
    "geopot_400 = cont_cam_ds['Z3'].sel(lat=slice(-30,30),lon=slice(270,330)).values\n",
    "cldfra_400 = cont_cam_ds['CLOUD'].sel(lat=slice(-30,30),lon=slice(270,330)).values\n",
    "tk_400 = cont_cam_ds['T'].sel(lat=slice(-30,30),lon=slice(270,330)).values"
   ]
  },
  {
   "cell_type": "code",
   "execution_count": 10,
   "metadata": {
    "ExecuteTime": {
     "end_time": "2018-07-02T06:21:48.219012Z",
     "start_time": "2018-07-02T06:21:48.203542Z"
    }
   },
   "outputs": [],
   "source": [
    "time = cont_cam_ds['time'].values\n",
    "lat = cont_cam_ds['lat'].sel(lat=slice(-30,30)).values\n",
    "lon = cont_cam_ds['lon'].sel(lon=slice(270,330)).values\n",
    "landmask = cont_cam_ds['LANDFRAC'].isel(time=0).sel(lat=slice(-30,30),lon=slice(270,330)).values"
   ]
  },
  {
   "cell_type": "code",
   "execution_count": 11,
   "metadata": {
    "ExecuteTime": {
     "end_time": "2018-07-02T06:21:52.059016Z",
     "start_time": "2018-07-02T06:21:52.051064Z"
    }
   },
   "outputs": [],
   "source": [
    "xlong,xlat = numpy.meshgrid(lon,lat)"
   ]
  },
  {
   "cell_type": "markdown",
   "metadata": {},
   "source": [
    "# open phys data"
   ]
  },
  {
   "cell_type": "code",
   "execution_count": 12,
   "metadata": {
    "ExecuteTime": {
     "end_time": "2018-07-02T06:00:39.222566Z",
     "start_time": "2018-07-02T06:00:20.161754Z"
    }
   },
   "outputs": [],
   "source": [
    "phys_fileroot = '/beegfs/DATA/pritchard/blangenb/CESM_ARCHIVE/B_1850_CAM5.30days.cam0400.clm1000.ens_10members/ens_mean_cesm_files/'\n",
    "phys_filename = 'B_1850_CAM5.30days.cam0400.clm1000.ens.cam.h0.0011-03-20-0000_0011-04-20-0000_ens_mean.nc'\n",
    "phys_cam_ds = xarray.open_dataset(phys_fileroot+phys_filename, decode_times=False)"
   ]
  },
  {
   "cell_type": "code",
   "execution_count": 13,
   "metadata": {
    "ExecuteTime": {
     "end_time": "2018-07-02T06:19:22.610064Z",
     "start_time": "2018-07-02T06:18:40.749999Z"
    }
   },
   "outputs": [],
   "source": [
    "rainc_1000 = phys_cam_ds['PRECC'].sel(lat=slice(-30,30),lon=slice(270,330)).values\n",
    "rainnc_1000 = phys_cam_ds['PRECL'].sel(lat=slice(-30,30),lon=slice(270,330)).values\n",
    "qvapor_1000 = phys_cam_ds['Q'].sel(lat=slice(-30,30),lon=slice(270,330)).values\n",
    "pblh_1000 = phys_cam_ds['PBLH'].sel(lat=slice(-30,30),lon=slice(270,330)).values\n",
    "#geopot_1000 = phys_cam_ds['Z3']\n",
    "cldfra_1000 = phys_cam_ds['CLOUD'].sel(lat=slice(-30,30),lon=slice(270,330)).values\n",
    "tk_1000 = phys_cam_ds['T'].sel(lat=slice(-30,30),lon=slice(270,330)).values"
   ]
  },
  {
   "cell_type": "markdown",
   "metadata": {},
   "source": [
    "# get time data"
   ]
  },
  {
   "cell_type": "code",
   "execution_count": 14,
   "metadata": {
    "ExecuteTime": {
     "end_time": "2018-07-02T06:02:44.629849Z",
     "start_time": "2018-07-02T06:02:44.602575Z"
    }
   },
   "outputs": [],
   "source": [
    "time_cesm = cont_cam_ds['time']\n",
    "time_converted = netCDF4.num2date(time_cesm.values, time_cesm.units, time_cesm.calendar)\n",
    "\n",
    "time_manual = []\n",
    "for t_idx in range(time_converted.size):\n",
    "    year=time_converted[t_idx].year\n",
    "    month=time_converted[t_idx].month\n",
    "    day=time_converted[t_idx].day\n",
    "    hour=time_converted[t_idx].hour\n",
    "    minute=time_converted[t_idx].minute\n",
    "    hour_round = round(hour+minute/60)\n",
    "    time_manual.append(cftime.DatetimeNoLeap(year,month,day,hour_round))\n",
    "    \n",
    "time_datetimes = numpy.array(time_manual)"
   ]
  },
  {
   "cell_type": "code",
   "execution_count": 15,
   "metadata": {
    "ExecuteTime": {
     "end_time": "2018-07-02T06:02:45.501277Z",
     "start_time": "2018-07-02T06:02:45.496156Z"
    }
   },
   "outputs": [],
   "source": [
    "g = 9.81"
   ]
  },
  {
   "cell_type": "markdown",
   "metadata": {},
   "source": [
    "# get latlon subset"
   ]
  },
  {
   "cell_type": "code",
   "execution_count": 16,
   "metadata": {
    "ExecuteTime": {
     "end_time": "2018-07-02T19:10:07.904698Z",
     "start_time": "2018-07-02T19:10:07.898879Z"
    }
   },
   "outputs": [],
   "source": [
    "lat_hi = 10\n",
    "lat_lo = -10\n",
    "latlon_indices = (xlat<=lat_hi)&(xlat>=lat_lo)&(landmask>.5)"
   ]
  },
  {
   "cell_type": "markdown",
   "metadata": {},
   "source": [
    "# PBLH diffs"
   ]
  },
  {
   "cell_type": "code",
   "execution_count": 17,
   "metadata": {
    "ExecuteTime": {
     "end_time": "2018-07-02T14:54:32.056232Z",
     "start_time": "2018-07-02T14:54:32.038742Z"
    }
   },
   "outputs": [],
   "source": [
    "pblh_diffs = pblh_1000-pblh_400"
   ]
  },
  {
   "cell_type": "code",
   "execution_count": 18,
   "metadata": {
    "ExecuteTime": {
     "end_time": "2018-07-02T14:54:33.355558Z",
     "start_time": "2018-07-02T14:54:33.345685Z"
    }
   },
   "outputs": [],
   "source": [
    "pblh_diffs_latlon_nan = numpy.copy(pblh_diffs)\n",
    "pblh_diffs_latlon_nan[:,~latlon_indices]=numpy.nan"
   ]
  },
  {
   "cell_type": "markdown",
   "metadata": {},
   "source": [
    "# qvapor"
   ]
  },
  {
   "cell_type": "code",
   "execution_count": 19,
   "metadata": {
    "ExecuteTime": {
     "end_time": "2018-07-02T14:54:35.060374Z",
     "start_time": "2018-07-02T14:54:34.771471Z"
    }
   },
   "outputs": [],
   "source": [
    "qvapor_diffs = qvapor_1000-qvapor_400"
   ]
  },
  {
   "cell_type": "code",
   "execution_count": 20,
   "metadata": {
    "ExecuteTime": {
     "end_time": "2018-07-02T14:54:36.316472Z",
     "start_time": "2018-07-02T14:54:36.139298Z"
    }
   },
   "outputs": [],
   "source": [
    "qvapor_diffs_latlon_nan = numpy.copy(qvapor_diffs)\n",
    "qvapor_diffs_latlon_nan[:,:,~latlon_indices]=numpy.nan"
   ]
  },
  {
   "cell_type": "code",
   "execution_count": 21,
   "metadata": {
    "ExecuteTime": {
     "end_time": "2018-07-02T14:54:37.715285Z",
     "start_time": "2018-07-02T14:54:37.395548Z"
    }
   },
   "outputs": [
    {
     "name": "stderr",
     "output_type": "stream",
     "text": [
      "/export/home/blangenb/miniconda3/lib/python3.7/site-packages/ipykernel_launcher.py:1: RuntimeWarning: Mean of empty slice\n",
      "  \"\"\"Entry point for launching an IPython kernel.\n"
     ]
    }
   ],
   "source": [
    "qvapor_diffs_latmean = numpy.nanmean(qvapor_diffs_latlon_nan, axis=2)"
   ]
  },
  {
   "cell_type": "markdown",
   "metadata": {},
   "source": [
    "# cldfra"
   ]
  },
  {
   "cell_type": "code",
   "execution_count": 22,
   "metadata": {
    "ExecuteTime": {
     "end_time": "2018-07-02T14:54:39.082927Z",
     "start_time": "2018-07-02T14:54:38.795774Z"
    }
   },
   "outputs": [],
   "source": [
    "cldfra_diffs = cldfra_1000-cldfra_400"
   ]
  },
  {
   "cell_type": "code",
   "execution_count": 23,
   "metadata": {
    "ExecuteTime": {
     "end_time": "2018-07-02T14:54:40.356104Z",
     "start_time": "2018-07-02T14:54:40.178548Z"
    }
   },
   "outputs": [],
   "source": [
    "cldfra_diffs_latlon_nan = numpy.copy(cldfra_diffs)\n",
    "cldfra_diffs_latlon_nan[:,:,~latlon_indices]=numpy.nan"
   ]
  },
  {
   "cell_type": "code",
   "execution_count": 24,
   "metadata": {
    "ExecuteTime": {
     "end_time": "2018-07-02T14:54:41.747479Z",
     "start_time": "2018-07-02T14:54:41.437923Z"
    }
   },
   "outputs": [
    {
     "name": "stderr",
     "output_type": "stream",
     "text": [
      "/export/home/blangenb/miniconda3/lib/python3.7/site-packages/ipykernel_launcher.py:1: RuntimeWarning: Mean of empty slice\n",
      "  \"\"\"Entry point for launching an IPython kernel.\n"
     ]
    }
   ],
   "source": [
    "cldfra_diffs_latmean = numpy.nanmean(cldfra_diffs_latlon_nan, axis=2)"
   ]
  },
  {
   "cell_type": "markdown",
   "metadata": {},
   "source": [
    "# tk"
   ]
  },
  {
   "cell_type": "code",
   "execution_count": 25,
   "metadata": {
    "ExecuteTime": {
     "end_time": "2018-07-02T14:54:42.889095Z",
     "start_time": "2018-07-02T14:54:42.826003Z"
    }
   },
   "outputs": [],
   "source": [
    "tk_diffs = tk_1000 - tk_400"
   ]
  },
  {
   "cell_type": "code",
   "execution_count": 26,
   "metadata": {
    "ExecuteTime": {
     "end_time": "2018-07-02T14:54:44.280762Z",
     "start_time": "2018-07-02T14:54:44.104328Z"
    }
   },
   "outputs": [],
   "source": [
    "tk_diffs_latlon_nan = numpy.copy(tk_diffs)\n",
    "tk_diffs_latlon_nan[:,:,~latlon_indices]=numpy.nan"
   ]
  },
  {
   "cell_type": "code",
   "execution_count": 27,
   "metadata": {
    "ExecuteTime": {
     "end_time": "2018-07-02T14:54:44.596598Z",
     "start_time": "2018-07-02T14:54:44.289182Z"
    }
   },
   "outputs": [
    {
     "name": "stderr",
     "output_type": "stream",
     "text": [
      "/export/home/blangenb/miniconda3/lib/python3.7/site-packages/ipykernel_launcher.py:1: RuntimeWarning: Mean of empty slice\n",
      "  \"\"\"Entry point for launching an IPython kernel.\n"
     ]
    }
   ],
   "source": [
    "tk_diffs_latmean = numpy.nanmean(tk_diffs_latlon_nan, axis=2)"
   ]
  },
  {
   "cell_type": "markdown",
   "metadata": {},
   "source": [
    "# geopotential"
   ]
  },
  {
   "cell_type": "code",
   "execution_count": 28,
   "metadata": {
    "ExecuteTime": {
     "end_time": "2018-07-02T14:54:46.922688Z",
     "start_time": "2018-07-02T14:54:46.744148Z"
    }
   },
   "outputs": [],
   "source": [
    "geopot_400_latlon_nan = numpy.copy(geopot_400)\n",
    "geopot_400_latlon_nan[:,:,~latlon_indices]=numpy.nan"
   ]
  },
  {
   "cell_type": "code",
   "execution_count": 29,
   "metadata": {
    "ExecuteTime": {
     "end_time": "2018-07-02T14:54:48.308261Z",
     "start_time": "2018-07-02T14:54:48.001059Z"
    }
   },
   "outputs": [
    {
     "name": "stderr",
     "output_type": "stream",
     "text": [
      "/export/home/blangenb/miniconda3/lib/python3.7/site-packages/ipykernel_launcher.py:1: RuntimeWarning: Mean of empty slice\n",
      "  \"\"\"Entry point for launching an IPython kernel.\n"
     ]
    }
   ],
   "source": [
    "geopot_400_latmean = numpy.nanmean(geopot_400_latlon_nan, axis=2)"
   ]
  },
  {
   "cell_type": "markdown",
   "metadata": {},
   "source": [
    "# pblh"
   ]
  },
  {
   "cell_type": "code",
   "execution_count": 30,
   "metadata": {
    "ExecuteTime": {
     "end_time": "2018-07-02T14:54:49.392072Z",
     "start_time": "2018-07-02T14:54:49.382052Z"
    }
   },
   "outputs": [],
   "source": [
    "pblh_diffs_latlon_nan = numpy.copy(pblh_diffs)\n",
    "pblh_diffs_latlon_nan[:,~latlon_indices]=numpy.nan"
   ]
  },
  {
   "cell_type": "code",
   "execution_count": 31,
   "metadata": {
    "ExecuteTime": {
     "end_time": "2018-07-02T14:54:50.502795Z",
     "start_time": "2018-07-02T14:54:50.489359Z"
    }
   },
   "outputs": [],
   "source": [
    "pblh_400_latlon_nan = numpy.copy(pblh_400)\n",
    "pblh_400_latlon_nan[:,~latlon_indices]=numpy.nan"
   ]
  },
  {
   "cell_type": "code",
   "execution_count": 32,
   "metadata": {
    "ExecuteTime": {
     "end_time": "2018-07-02T14:54:51.599570Z",
     "start_time": "2018-07-02T14:54:51.586039Z"
    }
   },
   "outputs": [],
   "source": [
    "pblh_1000_latlon_nan = numpy.copy(pblh_1000)\n",
    "pblh_1000_latlon_nan[:,~latlon_indices]=numpy.nan"
   ]
  },
  {
   "cell_type": "markdown",
   "metadata": {},
   "source": [
    "Set lontidues west of 290º equal to NaN so that Andes don't have a weird boundary layer"
   ]
  },
  {
   "cell_type": "code",
   "execution_count": 33,
   "metadata": {
    "ExecuteTime": {
     "end_time": "2018-07-02T19:11:20.066227Z",
     "start_time": "2018-07-02T19:11:20.057900Z"
    }
   },
   "outputs": [],
   "source": [
    "lon_lo = 290-360\n",
    "lon_hi = 320-360\n",
    "lon_indices = (xlong[0,:]<lon_lo)|(xlong[0,:]>lon_hi)"
   ]
  },
  {
   "cell_type": "code",
   "execution_count": 34,
   "metadata": {
    "ExecuteTime": {
     "end_time": "2018-07-02T19:12:13.109156Z",
     "start_time": "2018-07-02T19:12:13.069075Z"
    }
   },
   "outputs": [
    {
     "name": "stderr",
     "output_type": "stream",
     "text": [
      "/export/home/blangenb/miniconda3/lib/python3.7/site-packages/ipykernel_launcher.py:1: RuntimeWarning: Mean of empty slice\n",
      "  \"\"\"Entry point for launching an IPython kernel.\n",
      "/export/home/blangenb/miniconda3/lib/python3.7/site-packages/ipykernel_launcher.py:2: RuntimeWarning: Mean of empty slice\n",
      "  \n",
      "/export/home/blangenb/miniconda3/lib/python3.7/site-packages/ipykernel_launcher.py:3: RuntimeWarning: Mean of empty slice\n",
      "  This is separate from the ipykernel package so we can avoid doing imports until\n"
     ]
    }
   ],
   "source": [
    "pblh_diffs_latmean = numpy.nanmean(pblh_diffs_latlon_nan, axis=1)\n",
    "pblh_400_latmean = numpy.nanmean(pblh_400_latlon_nan, axis=1)\n",
    "pblh_1000_latmean = numpy.nanmean(pblh_1000_latlon_nan, axis=1)\n",
    "\n",
    "pblh_400_latmean[:,~lon_indices] = numpy.nan\n",
    "pblh_1000_latmean[:,~lon_indices] = numpy.nan"
   ]
  },
  {
   "cell_type": "markdown",
   "metadata": {},
   "source": [
    "plot qvapor and wind climatologies"
   ]
  },
  {
   "cell_type": "code",
   "execution_count": 35,
   "metadata": {
    "ExecuteTime": {
     "end_time": "2018-07-02T19:12:15.554866Z",
     "start_time": "2018-07-02T19:12:15.539304Z"
    }
   },
   "outputs": [],
   "source": [
    "# make color map\n",
    "minval=0. # for inferno:  0.18\n",
    "maxval=0.95 # for inferno: 1.0\n",
    "n=256\n",
    "full_cmap = mp.get_cmap('YlGnBu')\n",
    "cmap_partial = matplotlib.colors.LinearSegmentedColormap.from_list(\\\n",
    "    'trunc({n},{a:.2f},{b:.2f})'.format(n=full_cmap.name, a=minval, b=maxval),\\\n",
    "    full_cmap(numpy.linspace(minval, maxval, n)))"
   ]
  },
  {
   "cell_type": "markdown",
   "metadata": {},
   "source": [
    "# cmap creation"
   ]
  },
  {
   "cell_type": "code",
   "execution_count": 37,
   "metadata": {
    "ExecuteTime": {
     "end_time": "2018-07-02T19:12:16.811308Z",
     "start_time": "2018-07-02T19:12:16.796307Z"
    }
   },
   "outputs": [],
   "source": [
    "colors1 = cmocean.cm.turbid_r(numpy.linspace(0., 1, 128))\n",
    "colors2 = cmocean.cm.deep(numpy.linspace(0, 1, 128))\n",
    "\n",
    "# combine them and build a new colormap\n",
    "colors = numpy.vstack((colors1, colors2))\n",
    "cmap_precip = matplotlib.colors.LinearSegmentedColormap.from_list('my_colormap', colors)"
   ]
  },
  {
   "cell_type": "markdown",
   "metadata": {},
   "source": [
    "## plot qvapor, cldfra, and tk differences at 15:00"
   ]
  },
  {
   "cell_type": "code",
   "execution_count": 38,
   "metadata": {
    "ExecuteTime": {
     "end_time": "2018-07-02T19:12:17.900314Z",
     "start_time": "2018-07-02T19:12:17.893440Z"
    }
   },
   "outputs": [],
   "source": [
    "time_datetimes_shifted = time_datetimes + datetime.timedelta(hours=-4)"
   ]
  },
  {
   "cell_type": "code",
   "execution_count": 39,
   "metadata": {
    "ExecuteTime": {
     "end_time": "2018-07-02T19:14:08.205282Z",
     "start_time": "2018-07-02T19:14:08.197618Z"
    }
   },
   "outputs": [],
   "source": [
    "first_day = time_datetimes[0].day"
   ]
  },
  {
   "cell_type": "code",
   "execution_count": 40,
   "metadata": {
    "ExecuteTime": {
     "end_time": "2018-07-02T19:14:46.019467Z",
     "start_time": "2018-07-02T19:14:46.009698Z"
    }
   },
   "outputs": [],
   "source": [
    "time_indices_1500 = [(t.hour in [15]) and (t.day in range(first_day+1,first_day+10)) for t in time_datetimes_shifted]\n",
    "time_indices_1400 = [(t.hour in [14]) and (t.day in range(first_day+1,first_day+10)) for t in time_datetimes_shifted]"
   ]
  },
  {
   "cell_type": "code",
   "execution_count": 41,
   "metadata": {
    "ExecuteTime": {
     "end_time": "2018-07-02T19:14:52.777868Z",
     "start_time": "2018-07-02T19:14:52.761195Z"
    }
   },
   "outputs": [
    {
     "name": "stderr",
     "output_type": "stream",
     "text": [
      "/export/home/blangenb/miniconda3/lib/python3.7/site-packages/ipykernel_launcher.py:1: RuntimeWarning: Mean of empty slice\n",
      "  \"\"\"Entry point for launching an IPython kernel.\n",
      "/export/home/blangenb/miniconda3/lib/python3.7/site-packages/ipykernel_launcher.py:2: RuntimeWarning: Mean of empty slice\n",
      "  \n",
      "/export/home/blangenb/miniconda3/lib/python3.7/site-packages/ipykernel_launcher.py:3: RuntimeWarning: Mean of empty slice\n",
      "  This is separate from the ipykernel package so we can avoid doing imports until\n",
      "/export/home/blangenb/miniconda3/lib/python3.7/site-packages/ipykernel_launcher.py:8: RuntimeWarning: Mean of empty slice\n",
      "  \n",
      "/export/home/blangenb/miniconda3/lib/python3.7/site-packages/ipykernel_launcher.py:9: RuntimeWarning: Mean of empty slice\n",
      "  if __name__ == '__main__':\n",
      "/export/home/blangenb/miniconda3/lib/python3.7/site-packages/ipykernel_launcher.py:11: RuntimeWarning: Mean of empty slice\n",
      "  # This is added back by InteractiveShellApp.init_path()\n"
     ]
    }
   ],
   "source": [
    "qvapor_diffs_latmean_timechunk = numpy.nanmean(qvapor_diffs_latmean[time_indices_1500,:,:], axis=0)\n",
    "cldfra_diffs_latmean_timechunk = numpy.nanmean(cldfra_diffs_latmean[time_indices_1500,:,:], axis=0)\n",
    "tk_diffs_latmean_timechunk = numpy.nanmean(tk_diffs_latmean[time_indices_1500,:,:], axis=0)\n",
    "#ua_diffs_latmean_timechunk = numpy.nanmean(ua_diffs_latmean[time_indices_1500,:,:], axis=0)\n",
    "#wa_diffs_latmean_timechunk = numpy.nanmean(wa_diffs_latmean[time_indices_1500,:,:], axis=0)\n",
    "\n",
    "\n",
    "pblh_400_latmean_timechunk = numpy.nanmean(pblh_400_latmean[time_indices_1400,:], axis=0)\n",
    "pblh_1000_latmean_timechunk = numpy.nanmean(pblh_1000_latmean[time_indices_1400,:], axis=0)\n",
    "\n",
    "geopot_400_latmean_timechunk = numpy.nanmean(geopot_400_latmean[time_indices_1500,:,:], axis=0)\n",
    "#ptot_400_latmean_timechunk = numpy.nanmean(ptot_400_latmean[time_indices_1500,:,:], axis=0)"
   ]
  },
  {
   "cell_type": "markdown",
   "metadata": {},
   "source": [
    "# create grid"
   ]
  },
  {
   "cell_type": "code",
   "execution_count": 42,
   "metadata": {
    "ExecuteTime": {
     "end_time": "2018-07-02T19:14:55.025854Z",
     "start_time": "2018-07-02T19:14:55.019873Z"
    }
   },
   "outputs": [],
   "source": [
    "xx,zz=numpy.meshgrid(xlong[0,:],geopot_400_latmean_timechunk[:,:].mean(axis=1)/(1000*g))"
   ]
  },
  {
   "cell_type": "code",
   "execution_count": 43,
   "metadata": {
    "ExecuteTime": {
     "end_time": "2018-07-02T19:24:51.215542Z",
     "start_time": "2018-07-02T19:24:51.207792Z"
    }
   },
   "outputs": [],
   "source": [
    "import astropy.convolution\n",
    "kernel = astropy.convolution.Gaussian2DKernel(x_stddev=1.5)"
   ]
  },
  {
   "cell_type": "code",
   "execution_count": 47,
   "metadata": {
    "ExecuteTime": {
     "end_time": "2018-07-02T19:36:43.774496Z",
     "start_time": "2018-07-02T19:36:40.338007Z"
    }
   },
   "outputs": [
    {
     "data": {
      "image/png": "[encoded data removed]",
      "text/plain": [
       "<Figure size 288x432 with 6 Axes>"
      ]
     },
     "metadata": {
      "needs_background": "light"
     },
     "output_type": "display_data"
    }
   ],
   "source": [
    "fontsize = 12\n",
    "\n",
    "fig = mp.figure(figsize=(4,6))\n",
    "\n",
    "#axes[0].contourf(qvapor_diffs_latmean_timechunk)\n",
    "#axes[1].contourf(cldfra_diffs_latmean_timechunk)\n",
    "#axes[2].contourf(tk_diffs_latmean_timechunk)\n",
    "\n",
    "xticks_deg_E=numpy.array((280,300,320))\n",
    "xticks = -(360-xticks_deg_E)\n",
    "xticks_format=[str(tick)+DEGREE_SIGN+'E' for tick in xticks_deg_E]\n",
    "\n",
    "ax_list = []\n",
    "contour_list = []\n",
    "\n",
    "\n",
    "\n",
    "ax = fig.add_subplot(311)#, projection=cartopy.crs.PlateCarree())\n",
    "levels = numpy.arange(-1.25,1.251,0.125)\n",
    "\n",
    "contour_plot = ax.contourf(xx,\\\n",
    "                           geopot_400_latmean_timechunk/(1000.),\\\n",
    "                           qvapor_diffs_latmean_timechunk*1000.,\\\n",
    "                           levels=levels,\\\n",
    "                           cmap=cmap_precip,\\\n",
    "                           extend='both')\n",
    "ax.plot(xx[0,:],pblh_400_latmean_timechunk/1000.,c='darkred', label='PBLH cont.', zorder=3, lw=2)\n",
    "ax.plot(xx[0,:],pblh_1000_latmean_timechunk/1000.,c='orangered',ls='--', label='PBLH phys.', zorder=3, lw=2)\n",
    "ax.tick_params(labelsize=fontsize)\n",
    "ax.set_xlim(279,321)\n",
    "ax.set_ylim(0,3.25)\n",
    "ax.set_yticks([1,2,3])\n",
    "ax.set_xticks([280,300,320])\n",
    "ax.set_xticklabels(xticks_format)\n",
    "ax.set_ylabel('km', fontsize=fontsize)\n",
    "ax.set_facecolor('0.25')\n",
    "ax_list.append(ax)\n",
    "contour_list.append(contour_plot)\n",
    "\n",
    "\n",
    "\n",
    "\n",
    "ax = fig.add_subplot(312)#, projection=cartopy.crs.PlateCarree())\n",
    "levels = numpy.arange(-10,10.1,1)\n",
    "contour_plot = ax.contourf(xx,\\\n",
    "                           geopot_400_latmean_timechunk/(1000.),\\\n",
    "                           cldfra_diffs_latmean_timechunk*100.,\\\n",
    "                           levels=levels,\\\n",
    "                           cmap=cmocean.cm.balance_r,\\\n",
    "                           extend='both')\n",
    "ax.plot(xx[0,:],pblh_400_latmean_timechunk/1000.,c='darkred', label='PBLH cont.', zorder=3, lw=2)\n",
    "ax.plot(xx[0,:],pblh_1000_latmean_timechunk/1000.,c='orangered',ls='--', label='PBLH phys.', zorder=3, lw=2)\n",
    "ax.tick_params(labelsize=fontsize)\n",
    "ax.set_ylim(0,3.25)\n",
    "ax.set_xlim(279,321)\n",
    "ax.set_yticks([1,2,3])\n",
    "ax.set_xticks([280,300,320])\n",
    "ax.set_xticklabels(xticks_format)\n",
    "ax.set_ylabel('km', fontsize=fontsize)\n",
    "ax.set_facecolor('0.25')\n",
    "ax_list.append(ax)\n",
    "contour_list.append(contour_plot)\n",
    "\n",
    "\n",
    "\n",
    "\n",
    "\n",
    "\n",
    "\n",
    "\n",
    "every_nth_lon=10\n",
    "every_nth_z=1\n",
    "z_indices=[1,3,5,6,7,8,9,10,11,12,13,14,15,16]\n",
    "quiver_scale = .3 # 0.05 for 850-600, 0.1 for below 850\n",
    "quiver_shaft_width = .2#.75\n",
    "quiver_key_scale = 1\n",
    "quiver_color = '0.1'\n",
    "quiver_head_width = quiver_shaft_width*15\n",
    "quiver_head_length = quiver_shaft_width*15\n",
    "\n",
    "ax = fig.add_subplot(313)#, projection=cartopy.crs.PlateCarree())\n",
    "levels = numpy.arange(-1.25,1.251,0.125)\n",
    "contour_plot = ax.contourf(xx,\\\n",
    "                           geopot_400_latmean_timechunk/(1000.),\\\n",
    "                           tk_diffs_latmean_timechunk,\\\n",
    "                           levels=levels,\\\n",
    "                           cmap='PuOr_r',\\\n",
    "                           extend='both')\n",
    "ax.plot(xx[0,:],pblh_400_latmean_timechunk/1000.,c='darkred', label='PBLH cont.', zorder=3, lw=2)\n",
    "ax.plot(xx[0,:],pblh_1000_latmean_timechunk/1000.,c='orangered',ls='--', label='PBLH phys.', zorder=3, lw=2)\n",
    "ax.tick_params(labelsize=fontsize)\n",
    "ax.set_ylim(0,3.25)\n",
    "ax.set_xlim(279,321)\n",
    "ax.set_yticks([1,2,3])\n",
    "ax.set_xticks([280,300,320])\n",
    "ax.set_xticklabels(xticks_format)\n",
    "ax.set_ylabel('km', fontsize=fontsize)\n",
    "ax.set_facecolor('0.25')\n",
    "ax_list.append(ax)\n",
    "contour_list.append(contour_plot)\n",
    "\n",
    "\n",
    "# quiver_plot = ax.quiver(xx[z_indices,::every_nth_lon]+360.,\\\n",
    "#           geopot_400_latmean_timechunk[z_indices,::every_nth_lon]/(g*1000.),\\\n",
    "#           ua_diffs_latmean_timechunk[z_indices,::every_nth_lon],\\\n",
    "#           wa_diffs_latmean_timechunk[z_indices,::every_nth_lon]*100.,\\\n",
    "#           units='xy', scale=quiver_scale, \\\n",
    "#           color=quiver_color, zorder=3, \\\n",
    "#           width=quiver_shaft_width)#, headwidth=quiver_head_width,\\\n",
    "#           #headlength=quiver_head_length)\n",
    "\n",
    "fig.tight_layout(h_pad=2)\n",
    "\n",
    "\n",
    "\n",
    "handles, labels = ax_list[0].get_legend_handles_labels()\n",
    "legend = ax_list[0].legend(handles, labels, fontsize=fontsize, ncol=1, bbox_to_anchor=(0.9,1.02), \\\n",
    "                   edgecolor='None', facecolor='None', fancybox=False, bbox_transform=ax_list[0].transAxes, \\\n",
    "                   loc='lower left', labelspacing=0, \\\n",
    "                   borderaxespad=0, borderpad=0, handlelength=1.75, \\\n",
    "                   handletextpad=0.5)\n",
    "\n",
    "ax_list[0].text(s='(a) $\\Delta$ moisture (15:00, days 2–10)', x=0, y=1.02, ha='left', va='bottom', fontsize=fontsize, transform=ax_list[0].transAxes)\n",
    "ax_list[1].text(s='(b) $\\Delta$ cloud fraction (15:00, days 2–10)', x=0, y=1.02, ha='left', va='bottom', fontsize=fontsize, transform=ax_list[1].transAxes)\n",
    "ax_list[2].text(s='(c) $\\Delta$ temperature (15:00, days 2–10)', x=0, y=1.02, ha='left', va='bottom', fontsize=fontsize, transform=ax_list[2].transAxes)\n",
    "\n",
    "axpos1 = ax_list[0].get_position()\n",
    "axpos2 = ax_list[1].get_position()\n",
    "axpos3 = ax_list[2].get_position()\n",
    "\n",
    "cbar_ax1 = fig.add_axes([axpos1.x1+0.05,axpos1.y0,0.035,axpos1.height])\n",
    "cbar_ax2 = fig.add_axes([axpos2.x1+0.05,axpos2.y0,0.035,axpos2.height])\n",
    "cbar_ax3 = fig.add_axes([axpos3.x1+0.05,axpos3.y0,0.035,axpos3.height])\n",
    "\n",
    "cbar1 = fig.colorbar(contour_list[0], cax=cbar_ax1)\n",
    "cbar_ax1.tick_params(labelsize=fontsize)\n",
    "cbar1.set_ticks([-1,-.5,0,.5,1])\n",
    "cbar1.set_label('g kg$^{\\,-1}$', fontsize=fontsize)\n",
    "\n",
    "cbar2 = fig.colorbar(contour_list[1], cax=cbar_ax2)\n",
    "cbar_ax2.tick_params(labelsize=fontsize)\n",
    "cbar2.set_ticks([-20,-10,0,10,20])\n",
    "cbar2.set_label('%', fontsize=fontsize)\n",
    "\n",
    "cbar3 = fig.colorbar(contour_list[2], cax=cbar_ax3)\n",
    "cbar_ax3.tick_params(labelsize=fontsize)\n",
    "cbar3.set_ticks([-1.5,-1,-.5,0,.5,1,1.5])\n",
    "cbar3.set_label('$\\degree$C', fontsize=fontsize)\n",
    "\n",
    "\n",
    "# quiver_key = ax_list[2].quiverkey(quiver_plot, \\\n",
    "#                                   coordinates='axes', \\\n",
    "#                                   X=1, Y=1.1, labelpos='E', \\\n",
    "#                                   label='', \\\n",
    "#                                   U=quiver_key_scale)\n",
    "# quiver_key_text = ax_list[2].text(s=str(quiver_key_scale)+' m s$^{\\,-1}$',\\\n",
    "#                                   x=1.01, y=1.02,\\\n",
    "#                                   ha='left', va='bottom',\\\n",
    "#                                   transform=ax_list[2].transAxes, \\\n",
    "#                                   fontsize=fontsize)\n",
    "\n",
    "\n",
    "fig.savefig('../figures/SI_fig05.pdf', dpi=600, bbox_inches='tight')\n",
    "\n"
   ]
  },
  {
   "cell_type": "code",
   "execution_count": 48,
   "metadata": {
    "ExecuteTime": {
     "end_time": "2018-07-02T19:36:38.632090Z",
     "start_time": "2018-07-02T19:36:34.897971Z"
    }
   },
   "outputs": [
    {
     "data": {
      "image/png": "[encoded data removed]",
      "text/plain": [
       "<Figure size 288x432 with 6 Axes>"
      ]
     },
     "metadata": {
      "needs_background": "light"
     },
     "output_type": "display_data"
    }
   ],
   "source": [
    "fontsize = 12\n",
    "\n",
    "fig = mp.figure(figsize=(4,6))\n",
    "\n",
    "#axes[0].contourf(qvapor_diffs_latmean_timechunk)\n",
    "#axes[1].contourf(cldfra_diffs_latmean_timechunk)\n",
    "#axes[2].contourf(tk_diffs_latmean_timechunk)\n",
    "\n",
    "xticks_deg_E=numpy.array((280,300,320))\n",
    "xticks = -(360-xticks_deg_E)\n",
    "xticks_format=[str(tick)+DEGREE_SIGN+'E' for tick in xticks_deg_E]\n",
    "\n",
    "ax_list = []\n",
    "contour_list = []\n",
    "\n",
    "\n",
    "\n",
    "ax = fig.add_subplot(311)#, projection=cartopy.crs.PlateCarree())\n",
    "levels = numpy.arange(-1.25,1.251,0.125)\n",
    "contour_plot = ax.contourf(xx,\\\n",
    "                           geopot_400_latmean_timechunk/(1000.),\\\n",
    "                           qvapor_diffs_latmean_timechunk*1000.,\\\n",
    "                           levels=levels,\\\n",
    "                           cmap=cmap_precip,\\\n",
    "                           extend='both')\n",
    "ax.plot(xx[0,:],pblh_400_latmean_timechunk/1000.,c='darkred', label='PBLH cont.', zorder=3, lw=2)\n",
    "ax.plot(xx[0,:],pblh_1000_latmean_timechunk/1000.,c='orangered',ls='--', label='PBLH phys.', zorder=3, lw=2)\n",
    "ax.tick_params(labelsize=fontsize)\n",
    "ax.set_xlim(279,321)\n",
    "ax.set_ylim(0,12)\n",
    "ax.set_yticks([4,8,12])\n",
    "ax.set_xticks([280,300,320])\n",
    "ax.set_xticklabels(xticks_format)\n",
    "ax.set_ylabel('km', fontsize=fontsize)\n",
    "ax.set_facecolor('0.25')\n",
    "ax_list.append(ax)\n",
    "contour_list.append(contour_plot)\n",
    "\n",
    "\n",
    "\n",
    "\n",
    "ax = fig.add_subplot(312)#, projection=cartopy.crs.PlateCarree())\n",
    "levels = numpy.arange(-20,20.1,2)\n",
    "contour_plot = ax.contourf(xx,\\\n",
    "                           geopot_400_latmean_timechunk/(1000.),\\\n",
    "                           cldfra_diffs_latmean_timechunk*100.,\\\n",
    "                           levels=levels,\\\n",
    "                           cmap=cmocean.cm.balance_r,\\\n",
    "                           extend='both')\n",
    "ax.plot(xx[0,:],pblh_400_latmean_timechunk/1000.,c='darkred', label='PBLH cont.', zorder=3, lw=2)\n",
    "ax.plot(xx[0,:],pblh_1000_latmean_timechunk/1000.,c='orangered',ls='--', label='PBLH phys.', zorder=3, lw=2)\n",
    "ax.tick_params(labelsize=fontsize)\n",
    "ax.set_ylim(0,16)\n",
    "ax.set_xlim(279,321)\n",
    "ax.set_yticks([4,8,12,16])\n",
    "ax.set_xticks([280,300,320])\n",
    "ax.set_xticklabels(xticks_format)\n",
    "ax.set_ylabel('km', fontsize=fontsize)\n",
    "ax.set_facecolor('0.25')\n",
    "ax_list.append(ax)\n",
    "contour_list.append(contour_plot)\n",
    "\n",
    "\n",
    "\n",
    "every_nth_lon=10\n",
    "every_nth_z=1\n",
    "z_indices=[1,3,5,6,7,8,9,10,11,12,13,14,15,16]\n",
    "quiver_scale = .3 # 0.05 for 850-600, 0.1 for below 850\n",
    "quiver_shaft_width = .2#.75\n",
    "quiver_key_scale = 1\n",
    "quiver_color = '0.1'\n",
    "quiver_head_width = quiver_shaft_width*15\n",
    "quiver_head_length = quiver_shaft_width*15\n",
    "\n",
    "ax = fig.add_subplot(313)#, projection=cartopy.crs.PlateCarree())\n",
    "levels = numpy.arange(-1.25,1.251,0.125)\n",
    "contour_plot = ax.contourf(xx,\\\n",
    "                           geopot_400_latmean_timechunk/(1000.),\\\n",
    "                           tk_diffs_latmean_timechunk,\\\n",
    "                           levels=levels,\\\n",
    "                           cmap='PuOr_r',\\\n",
    "                           extend='both')\n",
    "ax.plot(xx[0,:],pblh_400_latmean_timechunk/1000.,c='darkred', label='PBLH cont.', zorder=3, lw=2)\n",
    "ax.plot(xx[0,:],pblh_1000_latmean_timechunk/1000.,c='orangered',ls='--', label='PBLH phys.', zorder=3, lw=2)\n",
    "ax.tick_params(labelsize=fontsize)\n",
    "ax.set_ylim(0,12)\n",
    "ax.set_xlim(279,321)\n",
    "ax.set_yticks([4,8,12])\n",
    "ax.set_xticks([280,300,320])\n",
    "ax.set_xticklabels(xticks_format)\n",
    "ax.set_ylabel('km', fontsize=fontsize)\n",
    "ax.set_facecolor('0.25')\n",
    "ax_list.append(ax)\n",
    "contour_list.append(contour_plot)\n",
    "\n",
    "\n",
    "# quiver_plot = ax.quiver(xx[z_indices,::every_nth_lon]+360.,\\\n",
    "#           geopot_400_latmean_timechunk[z_indices,::every_nth_lon]/(g*1000.),\\\n",
    "#           ua_diffs_latmean_timechunk[z_indices,::every_nth_lon],\\\n",
    "#           wa_diffs_latmean_timechunk[z_indices,::every_nth_lon]*100.,\\\n",
    "#           units='xy', scale=quiver_scale, \\\n",
    "#           color=quiver_color, zorder=3, \\\n",
    "#           width=quiver_shaft_width)#, headwidth=quiver_head_width,\\\n",
    "#           #headlength=quiver_head_length)\n",
    "\n",
    "fig.tight_layout(h_pad=2)\n",
    "\n",
    "\n",
    "\n",
    "handles, labels = ax_list[0].get_legend_handles_labels()\n",
    "legend = ax_list[0].legend(handles, labels, fontsize=fontsize, ncol=1, bbox_to_anchor=(0.9,1.02), \\\n",
    "                   edgecolor='None', facecolor='None', fancybox=False, bbox_transform=ax_list[0].transAxes, \\\n",
    "                   loc='lower left', labelspacing=0, \\\n",
    "                   borderaxespad=0, borderpad=0, handlelength=1.75, \\\n",
    "                   handletextpad=0.5)\n",
    "\n",
    "ax_list[0].text(s='(a) $\\Delta$ moisture (15:00, days 2–10)', x=0, y=1.02, ha='left', va='bottom', fontsize=fontsize, transform=ax_list[0].transAxes)\n",
    "ax_list[1].text(s='(b) $\\Delta$ cloud fraction (15:00, days 2–10)', x=0, y=1.02, ha='left', va='bottom', fontsize=fontsize, transform=ax_list[1].transAxes)\n",
    "ax_list[2].text(s='(c) $\\Delta$ temperature (15:00, days 2–10)', x=0, y=1.02, ha='left', va='bottom', fontsize=fontsize, transform=ax_list[2].transAxes)\n",
    "\n",
    "axpos1 = ax_list[0].get_position()\n",
    "axpos2 = ax_list[1].get_position()\n",
    "axpos3 = ax_list[2].get_position()\n",
    "\n",
    "cbar_ax1 = fig.add_axes([axpos1.x1+0.05,axpos1.y0,0.035,axpos1.height])\n",
    "cbar_ax2 = fig.add_axes([axpos2.x1+0.05,axpos2.y0,0.035,axpos2.height])\n",
    "cbar_ax3 = fig.add_axes([axpos3.x1+0.05,axpos3.y0,0.035,axpos3.height])\n",
    "\n",
    "cbar1 = fig.colorbar(contour_list[0], cax=cbar_ax1)\n",
    "cbar_ax1.tick_params(labelsize=fontsize)\n",
    "cbar1.set_ticks([-1,-.5,0,.5,1])\n",
    "cbar1.set_label('g kg$^{\\,-1}$', fontsize=fontsize)\n",
    "\n",
    "cbar2 = fig.colorbar(contour_list[1], cax=cbar_ax2)\n",
    "cbar_ax2.tick_params(labelsize=fontsize)\n",
    "cbar2.set_ticks([-20,-10,0,10,20])\n",
    "cbar2.set_label('%', fontsize=fontsize)\n",
    "\n",
    "cbar3 = fig.colorbar(contour_list[2], cax=cbar_ax3)\n",
    "cbar_ax3.tick_params(labelsize=fontsize)\n",
    "cbar3.set_ticks([-1.5,-1,-.5,0,.5,1,1.5])\n",
    "cbar3.set_label('$\\degree$C', fontsize=fontsize)\n",
    "\n",
    "\n",
    "# quiver_key = ax_list[2].quiverkey(quiver_plot, \\\n",
    "#                                   coordinates='axes', \\\n",
    "#                                   X=1, Y=1.1, labelpos='E', \\\n",
    "#                                   label='', \\\n",
    "#                                   U=quiver_key_scale)\n",
    "# quiver_key_text = ax_list[2].text(s=str(quiver_key_scale)+' m s$^{\\,-1}$',\\\n",
    "#                                   x=1.01, y=1.02,\\\n",
    "#                                   ha='left', va='bottom',\\\n",
    "#                                   transform=ax_list[2].transAxes, \\\n",
    "#                                   fontsize=fontsize)\n",
    "\n",
    "\n",
    "fig.savefig('../figures/REVISION_moisture_clouds_temp_1500_pblh_1400_days2-10_zcoords_CESM_full_atmos.pdf', dpi=600, bbox_inches='tight')\n",
    "\n"
   ]
  }
 ],
 "metadata": {
  "kernelspec": {
   "display_name": "Python 3",
   "language": "python",
   "name": "python3"
  },
  "language_info": {
   "codemirror_mode": {
    "name": "ipython",
    "version": 3
   },
   "file_extension": ".py",
   "mimetype": "text/x-python",
   "name": "python",
   "nbconvert_exporter": "python",
   "pygments_lexer": "ipython3",
   "version": "3.7.0"
  },
  "varInspector": {
   "cols": {
    "lenName": 16,
    "lenType": 16,
    "lenVar": 40
   },
   "kernels_config": {
    "python": {
     "delete_cmd_postfix": "",
     "delete_cmd_prefix": "del ",
     "library": "var_list.py",
     "varRefreshCmd": "print(var_dic_list())"
    },
    "r": {
     "delete_cmd_postfix": ") ",
     "delete_cmd_prefix": "rm(",
     "library": "var_list.r",
     "varRefreshCmd": "cat(var_dic_list()) "
    }
   },
   "types_to_exclude": [
    "module",
    "function",
    "builtin_function_or_method",
    "instance",
    "_Feature"
   ],
   "window_display": false
  }
 },
 "nbformat": 4,
 "nbformat_minor": 2
}
