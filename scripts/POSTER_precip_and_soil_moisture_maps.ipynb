{
 "cells": [
  {
   "cell_type": "code",
   "execution_count": 2,
   "metadata": {
    "ExecuteTime": {
     "end_time": "2018-11-23T23:57:46.232278Z",
     "start_time": "2018-11-23T23:57:34.472066Z"
    }
   },
   "outputs": [],
   "source": [
    "import numpy\n",
    "import xarray\n",
    "import matplotlib\n",
    "import matplotlib.pyplot as mp\n",
    "import datetime\n",
    "import matplotlib.colors\n",
    "import scipy.stats\n",
    "import itertools\n",
    "import string\n",
    "import matplotlib.patches\n",
    "import netCDF4\n",
    "import cftime\n",
    "import seaborn\n",
    "import cmocean\n",
    "import matplotlib.gridspec\n",
    "import scipy.interpolate\n",
    "\n",
    "import glob\n",
    "import pandas\n",
    "\n",
    "import astropy.convolution\n",
    "\n",
    "import mpl_toolkits\n",
    "import cartopy\n",
    "\n",
    "DEGREE_SIGN = u'\\u00B0'\n",
    "mp.rcParams.update({'mathtext.default': 'regular'})"
   ]
  },
  {
   "cell_type": "code",
   "execution_count": 3,
   "metadata": {},
   "outputs": [
    {
     "data": {
      "text/plain": [
       "'0.16.0'"
      ]
     },
     "execution_count": 3,
     "metadata": {},
     "output_type": "execute_result"
    }
   ],
   "source": [
    "cartopy.__version__"
   ]
  },
  {
   "cell_type": "raw",
   "metadata": {
    "ExecuteTime": {
     "end_time": "2018-06-18T20:10:54.341537Z",
     "start_time": "2018-06-18T20:10:54.029323Z"
    }
   },
   "source": [
    "geo_em_ncfile = xarray.open_dataset('/beegfs/DATA/pritchard/blangenb/WRF_ARCHIVE/CHEYENNE/FMAASO/geo_em.d01_amazon_50km.nc')\n",
    "hgt = geo_em_ncfile.variables['HGT'].data[0,:,:]"
   ]
  },
  {
   "cell_type": "markdown",
   "metadata": {},
   "source": [
    "# 30day runs"
   ]
  },
  {
   "cell_type": "markdown",
   "metadata": {},
   "source": [
    "import cam 400 data"
   ]
  },
  {
   "cell_type": "code",
   "execution_count": 4,
   "metadata": {
    "ExecuteTime": {
     "end_time": "2018-11-23T23:59:11.009289Z",
     "start_time": "2018-11-23T23:57:46.239020Z"
    }
   },
   "outputs": [],
   "source": [
    "cont_fileroot = '/beegfs/DATA/pritchard/blangenb/CESM_ARCHIVE/B_1850_CAM5.30days.cam0400.clm0400.ens_10members/ens_mean_cesm_files/'\n",
    "cont_filename = 'B_1850_CAM5.30days.cam0400.clm0400.ens.cam.h0.0011-03-20-0000_0011-04-20-0000_ens_mean.nc'\n",
    "cont_cam_ds = xarray.open_dataset(cont_fileroot+cont_filename, decode_times=False)"
   ]
  },
  {
   "cell_type": "code",
   "execution_count": 5,
   "metadata": {
    "ExecuteTime": {
     "end_time": "2018-11-24T00:00:19.237165Z",
     "start_time": "2018-11-23T23:59:11.014335Z"
    }
   },
   "outputs": [],
   "source": [
    "cont_fileroot = '/beegfs/DATA/pritchard/blangenb/CESM_ARCHIVE/B_1850_CAM5.30days.cam0400.clm0400.ens_10members/ens_mean_cesm_files/'\n",
    "cont_filename = 'B_1850_CAM5.30days.cam0400.clm0400.ens.clm2.h0.0011-03-20-0000_0011-04-20-0000_ens_mean.nc'\n",
    "cont_clm_ds = xarray.open_dataset(cont_fileroot+cont_filename, decode_times=False)"
   ]
  },
  {
   "cell_type": "code",
   "execution_count": 6,
   "metadata": {
    "ExecuteTime": {
     "end_time": "2018-11-24T00:00:19.519504Z",
     "start_time": "2018-11-24T00:00:19.242141Z"
    }
   },
   "outputs": [],
   "source": [
    "topo_filename = 'USGS-gtopo30_1.9x2.5_remap_c050602.nc'\n",
    "topo_fileroot = '/beegfs/DATA/pritchard/blangenb/CESM_ARCHIVE/B_1850_CAM5.30days.cam0400.clm0400.ens_10members/'\n",
    "topo_ds = xarray.open_dataset(topo_fileroot+topo_filename, decode_times=False)"
   ]
  },
  {
   "cell_type": "markdown",
   "metadata": {},
   "source": [
    "calculate latitude information"
   ]
  },
  {
   "cell_type": "code",
   "execution_count": 7,
   "metadata": {
    "ExecuteTime": {
     "end_time": "2018-11-24T00:00:19.626680Z",
     "start_time": "2018-11-24T00:00:19.524242Z"
    }
   },
   "outputs": [],
   "source": [
    "lat_lo_open = -35.\n",
    "lat_hi_open = 35.\n",
    "lat_lo = -10.\n",
    "lat_hi = 10.\n",
    "lon_lo = 270.\n",
    "lon_hi = 330."
   ]
  },
  {
   "cell_type": "code",
   "execution_count": 8,
   "metadata": {
    "ExecuteTime": {
     "end_time": "2018-11-24T00:00:19.731237Z",
     "start_time": "2018-11-24T00:00:19.631354Z"
    }
   },
   "outputs": [],
   "source": [
    "lat = cont_cam_ds['lat'].sel(lat=slice(lat_lo_open,lat_hi_open)).values\n",
    "lon = cont_cam_ds['lon'].sel(lon=slice(lon_lo,lon_hi)).values\n",
    "\n",
    "lat_indices = (lat>=lat_lo)&(lat<=lat_hi)\n",
    "lat_indices_open = (lat>=lat_lo_open)&(lat<=lat_hi_open)\n",
    "lon_indices = (lon>=lon_lo)&(lon<=lon_hi)\n",
    "\n",
    "lat_subset = lat[lat_indices]\n",
    "lon_subset = lon[lon_indices]\n",
    "\n",
    "lat_subset_open = lat[lat_indices_open]"
   ]
  },
  {
   "cell_type": "code",
   "execution_count": 9,
   "metadata": {
    "ExecuteTime": {
     "end_time": "2018-11-24T00:00:19.842160Z",
     "start_time": "2018-11-24T00:00:19.735775Z"
    }
   },
   "outputs": [],
   "source": [
    "lat_subset_open = lat[lat_indices_open]"
   ]
  },
  {
   "cell_type": "markdown",
   "metadata": {},
   "source": [
    "get land fraction info"
   ]
  },
  {
   "cell_type": "code",
   "execution_count": 10,
   "metadata": {
    "ExecuteTime": {
     "end_time": "2018-11-24T00:01:18.984765Z",
     "start_time": "2018-11-24T00:00:19.846702Z"
    }
   },
   "outputs": [],
   "source": [
    "LANDFRAC = cont_cam_ds['LANDFRAC'].sel(lat=slice(lat_lo_open,lat_hi_open),lon=slice(lon_lo,lon_hi)).values[0,:,:]"
   ]
  },
  {
   "cell_type": "markdown",
   "metadata": {},
   "source": [
    "get 400 fields for cam"
   ]
  },
  {
   "cell_type": "code",
   "execution_count": 11,
   "metadata": {
    "ExecuteTime": {
     "end_time": "2018-11-24T00:02:27.491924Z",
     "start_time": "2018-11-24T00:01:18.989836Z"
    }
   },
   "outputs": [],
   "source": [
    "PRECC_400_30d = cont_cam_ds['PRECC'].sel(lat=slice(lat_lo_open,lat_hi_open),lon=slice(lon_lo,lon_hi)).values\n",
    "PRECL_400_30d = cont_cam_ds['PRECL'].sel(lat=slice(lat_lo_open,lat_hi_open),lon=slice(lon_lo,lon_hi)).values"
   ]
  },
  {
   "cell_type": "code",
   "execution_count": 12,
   "metadata": {
    "ExecuteTime": {
     "end_time": "2018-11-24T00:03:49.482222Z",
     "start_time": "2018-11-24T00:02:27.496720Z"
    }
   },
   "outputs": [],
   "source": [
    "SOILLIQ_400_30d = cont_clm_ds['SOILLIQ'].sel(lat=slice(lat_lo_open,lat_hi_open),lon=slice(lon_lo,lon_hi)).values"
   ]
  },
  {
   "cell_type": "markdown",
   "metadata": {},
   "source": [
    "import cam 1000 data"
   ]
  },
  {
   "cell_type": "code",
   "execution_count": 13,
   "metadata": {
    "ExecuteTime": {
     "end_time": "2018-11-24T00:05:03.817281Z",
     "start_time": "2018-11-24T00:03:49.487186Z"
    }
   },
   "outputs": [],
   "source": [
    "phys_fileroot = '/beegfs/DATA/pritchard/blangenb/CESM_ARCHIVE/B_1850_CAM5.30days.cam0400.clm1000.ens_10members/ens_mean_cesm_files/'\n",
    "phys_filename = 'B_1850_CAM5.30days.cam0400.clm1000.ens.cam.h0.0011-03-20-0000_0011-04-20-0000_ens_mean.nc'\n",
    "phys_cam_ds = xarray.open_dataset(phys_fileroot+phys_filename, decode_times=False)"
   ]
  },
  {
   "cell_type": "code",
   "execution_count": 14,
   "metadata": {
    "ExecuteTime": {
     "end_time": "2018-11-24T00:06:28.612960Z",
     "start_time": "2018-11-24T00:05:03.822466Z"
    }
   },
   "outputs": [],
   "source": [
    "phys_fileroot = '/beegfs/DATA/pritchard/blangenb/CESM_ARCHIVE/B_1850_CAM5.30days.cam0400.clm1000.ens_10members/ens_mean_cesm_files/'\n",
    "phys_filename = 'B_1850_CAM5.30days.cam0400.clm1000.ens.clm2.h0.0011-03-20-0000_0011-04-20-0000_ens_mean.nc'\n",
    "phys_clm_ds = xarray.open_dataset(phys_fileroot+phys_filename, decode_times=False)"
   ]
  },
  {
   "cell_type": "markdown",
   "metadata": {},
   "source": [
    "get 1000 fields for cam"
   ]
  },
  {
   "cell_type": "code",
   "execution_count": 15,
   "metadata": {
    "ExecuteTime": {
     "end_time": "2018-11-24T00:07:13.376798Z",
     "start_time": "2018-11-24T00:06:28.617964Z"
    }
   },
   "outputs": [],
   "source": [
    "PRECC_1000_30d = phys_cam_ds['PRECC'].sel(lat=slice(lat_lo_open,lat_hi_open),lon=slice(lon_lo,lon_hi)).values\n",
    "PRECL_1000_30d = phys_cam_ds['PRECL'].sel(lat=slice(lat_lo_open,lat_hi_open),lon=slice(lon_lo,lon_hi)).values"
   ]
  },
  {
   "cell_type": "code",
   "execution_count": 16,
   "metadata": {
    "ExecuteTime": {
     "end_time": "2018-11-24T00:08:35.738840Z",
     "start_time": "2018-11-24T00:07:13.381765Z"
    }
   },
   "outputs": [],
   "source": [
    "SOILLIQ_1000_30d = phys_clm_ds['SOILLIQ'].sel(lat=slice(lat_lo_open,lat_hi_open),lon=slice(lon_lo,lon_hi)).values"
   ]
  },
  {
   "cell_type": "markdown",
   "metadata": {},
   "source": [
    "convert time information"
   ]
  },
  {
   "cell_type": "code",
   "execution_count": 17,
   "metadata": {
    "ExecuteTime": {
     "end_time": "2018-11-24T00:08:35.766057Z",
     "start_time": "2018-11-24T00:08:35.743471Z"
    }
   },
   "outputs": [],
   "source": [
    "time_400 = cont_cam_ds['time']\n",
    "time_converted = netCDF4.num2date(time_400.values, time_400.units, time_400.calendar)\n",
    "\n",
    "time_manual = []\n",
    "for t_idx in range(time_converted.size):\n",
    "    year=time_converted[t_idx].year\n",
    "    month=time_converted[t_idx].month\n",
    "    day=time_converted[t_idx].day\n",
    "    hour=time_converted[t_idx].hour\n",
    "    minute=time_converted[t_idx].minute\n",
    "    hour_round = round(hour+minute/60)\n",
    "    time_manual.append(cftime.DatetimeNoLeap(year,month,day,hour_round))"
   ]
  },
  {
   "cell_type": "markdown",
   "metadata": {},
   "source": [
    "specify timing"
   ]
  },
  {
   "cell_type": "code",
   "execution_count": 18,
   "metadata": {
    "ExecuteTime": {
     "end_time": "2018-11-24T00:08:35.836981Z",
     "start_time": "2018-11-24T00:08:35.770257Z"
    }
   },
   "outputs": [],
   "source": [
    "skip_time = 24\n",
    "#end_time = 745"
   ]
  },
  {
   "cell_type": "markdown",
   "metadata": {},
   "source": [
    "calculate PRECT diffs"
   ]
  },
  {
   "cell_type": "code",
   "execution_count": 19,
   "metadata": {
    "ExecuteTime": {
     "end_time": "2018-11-24T00:08:36.173082Z",
     "start_time": "2018-11-24T00:08:35.841090Z"
    }
   },
   "outputs": [],
   "source": [
    "PRECT_400_30d = PRECC_400_30d+PRECL_400_30d\n",
    "PRECT_1000_30d = PRECC_1000_30d+PRECL_1000_30d"
   ]
  },
  {
   "cell_type": "code",
   "execution_count": null,
   "metadata": {
    "ExecuteTime": {
     "end_time": "2018-11-24T00:08:36.258611Z",
     "start_time": "2018-11-24T00:08:36.177558Z"
    }
   },
   "outputs": [],
   "source": [
    "PRECT_1000_timemean_10day = numpy.mean(PRECT_1000_30d[skip_time:240,:,:], axis=0)\n",
    "PRECT_1000_timemean_10day_landmask = numpy.copy(PRECT_1000_timemean_10day)\n",
    "PRECT_1000_timemean_10day_landmask[LANDFRAC==0] = numpy.nan\n",
    "\n",
    "PRECT_400_timemean_10day = numpy.nanmean(PRECT_400_30d[skip_time:240,:,:], axis=0)\n",
    "PRECT_400_timemean_10day_landmask = numpy.copy(PRECT_400_timemean_10day)\n",
    "PRECT_400_timemean_10day_landmask[LANDFRAC==0] = numpy.nan"
   ]
  },
  {
   "cell_type": "code",
   "execution_count": null,
   "metadata": {
    "ExecuteTime": {
     "end_time": "2018-11-24T00:08:36.425316Z",
     "start_time": "2018-11-24T00:08:36.262763Z"
    }
   },
   "outputs": [
    {
     "name": "stderr",
     "output_type": "stream",
     "text": [
      "/export/home/blangenb/miniconda3/lib/python3.7/site-packages/ipykernel_launcher.py:1: RuntimeWarning: Mean of empty slice\n",
      "  \"\"\"Entry point for launching an IPython kernel.\n",
      "/export/home/blangenb/miniconda3/lib/python3.7/site-packages/ipykernel_launcher.py:2: RuntimeWarning: Mean of empty slice\n",
      "  \n"
     ]
    }
   ],
   "source": [
    "SOILLIQ_1000_timemean_10day = numpy.nanmean(SOILLIQ_1000_30d[skip_time:240,:,:,:], axis=0)\n",
    "SOILLIQ_400_timemean_10day = numpy.nanmean(SOILLIQ_400_30d[skip_time:240,:,:,:], axis=0)"
   ]
  },
  {
   "cell_type": "code",
   "execution_count": null,
   "metadata": {
    "ExecuteTime": {
     "end_time": "2018-11-24T00:12:29.270379Z",
     "start_time": "2018-11-24T00:12:29.251991Z"
    }
   },
   "outputs": [],
   "source": [
    "PRECT_1000_timemean_30day = numpy.mean(PRECT_1000_30d[skip_time:,:,:], axis=0)\n",
    "PRECT_1000_timemean_30day_landmask = numpy.copy(PRECT_1000_timemean_30day)\n",
    "PRECT_1000_timemean_30day_landmask[LANDFRAC==0] = numpy.nan\n",
    "\n",
    "PRECT_400_timemean_30day = numpy.nanmean(PRECT_400_30d[skip_time:,:,:], axis=0)\n",
    "PRECT_400_timemean_30day_landmask = numpy.copy(PRECT_400_timemean_30day)\n",
    "PRECT_400_timemean_30day_landmask[LANDFRAC==0] = numpy.nan"
   ]
  },
  {
   "cell_type": "code",
   "execution_count": null,
   "metadata": {
    "ExecuteTime": {
     "end_time": "2018-11-24T00:12:29.598581Z",
     "start_time": "2018-11-24T00:12:29.276045Z"
    }
   },
   "outputs": [
    {
     "name": "stderr",
     "output_type": "stream",
     "text": [
      "/export/home/blangenb/miniconda3/lib/python3.7/site-packages/ipykernel_launcher.py:1: RuntimeWarning: Mean of empty slice\n",
      "  \"\"\"Entry point for launching an IPython kernel.\n",
      "/export/home/blangenb/miniconda3/lib/python3.7/site-packages/ipykernel_launcher.py:2: RuntimeWarning: Mean of empty slice\n",
      "  \n"
     ]
    }
   ],
   "source": [
    "SOILLIQ_1000_timemean_30day = numpy.nanmean(SOILLIQ_1000_30d[skip_time:,:,:,:], axis=0)\n",
    "SOILLIQ_400_timemean_30day = numpy.nanmean(SOILLIQ_400_30d[skip_time:,:,:,:], axis=0)"
   ]
  },
  {
   "cell_type": "markdown",
   "metadata": {},
   "source": [
    "get topography info"
   ]
  },
  {
   "cell_type": "code",
   "execution_count": null,
   "metadata": {
    "ExecuteTime": {
     "end_time": "2018-11-24T00:12:29.614562Z",
     "start_time": "2018-11-24T00:12:29.603831Z"
    }
   },
   "outputs": [],
   "source": [
    "topo_data = topo_ds['PHIS'].sel(lat=slice(lat_lo_open,lat_hi_open),lon=slice(lon_lo,lon_hi)).values/9.80665"
   ]
  },
  {
   "cell_type": "code",
   "execution_count": null,
   "metadata": {
    "ExecuteTime": {
     "end_time": "2018-11-24T00:12:29.711942Z",
     "start_time": "2018-11-24T00:12:29.619074Z"
    }
   },
   "outputs": [
    {
     "name": "stderr",
     "output_type": "stream",
     "text": [
      "/export/home/blangenb/miniconda3/lib/python3.7/site-packages/ipykernel_launcher.py:3: RuntimeWarning: Mean of empty slice\n",
      "  This is separate from the ipykernel package so we can avoid doing imports until\n"
     ]
    }
   ],
   "source": [
    "topo_data_landmask = numpy.copy(topo_data)\n",
    "topo_data_landmask[LANDFRAC==0] = numpy.nan\n",
    "topo_data_latmean = numpy.nanmean(topo_data_landmask, axis=0)"
   ]
  },
  {
   "cell_type": "markdown",
   "metadata": {},
   "source": [
    "# 10year simulations"
   ]
  },
  {
   "cell_type": "markdown",
   "metadata": {},
   "source": [
    "400 clm runs"
   ]
  },
  {
   "cell_type": "code",
   "execution_count": null,
   "metadata": {
    "ExecuteTime": {
     "end_time": "2018-11-24T00:13:12.355548Z",
     "start_time": "2018-11-24T00:12:29.716070Z"
    }
   },
   "outputs": [],
   "source": [
    "data_dir = '/beegfs/DATA/pritchard/blangenb/CESM_ARCHIVE/B_1850_CAM5.10years.cam0400.clm0400/'\n",
    "cont_cam_mfds = xarray.open_mfdataset(data_dir + 'atm/hist/*.nc', decode_times=False)"
   ]
  },
  {
   "cell_type": "code",
   "execution_count": null,
   "metadata": {
    "ExecuteTime": {
     "end_time": "2018-11-24T00:13:36.750130Z",
     "start_time": "2018-11-24T00:13:12.358867Z"
    }
   },
   "outputs": [],
   "source": [
    "root_dir = '/beegfs/DATA/pritchard/blangenb/CESM_ARCHIVE/B_1850_CAM5.10years.cam0400.clm0400/'\n",
    "file_list = sorted(glob.glob(root_dir+'lnd/hist/*.nc'))\n",
    "cont_clm_ds_list = [xarray.open_dataset(file, decode_times=False).sel(lat=slice(lat_lo_open,lat_hi_open),lon=slice(lon_lo,lon_hi)) \\\n",
    "                    for file in file_list]"
   ]
  },
  {
   "cell_type": "code",
   "execution_count": null,
   "metadata": {
    "ExecuteTime": {
     "end_time": "2018-11-24T00:28:49.705780Z",
     "start_time": "2018-11-24T00:13:36.753047Z"
    }
   },
   "outputs": [],
   "source": [
    "PRECC_400_10y = cont_cam_mfds['PRECC'].sel(lat=slice(lat_lo_open,lat_hi_open),lon=slice(lon_lo,lon_hi)).values\n",
    "PRECL_400_10y = cont_cam_mfds['PRECL'].sel(lat=slice(lat_lo_open,lat_hi_open),lon=slice(lon_lo,lon_hi)).values\n",
    "PRECT_400_10y = PRECC_400_10y+PRECL_400_10y"
   ]
  },
  {
   "cell_type": "code",
   "execution_count": null,
   "metadata": {
    "ExecuteTime": {
     "end_time": "2018-11-24T00:33:37.205248Z",
     "start_time": "2018-11-24T00:28:49.711135Z"
    }
   },
   "outputs": [],
   "source": [
    "SOILLIQ_400_list = [f['SOILLIQ'].values for f in cont_clm_ds_list]\n",
    "#SOILWATER_400_list = [f['SOILWATER_10CM'].values for f in cont_clm_ds_list]"
   ]
  },
  {
   "cell_type": "markdown",
   "metadata": {},
   "source": [
    "1000 clm runs"
   ]
  },
  {
   "cell_type": "code",
   "execution_count": null,
   "metadata": {
    "ExecuteTime": {
     "end_time": "2018-11-24T00:36:54.940668Z",
     "start_time": "2018-11-24T00:33:37.210032Z"
    }
   },
   "outputs": [],
   "source": [
    "data_dir = '/beegfs/DATA/pritchard/blangenb/CESM_ARCHIVE/B_1850_CAM5.10years.cam0400.clm1000/'\n",
    "phys_cam_mfds = xarray.open_mfdataset(data_dir + 'atm/hist/*.nc')#, decode_times=False)"
   ]
  },
  {
   "cell_type": "code",
   "execution_count": null,
   "metadata": {
    "ExecuteTime": {
     "start_time": "2018-11-26T19:39:01.488Z"
    }
   },
   "outputs": [],
   "source": [
    "root_dir = '/beegfs/DATA/pritchard/blangenb/CESM_ARCHIVE/B_1850_CAM5.10years.cam0400.clm1000/'\n",
    "file_list = sorted(glob.glob(root_dir+'lnd/hist/*.nc'))\n",
    "phys_clm_ds_list = [xarray.open_dataset(file, decode_times=False).sel(lat=slice(lat_lo_open,lat_hi_open),lon=slice(lon_lo,lon_hi)) \\\n",
    "                    for file in file_list]"
   ]
  },
  {
   "cell_type": "code",
   "execution_count": null,
   "metadata": {
    "ExecuteTime": {
     "start_time": "2018-11-26T19:39:02.822Z"
    }
   },
   "outputs": [],
   "source": [
    "PRECC_1000_10y = phys_cam_mfds['PRECC'].sel(lat=slice(lat_lo_open,lat_hi_open),lon=slice(lon_lo,lon_hi)).values\n",
    "PRECL_1000_10y = phys_cam_mfds['PRECL'].sel(lat=slice(lat_lo_open,lat_hi_open),lon=slice(lon_lo,lon_hi)).values\n",
    "PRECT_1000_10y = PRECC_1000_10y+PRECL_1000_10y"
   ]
  },
  {
   "cell_type": "code",
   "execution_count": null,
   "metadata": {
    "ExecuteTime": {
     "start_time": "2018-11-26T19:39:03.579Z"
    }
   },
   "outputs": [],
   "source": [
    "SOILLIQ_1000_list = [f['SOILLIQ'].values for f in phys_clm_ds_list]\n",
    "#SOILWATER_1000_list = [f['SOILWATER_10CM'].values for f in phys_clm_ds_list]"
   ]
  },
  {
   "cell_type": "markdown",
   "metadata": {},
   "source": [
    "take time averages"
   ]
  },
  {
   "cell_type": "code",
   "execution_count": null,
   "metadata": {
    "ExecuteTime": {
     "start_time": "2018-11-26T19:39:04.660Z"
    }
   },
   "outputs": [],
   "source": [
    "PRECT_400_timemean_10year = numpy.mean(PRECT_400_10y, axis=0)\n",
    "PRECT_1000_timemean_10year = numpy.mean(PRECT_1000_10y, axis=0)"
   ]
  },
  {
   "cell_type": "code",
   "execution_count": null,
   "metadata": {
    "ExecuteTime": {
     "start_time": "2018-11-26T19:39:04.925Z"
    }
   },
   "outputs": [],
   "source": [
    "PRECT_400_timemean_10year_landmask = numpy.copy(PRECT_400_timemean_10year)\n",
    "PRECT_1000_timemean_10year_landmask = numpy.copy(PRECT_1000_timemean_10year)\n",
    "\n",
    "PRECT_400_timemean_10year_landmask[LANDFRAC==0] = numpy.nan\n",
    "PRECT_1000_timemean_10year_landmask[LANDFRAC==0] = numpy.nan"
   ]
  },
  {
   "cell_type": "code",
   "execution_count": null,
   "metadata": {
    "ExecuteTime": {
     "start_time": "2018-11-26T19:39:05.192Z"
    }
   },
   "outputs": [],
   "source": [
    "SOILLIQ_400_10y = numpy.concatenate(SOILLIQ_400_list, axis=0)\n",
    "SOILLIQ_1000_10y = numpy.concatenate(SOILLIQ_1000_list, axis=0)"
   ]
  },
  {
   "cell_type": "code",
   "execution_count": null,
   "metadata": {
    "ExecuteTime": {
     "start_time": "2018-11-26T19:39:05.425Z"
    }
   },
   "outputs": [],
   "source": [
    "SOILLIQ_400_timemean_10year = numpy.mean(SOILLIQ_400_10y, axis=0)\n",
    "SOILLIQ_1000_timemean_10year = numpy.mean(SOILLIQ_1000_10y, axis=0)"
   ]
  },
  {
   "cell_type": "code",
   "execution_count": null,
   "metadata": {
    "ExecuteTime": {
     "start_time": "2018-11-26T19:39:06.006Z"
    }
   },
   "outputs": [],
   "source": [
    "cesm_soil_levels = phys_clm_ds_list[0]['levgrnd'].values*100. # units: meters, change to centimeters"
   ]
  },
  {
   "cell_type": "markdown",
   "metadata": {},
   "source": [
    "# calculate all differences"
   ]
  },
  {
   "cell_type": "code",
   "execution_count": null,
   "metadata": {
    "ExecuteTime": {
     "start_time": "2018-11-26T19:39:06.514Z"
    }
   },
   "outputs": [],
   "source": [
    "PRECT_diffs_10day = PRECT_1000_timemean_10day_landmask-PRECT_400_timemean_10day_landmask\n",
    "PRECT_diffs_30day = PRECT_1000_timemean_30day_landmask-PRECT_400_timemean_30day_landmask\n",
    "PRECT_diffs_10year = PRECT_1000_timemean_10year_landmask-PRECT_400_timemean_10year_landmask"
   ]
  },
  {
   "cell_type": "code",
   "execution_count": null,
   "metadata": {
    "ExecuteTime": {
     "start_time": "2018-11-26T19:39:06.748Z"
    }
   },
   "outputs": [],
   "source": [
    "SOILLIQ_diffs_10day = SOILLIQ_1000_timemean_10day-SOILLIQ_400_timemean_10day\n",
    "SOILLIQ_diffs_30day = SOILLIQ_1000_timemean_30day-SOILLIQ_400_timemean_30day\n",
    "SOILLIQ_diffs_10year = SOILLIQ_1000_timemean_10year-SOILLIQ_400_timemean_10year"
   ]
  },
  {
   "cell_type": "markdown",
   "metadata": {},
   "source": [
    "# wrf 50km runs"
   ]
  },
  {
   "cell_type": "markdown",
   "metadata": {},
   "source": [
    "## 400 data"
   ]
  },
  {
   "cell_type": "code",
   "execution_count": null,
   "metadata": {
    "ExecuteTime": {
     "start_time": "2018-11-26T19:39:07.340Z"
    }
   },
   "outputs": [],
   "source": [
    "root_dir = '/beegfs/DATA/pritchard/blangenb/WRF_ARCHIVE/CHEYENNE/FMAASO/400/ens_mean_wrfout_files'\n",
    "file_list = glob.glob(root_dir+'/'+'wrfout*.nc')\n",
    "ds_list = [netCDF4.Dataset(file) for file in file_list]"
   ]
  },
  {
   "cell_type": "code",
   "execution_count": null,
   "metadata": {
    "ExecuteTime": {
     "start_time": "2018-11-26T19:39:07.534Z"
    }
   },
   "outputs": [],
   "source": [
    "cont_mfds = xarray.open_mfdataset(root_dir + '/' + 'wrfout*.nc')"
   ]
  },
  {
   "cell_type": "code",
   "execution_count": null,
   "metadata": {
    "ExecuteTime": {
     "start_time": "2018-11-26T19:39:07.742Z"
    }
   },
   "outputs": [],
   "source": [
    "rainc_400 = cont_mfds['RAINC'].values\n",
    "rainnc_400 = cont_mfds['RAINNC'].values"
   ]
  },
  {
   "cell_type": "code",
   "execution_count": null,
   "metadata": {
    "ExecuteTime": {
     "start_time": "2018-11-26T19:39:07.922Z"
    }
   },
   "outputs": [],
   "source": [
    "soilh2o_400 = cont_mfds['SH2O'].values\n",
    "wrf_soil_layers_ctr = cont_mfds['ZS'].isel(Time=0).values"
   ]
  },
  {
   "cell_type": "code",
   "execution_count": null,
   "metadata": {
    "ExecuteTime": {
     "start_time": "2018-11-26T19:39:08.102Z"
    }
   },
   "outputs": [],
   "source": [
    "xlat = cont_mfds['XLAT'].values[0,:,:]\n",
    "xlong = cont_mfds['XLONG'].values[0,:,:]\n",
    "landmask = cont_mfds['LANDMASK'].values[0,:,:]\n",
    "landmask_midpoints = landmask[1:,1:]"
   ]
  },
  {
   "cell_type": "code",
   "execution_count": null,
   "metadata": {
    "ExecuteTime": {
     "start_time": "2018-11-26T19:39:08.311Z"
    }
   },
   "outputs": [],
   "source": [
    "xlat_indices = (xlat>=-10)&(xlat<=10.)"
   ]
  },
  {
   "cell_type": "code",
   "execution_count": null,
   "metadata": {
    "ExecuteTime": {
     "end_time": "2018-11-26T16:53:31.227176Z",
     "start_time": "2018-11-26T16:53:08.087Z"
    }
   },
   "outputs": [],
   "source": [
    "hgt_50km = cont_mfds['HGT'].sel(Time=0).values"
   ]
  },
  {
   "cell_type": "code",
   "execution_count": null,
   "metadata": {
    "ExecuteTime": {
     "end_time": "2018-11-26T16:53:31.229852Z",
     "start_time": "2018-11-26T16:53:08.090Z"
    }
   },
   "outputs": [],
   "source": [
    "hgt_50km_landmask = numpy.copy(hgt_50km)\n",
    "hgt_50km_landmask[landmask==0] = numpy.nan\n",
    "\n",
    "hgt_50km_landmask_lat_subset = hgt_50km_landmask[xlat_indices[:,0],:]\n",
    "hgt_50km_latmean = numpy.nanmean(hgt_50km_landmask_lat_subset, axis=0)"
   ]
  },
  {
   "cell_type": "markdown",
   "metadata": {},
   "source": [
    "## 1000 data"
   ]
  },
  {
   "cell_type": "code",
   "execution_count": null,
   "metadata": {
    "ExecuteTime": {
     "end_time": "2018-11-26T16:53:31.232814Z",
     "start_time": "2018-11-26T16:53:08.095Z"
    }
   },
   "outputs": [],
   "source": [
    "root_dir = '/beegfs/DATA/pritchard/blangenb/WRF_ARCHIVE/CHEYENNE/FMAASO/1000/ens_mean_wrfout_files'\n",
    "file_list = glob.glob(root_dir+'/'+'wrfout*.nc')\n",
    "ds_list = [netCDF4.Dataset(file) for file in file_list]"
   ]
  },
  {
   "cell_type": "code",
   "execution_count": null,
   "metadata": {
    "ExecuteTime": {
     "end_time": "2018-11-26T16:53:31.236000Z",
     "start_time": "2018-11-26T16:53:08.098Z"
    }
   },
   "outputs": [],
   "source": [
    "phys_mfds = xarray.open_mfdataset(root_dir + '/' + 'wrfout*.nc')"
   ]
  },
  {
   "cell_type": "code",
   "execution_count": null,
   "metadata": {
    "ExecuteTime": {
     "end_time": "2018-11-26T16:53:31.238660Z",
     "start_time": "2018-11-26T16:53:08.102Z"
    }
   },
   "outputs": [],
   "source": [
    "rainc_1000 = phys_mfds['RAINC'].values\n",
    "rainnc_1000 = phys_mfds['RAINNC'].values"
   ]
  },
  {
   "cell_type": "code",
   "execution_count": null,
   "metadata": {
    "ExecuteTime": {
     "end_time": "2018-11-26T16:53:31.241874Z",
     "start_time": "2018-11-26T16:53:08.106Z"
    }
   },
   "outputs": [],
   "source": [
    "soilh2o_1000 = phys_mfds['SH2O'].values"
   ]
  },
  {
   "cell_type": "markdown",
   "metadata": {},
   "source": [
    "## calculate WRF differences"
   ]
  },
  {
   "cell_type": "code",
   "execution_count": null,
   "metadata": {
    "ExecuteTime": {
     "end_time": "2018-11-26T16:53:31.244536Z",
     "start_time": "2018-11-26T16:53:08.111Z"
    }
   },
   "outputs": [],
   "source": [
    "raintot_400 = rainc_400+rainnc_400\n",
    "raintot_1000 = rainc_1000+rainnc_1000\n",
    "\n",
    "raintot_400_diff = numpy.zeros((raintot_400.shape))*numpy.nan\n",
    "raintot_400_diff[:-1,:,:] = numpy.diff(raintot_400, axis=0)#*(24./3) # convert to mm/day\n",
    "\n",
    "raintot_1000_diff = numpy.zeros((raintot_1000.shape))*numpy.nan\n",
    "raintot_1000_diff[:-1,:,:] = numpy.diff(raintot_1000, axis=0)#*(24./3) # convert to mm/day\n",
    "\n",
    "# monthly mean\n",
    "raintot_diffs_time_mean = numpy.nanmean(raintot_1000_diff[skip_time:,:,:] - raintot_400_diff[skip_time:,:,:], axis=0)\n",
    "raintot_diffs_time_mean_landmask = numpy.copy(raintot_diffs_time_mean)\n",
    "raintot_diffs_time_mean_landmask[landmask==0] = numpy.nan\n",
    "\n",
    "raintot_400_time_mean = numpy.nanmean(raintot_400_diff[skip_time:,:,:], axis=0)\n",
    "raintot_400_time_mean_landmask = numpy.copy(raintot_400_time_mean)\n",
    "raintot_400_time_mean_landmask[landmask==0] = numpy.nan"
   ]
  },
  {
   "cell_type": "code",
   "execution_count": null,
   "metadata": {
    "ExecuteTime": {
     "end_time": "2018-11-26T16:53:31.247082Z",
     "start_time": "2018-11-26T16:53:08.114Z"
    }
   },
   "outputs": [],
   "source": [
    "day1_start_hour = 10 #6am = 10:00 because of the time offset\n",
    "day1_end_hour = 24 #8pm = 24:00 because of time offset\n",
    "raintot_diffs_time_mean_day1 = numpy.nanmean(raintot_1000_diff[day1_start_hour:day1_end_hour+1,:,:] - raintot_400_diff[day1_start_hour:day1_end_hour+1,:,:], axis=0)\n",
    "raintot_diffs_time_mean_day1_landmask = numpy.copy(raintot_diffs_time_mean_day1)\n",
    "raintot_diffs_time_mean_day1_landmask[landmask==0] = numpy.nan"
   ]
  },
  {
   "cell_type": "code",
   "execution_count": null,
   "metadata": {
    "ExecuteTime": {
     "end_time": "2018-11-26T16:53:31.249961Z",
     "start_time": "2018-11-26T16:53:08.119Z"
    }
   },
   "outputs": [],
   "source": [
    "soilh2o_diffs = soilh2o_1000-soilh2o_400\n",
    "\n",
    "soilh2o_diffs_landmask = numpy.copy(soilh2o_diffs)\n",
    "soilh2o_diffs_landmask[:,:,landmask==0] = numpy.nan"
   ]
  },
  {
   "cell_type": "code",
   "execution_count": null,
   "metadata": {
    "ExecuteTime": {
     "end_time": "2018-11-26T16:53:31.252625Z",
     "start_time": "2018-11-26T16:53:08.123Z"
    }
   },
   "outputs": [],
   "source": [
    "soilh2o_diffs_time_mean = numpy.nanmean(soilh2o_diffs_landmask[skip_time:,:,:,:], axis=0)"
   ]
  },
  {
   "cell_type": "markdown",
   "metadata": {},
   "source": [
    "# import WRF 2km days 2-10"
   ]
  },
  {
   "cell_type": "code",
   "execution_count": null,
   "metadata": {
    "ExecuteTime": {
     "end_time": "2018-11-26T16:53:31.255342Z",
     "start_time": "2018-11-26T16:53:08.126Z"
    }
   },
   "outputs": [],
   "source": [
    "data_dir = '/beegfs/DATA/pritchard/blangenb/WRF_ARCHIVE/CHEYENNE/nested_FMAASO_10days/400/001/'\n",
    "cont_mfds_2km = xarray.open_mfdataset(data_dir + 'wrfout_d03_1979-01-0[2,3,4,5,6,7,8,9]*')"
   ]
  },
  {
   "cell_type": "code",
   "execution_count": null,
   "metadata": {
    "ExecuteTime": {
     "end_time": "2018-11-26T16:53:31.257674Z",
     "start_time": "2018-11-26T16:53:08.130Z"
    }
   },
   "outputs": [],
   "source": [
    "data_dir = '/beegfs/DATA/pritchard/blangenb/WRF_ARCHIVE/CHEYENNE/nested_FMAASO_10days/1000/001/'\n",
    "phys_mfds_2km = xarray.open_mfdataset(data_dir + 'wrfout_d03_1979-01-0[2,3,4,5,6,7,8,9]*')"
   ]
  },
  {
   "cell_type": "code",
   "execution_count": null,
   "metadata": {
    "ExecuteTime": {
     "end_time": "2018-11-26T16:53:31.259995Z",
     "start_time": "2018-11-26T16:53:08.137Z"
    }
   },
   "outputs": [],
   "source": [
    "raintot_400_2km = cont_mfds_2km['RAINNC']\n",
    "raintot_1000_2km = phys_mfds_2km['RAINNC']"
   ]
  },
  {
   "cell_type": "code",
   "execution_count": null,
   "metadata": {
    "ExecuteTime": {
     "end_time": "2018-11-26T16:53:31.262726Z",
     "start_time": "2018-11-26T16:53:08.141Z"
    }
   },
   "outputs": [],
   "source": [
    "raintot_400_2km_diffs = raintot_400_2km.diff(dim='Time').values\n",
    "raintot_1000_2km_diffs = raintot_1000_2km.diff(dim='Time').values"
   ]
  },
  {
   "cell_type": "code",
   "execution_count": null,
   "metadata": {
    "ExecuteTime": {
     "end_time": "2018-11-26T16:53:31.265647Z",
     "start_time": "2018-11-26T16:53:08.145Z"
    }
   },
   "outputs": [],
   "source": [
    "soilh2o_400_2km = cont_mfds_2km['SH2O'].values\n",
    "soilh2o_1000_2km = phys_mfds_2km['SH2O'].values"
   ]
  },
  {
   "cell_type": "code",
   "execution_count": null,
   "metadata": {
    "ExecuteTime": {
     "end_time": "2018-11-26T16:53:31.268660Z",
     "start_time": "2018-11-26T16:53:08.150Z"
    }
   },
   "outputs": [],
   "source": [
    "raintot_400_2km_time_mean = numpy.nanmean(raintot_400_2km_diffs[skip_time:,:,:], axis=0)\n",
    "raintot_1000_2km_time_mean = numpy.nanmean(raintot_1000_2km_diffs[skip_time:,:,:], axis=0)\n",
    "\n",
    "raintot_diffs_2km_time_mean = raintot_1000_2km_time_mean-raintot_400_2km_time_mean"
   ]
  },
  {
   "cell_type": "code",
   "execution_count": null,
   "metadata": {
    "ExecuteTime": {
     "end_time": "2018-11-26T16:53:31.271756Z",
     "start_time": "2018-11-26T16:53:08.154Z"
    }
   },
   "outputs": [],
   "source": [
    "landmask_2km = cont_mfds_2km['LANDMASK'].values[0,:,:]"
   ]
  },
  {
   "cell_type": "code",
   "execution_count": null,
   "metadata": {
    "ExecuteTime": {
     "end_time": "2018-11-26T16:53:31.274591Z",
     "start_time": "2018-11-26T16:53:08.157Z"
    }
   },
   "outputs": [],
   "source": [
    "raintot_diffs_2km_time_mean_landmask = numpy.copy(raintot_diffs_2km_time_mean)\n",
    "raintot_diffs_2km_time_mean_landmask[landmask_2km==0] = numpy.nan"
   ]
  },
  {
   "cell_type": "code",
   "execution_count": null,
   "metadata": {
    "ExecuteTime": {
     "end_time": "2018-11-26T16:53:31.277017Z",
     "start_time": "2018-11-26T16:53:08.162Z"
    }
   },
   "outputs": [],
   "source": [
    "soilh2o_diffs_2km = soilh2o_1000_2km-soilh2o_400_2km\n",
    "\n",
    "soilh2o_diffs_2km_landmask = numpy.copy(soilh2o_diffs_2km)\n",
    "soilh2o_diffs_2km_landmask[:,:,landmask_2km==0] = numpy.nan"
   ]
  },
  {
   "cell_type": "code",
   "execution_count": null,
   "metadata": {
    "ExecuteTime": {
     "end_time": "2018-11-26T16:53:31.279913Z",
     "start_time": "2018-11-26T16:53:08.165Z"
    }
   },
   "outputs": [],
   "source": [
    "soilh2o_diffs_2km_time_mean = numpy.nanmean(soilh2o_diffs_2km_landmask[skip_time:,:,:,:], axis=0)"
   ]
  },
  {
   "cell_type": "code",
   "execution_count": null,
   "metadata": {
    "ExecuteTime": {
     "end_time": "2018-11-26T16:53:31.282787Z",
     "start_time": "2018-11-26T16:53:08.169Z"
    }
   },
   "outputs": [],
   "source": [
    "xlat_2km = cont_mfds_2km['XLAT'].values[0,:,:]\n",
    "xlong_2km = cont_mfds_2km['XLONG'].values[0,:,:]"
   ]
  },
  {
   "cell_type": "code",
   "execution_count": null,
   "metadata": {
    "ExecuteTime": {
     "end_time": "2018-11-26T16:53:31.285570Z",
     "start_time": "2018-11-26T16:53:08.172Z"
    }
   },
   "outputs": [],
   "source": [
    "hgt_2km = cont_mfds_2km['HGT'].sel(Time=0).values"
   ]
  },
  {
   "cell_type": "code",
   "execution_count": null,
   "metadata": {
    "ExecuteTime": {
     "end_time": "2018-11-26T16:53:31.288615Z",
     "start_time": "2018-11-26T16:53:08.177Z"
    }
   },
   "outputs": [],
   "source": [
    "hgt_2km_landmask = numpy.copy(hgt_2km)\n",
    "hgt_2km_landmask[landmask_2km==0] = numpy.nan\n",
    "hgt_2km_latmean = numpy.nanmean(hgt_2km_landmask, axis=0)"
   ]
  },
  {
   "cell_type": "markdown",
   "metadata": {},
   "source": [
    "# create plots"
   ]
  },
  {
   "cell_type": "markdown",
   "metadata": {},
   "source": [
    "## calculate lat means"
   ]
  },
  {
   "cell_type": "code",
   "execution_count": null,
   "metadata": {
    "ExecuteTime": {
     "end_time": "2018-11-26T16:53:31.291145Z",
     "start_time": "2018-11-26T16:53:08.181Z"
    }
   },
   "outputs": [],
   "source": [
    "raintot_diffs_2km_latmean = numpy.nanmean(raintot_diffs_2km_time_mean, axis=0)"
   ]
  },
  {
   "cell_type": "code",
   "execution_count": null,
   "metadata": {
    "ExecuteTime": {
     "end_time": "2018-11-26T16:53:31.293989Z",
     "start_time": "2018-11-26T16:53:08.184Z"
    }
   },
   "outputs": [],
   "source": [
    "raintot_diffs_time_mean_landmask.shape"
   ]
  },
  {
   "cell_type": "code",
   "execution_count": null,
   "metadata": {
    "ExecuteTime": {
     "end_time": "2018-11-26T16:53:31.296831Z",
     "start_time": "2018-11-26T16:53:08.189Z"
    }
   },
   "outputs": [],
   "source": [
    "raintot_diffs_latmean = numpy.nanmean(raintot_diffs_time_mean_landmask[(xlat[:,0]>=-10)&(xlat[:,0]<=10),:], axis=0)\n",
    "raintot_diffs_latmean_day1 = numpy.nanmean(raintot_diffs_time_mean_day1_landmask[(xlat[:,0]>=-10)&(xlat[:,0]<=10),:], axis=0)\n",
    "raintot_diffs_2km_latmean = numpy.nanmean(raintot_diffs_2km_time_mean, axis=0)\n",
    "PRECT_diffs_10day_latmean = numpy.nanmean(PRECT_diffs_10day[lat_indices,:], axis=0)\n",
    "PRECT_diffs_30day_latmean = numpy.nanmean(PRECT_diffs_30day[lat_indices,:], axis=0)\n",
    "PRECT_diffs_10year_latmean = numpy.nanmean(PRECT_diffs_10year[lat_indices,:], axis=0)"
   ]
  },
  {
   "cell_type": "markdown",
   "metadata": {},
   "source": [
    "calculate stdevs"
   ]
  },
  {
   "cell_type": "code",
   "execution_count": null,
   "metadata": {
    "ExecuteTime": {
     "end_time": "2018-11-26T16:53:31.299706Z",
     "start_time": "2018-11-26T16:53:08.192Z"
    }
   },
   "outputs": [],
   "source": [
    "raintot_diffs_latstd = numpy.nanstd(raintot_diffs_time_mean_landmask[(xlat[:,0]>=-10)&(xlat[:,0]<=10),:], axis=0, ddof=1)\n",
    "raintot_diffs_day1_latstd = numpy.nanstd(raintot_diffs_time_mean_day1_landmask[(xlat[:,0]>=-10)&(xlat[:,0]<=10),:], axis=0, ddof=1)\n",
    "raintot_diffs_2km_latstd = numpy.nanstd(raintot_diffs_2km_time_mean, axis=0, ddof=1)\n",
    "PRECT_diffs_10day_latstd = numpy.nanstd(PRECT_diffs_10day[lat_indices,:], axis=0, ddof=1)\n",
    "PRECT_diffs_30day_latstd = numpy.nanstd(PRECT_diffs_30day[lat_indices,:], axis=0, ddof=1)\n",
    "PRECT_diffs_10year_latstd = numpy.nanstd(PRECT_diffs_10year[lat_indices,:], axis=0, ddof=1)\n",
    "\n"
   ]
  },
  {
   "cell_type": "markdown",
   "metadata": {},
   "source": [
    "calculate stderr"
   ]
  },
  {
   "cell_type": "code",
   "execution_count": null,
   "metadata": {
    "ExecuteTime": {
     "end_time": "2018-11-26T16:53:31.302558Z",
     "start_time": "2018-11-26T16:53:08.196Z"
    }
   },
   "outputs": [],
   "source": [
    "raintot_diffs_latstderr = raintot_diffs_latstd/numpy.sqrt(xlat[:,0].size)\n",
    "raintot_diffs_day1_latstderr = raintot_diffs_day1_latstd/numpy.sqrt(xlat[:,0].size)\n",
    "raintot_diffs_2km_latstderr = raintot_diffs_2km_latstd/numpy.sqrt(xlat_2km[:,0].size)\n",
    "PRECT_diffs_10day_latstderr = PRECT_diffs_10day_latstd/numpy.sqrt(lat_subset.size)\n",
    "PRECT_diffs_30day_latstderr = PRECT_diffs_30day_latstd/numpy.sqrt(lat_subset.size)\n",
    "PRECT_diffs_10year_latstderr = PRECT_diffs_10year_latstd/numpy.sqrt(lat_subset.size)"
   ]
  },
  {
   "cell_type": "code",
   "execution_count": null,
   "metadata": {
    "ExecuteTime": {
     "end_time": "2018-11-26T16:53:31.305362Z",
     "start_time": "2018-11-26T16:53:08.200Z"
    }
   },
   "outputs": [],
   "source": [
    "raintot_diffs_latmean_smooth = pandas.Series(raintot_diffs_latmean).rolling(window=3, center=True, min_periods=0).mean()\n",
    "raintot_diffs_latmean_smooth_day1 = pandas.Series(raintot_diffs_latmean_day1).rolling(window=3, center=True, min_periods=0).mean()\n",
    "\n",
    "raintot_diffs_2km_latmean_smooth = pandas.Series(raintot_diffs_2km_latmean).rolling(window=75, center=True, min_periods=0).mean()\n",
    "PRECT_diffs_10day_latmean_smooth = pandas.Series(PRECT_diffs_10day_latmean).rolling(window=3, center=True, min_periods=0).mean()\n",
    "\n"
   ]
  },
  {
   "cell_type": "code",
   "execution_count": null,
   "metadata": {
    "ExecuteTime": {
     "end_time": "2018-11-26T16:53:31.307867Z",
     "start_time": "2018-11-26T16:53:08.204Z"
    }
   },
   "outputs": [],
   "source": [
    "raintot_diffs_latstd_smooth = pandas.Series(raintot_diffs_latstd).rolling(window=3, center=True, min_periods=0).std(ddof=1)\n",
    "raintot_diffs_2km_latstd_smooth = pandas.Series(raintot_diffs_2km_latstd).rolling(window=75, center=True, min_periods=0).std(ddof=1)\n",
    "\n"
   ]
  },
  {
   "cell_type": "markdown",
   "metadata": {},
   "source": [
    "## with error bars"
   ]
  },
  {
   "cell_type": "code",
   "execution_count": null,
   "metadata": {
    "ExecuteTime": {
     "end_time": "2018-11-26T16:53:31.311231Z",
     "start_time": "2018-11-26T16:53:08.209Z"
    }
   },
   "outputs": [],
   "source": [
    "colors = [cmocean.cm.thermal(0.3),\\\n",
    "          cmocean.cm.thermal(0.4),\\\n",
    "          cmocean.cm.thermal(0.5),\\\n",
    "          cmocean.cm.thermal(0.6),\\\n",
    "          cmocean.cm.thermal(0.7)]\n",
    "\n",
    "fontsize = 12\n",
    "\n",
    "fig = mp.figure(figsize=(4.25,5.5))\n",
    "\n",
    "ymax = 1920.6472595214843\n",
    "##################################################\n",
    "ax1 = fig.add_subplot(511)\n",
    "ax1.plot(xlong[0,:]+360.,\\\n",
    "         raintot_diffs_latmean_smooth*24., \\\n",
    "         color=colors[0],\\\n",
    "         label='days 2-10')\n",
    "\n",
    "ax1.plot(xlong[0,:]+360.,\\\n",
    "         raintot_diffs_latmean_smooth_day1*24., \\\n",
    "         color=colors[0],\\\n",
    "         label='day 1', ls='--')\n",
    "\n",
    "ax1topo = ax1.twinx()\n",
    "ax1topo.fill_between(xlong[0,:]+360., \\\n",
    "                     numpy.zeros(hgt_50km_latmean.size), \\\n",
    "                     hgt_50km_latmean, \\\n",
    "                     facecolor='0', alpha=0.25)\n",
    "y0,y1 = ax1topo.get_ylim()\n",
    "ax1topo.set_ylim(0,ymax)\n",
    "ax1topo.axis('off')\n",
    "\n",
    "ax1.fill_between(xlong[0,:]+360., \\\n",
    "                (raintot_diffs_latmean_smooth-1.96*raintot_diffs_latstderr)*24.,\\\n",
    "                (raintot_diffs_latmean_smooth+1.96*raintot_diffs_latstderr)*24.,\\\n",
    "                facecolor=colors[0], alpha=0.333)\n",
    "\n",
    "\n",
    "ax1.fill_between(xlong[0,:]+360., \\\n",
    "                (raintot_diffs_latmean_smooth_day1-1.96*raintot_diffs_day1_latstderr)*24.,\\\n",
    "                (raintot_diffs_latmean_smooth_day1+1.96*raintot_diffs_day1_latstderr)*24.,\\\n",
    "                facecolor=colors[0], alpha=0.333)\n",
    "\n",
    "##################################################\n",
    "xvals = xlong_2km[0,:]+360.\n",
    "yvals = raintot_diffs_2km_latmean_smooth*24.\n",
    "f = scipy.interpolate.interp1d(xvals, yvals, kind='cubic')\n",
    "xvals_interp = numpy.linspace(xvals.min(), xvals.max(), 1000)\n",
    "yvals_interp = f(xvals_interp)\n",
    "ax2 = fig.add_subplot(512)\n",
    "ax2.plot(xvals_interp,\\\n",
    "        yvals_interp, \\\n",
    "        color=colors[1],\\\n",
    "        label='WRF 2-km 10d')\n",
    "\n",
    "ax2topo = ax2.twinx()\n",
    "ax2topo.fill_between(xlong_2km[0,:]+360., \\\n",
    "                     numpy.zeros(hgt_2km_latmean.size), \\\n",
    "                     hgt_2km_latmean, \\\n",
    "                     facecolor='0', alpha=0.25)\n",
    "ax2topo.set_ylim(0,ymax)\n",
    "ax2topo.axis('off')\n",
    "\n",
    "yvals = raintot_diffs_2km_latstderr*24.\n",
    "f = scipy.interpolate.interp1d(xvals, yvals, kind='cubic')\n",
    "yvals_interp_error = f(xvals_interp)\n",
    "ax2.fill_between(xvals_interp, \\\n",
    "                (yvals_interp-1.96*yvals_interp_error),\\\n",
    "                (yvals_interp+1.96*yvals_interp_error),\\\n",
    "                facecolor=colors[1], alpha=0.333)\n",
    "\n",
    "##################################################\n",
    "xvals = lon_subset\n",
    "yvals = PRECT_diffs_10day_latmean*86400.*1000.\n",
    "f = scipy.interpolate.interp1d(xvals, pandas.Series(yvals).interpolate().values, kind='cubic')\n",
    "xvals_interp = numpy.linspace(277.5, 325., 100)\n",
    "yvals_interp = f(xvals_interp)\n",
    "ax3 = fig.add_subplot(513)\n",
    "ax3.plot(xvals_interp,\\\n",
    "        yvals_interp, \\\n",
    "        color=colors[2],\\\n",
    "        label='CESM 2$\\degree$ 10d')\n",
    "\n",
    "yvals = PRECT_diffs_10day_latstderr*86400.*1000.\n",
    "f = scipy.interpolate.interp1d(xvals, pandas.Series(yvals).interpolate(limit_direction='both').values, kind='cubic')\n",
    "yvals_interp_error = f(xvals_interp)\n",
    "ax3.fill_between(xvals_interp, \\\n",
    "                (yvals_interp-1.96*yvals_interp_error),\\\n",
    "                (yvals_interp+1.96*yvals_interp_error),\\\n",
    "                facecolor=colors[2], alpha=0.333)\n",
    "\n",
    "ax3topo = ax3.twinx()\n",
    "yvals = topo_data_latmean\n",
    "f = scipy.interpolate.interp1d(xvals, pandas.Series(yvals).interpolate().values, kind='cubic')\n",
    "yvals_interp = f(xvals_interp)\n",
    "ax3topo.fill_between(xvals_interp, \\\n",
    "                     numpy.zeros(yvals_interp.size), \\\n",
    "                     yvals_interp, \\\n",
    "                     facecolor='0', alpha=0.25)\n",
    "ax3topo.set_ylim(0,ymax)\n",
    "ax3topo.axis('off')\n",
    "\n",
    "##################################################\n",
    "xvals = lon_subset\n",
    "yvals = PRECT_diffs_30day_latmean*86400.*1000.\n",
    "f = scipy.interpolate.interp1d(xvals, pandas.Series(yvals).interpolate().values, kind='cubic')\n",
    "xvals_interp = numpy.linspace(277.5, 325., 100)\n",
    "yvals_interp = f(xvals_interp)\n",
    "ax4 = fig.add_subplot(514)\n",
    "ax4.plot(xvals_interp,\\\n",
    "        yvals_interp, \\\n",
    "        color=colors[3],\\\n",
    "        label='CESM 2$\\degree$ 30d')\n",
    "\n",
    "yvals = PRECT_diffs_30day_latstderr*86400.*1000.\n",
    "f = scipy.interpolate.interp1d(xvals, pandas.Series(yvals).interpolate(limit_direction='both').values, kind='cubic')\n",
    "yvals_interp_error = f(xvals_interp)\n",
    "ax4.fill_between(xvals_interp, \\\n",
    "                (yvals_interp-1.96*yvals_interp_error),\\\n",
    "                (yvals_interp+1.96*yvals_interp_error),\\\n",
    "                facecolor=colors[3], alpha=0.333)\n",
    "\n",
    "ax4topo = ax4.twinx()\n",
    "yvals = topo_data_latmean\n",
    "f = scipy.interpolate.interp1d(xvals, pandas.Series(yvals).interpolate().values, kind='cubic')\n",
    "yvals_interp = f(xvals_interp)\n",
    "ax4topo.fill_between(xvals_interp, \\\n",
    "                     numpy.zeros(yvals_interp.size), \\\n",
    "                     yvals_interp, \\\n",
    "                     facecolor='0', alpha=0.25)\n",
    "ax4topo.set_ylim(0,ymax)\n",
    "ax4topo.axis('off')\n",
    "\n",
    "##################################################\n",
    "xvals = lon_subset\n",
    "yvals = PRECT_diffs_10year_latmean*86400.*1000.\n",
    "f = scipy.interpolate.interp1d(xvals, pandas.Series(yvals).interpolate().values, kind='cubic')\n",
    "xvals_interp = numpy.linspace(277.5, 325., 100)\n",
    "yvals_interp = f(xvals_interp)\n",
    "ax5 = fig.add_subplot(515)\n",
    "ax5.plot(xvals_interp,\\\n",
    "       yvals_interp, \\\n",
    "       color=colors[4],\\\n",
    "       label='CESM 2$\\degree$ 10yr')\n",
    "\n",
    "yvals = PRECT_diffs_30day_latstderr*86400.*1000.\n",
    "f = scipy.interpolate.interp1d(xvals, pandas.Series(yvals).interpolate(limit_direction='both').values, kind='cubic')\n",
    "yvals_interp_error = f(xvals_interp)\n",
    "ax5.fill_between(xvals_interp, \\\n",
    "                (yvals_interp-1.96*yvals_interp_error),\\\n",
    "                (yvals_interp+1.96*yvals_interp_error),\\\n",
    "                facecolor=colors[4], alpha=0.333)\n",
    "\n",
    "ax5topo = ax5.twinx()\n",
    "yvals = topo_data_latmean\n",
    "f = scipy.interpolate.interp1d(xvals, pandas.Series(yvals).interpolate().values, kind='cubic')\n",
    "yvals_interp = f(xvals_interp)\n",
    "ax5topo.fill_between(xvals_interp, \\\n",
    "                     numpy.zeros(yvals_interp.size), \\\n",
    "                     yvals_interp, \\\n",
    "                     facecolor='0', alpha=0.25)\n",
    "ax5topo.set_ylim(0,ymax)\n",
    "ax5topo.axis('off')\n",
    "\n",
    "##################################################\n",
    "\n",
    "ax_list = [ax1,ax2,ax3,ax4,ax5]\n",
    "label_list = ['(a) WRF 50-km',\\\n",
    "              '(b) WRF 2-km 10d', \\\n",
    "              '(c) CESM 2$\\degree$ 10d', \\\n",
    "              '(d) CESM 2$\\degree$ 30d', \\\n",
    "              '(e) CESM 2$\\degree$ 10y']\n",
    "\n",
    "fig.tight_layout()#h_pad=0)\n",
    "fig.subplots_adjust(wspace=0, hspace=0)\n",
    "\n",
    "map_lat_lo = -10.\n",
    "map_lat_hi = 10.\n",
    "map_lon_lo = 278\n",
    "map_lon_hi = 325.5\n",
    "\n",
    "ax1.zorder=1\n",
    "ax2.zorder=1\n",
    "ax3.zorder=1\n",
    "ax4.zorder=1\n",
    "ax5.zorder=1\n",
    "\n",
    "ax1.set_facecolor('None')\n",
    "ax2.set_facecolor('None')\n",
    "ax3.set_facecolor('None')\n",
    "ax4.set_facecolor('None')\n",
    "ax5.set_facecolor('None')\n",
    "\n",
    "[ax.tick_params(labelsize=fontsize) for ax in ax_list]\n",
    "[ax.set_xticklabels(['','','']) for ax in ax_list]\n",
    "[ax.axhline(0, lw=1, ls='--', c='0.1') for ax in ax_list]\n",
    "#[ax.set_ylim(-1.8,1.8) for ax in ax_list]\n",
    "[ax.set_yticks([-1.,0,1.]) for ax in ax_list]\n",
    "[ax_list[i].yaxis.tick_right() for i in [1,3]]\n",
    "[ax.set_xlim(map_lon_lo, map_lon_hi) for ax in ax_list]\n",
    "[ax.xaxis.grid() for ax in ax_list]\n",
    "[ax.set_xticks([280,290,300.,310,320.]) for ax in ax_list]\n",
    "\n",
    "[ax_list[i].text(s=label_list[i], x=0.98, y=0.87,\\\n",
    "                 ha='right', va='top', \\\n",
    "                 fontsize=fontsize, \\\n",
    "                 color=colors[i], \\\n",
    "                 transform=ax_list[i].transAxes) for i in range(5)]\n",
    "\n",
    "ax1pos = ax1.get_position()\n",
    "ax4pos = ax4.get_position()\n",
    "ax5pos = ax5.get_position()\n",
    "fig.text(s='mm day$^{\\,-1}$', \\\n",
    "         x=0, y=ax5pos.y0+0.5*(ax1pos.y1-ax5pos.y0), \\\n",
    "         rotation=90, \\\n",
    "         transform=fig.transFigure, \\\n",
    "         va='center', \\\n",
    "         ha='right', \\\n",
    "         fontsize=fontsize)\n",
    "\n",
    "handles, labels = ax1.get_legend_handles_labels()\n",
    "ax1.legend(handles, labels, fontsize=fontsize, bbox_to_anchor=(0.275,0.98), \\\n",
    "          bbox_transform=ax1.transAxes, loc='upper left', borderaxespad=0, ncol=1, labelspacing=0.19, \\\n",
    "          fancybox=False, edgecolor='0', framealpha=0, borderpad=0.25, \\\n",
    "          handletextpad=0.5, handlelength=1.2)\n",
    "\n",
    "ax5.set_xlabel('longitude', fontsize=fontsize)\n",
    "ax5.set_xticklabels(['280$\\degree$E','','300$\\degree$E','','320$\\degree$E'])\n",
    "\n",
    "#fig.savefig('figures/manuscript_fig4_precip_change_latmean_plots_with_error_bars.png', dpi=600, bbox_inches='tight', transparent=True)"
   ]
  },
  {
   "cell_type": "markdown",
   "metadata": {},
   "source": [
    "# Plot WRF 50km and 2km map plus meridional mean precip decrease below"
   ]
  },
  {
   "cell_type": "code",
   "execution_count": null,
   "metadata": {
    "ExecuteTime": {
     "end_time": "2018-11-26T16:53:31.313780Z",
     "start_time": "2018-11-26T16:53:08.213Z"
    }
   },
   "outputs": [],
   "source": [
    "xlat_indices = (xlat[:,0]>=-10.) & (xlat[:,0]<=10.)\n",
    "xlong_indices = (xlong[0,:]>=280-360.)&(xlong[0,:]<=320-260.)"
   ]
  },
  {
   "cell_type": "code",
   "execution_count": null,
   "metadata": {
    "ExecuteTime": {
     "end_time": "2018-11-26T16:53:31.316729Z",
     "start_time": "2018-11-26T16:53:08.217Z"
    }
   },
   "outputs": [],
   "source": [
    "raintot_diffs_landmask = raintot_1000_diff-raintot_400_diff\n",
    "raintot_diffs_landmask[:,landmask==0] = numpy.nan\n",
    "raintot_diffs_latmean = numpy.nanmean(raintot_diffs_landmask[:,xlat_indices,:], axis=1)"
   ]
  },
  {
   "cell_type": "code",
   "execution_count": null,
   "metadata": {
    "ExecuteTime": {
     "end_time": "2018-11-26T16:53:31.319513Z",
     "start_time": "2018-11-26T16:53:08.221Z"
    }
   },
   "outputs": [],
   "source": [
    "raintot_diffs_latmean_day1 = numpy.nanmean(raintot_diffs_latmean[:24,:], axis=0)\n",
    "raintot_diffs_latmean_days2to10 = numpy.nanmean(raintot_diffs_latmean[24:,:], axis=0)"
   ]
  },
  {
   "cell_type": "code",
   "execution_count": null,
   "metadata": {
    "ExecuteTime": {
     "end_time": "2018-11-26T16:53:31.322274Z",
     "start_time": "2018-11-26T16:53:08.224Z"
    }
   },
   "outputs": [],
   "source": [
    "raintot_diffs_latmean_day1 = pandas.Series(raintot_diffs_latmean_day1).rolling(window=3, \\\n",
    "                                                                               center=True, \\\n",
    "                                                                               min_periods=1).mean()\n",
    "\n",
    "raintot_diffs_latmean_days2to10 = pandas.Series(raintot_diffs_latmean_days2to10).rolling(window=3, \\\n",
    "                                                                               center=True, \\\n",
    "                                                                               min_periods=1).mean()\n",
    "\n",
    "raintot_diffs_latmean_std_day1 = pandas.Series(raintot_diffs_latmean_day1).rolling(window=10, \\\n",
    "                                                                                   center=True, \\\n",
    "                                                                                   min_periods=1).std(ddof=1)\n",
    "\n",
    "raintot_diffs_latmean_std_days2to10 = pandas.Series(raintot_diffs_latmean_days2to10).rolling(window=10, \\\n",
    "                                                                                   center=True, \\\n",
    "                                                                                   min_periods=1).std(ddof=1)"
   ]
  },
  {
   "cell_type": "code",
   "execution_count": null,
   "metadata": {
    "ExecuteTime": {
     "end_time": "2018-11-26T16:53:31.325390Z",
     "start_time": "2018-11-26T16:53:08.228Z"
    }
   },
   "outputs": [],
   "source": [
    "fontsize=18\n",
    "\n",
    "fig = mp.figure(figsize=(5,6.5))\n",
    "gs = matplotlib.gridspec.GridSpec(2, 1, width_ratios=[1], height_ratios=[3, 1])\n",
    "\n",
    "map_proj = cartopy.crs.PlateCarree()\n",
    "levels1 = numpy.arange(-2,2.1,0.25)\n",
    "\n",
    "ax1 = fig.add_subplot(gs[0], projection=map_proj)\n",
    "contour1 = ax1.contourf(xlong[0,:], xlat[:,0], \\\n",
    "                        raintot_diffs_time_mean_landmask*24., \\\n",
    "                        levels=levels1, cmap=cmocean.cm.balance_r, extend='both')\n",
    "ax1.set_extent([276,327.5,-30,15], crs=map_proj)\n",
    "ax1.coastlines()\n",
    "ax1.set_xticks([280-360.,300-360.,320-360.])\n",
    "ax1.set_xticklabels(['','',''])\n",
    "ax1.set_yticks([-20,-10,0,10])\n",
    "ax1.set_yticklabels(['$20\\degree$S','$10\\degree$S', '$0\\degree$', '$10\\degree$N'])\n",
    "ax1.tick_params(labelsize=fontsize)\n",
    "ax1.axhline(0, c='0.1', lw=1)\n",
    "\n",
    "ax1.fill_between(numpy.linspace(276,327.5,2), y1=-10, y2=-40, \\\n",
    "                 alpha=0.333, edgecolor='None', \\\n",
    "                 facecolor='0.1', transform=map_proj)\n",
    "ax1.fill_between(numpy.linspace(276,327.5,2), y1=10, y2=40, \\\n",
    "                 alpha=0.333, edgecolor='None', \\\n",
    "                 facecolor='0.1', transform=map_proj)\n",
    "\n",
    "ax1.text(s='WRF 50-km 10d precip. change', x=0, y=1.02, \\\n",
    "         transform=ax1.transAxes, \\\n",
    "         fontsize=fontsize, ha='left', va='bottom')\n",
    "\n",
    "ax2 = fig.add_subplot(gs[1])\n",
    "ax2.set_xlim(276,327.5)\n",
    "ax2.tick_params(labelsize=fontsize)\n",
    "ax2.set_xticks([280,300,320])\n",
    "ax2.set_xticklabels(['$280\\degree$E','$290\\degree$E','$300\\degree$E','$310\\degree$E'])\n",
    "ax2.set_xlabel('longitude', fontsize=fontsize)\n",
    "ax2.set_ylabel('mm day$^{\\,-1}$', fontsize=fontsize)\n",
    "ax2.axhline(0, c='0.1', lw=1)\n",
    "\n",
    "ax2.plot(xlong[0,xlong_indices]+360.,\\\n",
    "        raintot_diffs_latmean_days2to10[xlong_indices]*24., \\\n",
    "        c='firebrick', label='days 2–10')\n",
    "\n",
    "ax2.fill_between(xlong[0,xlong_indices]+360., \\\n",
    "                (raintot_diffs_latmean_days2to10[xlong_indices]-raintot_diffs_latmean_std_days2to10[xlong_indices])*24.,\\\n",
    "                (raintot_diffs_latmean_days2to10[xlong_indices]+raintot_diffs_latmean_std_days2to10[xlong_indices])*24.,\\\n",
    "                facecolor='firebrick', alpha=0.333)\n",
    "\n",
    "ax2.plot(xlong[0,xlong_indices]+360.,\\\n",
    "        raintot_diffs_latmean_day1[xlong_indices]*24., \\\n",
    "        c='coral', label='day 1', zorder=5)\n",
    "\n",
    "ax2.fill_between(xlong[0,xlong_indices]+360., \\\n",
    "                (raintot_diffs_latmean_day1[xlong_indices]-raintot_diffs_latmean_std_day1[xlong_indices])*24.,\\\n",
    "                (raintot_diffs_latmean_day1[xlong_indices]+raintot_diffs_latmean_std_day1[xlong_indices])*24.,\\\n",
    "                facecolor='coral', alpha=0.333, zorder=5)\n",
    "\n",
    "ax2.set_ylim(-1.4835328969152064, 1.1870771995510045)\n",
    "\n",
    "fig.tight_layout()\n",
    "h, l=ax2.get_legend_handles_labels()\n",
    "ax2.legend(h, l, fontsize=fontsize, scatterpoints=1, bbox_to_anchor=(1.025,1.), \\\n",
    "            bbox_transform=ax2.transAxes, loc='upper left', borderaxespad=0, labelspacing=0.25, \\\n",
    "            fancybox=False, edgecolor='0', framealpha=0, borderpad=0.25, \\\n",
    "            handletextpad=0.5, markerscale=1, handlelength=1.25)\n",
    "\n",
    "scale = .85\n",
    "ax1pos = ax1.get_position()\n",
    "cbar_ax = fig.add_axes([ax1pos.x1+0.05, ax1pos.y0+.5*(1-scale)*ax1pos.height, 0.04, ax1pos.height*scale])\n",
    "cbar = mp.colorbar(contour1, cax=cbar_ax)\n",
    "cbar.set_label('mm day$^{\\,-1}$', fontsize=fontsize)\n",
    "cbar_ax.tick_params(labelsize=fontsize)\n",
    "cbar.set_ticks([-2,-1,0,1,2])\n",
    "\n",
    "#fig.savefig('../figures/WRF_map_and_meridional_means_2lines.png', dpi=600, bbox_inches='tight', transparent=True)"
   ]
  },
  {
   "cell_type": "raw",
   "metadata": {
    "ExecuteTime": {
     "end_time": "2018-06-12T16:40:57.207294Z",
     "start_time": "2018-06-12T16:40:40.990434Z"
    }
   },
   "source": [
    "mp.contourf(xlong_2km,\\\n",
    "            xlat_2km,\\\n",
    "            raintot_diffs_2km_time_mean_landmask*24.,\\\n",
    "            levels=bounds,\\\n",
    "            cmap=cmap_custom,\\\n",
    "            extend='both',\\\n",
    "            norm=norm)\n",
    "mp.colorbar()\n",
    "ax = mp.axes()\n",
    "ax.set_aspect('equal')"
   ]
  },
  {
   "cell_type": "markdown",
   "metadata": {},
   "source": [
    "# maps of change"
   ]
  },
  {
   "cell_type": "raw",
   "metadata": {},
   "source": [
    "latmin_d03 = -2.243599\n",
    "latmax_d03 = 12.03965\n",
    "lonmin_d03 = 313.6654510498047\n",
    "lonmax_d03 = 277.7049255371094\n",
    "\n",
    "ax.add_patch(matplotlib.patches.Rectangle(xy=[lonmin_d03, latmin_d03], width=d03_width, height=d03_height,\n",
    "                                facecolor='none',\n",
    "                                edgecolor='gold',\\\n",
    "                                linewidth=3,\\\n",
    "                                transform=map_proj, zorder=2) )"
   ]
  },
  {
   "cell_type": "markdown",
   "metadata": {},
   "source": [
    "custom color map stuff"
   ]
  },
  {
   "cell_type": "code",
   "execution_count": null,
   "metadata": {
    "ExecuteTime": {
     "end_time": "2018-11-26T16:53:31.327996Z",
     "start_time": "2018-11-26T16:53:08.388Z"
    }
   },
   "outputs": [],
   "source": [
    "turbid = cmocean.cm.turbid_r\n",
    "deep = cmocean.cm.deep\n",
    "turbid_colors = turbid(numpy.linspace(0,1,128))\n",
    "deep_colors = deep(numpy.linspace(0,1,128))\n",
    "turbid_deep_colors = numpy.vstack((turbid_colors,deep_colors))\n",
    "turbid_deep_colors\n",
    "turbid_deep_cmap = matplotlib.colors.LinearSegmentedColormap.from_list('turbid_deep', turbid_deep_colors)"
   ]
  },
  {
   "cell_type": "code",
   "execution_count": null,
   "metadata": {
    "ExecuteTime": {
     "end_time": "2018-11-26T16:53:31.330672Z",
     "start_time": "2018-11-26T16:53:08.392Z"
    }
   },
   "outputs": [],
   "source": [
    "levels_2km = numpy.arange(-5,5.1,1)\n",
    "cmap_2km = matplotlib.cm.PuOr #turbid_deep_cmap\n",
    "norm = matplotlib.colors.BoundaryNorm(levels_2km, cmap_2km.N)\n",
    "mp.pcolormesh(raintot_diffs_2km_time_mean_landmask*24.,\\\n",
    "              cmap=cmap_2km, norm=norm)\n",
    "mp.colorbar(extend='both')"
   ]
  },
  {
   "cell_type": "code",
   "execution_count": null,
   "metadata": {
    "ExecuteTime": {
     "end_time": "2018-11-26T16:53:31.333524Z",
     "start_time": "2018-11-26T16:53:08.395Z"
    }
   },
   "outputs": [],
   "source": [
    "raintot_diffs_2km_time_mean_landmask_interpolated = \\\n",
    "scipy.interpolate.griddata((xlong_2km.flatten(), xlat_2km.flatten()), \\\n",
    "                           raintot_diffs_2km_time_mean_landmask.flatten(), \\\n",
    "                           (xlong.flatten(),xlat.flatten()) )"
   ]
  },
  {
   "cell_type": "code",
   "execution_count": null,
   "metadata": {},
   "outputs": [],
   "source": [
    "mp.pcolormesh(raintot_diffs_2km_time_mean_landmask_interpolated.reshape((xlong.shape)))"
   ]
  },
  {
   "cell_type": "code",
   "execution_count": null,
   "metadata": {
    "ExecuteTime": {
     "end_time": "2018-11-26T16:53:31.336533Z",
     "start_time": "2018-11-26T16:53:08.399Z"
    }
   },
   "outputs": [],
   "source": [
    "kernel_std = .55\n",
    "#kernel = astropy.convolution.Gaussian2DKernel(x_stddev=kernel_std, y_stddev=kernel_std)\n",
    "kernel = astropy.convolution.Gaussian2DKernel(x_stddev=kernel_std, y_stddev=kernel_std)\n",
    "field = raintot_diffs_2km_time_mean_landmask_interpolated.reshape(xlong.shape)\n",
    "raintot_diffs_convolved = astropy.convolution.convolve(field, kernel)\n",
    "raintot_diffs_convolved[landmask==0]=numpy.nan"
   ]
  },
  {
   "cell_type": "code",
   "execution_count": null,
   "metadata": {
    "ExecuteTime": {
     "end_time": "2018-11-26T16:53:31.339363Z",
     "start_time": "2018-11-26T16:53:08.403Z"
    }
   },
   "outputs": [],
   "source": [
    "clevels = numpy.arange(-3.25,3.251,0.25)\n",
    "mp.pcolormesh(xlong, xlat, raintot_diffs_2km_time_mean_landmask_interpolated.reshape((xlong.shape))*24., \\\n",
    "            vmin=-10,vmax=10,\\\n",
    "            cmap='RdBu')\n",
    "mp.xlim(-85,-40)\n",
    "mp.ylim(-5,15)\n",
    "mp.colorbar()"
   ]
  },
  {
   "cell_type": "raw",
   "metadata": {
    "ExecuteTime": {
     "start_time": "2018-11-07T01:06:31.155Z"
    }
   },
   "source": [
    "fontsize=12\n",
    "\n",
    "fig = mp.figure(figsize=(8.5,4.75))\n",
    "\n",
    "map_proj = cartopy.crs.PlateCarree()\n",
    "\n",
    "ax1 = fig.add_subplot(231, projection=map_proj)\n",
    "ax1.set_extent([273,329,-30,15], crs=map_proj)\n",
    "\n",
    "ax2 = fig.add_subplot(232, projection=map_proj)\n",
    "ax2.set_extent([273,329,-30,15], crs=map_proj)\n",
    "\n",
    "ax3 = fig.add_subplot(234, projection=map_proj)\n",
    "ax3.set_extent([273,329,-30,15], crs=map_proj)\n",
    "\n",
    "ax4 = fig.add_subplot(235, projection=map_proj)\n",
    "ax4.set_extent([273,329,-30,15], crs=map_proj)\n",
    "\n",
    "ax5 = fig.add_subplot(236, projection=map_proj)\n",
    "ax5.set_extent([273,329,-30,15], crs=map_proj)\n",
    "\n",
    "levels1 = numpy.arange(-2,2.1,0.25)\n",
    "\n",
    "contour1 = ax1.contourf(xlong[0,:], xlat[:,0], raintot_diffs_time_mean_landmask*24., levels=levels1, cmap=turbid_deep_cmap, extend='both')\n",
    "\n",
    "levels_2km = numpy.arange(-5,5.1,1)\n",
    "cmap_2km = matplotlib.cm.PuOr #turbid_deep_cmap\n",
    "norm = matplotlib.colors.BoundaryNorm(levels_2km, cmap_2km.N)\n",
    "# contour2 = ax2.contourf(xlong_2km[0,:], xlat_2km[:,0], raintot_diffs_2km_time_mean_landmask, \\\n",
    "#                         levels=levels_2km, cmap=turbid_deep_cmap, extend='both')\n",
    "contour2 = ax2.pcolormesh(xlong_2km[0,:], xlat_2km[:,0], raintot_diffs_2km_time_mean_landmask*24., \\\n",
    "                          cmap=cmap_2km, norm=norm)\n",
    "\n",
    "contour3 = ax3.contourf(lon_subset, lat_subset_open, PRECT_diffs_10day*86400.*1000, levels=levels1, cmap=turbid_deep_cmap, extend='both')\n",
    "ax3.contour(lon_subset, lat_subset_open, PRECT_diffs_10day, levels=[0], colors='0.1')\n",
    "\n",
    "contour4 = ax4.contourf(lon_subset, lat_subset_open, PRECT_diffs_30day*86400.*1000, levels=levels1, cmap=turbid_deep_cmap, extend='both')\n",
    "ax4.contour(lon_subset, lat_subset_open, PRECT_diffs_30day, levels=[0], colors='0.1')\n",
    "\n",
    "contour5 = ax5.contourf(lon_subset, lat_subset_open, PRECT_diffs_10year*86400.*1000, levels=levels1, cmap=turbid_deep_cmap, extend='both')\n",
    "ax5.contour(lon_subset, lat_subset_open, PRECT_diffs_10year, levels=[0], colors='0.1')\n",
    "\n",
    "ax1.coastlines()\n",
    "ax2.coastlines()\n",
    "ax3.coastlines()\n",
    "ax4.coastlines()\n",
    "ax5.coastlines()\n",
    "\n",
    "ax1.text(s='(a) WRF 50km 2$-$10d mean', x=0, y=1.02, transform=ax1.transAxes, fontsize=fontsize, ha='left', va='bottom')\n",
    "ax2.text(s='(b) WRF 2km 2$-$10d mean', x=0, y=1.02, transform=ax2.transAxes, fontsize=fontsize, ha='left', va='bottom')\n",
    "ax3.text(s='(c) CESM 2$\\degree$ 2$-$10d mean', x=0, y=1.02, transform=ax3.transAxes, fontsize=fontsize, ha='left', va='bottom')\n",
    "ax4.text(s='(d) CESM 2$\\degree$ 30d mean', x=0, y=1.02, transform=ax4.transAxes, fontsize=fontsize, ha='left', va='bottom')\n",
    "ax5.text(s='(e) CESM 2$\\degree$ 10y mean', x=0, y=1.02, transform=ax5.transAxes, fontsize=fontsize, ha='left', va='bottom')\n",
    "\n",
    "fig.tight_layout(h_pad=3)\n",
    "\n",
    "axlpos = ax3.get_position()\n",
    "axrpos = ax5.get_position()\n",
    "\n",
    "cbar_ax = fig.add_axes([axlpos.x0,axlpos.y0-0.1,axrpos.x1-axlpos.x0,0.04])\n",
    "cbar = fig.colorbar(contour4, cax=cbar_ax, orientation='horizontal')\n",
    "cbar_ax.tick_params(labelsize=fontsize)\n",
    "cbar.set_label('mm day$^{\\,-1}$', fontsize=fontsize)\n",
    "\n",
    "ax2kmpos = ax2.get_position()\n",
    "cbar_ax2 = fig.add_axes([ax2kmpos.x1+0.03,ax2kmpos.y0,0.02,ax2kmpos.height])\n",
    "cbar2 = fig.colorbar(contour2, cax=cbar_ax2, orientation='vertical', extend='both')\n",
    "cbar_ax2.tick_params(labelsize=fontsize)\n",
    "cbar2.set_label('mm day$^{\\,-1}$', fontsize=fontsize)\n",
    "\n",
    "fig.savefig('figures/cesm_10day_30day_10year_mean_precip_change_WITH_WRF_2km.png', dpi=600, bbox_inches='tight', transparent=True)\n"
   ]
  },
  {
   "cell_type": "code",
   "execution_count": null,
   "metadata": {
    "ExecuteTime": {
     "end_time": "2018-11-26T19:38:50.158911Z",
     "start_time": "2018-11-26T19:38:49.779653Z"
    }
   },
   "outputs": [],
   "source": [
    "fontsize=12\n",
    "\n",
    "fig = mp.figure(figsize=(8.5,4.75))\n",
    "\n",
    "map_proj = cartopy.crs.PlateCarree()\n",
    "\n",
    "ax1 = fig.add_subplot(231, projection=map_proj)\n",
    "ax1.set_extent([273,329,-30,15], crs=map_proj)\n",
    "\n",
    "ax2 = fig.add_subplot(232, projection=map_proj)\n",
    "ax2.set_extent([273,329,-30,15], crs=map_proj)\n",
    "\n",
    "ax3 = fig.add_subplot(234, projection=map_proj)\n",
    "ax3.set_extent([273,329,-30,15], crs=map_proj)\n",
    "\n",
    "ax4 = fig.add_subplot(235, projection=map_proj)\n",
    "ax4.set_extent([273,329,-30,15], crs=map_proj)\n",
    "\n",
    "ax5 = fig.add_subplot(236, projection=map_proj)\n",
    "ax5.set_extent([273,329,-30,15], crs=map_proj)\n",
    "\n",
    "levels1 = numpy.arange(-4,4.1,0.5)\n",
    "\n",
    "contour1 = ax1.contourf(xlong[0,:], xlat[:,0], raintot_diffs_time_mean_landmask*24., levels=levels1, cmap=turbid_deep_cmap, extend='both')\n",
    "\n",
    "contour2 = ax2.contourf(xlong[0,:], xlat[:,0], \\\n",
    "                        raintot_diffs_convolved*24., \\\n",
    "                        levels=levels1, cmap=turbid_deep_cmap, extend='both')\n",
    "\n",
    "contour3 = ax3.contourf(lon_subset, lat_subset_open, PRECT_diffs_10day*86400.*1000, levels=levels1, cmap=turbid_deep_cmap, extend='both')\n",
    "ax3.contour(lon_subset, lat_subset_open, PRECT_diffs_10day, levels=[0], colors='0.1')\n",
    "\n",
    "contour4 = ax4.contourf(lon_subset, lat_subset_open, PRECT_diffs_30day*86400.*1000, levels=levels1, cmap=turbid_deep_cmap, extend='both')\n",
    "ax4.contour(lon_subset, lat_subset_open, PRECT_diffs_30day, levels=[0], colors='0.1')\n",
    "\n",
    "contour5 = ax5.contourf(lon_subset, lat_subset_open, PRECT_diffs_10year*86400.*1000, levels=levels1, cmap=turbid_deep_cmap, extend='both')\n",
    "ax5.contour(lon_subset, lat_subset_open, PRECT_diffs_10year, levels=[0], colors='0.1')\n",
    "\n",
    "ax1.coastlines()\n",
    "ax2.coastlines()\n",
    "ax3.coastlines()\n",
    "ax4.coastlines()\n",
    "ax5.coastlines()\n",
    "\n",
    "ax1.text(s='(a) WRF 50km 2$-$10d mean', x=0, y=1.02, transform=ax1.transAxes, fontsize=fontsize, ha='left', va='bottom')\n",
    "ax2.text(s='(b) WRF 2km 2$-$10d mean', x=0, y=1.02, transform=ax2.transAxes, fontsize=fontsize, ha='left', va='bottom')\n",
    "ax3.text(s='(c) CESM 2$\\degree$ 2$-$10d mean', x=0, y=1.02, transform=ax3.transAxes, fontsize=fontsize, ha='left', va='bottom')\n",
    "ax4.text(s='(d) CESM 2$\\degree$ 30d mean', x=0, y=1.02, transform=ax4.transAxes, fontsize=fontsize, ha='left', va='bottom')\n",
    "ax5.text(s='(e) CESM 2$\\degree$ 10y mean', x=0, y=1.02, transform=ax5.transAxes, fontsize=fontsize, ha='left', va='bottom')\n",
    "\n",
    "ax1.axhline(0, lw='1', color='0.1', ls='-')\n",
    "ax2.axhline(0, lw='1', color='0.1', ls='-')\n",
    "ax3.axhline(0, lw='1', color='0.1', ls='-')\n",
    "ax4.axhline(0, lw='1', color='0.1', ls='-')\n",
    "ax5.axhline(0, lw='1', color='0.1', ls='-')\n",
    "\n",
    "fig.tight_layout(h_pad=3)\n",
    "\n",
    "axlpos = ax3.get_position()\n",
    "axrpos = ax5.get_position()\n",
    "\n",
    "cbar_ax = fig.add_axes([axlpos.x0,axlpos.y0-0.1,axrpos.x1-axlpos.x0,0.04])\n",
    "cbar = fig.colorbar(contour4, cax=cbar_ax, orientation='horizontal')\n",
    "cbar_ax.tick_params(labelsize=fontsize)\n",
    "cbar.set_label('mm day$^{\\,-1}$', fontsize=fontsize)\n",
    "\n",
    "# ax2kmpos = ax2.get_position()\n",
    "# cbar_ax2 = fig.add_axes([ax2kmpos.x1+0.03,ax2kmpos.y0,0.02,ax2kmpos.height])\n",
    "# cbar2 = fig.colorbar(contour2, cax=cbar_ax2, orientation='vertical', extend='both')\n",
    "# cbar_ax2.tick_params(labelsize=fontsize)\n",
    "# cbar2.set_label('mm day$^{\\,-1}$', fontsize=fontsize)\n",
    "\n",
    "#fig.savefig('../figures/REVISION_cesm_10day_30day_10year_mean_precip_change_WITH_WRF_2km.png', dpi=600, bbox_inches='tight', transparent=True)\n"
   ]
  },
  {
   "cell_type": "markdown",
   "metadata": {},
   "source": [
    "calculate integrated soil moisture"
   ]
  },
  {
   "cell_type": "code",
   "execution_count": null,
   "metadata": {
    "ExecuteTime": {
     "end_time": "2018-11-26T16:53:31.346045Z",
     "start_time": "2018-11-26T16:53:08.587Z"
    }
   },
   "outputs": [],
   "source": [
    "cesm_soil_levels = phys_clm_ds['levgrnd'].values*100.\n",
    "cesm_soil_levels_thickness = numpy.diff( numpy.hstack((numpy.array([0.0]), cesm_soil_levels)) )\n",
    "\n",
    "wrf_soil_levels = numpy.array([10.,40.,100.,200.])\n",
    "wrf_soil_levels_thickness = numpy.array([10.,30.,60.,100.])"
   ]
  },
  {
   "cell_type": "code",
   "execution_count": null,
   "metadata": {
    "ExecuteTime": {
     "end_time": "2018-11-26T16:53:31.348832Z",
     "start_time": "2018-11-26T16:53:08.590Z"
    }
   },
   "outputs": [],
   "source": [
    "phys_clm_ds['SOILLIQ']\n",
    "# cesm units:  kg/m2\n",
    "# use first 9 levels\n",
    "\n",
    "cont_mfds['SH2O']\n",
    "# wrf units:  m3/m3\n",
    "# use all levels"
   ]
  },
  {
   "cell_type": "code",
   "execution_count": null,
   "metadata": {
    "ExecuteTime": {
     "end_time": "2018-11-26T16:53:31.354440Z",
     "start_time": "2018-11-26T16:53:08.599Z"
    }
   },
   "outputs": [],
   "source": [
    "soilh2o_wtdmean_50km = numpy.average(soilh2o_diffs_time_mean, weights=wrf_soil_levels_thickness, axis=0)\n",
    "soilh2o_wtdmean_2km = numpy.average(soilh2o_diffs_2km_time_mean, weights=wrf_soil_levels_thickness, axis=0)"
   ]
  },
  {
   "cell_type": "code",
   "execution_count": null,
   "metadata": {
    "ExecuteTime": {
     "end_time": "2018-11-26T16:53:31.357150Z",
     "start_time": "2018-11-26T16:53:08.603Z"
    }
   },
   "outputs": [],
   "source": [
    "SOILLIQ_wtdmean_10day = numpy.average((SOILLIQ_diffs_10day[:9,:,:].T/(1000 * cesm_soil_levels_thickness[:9]/100.)).T, weights=cesm_soil_levels_thickness[:9], axis=0)\n",
    "SOILLIQ_wtdmean_30day = numpy.average((SOILLIQ_diffs_30day[:9,:,:].T/(1000 * cesm_soil_levels_thickness[:9]/100.)).T, weights=cesm_soil_levels_thickness[:9], axis=0)\n",
    "SOILLIQ_wtdmean_10year = numpy.average((SOILLIQ_diffs_10year[:9,:,:].T/(1000 * cesm_soil_levels_thickness[:9]/100.)).T, weights=cesm_soil_levels_thickness[:9], axis=0)"
   ]
  },
  {
   "cell_type": "code",
   "execution_count": null,
   "metadata": {
    "ExecuteTime": {
     "end_time": "2018-11-26T16:53:31.360235Z",
     "start_time": "2018-11-26T16:53:08.606Z"
    }
   },
   "outputs": [],
   "source": [
    "kernel_std = 10\n",
    "kernel = astropy.convolution.Gaussian2DKernel(x_stddev=kernel_std, y_stddev=kernel_std)\n",
    "field = soilh2o_wtdmean_2km\n",
    "soilh2o_diffs_convolved = astropy.convolution.convolve(field, kernel)\n",
    "soilh2o_diffs_convolved[landmask_2km==0]=numpy.nan"
   ]
  },
  {
   "cell_type": "code",
   "execution_count": null,
   "metadata": {
    "ExecuteTime": {
     "end_time": "2018-11-26T16:53:31.363095Z",
     "start_time": "2018-11-26T16:53:08.612Z"
    }
   },
   "outputs": [],
   "source": [
    "fontsize=12\n",
    "\n",
    "fig = mp.figure(figsize=(8.5,4.75))\n",
    "\n",
    "map_proj = cartopy.crs.PlateCarree()\n",
    "\n",
    "ax1 = fig.add_subplot(231, projection=map_proj)\n",
    "ax1.set_extent([273,329,-30,15], crs=map_proj)\n",
    "\n",
    "ax2 = fig.add_subplot(232, projection=map_proj)\n",
    "ax2.set_extent([273,329,-30,15], crs=map_proj)\n",
    "\n",
    "ax3 = fig.add_subplot(234, projection=map_proj)\n",
    "ax3.set_extent([273,329,-30,15], crs=map_proj)\n",
    "\n",
    "ax4 = fig.add_subplot(235, projection=map_proj)\n",
    "ax4.set_extent([273,329,-30,15], crs=map_proj)\n",
    "\n",
    "ax5 = fig.add_subplot(236, projection=map_proj)\n",
    "ax5.set_extent([273,329,-30,15], crs=map_proj)\n",
    "\n",
    "levels1 = numpy.arange(-0.005,0.0051,0.0005)\n",
    "\n",
    "contour1 = ax1.contourf(xlong[0,:], xlat[:,0], soilh2o_wtdmean_50km, \\\n",
    "                        levels=levels1, \\\n",
    "                        cmap=cmocean.cm.balance_r, extend='both')\n",
    "\n",
    "contour2 = ax2.contourf(xlong_2km[0,:], xlat_2km[:,0], \\\n",
    "                        soilh2o_diffs_convolved, \\\n",
    "                        levels=levels1, \\\n",
    "                        cmap=cmocean.cm.balance_r, extend='both')\n",
    "\n",
    "contour3 = ax3.contourf(lon_subset, lat_subset_open, SOILLIQ_wtdmean_10day, \\\n",
    "                        levels=levels1, \\\n",
    "                        cmap=cmocean.cm.balance_r, extend='both')\n",
    "ax3.contour(lon_subset, lat_subset_open, SOILLIQ_wtdmean_10day, levels=[0], colors='0.1')\n",
    "\n",
    "contour4 = ax4.contourf(lon_subset, lat_subset_open, SOILLIQ_wtdmean_30day, \\\n",
    "                        levels=levels1, \\\n",
    "                        cmap=cmocean.cm.balance_r, extend='both')\n",
    "ax4.contour(lon_subset, lat_subset_open, SOILLIQ_wtdmean_30day, levels=[0], colors='0.1')\n",
    "\n",
    "contour5 = ax5.contourf(lon_subset, lat_subset_open, SOILLIQ_wtdmean_10year/5., \\\n",
    "                        levels=levels1, \\\n",
    "                        cmap=cmocean.cm.balance_r, extend='both')\n",
    "ax5.contour(lon_subset, lat_subset_open, SOILLIQ_wtdmean_10year, levels=[0], colors='0.1')\n",
    "\n",
    "ax1.coastlines()\n",
    "ax2.coastlines()\n",
    "ax3.coastlines()\n",
    "ax4.coastlines()\n",
    "ax5.coastlines()\n",
    "\n",
    "ax1.text(s='(a) WRF 50km 2$-$10d mean', x=0, y=1.02, transform=ax1.transAxes, fontsize=fontsize, ha='left', va='bottom')\n",
    "ax2.text(s='(b) WRF 2km 2$-$10d mean', x=0, y=1.02, transform=ax2.transAxes, fontsize=fontsize, ha='left', va='bottom')\n",
    "ax3.text(s='(c) CESM 2$\\degree$ 2$-$10d mean', x=0, y=1.02, transform=ax3.transAxes, fontsize=fontsize, ha='left', va='bottom')\n",
    "ax4.text(s='(d) CESM 2$\\degree$ 30d mean ($\\div$ 5)', x=0, y=1.02, transform=ax4.transAxes, fontsize=fontsize, ha='left', va='bottom')\n",
    "ax5.text(s='(e) CESM 2$\\degree$ 10y mean ($\\div$ 5)', x=0, y=1.02, transform=ax5.transAxes, fontsize=fontsize, ha='left', va='bottom')\n",
    "\n",
    "ax1.axhline(0, lw='1', color='0.1', ls='-')\n",
    "ax2.axhline(0, lw='1', color='0.1', ls='-')\n",
    "ax3.axhline(0, lw='1', color='0.1', ls='-')\n",
    "ax4.axhline(0, lw='1', color='0.1', ls='-')\n",
    "ax5.axhline(0, lw='1', color='0.1', ls='-')\n",
    "\n",
    "fig.tight_layout(h_pad=3)\n",
    "\n",
    "axlpos = ax3.get_position()\n",
    "axrpos = ax5.get_position()\n",
    "\n",
    "cbar_ax = fig.add_axes([axlpos.x0,axlpos.y0-0.1,axrpos.x1-axlpos.x0,0.04])\n",
    "cbar = fig.colorbar(contour1, cax=cbar_ax, orientation='horizontal')\n",
    "cbar_ax.tick_params(labelsize=fontsize)\n",
    "cbar.set_label('m$^3$ m$^{\\,-3}$', fontsize=fontsize)\n",
    "\n",
    "#fig.savefig('../figures/REVISION_soil_moisture_maps.png', dpi=600, bbox_inches='tight', transparent=True)\n"
   ]
  },
  {
   "cell_type": "markdown",
   "metadata": {},
   "source": [
    "# combine into one large figure"
   ]
  },
  {
   "cell_type": "code",
   "execution_count": null,
   "metadata": {
    "ExecuteTime": {
     "end_time": "2018-11-26T16:53:31.366031Z",
     "start_time": "2018-11-26T16:53:08.619Z"
    }
   },
   "outputs": [],
   "source": [
    "fontsize=12\n",
    "\n",
    "fig = mp.figure(figsize=(7.5,11.))\n",
    "\n",
    "gs = matplotlib.gridspec.GridSpec(6, 3,\n",
    "                       width_ratios=[2,2,2],\n",
    "                       height_ratios=[2,2,.75,2,2,.75]\n",
    "                       )\n",
    "\n",
    "map_proj = cartopy.crs.PlateCarree()\n",
    "\n",
    "ax1 = fig.add_subplot(gs[0], projection=map_proj)\n",
    "ax1.set_extent([273,329,-30,15], crs=map_proj)\n",
    "\n",
    "ax2 = fig.add_subplot(gs[1], projection=map_proj)\n",
    "ax2.set_extent([273,329,-30,15], crs=map_proj)\n",
    "\n",
    "ax3 = fig.add_subplot(gs[3], projection=map_proj)\n",
    "ax3.set_extent([273,329,-30,15], crs=map_proj)\n",
    "\n",
    "ax4 = fig.add_subplot(gs[4], projection=map_proj)\n",
    "ax4.set_extent([273,329,-30,15], crs=map_proj)\n",
    "\n",
    "ax5 = fig.add_subplot(gs[5], projection=map_proj)\n",
    "ax5.set_extent([273,329,-30,15], crs=map_proj)\n",
    "\n",
    "levels1 = numpy.arange(-4,4.1,0.5)\n",
    "\n",
    "contour1 = ax1.contourf(xlong[0,:], xlat[:,0], raintot_diffs_time_mean_landmask*24., levels=levels1, cmap=turbid_deep_cmap, extend='both')\n",
    "\n",
    "contour2 = ax2.contourf(xlong[0,:], xlat[:,0], \\\n",
    "                        #raintot_diffs_convolved*24., \\\n",
    "                        raintot_diffs_2km_time_mean_landmask_interpolated.reshape((xlong.shape))*24., \\\n",
    "                        levels=levels1, cmap=turbid_deep_cmap, extend='both')\n",
    "\n",
    "contour3 = ax3.contourf(lon_subset, lat_subset_open, PRECT_diffs_10day*86400.*1000, levels=levels1, cmap=turbid_deep_cmap, extend='both')\n",
    "ax3.contour(lon_subset, lat_subset_open, PRECT_diffs_10day, levels=[0], colors='0.1')\n",
    "\n",
    "contour4 = ax4.contourf(lon_subset, lat_subset_open, PRECT_diffs_30day*86400.*1000, levels=levels1, cmap=turbid_deep_cmap, extend='both')\n",
    "ax4.contour(lon_subset, lat_subset_open, PRECT_diffs_30day, levels=[0], colors='0.1')\n",
    "\n",
    "contour5 = ax5.contourf(lon_subset, lat_subset_open, PRECT_diffs_10year*86400.*1000, levels=levels1, cmap=turbid_deep_cmap, extend='both')\n",
    "ax5.contour(lon_subset, lat_subset_open, PRECT_diffs_10year, levels=[0], colors='0.1')\n",
    "\n",
    "ax1.coastlines()\n",
    "ax2.coastlines()\n",
    "ax3.coastlines()\n",
    "ax4.coastlines()\n",
    "ax5.coastlines()\n",
    "\n",
    "ax1.text(s='(a) WRF 50km 2$-$10d mean', x=0, y=1.02, transform=ax1.transAxes, fontsize=fontsize, ha='left', va='bottom')\n",
    "ax2.text(s='(b) WRF 2km 2$-$10d mean', x=0, y=1.02, transform=ax2.transAxes, fontsize=fontsize, ha='left', va='bottom')\n",
    "ax3.text(s='(c) CESM 2$\\degree$ 2$-$10d mean', x=0, y=1.02, transform=ax3.transAxes, fontsize=fontsize, ha='left', va='bottom')\n",
    "ax4.text(s='(d) CESM 2$\\degree$ 30d mean', x=0, y=1.02, transform=ax4.transAxes, fontsize=fontsize, ha='left', va='bottom')\n",
    "ax5.text(s='(e) CESM 2$\\degree$ 10y mean', x=0, y=1.02, transform=ax5.transAxes, fontsize=fontsize, ha='left', va='bottom')\n",
    "\n",
    "ax1.axhline(0, lw='1', color='0.1', ls='-')\n",
    "ax2.axhline(0, lw='1', color='0.1', ls='-')\n",
    "ax3.axhline(0, lw='1', color='0.1', ls='-')\n",
    "ax4.axhline(0, lw='1', color='0.1', ls='-')\n",
    "ax5.axhline(0, lw='1', color='0.1', ls='-')\n",
    "\n",
    "ax3_top = ax3\n",
    "ax5_top = ax5\n",
    "contour1_top = contour1\n",
    "\n",
    "\n",
    "\n",
    "map_proj = cartopy.crs.PlateCarree()\n",
    "\n",
    "ax1 = fig.add_subplot(gs[9], projection=map_proj)\n",
    "ax1.set_extent([273,329,-30,15], crs=map_proj)\n",
    "\n",
    "ax2 = fig.add_subplot(gs[10], projection=map_proj)\n",
    "ax2.set_extent([273,329,-30,15], crs=map_proj)\n",
    "\n",
    "ax3 = fig.add_subplot(gs[12], projection=map_proj)\n",
    "ax3.set_extent([273,329,-30,15], crs=map_proj)\n",
    "\n",
    "ax4 = fig.add_subplot(gs[13], projection=map_proj)\n",
    "ax4.set_extent([273,329,-30,15], crs=map_proj)\n",
    "\n",
    "ax5 = fig.add_subplot(gs[14], projection=map_proj)\n",
    "ax5.set_extent([273,329,-30,15], crs=map_proj)\n",
    "\n",
    "levels1 = numpy.arange(-0.005,0.0051,0.0005)\n",
    "\n",
    "contour1 = ax1.contourf(xlong[0,:], xlat[:,0], soilh2o_wtdmean_50km, \\\n",
    "                        levels=levels1, \\\n",
    "                        cmap=cmocean.cm.balance_r, extend='both')\n",
    "\n",
    "contour2 = ax2.contourf(xlong_2km[0,:], xlat_2km[:,0], \\\n",
    "                        soilh2o_diffs_convolved, \\\n",
    "                        levels=levels1, \\\n",
    "                        cmap=cmocean.cm.balance_r, extend='both')\n",
    "\n",
    "contour3 = ax3.contourf(lon_subset, lat_subset_open, SOILLIQ_wtdmean_10day, \\\n",
    "                        levels=levels1, \\\n",
    "                        cmap=cmocean.cm.balance_r, extend='both')\n",
    "ax3.contour(lon_subset, lat_subset_open, SOILLIQ_wtdmean_10day, levels=[0], colors='0.1')\n",
    "\n",
    "contour4 = ax4.contourf(lon_subset, lat_subset_open, SOILLIQ_wtdmean_30day, \\\n",
    "                        levels=levels1, \\\n",
    "                        cmap=cmocean.cm.balance_r, extend='both')\n",
    "ax4.contour(lon_subset, lat_subset_open, SOILLIQ_wtdmean_30day, levels=[0], colors='0.1')\n",
    "\n",
    "contour5 = ax5.contourf(lon_subset, lat_subset_open, SOILLIQ_wtdmean_10year/5., \\\n",
    "                        levels=levels1, \\\n",
    "                        cmap=cmocean.cm.balance_r, extend='both')\n",
    "ax5.contour(lon_subset, lat_subset_open, SOILLIQ_wtdmean_10year, levels=[0], colors='0.1')\n",
    "\n",
    "ax1.coastlines()\n",
    "ax2.coastlines()\n",
    "ax3.coastlines()\n",
    "ax4.coastlines()\n",
    "ax5.coastlines()\n",
    "\n",
    "ax1.text(s='(f) WRF 50km 2$-$10d mean', x=0, y=1.02, transform=ax1.transAxes, fontsize=fontsize, ha='left', va='bottom')\n",
    "ax2.text(s='(g) WRF 2km 2$-$10d mean', x=0, y=1.02, transform=ax2.transAxes, fontsize=fontsize, ha='left', va='bottom')\n",
    "ax3.text(s='(h) CESM 2$\\degree$ 2$-$10d mean', x=0, y=1.02, transform=ax3.transAxes, fontsize=fontsize, ha='left', va='bottom')\n",
    "ax4.text(s='(i) CESM 2$\\degree$ 30d mean', x=0, y=1.02, transform=ax4.transAxes, fontsize=fontsize, ha='left', va='bottom')\n",
    "ax5.text(s='(j) CESM 2$\\degree$ 10y mean ($\\div$ 5)', x=0, y=1.02, transform=ax5.transAxes, fontsize=fontsize, ha='left', va='bottom')\n",
    "\n",
    "ax1.axhline(0, lw='1', color='0.1', ls='-')\n",
    "ax2.axhline(0, lw='1', color='0.1', ls='-')\n",
    "ax3.axhline(0, lw='1', color='0.1', ls='-')\n",
    "ax4.axhline(0, lw='1', color='0.1', ls='-')\n",
    "ax5.axhline(0, lw='1', color='0.1', ls='-')\n",
    "\n",
    "fig.tight_layout(h_pad=2, w_pad=2)\n",
    "\n",
    "# top plots\n",
    "axlpos = ax3_top.get_position()\n",
    "axrpos = ax5_top.get_position()\n",
    "\n",
    "cbar_ax = fig.add_axes([axlpos.x0,axlpos.y0-0.03,axrpos.x1-axlpos.x0,0.02])\n",
    "cbar = fig.colorbar(contour1_top, cax=cbar_ax, orientation='horizontal')\n",
    "cbar_ax.tick_params(labelsize=fontsize)\n",
    "cbar.set_label('$\\Delta$ precip. (mm day$^{\\,-1}$)', fontsize=fontsize)\n",
    "\n",
    "\n",
    "# bottom plots\n",
    "axlpos = ax3.get_position()\n",
    "axrpos = ax5.get_position()\n",
    "\n",
    "cbar_ax = fig.add_axes([axlpos.x0,axlpos.y0-0.03,axrpos.x1-axlpos.x0,0.02])\n",
    "cbar = fig.colorbar(contour1, cax=cbar_ax, orientation='horizontal')\n",
    "cbar_ax.tick_params(labelsize=fontsize)\n",
    "cbar.set_label('$\\Delta$ soil moisture (m$^3$ m$^{\\,-3}$)', fontsize=fontsize)\n",
    "\n",
    "\n",
    "#fig.savefig('../figures/REVISION_cesm_and_wrf_precip_and_smois_above_200cm_maps.png', dpi=600, bbox_inches='tight', transparent=True)"
   ]
  },
  {
   "cell_type": "code",
   "execution_count": null,
   "metadata": {},
   "outputs": [],
   "source": [
    "fontsize=12\n",
    "\n",
    "fig = mp.figure(figsize=(7.5,11.))\n",
    "\n",
    "# gs = matplotlib.gridspec.GridSpec(6, 3,\n",
    "#                        width_ratios=[2,2,2],\n",
    "#                        height_ratios=[2,2,.75,2,2,.75]\n",
    "#                        )\n",
    "\n",
    "map_proj = cartopy.crs.PlateCarree()\n",
    "\n",
    "ax1 = fig.add_subplot(511, projection=map_proj)\n",
    "ax1.set_extent([273,329,-30,15], crs=map_proj)\n",
    "\n",
    "ax2 = fig.add_subplot(512, projection=map_proj)\n",
    "ax2.set_extent([273,329,-30,15], crs=map_proj)\n",
    "\n",
    "ax3 = fig.add_subplot(513, projection=map_proj)\n",
    "ax3.set_extent([273,329,-30,15], crs=map_proj)\n",
    "\n",
    "ax4 = fig.add_subplot(514, projection=map_proj)\n",
    "ax4.set_extent([273,329,-30,15], crs=map_proj)\n",
    "\n",
    "ax5 = fig.add_subplot(515, projection=map_proj)\n",
    "ax5.set_extent([273,329,-30,15], crs=map_proj)\n",
    "\n",
    "levels1 = numpy.arange(-4,4.1,0.5)\n",
    "\n",
    "contour1 = ax1.contourf(xlong[0,:], xlat[:,0], raintot_diffs_time_mean_landmask*24., levels=levels1, cmap=turbid_deep_cmap, extend='both')\n",
    "\n",
    "contour2 = ax2.contourf(xlong[0,:], xlat[:,0], \\\n",
    "                        #raintot_diffs_convolved*24., \\\n",
    "                        raintot_diffs_2km_time_mean_landmask_interpolated.reshape((xlong.shape))*24., \\\n",
    "                        levels=levels1, cmap=turbid_deep_cmap, extend='both')\n",
    "\n",
    "contour3 = ax3.contourf(lon_subset, lat_subset_open, PRECT_diffs_10day*86400.*1000, levels=levels1, cmap=turbid_deep_cmap, extend='both')\n",
    "ax3.contour(lon_subset, lat_subset_open, PRECT_diffs_10day, levels=[0], colors='0.1')\n",
    "\n",
    "contour4 = ax4.contourf(lon_subset, lat_subset_open, PRECT_diffs_30day*86400.*1000, levels=levels1, cmap=turbid_deep_cmap, extend='both')\n",
    "ax4.contour(lon_subset, lat_subset_open, PRECT_diffs_30day, levels=[0], colors='0.1')\n",
    "\n",
    "contour5 = ax5.contourf(lon_subset, lat_subset_open, PRECT_diffs_10year*86400.*1000, levels=levels1, cmap=turbid_deep_cmap, extend='both')\n",
    "ax5.contour(lon_subset, lat_subset_open, PRECT_diffs_10year, levels=[0], colors='0.1')\n",
    "\n",
    "ax1.coastlines()\n",
    "ax2.coastlines()\n",
    "ax3.coastlines()\n",
    "ax4.coastlines()\n",
    "ax5.coastlines()\n",
    "\n",
    "ax1.text(s='(a) WRF 50km 2$-$10d mean', x=0, y=1.02, transform=ax1.transAxes, fontsize=fontsize, ha='left', va='bottom')\n",
    "ax2.text(s='(b) WRF 2km 2$-$10d mean', x=0, y=1.02, transform=ax2.transAxes, fontsize=fontsize, ha='left', va='bottom')\n",
    "ax3.text(s='(c) CESM 2$\\degree$ 2$-$10d mean', x=0, y=1.02, transform=ax3.transAxes, fontsize=fontsize, ha='left', va='bottom')\n",
    "ax4.text(s='(d) CESM 2$\\degree$ 30d mean', x=0, y=1.02, transform=ax4.transAxes, fontsize=fontsize, ha='left', va='bottom')\n",
    "ax5.text(s='(e) CESM 2$\\degree$ 10y mean', x=0, y=1.02, transform=ax5.transAxes, fontsize=fontsize, ha='left', va='bottom')\n",
    "\n",
    "ax1.axhline(0, lw='1', color='0.1', ls='-')\n",
    "ax2.axhline(0, lw='1', color='0.1', ls='-')\n",
    "ax3.axhline(0, lw='1', color='0.1', ls='-')\n",
    "ax4.axhline(0, lw='1', color='0.1', ls='-')\n",
    "ax5.axhline(0, lw='1', color='0.1', ls='-')\n",
    "\n",
    "ax3_top = ax3\n",
    "ax5_top = ax5\n",
    "contour1_top = contour1\n",
    "\n",
    "# top plots\n",
    "axlpos = ax3_top.get_position()\n",
    "axrpos = ax5_top.get_position()\n",
    "\n",
    "cbar_ax = fig.add_axes([axlpos.x0,axlpos.y0-0.03,axrpos.x1-axlpos.x0,0.02])\n",
    "cbar = fig.colorbar(contour1_top, cax=cbar_ax, orientation='horizontal')\n",
    "cbar_ax.tick_params(labelsize=fontsize)\n",
    "cbar.set_label('$\\Delta$ precip. (mm day$^{\\,-1}$)', fontsize=fontsize)\n",
    "\n",
    "fig.savefig('../figures/POSTER_precip_maps.png', dpi=600, bbox_inches='tight', transparent=True)"
   ]
  },
  {
   "cell_type": "code",
   "execution_count": null,
   "metadata": {},
   "outputs": [],
   "source": [
    "map_proj = cartopy.crs.PlateCarree()\n",
    "\n",
    "ax1 = fig.add_subplot(gs[9], projection=map_proj)\n",
    "ax1.set_extent([273,329,-30,15], crs=map_proj)\n",
    "\n",
    "ax2 = fig.add_subplot(gs[10], projection=map_proj)\n",
    "ax2.set_extent([273,329,-30,15], crs=map_proj)\n",
    "\n",
    "ax3 = fig.add_subplot(gs[12], projection=map_proj)\n",
    "ax3.set_extent([273,329,-30,15], crs=map_proj)\n",
    "\n",
    "ax4 = fig.add_subplot(gs[13], projection=map_proj)\n",
    "ax4.set_extent([273,329,-30,15], crs=map_proj)\n",
    "\n",
    "ax5 = fig.add_subplot(gs[14], projection=map_proj)\n",
    "ax5.set_extent([273,329,-30,15], crs=map_proj)\n",
    "\n",
    "levels1 = numpy.arange(-0.005,0.0051,0.0005)\n",
    "\n",
    "contour1 = ax1.contourf(xlong[0,:], xlat[:,0], soilh2o_wtdmean_50km, \\\n",
    "                        levels=levels1, \\\n",
    "                        cmap=cmocean.cm.balance_r, extend='both')\n",
    "\n",
    "contour2 = ax2.contourf(xlong_2km[0,:], xlat_2km[:,0], \\\n",
    "                        soilh2o_diffs_convolved, \\\n",
    "                        levels=levels1, \\\n",
    "                        cmap=cmocean.cm.balance_r, extend='both')\n",
    "\n",
    "contour3 = ax3.contourf(lon_subset, lat_subset_open, SOILLIQ_wtdmean_10day, \\\n",
    "                        levels=levels1, \\\n",
    "                        cmap=cmocean.cm.balance_r, extend='both')\n",
    "ax3.contour(lon_subset, lat_subset_open, SOILLIQ_wtdmean_10day, levels=[0], colors='0.1')\n",
    "\n",
    "contour4 = ax4.contourf(lon_subset, lat_subset_open, SOILLIQ_wtdmean_30day, \\\n",
    "                        levels=levels1, \\\n",
    "                        cmap=cmocean.cm.balance_r, extend='both')\n",
    "ax4.contour(lon_subset, lat_subset_open, SOILLIQ_wtdmean_30day, levels=[0], colors='0.1')\n",
    "\n",
    "contour5 = ax5.contourf(lon_subset, lat_subset_open, SOILLIQ_wtdmean_10year/5., \\\n",
    "                        levels=levels1, \\\n",
    "                        cmap=cmocean.cm.balance_r, extend='both')\n",
    "ax5.contour(lon_subset, lat_subset_open, SOILLIQ_wtdmean_10year, levels=[0], colors='0.1')\n",
    "\n",
    "ax1.coastlines()\n",
    "ax2.coastlines()\n",
    "ax3.coastlines()\n",
    "ax4.coastlines()\n",
    "ax5.coastlines()\n",
    "\n",
    "ax1.text(s='(f) WRF 50km 2$-$10d mean', x=0, y=1.02, transform=ax1.transAxes, fontsize=fontsize, ha='left', va='bottom')\n",
    "ax2.text(s='(g) WRF 2km 2$-$10d mean', x=0, y=1.02, transform=ax2.transAxes, fontsize=fontsize, ha='left', va='bottom')\n",
    "ax3.text(s='(h) CESM 2$\\degree$ 2$-$10d mean', x=0, y=1.02, transform=ax3.transAxes, fontsize=fontsize, ha='left', va='bottom')\n",
    "ax4.text(s='(i) CESM 2$\\degree$ 30d mean', x=0, y=1.02, transform=ax4.transAxes, fontsize=fontsize, ha='left', va='bottom')\n",
    "ax5.text(s='(j) CESM 2$\\degree$ 10y mean ($\\div$ 5)', x=0, y=1.02, transform=ax5.transAxes, fontsize=fontsize, ha='left', va='bottom')\n",
    "\n",
    "ax1.axhline(0, lw='1', color='0.1', ls='-')\n",
    "ax2.axhline(0, lw='1', color='0.1', ls='-')\n",
    "ax3.axhline(0, lw='1', color='0.1', ls='-')\n",
    "ax4.axhline(0, lw='1', color='0.1', ls='-')\n",
    "ax5.axhline(0, lw='1', color='0.1', ls='-')\n",
    "\n",
    "# bottom plots\n",
    "axlpos = ax3.get_position()\n",
    "axrpos = ax5.get_position()\n",
    "\n",
    "cbar_ax = fig.add_axes([axlpos.x0,axlpos.y0-0.03,axrpos.x1-axlpos.x0,0.02])\n",
    "cbar = fig.colorbar(contour1, cax=cbar_ax, orientation='horizontal')\n",
    "cbar_ax.tick_params(labelsize=fontsize)\n",
    "cbar.set_label('$\\Delta$ soil moisture (m$^3$ m$^{\\,-3}$)', fontsize=fontsize)\n",
    "\n",
    "fig.savefig('../figures/POSTER_soil_moisture_maps.png', dpi=600, bbox_inches='tight', transparent=True)"
   ]
  },
  {
   "cell_type": "code",
   "execution_count": null,
   "metadata": {},
   "outputs": [],
   "source": [
    "fontsize=12\n",
    "\n",
    "fig = mp.figure(figsize=(8.5,10))\n",
    "\n",
    "# gs = matplotlib.gridspec.GridSpec(6, 3,\n",
    "#                        width_ratios=[2,2,2],\n",
    "#                        height_ratios=[2,2,.75,2,2,.75]\n",
    "#                        )\n",
    "\n",
    "gs = matplotlib.gridspec.GridSpec(5, 4,\n",
    "                       width_ratios=[1,0.333,1,0.333],\n",
    "                       height_ratios=[1,1,1,1,1]\n",
    "                       )\n",
    "\n",
    "map_proj = cartopy.crs.PlateCarree()\n",
    "\n",
    "ax1 = fig.add_subplot(gs[0], projection=map_proj)\n",
    "ax1.set_extent([273,329,-30,15], crs=map_proj)\n",
    "\n",
    "ax2 = fig.add_subplot(gs[4], projection=map_proj)\n",
    "ax2.set_extent([273,329,-30,15], crs=map_proj)\n",
    "\n",
    "ax3 = fig.add_subplot(gs[8], projection=map_proj)\n",
    "ax3.set_extent([273,329,-30,15], crs=map_proj)\n",
    "\n",
    "ax4 = fig.add_subplot(gs[12], projection=map_proj)\n",
    "ax4.set_extent([273,329,-30,15], crs=map_proj)\n",
    "\n",
    "ax5 = fig.add_subplot(gs[16], projection=map_proj)\n",
    "ax5.set_extent([273,329,-30,15], crs=map_proj)\n",
    "\n",
    "levels1 = numpy.arange(-4,4.1,0.5)\n",
    "\n",
    "contour1 = ax1.contourf(xlong[0,:], xlat[:,0], raintot_diffs_time_mean_landmask*24., levels=levels1, cmap=turbid_deep_cmap, extend='both')\n",
    "\n",
    "contour2 = ax2.contourf(xlong[0,:], xlat[:,0], \\\n",
    "                        #raintot_diffs_convolved*24., \\\n",
    "                        raintot_diffs_2km_time_mean_landmask_interpolated.reshape((xlong.shape))*24./2, \\\n",
    "                        levels=levels1, cmap=turbid_deep_cmap, extend='both')\n",
    "\n",
    "contour3 = ax3.contourf(lon_subset, lat_subset_open, PRECT_diffs_10day*86400.*1000, levels=levels1, cmap=turbid_deep_cmap, extend='both')\n",
    "ax3.contour(lon_subset, lat_subset_open, PRECT_diffs_10day, levels=[0], colors='0.1')\n",
    "\n",
    "contour4 = ax4.contourf(lon_subset, lat_subset_open, PRECT_diffs_30day*86400.*1000, levels=levels1, cmap=turbid_deep_cmap, extend='both')\n",
    "ax4.contour(lon_subset, lat_subset_open, PRECT_diffs_30day, levels=[0], colors='0.1')\n",
    "\n",
    "contour5 = ax5.contourf(lon_subset, lat_subset_open, PRECT_diffs_10year*86400.*1000, levels=levels1, cmap=turbid_deep_cmap, extend='both')\n",
    "ax5.contour(lon_subset, lat_subset_open, PRECT_diffs_10year, levels=[0], colors='0.1')\n",
    "\n",
    "# for c in contour1.collections:\n",
    "#     c.set_rasterized(True)\n",
    "# for c in contour2.collections:\n",
    "#     c.set_rasterized(True)\n",
    "# for c in contour3.collections:\n",
    "#     c.set_rasterized(True)\n",
    "# for c in contour4.collections:\n",
    "#     c.set_rasterized(True)\n",
    "# for c in contour5.collections:\n",
    "#     c.set_rasterized(True)\n",
    "\n",
    "ax1.coastlines()\n",
    "ax2.coastlines()\n",
    "ax3.coastlines()\n",
    "ax4.coastlines()\n",
    "ax5.coastlines()\n",
    "\n",
    "ax1.text(s='(a) WRF 50km 2$-$10d mean', x=0, y=1.02, transform=ax1.transAxes, fontsize=fontsize, ha='left', va='bottom')\n",
    "ax2.text(s='(b) WRF 2km 2$-$10d mean', x=0, y=1.02, transform=ax2.transAxes, fontsize=fontsize, ha='left', va='bottom')\n",
    "ax2.text(s='$\\div$ 2', x=0.96, y=0.95, transform=ax2.transAxes, fontsize=fontsize, ha='right', va='top')\n",
    "ax3.text(s='(c) CESM 2$\\degree$ 2$-$10d mean', x=0, y=1.02, transform=ax3.transAxes, fontsize=fontsize, ha='left', va='bottom')\n",
    "ax4.text(s='(d) CESM 2$\\degree$ 30d mean', x=0, y=1.02, transform=ax4.transAxes, fontsize=fontsize, ha='left', va='bottom')\n",
    "ax5.text(s='(e) CESM 2$\\degree$ 10y mean', x=0, y=1.02, transform=ax5.transAxes, fontsize=fontsize, ha='left', va='bottom')\n",
    "\n",
    "ax1.axhline(0, lw='1', color='0.1', ls='-')\n",
    "ax2.axhline(0, lw='1', color='0.1', ls='-')\n",
    "ax3.axhline(0, lw='1', color='0.1', ls='-')\n",
    "ax4.axhline(0, lw='1', color='0.1', ls='-')\n",
    "ax5.axhline(0, lw='1', color='0.1', ls='-')\n",
    "\n",
    "ax3_top = ax3\n",
    "ax5_top = ax5\n",
    "ax1_top = ax1\n",
    "contour1_top = contour1\n",
    "\n",
    "\n",
    "\n",
    "map_proj = cartopy.crs.PlateCarree()\n",
    "\n",
    "ax1 = fig.add_subplot(gs[2], projection=map_proj)\n",
    "ax1.set_extent([273,329,-30,15], crs=map_proj)\n",
    "\n",
    "ax2 = fig.add_subplot(gs[6], projection=map_proj)\n",
    "ax2.set_extent([273,329,-30,15], crs=map_proj)\n",
    "\n",
    "ax3 = fig.add_subplot(gs[10], projection=map_proj)\n",
    "ax3.set_extent([273,329,-30,15], crs=map_proj)\n",
    "\n",
    "ax4 = fig.add_subplot(gs[14], projection=map_proj)\n",
    "ax4.set_extent([273,329,-30,15], crs=map_proj)\n",
    "\n",
    "ax5 = fig.add_subplot(gs[18], projection=map_proj)\n",
    "ax5.set_extent([273,329,-30,15], crs=map_proj)\n",
    "\n",
    "levels1 = numpy.arange(-0.005,0.0051,0.0005)\n",
    "\n",
    "contour1 = ax1.contourf(xlong[0,:], xlat[:,0], soilh2o_wtdmean_50km, \\\n",
    "                        levels=levels1, \\\n",
    "                        cmap=cmocean.cm.balance_r, extend='both')\n",
    "\n",
    "contour2 = ax2.contourf(xlong_2km[0,:], xlat_2km[:,0], \\\n",
    "                        soilh2o_diffs_convolved, \\\n",
    "                        levels=levels1, \\\n",
    "                        cmap=cmocean.cm.balance_r, extend='both')\n",
    "\n",
    "contour3 = ax3.contourf(lon_subset, lat_subset_open, SOILLIQ_wtdmean_10day, \\\n",
    "                        levels=levels1, \\\n",
    "                        cmap=cmocean.cm.balance_r, extend='both')\n",
    "ax3.contour(lon_subset, lat_subset_open, SOILLIQ_wtdmean_10day, levels=[0], colors='0.1')\n",
    "\n",
    "contour4 = ax4.contourf(lon_subset, lat_subset_open, SOILLIQ_wtdmean_30day, \\\n",
    "                        levels=levels1, \\\n",
    "                        cmap=cmocean.cm.balance_r, extend='both')\n",
    "ax4.contour(lon_subset, lat_subset_open, SOILLIQ_wtdmean_30day, levels=[0], colors='0.1')\n",
    "\n",
    "contour5 = ax5.contourf(lon_subset, lat_subset_open, SOILLIQ_wtdmean_10year/5., \\\n",
    "                        levels=levels1, \\\n",
    "                        cmap=cmocean.cm.balance_r, extend='both')\n",
    "ax5.contour(lon_subset, lat_subset_open, SOILLIQ_wtdmean_10year, levels=[0], colors='0.1')\n",
    "\n",
    "ax1.coastlines()\n",
    "ax2.coastlines()\n",
    "ax3.coastlines()\n",
    "ax4.coastlines()\n",
    "ax5.coastlines()\n",
    "\n",
    "ax1.text(s='(f) WRF 50km 2$-$10d mean', x=0, y=1.02, transform=ax1.transAxes, fontsize=fontsize, ha='left', va='bottom')\n",
    "ax2.text(s='(g) WRF 2km 2$-$10d mean', x=0, y=1.02, transform=ax2.transAxes, fontsize=fontsize, ha='left', va='bottom')\n",
    "ax3.text(s='(h) CESM 2$\\degree$ 2$-$10d mean', x=0, y=1.02, transform=ax3.transAxes, fontsize=fontsize, ha='left', va='bottom')\n",
    "ax4.text(s='(i) CESM 2$\\degree$ 30d mean', x=0, y=1.02, transform=ax4.transAxes, fontsize=fontsize, ha='left', va='bottom')\n",
    "ax5.text(s='(j) CESM 2$\\degree$ 10y mean', x=0, y=1.02, transform=ax5.transAxes, fontsize=fontsize, ha='left', va='bottom')\n",
    "ax5.text(s='$\\div$ 5', x=0.96, y=0.95, transform=ax5.transAxes, fontsize=fontsize, ha='right', va='top')\n",
    "\n",
    "ax1.axhline(0, lw='1', color='0.1', ls='-')\n",
    "ax2.axhline(0, lw='1', color='0.1', ls='-')\n",
    "ax3.axhline(0, lw='1', color='0.1', ls='-')\n",
    "ax4.axhline(0, lw='1', color='0.1', ls='-')\n",
    "ax5.axhline(0, lw='1', color='0.1', ls='-')\n",
    "\n",
    "fig.tight_layout(h_pad=2, w_pad=2)\n",
    "\n",
    "# top plots\n",
    "axtpos = ax1_top.get_position()\n",
    "axbpos = ax5_top.get_position()\n",
    "\n",
    "cbar_ax = fig.add_axes([axbpos.x1+0.05,axbpos.y0,0.03,axtpos.y1-axbpos.y0])\n",
    "cbar = fig.colorbar(contour1_top, cax=cbar_ax, orientation='vertical')\n",
    "cbar_ax.tick_params(labelsize=fontsize)\n",
    "cbar.set_label('$\\Delta$ precip. (mm day$^{\\,-1}$)', fontsize=fontsize)\n",
    "cbar_ax.yaxis.set_label_position('left')\n",
    "\n",
    "# bottom plots\n",
    "axtpos = ax1.get_position()\n",
    "axbpos = ax5.get_position()\n",
    "\n",
    "cbar_ax = fig.add_axes([axbpos.x1+0.05,axbpos.y0,0.03,axtpos.y1-axbpos.y0])\n",
    "cbar = fig.colorbar(contour1, cax=cbar_ax, orientation='vertical')\n",
    "cbar_ax.tick_params(labelsize=fontsize)\n",
    "cbar.set_label('$\\Delta$ soil moisture (m$^3$ m$^{\\,-3}$)', fontsize=fontsize)\n",
    "cbar_ax.yaxis.set_label_position('left')\n",
    "\n",
    "#fig.savefig('../figures/SI_fig04.png', dpi=300, bbox_inches='tight', transparent=True)"
   ]
  },
  {
   "cell_type": "code",
   "execution_count": null,
   "metadata": {},
   "outputs": [],
   "source": []
  }
 ],
 "metadata": {
  "kernelspec": {
   "display_name": "Python 3",
   "language": "python",
   "name": "python3"
  },
  "language_info": {
   "codemirror_mode": {
    "name": "ipython",
    "version": 3
   },
   "file_extension": ".py",
   "mimetype": "text/x-python",
   "name": "python",
   "nbconvert_exporter": "python",
   "pygments_lexer": "ipython3",
   "version": "3.7.0"
  },
  "varInspector": {
   "cols": {
    "lenName": 16,
    "lenType": 16,
    "lenVar": 40
   },
   "kernels_config": {
    "python": {
     "delete_cmd_postfix": "",
     "delete_cmd_prefix": "del ",
     "library": "var_list.py",
     "varRefreshCmd": "print(var_dic_list())"
    },
    "r": {
     "delete_cmd_postfix": ") ",
     "delete_cmd_prefix": "rm(",
     "library": "var_list.r",
     "varRefreshCmd": "cat(var_dic_list()) "
    }
   },
   "types_to_exclude": [
    "module",
    "function",
    "builtin_function_or_method",
    "instance",
    "_Feature"
   ],
   "window_display": false
  }
 },
 "nbformat": 4,
 "nbformat_minor": 2
}
