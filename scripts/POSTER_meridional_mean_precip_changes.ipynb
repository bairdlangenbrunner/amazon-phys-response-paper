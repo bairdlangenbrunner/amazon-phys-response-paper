{
 "cells": [
  {
   "cell_type": "code",
   "execution_count": 1,
   "metadata": {
    "ExecuteTime": {
     "end_time": "2018-08-27T21:36:24.037426Z",
     "start_time": "2018-08-27T21:36:22.117285Z"
    }
   },
   "outputs": [],
   "source": [
    "import numpy\n",
    "import xarray\n",
    "import matplotlib\n",
    "import matplotlib.pyplot as mp\n",
    "import datetime\n",
    "import matplotlib.colors\n",
    "import scipy.stats\n",
    "import itertools\n",
    "import string\n",
    "import matplotlib.patches\n",
    "import netCDF4\n",
    "import cftime\n",
    "import seaborn\n",
    "import cmocean\n",
    "import matplotlib.gridspec\n",
    "import scipy.interpolate\n",
    "\n",
    "import glob\n",
    "import pandas\n",
    "\n",
    "import mpl_toolkits\n",
    "import cartopy\n",
    "\n",
    "DEGREE_SIGN = u'\\u00B0'\n",
    "mp.rcParams.update({'mathtext.default': 'regular'})"
   ]
  },
  {
   "cell_type": "markdown",
   "metadata": {},
   "source": [
    "# 30day runs"
   ]
  },
  {
   "cell_type": "markdown",
   "metadata": {},
   "source": [
    "import cam 400 data"
   ]
  },
  {
   "cell_type": "code",
   "execution_count": 2,
   "metadata": {
    "ExecuteTime": {
     "end_time": "2018-08-27T21:36:57.254456Z",
     "start_time": "2018-08-27T21:36:24.040306Z"
    }
   },
   "outputs": [],
   "source": [
    "cont_fileroot = '/beegfs/DATA/pritchard/blangenb/CESM_ARCHIVE/B_1850_CAM5.30days.cam0400.clm0400.ens_10members/ens_mean_cesm_files/'\n",
    "cont_filename = 'B_1850_CAM5.30days.cam0400.clm0400.ens.cam.h0.0011-03-20-0000_0011-04-20-0000_ens_mean.nc'\n",
    "cont_cam_ds = xarray.open_dataset(cont_fileroot+cont_filename, decode_times=False)"
   ]
  },
  {
   "cell_type": "code",
   "execution_count": 3,
   "metadata": {
    "ExecuteTime": {
     "end_time": "2018-08-27T21:36:57.298032Z",
     "start_time": "2018-08-27T21:36:57.256869Z"
    }
   },
   "outputs": [],
   "source": [
    "topo_filename = 'USGS-gtopo30_1.9x2.5_remap_c050602.nc'\n",
    "topo_fileroot = '/beegfs/DATA/pritchard/blangenb/CESM_ARCHIVE/B_1850_CAM5.30days.cam0400.clm0400.ens_10members/'\n",
    "topo_ds = xarray.open_dataset(topo_fileroot+topo_filename, decode_times=False)"
   ]
  },
  {
   "cell_type": "markdown",
   "metadata": {},
   "source": [
    "calculate latitude information"
   ]
  },
  {
   "cell_type": "code",
   "execution_count": 4,
   "metadata": {
    "ExecuteTime": {
     "end_time": "2018-08-27T21:36:57.407733Z",
     "start_time": "2018-08-27T21:36:57.300375Z"
    }
   },
   "outputs": [],
   "source": [
    "lat_lo_open = -35.\n",
    "lat_hi_open = 35.\n",
    "lat_lo = -10.\n",
    "lat_hi = 10.\n",
    "lon_lo = 270.\n",
    "lon_hi = 330."
   ]
  },
  {
   "cell_type": "code",
   "execution_count": null,
   "metadata": {
    "ExecuteTime": {
     "end_time": "2018-08-27T21:36:57.501778Z",
     "start_time": "2018-08-27T21:36:57.410328Z"
    }
   },
   "outputs": [],
   "source": [
    "lat = cont_cam_ds['lat'].sel(lat=slice(lat_lo_open,lat_hi_open)).values\n",
    "lon = cont_cam_ds['lon'].sel(lon=slice(lon_lo,lon_hi)).values\n",
    "\n",
    "lat_indices = (lat>=lat_lo)&(lat<=lat_hi)\n",
    "lat_indices_open = (lat>=lat_lo_open)&(lat<=lat_hi_open)\n",
    "lon_indices = (lon>=lon_lo)&(lon<=lon_hi)\n",
    "\n",
    "lat_subset = lat[lat_indices]\n",
    "lon_subset = lon[lon_indices]\n",
    "\n",
    "lat_subset_open = lat[lat_indices_open]"
   ]
  },
  {
   "cell_type": "code",
   "execution_count": null,
   "metadata": {
    "ExecuteTime": {
     "end_time": "2018-08-27T21:36:57.590591Z",
     "start_time": "2018-08-27T21:36:57.504365Z"
    }
   },
   "outputs": [],
   "source": [
    "lat_subset_open = lat[lat_indices_open]"
   ]
  },
  {
   "cell_type": "markdown",
   "metadata": {},
   "source": [
    "get land fraction info"
   ]
  },
  {
   "cell_type": "code",
   "execution_count": null,
   "metadata": {
    "ExecuteTime": {
     "end_time": "2018-08-27T21:37:34.482040Z",
     "start_time": "2018-08-27T21:36:57.593125Z"
    }
   },
   "outputs": [],
   "source": [
    "LANDFRAC = cont_cam_ds['LANDFRAC'].sel(lat=slice(lat_lo_open,lat_hi_open),lon=slice(lon_lo,lon_hi)).values[0,:,:]"
   ]
  },
  {
   "cell_type": "markdown",
   "metadata": {},
   "source": [
    "get 400 fields for cam"
   ]
  },
  {
   "cell_type": "code",
   "execution_count": null,
   "metadata": {
    "ExecuteTime": {
     "end_time": "2018-08-27T21:38:13.848374Z",
     "start_time": "2018-08-27T21:37:34.484580Z"
    }
   },
   "outputs": [],
   "source": [
    "PRECC_400_30d = cont_cam_ds['PRECC'].sel(lat=slice(lat_lo_open,lat_hi_open),lon=slice(lon_lo,lon_hi)).values\n",
    "PRECL_400_30d = cont_cam_ds['PRECL'].sel(lat=slice(lat_lo_open,lat_hi_open),lon=slice(lon_lo,lon_hi)).values"
   ]
  },
  {
   "cell_type": "markdown",
   "metadata": {},
   "source": [
    "import cam 1000 data"
   ]
  },
  {
   "cell_type": "code",
   "execution_count": null,
   "metadata": {
    "ExecuteTime": {
     "end_time": "2018-08-27T21:38:47.035247Z",
     "start_time": "2018-08-27T21:38:13.850447Z"
    }
   },
   "outputs": [],
   "source": [
    "phys_fileroot = '/beegfs/DATA/pritchard/blangenb/CESM_ARCHIVE/B_1850_CAM5.30days.cam0400.clm1000.ens_10members/ens_mean_cesm_files/'\n",
    "phys_filename = 'B_1850_CAM5.30days.cam0400.clm1000.ens.cam.h0.0011-03-20-0000_0011-04-20-0000_ens_mean.nc'\n",
    "phys_cam_ds = xarray.open_dataset(phys_fileroot+phys_filename, decode_times=False)"
   ]
  },
  {
   "cell_type": "markdown",
   "metadata": {},
   "source": [
    "get 1000 fields for cam"
   ]
  },
  {
   "cell_type": "code",
   "execution_count": null,
   "metadata": {
    "ExecuteTime": {
     "end_time": "2018-08-27T21:39:28.849873Z",
     "start_time": "2018-08-27T21:38:47.037536Z"
    }
   },
   "outputs": [],
   "source": [
    "PRECC_1000_30d = phys_cam_ds['PRECC'].sel(lat=slice(lat_lo_open,lat_hi_open),lon=slice(lon_lo,lon_hi)).values\n",
    "PRECL_1000_30d = phys_cam_ds['PRECL'].sel(lat=slice(lat_lo_open,lat_hi_open),lon=slice(lon_lo,lon_hi)).values"
   ]
  },
  {
   "cell_type": "markdown",
   "metadata": {},
   "source": [
    "convert time information"
   ]
  },
  {
   "cell_type": "code",
   "execution_count": null,
   "metadata": {
    "ExecuteTime": {
     "end_time": "2018-08-27T21:39:28.862823Z",
     "start_time": "2018-08-27T21:39:28.852082Z"
    }
   },
   "outputs": [],
   "source": [
    "time_400 = cont_cam_ds['time']\n",
    "time_converted = netCDF4.num2date(time_400.values, time_400.units, time_400.calendar)\n",
    "\n",
    "time_manual = []\n",
    "for t_idx in range(time_converted.size):\n",
    "    year=time_converted[t_idx].year\n",
    "    month=time_converted[t_idx].month\n",
    "    day=time_converted[t_idx].day\n",
    "    hour=time_converted[t_idx].hour\n",
    "    minute=time_converted[t_idx].minute\n",
    "    hour_round = round(hour+minute/60)\n",
    "    time_manual.append(cftime.DatetimeNoLeap(year,month,day,hour_round))"
   ]
  },
  {
   "cell_type": "markdown",
   "metadata": {},
   "source": [
    "specify timing"
   ]
  },
  {
   "cell_type": "code",
   "execution_count": null,
   "metadata": {
    "ExecuteTime": {
     "end_time": "2018-08-27T21:39:29.021353Z",
     "start_time": "2018-08-27T21:39:28.865177Z"
    }
   },
   "outputs": [],
   "source": [
    "skip_time = 24\n",
    "#end_time = 745"
   ]
  },
  {
   "cell_type": "markdown",
   "metadata": {},
   "source": [
    "calculate PRECT diffs"
   ]
  },
  {
   "cell_type": "code",
   "execution_count": null,
   "metadata": {
    "ExecuteTime": {
     "end_time": "2018-08-27T21:39:29.155757Z",
     "start_time": "2018-08-27T21:39:29.023283Z"
    }
   },
   "outputs": [],
   "source": [
    "PRECT_400_30d = PRECC_400_30d+PRECL_400_30d\n",
    "PRECT_1000_30d = PRECC_1000_30d+PRECL_1000_30d"
   ]
  },
  {
   "cell_type": "code",
   "execution_count": null,
   "metadata": {
    "ExecuteTime": {
     "end_time": "2018-08-27T21:39:29.235699Z",
     "start_time": "2018-08-27T21:39:29.157806Z"
    }
   },
   "outputs": [],
   "source": [
    "PRECT_1000_timemean_10day = numpy.mean(PRECT_1000_30d[skip_time:240,:,:], axis=0)\n",
    "PRECT_1000_timemean_10day_landmask = numpy.copy(PRECT_1000_timemean_10day)\n",
    "PRECT_1000_timemean_10day_landmask[LANDFRAC==0] = numpy.nan\n",
    "\n",
    "PRECT_400_timemean_10day = numpy.nanmean(PRECT_400_30d[skip_time:240,:,:], axis=0)\n",
    "PRECT_400_timemean_10day_landmask = numpy.copy(PRECT_400_timemean_10day)\n",
    "PRECT_400_timemean_10day_landmask[LANDFRAC==0] = numpy.nan"
   ]
  },
  {
   "cell_type": "code",
   "execution_count": null,
   "metadata": {
    "ExecuteTime": {
     "end_time": "2018-08-27T21:39:29.340663Z",
     "start_time": "2018-08-27T21:39:29.237900Z"
    }
   },
   "outputs": [],
   "source": [
    "PRECT_1000_timemean_30day = numpy.mean(PRECT_1000_30d[skip_time:,:,:], axis=0)\n",
    "PRECT_1000_timemean_30day_landmask = numpy.copy(PRECT_1000_timemean_30day)\n",
    "PRECT_1000_timemean_30day_landmask[LANDFRAC==0] = numpy.nan\n",
    "\n",
    "PRECT_400_timemean_30day = numpy.nanmean(PRECT_400_30d[skip_time:,:,:], axis=0)\n",
    "PRECT_400_timemean_30day_landmask = numpy.copy(PRECT_400_timemean_30day)\n",
    "PRECT_400_timemean_30day_landmask[LANDFRAC==0] = numpy.nan"
   ]
  },
  {
   "cell_type": "markdown",
   "metadata": {},
   "source": [
    "get topography info"
   ]
  },
  {
   "cell_type": "code",
   "execution_count": null,
   "metadata": {
    "ExecuteTime": {
     "end_time": "2018-08-28T03:02:45.443122Z",
     "start_time": "2018-08-28T03:02:45.437659Z"
    }
   },
   "outputs": [],
   "source": [
    "topo_data = topo_ds['PHIS'].sel(lat=slice(lat_lo_open,lat_hi_open),lon=slice(lon_lo,lon_hi)).values/9.80665"
   ]
  },
  {
   "cell_type": "code",
   "execution_count": null,
   "metadata": {
    "ExecuteTime": {
     "end_time": "2018-08-28T03:03:20.730492Z",
     "start_time": "2018-08-28T03:03:20.714317Z"
    }
   },
   "outputs": [],
   "source": [
    "lat"
   ]
  },
  {
   "cell_type": "code",
   "execution_count": null,
   "metadata": {
    "ExecuteTime": {
     "end_time": "2018-08-28T03:04:12.877581Z",
     "start_time": "2018-08-28T03:04:12.873373Z"
    }
   },
   "outputs": [],
   "source": [
    "topo_data_landmask = numpy.copy(topo_data)\n",
    "topo_data_landmask[LANDFRAC==0] = numpy.nan\n",
    "topo_data_landmask_lat_subset = topo_data_landmask[(lat>=lat_lo)&(lat<=lat_hi),:]\n",
    "topo_data_latmean = numpy.nanmean(topo_data_landmask_lat_subset, axis=0)"
   ]
  },
  {
   "cell_type": "markdown",
   "metadata": {},
   "source": [
    "# 10year simulations"
   ]
  },
  {
   "cell_type": "markdown",
   "metadata": {},
   "source": [
    "400 clm runs"
   ]
  },
  {
   "cell_type": "code",
   "execution_count": null,
   "metadata": {
    "ExecuteTime": {
     "end_time": "2018-08-27T21:42:25.983133Z",
     "start_time": "2018-08-27T21:39:29.543762Z"
    }
   },
   "outputs": [],
   "source": [
    "data_dir = '/beegfs/DATA/pritchard/blangenb/CESM_ARCHIVE/B_1850_CAM5.10years.cam0400.clm0400/'\n",
    "cont_cam_mfds = xarray.open_mfdataset(data_dir + 'atm/hist/*.nc', decode_times=False)"
   ]
  },
  {
   "cell_type": "code",
   "execution_count": null,
   "metadata": {
    "ExecuteTime": {
     "end_time": "2018-08-27T21:45:52.091641Z",
     "start_time": "2018-08-27T21:42:25.985590Z"
    }
   },
   "outputs": [],
   "source": [
    "PRECC_400_10y = cont_cam_mfds['PRECC'].sel(lat=slice(lat_lo_open,lat_hi_open),lon=slice(lon_lo,lon_hi)).values\n",
    "PRECL_400_10y = cont_cam_mfds['PRECL'].sel(lat=slice(lat_lo_open,lat_hi_open),lon=slice(lon_lo,lon_hi)).values\n",
    "PRECT_400_10y = PRECC_400_10y+PRECL_400_10y"
   ]
  },
  {
   "cell_type": "markdown",
   "metadata": {},
   "source": [
    "1000 clm runs"
   ]
  },
  {
   "cell_type": "code",
   "execution_count": null,
   "metadata": {
    "ExecuteTime": {
     "end_time": "2018-08-27T21:48:57.142279Z",
     "start_time": "2018-08-27T21:45:52.215184Z"
    }
   },
   "outputs": [],
   "source": [
    "data_dir = '/beegfs/DATA/pritchard/blangenb/CESM_ARCHIVE/B_1850_CAM5.10years.cam0400.clm1000/'\n",
    "phys_cam_mfds = xarray.open_mfdataset(data_dir + 'atm/hist/*.nc')#, decode_times=False)"
   ]
  },
  {
   "cell_type": "code",
   "execution_count": null,
   "metadata": {
    "ExecuteTime": {
     "end_time": "2018-08-27T21:53:26.924128Z",
     "start_time": "2018-08-27T21:48:57.258505Z"
    }
   },
   "outputs": [],
   "source": [
    "PRECC_1000_10y = phys_cam_mfds['PRECC'].sel(lat=slice(lat_lo_open,lat_hi_open),lon=slice(lon_lo,lon_hi)).values\n",
    "PRECL_1000_10y = phys_cam_mfds['PRECL'].sel(lat=slice(lat_lo_open,lat_hi_open),lon=slice(lon_lo,lon_hi)).values\n",
    "PRECT_1000_10y = PRECC_1000_10y+PRECL_1000_10y"
   ]
  },
  {
   "cell_type": "markdown",
   "metadata": {},
   "source": [
    "take time averages"
   ]
  },
  {
   "cell_type": "code",
   "execution_count": null,
   "metadata": {
    "ExecuteTime": {
     "end_time": "2018-08-27T21:53:28.935514Z",
     "start_time": "2018-08-27T21:53:27.848435Z"
    }
   },
   "outputs": [],
   "source": [
    "PRECT_400_timemean_10year = numpy.mean(PRECT_400_10y, axis=0)\n",
    "PRECT_1000_timemean_10year = numpy.mean(PRECT_1000_10y, axis=0)"
   ]
  },
  {
   "cell_type": "code",
   "execution_count": null,
   "metadata": {
    "ExecuteTime": {
     "end_time": "2018-08-27T21:53:29.204092Z",
     "start_time": "2018-08-27T21:53:29.047133Z"
    }
   },
   "outputs": [],
   "source": [
    "PRECT_400_timemean_10year_landmask = numpy.copy(PRECT_400_timemean_10year)\n",
    "PRECT_1000_timemean_10year_landmask = numpy.copy(PRECT_1000_timemean_10year)\n",
    "\n",
    "PRECT_400_timemean_10year_landmask[LANDFRAC==0] = numpy.nan\n",
    "PRECT_1000_timemean_10year_landmask[LANDFRAC==0] = numpy.nan"
   ]
  },
  {
   "cell_type": "markdown",
   "metadata": {},
   "source": [
    "# calculate all differences"
   ]
  },
  {
   "cell_type": "code",
   "execution_count": null,
   "metadata": {
    "ExecuteTime": {
     "end_time": "2018-08-27T21:53:29.613447Z",
     "start_time": "2018-08-27T21:53:29.228311Z"
    }
   },
   "outputs": [],
   "source": [
    "PRECT_diffs_10day = PRECT_1000_timemean_10day_landmask-PRECT_400_timemean_10day_landmask\n",
    "PRECT_diffs_30day = PRECT_1000_timemean_30day_landmask-PRECT_400_timemean_30day_landmask\n",
    "PRECT_diffs_10year = PRECT_1000_timemean_10year_landmask-PRECT_400_timemean_10year_landmask"
   ]
  },
  {
   "cell_type": "markdown",
   "metadata": {},
   "source": [
    "# wrf 50km runs"
   ]
  },
  {
   "cell_type": "markdown",
   "metadata": {},
   "source": [
    "## 400 data"
   ]
  },
  {
   "cell_type": "code",
   "execution_count": null,
   "metadata": {
    "ExecuteTime": {
     "end_time": "2018-08-27T21:53:34.127522Z",
     "start_time": "2018-08-27T21:53:29.643724Z"
    }
   },
   "outputs": [],
   "source": [
    "root_dir = '/beegfs/DATA/pritchard/blangenb/WRF_ARCHIVE/CHEYENNE/FMAASO/400/ens_mean_wrfout_files'\n",
    "file_list = glob.glob(root_dir+'/'+'wrfout*.nc')\n",
    "ds_list = [netCDF4.Dataset(file) for file in file_list]"
   ]
  },
  {
   "cell_type": "code",
   "execution_count": null,
   "metadata": {
    "ExecuteTime": {
     "end_time": "2018-08-27T21:55:49.828068Z",
     "start_time": "2018-08-27T21:53:34.220651Z"
    }
   },
   "outputs": [],
   "source": [
    "cont_mfds = xarray.open_mfdataset(root_dir + '/' + 'wrfout*.nc')"
   ]
  },
  {
   "cell_type": "code",
   "execution_count": null,
   "metadata": {
    "ExecuteTime": {
     "end_time": "2018-08-27T21:55:51.119459Z",
     "start_time": "2018-08-27T21:55:49.830535Z"
    }
   },
   "outputs": [],
   "source": [
    "rainc_400 = cont_mfds['RAINC'].values\n",
    "rainnc_400 = cont_mfds['RAINNC'].values"
   ]
  },
  {
   "cell_type": "code",
   "execution_count": null,
   "metadata": {
    "ExecuteTime": {
     "end_time": "2018-08-27T21:55:52.684620Z",
     "start_time": "2018-08-27T21:55:51.121980Z"
    }
   },
   "outputs": [],
   "source": [
    "xlat = cont_mfds['XLAT'].values[0,:,:]\n",
    "xlong = cont_mfds['XLONG'].values[0,:,:]\n",
    "landmask = cont_mfds['LANDMASK'].values[0,:,:]\n",
    "landmask_midpoints = landmask[1:,1:]"
   ]
  },
  {
   "cell_type": "code",
   "execution_count": null,
   "metadata": {
    "ExecuteTime": {
     "end_time": "2018-08-27T21:55:52.727129Z",
     "start_time": "2018-08-27T21:55:52.686402Z"
    }
   },
   "outputs": [],
   "source": [
    "xlat_indices = (xlat>=-10)&(xlat<=10.)"
   ]
  },
  {
   "cell_type": "code",
   "execution_count": null,
   "metadata": {
    "ExecuteTime": {
     "end_time": "2018-08-27T21:55:53.263110Z",
     "start_time": "2018-08-27T21:55:52.729430Z"
    }
   },
   "outputs": [],
   "source": [
    "hgt_50km = cont_mfds['HGT'].sel(Time=0).values"
   ]
  },
  {
   "cell_type": "code",
   "execution_count": null,
   "metadata": {
    "ExecuteTime": {
     "end_time": "2018-08-27T21:55:53.357194Z",
     "start_time": "2018-08-27T21:55:53.265170Z"
    }
   },
   "outputs": [],
   "source": [
    "hgt_50km_landmask = numpy.copy(hgt_50km)\n",
    "hgt_50km_landmask[landmask==0] = numpy.nan\n",
    "\n",
    "hgt_50km_landmask_lat_subset = hgt_50km_landmask[xlat_indices[:,0],:]\n",
    "hgt_50km_latmean = numpy.nanmean(hgt_50km_landmask_lat_subset, axis=0)"
   ]
  },
  {
   "cell_type": "markdown",
   "metadata": {},
   "source": [
    "## 1000 data"
   ]
  },
  {
   "cell_type": "code",
   "execution_count": null,
   "metadata": {
    "ExecuteTime": {
     "end_time": "2018-08-27T21:55:53.558318Z",
     "start_time": "2018-08-27T21:55:53.380154Z"
    }
   },
   "outputs": [],
   "source": [
    "root_dir = '/beegfs/DATA/pritchard/blangenb/WRF_ARCHIVE/CHEYENNE/FMAASO/1000/ens_mean_wrfout_files'\n",
    "file_list = glob.glob(root_dir+'/'+'wrfout*.nc')\n",
    "ds_list = [netCDF4.Dataset(file) for file in file_list]"
   ]
  },
  {
   "cell_type": "code",
   "execution_count": null,
   "metadata": {
    "ExecuteTime": {
     "end_time": "2018-08-27T21:55:56.226042Z",
     "start_time": "2018-08-27T21:55:53.560533Z"
    }
   },
   "outputs": [],
   "source": [
    "phys_mfds = xarray.open_mfdataset(root_dir + '/' + 'wrfout*.nc')"
   ]
  },
  {
   "cell_type": "code",
   "execution_count": null,
   "metadata": {
    "ExecuteTime": {
     "end_time": "2018-08-27T21:55:57.269364Z",
     "start_time": "2018-08-27T21:55:56.228150Z"
    }
   },
   "outputs": [],
   "source": [
    "rainc_1000 = phys_mfds['RAINC'].values\n",
    "rainnc_1000 = phys_mfds['RAINNC'].values"
   ]
  },
  {
   "cell_type": "markdown",
   "metadata": {},
   "source": [
    "## calculate WRF differences"
   ]
  },
  {
   "cell_type": "code",
   "execution_count": null,
   "metadata": {
    "ExecuteTime": {
     "end_time": "2018-08-27T21:55:57.880251Z",
     "start_time": "2018-08-27T21:55:57.282286Z"
    }
   },
   "outputs": [],
   "source": [
    "raintot_400 = rainc_400+rainnc_400\n",
    "raintot_1000 = rainc_1000+rainnc_1000\n",
    "\n",
    "raintot_400_diff = numpy.zeros((raintot_400.shape))*numpy.nan\n",
    "raintot_400_diff[:-1,:,:] = numpy.diff(raintot_400, axis=0)#*(24./3) # convert to mm/day\n",
    "\n",
    "raintot_1000_diff = numpy.zeros((raintot_1000.shape))*numpy.nan\n",
    "raintot_1000_diff[:-1,:,:] = numpy.diff(raintot_1000, axis=0)#*(24./3) # convert to mm/day\n",
    "\n",
    "# monthly mean\n",
    "raintot_diffs_time_mean = numpy.nanmean(raintot_1000_diff[skip_time:,:,:] - raintot_400_diff[skip_time:,:,:], axis=0)\n",
    "raintot_diffs_time_mean_landmask = numpy.copy(raintot_diffs_time_mean)\n",
    "raintot_diffs_time_mean_landmask[landmask==0] = numpy.nan\n",
    "\n",
    "raintot_400_time_mean = numpy.nanmean(raintot_400_diff[skip_time:,:,:], axis=0)\n",
    "raintot_400_time_mean_landmask = numpy.copy(raintot_400_time_mean)\n",
    "raintot_400_time_mean_landmask[landmask==0] = numpy.nan\n"
   ]
  },
  {
   "cell_type": "code",
   "execution_count": null,
   "metadata": {
    "ExecuteTime": {
     "end_time": "2018-08-27T21:55:57.913900Z",
     "start_time": "2018-08-27T21:55:57.891885Z"
    }
   },
   "outputs": [],
   "source": [
    "day1_start_hour = 10 #6am = 10:00 because of the time offset\n",
    "day1_end_hour = 24 #8pm = 24:00 because of time offset\n",
    "raintot_diffs_time_mean_day1 = numpy.nanmean(raintot_1000_diff[day1_start_hour:day1_end_hour+1,:,:] - raintot_400_diff[day1_start_hour:day1_end_hour+1,:,:], axis=0)\n",
    "raintot_diffs_time_mean_day1_landmask = numpy.copy(raintot_diffs_time_mean_day1)\n",
    "raintot_diffs_time_mean_day1_landmask[landmask==0] = numpy.nan"
   ]
  },
  {
   "cell_type": "markdown",
   "metadata": {},
   "source": [
    "# import WRF 2km days 2-10"
   ]
  },
  {
   "cell_type": "code",
   "execution_count": null,
   "metadata": {
    "ExecuteTime": {
     "end_time": "2018-08-27T21:56:08.709962Z",
     "start_time": "2018-08-27T21:55:57.916172Z"
    }
   },
   "outputs": [],
   "source": [
    "data_dir = '/beegfs/DATA/pritchard/blangenb/WRF_ARCHIVE/CHEYENNE/nested_FMAASO_10days/400/001/'\n",
    "cont_mfds_2km = xarray.open_mfdataset(data_dir + 'wrfout_d03_1979-01-0[2,3,4,5,6,7,8,9]*')"
   ]
  },
  {
   "cell_type": "code",
   "execution_count": null,
   "metadata": {
    "ExecuteTime": {
     "end_time": "2018-08-27T21:56:18.786839Z",
     "start_time": "2018-08-27T21:56:08.730999Z"
    }
   },
   "outputs": [],
   "source": [
    "data_dir = '/beegfs/DATA/pritchard/blangenb/WRF_ARCHIVE/CHEYENNE/nested_FMAASO_10days/1000/001/'\n",
    "phys_mfds_2km = xarray.open_mfdataset(data_dir + 'wrfout_d03_1979-01-0[2,3,4,5,6,7,8,9]*')"
   ]
  },
  {
   "cell_type": "code",
   "execution_count": null,
   "metadata": {
    "ExecuteTime": {
     "end_time": "2018-08-27T21:56:18.792718Z",
     "start_time": "2018-08-27T21:56:18.788920Z"
    }
   },
   "outputs": [],
   "source": [
    "raintot_400_2km = cont_mfds_2km['RAINNC']\n",
    "raintot_1000_2km = phys_mfds_2km['RAINNC']"
   ]
  },
  {
   "cell_type": "code",
   "execution_count": null,
   "metadata": {
    "ExecuteTime": {
     "end_time": "2018-08-27T21:59:03.848327Z",
     "start_time": "2018-08-27T21:56:18.794366Z"
    }
   },
   "outputs": [],
   "source": [
    "raintot_400_2km_diffs = raintot_400_2km.diff(dim='Time').values\n",
    "raintot_1000_2km_diffs = raintot_1000_2km.diff(dim='Time').values"
   ]
  },
  {
   "cell_type": "code",
   "execution_count": null,
   "metadata": {
    "ExecuteTime": {
     "end_time": "2018-08-27T21:59:12.015854Z",
     "start_time": "2018-08-27T21:59:03.898752Z"
    }
   },
   "outputs": [],
   "source": [
    "raintot_400_2km_time_mean = numpy.nanmean(raintot_400_2km_diffs[skip_time:,:,:], axis=0)\n",
    "raintot_1000_2km_time_mean = numpy.nanmean(raintot_1000_2km_diffs[skip_time:,:,:], axis=0)\n",
    "\n",
    "raintot_diffs_2km_time_mean = raintot_1000_2km_time_mean-raintot_400_2km_time_mean"
   ]
  },
  {
   "cell_type": "code",
   "execution_count": null,
   "metadata": {
    "ExecuteTime": {
     "end_time": "2018-08-27T22:00:29.388763Z",
     "start_time": "2018-08-27T21:59:12.036085Z"
    }
   },
   "outputs": [],
   "source": [
    "landmask_2km = cont_mfds_2km['LANDMASK'].values[0,:,:]"
   ]
  },
  {
   "cell_type": "code",
   "execution_count": null,
   "metadata": {
    "ExecuteTime": {
     "end_time": "2018-08-27T22:00:29.529308Z",
     "start_time": "2018-08-27T22:00:29.474800Z"
    }
   },
   "outputs": [],
   "source": [
    "raintot_diffs_2km_time_mean_landmask = numpy.copy(raintot_diffs_2km_time_mean)\n",
    "raintot_diffs_2km_time_mean_landmask[landmask_2km==0] = numpy.nan"
   ]
  },
  {
   "cell_type": "code",
   "execution_count": null,
   "metadata": {
    "ExecuteTime": {
     "end_time": "2018-08-27T22:00:29.808641Z",
     "start_time": "2018-08-27T22:00:29.531648Z"
    }
   },
   "outputs": [],
   "source": [
    "landmask_2km.shape"
   ]
  },
  {
   "cell_type": "code",
   "execution_count": null,
   "metadata": {
    "ExecuteTime": {
     "end_time": "2018-08-28T02:37:04.661846Z",
     "start_time": "2018-08-28T02:37:03.796872Z"
    }
   },
   "outputs": [],
   "source": [
    "xlat_2km = cont_mfds_2km['XLAT'].isel(Time=0).values[:,:]\n",
    "xlong_2km = cont_mfds_2km['XLONG'].isel(Time=0).values[:,:]"
   ]
  },
  {
   "cell_type": "code",
   "execution_count": null,
   "metadata": {
    "ExecuteTime": {
     "end_time": "2018-08-28T02:37:06.354237Z",
     "start_time": "2018-08-28T02:37:05.759400Z"
    }
   },
   "outputs": [],
   "source": [
    "hgt_2km = cont_mfds_2km['HGT'].sel(Time=0).values"
   ]
  },
  {
   "cell_type": "code",
   "execution_count": null,
   "metadata": {
    "ExecuteTime": {
     "end_time": "2018-08-28T02:37:07.155603Z",
     "start_time": "2018-08-28T02:37:07.092097Z"
    }
   },
   "outputs": [],
   "source": [
    "hgt_2km_landmask = numpy.copy(hgt_2km)\n",
    "hgt_2km_landmask[landmask_2km==0] = numpy.nan\n",
    "hgt_2km_latmean = numpy.nanmean(hgt_2km_landmask, axis=0)"
   ]
  },
  {
   "cell_type": "markdown",
   "metadata": {},
   "source": [
    "# import WRF 2km day 1"
   ]
  },
  {
   "cell_type": "raw",
   "metadata": {
    "ExecuteTime": {
     "end_time": "2018-06-12T17:13:30.990430Z",
     "start_time": "2018-06-12T17:13:23.169426Z"
    }
   },
   "source": [
    "data_dir = '/beegfs/DATA/pritchard/blangenb/WRF_ARCHIVE/CHEYENNE/nested_FMAASO_10days/400/001/'\n",
    "cont_mfds_2km_day1 = xarray.open_mfdataset(data_dir + 'wrfout_d03_1979-01-01*')"
   ]
  },
  {
   "cell_type": "raw",
   "metadata": {
    "ExecuteTime": {
     "end_time": "2018-06-12T17:14:01.431700Z",
     "start_time": "2018-06-12T17:13:53.705612Z"
    }
   },
   "source": [
    "data_dir = '/beegfs/DATA/pritchard/blangenb/WRF_ARCHIVE/CHEYENNE/nested_FMAASO_10days/1000/001/'\n",
    "phys_mfds_2km_day1 = xarray.open_mfdataset(data_dir + 'wrfout_d03_1979-01-01*')"
   ]
  },
  {
   "cell_type": "raw",
   "metadata": {
    "ExecuteTime": {
     "end_time": "2018-06-12T17:14:26.476781Z",
     "start_time": "2018-06-12T17:14:26.434436Z"
    }
   },
   "source": [
    "raintot_400_2km_day1 = cont_mfds_2km_day1['RAINNC']\n",
    "raintot_1000_2km_day1 = phys_mfds_2km_day1['RAINNC']"
   ]
  },
  {
   "cell_type": "raw",
   "metadata": {
    "ExecuteTime": {
     "end_time": "2018-06-12T17:14:52.558781Z",
     "start_time": "2018-06-12T17:14:52.439418Z"
    }
   },
   "source": [
    "raintot_400_2km_day1_diffs = raintot_400_2km_day1.diff(dim='Time')#.values\n",
    "raintot_1000_2km_day1_diffs = raintot_400_2km_day1.diff(dim='Time')#.values"
   ]
  },
  {
   "cell_type": "raw",
   "metadata": {
    "ExecuteTime": {
     "end_time": "2018-06-12T17:20:51.926434Z",
     "start_time": "2018-06-12T17:20:51.868990Z"
    }
   },
   "source": [
    "raintot_400_2km_day1_diffs_time_mean = raintot_400_2km_day1_diffs.mean(dim='Time')\n",
    "raintot_1000_2km_day1_diffs_time_mean = raintot_400_2km_day1_diffs.mean(dim='Time')"
   ]
  },
  {
   "cell_type": "markdown",
   "metadata": {},
   "source": [
    "# create plots"
   ]
  },
  {
   "cell_type": "markdown",
   "metadata": {},
   "source": [
    "# calculate lat means"
   ]
  },
  {
   "cell_type": "code",
   "execution_count": null,
   "metadata": {
    "ExecuteTime": {
     "end_time": "2018-08-28T02:37:11.200747Z",
     "start_time": "2018-08-28T02:37:11.186030Z"
    }
   },
   "outputs": [],
   "source": [
    "raintot_diffs_2km_latmean = numpy.nanmean(raintot_diffs_2km_time_mean, axis=0)"
   ]
  },
  {
   "cell_type": "code",
   "execution_count": null,
   "metadata": {
    "ExecuteTime": {
     "end_time": "2018-08-28T02:37:11.489769Z",
     "start_time": "2018-08-28T02:37:11.474943Z"
    }
   },
   "outputs": [],
   "source": [
    "raintot_diffs_time_mean_landmask.shape"
   ]
  },
  {
   "cell_type": "code",
   "execution_count": null,
   "metadata": {
    "ExecuteTime": {
     "end_time": "2018-08-28T02:37:11.894015Z",
     "start_time": "2018-08-28T02:37:11.757487Z"
    }
   },
   "outputs": [],
   "source": [
    "raintot_diffs_latmean = numpy.nanmean(raintot_diffs_time_mean_landmask[(xlat[:,0]>=-10)&(xlat[:,0]<=10),:], axis=0)\n",
    "raintot_diffs_latmean_day1 = numpy.nanmean(raintot_diffs_time_mean_day1_landmask[(xlat[:,0]>=-10)&(xlat[:,0]<=10),:], axis=0)\n",
    "raintot_diffs_2km_latmean = numpy.nanmean(raintot_diffs_2km_time_mean, axis=0)\n",
    "PRECT_diffs_10day_latmean = numpy.nanmean(PRECT_diffs_10day[lat_indices,:], axis=0)\n",
    "PRECT_diffs_30day_latmean = numpy.nanmean(PRECT_diffs_30day[lat_indices,:], axis=0)\n",
    "PRECT_diffs_10year_latmean = numpy.nanmean(PRECT_diffs_10year[lat_indices,:], axis=0)"
   ]
  },
  {
   "cell_type": "markdown",
   "metadata": {},
   "source": [
    "calculate stdevs"
   ]
  },
  {
   "cell_type": "code",
   "execution_count": null,
   "metadata": {
    "ExecuteTime": {
     "end_time": "2018-08-28T02:37:12.779088Z",
     "start_time": "2018-08-28T02:37:12.627233Z"
    }
   },
   "outputs": [],
   "source": [
    "raintot_diffs_latstd = numpy.nanstd(raintot_diffs_time_mean_landmask[(xlat[:,0]>=-10)&(xlat[:,0]<=10),:], axis=0, ddof=1)\n",
    "raintot_diffs_day1_latstd = numpy.nanstd(raintot_diffs_time_mean_day1_landmask[(xlat[:,0]>=-10)&(xlat[:,0]<=10),:], axis=0, ddof=1)\n",
    "raintot_diffs_2km_latstd = numpy.nanstd(raintot_diffs_2km_time_mean, axis=0, ddof=1)\n",
    "PRECT_diffs_10day_latstd = numpy.nanstd(PRECT_diffs_10day[lat_indices,:], axis=0, ddof=1)\n",
    "PRECT_diffs_30day_latstd = numpy.nanstd(PRECT_diffs_30day[lat_indices,:], axis=0, ddof=1)\n",
    "PRECT_diffs_10year_latstd = numpy.nanstd(PRECT_diffs_10year[lat_indices,:], axis=0, ddof=1)\n",
    "\n"
   ]
  },
  {
   "cell_type": "markdown",
   "metadata": {},
   "source": [
    "calculate stderr"
   ]
  },
  {
   "cell_type": "code",
   "execution_count": null,
   "metadata": {
    "ExecuteTime": {
     "end_time": "2018-08-28T02:37:13.439358Z",
     "start_time": "2018-08-28T02:37:13.408191Z"
    }
   },
   "outputs": [],
   "source": [
    "raintot_diffs_latstderr = raintot_diffs_latstd/numpy.sqrt(xlat[:,0].size)\n",
    "raintot_diffs_day1_latstderr = raintot_diffs_day1_latstd/numpy.sqrt(xlat[:,0].size)\n",
    "raintot_diffs_2km_latstderr = raintot_diffs_2km_latstd/numpy.sqrt(xlat_2km[:,0].size)\n",
    "PRECT_diffs_10day_latstderr = PRECT_diffs_10day_latstd/numpy.sqrt(lat_subset.size)\n",
    "PRECT_diffs_30day_latstderr = PRECT_diffs_30day_latstd/numpy.sqrt(lat_subset.size)\n",
    "PRECT_diffs_10year_latstderr = PRECT_diffs_10year_latstd/numpy.sqrt(lat_subset.size)\n",
    "\n"
   ]
  },
  {
   "cell_type": "code",
   "execution_count": null,
   "metadata": {
    "ExecuteTime": {
     "end_time": "2018-08-28T02:37:16.659379Z",
     "start_time": "2018-08-28T02:37:13.737053Z"
    }
   },
   "outputs": [],
   "source": [
    "raintot_diffs_latmean_smooth = pandas.Series(raintot_diffs_latmean).rolling(window=3, center=True, min_periods=0).mean()\n",
    "raintot_diffs_latmean_smooth_day1 = pandas.Series(raintot_diffs_latmean_day1).rolling(window=3, center=True, min_periods=0).mean()\n",
    "\n",
    "raintot_diffs_2km_latmean_smooth = pandas.Series(raintot_diffs_2km_latmean).rolling(window=75, center=True, min_periods=0).mean()\n",
    "PRECT_diffs_10day_latmean_smooth = pandas.Series(PRECT_diffs_10day_latmean).rolling(window=3, center=True, min_periods=0).mean()\n",
    "\n"
   ]
  },
  {
   "cell_type": "code",
   "execution_count": null,
   "metadata": {
    "ExecuteTime": {
     "end_time": "2018-08-28T02:37:16.666468Z",
     "start_time": "2018-08-28T02:37:16.661496Z"
    }
   },
   "outputs": [],
   "source": [
    "raintot_diffs_latstd_smooth = pandas.Series(raintot_diffs_latstd).rolling(window=3, center=True, min_periods=0).std(ddof=1)\n",
    "raintot_diffs_2km_latstd_smooth = pandas.Series(raintot_diffs_2km_latstd).rolling(window=75, center=True, min_periods=0).std(ddof=1)\n",
    "\n"
   ]
  },
  {
   "cell_type": "markdown",
   "metadata": {},
   "source": [
    "## yes error bars"
   ]
  },
  {
   "cell_type": "raw",
   "metadata": {
    "ExecuteTime": {
     "end_time": "2018-08-28T02:37:25.606241Z",
     "start_time": "2018-08-28T02:37:19.859418Z"
    }
   },
   "source": [
    "colors = [cmocean.cm.thermal(0.3),\\\n",
    "          cmocean.cm.thermal(0.4),\\\n",
    "          cmocean.cm.thermal(0.5),\\\n",
    "          cmocean.cm.thermal(0.6),\\\n",
    "          cmocean.cm.thermal(0.7)]\n",
    "\n",
    "fontsize = 12\n",
    "\n",
    "fig = mp.figure(figsize=(4.25,5.5))\n",
    "\n",
    "ymax = 1920.6472595214843\n",
    "##################################################\n",
    "ax1 = fig.add_subplot(511)\n",
    "ax1.plot(xlong[0,:]+360.,\\\n",
    "         raintot_diffs_latmean_smooth*24., \\\n",
    "         color=colors[0],\\\n",
    "         label='days 2-10')\n",
    "\n",
    "ax1.plot(xlong[0,:]+360.,\\\n",
    "         raintot_diffs_latmean_smooth_day1*24., \\\n",
    "         color=colors[0],\\\n",
    "         label='day 1', ls='--')\n",
    "\n",
    "ax1topo = ax1.twinx()\n",
    "ax1topo.fill_between(xlong[0,:]+360., \\\n",
    "                     numpy.zeros(hgt_50km_latmean.size), \\\n",
    "                     hgt_50km_latmean, \\\n",
    "                     facecolor='0', alpha=0.25)\n",
    "y0,y1 = ax1topo.get_ylim()\n",
    "ax1topo.set_ylim(0,ymax)\n",
    "ax1topo.axis('off')\n",
    "\n",
    "ax1.fill_between(xlong[0,:]+360., \\\n",
    "                (raintot_diffs_latmean_smooth-1.96*raintot_diffs_latstderr)*24.,\\\n",
    "                (raintot_diffs_latmean_smooth+1.96*raintot_diffs_latstderr)*24.,\\\n",
    "                facecolor=colors[0], alpha=0.333)\n",
    "\n",
    "\n",
    "ax1.fill_between(xlong[0,:]+360., \\\n",
    "                (raintot_diffs_latmean_smooth_day1-1.96*raintot_diffs_day1_latstderr)*24.,\\\n",
    "                (raintot_diffs_latmean_smooth_day1+1.96*raintot_diffs_day1_latstderr)*24.,\\\n",
    "                facecolor=colors[0], alpha=0.333)\n",
    "\n",
    "##################################################\n",
    "xvals = xlong_2km[0,:]+360.\n",
    "yvals = raintot_diffs_2km_latmean_smooth*24.\n",
    "f = scipy.interpolate.interp1d(xvals, yvals, kind='cubic')\n",
    "xvals_interp = numpy.linspace(xvals.min(), xvals.max(), 1000)\n",
    "yvals_interp = f(xvals_interp)\n",
    "ax2 = fig.add_subplot(512)\n",
    "ax2.plot(xvals_interp,\\\n",
    "        yvals_interp, \\\n",
    "        color=colors[1],\\\n",
    "        label='WRF 2-km 10d')\n",
    "\n",
    "ax2topo = ax2.twinx()\n",
    "ax2topo.fill_between(xlong_2km[0,:]+360., \\\n",
    "                     numpy.zeros(hgt_2km_latmean.size), \\\n",
    "                     hgt_2km_latmean, \\\n",
    "                     facecolor='0', alpha=0.25)\n",
    "ax2topo.set_ylim(0,ymax)\n",
    "ax2topo.axis('off')\n",
    "\n",
    "yvals = raintot_diffs_2km_latstderr*24.\n",
    "f = scipy.interpolate.interp1d(xvals, yvals, kind='cubic')\n",
    "yvals_interp_error = f(xvals_interp)\n",
    "ax2.fill_between(xvals_interp, \\\n",
    "                (yvals_interp-1.96*yvals_interp_error),\\\n",
    "                (yvals_interp+1.96*yvals_interp_error),\\\n",
    "                facecolor=colors[1], alpha=0.333)\n",
    "\n",
    "##################################################\n",
    "xvals = lon_subset\n",
    "yvals = PRECT_diffs_10day_latmean*86400.*1000.\n",
    "f = scipy.interpolate.interp1d(xvals, pandas.Series(yvals).interpolate().values, kind='cubic')\n",
    "xvals_interp = numpy.linspace(277.5, 325., 100)\n",
    "yvals_interp = f(xvals_interp)\n",
    "ax3 = fig.add_subplot(513)\n",
    "ax3.plot(xvals_interp,\\\n",
    "        yvals_interp, \\\n",
    "        color=colors[2],\\\n",
    "        label='CESM 2$\\degree$ 10d')\n",
    "\n",
    "yvals = PRECT_diffs_10day_latstderr*86400.*1000.\n",
    "f = scipy.interpolate.interp1d(xvals, pandas.Series(yvals).interpolate(limit_direction='both').values, kind='cubic')\n",
    "yvals_interp_error = f(xvals_interp)\n",
    "ax3.fill_between(xvals_interp, \\\n",
    "                (yvals_interp-1.96*yvals_interp_error),\\\n",
    "                (yvals_interp+1.96*yvals_interp_error),\\\n",
    "                facecolor=colors[2], alpha=0.333)\n",
    "\n",
    "ax3topo = ax3.twinx()\n",
    "yvals = topo_data_latmean\n",
    "f = scipy.interpolate.interp1d(xvals, pandas.Series(yvals).interpolate().values, kind='cubic')\n",
    "yvals_interp = f(xvals_interp)\n",
    "ax3topo.fill_between(xvals_interp, \\\n",
    "                     numpy.zeros(yvals_interp.size), \\\n",
    "                     yvals_interp, \\\n",
    "                     facecolor='0', alpha=0.25)\n",
    "ax3topo.set_ylim(0,ymax)\n",
    "ax3topo.axis('off')\n",
    "\n",
    "##################################################\n",
    "xvals = lon_subset\n",
    "yvals = PRECT_diffs_30day_latmean*86400.*1000.\n",
    "f = scipy.interpolate.interp1d(xvals, pandas.Series(yvals).interpolate().values, kind='cubic')\n",
    "xvals_interp = numpy.linspace(277.5, 325., 100)\n",
    "yvals_interp = f(xvals_interp)\n",
    "ax4 = fig.add_subplot(514)\n",
    "ax4.plot(xvals_interp,\\\n",
    "        yvals_interp, \\\n",
    "        color=colors[3],\\\n",
    "        label='CESM 2$\\degree$ 30d')\n",
    "\n",
    "yvals = PRECT_diffs_30day_latstderr*86400.*1000.\n",
    "f = scipy.interpolate.interp1d(xvals, pandas.Series(yvals).interpolate(limit_direction='both').values, kind='cubic')\n",
    "yvals_interp_error = f(xvals_interp)\n",
    "ax4.fill_between(xvals_interp, \\\n",
    "                (yvals_interp-1.96*yvals_interp_error),\\\n",
    "                (yvals_interp+1.96*yvals_interp_error),\\\n",
    "                facecolor=colors[3], alpha=0.333)\n",
    "\n",
    "ax4topo = ax4.twinx()\n",
    "yvals = topo_data_latmean\n",
    "f = scipy.interpolate.interp1d(xvals, pandas.Series(yvals).interpolate().values, kind='cubic')\n",
    "yvals_interp = f(xvals_interp)\n",
    "ax4topo.fill_between(xvals_interp, \\\n",
    "                     numpy.zeros(yvals_interp.size), \\\n",
    "                     yvals_interp, \\\n",
    "                     facecolor='0', alpha=0.25)\n",
    "ax4topo.set_ylim(0,ymax)\n",
    "ax4topo.axis('off')\n",
    "\n",
    "##################################################\n",
    "xvals = lon_subset\n",
    "yvals = PRECT_diffs_10year_latmean*86400.*1000.\n",
    "f = scipy.interpolate.interp1d(xvals, pandas.Series(yvals).interpolate().values, kind='cubic')\n",
    "xvals_interp = numpy.linspace(277.5, 325., 100)\n",
    "yvals_interp = f(xvals_interp)\n",
    "ax5 = fig.add_subplot(515)\n",
    "ax5.plot(xvals_interp,\\\n",
    "       yvals_interp, \\\n",
    "       color=colors[4],\\\n",
    "       label='CESM 2$\\degree$ 10yr')\n",
    "\n",
    "yvals = PRECT_diffs_30day_latstderr*86400.*1000.\n",
    "f = scipy.interpolate.interp1d(xvals, pandas.Series(yvals).interpolate(limit_direction='both').values, kind='cubic')\n",
    "yvals_interp_error = f(xvals_interp)\n",
    "ax5.fill_between(xvals_interp, \\\n",
    "                (yvals_interp-1.96*yvals_interp_error),\\\n",
    "                (yvals_interp+1.96*yvals_interp_error),\\\n",
    "                facecolor=colors[4], alpha=0.333)\n",
    "\n",
    "ax5topo = ax5.twinx()\n",
    "yvals = topo_data_latmean\n",
    "f = scipy.interpolate.interp1d(xvals, pandas.Series(yvals).interpolate().values, kind='cubic')\n",
    "yvals_interp = f(xvals_interp)\n",
    "ax5topo.fill_between(xvals_interp, \\\n",
    "                     numpy.zeros(yvals_interp.size), \\\n",
    "                     yvals_interp, \\\n",
    "                     facecolor='0', alpha=0.25)\n",
    "ax5topo.set_ylim(0,ymax)\n",
    "ax5topo.axis('off')\n",
    "\n",
    "##################################################\n",
    "\n",
    "ax_list = [ax1,ax2,ax3,ax4,ax5]\n",
    "label_list = ['(a) WRF 50-km',\\\n",
    "              '(b) WRF 2-km 10d', \\\n",
    "              '(c) CESM 2$\\degree$ 10d', \\\n",
    "              '(d) CESM 2$\\degree$ 30d', \\\n",
    "              '(e) CESM 2$\\degree$ 10y']\n",
    "\n",
    "fig.tight_layout()#h_pad=0)\n",
    "fig.subplots_adjust(wspace=0, hspace=0)\n",
    "\n",
    "map_lat_lo = -10.\n",
    "map_lat_hi = 10.\n",
    "map_lon_lo = 278\n",
    "map_lon_hi = 325.5\n",
    "\n",
    "ax1.zorder=1\n",
    "ax2.zorder=1\n",
    "ax3.zorder=1\n",
    "ax4.zorder=1\n",
    "ax5.zorder=1\n",
    "\n",
    "ax1.set_facecolor('None')\n",
    "ax2.set_facecolor('None')\n",
    "ax3.set_facecolor('None')\n",
    "ax4.set_facecolor('None')\n",
    "ax5.set_facecolor('None')\n",
    "\n",
    "[ax.tick_params(labelsize=fontsize) for ax in ax_list]\n",
    "[ax.set_xticklabels(['','','']) for ax in ax_list]\n",
    "[ax.axhline(0, lw=1, ls='--', c='0.1') for ax in ax_list]\n",
    "#[ax.set_ylim(-1.8,1.8) for ax in ax_list]\n",
    "[ax.set_yticks([-1.,0,1.]) for ax in ax_list]\n",
    "[ax_list[i].yaxis.tick_right() for i in [1,3]]\n",
    "[ax.set_xlim(map_lon_lo, map_lon_hi) for ax in ax_list]\n",
    "[ax.xaxis.grid() for ax in ax_list]\n",
    "[ax.set_xticks([280,290,300.,310,320.]) for ax in ax_list]\n",
    "\n",
    "[ax_list[i].text(s=label_list[i], x=0.98, y=0.87,\\\n",
    "                 ha='right', va='top', \\\n",
    "                 fontsize=fontsize, \\\n",
    "                 color=colors[i], \\\n",
    "                 transform=ax_list[i].transAxes) for i in range(5)]\n",
    "\n",
    "ax1pos = ax1.get_position()\n",
    "ax4pos = ax4.get_position()\n",
    "ax5pos = ax5.get_position()\n",
    "fig.text(s='mm day$^{\\,-1}$', \\\n",
    "         x=0.05, y=ax5pos.y0+0.5*(ax1pos.y1-ax5pos.y0), \\\n",
    "         rotation=90, \\\n",
    "         transform=fig.transFigure, \\\n",
    "         va='center', \\\n",
    "         ha='right', \\\n",
    "         fontsize=fontsize)\n",
    "\n",
    "handles, labels = ax1.get_legend_handles_labels()\n",
    "ax1.legend(handles, labels, fontsize=fontsize, bbox_to_anchor=(0.275,0.98), \\\n",
    "          bbox_transform=ax1.transAxes, loc='upper left', borderaxespad=0, ncol=1, labelspacing=0.19, \\\n",
    "          fancybox=False, edgecolor='0', framealpha=0, borderpad=0.25, \\\n",
    "          handletextpad=0.5, handlelength=1.2)\n",
    "\n",
    "ax5.set_xlabel('longitude', fontsize=fontsize)\n",
    "ax5.set_xticklabels(['280$\\degree$E','','300$\\degree$E','','320$\\degree$E'])\n",
    "\n",
    "fig.savefig('../figures/POSTER_meridional_mean_changes.pdf', bbox_inches='tight', transparent=True)"
   ]
  },
  {
   "cell_type": "code",
   "execution_count": null,
   "metadata": {
    "ExecuteTime": {
     "end_time": "2018-08-28T03:09:59.740401Z",
     "start_time": "2018-08-28T03:09:58.620178Z"
    }
   },
   "outputs": [],
   "source": [
    "colors = [cmocean.cm.thermal(0.3),\\\n",
    "          cmocean.cm.thermal(0.4),\\\n",
    "          cmocean.cm.thermal(0.5),\\\n",
    "          cmocean.cm.thermal(0.6),\\\n",
    "          cmocean.cm.thermal(0.7)]\n",
    "\n",
    "fontsize = 12\n",
    "\n",
    "topo_color = '0.5'\n",
    "\n",
    "fig = mp.figure(figsize=(6,8))\n",
    "\n",
    "ymax = 3250.#1920.6472595214843\n",
    "##################################################\n",
    "ax1 = fig.add_subplot(511)\n",
    "ax1.plot(xlong[0,:]+360.,\\\n",
    "         raintot_diffs_latmean_smooth*24., \\\n",
    "         color=colors[0],\\\n",
    "         label='days 2-10')\n",
    "\n",
    "ax1.plot(xlong[0,:]+360.,\\\n",
    "         raintot_diffs_latmean_smooth_day1*24., \\\n",
    "         color=colors[0],\\\n",
    "         label='day 1', ls='--')\n",
    "\n",
    "ax1topo = ax1.twinx()\n",
    "ax1topo.fill_between(xlong[0,:]+360., \\\n",
    "                     numpy.zeros(hgt_50km_latmean.size), \\\n",
    "                     hgt_50km_latmean, \\\n",
    "                     facecolor='0', alpha=topo_color)\n",
    "y0,y1 = ax1topo.get_ylim()\n",
    "ax1topo.set_ylim(0,ymax)\n",
    "ax1topo.axis('off')\n",
    "\n",
    "ax1.fill_between(xlong[0,:]+360., \\\n",
    "                (raintot_diffs_latmean_smooth-1.96*raintot_diffs_latstderr)*24.,\\\n",
    "                (raintot_diffs_latmean_smooth+1.96*raintot_diffs_latstderr)*24.,\\\n",
    "                facecolor=colors[0], alpha=0.333)\n",
    "\n",
    "\n",
    "ax1.fill_between(xlong[0,:]+360., \\\n",
    "                (raintot_diffs_latmean_smooth_day1-1.96*raintot_diffs_day1_latstderr)*24.,\\\n",
    "                (raintot_diffs_latmean_smooth_day1+1.96*raintot_diffs_day1_latstderr)*24.,\\\n",
    "                facecolor=colors[0], alpha=0.333)\n",
    "\n",
    "##################################################\n",
    "xvals = xlong_2km[0,:]+360.\n",
    "yvals = raintot_diffs_2km_latmean_smooth*24.\n",
    "f = scipy.interpolate.interp1d(xvals, yvals, kind='cubic')\n",
    "xvals_interp = numpy.linspace(xvals.min(), xvals.max(), 1000)\n",
    "yvals_interp = f(xvals_interp)\n",
    "ax2 = fig.add_subplot(512)\n",
    "ax2.plot(xvals_interp,\\\n",
    "        yvals_interp, \\\n",
    "        color=colors[1],\\\n",
    "        label='WRF 2-km 10d')\n",
    "\n",
    "ax2topo = ax2.twinx()\n",
    "ax2topo.fill_between(xlong_2km[0,:]+360., \\\n",
    "                     numpy.zeros(hgt_2km_latmean.size), \\\n",
    "                     hgt_2km_latmean, \\\n",
    "                     facecolor='0', alpha=topo_color)\n",
    "ax2topo.set_ylim(0,ymax)\n",
    "ax2topo.axis('off')\n",
    "\n",
    "yvals = raintot_diffs_2km_latstderr*24.\n",
    "f = scipy.interpolate.interp1d(xvals, yvals, kind='cubic')\n",
    "yvals_interp_error = f(xvals_interp)\n",
    "ax2.fill_between(xvals_interp, \\\n",
    "                (yvals_interp-1.96*yvals_interp_error),\\\n",
    "                (yvals_interp+1.96*yvals_interp_error),\\\n",
    "                facecolor=colors[1], alpha=0.333)\n",
    "\n",
    "##################################################\n",
    "xvals = lon_subset\n",
    "yvals = PRECT_diffs_10day_latmean*86400.*1000.\n",
    "f = scipy.interpolate.interp1d(xvals, pandas.Series(yvals).interpolate().values, kind='cubic')\n",
    "xvals_interp = numpy.linspace(277.5, 325., 100)\n",
    "yvals_interp = f(xvals_interp)\n",
    "ax3 = fig.add_subplot(513)\n",
    "ax3.plot(xvals_interp,\\\n",
    "        yvals_interp, \\\n",
    "        color=colors[2],\\\n",
    "        label='CESM 2$\\degree$ 10d')\n",
    "\n",
    "yvals = PRECT_diffs_10day_latstderr*86400.*1000.\n",
    "f = scipy.interpolate.interp1d(xvals, pandas.Series(yvals).interpolate(limit_direction='both').values, kind='cubic')\n",
    "yvals_interp_error = f(xvals_interp)\n",
    "ax3.fill_between(xvals_interp, \\\n",
    "                (yvals_interp-1.96*yvals_interp_error),\\\n",
    "                (yvals_interp+1.96*yvals_interp_error),\\\n",
    "                facecolor=colors[2], alpha=0.333)\n",
    "\n",
    "ax3topo = ax3.twinx()\n",
    "yvals = topo_data_latmean\n",
    "f = scipy.interpolate.interp1d(xvals, pandas.Series(yvals).interpolate().values, kind='cubic')\n",
    "yvals_interp = f(xvals_interp)\n",
    "ax3topo.fill_between(xvals_interp, \\\n",
    "                     numpy.zeros(yvals_interp.size), \\\n",
    "                     yvals_interp, \\\n",
    "                     facecolor='0', alpha=topo_color)\n",
    "ax3topo.set_ylim(0,ymax)\n",
    "ax3topo.axis('off')\n",
    "\n",
    "##################################################\n",
    "xvals = lon_subset\n",
    "yvals = PRECT_diffs_30day_latmean*86400.*1000.\n",
    "f = scipy.interpolate.interp1d(xvals, pandas.Series(yvals).interpolate().values, kind='cubic')\n",
    "xvals_interp = numpy.linspace(277.5, 325., 100)\n",
    "yvals_interp = f(xvals_interp)\n",
    "ax4 = fig.add_subplot(514)\n",
    "ax4.plot(xvals_interp,\\\n",
    "        yvals_interp, \\\n",
    "        color=colors[3],\\\n",
    "        label='CESM 2$\\degree$ 30d')\n",
    "\n",
    "yvals = PRECT_diffs_30day_latstderr*86400.*1000.\n",
    "f = scipy.interpolate.interp1d(xvals, pandas.Series(yvals).interpolate(limit_direction='both').values, kind='cubic')\n",
    "yvals_interp_error = f(xvals_interp)\n",
    "ax4.fill_between(xvals_interp, \\\n",
    "                (yvals_interp-1.96*yvals_interp_error),\\\n",
    "                (yvals_interp+1.96*yvals_interp_error),\\\n",
    "                facecolor=colors[3], alpha=0.333)\n",
    "\n",
    "ax4topo = ax4.twinx()\n",
    "yvals = topo_data_latmean\n",
    "f = scipy.interpolate.interp1d(xvals, pandas.Series(yvals).interpolate().values, kind='cubic')\n",
    "yvals_interp = f(xvals_interp)\n",
    "ax4topo.fill_between(xvals_interp, \\\n",
    "                     numpy.zeros(yvals_interp.size), \\\n",
    "                     yvals_interp, \\\n",
    "                     facecolor='0', alpha=topo_color)\n",
    "ax4topo.set_ylim(0,ymax)\n",
    "ax4topo.axis('off')\n",
    "\n",
    "##################################################\n",
    "xvals = lon_subset\n",
    "yvals = PRECT_diffs_10year_latmean*86400.*1000.\n",
    "f = scipy.interpolate.interp1d(xvals, pandas.Series(yvals).interpolate().values, kind='cubic')\n",
    "xvals_interp = numpy.linspace(277.5, 325., 100)\n",
    "yvals_interp = f(xvals_interp)\n",
    "ax5 = fig.add_subplot(515)\n",
    "ax5.plot(xvals_interp,\\\n",
    "       yvals_interp, \\\n",
    "       color=colors[4],\\\n",
    "       label='CESM 2$\\degree$ 10yr')\n",
    "\n",
    "yvals = PRECT_diffs_30day_latstderr*86400.*1000.\n",
    "f = scipy.interpolate.interp1d(xvals, pandas.Series(yvals).interpolate(limit_direction='both').values, kind='cubic')\n",
    "yvals_interp_error = f(xvals_interp)\n",
    "ax5.fill_between(xvals_interp, \\\n",
    "                (yvals_interp-1.96*yvals_interp_error),\\\n",
    "                (yvals_interp+1.96*yvals_interp_error),\\\n",
    "                facecolor=colors[4], alpha=0.333)\n",
    "\n",
    "ax5topo = ax5.twinx()\n",
    "yvals = topo_data_latmean\n",
    "f = scipy.interpolate.interp1d(xvals, pandas.Series(yvals).interpolate().values, kind='cubic')\n",
    "yvals_interp = f(xvals_interp)\n",
    "ax5topo.fill_between(xvals_interp, \\\n",
    "                     numpy.zeros(yvals_interp.size), \\\n",
    "                     yvals_interp, \\\n",
    "                     facecolor='0', alpha=topo_color)\n",
    "ax5topo.set_ylim(0,ymax)\n",
    "ax5topo.axis('off')\n",
    "\n",
    "##################################################\n",
    "\n",
    "ax_list = [ax1,ax2,ax3,ax4,ax5]\n",
    "label_list = ['(a) WRF 50-km',\\\n",
    "              '(b) WRF 2-km 10d', \\\n",
    "              '(c) CESM 2$\\degree$ 10d', \\\n",
    "              '(d) CESM 2$\\degree$ 30d', \\\n",
    "              '(e) CESM 2$\\degree$ 10y']\n",
    "\n",
    "fig.tight_layout()#h_pad=0)\n",
    "fig.subplots_adjust(wspace=0, hspace=0)\n",
    "\n",
    "map_lat_lo = -10.\n",
    "map_lat_hi = 10.\n",
    "map_lon_lo = 278\n",
    "map_lon_hi = 325.5\n",
    "\n",
    "ax1.zorder=1\n",
    "ax2.zorder=1\n",
    "ax3.zorder=1\n",
    "ax4.zorder=1\n",
    "ax5.zorder=1\n",
    "\n",
    "ax1.set_facecolor('None')\n",
    "ax2.set_facecolor('None')\n",
    "ax3.set_facecolor('None')\n",
    "ax4.set_facecolor('None')\n",
    "ax5.set_facecolor('None')\n",
    "\n",
    "[ax.tick_params(labelsize=fontsize) for ax in ax_list]\n",
    "[ax.set_xticklabels(['','','']) for ax in ax_list]\n",
    "[ax.axhline(0, lw=1, ls='--', c='0.1') for ax in ax_list]\n",
    "#[ax.set_ylim(-1.8,1.8) for ax in ax_list]\n",
    "[ax.set_yticks([-1.,0,1.]) for ax in ax_list[:2]]\n",
    "[ax.set_yticks([-2.,0,2.]) for ax in ax_list[2:]]\n",
    "[ax_list[i].yaxis.tick_right() for i in [1,3]]\n",
    "[ax.set_xlim(map_lon_lo, map_lon_hi) for ax in ax_list]\n",
    "#[ax.set_xlim(274.5, 325.5) for ax in ax_list]\n",
    "#[ax.set_xlim(map_lon_lo, 322) for ax in ax_list]\n",
    "[ax.xaxis.grid() for ax in ax_list]\n",
    "[ax.set_xticks([280,290,300.,310,320.]) for ax in ax_list]\n",
    "\n",
    "[ax_list[i].text(s=label_list[i], x=0.98, y=0.87,\\\n",
    "                 ha='right', va='top', \\\n",
    "                 fontsize=fontsize, \\\n",
    "                 color=colors[i], \\\n",
    "                 transform=ax_list[i].transAxes) for i in range(5)]\n",
    "\n",
    "ax1pos = ax1.get_position()\n",
    "ax4pos = ax4.get_position()\n",
    "ax5pos = ax5.get_position()\n",
    "fig.text(s='mm day$^{\\,-1}$', \\\n",
    "         x=0.05, y=ax5pos.y0+0.5*(ax1pos.y1-ax5pos.y0), \\\n",
    "         rotation=90, \\\n",
    "         transform=fig.transFigure, \\\n",
    "         va='center', \\\n",
    "         ha='right', \\\n",
    "         fontsize=fontsize)\n",
    "\n",
    "handles, labels = ax1.get_legend_handles_labels()\n",
    "ax1.legend(handles, labels, fontsize=fontsize, bbox_to_anchor=(0.275,0.999), \\\n",
    "          bbox_transform=ax1.transAxes, loc='upper left', borderaxespad=0, ncol=1, labelspacing=0.05, \\\n",
    "          fancybox=False, edgecolor='0', framealpha=0, borderpad=0.25, \\\n",
    "          handletextpad=0.5, handlelength=1.2)\n",
    "\n",
    "ax5.set_xlabel('longitude', fontsize=fontsize)\n",
    "ax5.set_xticklabels(['280$\\degree$E','','300$\\degree$E','','320$\\degree$E'])\n",
    "\n",
    "ax1.set_ylim(-2.5,1.8)\n",
    "ax2.set_ylim(-2.5,1.8)\n",
    "ax3.set_ylim(-2.9,2.75)\n",
    "ax4.set_ylim(-2.9,2.75)\n",
    "ax5.set_ylim(-2.9,2.75)\n",
    "\n",
    "ax1.text(s='meridional mean precipitation change', x=0.5, y=1.075, \\\n",
    "         ha='center', va='bottom', \\\n",
    "         transform=ax1.transAxes, fontsize=fontsize)\n",
    "fig.savefig('../figures/POSTER_meridional_mean_changes.pdf', bbox_inches='tight', transparent=True)"
   ]
  }
 ],
 "metadata": {
  "kernelspec": {
   "display_name": "Python 3",
   "language": "python",
   "name": "python3"
  },
  "language_info": {
   "codemirror_mode": {
    "name": "ipython",
    "version": 3
   },
   "file_extension": ".py",
   "mimetype": "text/x-python",
   "name": "python",
   "nbconvert_exporter": "python",
   "pygments_lexer": "ipython3",
   "version": "3.7.0"
  },
  "varInspector": {
   "cols": {
    "lenName": 16,
    "lenType": 16,
    "lenVar": 40
   },
   "kernels_config": {
    "python": {
     "delete_cmd_postfix": "",
     "delete_cmd_prefix": "del ",
     "library": "var_list.py",
     "varRefreshCmd": "print(var_dic_list())"
    },
    "r": {
     "delete_cmd_postfix": ") ",
     "delete_cmd_prefix": "rm(",
     "library": "var_list.r",
     "varRefreshCmd": "cat(var_dic_list()) "
    }
   },
   "types_to_exclude": [
    "module",
    "function",
    "builtin_function_or_method",
    "instance",
    "_Feature"
   ],
   "window_display": false
  }
 },
 "nbformat": 4,
 "nbformat_minor": 2
}
