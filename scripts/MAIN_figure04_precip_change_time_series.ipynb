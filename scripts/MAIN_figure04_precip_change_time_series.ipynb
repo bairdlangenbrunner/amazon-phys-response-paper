{
 "cells": [
  {
   "cell_type": "markdown",
   "metadata": {},
   "source": [
    "# import stuff"
   ]
  },
  {
   "cell_type": "code",
   "execution_count": 1,
   "metadata": {
    "ExecuteTime": {
     "end_time": "2018-08-24T02:00:20.781076Z",
     "start_time": "2018-08-24T02:00:15.996612Z"
    }
   },
   "outputs": [],
   "source": [
    "import numpy\n",
    "import xarray\n",
    "import matplotlib\n",
    "import matplotlib.pyplot as mp\n",
    "import datetime\n",
    "import glob\n",
    "import netCDF4\n",
    "import pandas\n",
    "import wrf\n",
    "import string\n",
    "import seaborn\n",
    "import matplotlib.colors\n",
    "import cmocean\n",
    "import matplotlib.cm\n",
    "\n",
    "import metpy\n",
    "import metpy.plots\n",
    "import metpy.calc\n",
    "import metpy.units\n",
    "\n",
    "import cartopy\n",
    "\n",
    "DEGREE_SIGN = u'\\u00B0'\n",
    "mp.rcParams.update({'mathtext.default': 'regular'})\n",
    "\n",
    "% matplotlib inline"
   ]
  },
  {
   "cell_type": "markdown",
   "metadata": {},
   "source": [
    "# set up wet and dry regions"
   ]
  },
  {
   "cell_type": "code",
   "execution_count": 2,
   "metadata": {
    "ExecuteTime": {
     "end_time": "2018-08-24T02:00:20.796502Z",
     "start_time": "2018-08-24T02:00:20.789579Z"
    }
   },
   "outputs": [],
   "source": [
    "dry_lon_lo, dry_lon_hi, dry_lat_lo, dry_lat_hi = -60,-50,-10,10\n",
    "wet_lon_lo, wet_lon_hi, wet_lat_lo, wet_lat_hi = -80,-75,-10,10\n",
    "\n",
    "dry_lon_lo_degE = 360+dry_lon_lo\n",
    "dry_lon_hi_degE = 360+dry_lon_hi\n",
    "\n",
    "wet_lon_lo_degE = 360+wet_lon_lo\n",
    "wet_lon_hi_degE = 360+wet_lon_hi"
   ]
  },
  {
   "cell_type": "code",
   "execution_count": 3,
   "metadata": {
    "ExecuteTime": {
     "end_time": "2018-08-24T02:00:20.891360Z",
     "start_time": "2018-08-24T02:00:20.804615Z"
    }
   },
   "outputs": [],
   "source": [
    "lon_lo_ama = dry_lon_lo\n",
    "lon_hi_ama = dry_lon_hi\n",
    "lat_lo_ama = dry_lat_lo\n",
    "lat_hi_ama = dry_lat_hi\n",
    "\n",
    "lon_lo_and = wet_lon_lo\n",
    "lon_hi_and = wet_lon_hi\n",
    "lat_lo_and = wet_lat_lo\n",
    "lat_hi_and = wet_lat_hi"
   ]
  },
  {
   "cell_type": "markdown",
   "metadata": {},
   "source": [
    "# open control data"
   ]
  },
  {
   "cell_type": "code",
   "execution_count": 4,
   "metadata": {
    "ExecuteTime": {
     "end_time": "2018-08-24T02:00:21.182481Z",
     "start_time": "2018-08-24T02:00:20.899735Z"
    }
   },
   "outputs": [],
   "source": [
    "root_dir = '/beegfs/DATA/pritchard/blangenb/WRF_ARCHIVE/CHEYENNE/FMAASO/400/ens_mean_wrfout_files'\n",
    "file_list = sorted(glob.glob(root_dir+'/'+'wrfout*.nc'))\n",
    "ds_list = [netCDF4.Dataset(file) for file in file_list]"
   ]
  },
  {
   "cell_type": "code",
   "execution_count": 5,
   "metadata": {
    "ExecuteTime": {
     "end_time": "2018-08-24T02:00:25.587426Z",
     "start_time": "2018-08-24T02:00:21.190839Z"
    }
   },
   "outputs": [],
   "source": [
    "cont_mfds = xarray.open_mfdataset(root_dir + '/' + 'wrfout*.nc')"
   ]
  },
  {
   "cell_type": "code",
   "execution_count": 6,
   "metadata": {
    "ExecuteTime": {
     "end_time": "2018-08-24T02:00:26.868039Z",
     "start_time": "2018-08-24T02:00:25.595822Z"
    }
   },
   "outputs": [],
   "source": [
    "rainc_400 = cont_mfds['RAINC'].values\n",
    "rainnc_400 = cont_mfds['RAINNC'].values"
   ]
  },
  {
   "cell_type": "code",
   "execution_count": 7,
   "metadata": {
    "ExecuteTime": {
     "end_time": "2018-08-24T02:00:28.725463Z",
     "start_time": "2018-08-24T02:00:26.876430Z"
    }
   },
   "outputs": [],
   "source": [
    "time = cont_mfds['Times'].values\n",
    "xlat = cont_mfds['XLAT'].values[0,:,:]\n",
    "xlong = cont_mfds['XLONG'].values[0,:,:]\n",
    "landmask = cont_mfds['LANDMASK'].values[0,:,:]\n",
    "landmask_midpoints = landmask[1:,1:]"
   ]
  },
  {
   "cell_type": "code",
   "execution_count": 8,
   "metadata": {
    "ExecuteTime": {
     "end_time": "2018-08-24T02:00:28.786515Z",
     "start_time": "2018-08-24T02:00:28.734128Z"
    }
   },
   "outputs": [],
   "source": [
    "hgt = cont_mfds['HGT'].sel(Time=0).values"
   ]
  },
  {
   "cell_type": "markdown",
   "metadata": {},
   "source": [
    "# get time info"
   ]
  },
  {
   "cell_type": "code",
   "execution_count": 9,
   "metadata": {
    "ExecuteTime": {
     "end_time": "2018-08-24T02:00:28.852261Z",
     "start_time": "2018-08-24T02:00:28.795058Z"
    }
   },
   "outputs": [],
   "source": [
    "time_datetimes = pandas.to_datetime([i.decode('utf-8') for i in time], format = '%Y-%m-%d_%H:%M:%S')"
   ]
  },
  {
   "cell_type": "code",
   "execution_count": 10,
   "metadata": {
    "ExecuteTime": {
     "end_time": "2018-08-24T02:00:29.152008Z",
     "start_time": "2018-08-24T02:00:28.860460Z"
    }
   },
   "outputs": [],
   "source": [
    "time_datetimes_shifted_ama = time_datetimes + datetime.timedelta(hours=-4)\n",
    "time_datetimes_shifted_and = time_datetimes + datetime.timedelta(hours=-5)"
   ]
  },
  {
   "cell_type": "markdown",
   "metadata": {},
   "source": [
    "# get land mask info"
   ]
  },
  {
   "cell_type": "code",
   "execution_count": 11,
   "metadata": {
    "ExecuteTime": {
     "end_time": "2018-08-24T02:00:29.314003Z",
     "start_time": "2018-08-24T02:00:29.160476Z"
    }
   },
   "outputs": [],
   "source": [
    "landmask_indices = numpy.copy(landmask)\n",
    "landmask_indices[landmask==1]=1\n",
    "landmask_indices[landmask!=1]=0\n",
    "landmask_indices = numpy.array(landmask_indices, dtype=bool)"
   ]
  },
  {
   "cell_type": "code",
   "execution_count": 12,
   "metadata": {
    "ExecuteTime": {
     "end_time": "2018-08-24T02:00:29.590594Z",
     "start_time": "2018-08-24T02:00:29.322159Z"
    }
   },
   "outputs": [],
   "source": [
    "lon_indices_ama = (xlong>=lon_lo_ama)&(xlong<=lon_hi_ama)\n",
    "lat_indices_ama = (xlat>=lat_lo_ama)&(xlat<=lat_hi_ama)\n",
    "latlon_indices_ama = (lon_indices_ama)&(lat_indices_ama)&(landmask_indices)"
   ]
  },
  {
   "cell_type": "code",
   "execution_count": 13,
   "metadata": {
    "ExecuteTime": {
     "end_time": "2018-08-24T02:00:29.669016Z",
     "start_time": "2018-08-24T02:00:29.598970Z"
    }
   },
   "outputs": [],
   "source": [
    "lon_indices_and = (xlong>=lon_lo_and)&(xlong<=lon_hi_and)\n",
    "lat_indices_and = (xlat>=lat_lo_and)&(xlat<=lat_hi_and)\n",
    "latlon_indices_and = (lon_indices_and)&(lat_indices_and)&(landmask_indices)"
   ]
  },
  {
   "cell_type": "code",
   "execution_count": 14,
   "metadata": {
    "ExecuteTime": {
     "end_time": "2018-08-24T02:00:29.752528Z",
     "start_time": "2018-08-24T02:00:29.677281Z"
    }
   },
   "outputs": [],
   "source": [
    "latlon_indices_and_high = (lon_indices_and)&(lat_indices_and)&(landmask_indices)&(hgt>1500.)"
   ]
  },
  {
   "cell_type": "markdown",
   "metadata": {},
   "source": [
    "# open phys data"
   ]
  },
  {
   "cell_type": "code",
   "execution_count": 15,
   "metadata": {
    "ExecuteTime": {
     "end_time": "2018-08-24T02:00:34.553503Z",
     "start_time": "2018-08-24T02:00:29.755221Z"
    }
   },
   "outputs": [],
   "source": [
    "root_dir = '/beegfs/DATA/pritchard/blangenb/WRF_ARCHIVE/CHEYENNE/FMAASO/1000/ens_mean_wrfout_files'\n",
    "file_list = sorted(glob.glob(root_dir+'/'+'wrfout*.nc'))\n",
    "ds_list = [netCDF4.Dataset(file) for file in file_list]\n",
    "\n",
    "phys_mfds = xarray.open_mfdataset(root_dir + '/' + 'wrfout*.nc')"
   ]
  },
  {
   "cell_type": "code",
   "execution_count": 16,
   "metadata": {
    "ExecuteTime": {
     "end_time": "2018-08-24T02:00:35.851585Z",
     "start_time": "2018-08-24T02:00:34.562244Z"
    }
   },
   "outputs": [],
   "source": [
    "rainc_1000 = phys_mfds['RAINC'].values\n",
    "rainnc_1000 = phys_mfds['RAINNC'].values"
   ]
  },
  {
   "cell_type": "markdown",
   "metadata": {},
   "source": [
    "# rain diffs for hourly"
   ]
  },
  {
   "cell_type": "code",
   "execution_count": 17,
   "metadata": {
    "ExecuteTime": {
     "end_time": "2018-08-24T02:00:35.927066Z",
     "start_time": "2018-08-24T02:00:35.859968Z"
    }
   },
   "outputs": [],
   "source": [
    "raintot_400 = rainc_400+rainnc_400\n",
    "raintot_1000 = rainc_1000+rainnc_1000"
   ]
  },
  {
   "cell_type": "code",
   "execution_count": 18,
   "metadata": {
    "ExecuteTime": {
     "end_time": "2018-08-24T02:00:36.131861Z",
     "start_time": "2018-08-24T02:00:35.935471Z"
    }
   },
   "outputs": [],
   "source": [
    "raintot_diffs_400 = numpy.zeros((raintot_400.shape))*numpy.nan\n",
    "raintot_diffs_1000 = numpy.zeros((raintot_1000.shape))*numpy.nan\n",
    "\n",
    "raintot_diffs_400[:-1,:,:] = numpy.diff(raintot_400, axis=0)\n",
    "raintot_diffs_1000[:-1,:,:] = numpy.diff(raintot_1000, axis=0)"
   ]
  },
  {
   "cell_type": "markdown",
   "metadata": {},
   "source": [
    "# raintot diffs"
   ]
  },
  {
   "cell_type": "code",
   "execution_count": 19,
   "metadata": {
    "ExecuteTime": {
     "end_time": "2018-08-24T02:00:36.161032Z",
     "start_time": "2018-08-24T02:00:36.140272Z"
    }
   },
   "outputs": [
    {
     "name": "stderr",
     "output_type": "stream",
     "text": [
      "/export/home/blangenb/miniconda3/lib/python3.6/site-packages/ipykernel_launcher.py:4: RuntimeWarning: Mean of empty slice\n",
      "  after removing the cwd from sys.path.\n",
      "/export/home/blangenb/miniconda3/lib/python3.6/site-packages/ipykernel_launcher.py:5: RuntimeWarning: Mean of empty slice\n",
      "  \"\"\"\n"
     ]
    }
   ],
   "source": [
    "raintot_diffs_400_latlon_subset_ama = raintot_diffs_400[:,latlon_indices_ama]\n",
    "raintot_diffs_1000_latlon_subset_ama = raintot_diffs_1000[:,latlon_indices_ama]\n",
    "\n",
    "raintot_diffs_400_latlon_mean_ama = numpy.nanmean(raintot_diffs_400_latlon_subset_ama, axis=1)\n",
    "raintot_diffs_1000_latlon_mean_ama = numpy.nanmean(raintot_diffs_1000_latlon_subset_ama, axis=1)"
   ]
  },
  {
   "cell_type": "code",
   "execution_count": 20,
   "metadata": {
    "ExecuteTime": {
     "end_time": "2018-08-24T02:00:36.293253Z",
     "start_time": "2018-08-24T02:00:36.169379Z"
    }
   },
   "outputs": [
    {
     "name": "stderr",
     "output_type": "stream",
     "text": [
      "/export/home/blangenb/miniconda3/lib/python3.6/site-packages/ipykernel_launcher.py:4: RuntimeWarning: Mean of empty slice\n",
      "  after removing the cwd from sys.path.\n",
      "/export/home/blangenb/miniconda3/lib/python3.6/site-packages/ipykernel_launcher.py:5: RuntimeWarning: Mean of empty slice\n",
      "  \"\"\"\n",
      "/export/home/blangenb/miniconda3/lib/python3.6/site-packages/ipykernel_launcher.py:10: RuntimeWarning: Mean of empty slice\n",
      "  # Remove the CWD from sys.path while we load stuff.\n",
      "/export/home/blangenb/miniconda3/lib/python3.6/site-packages/ipykernel_launcher.py:11: RuntimeWarning: Mean of empty slice\n",
      "  # This is added back by InteractiveShellApp.init_path()\n"
     ]
    }
   ],
   "source": [
    "raintot_diffs_400_latlon_subset_and = raintot_diffs_400[:,latlon_indices_and]\n",
    "raintot_diffs_1000_latlon_subset_and = raintot_diffs_1000[:,latlon_indices_and]\n",
    "\n",
    "raintot_diffs_400_latlon_mean_and = numpy.nanmean(raintot_diffs_400_latlon_subset_and, axis=1)\n",
    "raintot_diffs_1000_latlon_mean_and = numpy.nanmean(raintot_diffs_1000_latlon_subset_and, axis=1)\n",
    "\n",
    "raintot_diffs_400_latlon_subset_and_high = raintot_diffs_400[:,latlon_indices_and_high]\n",
    "raintot_diffs_1000_latlon_subset_and_high = raintot_diffs_1000[:,latlon_indices_and_high]\n",
    "\n",
    "raintot_diffs_400_latlon_mean_and_high = numpy.nanmean(raintot_diffs_400_latlon_subset_and_high, axis=1)\n",
    "raintot_diffs_1000_latlon_mean_and_high = numpy.nanmean(raintot_diffs_1000_latlon_subset_and_high, axis=1)"
   ]
  },
  {
   "cell_type": "markdown",
   "metadata": {},
   "source": [
    "# time periods:\n",
    "* Amazon:  8am to 8pm (AMtoPM) - daytime\n",
    "* Amazon:  8pm to 8am (PMtoAM) - overnight\n",
    "\n",
    "#### EDIT (2018/08/16):  USE 8am to 8pm for BOTH regions\n",
    "\n",
    "```\n",
    "IGNORE THIS:\n",
    "* Andes:  10am to 6pm (AMtoPM) - daytime\n",
    "* Andes:  6pm to 10am (PMtoAM) - overnight\n",
    "```"
   ]
  },
  {
   "cell_type": "raw",
   "metadata": {
    "ExecuteTime": {
     "end_time": "2018-08-16T18:54:05.370591Z",
     "start_time": "2018-08-16T18:54:05.295601Z"
    }
   },
   "source": [
    "time_indices_AMtoPM_ama = [t.hour in range(8,20) for t in time_datetimes_shifted_ama]\n",
    "time_indices_PMtoAM_ama = [(t.hour in range(20,24)) or (t.hour in range(0,8)) for t in time_datetimes_shifted_ama]\n",
    "\n",
    "time_indices_AMtoPM_and = [t.hour in range(10,18) for t in time_datetimes_shifted_and]\n",
    "time_indices_PMtoAM_and = [(t.hour in range(18,24)) or (t.hour in range(0,10)) for t in time_datetimes_shifted_and]"
   ]
  },
  {
   "cell_type": "code",
   "execution_count": 21,
   "metadata": {
    "ExecuteTime": {
     "end_time": "2018-08-24T02:00:36.444110Z",
     "start_time": "2018-08-24T02:00:36.301377Z"
    }
   },
   "outputs": [],
   "source": [
    "time_indices_AMtoPM_ama = [t.hour in range(8,20) for t in time_datetimes_shifted_ama]\n",
    "time_indices_PMtoAM_ama = [(t.hour in range(20,24)) or (t.hour in range(0,8)) for t in time_datetimes_shifted_ama]\n",
    "\n",
    "time_indices_AMtoPM_and = [t.hour in range(8,20) for t in time_datetimes_shifted_and]\n",
    "time_indices_PMtoAM_and = [(t.hour in range(20,24)) or (t.hour in range(0,8)) for t in time_datetimes_shifted_and]"
   ]
  },
  {
   "cell_type": "markdown",
   "metadata": {},
   "source": [
    "calculate difference percentages"
   ]
  },
  {
   "cell_type": "code",
   "execution_count": 22,
   "metadata": {
    "ExecuteTime": {
     "end_time": "2018-08-24T02:00:36.626840Z",
     "start_time": "2018-08-24T02:00:36.452689Z"
    }
   },
   "outputs": [],
   "source": [
    "raintot_diffs_400_AMtoPM_ama = (12/24)*numpy.nanmean(raintot_diffs_400_latlon_subset_ama[time_indices_AMtoPM_ama])\n",
    "raintot_diffs_400_PMtoAM_ama = (12/24)*numpy.nanmean(raintot_diffs_400_latlon_subset_ama[time_indices_PMtoAM_ama])\n",
    "\n",
    "raintot_diffs_1000_AMtoPM_ama = (12/24)*numpy.nanmean(raintot_diffs_1000_latlon_subset_ama[time_indices_AMtoPM_ama])\n",
    "raintot_diffs_1000_PMtoAM_ama = (12/24)*numpy.nanmean(raintot_diffs_1000_latlon_subset_ama[time_indices_PMtoAM_ama])\n",
    "\n",
    "raintot_diffs_400_timemean_ama = numpy.nanmean(raintot_diffs_400_latlon_subset_ama)\n",
    "raintot_diffs_1000_timemean_ama = numpy.nanmean(raintot_diffs_1000_latlon_subset_ama)"
   ]
  },
  {
   "cell_type": "raw",
   "metadata": {
    "ExecuteTime": {
     "end_time": "2018-08-16T19:03:50.166163Z",
     "start_time": "2018-08-16T19:03:50.150382Z"
    }
   },
   "source": [
    "raintot_diffs_400_AMtoPM_and = (8/24)*numpy.nanmean(raintot_diffs_400_latlon_subset_and[time_indices_AMtoPM_and])\n",
    "raintot_diffs_400_PMtoAM_and = (16/24)*numpy.nanmean(raintot_diffs_400_latlon_subset_and[time_indices_PMtoAM_and])\n",
    "\n",
    "raintot_diffs_1000_AMtoPM_and = (8/24)*numpy.nanmean(raintot_diffs_1000_latlon_subset_and[time_indices_AMtoPM_and])\n",
    "raintot_diffs_1000_PMtoAM_and = (16/24)*numpy.nanmean(raintot_diffs_1000_latlon_subset_and[time_indices_PMtoAM_and])\n",
    "\n",
    "raintot_diffs_400_timemean_and = numpy.nanmean(raintot_diffs_400_latlon_subset_and)\n",
    "raintot_diffs_1000_timemean_and = numpy.nanmean(raintot_diffs_1000_latlon_subset_and)"
   ]
  },
  {
   "cell_type": "code",
   "execution_count": 23,
   "metadata": {
    "ExecuteTime": {
     "end_time": "2018-08-24T02:00:36.719564Z",
     "start_time": "2018-08-24T02:00:36.635762Z"
    }
   },
   "outputs": [],
   "source": [
    "raintot_diffs_400_AMtoPM_and = (12/24)*numpy.nanmean(raintot_diffs_400_latlon_subset_and[time_indices_AMtoPM_and])\n",
    "raintot_diffs_400_PMtoAM_and = (12/24)*numpy.nanmean(raintot_diffs_400_latlon_subset_and[time_indices_PMtoAM_and])\n",
    "\n",
    "raintot_diffs_1000_AMtoPM_and = (12/24)*numpy.nanmean(raintot_diffs_1000_latlon_subset_and[time_indices_AMtoPM_and])\n",
    "raintot_diffs_1000_PMtoAM_and = (12/24)*numpy.nanmean(raintot_diffs_1000_latlon_subset_and[time_indices_PMtoAM_and])\n",
    "\n",
    "raintot_diffs_400_timemean_and = numpy.nanmean(raintot_diffs_400_latlon_subset_and)\n",
    "raintot_diffs_1000_timemean_and = numpy.nanmean(raintot_diffs_1000_latlon_subset_and)"
   ]
  },
  {
   "cell_type": "code",
   "execution_count": 24,
   "metadata": {
    "ExecuteTime": {
     "end_time": "2018-08-24T02:00:36.817408Z",
     "start_time": "2018-08-24T02:00:36.727855Z"
    }
   },
   "outputs": [],
   "source": [
    "raintot_diffs_400_AMtoPM_and_high = (12/24)*numpy.nanmean(raintot_diffs_400_latlon_subset_and_high[time_indices_AMtoPM_and])\n",
    "raintot_diffs_400_PMtoAM_and_high = (12/24)*numpy.nanmean(raintot_diffs_400_latlon_subset_and_high[time_indices_PMtoAM_and])\n",
    "\n",
    "raintot_diffs_1000_AMtoPM_and_high = (12/24)*numpy.nanmean(raintot_diffs_1000_latlon_subset_and_high[time_indices_AMtoPM_and])\n",
    "raintot_diffs_1000_PMtoAM_and_high = (12/24)*numpy.nanmean(raintot_diffs_1000_latlon_subset_and_high[time_indices_PMtoAM_and])\n",
    "\n",
    "raintot_diffs_400_timemean_and_high = numpy.nanmean(raintot_diffs_400_latlon_subset_and_high)\n",
    "raintot_diffs_1000_timemean_and_high = numpy.nanmean(raintot_diffs_1000_latlon_subset_and_high)"
   ]
  },
  {
   "cell_type": "code",
   "execution_count": 25,
   "metadata": {
    "ExecuteTime": {
     "end_time": "2018-08-24T02:00:36.914717Z",
     "start_time": "2018-08-24T02:00:36.825639Z"
    }
   },
   "outputs": [],
   "source": [
    "and_total_diff = raintot_diffs_1000_timemean_and-raintot_diffs_400_timemean_and\n",
    "and_AMtoPM_diff = raintot_diffs_1000_AMtoPM_and-raintot_diffs_400_AMtoPM_and\n",
    "and_PMtoAM_diff = raintot_diffs_1000_PMtoAM_and-raintot_diffs_400_PMtoAM_and"
   ]
  },
  {
   "cell_type": "code",
   "execution_count": 26,
   "metadata": {
    "ExecuteTime": {
     "end_time": "2018-08-24T02:00:37.253619Z",
     "start_time": "2018-08-24T02:00:36.923016Z"
    }
   },
   "outputs": [],
   "source": [
    "and_high_total_diff = raintot_diffs_1000_timemean_and_high-raintot_diffs_400_timemean_and_high\n",
    "and_high_AMtoPM_diff = raintot_diffs_1000_AMtoPM_and_high-raintot_diffs_400_AMtoPM_and_high\n",
    "and_high_PMtoAM_diff = raintot_diffs_1000_PMtoAM_and_high-raintot_diffs_400_PMtoAM_and_high"
   ]
  },
  {
   "cell_type": "code",
   "execution_count": 27,
   "metadata": {
    "ExecuteTime": {
     "end_time": "2018-08-24T02:00:37.513099Z",
     "start_time": "2018-08-24T02:00:37.261985Z"
    }
   },
   "outputs": [],
   "source": [
    "ama_total_diff = raintot_diffs_1000_timemean_ama-raintot_diffs_400_timemean_ama\n",
    "ama_AMtoPM_diff = raintot_diffs_1000_AMtoPM_ama-raintot_diffs_400_AMtoPM_ama\n",
    "ama_PMtoAM_diff = (raintot_diffs_1000_PMtoAM_ama-raintot_diffs_400_PMtoAM_ama)"
   ]
  },
  {
   "cell_type": "code",
   "execution_count": 28,
   "metadata": {
    "ExecuteTime": {
     "end_time": "2018-08-24T02:00:37.594536Z",
     "start_time": "2018-08-24T02:00:37.521438Z"
    }
   },
   "outputs": [],
   "source": [
    "orange_cmap = seaborn.color_palette('Oranges', 6)\n",
    "blue_cmap = seaborn.color_palette('Blues', 6)"
   ]
  },
  {
   "cell_type": "code",
   "execution_count": 29,
   "metadata": {
    "ExecuteTime": {
     "end_time": "2018-08-24T02:00:37.666953Z",
     "start_time": "2018-08-24T02:00:37.601477Z"
    }
   },
   "outputs": [],
   "source": [
    "class Handler(object):\n",
    "    def __init__(self, color1, color2):\n",
    "        self.color1=color1\n",
    "        self.color2=color2\n",
    "    def legend_artist(self, legend, orig_handle, fontsize, handlebox):\n",
    "        x0, y0 = handlebox.xdescent, handlebox.ydescent\n",
    "        width, height = handlebox.width, handlebox.height\n",
    "        patch = mp.Rectangle([x0, y0], width, height, facecolor=self.color1,\n",
    "                                   edgecolor='None', transform=handlebox.get_transform())\n",
    "        patch2 = mp.Rectangle([x0+width/2., y0], width/2., height, facecolor=self.color2,\n",
    "                                   edgecolor='None', transform=handlebox.get_transform())\n",
    "        handlebox.add_artist(patch)\n",
    "        handlebox.add_artist(patch2)\n",
    "        return patch"
   ]
  },
  {
   "cell_type": "code",
   "execution_count": null,
   "metadata": {},
   "outputs": [],
   "source": []
  },
  {
   "cell_type": "code",
   "execution_count": 30,
   "metadata": {
    "ExecuteTime": {
     "end_time": "2018-08-24T02:00:38.517623Z",
     "start_time": "2018-08-24T02:00:37.675916Z"
    }
   },
   "outputs": [
    {
     "data": {
      "text/plain": [
       "<matplotlib.legend.Legend at 0x2aaeb2a790b8>"
      ]
     },
     "execution_count": 30,
     "metadata": {},
     "output_type": "execute_result"
    },
    {
     "data": {
      "image/png": "[encoded data removed]",
      "text/plain": [
       "<Figure size 306x234 with 1 Axes>"
      ]
     },
     "metadata": {},
     "output_type": "display_data"
    }
   ],
   "source": [
    "fontsize = 12\n",
    "fig = mp.figure(figsize=(4.25,3.25))\n",
    "\n",
    "ax = fig.add_subplot(111)\n",
    "ax.tick_params(labelsize=fontsize)\n",
    "\n",
    "loc1=1\n",
    "loc2=2\n",
    "loc3=3.25\n",
    "loc4=4.25\n",
    "barwidth = .75\n",
    "\n",
    "ax.set_xlim(loc1-.75,loc4+.75)\n",
    "ax.bar(loc1,raintot_diffs_400_PMtoAM_and*24.,fc=blue_cmap[-1],width=barwidth)\n",
    "ax.bar(loc1,raintot_diffs_400_AMtoPM_and*24.,bottom=raintot_diffs_400_PMtoAM_and*24.,fc=orange_cmap[-1],width=barwidth)\n",
    "\n",
    "ax.bar(loc2,raintot_diffs_1000_PMtoAM_and*24.,fc=blue_cmap[-3],width=barwidth)\n",
    "ax.bar(loc2,raintot_diffs_1000_AMtoPM_and*24.,bottom=raintot_diffs_1000_PMtoAM_and*24.,fc=orange_cmap[-3],width=barwidth)\n",
    "\n",
    "ax.set_xticklabels([])\n",
    "ax.set_xticks([loc1,loc2,loc3,loc4])\n",
    "\n",
    "ax.bar(loc3,raintot_diffs_400_PMtoAM_ama*24.,fc=blue_cmap[-1],width=barwidth)\n",
    "ax.bar(loc3,raintot_diffs_400_AMtoPM_ama*24.,bottom=raintot_diffs_400_PMtoAM_ama*24.,fc=orange_cmap[-1],width=barwidth)\n",
    "\n",
    "ax.bar(loc4,raintot_diffs_1000_PMtoAM_ama*24.,fc=blue_cmap[-3],width=barwidth)\n",
    "ax.bar(loc4,raintot_diffs_1000_AMtoPM_ama*24.,bottom=raintot_diffs_1000_PMtoAM_ama*24.,fc=orange_cmap[-3],width=barwidth)\n",
    "\n",
    "ax.set_yticks([0,2,4,6,8,10])\n",
    "ax.set_ylabel('mm day$^{\\,-1}$', fontsize=fontsize)\n",
    "\n",
    "ax.text(s='cont.',x=loc1,y=-.25,fontsize=fontsize,ha='center',va='top')\n",
    "ax.text(s='phys.',x=loc2,y=-.25,fontsize=fontsize,ha='center',va='top')\n",
    "ax.text(s='cont.',x=loc3,y=-.25,fontsize=fontsize,ha='center',va='top')\n",
    "ax.text(s='phys.',x=loc4,y=-.25,fontsize=fontsize,ha='center',va='top')\n",
    "ax.text(s='Andes',x=.5*(loc1+loc2),y=-1.25,fontsize=fontsize,ha='center',va='top')\n",
    "ax.text(s='Amazon',x=.5*(loc3+loc4),y=-1.25,fontsize=fontsize,ha='center',va='top')\n",
    "\n",
    "\n",
    "# andes night\n",
    "fraction = and_PMtoAM_diff/and_total_diff\n",
    "y0 = 0\n",
    "y1 = raintot_diffs_1000_PMtoAM_and*24\n",
    "ax.text(s='{:.0f}'.format(fraction*100.)+'%',x=loc2,y=0.5*(y0+y1),ha='center',va='center',fontsize=fontsize,color='1')\n",
    "# andes day\n",
    "fraction = and_AMtoPM_diff/and_total_diff\n",
    "y0 = raintot_diffs_1000_PMtoAM_and*24\n",
    "y1 = (raintot_diffs_1000_PMtoAM_and+raintot_diffs_1000_AMtoPM_and)*24\n",
    "ax.text(s='{:.0f}'.format(fraction*100.)+'%',x=loc2,y=0.5*(y0+y1),ha='center',va='center',fontsize=fontsize,color='1')\n",
    "\n",
    "\n",
    "# amazon night\n",
    "fraction = -ama_PMtoAM_diff/ama_total_diff\n",
    "y0 = 0\n",
    "y1 = raintot_diffs_1000_PMtoAM_ama*24\n",
    "ax.text(s='{:.0f}'.format(fraction*100.)+'%',x=loc4,y=0.5*(y0+y1),ha='center',va='center',fontsize=fontsize,color='1')\n",
    "# amazon day\n",
    "fraction = -ama_AMtoPM_diff/ama_total_diff\n",
    "y0 = raintot_diffs_1000_PMtoAM_ama*24\n",
    "y1 = (raintot_diffs_1000_AMtoPM_ama+raintot_diffs_1000_PMtoAM_ama)*24\n",
    "ax.text(s='{:.0f}'.format(fraction*100.)+'%',x=loc4,y=0.5*(y0+y1),ha='center',va='center',fontsize=fontsize,color='1')\n",
    "\n",
    "\n",
    "handles = [mp.Rectangle((0,0),1,1) for i  in range(2)]\n",
    "colors = [[blue_cmap[-1],blue_cmap[-3]],[orange_cmap[-1],orange_cmap[-3]]]\n",
    "hmap = dict(zip(handles, [Handler(color_list[0],color_list[1]) for color_list in colors] ))\n",
    "\n",
    "labels = ['night', 'day']\n",
    "ax.legend(handles=handles, labels=labels, handler_map=hmap, fontsize=fontsize,\\\n",
    "          loc='upper right', bbox_to_anchor=(.95,.95), borderaxespad=0, labelspacing=0.5, fancybox=False, \\\n",
    "          edgecolor='0', framealpha=0, borderpad=0.25, handletextpad=0.5)"
   ]
  },
  {
   "cell_type": "markdown",
   "metadata": {},
   "source": [
    "# big panel plot"
   ]
  },
  {
   "cell_type": "code",
   "execution_count": 31,
   "metadata": {
    "ExecuteTime": {
     "end_time": "2018-08-24T02:00:39.573284Z",
     "start_time": "2018-08-24T02:00:38.525930Z"
    }
   },
   "outputs": [
    {
     "data": {
      "text/plain": [
       "Text(0.055,0.95,'(e)')"
      ]
     },
     "execution_count": 31,
     "metadata": {},
     "output_type": "execute_result"
    },
    {
     "data": {
      "image/png": "[encoded data removed]",
      "text/plain": [
       "<Figure size 612x288 with 5 Axes>"
      ]
     },
     "metadata": {},
     "output_type": "display_data"
    }
   ],
   "source": [
    "fontsize = 12\n",
    "\n",
    "fig = mp.figure(figsize=(8.5,4))\n",
    "\n",
    "gs = matplotlib.gridspec.GridSpec(4,2,width_ratios=[1,2])\n",
    "\n",
    "\n",
    "ax1 = fig.add_subplot(gs[0,1])\n",
    "ax1.plot(numpy.arange(raintot_diffs_400_latlon_mean_and.size)-5, raintot_diffs_400_latlon_mean_and,\\\n",
    "       color='0.1',lw=1,label='cont.')\n",
    "ax1.plot(numpy.arange(raintot_diffs_400_latlon_mean_and.size)-5, raintot_diffs_1000_latlon_mean_and,\\\n",
    "       color='firebrick',lw=1,label='phys.')\n",
    "ax1.tick_params(labelsize=fontsize)\n",
    "ax1.set_ylabel('mm h$^{\\,-1}$', fontsize=fontsize, rotation=-90)\n",
    "ax1.yaxis.set_label_coords(1.1,0.5)\n",
    "ax1.yaxis.tick_right()\n",
    "ax1.set_xticks(numpy.arange(0,241,24))\n",
    "ax1.set_xlim(0,240)\n",
    "handles, labels = ax1.get_legend_handles_labels()\n",
    "ax1.set_xticks(numpy.arange(15,241,24), minor=True)\n",
    "ax1.xaxis.grid(which='minor')\n",
    "ax1.tick_params(axis='x',which='minor',bottom=False,labelbottom=False)\n",
    "#ax1.set_ylim(-.2,ax1.get_ylim()[1])\n",
    "ax1.set_ylim(ax1.get_ylim()[0],1.3)\n",
    "\n",
    "\n",
    "ax2 = fig.add_subplot(gs[1,1], sharex=ax1)\n",
    "ax2.plot(numpy.arange(raintot_diffs_400_latlon_mean_and.size)-5, (raintot_diffs_1000_latlon_mean_and-raintot_diffs_400_latlon_mean_and),\\\n",
    "       color='0.5',lw=1,label='diff.',zorder=3)\n",
    "ax2.tick_params(labelsize=fontsize)\n",
    "ax2.set_ylabel('mm h$^{\\,-1}$', fontsize=fontsize, rotation=-90)\n",
    "ax2.yaxis.set_label_coords(1.1,0.5)\n",
    "ax2.yaxis.tick_right()\n",
    "ax2.set_xticks(numpy.arange(0,241,24))\n",
    "#ax2.set_yticks([-.05,0,.05])\n",
    "ax2.set_xlim(0,240)\n",
    "ax2.axhline(0, lw=1, ls='--', c='0.1')\n",
    "ax2.set_xticks(numpy.arange(18,241,24), minor=True)\n",
    "ax2.xaxis.grid(which='minor')\n",
    "ax2.tick_params(axis='x',which='minor',bottom=False,labelbottom=False)\n",
    "ax2.set_ylim(-.15,.15)\n",
    "\n",
    "ax3 = fig.add_subplot(gs[2,1], sharex=ax1)\n",
    "ax3.plot(numpy.arange(raintot_diffs_400_latlon_mean_ama.size)-4, raintot_diffs_400_latlon_mean_ama,\\\n",
    "       color='0.1',lw=1,label='cont.')\n",
    "ax3.plot(numpy.arange(raintot_diffs_400_latlon_mean_ama.size)-4, raintot_diffs_1000_latlon_mean_ama,\\\n",
    "       color='firebrick',lw=1,label='phys.')\n",
    "ax3.tick_params(labelsize=fontsize)\n",
    "ax3.set_ylabel('mm h$^{\\,-1}$', fontsize=fontsize, rotation=-90)\n",
    "ax3.yaxis.set_label_coords(1.1,0.5)\n",
    "ax3.yaxis.tick_right()\n",
    "ax3.set_xticks(numpy.arange(0,241,24))\n",
    "ax3.set_xlim(0,240)\n",
    "ax3.xaxis.grid(which='minor')\n",
    "ax3.tick_params(axis='x',which='minor',bottom=False,labelbottom=False)\n",
    "handles, labels = ax3.get_legend_handles_labels()\n",
    "ax3.legend(handles, labels, fontsize=fontsize, scatterpoints=1, \\\n",
    "          ncol=2, bbox_to_anchor=(.99,.95), bbox_transform=ax3.transAxes, \\\n",
    "          loc='upper right', borderaxespad=0, labelspacing=0.25, fancybox=False, \\\n",
    "          edgecolor='0', framealpha=0, borderpad=0.25, columnspacing=0.5, \\\n",
    "          handletextpad=0.25, markerscale=1)\n",
    "ax3.set_xticks(numpy.arange(15,241,24), minor=True)\n",
    "\n",
    "\n",
    "\n",
    "ax4 = fig.add_subplot(gs[3,1], sharex=ax1)\n",
    "ax4.plot(numpy.arange(raintot_diffs_400_latlon_mean_ama.size)-4, (raintot_diffs_1000_latlon_mean_ama-raintot_diffs_400_latlon_mean_ama),\\\n",
    "       color='0.5',lw=1,label='diff.')\n",
    "ax4.tick_params(labelsize=fontsize)\n",
    "ax4.set_ylabel('mm h$^{\\,-1}$', fontsize=fontsize, rotation=-90)\n",
    "ax4.yaxis.set_label_coords(1.1,0.5)\n",
    "ax4.yaxis.tick_right()\n",
    "ax4.set_xticks(numpy.arange(0,241,24))\n",
    "ax4.set_xlim(0,240)\n",
    "handles, labels = ax4.get_legend_handles_labels()\n",
    "ax4.legend(handles, labels, fontsize=fontsize, scatterpoints=1, \\\n",
    "          ncol=1, bbox_to_anchor=(.99,.05), bbox_transform=ax4.transAxes, \\\n",
    "          loc='lower right', borderaxespad=0, labelspacing=0.25, fancybox=False, \\\n",
    "          edgecolor='0', framealpha=0, borderpad=0.25, columnspacing=0.5, \\\n",
    "          handletextpad=0.25, markerscale=1)\n",
    "ax4.set_xticks(numpy.arange(15,241,24), minor=True)\n",
    "ax4.xaxis.grid(which='minor')\n",
    "ax4.tick_params(axis='x',which='minor',bottom=False,labelbottom=False)\n",
    "ax4.axhline(0, lw=1, ls='--', c='0.1')\n",
    "ax4.set_ylim(ax4.get_ylim()[0],0.13)\n",
    "ax4.set_xlabel('hour', fontsize=fontsize)\n",
    "#ax4.set_xticklabels(ax4.get_xticks())\n",
    "\n",
    "################################################################################\n",
    "################################################################################\n",
    "ax = fig.add_subplot(gs[:,0])\n",
    "ax.tick_params(labelsize=fontsize)\n",
    "loc1=1\n",
    "loc2=2\n",
    "loc3=3.25\n",
    "loc4=4.25\n",
    "barwidth = .85\n",
    "\n",
    "ax.set_xlim(loc1-.75,loc4+.75)\n",
    "ax.bar(loc1,raintot_diffs_400_PMtoAM_and*24.,fc=blue_cmap[-1],width=barwidth)\n",
    "ax.bar(loc1,raintot_diffs_400_AMtoPM_and*24.,bottom=raintot_diffs_400_PMtoAM_and*24.,fc=orange_cmap[-1],width=barwidth)\n",
    "ax.bar(loc2,raintot_diffs_1000_PMtoAM_and*24.,fc=blue_cmap[-3],width=barwidth)\n",
    "ax.bar(loc2,raintot_diffs_1000_AMtoPM_and*24.,bottom=raintot_diffs_1000_PMtoAM_and*24.,fc=orange_cmap[-3],width=barwidth)\n",
    "ax.set_xticklabels([])\n",
    "ax.set_xticks([loc1,loc2,loc3,loc4])\n",
    "ax.bar(loc3,raintot_diffs_400_PMtoAM_ama*24.,fc=blue_cmap[-1],width=barwidth)\n",
    "ax.bar(loc3,raintot_diffs_400_AMtoPM_ama*24.,bottom=raintot_diffs_400_PMtoAM_ama*24.,fc=orange_cmap[-1],width=barwidth)\n",
    "ax.bar(loc4,raintot_diffs_1000_PMtoAM_ama*24.,fc=blue_cmap[-3],width=barwidth)\n",
    "ax.bar(loc4,raintot_diffs_1000_AMtoPM_ama*24.,bottom=raintot_diffs_1000_PMtoAM_ama*24.,fc=orange_cmap[-3],width=barwidth)\n",
    "ax.set_yticks([0,2,4,6,8,10])\n",
    "ax.set_ylabel('mm day$^{\\,-1}$', fontsize=fontsize)\n",
    "ax.spines['top'].set_visible(False)\n",
    "ax.spines['right'].set_visible(False)\n",
    "ax.set_ylim(0,10)\n",
    "\n",
    "ax.set_xticklabels(['cont.','phys.','cont.','phys.'])\n",
    "ax.text(s='Andes',x=.5*(loc1+loc2),y=-1,fontsize=fontsize,ha='center',va='top')\n",
    "ax.text(s='Amazon',x=.5*(loc3+loc4),y=-1,fontsize=fontsize,ha='center',va='top')\n",
    "# andes night\n",
    "fraction = and_PMtoAM_diff/and_total_diff\n",
    "y0 = 0\n",
    "y1 = raintot_diffs_1000_PMtoAM_and*24\n",
    "ax.text(s='{:.0f}'.format(fraction*100.)+'%',x=loc2,y=0.5*(y0+y1),ha='center',va='center',fontsize=fontsize,color='0.1')\n",
    "# andes day\n",
    "fraction = and_AMtoPM_diff/and_total_diff\n",
    "y0 = raintot_diffs_1000_PMtoAM_and*24\n",
    "y1 = (raintot_diffs_1000_PMtoAM_and+raintot_diffs_1000_AMtoPM_and)*24\n",
    "ax.text(s='{:.0f}'.format(fraction*100.)+'%',x=loc2,y=0.5*(y0+y1),ha='center',va='center',fontsize=fontsize,color='0.1')\n",
    "# amazon night\n",
    "fraction = -ama_PMtoAM_diff/ama_total_diff\n",
    "y0 = 0\n",
    "y1 = raintot_diffs_1000_PMtoAM_ama*24\n",
    "ax.text(s='{:.0f}'.format(fraction*100.)+'%',x=loc4,y=0.5*(y0+y1),ha='center',va='center',fontsize=fontsize,color='0.1')\n",
    "# amazon day\n",
    "fraction = -ama_AMtoPM_diff/ama_total_diff\n",
    "y0 = raintot_diffs_1000_PMtoAM_ama*24\n",
    "y1 = (raintot_diffs_1000_AMtoPM_ama+raintot_diffs_1000_PMtoAM_ama)*24\n",
    "ax.text(s='{:.0f}'.format(fraction*100.)+'%',x=loc4,y=0.5*(y0+y1),ha='center',va='center',fontsize=fontsize,color='0.1')\n",
    "\n",
    "handles = [mp.Rectangle((0,0),1,1) for i  in range(2)]\n",
    "colors = [[blue_cmap[-1],blue_cmap[-3]],[orange_cmap[-1],orange_cmap[-3]]]\n",
    "hmap = dict(zip(handles, [Handler(color_list[0],color_list[1]) for color_list in colors] ))\n",
    "labels = ['night', 'day']\n",
    "ax.legend(handles=handles, labels=labels, handler_map=hmap, fontsize=fontsize,\\\n",
    "          loc='upper right', bbox_to_anchor=(.95,.95), borderaxespad=0, labelspacing=0.5, fancybox=False, \\\n",
    "          edgecolor='0', framealpha=0, borderpad=0.25, handletextpad=0.5)\n",
    "\n",
    "mp.setp(ax1.get_xticklabels(), visible=False)\n",
    "mp.setp(ax2.get_xticklabels(), visible=False)\n",
    "mp.setp(ax3.get_xticklabels(), visible=False)\n",
    "\n",
    "fig.tight_layout()\n",
    "gs.update(hspace=0.,wspace=0.05)\n",
    "\n",
    "ax1.text(s='Andes', x=285, y=ax1.get_ylim()[0],\\\n",
    "        ha='center',va='center',rotation=-90, fontsize=fontsize)\n",
    "\n",
    "ax3.text(s='Amazon', x=285, y=ax3.get_ylim()[0],\\\n",
    "        ha='center',va='center',rotation=-90, fontsize=fontsize)\n",
    "\n",
    "\n",
    "ax.text(s='(a) Mean regional precip.', x=0, y=1.02, fontsize=fontsize, ha='left', va='bottom', transform=ax.transAxes)\n",
    "ax1.text(s='(b)', x=0.055, y=0.95, ha='right', va='top', fontsize=fontsize, transform=ax1.transAxes)\n",
    "ax2.text(s='(c)', x=0.055, y=0.95, ha='right', va='top', fontsize=fontsize, transform=ax2.transAxes)\n",
    "ax3.text(s='(d)', x=0.055, y=0.95, ha='right', va='top', fontsize=fontsize, transform=ax3.transAxes)\n",
    "ax4.text(s='(e)', x=0.055, y=0.95, ha='right', va='top', fontsize=fontsize, transform=ax4.transAxes)\n",
    "\n",
    "#fig.savefig('precip_change_and_percentages_daynight.png', dpi=600, bbox_inches='tight', transparent=True)\n",
    "\n"
   ]
  },
  {
   "cell_type": "markdown",
   "metadata": {},
   "source": [
    "# also do for precip over mountainous areas ONLY"
   ]
  },
  {
   "cell_type": "code",
   "execution_count": 32,
   "metadata": {
    "ExecuteTime": {
     "end_time": "2018-08-24T02:00:39.593920Z",
     "start_time": "2018-08-24T02:00:39.582531Z"
    }
   },
   "outputs": [],
   "source": [
    "mp.rcParams.update({'mathtext.default': 'regular'})"
   ]
  },
  {
   "cell_type": "code",
   "execution_count": 33,
   "metadata": {
    "ExecuteTime": {
     "end_time": "2018-08-24T02:00:41.627525Z",
     "start_time": "2018-08-24T02:00:39.596743Z"
    }
   },
   "outputs": [
    {
     "data": {
      "image/png": "[encoded data removed]",
      "text/plain": [
       "<Figure size 612x288 with 5 Axes>"
      ]
     },
     "metadata": {},
     "output_type": "display_data"
    }
   ],
   "source": [
    "fontsize = 12\n",
    "\n",
    "fig = mp.figure(figsize=(8.5,4))\n",
    "\n",
    "gs = matplotlib.gridspec.GridSpec(4,2,width_ratios=[1,2.5])\n",
    "\n",
    "\n",
    "ax1 = fig.add_subplot(gs[0,1])\n",
    "ax1.plot(numpy.arange(raintot_diffs_400_latlon_mean_and_high.size)-5, raintot_diffs_400_latlon_mean_and_high,\\\n",
    "       color='0.1',lw=1,label='cont.')\n",
    "ax1.plot(numpy.arange(raintot_diffs_400_latlon_mean_and_high.size)-5, raintot_diffs_1000_latlon_mean_and_high,\\\n",
    "       color='firebrick',lw=1,label='phys.')\n",
    "ax1.tick_params(labelsize=fontsize)\n",
    "# ax1.set_ylabel('mm h$^{\\,-1}$', fontsize=fontsize, rotation=-90)\n",
    "ax1.yaxis.set_label_coords(1.1,0.5)\n",
    "ax1.yaxis.tick_right()\n",
    "ax1.set_xticks(numpy.arange(0,241,24))\n",
    "ax1.set_xlim(0,240)\n",
    "handles, labels = ax1.get_legend_handles_labels()\n",
    "ax1.set_xticks(numpy.arange(15,241,24), minor=True)\n",
    "ax1.xaxis.grid(which='minor')\n",
    "ax1.tick_params(axis='x',which='minor',bottom=False,labelbottom=False)\n",
    "ax1.set_ylim(-.3,ax1.get_ylim()[1])\n",
    "#ax1.set_ylim(-.5,ax1.get_ylim()[1])\n",
    "\n",
    "\n",
    "ax2 = fig.add_subplot(gs[1,1], sharex=ax1)\n",
    "ax2.plot(numpy.arange(raintot_diffs_400_latlon_mean_and_high.size)-5, (raintot_diffs_1000_latlon_mean_and_high-raintot_diffs_400_latlon_mean_and_high),\\\n",
    "       color='0.5',lw=1,label='diff.',zorder=3)\n",
    "ax2.tick_params(labelsize=fontsize)\n",
    "# ax2.set_ylabel('mm h$^{\\,-1}$', fontsize=fontsize, rotation=-90)\n",
    "ax2.yaxis.set_label_coords(1.1,0.5)\n",
    "ax2.yaxis.tick_right()\n",
    "ax2.set_xticks(numpy.arange(0,241,24))\n",
    "#ax2.set_yticks([-.05,0,.05])\n",
    "ax2.set_xlim(0,240)\n",
    "ax2.axhline(0, lw=1, ls='--', c='0.1')\n",
    "ax2.set_xticks(numpy.arange(18,241,24), minor=True)\n",
    "ax2.xaxis.grid(which='minor')\n",
    "ax2.tick_params(axis='x',which='minor',bottom=False,labelbottom=False)\n",
    "ax2.set_ylim(ax2.get_ylim()[0],.23)\n",
    "\n",
    "ax3 = fig.add_subplot(gs[2,1], sharex=ax1)\n",
    "ax3.plot(numpy.arange(raintot_diffs_400_latlon_mean_ama.size)-4, raintot_diffs_400_latlon_mean_ama,\\\n",
    "       color='0.1',lw=1,label='cont.')\n",
    "ax3.plot(numpy.arange(raintot_diffs_400_latlon_mean_ama.size)-4, raintot_diffs_1000_latlon_mean_ama,\\\n",
    "       color='firebrick',lw=1,label='phys.')\n",
    "ax3.tick_params(labelsize=fontsize)\n",
    "# ax3.set_ylabel('mm h$^{\\,-1}$', fontsize=fontsize, rotation=-90)\n",
    "ax3.yaxis.set_label_coords(1.1,0.5)\n",
    "ax3.yaxis.tick_right()\n",
    "ax3.set_xticks(numpy.arange(0,241,24))\n",
    "ax3.set_xlim(0,240)\n",
    "ax3.xaxis.grid(which='minor')\n",
    "ax3.tick_params(axis='x',which='minor',bottom=False,labelbottom=False)\n",
    "handles, labels = ax3.get_legend_handles_labels()\n",
    "ax3.legend(handles, labels, fontsize=fontsize, scatterpoints=1, \\\n",
    "          ncol=2, bbox_to_anchor=(.99,.95), bbox_transform=ax3.transAxes, \\\n",
    "          loc='upper right', borderaxespad=0, labelspacing=0.25, fancybox=False, \\\n",
    "          edgecolor='0', framealpha=0, borderpad=0.25, columnspacing=0.5, \\\n",
    "          handletextpad=0.25, markerscale=1)\n",
    "ax3.set_xticks(numpy.arange(15,241,24), minor=True)\n",
    "\n",
    "\n",
    "\n",
    "ax4 = fig.add_subplot(gs[3,1], sharex=ax1)\n",
    "ax4.plot(numpy.arange(raintot_diffs_400_latlon_mean_ama.size)-4, (raintot_diffs_1000_latlon_mean_ama-raintot_diffs_400_latlon_mean_ama),\\\n",
    "       color='0.5',lw=1,label='diff.')\n",
    "ax4.tick_params(labelsize=fontsize)\n",
    "# ax4.set_ylabel('mm h$^{\\,-1}$', fontsize=fontsize, rotation=-90)\n",
    "ax4.yaxis.set_label_coords(1.1,0.5)\n",
    "ax4.yaxis.tick_right()\n",
    "ax4.set_xticks(numpy.arange(0,241,24))\n",
    "ax4.set_xlim(0,240)\n",
    "handles, labels = ax4.get_legend_handles_labels()\n",
    "ax4.legend(handles, labels, fontsize=fontsize, scatterpoints=1, \\\n",
    "          ncol=1, bbox_to_anchor=(.99,.05), bbox_transform=ax4.transAxes, \\\n",
    "          loc='lower right', borderaxespad=0, labelspacing=0.25, fancybox=False, \\\n",
    "          edgecolor='0', framealpha=0, borderpad=0.25, columnspacing=0.5, \\\n",
    "          handletextpad=0.25, markerscale=1)\n",
    "ax4.set_xticks(numpy.arange(15,241,24), minor=True)\n",
    "ax4.xaxis.grid(which='minor')\n",
    "ax4.tick_params(axis='x',which='minor',bottom=False,labelbottom=False)\n",
    "ax4.axhline(0, lw=1, ls='--', c='0.1')\n",
    "ax4.set_ylim(ax4.get_ylim()[0],0.13)\n",
    "ax4.set_xlabel('hour', fontsize=fontsize)\n",
    "#ax4.set_xticklabels(ax4.get_xticks())\n",
    "\n",
    "################################################################################\n",
    "################################################################################\n",
    "\n",
    "ax = fig.add_subplot(gs[:,0])\n",
    "ax.tick_params(labelsize=fontsize)\n",
    "loc1=1\n",
    "loc2=2\n",
    "loc3=3.25\n",
    "loc4=4.25\n",
    "barwidth = .9\n",
    "\n",
    "ax.set_xlim(loc1-.75,loc4+.75)\n",
    "ax.bar(loc1,raintot_diffs_400_PMtoAM_and_high*24.,fc=blue_cmap[-1],width=barwidth)\n",
    "ax.bar(loc1,raintot_diffs_400_AMtoPM_and_high*24.,bottom=raintot_diffs_400_PMtoAM_and_high*24.,fc=orange_cmap[-1],width=barwidth)\n",
    "ax.bar(loc2,raintot_diffs_1000_PMtoAM_and_high*24.,fc=blue_cmap[-3],width=barwidth)\n",
    "ax.bar(loc2,raintot_diffs_1000_AMtoPM_and_high*24.,bottom=raintot_diffs_1000_PMtoAM_and_high*24.,fc=orange_cmap[-3],width=barwidth)\n",
    "ax.set_xticklabels([])\n",
    "ax.set_xticks([loc1,loc2,loc3,loc4])\n",
    "ax.bar(loc3,raintot_diffs_400_PMtoAM_ama*24.,fc=blue_cmap[-1],width=barwidth)\n",
    "ax.bar(loc3,raintot_diffs_400_AMtoPM_ama*24.,bottom=raintot_diffs_400_PMtoAM_ama*24.,fc=orange_cmap[-1],width=barwidth)\n",
    "ax.bar(loc4,raintot_diffs_1000_PMtoAM_ama*24.,fc=blue_cmap[-3],width=barwidth)\n",
    "ax.bar(loc4,raintot_diffs_1000_AMtoPM_ama*24.,bottom=raintot_diffs_1000_PMtoAM_ama*24.,fc=orange_cmap[-3],width=barwidth)\n",
    "ax.set_yticks([0,5,10,15])\n",
    "ax.set_ylabel('mm day$^{\\,-1}$', fontsize=fontsize)\n",
    "ax.spines['top'].set_visible(False)\n",
    "ax.spines['right'].set_visible(False)\n",
    "ax.set_ylim(0,15)\n",
    "\n",
    "ax.set_xticklabels(['cont.','phys.','cont.','phys.'])\n",
    "ax.text(s='Andes',x=.5*(loc1+loc2),y=-1.75,fontsize=fontsize,ha='center',va='top')\n",
    "ax.text(s='Amazon',x=.5*(loc3+loc4),y=-1.75,fontsize=fontsize,ha='center',va='top')\n",
    "# PHYS RESPONSE\n",
    "# andes night\n",
    "fraction = raintot_diffs_1000_PMtoAM_and_high/(raintot_diffs_1000_AMtoPM_and_high+raintot_diffs_1000_PMtoAM_and_high)\n",
    "y0 = raintot_diffs_1000_PMtoAM_and_high*24\n",
    "ax.text(s='${:.0f}$'.format(fraction*100.)+'%',x=loc2,y=0.5*y0,ha='center',va='center',fontsize=fontsize,color='0.1')\n",
    "# andes day\n",
    "fraction = raintot_diffs_1000_AMtoPM_and_high/(raintot_diffs_1000_AMtoPM_and_high+raintot_diffs_1000_PMtoAM_and_high)\n",
    "y0 = raintot_diffs_1000_PMtoAM_and_high*24\n",
    "y1 = raintot_diffs_1000_AMtoPM_and_high*24\n",
    "ax.text(s='${:.0f}$'.format(fraction*100.)+'%',x=loc2,y=y0+0.5*y1,ha='center',va='center',fontsize=fontsize,color='0.1')\n",
    "# amazon night\n",
    "fraction = raintot_diffs_1000_PMtoAM_ama/(raintot_diffs_1000_AMtoPM_ama+raintot_diffs_1000_PMtoAM_ama)\n",
    "y0 = raintot_diffs_1000_PMtoAM_ama*24\n",
    "ax.text(s='${:.0f}$'.format(fraction*100.)+'%',x=loc4,y=0.5*y0,ha='center',va='center',fontsize=fontsize,color='0.1')\n",
    "# amazon day\n",
    "fraction = raintot_diffs_1000_AMtoPM_ama/(raintot_diffs_1000_AMtoPM_ama+raintot_diffs_1000_PMtoAM_ama)\n",
    "y0 = raintot_diffs_1000_PMtoAM_ama*24\n",
    "y1 = raintot_diffs_1000_AMtoPM_ama*24\n",
    "ax.text(s='${:.0f}$'.format(fraction*100.)+'%',x=loc4,y=y0+0.5*y1,ha='center',va='center',fontsize=fontsize,color='0.1')\n",
    "\n",
    "# CONTROL\n",
    "# andes night\n",
    "fraction = raintot_diffs_400_PMtoAM_and_high/(raintot_diffs_400_AMtoPM_and_high+raintot_diffs_400_PMtoAM_and_high)\n",
    "y0 = raintot_diffs_400_PMtoAM_and_high*24\n",
    "ax.text(s='${:.0f}$'.format(fraction*100.)+'%',x=loc1,y=0.5*y0,ha='center',va='center',fontsize=fontsize,color='0.8')\n",
    "# andes day\n",
    "fraction = raintot_diffs_400_AMtoPM_and_high/(raintot_diffs_400_AMtoPM_and_high+raintot_diffs_400_PMtoAM_and_high)\n",
    "y0 = raintot_diffs_400_PMtoAM_and_high*24\n",
    "y1 = raintot_diffs_400_AMtoPM_and_high*24\n",
    "ax.text(s='${:.0f}$'.format(fraction*100.)+'%',x=loc1,y=y0+0.5*y1,ha='center',va='center',fontsize=fontsize,color='0.8')\n",
    "# amazon night\n",
    "fraction = raintot_diffs_400_PMtoAM_ama/(raintot_diffs_400_AMtoPM_ama+raintot_diffs_400_PMtoAM_ama)\n",
    "y0 = raintot_diffs_400_PMtoAM_ama*24\n",
    "ax.text(s='${:.0f}$'.format(fraction*100.)+'%',x=loc3,y=0.5*y0,ha='center',va='center',fontsize=fontsize,color='0.8')\n",
    "# amazon day\n",
    "fraction = raintot_diffs_400_AMtoPM_ama/(raintot_diffs_400_AMtoPM_ama+raintot_diffs_400_PMtoAM_ama)\n",
    "y0 = raintot_diffs_400_PMtoAM_ama*24\n",
    "y1 = raintot_diffs_400_AMtoPM_ama*24\n",
    "ax.text(s='${:.0f}$'.format(fraction*100.)+'%',x=loc3,y=y0+0.5*y1,ha='center',va='center',fontsize=fontsize,color='0.8')\n",
    "\n",
    "# fraction for change\n",
    "# fraction = and_high_total_diff/raintot_diffs_400_timemean_and_high\n",
    "# y0 = raintot_diffs_400_PMtoAM_and_high*24\n",
    "# ax.text(s='${:.0f}$'.format(fraction*100.)+'%\\ninc.',x=loc1,y=y0,ha='center',va='center',fontsize=fontsize,color='.9')\n",
    "\n",
    "# fraction = -ama_total_diff/raintot_diffs_400_timemean_ama\n",
    "# y0 = raintot_diffs_400_PMtoAM_ama*24\n",
    "# ax.text(s='${:.0f}$'.format(fraction*100.)+'%\\ndec.',x=loc3,y=y0,ha='center',va='center',fontsize=fontsize,color='.9')\n",
    "\n",
    "handles = [mp.Rectangle((0,0),1,1) for i  in range(2)]\n",
    "colors = [[blue_cmap[-1],blue_cmap[-3]],[orange_cmap[-1],orange_cmap[-3]]]\n",
    "hmap = dict(zip(handles, [Handler(color_list[0],color_list[1]) for color_list in colors] ))\n",
    "labels = ['night', 'day']\n",
    "ax.legend(handles=handles, labels=labels, handler_map=hmap, fontsize=fontsize,\\\n",
    "          loc='upper right', bbox_to_anchor=(.95,.95), borderaxespad=0, labelspacing=0.5, fancybox=False, \\\n",
    "          edgecolor='0', framealpha=0, borderpad=0.25, handletextpad=0.5)\n",
    "\n",
    "mp.setp(ax1.get_xticklabels(), visible=False)\n",
    "mp.setp(ax2.get_xticklabels(), visible=False)\n",
    "mp.setp(ax3.get_xticklabels(), visible=False)\n",
    "\n",
    "#================================================================================\n",
    "fig.tight_layout()\n",
    "\n",
    "ax1pos = ax1.get_position()\n",
    "ax4pos = ax4.get_position()\n",
    "fig.text(s='mm hour$^{-1}$', x=ax1pos.x1+0.05, y=ax4pos.y0+(ax1pos.y1-ax4pos.y0)*0.5,\\\n",
    "         fontsize=fontsize, rotation=-90, transform=fig.transFigure, va='center', ha='left')\n",
    "\n",
    "gs.update(hspace=0.,wspace=0.05)\n",
    "\n",
    "ax1.text(s='Andes', x=275, y=ax1.get_ylim()[0],\\\n",
    "        ha='center',va='center',rotation=-90, fontsize=fontsize)\n",
    "\n",
    "ax3.text(s='Amazon', x=275, y=ax3.get_ylim()[0],\\\n",
    "        ha='center',va='center',rotation=-90, fontsize=fontsize)\n",
    "\n",
    "\n",
    "ax.text(s='(a) Mean regional precip.', x=0, y=1.02, fontsize=fontsize, ha='left', va='bottom', transform=ax.transAxes)\n",
    "ax1.text(s='(b)', x=0.055, y=0.95, ha='right', va='top', fontsize=fontsize, transform=ax1.transAxes)\n",
    "ax2.text(s='(c)', x=0.055, y=0.95, ha='right', va='top', fontsize=fontsize, transform=ax2.transAxes)\n",
    "ax3.text(s='(d)', x=0.055, y=0.95, ha='right', va='top', fontsize=fontsize, transform=ax3.transAxes)\n",
    "ax4.text(s='(e)', x=0.055, y=0.95, ha='right', va='top', fontsize=fontsize, transform=ax4.transAxes)\n",
    "\n",
    "fig.savefig('../figures/MAIN_fig04.pdf', bbox_inches='tight', transparent=True)\n",
    "\n"
   ]
  }
 ],
 "metadata": {
  "kernelspec": {
   "display_name": "Python 3",
   "language": "python",
   "name": "python3"
  },
  "language_info": {
   "codemirror_mode": {
    "name": "ipython",
    "version": 3
   },
   "file_extension": ".py",
   "mimetype": "text/x-python",
   "name": "python",
   "nbconvert_exporter": "python",
   "pygments_lexer": "ipython3",
   "version": "3.6.5"
  },
  "varInspector": {
   "cols": {
    "lenName": 16,
    "lenType": 16,
    "lenVar": 40
   },
   "kernels_config": {
    "python": {
     "delete_cmd_postfix": "",
     "delete_cmd_prefix": "del ",
     "library": "var_list.py",
     "varRefreshCmd": "print(var_dic_list())"
    },
    "r": {
     "delete_cmd_postfix": ") ",
     "delete_cmd_prefix": "rm(",
     "library": "var_list.r",
     "varRefreshCmd": "cat(var_dic_list()) "
    }
   },
   "types_to_exclude": [
    "module",
    "function",
    "builtin_function_or_method",
    "instance",
    "_Feature"
   ],
   "window_display": false
  }
 },
 "nbformat": 4,
 "nbformat_minor": 2
}
